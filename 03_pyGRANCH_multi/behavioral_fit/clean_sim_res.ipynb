{
 "cells": [
  {
   "cell_type": "code",
   "execution_count": 1,
   "metadata": {},
   "outputs": [],
   "source": [
    "import os\n",
    "import pickle\n",
    "import pandas as pd\n"
   ]
  },
  {
   "cell_type": "code",
   "execution_count": 13,
   "metadata": {},
   "outputs": [
    {
     "name": "stdout",
     "output_type": "stream",
     "text": [
      "['10-16-10:39:51.416-spore-adult.pickle', '10-16-10:38:43.596-spore-adult.pickle', '10-16-10:39:42.431-spore-adult.pickle', '10-16-10:40:25.975-spore-adult.pickle', '10-16-10:40:33.334-spore-adult.pickle', '10-16-10:38:37.284-spore-adult.pickle', '10-16-10:39:09.552-spore-adult.pickle', '10-16-10:38:58.698-spore-adult.pickle', '10-16-10:39:20.219-spore-adult.pickle', '10-16-10:38:45.329-spore-adult.pickle', '10-16-10:38:50.509-spore-adult.pickle', '10-16-10:40:09.961-spore-adult.pickle', '10-16-10:39:02.171-spore-adult.pickle', '10-16-10:39:26.433-spore-adult.pickle', '10-16-10:40:31.476-spore-adult.pickle', '10-16-10:40:11.650-spore-adult.pickle', '10-16-10:40:01.959-spore-adult.pickle', '10-16-10:40:29.695-spore-adult.pickle', '10-16-10:40:13.326-spore-adult.pickle', '10-16-10:40:05.324-spore-adult.pickle', '10-16-10:38:31.178-spore-adult.pickle', '10-16-10:39:13.080-spore-adult.pickle', '10-16-10:39:04.104-spore-adult.pickle', '10-16-10:38:25.524-spore-adult.pickle', '10-16-10:40:15.174-spore-adult.pickle', '10-16-10:38:46.314-spore-adult.pickle', '10-16-10:40:04.510-spore-adult.pickle', '10-16-10:40:12.482-spore-adult.pickle', '10-16-10:39:33.494-spore-adult.pickle', '10-16-10:38:22.916-spore-adult.pickle', '10-16-10:40:09.030-spore-adult.pickle', '10-16-10:40:27.953-spore-adult.pickle', '10-16-10:38:36.321-spore-adult.pickle', '10-16-10:38:56.685-spore-adult.pickle', '10-16-10:40:32.301-spore-adult.pickle', '10-16-10:40:10.813-spore-adult.pickle', '10-16-10:38:11.940-spore-adult.pickle', '10-16-10:39:34.494-spore-adult.pickle', '10-16-10:40:08.078-spore-adult.pickle', '10-16-10:40:26.896-spore-adult.pickle', '10-16-10:38:30.140-spore-adult.pickle', '10-16-10:38:17.346-spore-adult.pickle', '10-16-10:39:25.558-spore-adult.pickle', '10-16-10:39:24.739-spore-adult.pickle', '10-16-10:39:45.114-spore-adult.pickle', '10-16-10:39:08.748-spore-adult.pickle', '10-16-10:39:52.319-spore-adult.pickle', '10-16-10:39:19.342-spore-adult.pickle', '10-16-10:38:16.421-spore-adult.pickle', '10-16-10:39:22.010-spore-adult.pickle', '10-16-10:39:49.564-spore-adult.pickle', '10-16-10:38:57.725-spore-adult.pickle', '10-16-10:39:38.730-spore-adult.pickle', '10-16-10:40:06.244-spore-adult.pickle', '10-16-10:39:30.805-spore-adult.pickle', '10-16-10:39:05.117-spore-adult.pickle', '10-16-10:39:16.904-spore-adult.pickle', '10-16-10:38:59.532-spore-adult.pickle', '10-16-10:38:47.981-spore-adult.pickle', '10-16-10:39:47.700-spore-adult.pickle', '10-16-10:38:28.330-spore-adult.pickle', '10-16-10:39:29.093-spore-adult.pickle', '10-16-10:39:59.269-spore-adult.pickle', '10-16-10:39:53.971-spore-adult.pickle', '10-16-10:38:40.979-spore-adult.pickle', '10-16-10:39:29.934-spore-adult.pickle', '10-16-10:39:05.953-spore-adult.pickle', '10-16-10:39:39.630-spore-adult.pickle', '10-16-10:39:36.162-spore-adult.pickle', '10-16-10:38:20.916-spore-adult.pickle', '10-16-10:38:41.829-spore-adult.pickle', '10-16-10:38:33.901-spore-adult.pickle', '10-16-10:39:02.998-spore-adult.pickle', '10-16-10:39:44.230-spore-adult.pickle', '10-16-10:38:49.677-spore-adult.pickle', '10-16-10:38:26.439-spore-adult.pickle', '10-16-10:40:22.114-spore-adult.pickle', '10-16-10:40:02.849-spore-adult.pickle', '10-16-10:38:44.453-spore-adult.pickle', '10-16-10:40:23.075-spore-adult.pickle', '10-16-10:39:43.377-spore-adult.pickle', '10-16-10:38:39.930-spore-adult.pickle', '10-16-10:38:35.579-spore-adult.pickle', '10-16-10:40:24.055-spore-adult.pickle', '10-16-10:38:27.307-spore-adult.pickle', '10-16-10:39:15.898-spore-adult.pickle', '10-16-10:40:01.099-spore-adult.pickle', '10-16-10:38:48.845-spore-adult.pickle', '10-16-10:38:51.377-spore-adult.pickle', '10-16-10:38:11.075-spore-adult.pickle', '10-16-10:38:21.984-spore-adult.pickle', '10-16-10:38:24.657-spore-adult.pickle', '10-16-10:39:18.494-spore-adult.pickle', '10-16-10:38:32.069-spore-adult.pickle', '10-16-10:39:11.355-spore-adult.pickle', '10-16-10:39:31.677-spore-adult.pickle', '10-16-10:39:45.932-spore-adult.pickle', '10-16-10:38:54.030-spore-adult.pickle', '10-16-10:38:13.807-spore-adult.pickle', '10-16-10:38:34.783-spore-adult.pickle', '10-16-10:39:46.874-spore-adult.pickle', '10-16-10:39:35.262-spore-adult.pickle', '10-16-10:38:19.994-spore-adult.pickle', '10-16-10:38:55.789-spore-adult.pickle', '10-16-10:40:21.247-spore-adult.pickle', '10-16-10:39:32.556-spore-adult.pickle', '10-16-10:40:28.817-spore-adult.pickle', '10-16-10:39:28.205-spore-adult.pickle', '10-16-10:38:42.780-spore-adult.pickle', '10-16-10:39:00.450-spore-adult.pickle', '10-16-10:40:16.949-spore-adult.pickle', '10-16-10:38:53.165-spore-adult.pickle', '10-16-10:39:57.467-spore-adult.pickle', '10-16-10:38:23.771-spore-adult.pickle', '10-16-10:38:52.252-spore-adult.pickle', '10-16-10:40:00.230-spore-adult.pickle', '10-16-10:38:47.162-spore-adult.pickle', '10-16-10:40:03.668-spore-adult.pickle', '10-16-10:38:54.961-spore-adult.pickle', '10-16-10:40:19.493-spore-adult.pickle', '10-16-10:40:25.040-spore-adult.pickle', '10-16-10:39:54.800-spore-adult.pickle', '10-16-10:39:22.945-spore-adult.pickle', '10-16-10:39:53.121-spore-adult.pickle', '10-16-10:39:40.586-spore-adult.pickle', '10-16-10:38:18.156-spore-adult.pickle', '10-16-10:39:58.340-spore-adult.pickle', '10-16-10:39:56.542-spore-adult.pickle', '10-16-10:39:23.805-spore-adult.pickle', '10-16-10:39:14.906-spore-adult.pickle', '10-16-10:39:06.992-spore-adult.pickle', '10-16-10:39:37.026-spore-adult.pickle', '10-16-10:40:16.098-spore-adult.pickle', '10-16-10:38:33.004-spore-adult.pickle', '10-16-10:39:12.139-spore-adult.pickle', '10-16-10:39:07.881-spore-adult.pickle', '10-16-10:38:38.149-spore-adult.pickle', '10-16-10:39:10.484-spore-adult.pickle', '10-16-10:39:21.077-spore-adult.pickle', '10-16-10:39:48.649-spore-adult.pickle', '10-16-10:39:50.471-spore-adult.pickle', '10-16-10:38:15.621-spore-adult.pickle', '10-16-10:38:19.083-spore-adult.pickle', '10-16-10:38:13.028-spore-adult.pickle', '10-16-10:39:41.506-spore-adult.pickle', '10-16-10:38:39.079-spore-adult.pickle', '10-16-10:40:17.899-spore-adult.pickle', '10-16-10:40:20.371-spore-adult.pickle', '10-16-10:39:01.299-spore-adult.pickle', '10-16-10:39:27.363-spore-adult.pickle', '10-16-10:40:14.160-spore-adult.pickle', '10-16-10:40:07.124-spore-adult.pickle', '10-16-10:39:37.872-spore-adult.pickle', '10-16-10:39:17.683-spore-adult.pickle', '10-16-10:39:55.663-spore-adult.pickle', '10-16-10:40:30.537-spore-adult.pickle', '10-16-10:40:18.714-spore-adult.pickle', '10-16-10:38:14.667-spore-adult.pickle', '10-16-10:38:29.269-spore-adult.pickle', '10-16-10:39:14.014-spore-adult.pickle']\n"
     ]
    }
   ],
   "source": [
    "\n",
    "\n",
    "def load_and_concatenate_pickles(directory):\n",
    "    # List all files in the directory\n",
    "    files = [f for f in os.listdir(directory) if f.endswith('.pickle')]\n",
    "    print(files)\n",
    "    # Load and append each pickle file's content\n",
    "    data_list = []\n",
    "    for file in files:\n",
    "        with open(os.path.join(directory, file), 'rb') as f:\n",
    "            #data = pickle.load(f)\n",
    "            data = pd.read_pickle(f)\n",
    "            data['file_id'] = file\n",
    "            data_list.append(data)\n",
    "\n",
    "    # Concatenate all data (assuming they are pandas DataFrames)\n",
    "    concatenated_data = pd.concat(data_list, ignore_index=True)\n",
    "\n",
    "    return concatenated_data\n",
    "\n",
    "directory = 'cache_results/'\n",
    "result = load_and_concatenate_pickles(directory)\n"
   ]
  },
  {
   "cell_type": "code",
   "execution_count": 14,
   "metadata": {},
   "outputs": [],
   "source": [
    "# drop rows that cnontain empty values \n",
    "result_clean = result.dropna(subset=['surprisal'])\n",
    "\n",
    "\n",
    "\n",
    "#result_clean\n",
    "summarize_res = result_clean.groupby([\"j_i\", \"file_id\", \"stim_squence\", \"stimulus_id\", \"b_val\", \"d_val\", \"complexity_type\"]).size().reset_index(name='n')\n",
    "\n",
    "summarize_res\n",
    "summarize_res.to_csv(\"surprisal_test.csv\")"
   ]
  },
  {
   "cell_type": "code",
   "execution_count": null,
   "metadata": {},
   "outputs": [],
   "source": []
  }
 ],
 "metadata": {
  "kernelspec": {
   "display_name": "Python 3",
   "language": "python",
   "name": "python3"
  },
  "language_info": {
   "codemirror_mode": {
    "name": "ipython",
    "version": 3
   },
   "file_extension": ".py",
   "mimetype": "text/x-python",
   "name": "python",
   "nbconvert_exporter": "python",
   "pygments_lexer": "ipython3",
   "version": "3.10.5"
  },
  "orig_nbformat": 4
 },
 "nbformat": 4,
 "nbformat_minor": 2
}
