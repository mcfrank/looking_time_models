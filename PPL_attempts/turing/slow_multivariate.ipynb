{
 "cells": [
  {
   "cell_type": "code",
   "execution_count": 8,
   "metadata": {},
   "outputs": [
    {
     "name": "stderr",
     "output_type": "stream",
     "text": [
      "┌ Warning: [HMC] Progress logging in Turing is disabled since DynamicHMC provides its own progress meter\n",
      "└ @ Turing.Inference /Users/galraz1/.julia/packages/Turing/uAz5c/src/contrib/inference/dynamichmc.jl:130\n"
     ]
    },
    {
     "data": {
      "text/plain": [
       "false"
      ]
     },
     "metadata": {},
     "output_type": "display_data"
    }
   ],
   "source": [
    "using Turing, DynamicHMC, StatsPlots, Random, Distributions, StatsBase, LinearAlgebra, FillArrays, TruncatedDistributions\n",
    "\n",
    "Turing.setadbackend(:forwarddiff)\n",
    "Turing.setrdcache(false)"
   ]
  },
  {
   "cell_type": "code",
   "execution_count": 1,
   "metadata": {},
   "outputs": [
    {
     "data": {
      "text/plain": [
       "0.5"
      ]
     },
     "metadata": {},
     "output_type": "display_data"
    }
   ],
   "source": [
    "# Set the priors on mean and SD of the concept\n",
    "\n",
    "# mu\n",
    "μ_mean = 0.5\n",
    "μ_sd = 1\n",
    "\n",
    "# sd\n",
    "σ_alpha = 1\n",
    "σ_beta = 1\n",
    "\n",
    "# noise SD\n",
    "noise = 0.5"
   ]
  },
  {
   "cell_type": "code",
   "execution_count": 10,
   "metadata": {},
   "outputs": [
    {
     "data": {
      "text/plain": [
       "noisy_concept_learning (generic function with 1 method)"
      ]
     },
     "metadata": {},
     "output_type": "display_data"
    }
   ],
   "source": [
    "# Declare our Turing model.\n",
    "@model function noisy_concept_learning(model_input)\n",
    "\n",
    "    μ = Vector{Float64}(undef, model_input[:num_features])\n",
    "    σ = Vector{Float64}(undef, model_input[:num_features])\n",
    "    \n",
    "    # set mu & sigma\n",
    "    μ ~ MvNormal(Fill(model_input[:μ_mean], num_features), model_input[:μ_sd] * I)\n",
    "\n",
    "    for i in 1:model_input[:num_features]\n",
    "        σ[i] ~ Gamma(model_input[:σ_alpha], model_input[:σ_beta])\n",
    "    end\n",
    "\n",
    "    y = Vector{Float64}(undef, model_input[:num_exemplars])\n",
    "\n",
    "    # loop through y's\n",
    "    for i in 1:model_input[:num_exemplars]\n",
    "        y[i] ~ MvNormal(μ, 2)\n",
    "    end\n",
    "    \n",
    "    # loop through z's\n",
    "    for i in 1:model_input[:num_samples]\n",
    "        model_input[:data][i] ~ MvNormal(y[model_input[:cats][i]], model_input[:noise])\n",
    "    end\n",
    "\n",
    "    return μ, σ\n",
    "end"
   ]
  },
  {
   "cell_type": "code",
   "execution_count": 11,
   "metadata": {},
   "outputs": [
    {
     "data": {
      "text/plain": [
       "5-element Vector{Vector{Float64}}:\n",
       " [0.4183173787618039]\n",
       " [4.268978888922446]\n",
       " [1.9519211679323591]\n",
       " [1.6655777022678604]\n",
       " [0.5736902116708026]"
      ]
     },
     "metadata": {},
     "output_type": "display_data"
    }
   ],
   "source": [
    "# Set up data from a Bernoulli distribution, i.e. draw heads or tails.\n",
    "num_samples = 100\n",
    "num_exemplars = 5\n",
    "num_features = 1\n",
    "\n",
    "# Random initialization\n",
    "Random.seed!(1)\n",
    "idx_weights = fill(1/num_exemplars, num_exemplars)\n",
    "\n",
    "# generate Data\n",
    "exemplar_means = [0.8, 5.2, 1.2, 1.5, -0.4, 0.8];\n",
    "\n",
    "# multifeature means (currently same across features)\n",
    "exemplar_means = [fill(mean, num_features) for mean in exemplar_means];\n",
    "\n",
    "# check that there are enough exemplar means\n",
    "if length(exemplar_means) < num_exemplars\n",
    "    error(\"exemplar means less than num_exemplars\")\n",
    "end\n",
    "\n",
    "exemplar_idx = sample(1:num_exemplars, ProbabilityWeights(idx_weights), num_samples) \n",
    "\n",
    "# generate the data\n",
    "data = [rand(MultivariateNormal(exemplar_means[idx], μ_sd)) for idx in exemplar_idx]\n",
    "\n",
    "data[1:5]"
   ]
  },
  {
   "cell_type": "code",
   "execution_count": 12,
   "metadata": {},
   "outputs": [],
   "source": [
    "# construct dict for data argument:\n",
    "model_input = Dict(:μ_mean => μ_mean,\n",
    "                   :μ_sd => μ_sd,\n",
    "                   :σ_alpha => σ_alpha,\n",
    "                   :σ_beta => σ_beta,\n",
    "                   :noise => noise,\n",
    "                   :num_samples=>num_samples, \n",
    "                   :num_exemplars=>num_exemplars, \n",
    "                   :num_features=>num_features, \n",
    "                   :cats=>exemplar_idx, \n",
    "                   :data=>data);"
   ]
  },
  {
   "cell_type": "code",
   "execution_count": 14,
   "metadata": {},
   "outputs": [
    {
     "ename": "MethodError",
     "evalue": "MethodError: Cannot `convert` an object of type Vector{Float64} to an object of type Float64\nClosest candidates are:\n  convert(::Type{T}, !Matched::Gray24) where T<:Real at ~/.julia/packages/ColorTypes/6nE4g/src/conversions.jl:114\n  convert(::Type{T}, !Matched::Gray) where T<:Real at ~/.julia/packages/ColorTypes/6nE4g/src/conversions.jl:113\n  convert(::Type{R}, !Matched::T) where {R<:Real, T<:ReverseDiff.TrackedReal} at ~/.julia/packages/ReverseDiff/E4Tzn/src/tracked.jl:260\n  ...",
     "output_type": "error",
     "traceback": [
      "MethodError: Cannot `convert` an object of type Vector{Float64} to an object of type Float64\n",
      "Closest candidates are:\n",
      "  convert(::Type{T}, !Matched::Gray24) where T<:Real at ~/.julia/packages/ColorTypes/6nE4g/src/conversions.jl:114\n",
      "  convert(::Type{T}, !Matched::Gray) where T<:Real at ~/.julia/packages/ColorTypes/6nE4g/src/conversions.jl:113\n",
      "  convert(::Type{R}, !Matched::T) where {R<:Real, T<:ReverseDiff.TrackedReal} at ~/.julia/packages/ReverseDiff/E4Tzn/src/tracked.jl:260\n",
      "  ...\n",
      "\n",
      "Stacktrace:\n",
      "  [1] setindex!(A::Vector{Float64}, x::Vector{Float64}, i1::Int64)\n",
      "    @ Base ./array.jl:903\n",
      "  [2] #19\n",
      "    @ ~/Downloads/slow_multivariate.ipynb:17 [inlined]\n",
      "  [3] (::var\"#19#20\")(__rng__::Random._GLOBAL_RNG, __model__::DynamicPPL.Model{var\"#19#20\", (:model_input,), (), (), Tuple{Dict{Symbol, Any}}, Tuple{}}, __varinfo__::DynamicPPL.UntypedVarInfo{DynamicPPL.Metadata{Dict{AbstractPPL.VarName, Int64}, Vector{Distribution}, Vector{AbstractPPL.VarName}, Vector{Real}, Vector{Set{DynamicPPL.Selector}}}, Float64}, __sampler__::DynamicPPL.SampleFromUniform, __context__::DynamicPPL.DefaultContext, model_input::Dict{Symbol, Any})\n",
      "    @ Main ./none:0\n",
      "  [4] macro expansion\n",
      "    @ ~/.julia/packages/DynamicPPL/SgzCy/src/model.jl:0 [inlined]\n",
      "  [5] _evaluate\n",
      "    @ ~/.julia/packages/DynamicPPL/SgzCy/src/model.jl:154 [inlined]\n",
      "  [6] evaluate_threadunsafe\n",
      "    @ ~/.julia/packages/DynamicPPL/SgzCy/src/model.jl:127 [inlined]\n",
      "  [7] Model\n",
      "    @ ~/.julia/packages/DynamicPPL/SgzCy/src/model.jl:92 [inlined]\n",
      "  [8] DynamicPPL.VarInfo(rng::Random._GLOBAL_RNG, model::DynamicPPL.Model{var\"#19#20\", (:model_input,), (), (), Tuple{Dict{Symbol, Any}}, Tuple{}}, sampler::DynamicPPL.SampleFromUniform, context::DynamicPPL.DefaultContext)\n",
      "    @ DynamicPPL ~/.julia/packages/DynamicPPL/SgzCy/src/varinfo.jl:126\n",
      "  [9] VarInfo\n",
      "    @ ~/.julia/packages/DynamicPPL/SgzCy/src/varinfo.jl:125 [inlined]\n",
      " [10] step(rng::Random._GLOBAL_RNG, model::DynamicPPL.Model{var\"#19#20\", (:model_input,), (), (), Tuple{Dict{Symbol, Any}}, Tuple{}}, spl::DynamicPPL.Sampler{DynamicNUTS{Turing.Core.ForwardDiffAD{40}, ()}}; resume_from::Nothing, kwargs::Base.Pairs{Symbol, Int64, Tuple{Symbol}, NamedTuple{(:N,), Tuple{Int64}}})\n",
      "    @ DynamicPPL ~/.julia/packages/DynamicPPL/SgzCy/src/sampler.jl:73\n",
      " [11] macro expansion\n",
      "    @ ~/.julia/packages/AbstractMCMC/oou1a/src/sample.jl:97 [inlined]\n",
      " [12] macro expansion\n",
      "    @ ~/.julia/packages/AbstractMCMC/oou1a/src/logging.jl:15 [inlined]\n",
      " [13] mcmcsample(rng::Random._GLOBAL_RNG, model::DynamicPPL.Model{var\"#19#20\", (:model_input,), (), (), Tuple{Dict{Symbol, Any}}, Tuple{}}, sampler::DynamicPPL.Sampler{DynamicNUTS{Turing.Core.ForwardDiffAD{40}, ()}}, N::Int64; progress::Bool, progressname::String, callback::Nothing, discard_initial::Int64, thinning::Int64, chain_type::Type, kwargs::Base.Pairs{Symbol, Int64, Tuple{Symbol}, NamedTuple{(:N,), Tuple{Int64}}})\n",
      "    @ AbstractMCMC ~/.julia/packages/AbstractMCMC/oou1a/src/sample.jl:88\n",
      " [14] #sample#3\n",
      "    @ ~/.julia/packages/Turing/uAz5c/src/inference/Inference.jl:156 [inlined]\n",
      " [15] sample(rng::Random._GLOBAL_RNG, model::DynamicPPL.Model{var\"#19#20\", (:model_input,), (), (), Tuple{Dict{Symbol, Any}}, Tuple{}}, alg::DynamicNUTS{Turing.Core.ForwardDiffAD{40}, ()}, N::Int64; chain_type::Type, resume_from::Nothing, progress::Bool, kwargs::Base.Pairs{Symbol, Union{}, Tuple{}, NamedTuple{(), Tuple{}}})\n",
      "    @ Turing.Inference ~/.julia/packages/Turing/uAz5c/src/contrib/inference/dynamichmc.jl:133\n",
      " [16] sample\n",
      "    @ ~/.julia/packages/Turing/uAz5c/src/contrib/inference/dynamichmc.jl:129 [inlined]\n",
      " [17] #sample#1\n",
      "    @ ~/.julia/packages/Turing/uAz5c/src/inference/Inference.jl:132 [inlined]\n",
      " [18] sample(model::DynamicPPL.Model{var\"#19#20\", (:model_input,), (), (), Tuple{Dict{Symbol, Any}}, Tuple{}}, alg::DynamicNUTS{Turing.Core.ForwardDiffAD{40}, ()}, N::Int64)\n",
      "    @ Turing.Inference ~/.julia/packages/Turing/uAz5c/src/inference/Inference.jl:132\n",
      " [19] top-level scope\n",
      "    @ ./timing.jl:220 [inlined]\n",
      " [20] top-level scope\n",
      "    @ ~/Downloads/slow_multivariate.ipynb:0\n",
      " [21] eval\n",
      "    @ ./boot.jl:373 [inlined]\n",
      " [22] include_string(mapexpr::typeof(REPL.softscope), mod::Module, code::String, filename::String)\n",
      "    @ Base ./loading.jl:1196\n",
      " [23] #invokelatest#2\n",
      "    @ ./essentials.jl:716 [inlined]\n",
      " [24] invokelatest\n",
      "    @ ./essentials.jl:714 [inlined]\n",
      " [25] (::VSCodeServer.var\"#164#165\"{VSCodeServer.NotebookRunCellArguments, String})()\n",
      "    @ VSCodeServer ~/.vscode/extensions/julialang.language-julia-1.6.17/scripts/packages/VSCodeServer/src/serve_notebook.jl:19\n",
      " [26] withpath(f::VSCodeServer.var\"#164#165\"{VSCodeServer.NotebookRunCellArguments, String}, path::String)\n",
      "    @ VSCodeServer ~/.vscode/extensions/julialang.language-julia-1.6.17/scripts/packages/VSCodeServer/src/repl.jl:184\n",
      " [27] notebook_runcell_request(conn::VSCodeServer.JSONRPC.JSONRPCEndpoint{Base.PipeEndpoint, Base.PipeEndpoint}, params::VSCodeServer.NotebookRunCellArguments)\n",
      "    @ VSCodeServer ~/.vscode/extensions/julialang.language-julia-1.6.17/scripts/packages/VSCodeServer/src/serve_notebook.jl:13\n",
      " [28] dispatch_msg(x::VSCodeServer.JSONRPC.JSONRPCEndpoint{Base.PipeEndpoint, Base.PipeEndpoint}, dispatcher::VSCodeServer.JSONRPC.MsgDispatcher, msg::Dict{String, Any})\n",
      "    @ VSCodeServer.JSONRPC ~/.vscode/extensions/julialang.language-julia-1.6.17/scripts/packages/JSONRPC/src/typed.jl:67\n",
      " [29] serve_notebook(pipename::String, outputchannel_logger::Base.CoreLogging.SimpleLogger; crashreporting_pipename::String)\n",
      "    @ VSCodeServer ~/.vscode/extensions/julialang.language-julia-1.6.17/scripts/packages/VSCodeServer/src/serve_notebook.jl:136\n",
      " [30] top-level scope\n",
      "    @ ~/.vscode/extensions/julialang.language-julia-1.6.17/scripts/notebook/notebook.jl:32\n",
      " [31] include(mod::Module, _path::String)\n",
      "    @ Base ./Base.jl:418\n",
      " [32] exec_options(opts::Base.JLOptions)\n",
      "    @ Base ./client.jl:292\n",
      " [33] _start()\n",
      "    @ Base ./client.jl:495"
     ]
    }
   ],
   "source": [
    "# Settings of the Hamiltonian Monte Carlo (HMC) sampler.\n",
    "iterations = 1000\n",
    "ϵ = 0.05\n",
    "τ = 10\n",
    "\n",
    "# Start sampling.\n",
    "@time chain = sample(noisy_concept_learning(model_input), DynamicNUTS(), iterations)\n",
    "\n",
    "p = plot(chain)"
   ]
  }
 ],
 "metadata": {
  "interpreter": {
   "hash": "ebc52a4d1604481542b83e0c687e7f35e709782ccf89bb0cece1ac8b6348ca55"
  },
  "kernelspec": {
   "display_name": "Julia 1.7.2",
   "language": "julia",
   "name": "julia-1.7"
  },
  "language_info": {
   "file_extension": ".jl",
   "mimetype": "application/julia",
   "name": "julia",
   "version": "1.7.2"
  }
 },
 "nbformat": 4,
 "nbformat_minor": 2
}
