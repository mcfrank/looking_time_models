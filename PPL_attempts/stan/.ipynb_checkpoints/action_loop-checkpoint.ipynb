{
 "cells": [
  {
   "cell_type": "code",
   "execution_count": 94,
   "metadata": {},
   "outputs": [],
   "source": [
    "import pandas as pd\n",
    "import pickle\n",
    "import os\n",
    "import math\n",
    "import numpy as np\n",
    "import seaborn as sns\n",
    "import matplotlib.pyplot as plt\n",
    "import arviz\n",
    "import pystan\n",
    "import random\n",
    "from sklearn.neighbors import KernelDensity\n",
    "from scipy.spatial import cKDTree as KDTree\n",
    "from scipy.stats import multivariate_normal, gaussian_kde, entropy, gamma\n",
    "from fastkde import fastKDE\n",
    "from entropy_estimators import continuous\n",
    "import seaborn as sns\n",
    "from tqdm.auto import tqdm\n",
    "import seaborn as sns\n"
   ]
  },
  {
   "cell_type": "markdown",
   "metadata": {},
   "source": [
    "# Helper functions    "
   ]
  },
  {
   "cell_type": "code",
   "execution_count": 77,
   "metadata": {},
   "outputs": [],
   "source": [
    "def KLdivergence(x, y):\n",
    "    # Check the dimensions are consistent\n",
    "    x = np.atleast_2d(x)\n",
    "    y = np.atleast_2d(y)\n",
    "\n",
    "    n,d = x.shape\n",
    "    m,dy = y.shape\n",
    "\n",
    "    assert(d == dy)\n",
    "\n",
    "    # Build a KD tree representation of the samples and find the nearest neighbour\n",
    "    # of each point in x.\n",
    "    xtree = KDTree(x)\n",
    "    ytree = KDTree(y)\n",
    "\n",
    "  # Get the first two nearest neighbours for x, since the closest one is the\n",
    "  # sample itself.\n",
    "    thresh = 1e-4\n",
    "    r = xtree.query(x, k=100, eps=.01, p=2)[0]\n",
    "    r = r[np.arange(r.shape[0]), np.argmax(r > thresh, axis=1)] \n",
    "    s = ytree.query(x, k=100, eps=.01, p=2)[0]\n",
    "    s = s[np.arange(s.shape[0]), np.argmax(s > thresh, axis=1)]\n",
    "    \n",
    "    if math.isinf(-np.log(r/s).sum() * d / n + np.log(m / (n - 1.))):\n",
    "        a = 0;\n",
    "\n",
    "    # There is a mistake in the paper. In Eq. 14, the right side misses a negative sign\n",
    "    # on the first term of the right hand side.\n",
    "    return -np.log(r/s).sum() * d / n + np.log(m / (n - 1.))\n",
    "\n",
    "def kl_mvn(m0, S0, m1, S1):\n",
    " \n",
    "  # store inv diag covariance of S1 and diff between means\n",
    "  N = m0.shape[0]\n",
    "  iS1 = np.linalg.inv(S1)\n",
    "  diff = m1 - m0\n",
    "\n",
    "  # kl is made of three terms\n",
    "  tr_term   = np.trace(iS1 @ S0)\n",
    "  det_term  = np.log(np.linalg.det(S1)/np.linalg.det(S0)) #np.sum(np.log(S1)) - np.sum(np.log(S0))\n",
    "  quad_term = diff.T @ np.linalg.inv(S1) @ diff #np.sum( (diff*diff) * iS1, axis=1)\n",
    "  #print(tr_term,det_term,quad_term)\n",
    "  return .5 * (tr_term + det_term + quad_term - N) \n",
    "\n",
    "def surprisal(dist, sample):\n",
    "    kde = gaussian_kde(dist)\n",
    "    prob = kde.evaluate(sample)\n",
    "    return -np.log(prob)\n",
    "  "
   ]
  },
  {
   "cell_type": "markdown",
   "metadata": {},
   "source": [
    "Build model"
   ]
  },
  {
   "cell_type": "code",
   "execution_count": 78,
   "metadata": {},
   "outputs": [],
   "source": [
    "# whether to recompile the stan program\n",
    "DO_COMPILE = False\n",
    "\n",
    "# simple noise or prior on noise\n",
    "SIMPLE_NOISE = True\n",
    "\n",
    "# stan program path\n",
    "if SIMPLE_NOISE:\n",
    "    stan_path = 'multi_feature_simple_noise.stan'\n",
    "    pkl_file = 'model_simple_noise.pkl'\n",
    "else:\n",
    "    stan_path = 'multi_feature.stan'\n",
    "    pkl_file = 'model.pkl'\n",
    "\n",
    "\n",
    "def build_model(path, pkl_file=None, do_compile=True):\n",
    "    if do_compile:\n",
    "        sm = pystan.StanModel(file=path)\n",
    "        if pkl_file is not None:\n",
    "            with open(pkl_file, 'wb') as f:\n",
    "                pickle.dump(sm, f)\n",
    "\n",
    "    # if the program hasn't been complied, check that the file already exists\n",
    "    else: \n",
    "        if os.path.isfile(pkl_file):\n",
    "            sm = pickle.load(open(pkl_file, 'rb'))\n",
    "        else:\n",
    "            raise FileNotFoundError\n",
    "    return sm\n",
    "\n",
    "\n",
    "sm = build_model(path = stan_path, pkl_file='model_simple_noise.pkl', do_compile=DO_COMPILE)"
   ]
  },
  {
   "cell_type": "markdown",
   "metadata": {},
   "source": [
    "Model parameters"
   ]
  },
  {
   "cell_type": "code",
   "execution_count": 130,
   "metadata": {},
   "outputs": [],
   "source": [
    "# mu\n",
    "mu_mean = 0\n",
    "mu_sd = 0.5\n",
    "\n",
    "# sd\n",
    "sigma_alpha = 2\n",
    "sigma_beta = 2\n",
    "\n",
    "\n",
    "# lower bound of sigma prior\n",
    "lower_sigma_bound = 0.1\n",
    "\n",
    "# noise SD prior\n",
    "epsilon_alpha = 1\n",
    "epsilon_beta = 1\n",
    "\n",
    "# for simple noise \n",
    "noise = 0.1\n",
    "\n",
    "# environmental EIG\n",
    "env_info = 0.02"
   ]
  },
  {
   "cell_type": "markdown",
   "metadata": {},
   "source": [
    "Create data"
   ]
  },
  {
   "cell_type": "code",
   "execution_count": 132,
   "metadata": {},
   "outputs": [],
   "source": [
    "\n",
    "# number of stimuli\n",
    "sequence_length = 6\n",
    "\n",
    "# number of features \n",
    "num_features = 1\n",
    "\n",
    "# number of samples (max)\n",
    "num_samples = 3000\n",
    "\n",
    "# allocation of samples to exemplars\n",
    "exemplar_idx = np.repeat(np.arange(1, sequence_length+1), num_samples/sequence_length)\n",
    "\n",
    "# background / deviant mean values\n",
    "background = np.repeat(1, num_features)\n",
    "deviant = np.repeat(3, num_features)\n",
    "\n",
    "# perceptual noise\n",
    "sig = np.identity(num_features) * 0.1;\n",
    "\n",
    "# deviant position\n",
    "deviant_pos = 6\n",
    "\n",
    "# stimulus means\n",
    "exemplar_means = np.tile(background, (sequence_length, 1))\n",
    "exemplar_means[deviant_pos-1] = deviant"
   ]
  },
  {
   "cell_type": "markdown",
   "metadata": {},
   "source": [
    "Simulation parameters"
   ]
  },
  {
   "cell_type": "code",
   "execution_count": 133,
   "metadata": {},
   "outputs": [],
   "source": [
    "# number of iterations and warmup per model run\n",
    "num_iter = 20000\n",
    "num_warmup = 1000\n",
    "\n",
    "# number of total model runs\n",
    "num_model_runs = 3\n",
    "\n",
    "# how much to thin posteriors (value determines how we \"retain every nth sample\")\n",
    "thinning_factor = 1\n",
    "\n"
   ]
  },
  {
   "cell_type": "markdown",
   "metadata": {},
   "source": [
    "Initialize flags, variables, iterators "
   ]
  },
  {
   "cell_type": "code",
   "execution_count": 134,
   "metadata": {},
   "outputs": [],
   "source": [
    "# Flags \n",
    "sample = True\n",
    "policy = 'kl' # 'kl', 'surprisal', 'entropy' or 'eig'\n",
    "\n",
    "# Variables\n",
    "model_LT = np.zeros((num_model_runs, sequence_length))\n",
    "\n",
    "# prior parameters\n",
    "prior_mu = np.random.multivariate_normal(np.repeat(mu_mean, num_features), np.identity(num_features)*mu_sd, num_iter-num_warmup)\n",
    "\n",
    "prior_sigma = np.empty((num_iter-num_warmup, num_features))\n",
    "for i in np.arange(0, num_features):\n",
    "    \n",
    "    # compute truncated sigma prior\n",
    "    nrm=gamma.cdf(100, a = sigma_alpha, scale = 1/sigma_beta)- gamma.cdf(lower_sigma_bound, a = sigma_alpha, scale = 1/sigma_beta)\n",
    "    yr=np.random.rand(num_iter-num_warmup)*(nrm)+gamma.cdf(lower_sigma_bound,  a = sigma_alpha, scale = 1/sigma_beta)\n",
    "    prior_sigma[:,i] = gamma.ppf(yr, a = sigma_alpha, scale = 1/sigma_beta)\n",
    "    \n",
    "    \n",
    "prior_z_rep = np.empty((num_iter-num_warmup, num_features))\n",
    "for i in np.arange(0, num_iter-num_warmup):\n",
    "    prior_z_rep[i,:] = np.random.multivariate_normal(prior_mu[i,:], np.identity(num_features)*prior_sigma[i,:])\n",
    "\n",
    "prior = np.hstack((prior_mu[0:len(prior_mu):thinning_factor], prior_sigma[0:len(prior_sigma):thinning_factor]))\n",
    "\n",
    "data = {\"mu_mean\": mu_mean , \"mu_sd\": mu_sd, \"sigma_alpha\": sigma_alpha, \"sigma_beta\": sigma_beta, \n",
    "\"epsilon_alpha\": epsilon_alpha, \"epsilon_beta\": epsilon_beta, \"noise\": noise, \"F\": num_features}\n",
    "\n",
    "stim_info = np.empty((num_model_runs, num_samples))\n",
    "stim_info[:] = np.nan"
   ]
  },
  {
   "cell_type": "markdown",
   "metadata": {},
   "source": [
    "# Action loop"
   ]
  },
  {
   "cell_type": "code",
   "execution_count": 91,
   "metadata": {},
   "outputs": [
    {
     "name": "stderr",
     "output_type": "stream",
     "text": [
      "WARNING:pystan:88 of 19000 iterations ended with a divergence (0.463 %).\n",
      "WARNING:pystan:Try running with adapt_delta larger than 0.95 to remove the divergences.\n"
     ]
    },
    {
     "name": "stdout",
     "output_type": "stream",
     "text": [
      "\n",
      "Gradient evaluation took 1e-05 seconds\n",
      "1000 transitions using 10 leapfrog steps per transition would take 0.1 seconds.\n",
      "Adjust your expectations accordingly!\n",
      "\n",
      "\n",
      "Iteration:     1 / 20000 [  0%]  (Warmup)\n",
      "Iteration:  1001 / 20000 [  5%]  (Sampling)\n",
      "Iteration:  3000 / 20000 [ 15%]  (Sampling)\n",
      "Iteration:  5000 / 20000 [ 25%]  (Sampling)\n",
      "Iteration:  7000 / 20000 [ 35%]  (Sampling)\n",
      "Iteration:  9000 / 20000 [ 45%]  (Sampling)\n",
      "Iteration: 11000 / 20000 [ 55%]  (Sampling)\n",
      "Iteration: 13000 / 20000 [ 65%]  (Sampling)\n",
      "Iteration: 15000 / 20000 [ 75%]  (Sampling)\n",
      "Iteration: 17000 / 20000 [ 85%]  (Sampling)\n",
      "Iteration: 19000 / 20000 [ 95%]  (Sampling)\n",
      "Iteration: 20000 / 20000 [100%]  (Sampling)\n",
      "\n",
      " Elapsed Time: 0.021706 seconds (Warm-up)\n",
      "               0.448071 seconds (Sampling)\n",
      "               0.469777 seconds (Total)\n",
      "\n"
     ]
    },
    {
     "name": "stderr",
     "output_type": "stream",
     "text": [
      "Informational Message: The current Metropolis proposal is about to be rejected because of the following issue:\n",
      "Exception: normal_lpdf: Scale parameter is 0, but must be > 0!  (in 'multi_feature_simple_noise.stan' at line 36)\n",
      "\n",
      "If this warning occurs sporadically, such as for highly constrained variable types like covariance matrices, then the sampler is fine,\n",
      "but if this warning occurs often then your model may be either severely ill-conditioned or misspecified.\n",
      "\n",
      "WARNING:pystan:239 of 19000 iterations ended with a divergence (1.26 %).\n",
      "WARNING:pystan:Try running with adapt_delta larger than 0.95 to remove the divergences.\n"
     ]
    },
    {
     "name": "stdout",
     "output_type": "stream",
     "text": [
      "\n",
      "Gradient evaluation took 1e-05 seconds\n",
      "1000 transitions using 10 leapfrog steps per transition would take 0.1 seconds.\n",
      "Adjust your expectations accordingly!\n",
      "\n",
      "\n",
      "Iteration:     1 / 20000 [  0%]  (Warmup)\n",
      "Iteration:  1001 / 20000 [  5%]  (Sampling)\n",
      "Iteration:  3000 / 20000 [ 15%]  (Sampling)\n",
      "Iteration:  5000 / 20000 [ 25%]  (Sampling)\n",
      "Iteration:  7000 / 20000 [ 35%]  (Sampling)\n",
      "Iteration:  9000 / 20000 [ 45%]  (Sampling)\n",
      "Iteration: 11000 / 20000 [ 55%]  (Sampling)\n",
      "Iteration: 13000 / 20000 [ 65%]  (Sampling)\n",
      "Iteration: 15000 / 20000 [ 75%]  (Sampling)\n",
      "Iteration: 17000 / 20000 [ 85%]  (Sampling)\n",
      "Iteration: 19000 / 20000 [ 95%]  (Sampling)\n",
      "Iteration: 20000 / 20000 [100%]  (Sampling)\n",
      "\n",
      " Elapsed Time: 0.027846 seconds (Warm-up)\n",
      "               0.310463 seconds (Sampling)\n",
      "               0.338309 seconds (Total)\n",
      "\n"
     ]
    },
    {
     "name": "stderr",
     "output_type": "stream",
     "text": [
      "WARNING:pystan:69 of 19000 iterations ended with a divergence (0.363 %).\n",
      "WARNING:pystan:Try running with adapt_delta larger than 0.95 to remove the divergences.\n"
     ]
    },
    {
     "name": "stdout",
     "output_type": "stream",
     "text": [
      "\n",
      "Gradient evaluation took 9e-06 seconds\n",
      "1000 transitions using 10 leapfrog steps per transition would take 0.09 seconds.\n",
      "Adjust your expectations accordingly!\n",
      "\n",
      "\n",
      "Iteration:     1 / 20000 [  0%]  (Warmup)\n",
      "Iteration:  1001 / 20000 [  5%]  (Sampling)\n",
      "Iteration:  3000 / 20000 [ 15%]  (Sampling)\n",
      "Iteration:  5000 / 20000 [ 25%]  (Sampling)\n",
      "Iteration:  7000 / 20000 [ 35%]  (Sampling)\n",
      "Iteration:  9000 / 20000 [ 45%]  (Sampling)\n",
      "Iteration: 11000 / 20000 [ 55%]  (Sampling)\n",
      "Iteration: 13000 / 20000 [ 65%]  (Sampling)\n",
      "Iteration: 15000 / 20000 [ 75%]  (Sampling)\n",
      "Iteration: 17000 / 20000 [ 85%]  (Sampling)\n",
      "Iteration: 19000 / 20000 [ 95%]  (Sampling)\n",
      "Iteration: 20000 / 20000 [100%]  (Sampling)\n",
      "\n",
      " Elapsed Time: 0.030346 seconds (Warm-up)\n",
      "               0.504615 seconds (Sampling)\n",
      "               0.534961 seconds (Total)\n",
      "\n"
     ]
    },
    {
     "name": "stderr",
     "output_type": "stream",
     "text": [
      "WARNING:pystan:338 of 19000 iterations ended with a divergence (1.78 %).\n",
      "WARNING:pystan:Try running with adapt_delta larger than 0.95 to remove the divergences.\n"
     ]
    },
    {
     "name": "stdout",
     "output_type": "stream",
     "text": [
      "\n",
      "Gradient evaluation took 1e-05 seconds\n",
      "1000 transitions using 10 leapfrog steps per transition would take 0.1 seconds.\n",
      "Adjust your expectations accordingly!\n",
      "\n",
      "\n",
      "Iteration:     1 / 20000 [  0%]  (Warmup)\n",
      "Iteration:  1001 / 20000 [  5%]  (Sampling)\n",
      "Iteration:  3000 / 20000 [ 15%]  (Sampling)\n",
      "Iteration:  5000 / 20000 [ 25%]  (Sampling)\n",
      "Iteration:  7000 / 20000 [ 35%]  (Sampling)\n",
      "Iteration:  9000 / 20000 [ 45%]  (Sampling)\n",
      "Iteration: 11000 / 20000 [ 55%]  (Sampling)\n",
      "Iteration: 13000 / 20000 [ 65%]  (Sampling)\n",
      "Iteration: 15000 / 20000 [ 75%]  (Sampling)\n",
      "Iteration: 17000 / 20000 [ 85%]  (Sampling)\n",
      "Iteration: 19000 / 20000 [ 95%]  (Sampling)\n",
      "Iteration: 20000 / 20000 [100%]  (Sampling)\n",
      "\n",
      " Elapsed Time: 0.044095 seconds (Warm-up)\n",
      "               0.617099 seconds (Sampling)\n",
      "               0.661194 seconds (Total)\n",
      "\n"
     ]
    },
    {
     "name": "stderr",
     "output_type": "stream",
     "text": [
      "WARNING:pystan:3 of 19000 iterations ended with a divergence (0.0158 %).\n",
      "WARNING:pystan:Try running with adapt_delta larger than 0.95 to remove the divergences.\n"
     ]
    },
    {
     "name": "stdout",
     "output_type": "stream",
     "text": [
      "\n",
      "Gradient evaluation took 1e-05 seconds\n",
      "1000 transitions using 10 leapfrog steps per transition would take 0.1 seconds.\n",
      "Adjust your expectations accordingly!\n",
      "\n",
      "\n",
      "Iteration:     1 / 20000 [  0%]  (Warmup)\n",
      "Iteration:  1001 / 20000 [  5%]  (Sampling)\n",
      "Iteration:  3000 / 20000 [ 15%]  (Sampling)\n",
      "Iteration:  5000 / 20000 [ 25%]  (Sampling)\n",
      "Iteration:  7000 / 20000 [ 35%]  (Sampling)\n",
      "Iteration:  9000 / 20000 [ 45%]  (Sampling)\n",
      "Iteration: 11000 / 20000 [ 55%]  (Sampling)\n",
      "Iteration: 13000 / 20000 [ 65%]  (Sampling)\n",
      "Iteration: 15000 / 20000 [ 75%]  (Sampling)\n",
      "Iteration: 17000 / 20000 [ 85%]  (Sampling)\n",
      "Iteration: 19000 / 20000 [ 95%]  (Sampling)\n",
      "Iteration: 20000 / 20000 [100%]  (Sampling)\n",
      "\n",
      " Elapsed Time: 0.041645 seconds (Warm-up)\n",
      "               0.976371 seconds (Sampling)\n",
      "               1.01802 seconds (Total)\n",
      "\n"
     ]
    },
    {
     "name": "stderr",
     "output_type": "stream",
     "text": [
      "WARNING:pystan:2 of 19000 iterations ended with a divergence (0.0105 %).\n",
      "WARNING:pystan:Try running with adapt_delta larger than 0.95 to remove the divergences.\n"
     ]
    },
    {
     "name": "stdout",
     "output_type": "stream",
     "text": [
      "\n",
      "Gradient evaluation took 1e-05 seconds\n",
      "1000 transitions using 10 leapfrog steps per transition would take 0.1 seconds.\n",
      "Adjust your expectations accordingly!\n",
      "\n",
      "\n",
      "Iteration:     1 / 20000 [  0%]  (Warmup)\n",
      "Iteration:  1001 / 20000 [  5%]  (Sampling)\n",
      "Iteration:  3000 / 20000 [ 15%]  (Sampling)\n",
      "Iteration:  5000 / 20000 [ 25%]  (Sampling)\n",
      "Iteration:  7000 / 20000 [ 35%]  (Sampling)\n",
      "Iteration:  9000 / 20000 [ 45%]  (Sampling)\n",
      "Iteration: 11000 / 20000 [ 55%]  (Sampling)\n",
      "Iteration: 13000 / 20000 [ 65%]  (Sampling)\n",
      "Iteration: 15000 / 20000 [ 75%]  (Sampling)\n",
      "Iteration: 17000 / 20000 [ 85%]  (Sampling)\n",
      "Iteration: 19000 / 20000 [ 95%]  (Sampling)\n",
      "Iteration: 20000 / 20000 [100%]  (Sampling)\n",
      "\n",
      " Elapsed Time: 0.033947 seconds (Warm-up)\n",
      "               0.611888 seconds (Sampling)\n",
      "               0.645835 seconds (Total)\n",
      "\n",
      "\n",
      "Gradient evaluation took 1.2e-05 seconds\n",
      "1000 transitions using 10 leapfrog steps per transition would take 0.12 seconds.\n",
      "Adjust your expectations accordingly!\n",
      "\n",
      "\n",
      "Iteration:     1 / 20000 [  0%]  (Warmup)\n",
      "Iteration:  1001 / 20000 [  5%]  (Sampling)\n",
      "Iteration:  3000 / 20000 [ 15%]  (Sampling)\n",
      "Iteration:  5000 / 20000 [ 25%]  (Sampling)\n",
      "Iteration:  7000 / 20000 [ 35%]  (Sampling)\n",
      "Iteration:  9000 / 20000 [ 45%]  (Sampling)\n",
      "Iteration: 11000 / 20000 [ 55%]  (Sampling)\n",
      "Iteration: 13000 / 20000 [ 65%]  (Sampling)\n",
      "Iteration: 15000 / 20000 [ 75%]  (Sampling)\n",
      "Iteration: 17000 / 20000 [ 85%]  (Sampling)\n",
      "Iteration: 19000 / 20000 [ 95%]  (Sampling)\n",
      "Iteration: 20000 / 20000 [100%]  (Sampling)\n",
      "\n",
      " Elapsed Time: 0.036545 seconds (Warm-up)\n",
      "               0.639566 seconds (Sampling)\n",
      "               0.676111 seconds (Total)\n",
      "\n"
     ]
    },
    {
     "name": "stderr",
     "output_type": "stream",
     "text": [
      "Informational Message: The current Metropolis proposal is about to be rejected because of the following issue:\n",
      "Exception: normal_lpdf: Scale parameter is 0, but must be > 0!  (in 'multi_feature_simple_noise.stan' at line 36)\n",
      "\n",
      "If this warning occurs sporadically, such as for highly constrained variable types like covariance matrices, then the sampler is fine,\n",
      "but if this warning occurs often then your model may be either severely ill-conditioned or misspecified.\n",
      "\n",
      "WARNING:pystan:9 of 19000 iterations ended with a divergence (0.0474 %).\n",
      "WARNING:pystan:Try running with adapt_delta larger than 0.95 to remove the divergences.\n"
     ]
    },
    {
     "name": "stdout",
     "output_type": "stream",
     "text": [
      "\n",
      "Gradient evaluation took 1e-05 seconds\n",
      "1000 transitions using 10 leapfrog steps per transition would take 0.1 seconds.\n",
      "Adjust your expectations accordingly!\n",
      "\n",
      "\n",
      "Iteration:     1 / 20000 [  0%]  (Warmup)\n",
      "Iteration:  1001 / 20000 [  5%]  (Sampling)\n",
      "Iteration:  3000 / 20000 [ 15%]  (Sampling)\n",
      "Iteration:  5000 / 20000 [ 25%]  (Sampling)\n",
      "Iteration:  7000 / 20000 [ 35%]  (Sampling)\n",
      "Iteration:  9000 / 20000 [ 45%]  (Sampling)\n",
      "Iteration: 11000 / 20000 [ 55%]  (Sampling)\n",
      "Iteration: 13000 / 20000 [ 65%]  (Sampling)\n",
      "Iteration: 15000 / 20000 [ 75%]  (Sampling)\n",
      "Iteration: 17000 / 20000 [ 85%]  (Sampling)\n",
      "Iteration: 19000 / 20000 [ 95%]  (Sampling)\n",
      "Iteration: 20000 / 20000 [100%]  (Sampling)\n",
      "\n",
      " Elapsed Time: 0.035908 seconds (Warm-up)\n",
      "               0.559879 seconds (Sampling)\n",
      "               0.595787 seconds (Total)\n",
      "\n"
     ]
    },
    {
     "name": "stderr",
     "output_type": "stream",
     "text": [
      "WARNING:pystan:12 of 19000 iterations ended with a divergence (0.0632 %).\n",
      "WARNING:pystan:Try running with adapt_delta larger than 0.95 to remove the divergences.\n"
     ]
    },
    {
     "name": "stdout",
     "output_type": "stream",
     "text": [
      "\n",
      "Gradient evaluation took 1.2e-05 seconds\n",
      "1000 transitions using 10 leapfrog steps per transition would take 0.12 seconds.\n",
      "Adjust your expectations accordingly!\n",
      "\n",
      "\n",
      "Iteration:     1 / 20000 [  0%]  (Warmup)\n",
      "Iteration:  1001 / 20000 [  5%]  (Sampling)\n",
      "Iteration:  3000 / 20000 [ 15%]  (Sampling)\n",
      "Iteration:  5000 / 20000 [ 25%]  (Sampling)\n",
      "Iteration:  7000 / 20000 [ 35%]  (Sampling)\n",
      "Iteration:  9000 / 20000 [ 45%]  (Sampling)\n",
      "Iteration: 11000 / 20000 [ 55%]  (Sampling)\n",
      "Iteration: 13000 / 20000 [ 65%]  (Sampling)\n",
      "Iteration: 15000 / 20000 [ 75%]  (Sampling)\n",
      "Iteration: 17000 / 20000 [ 85%]  (Sampling)\n",
      "Iteration: 19000 / 20000 [ 95%]  (Sampling)\n",
      "Iteration: 20000 / 20000 [100%]  (Sampling)\n",
      "\n",
      " Elapsed Time: 0.037658 seconds (Warm-up)\n",
      "               0.587424 seconds (Sampling)\n",
      "               0.625082 seconds (Total)\n",
      "\n"
     ]
    },
    {
     "name": "stderr",
     "output_type": "stream",
     "text": [
      "WARNING:pystan:17 of 19000 iterations ended with a divergence (0.0895 %).\n",
      "WARNING:pystan:Try running with adapt_delta larger than 0.95 to remove the divergences.\n"
     ]
    },
    {
     "name": "stdout",
     "output_type": "stream",
     "text": [
      "\n",
      "Gradient evaluation took 1e-05 seconds\n",
      "1000 transitions using 10 leapfrog steps per transition would take 0.1 seconds.\n",
      "Adjust your expectations accordingly!\n",
      "\n",
      "\n",
      "Iteration:     1 / 20000 [  0%]  (Warmup)\n",
      "Iteration:  1001 / 20000 [  5%]  (Sampling)\n",
      "Iteration:  3000 / 20000 [ 15%]  (Sampling)\n",
      "Iteration:  5000 / 20000 [ 25%]  (Sampling)\n",
      "Iteration:  7000 / 20000 [ 35%]  (Sampling)\n",
      "Iteration:  9000 / 20000 [ 45%]  (Sampling)\n",
      "Iteration: 11000 / 20000 [ 55%]  (Sampling)\n",
      "Iteration: 13000 / 20000 [ 65%]  (Sampling)\n",
      "Iteration: 15000 / 20000 [ 75%]  (Sampling)\n",
      "Iteration: 17000 / 20000 [ 85%]  (Sampling)\n",
      "Iteration: 19000 / 20000 [ 95%]  (Sampling)\n",
      "Iteration: 20000 / 20000 [100%]  (Sampling)\n",
      "\n",
      " Elapsed Time: 0.044529 seconds (Warm-up)\n",
      "               0.670994 seconds (Sampling)\n",
      "               0.715523 seconds (Total)\n",
      "\n"
     ]
    },
    {
     "name": "stderr",
     "output_type": "stream",
     "text": [
      "WARNING:pystan:1 of 19000 iterations ended with a divergence (0.00526 %).\n",
      "WARNING:pystan:Try running with adapt_delta larger than 0.95 to remove the divergences.\n"
     ]
    },
    {
     "name": "stdout",
     "output_type": "stream",
     "text": [
      "\n",
      "Gradient evaluation took 1.1e-05 seconds\n",
      "1000 transitions using 10 leapfrog steps per transition would take 0.11 seconds.\n",
      "Adjust your expectations accordingly!\n",
      "\n",
      "\n",
      "Iteration:     1 / 20000 [  0%]  (Warmup)\n",
      "Iteration:  1001 / 20000 [  5%]  (Sampling)\n",
      "Iteration:  3000 / 20000 [ 15%]  (Sampling)\n",
      "Iteration:  5000 / 20000 [ 25%]  (Sampling)\n",
      "Iteration:  7000 / 20000 [ 35%]  (Sampling)\n",
      "Iteration:  9000 / 20000 [ 45%]  (Sampling)\n",
      "Iteration: 11000 / 20000 [ 55%]  (Sampling)\n",
      "Iteration: 13000 / 20000 [ 65%]  (Sampling)\n",
      "Iteration: 15000 / 20000 [ 75%]  (Sampling)\n",
      "Iteration: 17000 / 20000 [ 85%]  (Sampling)\n",
      "Iteration: 19000 / 20000 [ 95%]  (Sampling)\n",
      "Iteration: 20000 / 20000 [100%]  (Sampling)\n",
      "\n",
      " Elapsed Time: 0.040771 seconds (Warm-up)\n",
      "               0.675189 seconds (Sampling)\n",
      "               0.71596 seconds (Total)\n",
      "\n"
     ]
    },
    {
     "name": "stderr",
     "output_type": "stream",
     "text": [
      "WARNING:pystan:129 of 19000 iterations ended with a divergence (0.679 %).\n",
      "WARNING:pystan:Try running with adapt_delta larger than 0.95 to remove the divergences.\n"
     ]
    },
    {
     "name": "stdout",
     "output_type": "stream",
     "text": [
      "\n",
      "Gradient evaluation took 1e-05 seconds\n",
      "1000 transitions using 10 leapfrog steps per transition would take 0.1 seconds.\n",
      "Adjust your expectations accordingly!\n",
      "\n",
      "\n",
      "Iteration:     1 / 20000 [  0%]  (Warmup)\n",
      "Iteration:  1001 / 20000 [  5%]  (Sampling)\n",
      "Iteration:  3000 / 20000 [ 15%]  (Sampling)\n",
      "Iteration:  5000 / 20000 [ 25%]  (Sampling)\n",
      "Iteration:  7000 / 20000 [ 35%]  (Sampling)\n",
      "Iteration:  9000 / 20000 [ 45%]  (Sampling)\n",
      "Iteration: 11000 / 20000 [ 55%]  (Sampling)\n",
      "Iteration: 13000 / 20000 [ 65%]  (Sampling)\n",
      "Iteration: 15000 / 20000 [ 75%]  (Sampling)\n",
      "Iteration: 17000 / 20000 [ 85%]  (Sampling)\n",
      "Iteration: 19000 / 20000 [ 95%]  (Sampling)\n",
      "Iteration: 20000 / 20000 [100%]  (Sampling)\n",
      "\n",
      " Elapsed Time: 0.023801 seconds (Warm-up)\n",
      "               0.397246 seconds (Sampling)\n",
      "               0.421047 seconds (Total)\n",
      "\n"
     ]
    },
    {
     "name": "stderr",
     "output_type": "stream",
     "text": [
      "WARNING:pystan:99 of 19000 iterations ended with a divergence (0.521 %).\n",
      "WARNING:pystan:Try running with adapt_delta larger than 0.95 to remove the divergences.\n"
     ]
    },
    {
     "name": "stdout",
     "output_type": "stream",
     "text": [
      "\n",
      "Gradient evaluation took 1e-05 seconds\n",
      "1000 transitions using 10 leapfrog steps per transition would take 0.1 seconds.\n",
      "Adjust your expectations accordingly!\n",
      "\n",
      "\n",
      "Iteration:     1 / 20000 [  0%]  (Warmup)\n",
      "Iteration:  1001 / 20000 [  5%]  (Sampling)\n",
      "Iteration:  3000 / 20000 [ 15%]  (Sampling)\n",
      "Iteration:  5000 / 20000 [ 25%]  (Sampling)\n",
      "Iteration:  7000 / 20000 [ 35%]  (Sampling)\n",
      "Iteration:  9000 / 20000 [ 45%]  (Sampling)\n",
      "Iteration: 11000 / 20000 [ 55%]  (Sampling)\n",
      "Iteration: 13000 / 20000 [ 65%]  (Sampling)\n",
      "Iteration: 15000 / 20000 [ 75%]  (Sampling)\n",
      "Iteration: 17000 / 20000 [ 85%]  (Sampling)\n",
      "Iteration: 19000 / 20000 [ 95%]  (Sampling)\n",
      "Iteration: 20000 / 20000 [100%]  (Sampling)\n",
      "\n",
      " Elapsed Time: 0.024239 seconds (Warm-up)\n",
      "               0.423557 seconds (Sampling)\n",
      "               0.447796 seconds (Total)\n",
      "\n"
     ]
    },
    {
     "name": "stderr",
     "output_type": "stream",
     "text": [
      "WARNING:pystan:31 of 19000 iterations ended with a divergence (0.163 %).\n",
      "WARNING:pystan:Try running with adapt_delta larger than 0.95 to remove the divergences.\n"
     ]
    },
    {
     "name": "stdout",
     "output_type": "stream",
     "text": [
      "\n",
      "Gradient evaluation took 1e-05 seconds\n",
      "1000 transitions using 10 leapfrog steps per transition would take 0.1 seconds.\n",
      "Adjust your expectations accordingly!\n",
      "\n",
      "\n",
      "Iteration:     1 / 20000 [  0%]  (Warmup)\n",
      "Iteration:  1001 / 20000 [  5%]  (Sampling)\n",
      "Iteration:  3000 / 20000 [ 15%]  (Sampling)\n",
      "Iteration:  5000 / 20000 [ 25%]  (Sampling)\n",
      "Iteration:  7000 / 20000 [ 35%]  (Sampling)\n",
      "Iteration:  9000 / 20000 [ 45%]  (Sampling)\n",
      "Iteration: 11000 / 20000 [ 55%]  (Sampling)\n",
      "Iteration: 13000 / 20000 [ 65%]  (Sampling)\n",
      "Iteration: 15000 / 20000 [ 75%]  (Sampling)\n",
      "Iteration: 17000 / 20000 [ 85%]  (Sampling)\n",
      "Iteration: 19000 / 20000 [ 95%]  (Sampling)\n",
      "Iteration: 20000 / 20000 [100%]  (Sampling)\n",
      "\n",
      " Elapsed Time: 0.037117 seconds (Warm-up)\n",
      "               1.01742 seconds (Sampling)\n",
      "               1.05454 seconds (Total)\n",
      "\n"
     ]
    },
    {
     "name": "stderr",
     "output_type": "stream",
     "text": [
      "WARNING:pystan:306 of 19000 iterations ended with a divergence (1.61 %).\n",
      "WARNING:pystan:Try running with adapt_delta larger than 0.95 to remove the divergences.\n"
     ]
    },
    {
     "name": "stdout",
     "output_type": "stream",
     "text": [
      "\n",
      "Gradient evaluation took 1.3e-05 seconds\n",
      "1000 transitions using 10 leapfrog steps per transition would take 0.13 seconds.\n",
      "Adjust your expectations accordingly!\n",
      "\n",
      "\n",
      "Iteration:     1 / 20000 [  0%]  (Warmup)\n",
      "Iteration:  1001 / 20000 [  5%]  (Sampling)\n",
      "Iteration:  3000 / 20000 [ 15%]  (Sampling)\n",
      "Iteration:  5000 / 20000 [ 25%]  (Sampling)\n",
      "Iteration:  7000 / 20000 [ 35%]  (Sampling)\n",
      "Iteration:  9000 / 20000 [ 45%]  (Sampling)\n",
      "Iteration: 11000 / 20000 [ 55%]  (Sampling)\n",
      "Iteration: 13000 / 20000 [ 65%]  (Sampling)\n",
      "Iteration: 15000 / 20000 [ 75%]  (Sampling)\n",
      "Iteration: 17000 / 20000 [ 85%]  (Sampling)\n",
      "Iteration: 19000 / 20000 [ 95%]  (Sampling)\n",
      "Iteration: 20000 / 20000 [100%]  (Sampling)\n",
      "\n",
      " Elapsed Time: 0.049027 seconds (Warm-up)\n",
      "               0.742031 seconds (Sampling)\n",
      "               0.791058 seconds (Total)\n",
      "\n"
     ]
    },
    {
     "name": "stderr",
     "output_type": "stream",
     "text": [
      "WARNING:pystan:292 of 19000 iterations ended with a divergence (1.54 %).\n",
      "WARNING:pystan:Try running with adapt_delta larger than 0.95 to remove the divergences.\n"
     ]
    },
    {
     "name": "stdout",
     "output_type": "stream",
     "text": [
      "\n",
      "Gradient evaluation took 1.2e-05 seconds\n",
      "1000 transitions using 10 leapfrog steps per transition would take 0.12 seconds.\n",
      "Adjust your expectations accordingly!\n",
      "\n",
      "\n",
      "Iteration:     1 / 20000 [  0%]  (Warmup)\n",
      "Iteration:  1001 / 20000 [  5%]  (Sampling)\n",
      "Iteration:  3000 / 20000 [ 15%]  (Sampling)\n",
      "Iteration:  5000 / 20000 [ 25%]  (Sampling)\n",
      "Iteration:  7000 / 20000 [ 35%]  (Sampling)\n",
      "Iteration:  9000 / 20000 [ 45%]  (Sampling)\n",
      "Iteration: 11000 / 20000 [ 55%]  (Sampling)\n",
      "Iteration: 13000 / 20000 [ 65%]  (Sampling)\n",
      "Iteration: 15000 / 20000 [ 75%]  (Sampling)\n",
      "Iteration: 17000 / 20000 [ 85%]  (Sampling)\n",
      "Iteration: 19000 / 20000 [ 95%]  (Sampling)\n",
      "Iteration: 20000 / 20000 [100%]  (Sampling)\n",
      "\n",
      " Elapsed Time: 0.039097 seconds (Warm-up)\n",
      "               0.558441 seconds (Sampling)\n",
      "               0.597538 seconds (Total)\n",
      "\n"
     ]
    },
    {
     "name": "stderr",
     "output_type": "stream",
     "text": [
      "WARNING:pystan:37 of 19000 iterations ended with a divergence (0.195 %).\n",
      "WARNING:pystan:Try running with adapt_delta larger than 0.95 to remove the divergences.\n"
     ]
    },
    {
     "name": "stdout",
     "output_type": "stream",
     "text": [
      "\n",
      "Gradient evaluation took 1e-05 seconds\n",
      "1000 transitions using 10 leapfrog steps per transition would take 0.1 seconds.\n",
      "Adjust your expectations accordingly!\n",
      "\n",
      "\n",
      "Iteration:     1 / 20000 [  0%]  (Warmup)\n",
      "Iteration:  1001 / 20000 [  5%]  (Sampling)\n",
      "Iteration:  3000 / 20000 [ 15%]  (Sampling)\n",
      "Iteration:  5000 / 20000 [ 25%]  (Sampling)\n",
      "Iteration:  7000 / 20000 [ 35%]  (Sampling)\n",
      "Iteration:  9000 / 20000 [ 45%]  (Sampling)\n",
      "Iteration: 11000 / 20000 [ 55%]  (Sampling)\n",
      "Iteration: 13000 / 20000 [ 65%]  (Sampling)\n",
      "Iteration: 15000 / 20000 [ 75%]  (Sampling)\n",
      "Iteration: 17000 / 20000 [ 85%]  (Sampling)\n",
      "Iteration: 19000 / 20000 [ 95%]  (Sampling)\n",
      "Iteration: 20000 / 20000 [100%]  (Sampling)\n",
      "\n",
      " Elapsed Time: 0.042296 seconds (Warm-up)\n",
      "               0.65893 seconds (Sampling)\n",
      "               0.701226 seconds (Total)\n",
      "\n"
     ]
    },
    {
     "name": "stderr",
     "output_type": "stream",
     "text": [
      "WARNING:pystan:26 of 19000 iterations ended with a divergence (0.137 %).\n",
      "WARNING:pystan:Try running with adapt_delta larger than 0.95 to remove the divergences.\n"
     ]
    },
    {
     "name": "stdout",
     "output_type": "stream",
     "text": [
      "\n",
      "Gradient evaluation took 1e-05 seconds\n",
      "1000 transitions using 10 leapfrog steps per transition would take 0.1 seconds.\n",
      "Adjust your expectations accordingly!\n",
      "\n",
      "\n",
      "Iteration:     1 / 20000 [  0%]  (Warmup)\n",
      "Iteration:  1001 / 20000 [  5%]  (Sampling)\n",
      "Iteration:  3000 / 20000 [ 15%]  (Sampling)\n",
      "Iteration:  5000 / 20000 [ 25%]  (Sampling)\n",
      "Iteration:  7000 / 20000 [ 35%]  (Sampling)\n",
      "Iteration:  9000 / 20000 [ 45%]  (Sampling)\n",
      "Iteration: 11000 / 20000 [ 55%]  (Sampling)\n",
      "Iteration: 13000 / 20000 [ 65%]  (Sampling)\n",
      "Iteration: 15000 / 20000 [ 75%]  (Sampling)\n",
      "Iteration: 17000 / 20000 [ 85%]  (Sampling)\n",
      "Iteration: 19000 / 20000 [ 95%]  (Sampling)\n",
      "Iteration: 20000 / 20000 [100%]  (Sampling)\n",
      "\n",
      " Elapsed Time: 0.038143 seconds (Warm-up)\n",
      "               0.515378 seconds (Sampling)\n",
      "               0.553521 seconds (Total)\n",
      "\n"
     ]
    },
    {
     "name": "stderr",
     "output_type": "stream",
     "text": [
      "WARNING:pystan:66 of 19000 iterations ended with a divergence (0.347 %).\n",
      "WARNING:pystan:Try running with adapt_delta larger than 0.95 to remove the divergences.\n"
     ]
    },
    {
     "name": "stdout",
     "output_type": "stream",
     "text": [
      "\n",
      "Gradient evaluation took 1e-05 seconds\n",
      "1000 transitions using 10 leapfrog steps per transition would take 0.1 seconds.\n",
      "Adjust your expectations accordingly!\n",
      "\n",
      "\n",
      "Iteration:     1 / 20000 [  0%]  (Warmup)\n",
      "Iteration:  1001 / 20000 [  5%]  (Sampling)\n",
      "Iteration:  3000 / 20000 [ 15%]  (Sampling)\n",
      "Iteration:  5000 / 20000 [ 25%]  (Sampling)\n",
      "Iteration:  7000 / 20000 [ 35%]  (Sampling)\n",
      "Iteration:  9000 / 20000 [ 45%]  (Sampling)\n",
      "Iteration: 11000 / 20000 [ 55%]  (Sampling)\n",
      "Iteration: 13000 / 20000 [ 65%]  (Sampling)\n",
      "Iteration: 15000 / 20000 [ 75%]  (Sampling)\n",
      "Iteration: 17000 / 20000 [ 85%]  (Sampling)\n",
      "Iteration: 19000 / 20000 [ 95%]  (Sampling)\n",
      "Iteration: 20000 / 20000 [100%]  (Sampling)\n",
      "\n",
      " Elapsed Time: 0.043049 seconds (Warm-up)\n",
      "               0.578757 seconds (Sampling)\n",
      "               0.621806 seconds (Total)\n",
      "\n"
     ]
    },
    {
     "name": "stderr",
     "output_type": "stream",
     "text": [
      "WARNING:pystan:20 of 19000 iterations ended with a divergence (0.105 %).\n",
      "WARNING:pystan:Try running with adapt_delta larger than 0.95 to remove the divergences.\n"
     ]
    },
    {
     "name": "stdout",
     "output_type": "stream",
     "text": [
      "\n",
      "Gradient evaluation took 1e-05 seconds\n",
      "1000 transitions using 10 leapfrog steps per transition would take 0.1 seconds.\n",
      "Adjust your expectations accordingly!\n",
      "\n",
      "\n",
      "Iteration:     1 / 20000 [  0%]  (Warmup)\n",
      "Iteration:  1001 / 20000 [  5%]  (Sampling)\n",
      "Iteration:  3000 / 20000 [ 15%]  (Sampling)\n",
      "Iteration:  5000 / 20000 [ 25%]  (Sampling)\n",
      "Iteration:  7000 / 20000 [ 35%]  (Sampling)\n",
      "Iteration:  9000 / 20000 [ 45%]  (Sampling)\n",
      "Iteration: 11000 / 20000 [ 55%]  (Sampling)\n",
      "Iteration: 13000 / 20000 [ 65%]  (Sampling)\n",
      "Iteration: 15000 / 20000 [ 75%]  (Sampling)\n",
      "Iteration: 17000 / 20000 [ 85%]  (Sampling)\n",
      "Iteration: 19000 / 20000 [ 95%]  (Sampling)\n",
      "Iteration: 20000 / 20000 [100%]  (Sampling)\n",
      "\n",
      " Elapsed Time: 0.045987 seconds (Warm-up)\n",
      "               0.779964 seconds (Sampling)\n",
      "               0.825951 seconds (Total)\n",
      "\n"
     ]
    },
    {
     "name": "stderr",
     "output_type": "stream",
     "text": [
      "WARNING:pystan:43 of 19000 iterations ended with a divergence (0.226 %).\n",
      "WARNING:pystan:Try running with adapt_delta larger than 0.95 to remove the divergences.\n"
     ]
    },
    {
     "name": "stdout",
     "output_type": "stream",
     "text": [
      "\n",
      "Gradient evaluation took 1e-05 seconds\n",
      "1000 transitions using 10 leapfrog steps per transition would take 0.1 seconds.\n",
      "Adjust your expectations accordingly!\n",
      "\n",
      "\n",
      "Iteration:     1 / 20000 [  0%]  (Warmup)\n",
      "Iteration:  1001 / 20000 [  5%]  (Sampling)\n",
      "Iteration:  3000 / 20000 [ 15%]  (Sampling)\n",
      "Iteration:  5000 / 20000 [ 25%]  (Sampling)\n",
      "Iteration:  7000 / 20000 [ 35%]  (Sampling)\n",
      "Iteration:  9000 / 20000 [ 45%]  (Sampling)\n",
      "Iteration: 11000 / 20000 [ 55%]  (Sampling)\n",
      "Iteration: 13000 / 20000 [ 65%]  (Sampling)\n",
      "Iteration: 15000 / 20000 [ 75%]  (Sampling)\n",
      "Iteration: 17000 / 20000 [ 85%]  (Sampling)\n",
      "Iteration: 19000 / 20000 [ 95%]  (Sampling)\n",
      "Iteration: 20000 / 20000 [100%]  (Sampling)\n",
      "\n",
      " Elapsed Time: 0.045756 seconds (Warm-up)\n",
      "               0.672577 seconds (Sampling)\n",
      "               0.718333 seconds (Total)\n",
      "\n"
     ]
    },
    {
     "name": "stderr",
     "output_type": "stream",
     "text": [
      "WARNING:pystan:57 of 19000 iterations ended with a divergence (0.3 %).\n",
      "WARNING:pystan:Try running with adapt_delta larger than 0.95 to remove the divergences.\n"
     ]
    },
    {
     "name": "stdout",
     "output_type": "stream",
     "text": [
      "\n",
      "Gradient evaluation took 1e-05 seconds\n",
      "1000 transitions using 10 leapfrog steps per transition would take 0.1 seconds.\n",
      "Adjust your expectations accordingly!\n",
      "\n",
      "\n",
      "Iteration:     1 / 20000 [  0%]  (Warmup)\n",
      "Iteration:  1001 / 20000 [  5%]  (Sampling)\n",
      "Iteration:  3000 / 20000 [ 15%]  (Sampling)\n",
      "Iteration:  5000 / 20000 [ 25%]  (Sampling)\n",
      "Iteration:  7000 / 20000 [ 35%]  (Sampling)\n",
      "Iteration:  9000 / 20000 [ 45%]  (Sampling)\n",
      "Iteration: 11000 / 20000 [ 55%]  (Sampling)\n",
      "Iteration: 13000 / 20000 [ 65%]  (Sampling)\n",
      "Iteration: 15000 / 20000 [ 75%]  (Sampling)\n",
      "Iteration: 17000 / 20000 [ 85%]  (Sampling)\n",
      "Iteration: 19000 / 20000 [ 95%]  (Sampling)\n",
      "Iteration: 20000 / 20000 [100%]  (Sampling)\n",
      "\n",
      " Elapsed Time: 0.051091 seconds (Warm-up)\n",
      "               0.706477 seconds (Sampling)\n",
      "               0.757568 seconds (Total)\n",
      "\n"
     ]
    },
    {
     "name": "stderr",
     "output_type": "stream",
     "text": [
      "WARNING:pystan:23 of 19000 iterations ended with a divergence (0.121 %).\n",
      "WARNING:pystan:Try running with adapt_delta larger than 0.95 to remove the divergences.\n"
     ]
    },
    {
     "name": "stdout",
     "output_type": "stream",
     "text": [
      "\n",
      "Gradient evaluation took 1e-05 seconds\n",
      "1000 transitions using 10 leapfrog steps per transition would take 0.1 seconds.\n",
      "Adjust your expectations accordingly!\n",
      "\n",
      "\n",
      "Iteration:     1 / 20000 [  0%]  (Warmup)\n",
      "Iteration:  1001 / 20000 [  5%]  (Sampling)\n",
      "Iteration:  3000 / 20000 [ 15%]  (Sampling)\n",
      "Iteration:  5000 / 20000 [ 25%]  (Sampling)\n",
      "Iteration:  7000 / 20000 [ 35%]  (Sampling)\n",
      "Iteration:  9000 / 20000 [ 45%]  (Sampling)\n",
      "Iteration: 11000 / 20000 [ 55%]  (Sampling)\n",
      "Iteration: 13000 / 20000 [ 65%]  (Sampling)\n",
      "Iteration: 15000 / 20000 [ 75%]  (Sampling)\n",
      "Iteration: 17000 / 20000 [ 85%]  (Sampling)\n",
      "Iteration: 19000 / 20000 [ 95%]  (Sampling)\n",
      "Iteration: 20000 / 20000 [100%]  (Sampling)\n",
      "\n",
      " Elapsed Time: 0.020872 seconds (Warm-up)\n",
      "               0.300361 seconds (Sampling)\n",
      "               0.321233 seconds (Total)\n",
      "\n"
     ]
    },
    {
     "name": "stderr",
     "output_type": "stream",
     "text": [
      "WARNING:pystan:53 of 19000 iterations ended with a divergence (0.279 %).\n",
      "WARNING:pystan:Try running with adapt_delta larger than 0.95 to remove the divergences.\n"
     ]
    },
    {
     "name": "stdout",
     "output_type": "stream",
     "text": [
      "\n",
      "Gradient evaluation took 1e-05 seconds\n",
      "1000 transitions using 10 leapfrog steps per transition would take 0.1 seconds.\n",
      "Adjust your expectations accordingly!\n",
      "\n",
      "\n",
      "Iteration:     1 / 20000 [  0%]  (Warmup)\n",
      "Iteration:  1001 / 20000 [  5%]  (Sampling)\n",
      "Iteration:  3000 / 20000 [ 15%]  (Sampling)\n",
      "Iteration:  5000 / 20000 [ 25%]  (Sampling)\n",
      "Iteration:  7000 / 20000 [ 35%]  (Sampling)\n",
      "Iteration:  9000 / 20000 [ 45%]  (Sampling)\n",
      "Iteration: 11000 / 20000 [ 55%]  (Sampling)\n",
      "Iteration: 13000 / 20000 [ 65%]  (Sampling)\n",
      "Iteration: 15000 / 20000 [ 75%]  (Sampling)\n",
      "Iteration: 17000 / 20000 [ 85%]  (Sampling)\n",
      "Iteration: 19000 / 20000 [ 95%]  (Sampling)\n",
      "Iteration: 20000 / 20000 [100%]  (Sampling)\n",
      "\n",
      " Elapsed Time: 0.024279 seconds (Warm-up)\n",
      "               0.370033 seconds (Sampling)\n",
      "               0.394312 seconds (Total)\n",
      "\n"
     ]
    },
    {
     "name": "stderr",
     "output_type": "stream",
     "text": [
      "WARNING:pystan:53 of 19000 iterations ended with a divergence (0.279 %).\n",
      "WARNING:pystan:Try running with adapt_delta larger than 0.95 to remove the divergences.\n"
     ]
    },
    {
     "name": "stdout",
     "output_type": "stream",
     "text": [
      "\n",
      "Gradient evaluation took 1e-05 seconds\n",
      "1000 transitions using 10 leapfrog steps per transition would take 0.1 seconds.\n",
      "Adjust your expectations accordingly!\n",
      "\n",
      "\n",
      "Iteration:     1 / 20000 [  0%]  (Warmup)\n",
      "Iteration:  1001 / 20000 [  5%]  (Sampling)\n",
      "Iteration:  3000 / 20000 [ 15%]  (Sampling)\n",
      "Iteration:  5000 / 20000 [ 25%]  (Sampling)\n",
      "Iteration:  7000 / 20000 [ 35%]  (Sampling)\n",
      "Iteration:  9000 / 20000 [ 45%]  (Sampling)\n",
      "Iteration: 11000 / 20000 [ 55%]  (Sampling)\n",
      "Iteration: 13000 / 20000 [ 65%]  (Sampling)\n",
      "Iteration: 15000 / 20000 [ 75%]  (Sampling)\n",
      "Iteration: 17000 / 20000 [ 85%]  (Sampling)\n",
      "Iteration: 19000 / 20000 [ 95%]  (Sampling)\n",
      "Iteration: 20000 / 20000 [100%]  (Sampling)\n",
      "\n",
      " Elapsed Time: 0.02447 seconds (Warm-up)\n",
      "               0.439822 seconds (Sampling)\n",
      "               0.464292 seconds (Total)\n",
      "\n"
     ]
    },
    {
     "name": "stderr",
     "output_type": "stream",
     "text": [
      "WARNING:pystan:63 of 19000 iterations ended with a divergence (0.332 %).\n",
      "WARNING:pystan:Try running with adapt_delta larger than 0.95 to remove the divergences.\n"
     ]
    },
    {
     "name": "stdout",
     "output_type": "stream",
     "text": [
      "\n",
      "Gradient evaluation took 1.1e-05 seconds\n",
      "1000 transitions using 10 leapfrog steps per transition would take 0.11 seconds.\n",
      "Adjust your expectations accordingly!\n",
      "\n",
      "\n",
      "Iteration:     1 / 20000 [  0%]  (Warmup)\n",
      "Iteration:  1001 / 20000 [  5%]  (Sampling)\n",
      "Iteration:  3000 / 20000 [ 15%]  (Sampling)\n",
      "Iteration:  5000 / 20000 [ 25%]  (Sampling)\n",
      "Iteration:  7000 / 20000 [ 35%]  (Sampling)\n",
      "Iteration:  9000 / 20000 [ 45%]  (Sampling)\n",
      "Iteration: 11000 / 20000 [ 55%]  (Sampling)\n",
      "Iteration: 13000 / 20000 [ 65%]  (Sampling)\n",
      "Iteration: 15000 / 20000 [ 75%]  (Sampling)\n",
      "Iteration: 17000 / 20000 [ 85%]  (Sampling)\n",
      "Iteration: 19000 / 20000 [ 95%]  (Sampling)\n",
      "Iteration: 20000 / 20000 [100%]  (Sampling)\n",
      "\n",
      " Elapsed Time: 0.029638 seconds (Warm-up)\n",
      "               0.402747 seconds (Sampling)\n",
      "               0.432385 seconds (Total)\n",
      "\n"
     ]
    },
    {
     "name": "stderr",
     "output_type": "stream",
     "text": [
      "WARNING:pystan:352 of 19000 iterations ended with a divergence (1.85 %).\n",
      "WARNING:pystan:Try running with adapt_delta larger than 0.95 to remove the divergences.\n"
     ]
    },
    {
     "name": "stdout",
     "output_type": "stream",
     "text": [
      "\n",
      "Gradient evaluation took 1e-05 seconds\n",
      "1000 transitions using 10 leapfrog steps per transition would take 0.1 seconds.\n",
      "Adjust your expectations accordingly!\n",
      "\n",
      "\n",
      "Iteration:     1 / 20000 [  0%]  (Warmup)\n",
      "Iteration:  1001 / 20000 [  5%]  (Sampling)\n",
      "Iteration:  3000 / 20000 [ 15%]  (Sampling)\n",
      "Iteration:  5000 / 20000 [ 25%]  (Sampling)\n",
      "Iteration:  7000 / 20000 [ 35%]  (Sampling)\n",
      "Iteration:  9000 / 20000 [ 45%]  (Sampling)\n",
      "Iteration: 11000 / 20000 [ 55%]  (Sampling)\n",
      "Iteration: 13000 / 20000 [ 65%]  (Sampling)\n",
      "Iteration: 15000 / 20000 [ 75%]  (Sampling)\n",
      "Iteration: 17000 / 20000 [ 85%]  (Sampling)\n",
      "Iteration: 19000 / 20000 [ 95%]  (Sampling)\n",
      "Iteration: 20000 / 20000 [100%]  (Sampling)\n",
      "\n",
      " Elapsed Time: 0.035079 seconds (Warm-up)\n",
      "               0.590933 seconds (Sampling)\n",
      "               0.626012 seconds (Total)\n",
      "\n"
     ]
    },
    {
     "name": "stderr",
     "output_type": "stream",
     "text": [
      "WARNING:pystan:245 of 19000 iterations ended with a divergence (1.29 %).\n",
      "WARNING:pystan:Try running with adapt_delta larger than 0.95 to remove the divergences.\n"
     ]
    },
    {
     "name": "stdout",
     "output_type": "stream",
     "text": [
      "\n",
      "Gradient evaluation took 1.1e-05 seconds\n",
      "1000 transitions using 10 leapfrog steps per transition would take 0.11 seconds.\n",
      "Adjust your expectations accordingly!\n",
      "\n",
      "\n",
      "Iteration:     1 / 20000 [  0%]  (Warmup)\n",
      "Iteration:  1001 / 20000 [  5%]  (Sampling)\n",
      "Iteration:  3000 / 20000 [ 15%]  (Sampling)\n",
      "Iteration:  5000 / 20000 [ 25%]  (Sampling)\n",
      "Iteration:  7000 / 20000 [ 35%]  (Sampling)\n",
      "Iteration:  9000 / 20000 [ 45%]  (Sampling)\n",
      "Iteration: 11000 / 20000 [ 55%]  (Sampling)\n",
      "Iteration: 13000 / 20000 [ 65%]  (Sampling)\n",
      "Iteration: 15000 / 20000 [ 75%]  (Sampling)\n",
      "Iteration: 17000 / 20000 [ 85%]  (Sampling)\n",
      "Iteration: 19000 / 20000 [ 95%]  (Sampling)\n",
      "Iteration: 20000 / 20000 [100%]  (Sampling)\n",
      "\n",
      " Elapsed Time: 0.051887 seconds (Warm-up)\n",
      "               0.715591 seconds (Sampling)\n",
      "               0.767478 seconds (Total)\n",
      "\n"
     ]
    },
    {
     "name": "stderr",
     "output_type": "stream",
     "text": [
      "WARNING:pystan:82 of 19000 iterations ended with a divergence (0.432 %).\n",
      "WARNING:pystan:Try running with adapt_delta larger than 0.95 to remove the divergences.\n"
     ]
    },
    {
     "name": "stdout",
     "output_type": "stream",
     "text": [
      "\n",
      "Gradient evaluation took 1e-05 seconds\n",
      "1000 transitions using 10 leapfrog steps per transition would take 0.1 seconds.\n",
      "Adjust your expectations accordingly!\n",
      "\n",
      "\n",
      "Iteration:     1 / 20000 [  0%]  (Warmup)\n",
      "Iteration:  1001 / 20000 [  5%]  (Sampling)\n",
      "Iteration:  3000 / 20000 [ 15%]  (Sampling)\n",
      "Iteration:  5000 / 20000 [ 25%]  (Sampling)\n",
      "Iteration:  7000 / 20000 [ 35%]  (Sampling)\n",
      "Iteration:  9000 / 20000 [ 45%]  (Sampling)\n",
      "Iteration: 11000 / 20000 [ 55%]  (Sampling)\n",
      "Iteration: 13000 / 20000 [ 65%]  (Sampling)\n",
      "Iteration: 15000 / 20000 [ 75%]  (Sampling)\n",
      "Iteration: 17000 / 20000 [ 85%]  (Sampling)\n",
      "Iteration: 19000 / 20000 [ 95%]  (Sampling)\n",
      "Iteration: 20000 / 20000 [100%]  (Sampling)\n",
      "\n",
      " Elapsed Time: 0.038354 seconds (Warm-up)\n",
      "               0.565622 seconds (Sampling)\n",
      "               0.603976 seconds (Total)\n",
      "\n"
     ]
    },
    {
     "name": "stderr",
     "output_type": "stream",
     "text": [
      "WARNING:pystan:251 of 19000 iterations ended with a divergence (1.32 %).\n",
      "WARNING:pystan:Try running with adapt_delta larger than 0.95 to remove the divergences.\n"
     ]
    },
    {
     "name": "stdout",
     "output_type": "stream",
     "text": [
      "\n",
      "Gradient evaluation took 1e-05 seconds\n",
      "1000 transitions using 10 leapfrog steps per transition would take 0.1 seconds.\n",
      "Adjust your expectations accordingly!\n",
      "\n",
      "\n",
      "Iteration:     1 / 20000 [  0%]  (Warmup)\n",
      "Iteration:  1001 / 20000 [  5%]  (Sampling)\n",
      "Iteration:  3000 / 20000 [ 15%]  (Sampling)\n",
      "Iteration:  5000 / 20000 [ 25%]  (Sampling)\n",
      "Iteration:  7000 / 20000 [ 35%]  (Sampling)\n",
      "Iteration:  9000 / 20000 [ 45%]  (Sampling)\n",
      "Iteration: 11000 / 20000 [ 55%]  (Sampling)\n",
      "Iteration: 13000 / 20000 [ 65%]  (Sampling)\n",
      "Iteration: 15000 / 20000 [ 75%]  (Sampling)\n",
      "Iteration: 17000 / 20000 [ 85%]  (Sampling)\n",
      "Iteration: 19000 / 20000 [ 95%]  (Sampling)\n",
      "Iteration: 20000 / 20000 [100%]  (Sampling)\n",
      "\n",
      " Elapsed Time: 0.043116 seconds (Warm-up)\n",
      "               0.794629 seconds (Sampling)\n",
      "               0.837745 seconds (Total)\n",
      "\n"
     ]
    },
    {
     "name": "stderr",
     "output_type": "stream",
     "text": [
      "WARNING:pystan:228 of 19000 iterations ended with a divergence (1.2 %).\n",
      "WARNING:pystan:Try running with adapt_delta larger than 0.95 to remove the divergences.\n"
     ]
    },
    {
     "name": "stdout",
     "output_type": "stream",
     "text": [
      "\n",
      "Gradient evaluation took 1.1e-05 seconds\n",
      "1000 transitions using 10 leapfrog steps per transition would take 0.11 seconds.\n",
      "Adjust your expectations accordingly!\n",
      "\n",
      "\n",
      "Iteration:     1 / 20000 [  0%]  (Warmup)\n",
      "Iteration:  1001 / 20000 [  5%]  (Sampling)\n",
      "Iteration:  3000 / 20000 [ 15%]  (Sampling)\n",
      "Iteration:  5000 / 20000 [ 25%]  (Sampling)\n",
      "Iteration:  7000 / 20000 [ 35%]  (Sampling)\n",
      "Iteration:  9000 / 20000 [ 45%]  (Sampling)\n",
      "Iteration: 11000 / 20000 [ 55%]  (Sampling)\n",
      "Iteration: 13000 / 20000 [ 65%]  (Sampling)\n",
      "Iteration: 15000 / 20000 [ 75%]  (Sampling)\n",
      "Iteration: 17000 / 20000 [ 85%]  (Sampling)\n",
      "Iteration: 19000 / 20000 [ 95%]  (Sampling)\n",
      "Iteration: 20000 / 20000 [100%]  (Sampling)\n",
      "\n",
      " Elapsed Time: 0.050466 seconds (Warm-up)\n",
      "               0.900508 seconds (Sampling)\n",
      "               0.950974 seconds (Total)\n",
      "\n"
     ]
    },
    {
     "name": "stderr",
     "output_type": "stream",
     "text": [
      "WARNING:pystan:372 of 19000 iterations ended with a divergence (1.96 %).\n",
      "WARNING:pystan:Try running with adapt_delta larger than 0.95 to remove the divergences.\n"
     ]
    },
    {
     "name": "stdout",
     "output_type": "stream",
     "text": [
      "\n",
      "Gradient evaluation took 1e-05 seconds\n",
      "1000 transitions using 10 leapfrog steps per transition would take 0.1 seconds.\n",
      "Adjust your expectations accordingly!\n",
      "\n",
      "\n",
      "Iteration:     1 / 20000 [  0%]  (Warmup)\n",
      "Iteration:  1001 / 20000 [  5%]  (Sampling)\n",
      "Iteration:  3000 / 20000 [ 15%]  (Sampling)\n",
      "Iteration:  5000 / 20000 [ 25%]  (Sampling)\n",
      "Iteration:  7000 / 20000 [ 35%]  (Sampling)\n",
      "Iteration:  9000 / 20000 [ 45%]  (Sampling)\n",
      "Iteration: 11000 / 20000 [ 55%]  (Sampling)\n",
      "Iteration: 13000 / 20000 [ 65%]  (Sampling)\n",
      "Iteration: 15000 / 20000 [ 75%]  (Sampling)\n",
      "Iteration: 17000 / 20000 [ 85%]  (Sampling)\n",
      "Iteration: 19000 / 20000 [ 95%]  (Sampling)\n",
      "Iteration: 20000 / 20000 [100%]  (Sampling)\n",
      "\n",
      " Elapsed Time: 0.051511 seconds (Warm-up)\n",
      "               0.73281 seconds (Sampling)\n",
      "               0.784321 seconds (Total)\n",
      "\n"
     ]
    },
    {
     "name": "stderr",
     "output_type": "stream",
     "text": [
      "WARNING:pystan:466 of 19000 iterations ended with a divergence (2.45 %).\n",
      "WARNING:pystan:Try running with adapt_delta larger than 0.95 to remove the divergences.\n"
     ]
    },
    {
     "name": "stdout",
     "output_type": "stream",
     "text": [
      "\n",
      "Gradient evaluation took 1.1e-05 seconds\n",
      "1000 transitions using 10 leapfrog steps per transition would take 0.11 seconds.\n",
      "Adjust your expectations accordingly!\n",
      "\n",
      "\n",
      "Iteration:     1 / 20000 [  0%]  (Warmup)\n",
      "Iteration:  1001 / 20000 [  5%]  (Sampling)\n",
      "Iteration:  3000 / 20000 [ 15%]  (Sampling)\n",
      "Iteration:  5000 / 20000 [ 25%]  (Sampling)\n",
      "Iteration:  7000 / 20000 [ 35%]  (Sampling)\n",
      "Iteration:  9000 / 20000 [ 45%]  (Sampling)\n",
      "Iteration: 11000 / 20000 [ 55%]  (Sampling)\n",
      "Iteration: 13000 / 20000 [ 65%]  (Sampling)\n",
      "Iteration: 15000 / 20000 [ 75%]  (Sampling)\n",
      "Iteration: 17000 / 20000 [ 85%]  (Sampling)\n",
      "Iteration: 19000 / 20000 [ 95%]  (Sampling)\n",
      "Iteration: 20000 / 20000 [100%]  (Sampling)\n",
      "\n",
      " Elapsed Time: 0.073955 seconds (Warm-up)\n",
      "               1.16334 seconds (Sampling)\n",
      "               1.23729 seconds (Total)\n",
      "\n"
     ]
    },
    {
     "data": {
      "image/png": "[encoded data removed]",
      "text/plain": [
       "<Figure size 432x288 with 1 Axes>"
      ]
     },
     "metadata": {
      "needs_background": "light"
     },
     "output_type": "display_data"
    },
    {
     "data": {
      "image/png": "[encoded data removed]",
      "text/plain": [
       "<Figure size 432x288 with 1 Axes>"
      ]
     },
     "metadata": {
      "needs_background": "light"
     },
     "output_type": "display_data"
    }
   ],
   "source": [
    "for run in np.arange(0, num_model_runs):\n",
    "\n",
    "    # generate the data\n",
    "    sim_data = [np.random.multivariate_normal(exemplar_means[idx-1], sig) for idx in exemplar_idx] \n",
    "    sim_data = np.asmatrix(sim_data)\n",
    "\n",
    "    # Iterators\n",
    "    samples_from_current_stim = 1\n",
    "    total_samples = 1\n",
    "    exemplar_num = 1\n",
    "\n",
    "    # initialize data\n",
    "    sample_data = np.empty((num_samples,num_features))\n",
    "    sample_data[:] = np.nan\n",
    "\n",
    "    exemplar_labels = np.empty((num_samples,))\n",
    "    exemplar_labels[:] = np.nan\n",
    "\n",
    "    while sample or samples_from_current_stim > 1:\n",
    "        \n",
    "        # sample number\n",
    "        data[\"M\"] = total_samples\n",
    "\n",
    "        # exemplar number \n",
    "        data[\"K\"] = exemplar_num\n",
    "\n",
    "        # add sim data\n",
    "        sample_data[total_samples-1] = sim_data[exemplar_idx == exemplar_num][samples_from_current_stim-1]\n",
    "        data[\"z\"] = np.transpose(sample_data[0:total_samples,:])\n",
    "\n",
    "        # add exemplar for each id\n",
    "        exemplar_labels[total_samples-1] = int(exemplar_num)\n",
    "        data[\"exemplar_idx\"] = [int(x) for x in exemplar_labels[~np.isnan(exemplar_labels)]]\n",
    "\n",
    "        # get posterior samples\n",
    "        fit = sm.sampling(data=data, iter=num_iter, chains=1, warmup = num_warmup,control=dict(adapt_delta=0.95));\n",
    "        \n",
    "        \n",
    "        posterior = np.hstack((fit['mu'][0:len(fit['mu']):thinning_factor], \\\n",
    "                               fit['sigma'][0:len(fit['mu']):thinning_factor]))\n",
    "        \n",
    "        if policy is 'kl':\n",
    "\n",
    "            if total_samples > 10:\n",
    "                break;\n",
    "                a = 0;\n",
    "            \n",
    "            # KL divergence between prior and posterior\n",
    "            stim_info[run, total_samples-1] = KLdivergence(prior, posterior)\n",
    "\n",
    "        elif policy is 'entropy':\n",
    "            # reduction of entropy\n",
    "            stim_info[run,total_samples-1] = entropy(prior) - entropy(posterior)\n",
    "\n",
    "        elif policy is 'surprisal':\n",
    "\n",
    "            # surprisal of current observation given prior\n",
    "            stim_info[run, total_samples-1] = surprisal(prior[:,2], sample_data[total_samples-1])\n",
    "\n",
    "        elif policy is 'EIG':\n",
    "            stim_info[run,total_samples-1] = EIG(posterior)\n",
    "\n",
    "        # decision rule\n",
    "        if stim_info[run,total_samples-1] < env_info:\n",
    "            model_LT[run, exemplar_num-1] = samples_from_current_stim\n",
    "\n",
    "            # reset/increment counters\n",
    "            samples_from_current_stim = 1\n",
    "            exemplar_num += 1\n",
    "\n",
    "            if exemplar_num > sequence_length:\n",
    "                sample = False\n",
    "\n",
    "        else:\n",
    "            samples_from_current_stim += 1 \n",
    "\n",
    "        if policy is 'kl' or policy is 'surprisal' or policy is 'entropy':\n",
    "            prior = posterior\n",
    "        \n",
    "        total_samples += 1\n",
    "\n",
    "    # start sampling for next model run\n",
    "    sample = True\n",
    "\n",
    "\n",
    "plt.plot(np.arange(1,sequence_length+1), np.mean(model_LT, axis = 0).squeeze(), 'k*')\n",
    "\n",
    "plt.xlabel(\"stim index\")\n",
    "plt.ylabel(\"model samples\")\n",
    "plt.title(\"\")\n",
    "plt.show()\n",
    "\n",
    "\n",
    "plt.plot(np.arange(1,total_samples+1),np.mean(stim_info, axis = 0)[0:total_samples].squeeze())\n",
    "\n",
    "plt.xlabel(\"sample index\")\n",
    "plt.ylabel(\"KL\")\n",
    "plt.title(\"\")\n",
    "plt.show()"
   ]
  },
  {
   "cell_type": "code",
   "execution_count": 92,
   "metadata": {},
   "outputs": [
    {
     "name": "stdout",
     "output_type": "stream",
     "text": [
      "KL\n",
      "0.059316937903608244\n",
      "[[0.14564623]]\n",
      "means\n",
      "[[0.81020168]]\n",
      "[[0.86608738]]\n",
      "SD\n",
      "[[0.37619363]]\n",
      "[[0.32102603]]\n",
      "data\n",
      "[[1.44832529 0.91365576 0.70754327 0.89208104 0.82955166 1.3488273\n",
      "  1.60358576 0.55629275 1.0853994  1.35581186 0.95316086]]\n"
     ]
    },
    {
     "data": {
      "text/plain": [
       "(19000, 2)"
      ]
     },
     "execution_count": 92,
     "metadata": {},
     "output_type": "execute_result"
    }
   ],
   "source": [
    "print(\"KL\")\n",
    "print(KLdivergence(prior[:,[0]], posterior[:,[0]]))\n",
    "print(kl_mvn(mean_prior, sd_prior, mean_posterior, sd_posterior))\n",
    "\n",
    "mean_prior = np.array([np.mean(prior[:,[0]], axis = 0)])\n",
    "\n",
    "sd_prior = np.array([np.std(prior[:,[0]], axis = 0)])\n",
    "\n",
    "mean_posterior = np.array([np.mean(posterior[:,[0]], axis = 0)])\n",
    "\n",
    "sd_posterior = np.array([np.std(posterior[:,[0]], axis = 0)])\n",
    "\n",
    "\n",
    "print(\"means\")\n",
    "\n",
    "print(mean_prior)\n",
    "print(mean_posterior)\n",
    "\n",
    "print(\"SD\")\n",
    "print(sd_prior)\n",
    "print(sd_posterior)\n",
    "\n",
    "print(\"data\")\n",
    "print(data['z'])\n",
    "\n",
    "\n",
    "posterior.shape\n"
   ]
  },
  {
   "cell_type": "code",
   "execution_count": 93,
   "metadata": {},
   "outputs": [
    {
     "data": {
      "image/png": "[encoded data removed]",
      "text/plain": [
       "<Figure size 432x288 with 1 Axes>"
      ]
     },
     "metadata": {
      "needs_background": "light"
     },
     "output_type": "display_data"
    }
   ],
   "source": [
    "plt.hist(np.hstack((prior[:,[0]],posterior[:,[0]])), bins = 200);\n",
    "\n"
   ]
  },
  {
   "cell_type": "code",
   "execution_count": 136,
   "metadata": {},
   "outputs": [
    {
     "data": {
      "text/plain": [
       "array([0.10010844])"
      ]
     },
     "execution_count": 136,
     "metadata": {},
     "output_type": "execute_result"
    },
    {
     "data": {
      "image/png": "[encoded data removed]",
      "text/plain": [
       "<Figure size 432x288 with 1 Axes>"
      ]
     },
     "metadata": {
      "needs_background": "light"
     },
     "output_type": "display_data"
    }
   ],
   "source": []
  },
  {
   "cell_type": "code",
   "execution_count": 118,
   "metadata": {},
   "outputs": [
    {
     "data": {
      "image/png": "[encoded data removed]",
      "text/plain": [
       "<Figure size 432x288 with 1 Axes>"
      ]
     },
     "metadata": {
      "needs_background": "light"
     },
     "output_type": "display_data"
    }
   ],
   "source": [
    "plt.plot(np.arange(0, stim_info.shape[1]), np.mean(stim_info, axis = 0))\n",
    "plt.show()"
   ]
  },
  {
   "cell_type": "code",
   "execution_count": 128,
   "metadata": {},
   "outputs": [
    {
     "data": {
      "image/png": "[encoded data removed]",
      "text/plain": [
       "<Figure size 432x288 with 1 Axes>"
      ]
     },
     "metadata": {
      "needs_background": "light"
     },
     "output_type": "display_data"
    },
    {
     "data": {
      "image/png": "[encoded data removed]",
      "text/plain": [
       "<Figure size 432x288 with 1 Axes>"
      ]
     },
     "metadata": {
      "needs_background": "light"
     },
     "output_type": "display_data"
    }
   ],
   "source": [
    "\n",
    "plt.hist(xr,density=True, bins = 40)\n",
    "plt.show()\n",
    "dist = gamma(a = 2, scale = 1/2)\n",
    "plt.hist(dist.rvs(10000), bins = 40)\n",
    "plt.show()\n"
   ]
  },
  {
   "cell_type": "code",
   "execution_count": 120,
   "metadata": {},
   "outputs": [
    {
     "data": {
      "text/plain": [
       "array([[2., 2., 2., 3., 0., 0.],\n",
       "       [2., 3., 4., 0., 0., 0.],\n",
       "       [4., 3., 2., 0., 0., 0.]])"
      ]
     },
     "execution_count": 120,
     "metadata": {},
     "output_type": "execute_result"
    }
   ],
   "source": [
    "model_LT"
   ]
  },
  {
   "cell_type": "code",
   "execution_count": 106,
   "metadata": {},
   "outputs": [
    {
     "data": {
      "text/plain": [
       "array([ 2.01619232,  0.00371586,  0.18321453,  0.19169076, -0.01187171,\n",
       "        0.30167573,  0.0515528 ,  0.14896336, -0.01617405,  0.23803791,\n",
       "               nan,         nan,         nan,         nan,         nan,\n",
       "               nan,         nan,         nan,         nan,         nan])"
      ]
     },
     "execution_count": 106,
     "metadata": {},
     "output_type": "execute_result"
    }
   ],
   "source": [
    "stim_info[1,0:20]"
   ]
  },
  {
   "cell_type": "code",
   "execution_count": 88,
   "metadata": {},
   "outputs": [
    {
     "data": {
      "text/plain": [
       "21"
      ]
     },
     "execution_count": 88,
     "metadata": {},
     "output_type": "execute_result"
    }
   ],
   "source": [
    "total_samples"
   ]
  },
  {
   "cell_type": "code",
   "execution_count": 107,
   "metadata": {},
   "outputs": [
    {
     "data": {
      "text/plain": [
       "array([ 1.,  1.,  1., ..., nan, nan, nan])"
      ]
     },
     "execution_count": 107,
     "metadata": {},
     "output_type": "execute_result"
    }
   ],
   "source": [
    "exemplar_num\n",
    "exemplar_labels"
   ]
  },
  {
   "cell_type": "code",
   "execution_count": 113,
   "metadata": {},
   "outputs": [
    {
     "data": {
      "text/plain": [
       "(3, 3000)"
      ]
     },
     "execution_count": 113,
     "metadata": {},
     "output_type": "execute_result"
    }
   ],
   "source": [
    "stim_info.shape"
   ]
  },
  {
   "cell_type": "code",
   "execution_count": 127,
   "metadata": {},
   "outputs": [
    {
     "data": {
      "image/png": "[encoded data removed]",
      "text/plain": [
       "<Figure size 432x288 with 1 Axes>"
      ]
     },
     "metadata": {
      "needs_background": "light"
     },
     "output_type": "display_data"
    }
   ],
   "source": [
    "plt.plot(fit['mu'][0:len(fit['mu']):thinning_factor], fit['sigma'][0:len(fit['mu']):thinning_factor], 'k*')\n",
    "plt.show()"
   ]
  },
  {
   "cell_type": "code",
   "execution_count": 129,
   "metadata": {},
   "outputs": [
    {
     "data": {
      "text/plain": [
       "(array([151., 418., 580., 683., 746., 822., 875., 918., 918., 878., 858.,\n",
       "        851., 764., 730., 696., 676., 641., 600., 563., 504., 453., 389.,\n",
       "        391., 322., 353., 293., 257., 244., 250., 211., 203., 171., 164.,\n",
       "        133., 135., 118., 109.,  96.,  77.,  73.,  79.,  66.,  64.,  45.,\n",
       "         44.,  36.,  35.,  37.,  32.,  34.,  24.,  17.,  28.,  11.,  19.,\n",
       "          9.,  12.,  10.,   9.,   8.,   1.,   7.,   4.,   7.,   4.,   4.,\n",
       "          4.,   3.,   2.,   3.,   1.,   3.,   4.,   2.,   2.,   1.,   1.,\n",
       "          0.,   0.,   1.,   3.,   0.,   0.,   0.,   0.,   3.,   0.,   0.,\n",
       "          0.,   1.,   0.,   0.,   1.,   1.,   1.,   0.,   1.,   1.,   0.,\n",
       "          1.]),\n",
       " array([1.60952816e-02, 2.73371299e-01, 5.30647317e-01, 7.87923335e-01,\n",
       "        1.04519935e+00, 1.30247537e+00, 1.55975139e+00, 1.81702741e+00,\n",
       "        2.07430342e+00, 2.33157944e+00, 2.58885546e+00, 2.84613148e+00,\n",
       "        3.10340750e+00, 3.36068351e+00, 3.61795953e+00, 3.87523555e+00,\n",
       "        4.13251157e+00, 4.38978759e+00, 4.64706360e+00, 4.90433962e+00,\n",
       "        5.16161564e+00, 5.41889166e+00, 5.67616768e+00, 5.93344369e+00,\n",
       "        6.19071971e+00, 6.44799573e+00, 6.70527175e+00, 6.96254776e+00,\n",
       "        7.21982378e+00, 7.47709980e+00, 7.73437582e+00, 7.99165184e+00,\n",
       "        8.24892785e+00, 8.50620387e+00, 8.76347989e+00, 9.02075591e+00,\n",
       "        9.27803193e+00, 9.53530794e+00, 9.79258396e+00, 1.00498600e+01,\n",
       "        1.03071360e+01, 1.05644120e+01, 1.08216880e+01, 1.10789641e+01,\n",
       "        1.13362401e+01, 1.15935161e+01, 1.18507921e+01, 1.21080681e+01,\n",
       "        1.23653441e+01, 1.26226202e+01, 1.28798962e+01, 1.31371722e+01,\n",
       "        1.33944482e+01, 1.36517242e+01, 1.39090002e+01, 1.41662763e+01,\n",
       "        1.44235523e+01, 1.46808283e+01, 1.49381043e+01, 1.51953803e+01,\n",
       "        1.54526564e+01, 1.57099324e+01, 1.59672084e+01, 1.62244844e+01,\n",
       "        1.64817604e+01, 1.67390364e+01, 1.69963125e+01, 1.72535885e+01,\n",
       "        1.75108645e+01, 1.77681405e+01, 1.80254165e+01, 1.82826926e+01,\n",
       "        1.85399686e+01, 1.87972446e+01, 1.90545206e+01, 1.93117966e+01,\n",
       "        1.95690726e+01, 1.98263487e+01, 2.00836247e+01, 2.03409007e+01,\n",
       "        2.05981767e+01, 2.08554527e+01, 2.11127287e+01, 2.13700048e+01,\n",
       "        2.16272808e+01, 2.18845568e+01, 2.21418328e+01, 2.23991088e+01,\n",
       "        2.26563849e+01, 2.29136609e+01, 2.31709369e+01, 2.34282129e+01,\n",
       "        2.36854889e+01, 2.39427649e+01, 2.42000410e+01, 2.44573170e+01,\n",
       "        2.47145930e+01, 2.49718690e+01, 2.52291450e+01, 2.54864211e+01,\n",
       "        2.57436971e+01]),\n",
       " <BarContainer object of 100 artists>)"
      ]
     },
     "execution_count": 129,
     "metadata": {},
     "output_type": "execute_result"
    },
    {
     "data": {
      "image/png": "[encoded data removed]",
      "text/plain": [
       "<Figure size 432x288 with 1 Axes>"
      ]
     },
     "metadata": {
      "needs_background": "light"
     },
     "output_type": "display_data"
    }
   ],
   "source": [
    "plt.hist(prior_sigma, bins = 100)"
   ]
  }
 ],
 "metadata": {
  "kernelspec": {
   "display_name": "Python 3 (ipykernel)",
   "language": "python",
   "name": "python3"
  },
  "language_info": {
   "codemirror_mode": {
    "name": "ipython",
    "version": 3
   },
   "file_extension": ".py",
   "mimetype": "text/x-python",
   "name": "python",
   "nbconvert_exporter": "python",
   "pygments_lexer": "ipython3",
   "version": "3.7.13"
  },
  "vscode": {
   "interpreter": {
    "hash": "27c5f53aa2a72cb83d695644322e5c228d48779d014791c7ecd15aee1ee6a87e"
   }
  }
 },
 "nbformat": 4,
 "nbformat_minor": 2
}
