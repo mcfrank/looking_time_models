{
 "cells": [
  {
   "cell_type": "code",
   "execution_count": 1,
   "metadata": {},
   "outputs": [],
   "source": [
    "import pandas as pd\n",
    "import pickle\n",
    "import os\n",
    "import math\n",
    "import numpy as np\n",
    "import seaborn as sns\n",
    "import matplotlib.pyplot as plt\n",
    "import arviz\n",
    "import pystan\n",
    "import random\n",
    "from sklearn.neighbors import KernelDensity\n",
    "from sklearn.mixture import GaussianMixture\n",
    "\n",
    "from scipy.spatial import cKDTree as KDTree\n",
    "from scipy.stats import multivariate_normal, gaussian_kde, entropy, gamma\n",
    "from fastkde import fastKDE\n",
    "from entropy_estimators import continuous\n",
    "import seaborn as sns\n",
    "from tqdm.auto import tqdm\n",
    "import seaborn as sns"
   ]
  },
  {
   "cell_type": "markdown",
   "metadata": {},
   "source": [
    "# Helper functions    "
   ]
  },
  {
   "cell_type": "code",
   "execution_count": 2,
   "metadata": {},
   "outputs": [],
   "source": [
    "def KLdivergence(x, y):\n",
    "    # Check the dimensions are consistent\n",
    "    x = np.atleast_2d(x)\n",
    "    y = np.atleast_2d(y)\n",
    "\n",
    "    n,d = x.shape\n",
    "    m,dy = y.shape\n",
    "\n",
    "    assert(d == dy)\n",
    "\n",
    "    # Build a KD tree representation of the samples and find the nearest neighbour\n",
    "    # of each point in x.\n",
    "    xtree = KDTree(x)\n",
    "    ytree = KDTree(y)\n",
    "\n",
    "  # Get the first two nearest neighbours for x, since the closest one is the\n",
    "  # sample itself.\n",
    "    thresh = 1e-4\n",
    "    #r = xtree.query(x, k=100, eps=.01, p=2)[0]\n",
    "    #s = ytree.query(x, k=100, eps=.01, p=2)[0]\n",
    "\n",
    "    r = xtree.query(x, k=100, eps=.01, p=2)[0]\n",
    "    s = ytree.query(x, k=100, eps=.01, p=2)[0]\n",
    "\n",
    "    r = r[np.arange(r.shape[0]), np.argmax(r > thresh, axis=1)] \n",
    "    s = s[np.arange(s.shape[0]), np.argmax(s > thresh, axis=1)]\n",
    "    \n",
    "    if math.isinf(-np.log(r/s).sum() * d / n + np.log(m / (n - 1.))):\n",
    "        a = 0;\n",
    "\n",
    "    # There is a mistake in the paper. In Eq. 14, the right side misses a negative sign\n",
    "    # on the first term of the right hand side.\n",
    "    return -np.log(r/s).sum() * d / n + np.log(m / (n - 1.))\n",
    "\n",
    "def kl_mvn(m0, S0, m1, S1):\n",
    " \n",
    "  # store inv diag covariance of S1 and diff between means\n",
    "  N = m0.shape[0]\n",
    "  iS1 = np.linalg.inv(S1)\n",
    "  diff = m1 - m0\n",
    "\n",
    "  # kl is made of three terms\n",
    "  tr_term   = np.trace(iS1 @ S0)\n",
    "  det_term  = np.log(np.linalg.det(S1)/np.linalg.det(S0)) #np.sum(np.log(S1)) - np.sum(np.log(S0))\n",
    "  quad_term = diff.T @ np.linalg.inv(S1) @ diff #np.sum( (diff*diff) * iS1, axis=1)\n",
    "  #print(tr_term,det_term,quad_term)\n",
    "  return .5 * (tr_term + det_term + quad_term - N) \n",
    "\n",
    "def surprisal(dist, sample):\n",
    "    kde = gaussian_kde(dist)\n",
    "    prob = kde.evaluate(sample)\n",
    "    return -np.log(prob)\n",
    "\n",
    "\n",
    "def EIG(dist, grid, thinning_factor):\n",
    "        print(np.arange(-1.9, 2, 0.25))\n",
    "        \n",
    "        for hypothetical_obs in grid:\n",
    "            \n",
    "            data[\"z\"] = np.hstack(np.transpose(sample_data[0:total_samples,:]), hypothetical_obs)\n",
    "\n",
    "            # get posterior samples\n",
    "            fit = sm.sampling(data=data, iter=num_iter, chains=1, warmup = num_warmup,control=dict(adapt_delta=0.95));\n",
    "        \n",
    "            hyp_posterior = np.hstack((fit['mu'][0:len(fit['mu']):thinning_factor], \\\n",
    "                       fit['sigma'][0:len(fit['mu']):thinning_factor]))\n",
    "            \n",
    "            hyp_entropy_reduction = np.abs(continuous.get_h(posterior, k = 200) - continuous.get_h(hyp_posterior, k = 200))\n",
    "            \n",
    "            pp =  kde = gaussian_kde(dist)\n",
    "            prob = kde.evaluate(hypothetical_obs)\n",
    "            \n",
    "            EIG += pp * hyp_entropy_reduction\n",
    "        return EIG\n",
    "  \n",
    "  "
   ]
  },
  {
   "cell_type": "markdown",
   "metadata": {},
   "source": [
    "Build model"
   ]
  },
  {
   "cell_type": "code",
   "execution_count": 3,
   "metadata": {},
   "outputs": [],
   "source": [
    "# whether to recompile the stan program\n",
    "DO_COMPILE = False\n",
    "\n",
    "# simple noise or prior on noise\n",
    "SIMPLE_NOISE = True\n",
    "\n",
    "# stan program path\n",
    "if SIMPLE_NOISE:\n",
    "    stan_path = 'multi_feature_simple_noise.stan'\n",
    "    pkl_file = 'model_simple_noise.pkl'\n",
    "else:\n",
    "    stan_path = 'multi_feature.stan'\n",
    "    pkl_file = 'model.pkl'\n",
    "\n",
    "\n",
    "def build_model(path, pkl_file=None, do_compile=True):\n",
    "    if do_compile:\n",
    "        sm = pystan.StanModel(file=path)\n",
    "        if pkl_file is not None:\n",
    "            with open(pkl_file, 'wb') as f:\n",
    "                pickle.dump(sm, f)\n",
    "\n",
    "    # if the program hasn't been complied, check that the file already exists\n",
    "    else: \n",
    "        if os.path.isfile(pkl_file):\n",
    "            sm = pickle.load(open(pkl_file, 'rb'))\n",
    "        else:\n",
    "            raise FileNotFoundError\n",
    "    return sm\n",
    "\n",
    "\n",
    "sm = build_model(path = stan_path, pkl_file=pkl_file, do_compile=DO_COMPILE)"
   ]
  },
  {
   "cell_type": "markdown",
   "metadata": {},
   "source": [
    "Model parameters"
   ]
  },
  {
   "cell_type": "code",
   "execution_count": 85,
   "metadata": {},
   "outputs": [],
   "source": [
    "# mu\n",
    "mu_mean = 0\n",
    "mu_sd = 0.5\n",
    "\n",
    "# sd\n",
    "sigma_alpha = 2\n",
    "sigma_beta = 2\n",
    "\n",
    "\n",
    "# lower bound of sigma prior\n",
    "lower_sigma_bound = 0.1\n",
    "\n",
    "# noise SD prior\n",
    "epsilon_alpha = 1\n",
    "epsilon_beta = 1\n",
    "\n",
    "# for simple noise \n",
    "noise = 0.4\n",
    "\n",
    "# environmental EIG\n",
    "env_info = 0.01"
   ]
  },
  {
   "cell_type": "markdown",
   "metadata": {},
   "source": [
    "Create data"
   ]
  },
  {
   "cell_type": "code",
   "execution_count": 86,
   "metadata": {},
   "outputs": [],
   "source": [
    "# number of stimuli\n",
    "sequence_length = 6\n",
    "\n",
    "# number of features \n",
    "num_features = 1\n",
    "\n",
    "# number of samples (max)\n",
    "num_samples = 3000\n",
    "\n",
    "# allocation of samples to exemplars\n",
    "exemplar_idx = np.repeat(np.arange(1, sequence_length+1), num_samples/sequence_length)\n",
    "\n",
    "# background / deviant mean values\n",
    "background = np.repeat(1, num_features)\n",
    "deviant = np.repeat(3, num_features)\n",
    "\n",
    "# perceptual noise\n",
    "sig = np.identity(num_features) * 0.001;\n",
    "\n",
    "# deviant position\n",
    "deviant_pos = 6\n",
    "\n",
    "# stimulus means\n",
    "exemplar_means = np.tile(background, (sequence_length, 1))\n",
    "exemplar_means[deviant_pos-1] = deviant"
   ]
  },
  {
   "cell_type": "markdown",
   "metadata": {},
   "source": [
    "Simulation parameters"
   ]
  },
  {
   "cell_type": "code",
   "execution_count": 99,
   "metadata": {},
   "outputs": [],
   "source": [
    "# number of iterations and warmup per model run\n",
    "num_iter = 20000\n",
    "num_warmup = 4000\n",
    "\n",
    "# number of total model runs\n",
    "num_model_runs = 5\n",
    "\n",
    "# how much to thin posteriors (value determines how we \"retain every nth sample\")\n",
    "thinning_factor = 1"
   ]
  },
  {
   "cell_type": "markdown",
   "metadata": {},
   "source": [
    "Initialize flags, variables, iterators "
   ]
  },
  {
   "cell_type": "code",
   "execution_count": 100,
   "metadata": {},
   "outputs": [
    {
     "data": {
      "image/png": "[encoded data removed]",
      "text/plain": [
       "<Figure size 1296x864 with 1 Axes>"
      ]
     },
     "metadata": {
      "needs_background": "light"
     },
     "output_type": "display_data"
    }
   ],
   "source": [
    "# Flags \n",
    "sample = True\n",
    "policy = 'kl' # 'kl', 'surprisal', 'entropy' or 'eig'\n",
    "\n",
    "# Variables\n",
    "model_LT = np.zeros((num_model_runs, sequence_length))\n",
    "\n",
    "# prior parameters\n",
    "prior_mu = np.random.multivariate_normal(np.repeat(mu_mean, num_features), np.identity(num_features)*mu_sd, num_iter-num_warmup)\n",
    "\n",
    "prior_sigma = np.empty((num_iter-num_warmup, num_features))\n",
    "for i in np.arange(0, num_features):\n",
    "    \n",
    "    # compute truncated sigma prior\n",
    "    nrm=gamma.cdf(100, a = sigma_alpha, scale = 1/sigma_beta)- gamma.cdf(lower_sigma_bound, a = sigma_alpha, scale = 1/sigma_beta)\n",
    "    yr=np.random.rand(num_iter-num_warmup)*(nrm)+gamma.cdf(lower_sigma_bound,  a = sigma_alpha, scale = 1/sigma_beta)\n",
    "    prior_sigma[:,i] = gamma.ppf(yr, a = sigma_alpha, scale = 1/sigma_beta)\n",
    "    \n",
    "    \n",
    "prior_z_rep = np.empty((num_iter-num_warmup, num_features))\n",
    "for i in np.arange(0, num_iter-num_warmup):\n",
    "    prior_z_rep[i,:] = np.random.multivariate_normal(prior_mu[i,:], np.identity(num_features)*prior_sigma[i,:])\n",
    "\n",
    "prior = np.hstack((prior_mu[0:len(prior_mu):thinning_factor], prior_sigma[0:len(prior_sigma):thinning_factor]))\n",
    "\n",
    "data = {\"mu_mean\": mu_mean , \"mu_sd\": mu_sd, \"sigma_alpha\": sigma_alpha, \"sigma_beta\": sigma_beta, \n",
    "\"epsilon_alpha\": epsilon_alpha, \"epsilon_beta\": epsilon_beta, \"noise\": noise, \"F\": num_features}\n",
    "\n",
    "stim_info = np.empty((num_model_runs, num_samples))\n",
    "stim_info[:] = np.nan\n",
    "\n",
    "plt.hist(prior[:,[0]], bins = 30);\n",
    "plt.title('prior')\n",
    "plt.show()"
   ]
  },
  {
   "cell_type": "markdown",
   "metadata": {},
   "source": [
    "# Action loop"
   ]
  },
  {
   "cell_type": "code",
   "execution_count": 101,
   "metadata": {
    "scrolled": false
   },
   "outputs": [
    {
     "name": "stdout",
     "output_type": "stream",
     "text": [
      "model run:  0\n",
      "stimulus:  1\n",
      "sample:  1\n"
     ]
    },
    {
     "name": "stderr",
     "output_type": "stream",
     "text": [
      "WARNING:pystan:140 of 16000 iterations ended with a divergence (0.875 %).\n",
      "WARNING:pystan:Try running with adapt_delta larger than 0.95 to remove the divergences.\n"
     ]
    },
    {
     "name": "stdout",
     "output_type": "stream",
     "text": [
      "\n",
      "Gradient evaluation took 1.9e-05 seconds\n",
      "1000 transitions using 10 leapfrog steps per transition would take 0.19 seconds.\n",
      "Adjust your expectations accordingly!\n",
      "\n",
      "\n",
      "Iteration:     1 / 20000 [  0%]  (Warmup)\n",
      "Iteration:  2000 / 20000 [ 10%]  (Warmup)\n",
      "Iteration:  4000 / 20000 [ 20%]  (Warmup)\n",
      "Iteration:  4001 / 20000 [ 20%]  (Sampling)\n",
      "Iteration:  6000 / 20000 [ 30%]  (Sampling)\n",
      "Iteration:  8000 / 20000 [ 40%]  (Sampling)\n",
      "Iteration: 10000 / 20000 [ 50%]  (Sampling)\n",
      "Iteration: 12000 / 20000 [ 60%]  (Sampling)\n",
      "Iteration: 14000 / 20000 [ 70%]  (Sampling)\n",
      "Iteration: 16000 / 20000 [ 80%]  (Sampling)\n",
      "Iteration: 18000 / 20000 [ 90%]  (Sampling)\n",
      "Iteration: 20000 / 20000 [100%]  (Sampling)\n",
      "\n",
      " Elapsed Time: 0.099696 seconds (Warm-up)\n",
      "               0.37807 seconds (Sampling)\n",
      "               0.477766 seconds (Total)\n",
      "\n"
     ]
    },
    {
     "name": "stderr",
     "output_type": "stream",
     "text": [
      "/Users/galraz1/opt/miniconda3/envs/stan_env/lib/python3.7/site-packages/ipykernel_launcher.py:60: UserWarning: Legend does not support 'p' instances.\n",
      "A proxy artist may be used instead.\n",
      "See: https://matplotlib.org/users/legend_guide.html#creating-artists-specifically-for-adding-to-the-legend-aka-proxy-artists\n",
      "/Users/galraz1/opt/miniconda3/envs/stan_env/lib/python3.7/site-packages/ipykernel_launcher.py:60: UserWarning: Legend does not support 'r' instances.\n",
      "A proxy artist may be used instead.\n",
      "See: https://matplotlib.org/users/legend_guide.html#creating-artists-specifically-for-adding-to-the-legend-aka-proxy-artists\n",
      "/Users/galraz1/opt/miniconda3/envs/stan_env/lib/python3.7/site-packages/ipykernel_launcher.py:60: UserWarning: Legend does not support 'i' instances.\n",
      "A proxy artist may be used instead.\n",
      "See: https://matplotlib.org/users/legend_guide.html#creating-artists-specifically-for-adding-to-the-legend-aka-proxy-artists\n",
      "/Users/galraz1/opt/miniconda3/envs/stan_env/lib/python3.7/site-packages/ipykernel_launcher.py:60: UserWarning: Legend does not support 'o' instances.\n",
      "A proxy artist may be used instead.\n",
      "See: https://matplotlib.org/users/legend_guide.html#creating-artists-specifically-for-adding-to-the-legend-aka-proxy-artists\n",
      "/Users/galraz1/opt/miniconda3/envs/stan_env/lib/python3.7/site-packages/ipykernel_launcher.py:67: UserWarning: Legend does not support 'p' instances.\n",
      "A proxy artist may be used instead.\n",
      "See: https://matplotlib.org/users/legend_guide.html#creating-artists-specifically-for-adding-to-the-legend-aka-proxy-artists\n",
      "/Users/galraz1/opt/miniconda3/envs/stan_env/lib/python3.7/site-packages/ipykernel_launcher.py:67: UserWarning: Legend does not support 'r' instances.\n",
      "A proxy artist may be used instead.\n",
      "See: https://matplotlib.org/users/legend_guide.html#creating-artists-specifically-for-adding-to-the-legend-aka-proxy-artists\n",
      "/Users/galraz1/opt/miniconda3/envs/stan_env/lib/python3.7/site-packages/ipykernel_launcher.py:67: UserWarning: Legend does not support 'i' instances.\n",
      "A proxy artist may be used instead.\n",
      "See: https://matplotlib.org/users/legend_guide.html#creating-artists-specifically-for-adding-to-the-legend-aka-proxy-artists\n",
      "/Users/galraz1/opt/miniconda3/envs/stan_env/lib/python3.7/site-packages/ipykernel_launcher.py:67: UserWarning: Legend does not support 'o' instances.\n",
      "A proxy artist may be used instead.\n",
      "See: https://matplotlib.org/users/legend_guide.html#creating-artists-specifically-for-adding-to-the-legend-aka-proxy-artists\n"
     ]
    },
    {
     "name": "stdout",
     "output_type": "stream",
     "text": [
      "KL: 0.6337940595655468\n",
      "stimulus:  1\n",
      "sample:  2\n",
      "\n",
      "Gradient evaluation took 1.1e-05 seconds\n",
      "1000 transitions using 10 leapfrog steps per transition would take 0.11 seconds.\n",
      "Adjust your expectations accordingly!\n",
      "\n",
      "\n"
     ]
    },
    {
     "name": "stderr",
     "output_type": "stream",
     "text": [
      "WARNING:pystan:141 of 16000 iterations ended with a divergence (0.881 %).\n",
      "WARNING:pystan:Try running with adapt_delta larger than 0.95 to remove the divergences.\n"
     ]
    },
    {
     "name": "stdout",
     "output_type": "stream",
     "text": [
      "Iteration:     1 / 20000 [  0%]  (Warmup)\n",
      "Iteration:  2000 / 20000 [ 10%]  (Warmup)\n",
      "Iteration:  4000 / 20000 [ 20%]  (Warmup)\n",
      "Iteration:  4001 / 20000 [ 20%]  (Sampling)\n",
      "Iteration:  6000 / 20000 [ 30%]  (Sampling)\n",
      "Iteration:  8000 / 20000 [ 40%]  (Sampling)\n",
      "Iteration: 10000 / 20000 [ 50%]  (Sampling)\n",
      "Iteration: 12000 / 20000 [ 60%]  (Sampling)\n",
      "Iteration: 14000 / 20000 [ 70%]  (Sampling)\n",
      "Iteration: 16000 / 20000 [ 80%]  (Sampling)\n",
      "Iteration: 18000 / 20000 [ 90%]  (Sampling)\n",
      "Iteration: 20000 / 20000 [100%]  (Sampling)\n",
      "\n",
      " Elapsed Time: 0.096844 seconds (Warm-up)\n",
      "               0.250783 seconds (Sampling)\n",
      "               0.347627 seconds (Total)\n",
      "\n"
     ]
    },
    {
     "name": "stderr",
     "output_type": "stream",
     "text": [
      "/Users/galraz1/opt/miniconda3/envs/stan_env/lib/python3.7/site-packages/ipykernel_launcher.py:60: UserWarning: Legend does not support 'p' instances.\n",
      "A proxy artist may be used instead.\n",
      "See: https://matplotlib.org/users/legend_guide.html#creating-artists-specifically-for-adding-to-the-legend-aka-proxy-artists\n",
      "/Users/galraz1/opt/miniconda3/envs/stan_env/lib/python3.7/site-packages/ipykernel_launcher.py:60: UserWarning: Legend does not support 'r' instances.\n",
      "A proxy artist may be used instead.\n",
      "See: https://matplotlib.org/users/legend_guide.html#creating-artists-specifically-for-adding-to-the-legend-aka-proxy-artists\n",
      "/Users/galraz1/opt/miniconda3/envs/stan_env/lib/python3.7/site-packages/ipykernel_launcher.py:60: UserWarning: Legend does not support 'i' instances.\n",
      "A proxy artist may be used instead.\n",
      "See: https://matplotlib.org/users/legend_guide.html#creating-artists-specifically-for-adding-to-the-legend-aka-proxy-artists\n",
      "/Users/galraz1/opt/miniconda3/envs/stan_env/lib/python3.7/site-packages/ipykernel_launcher.py:60: UserWarning: Legend does not support 'o' instances.\n",
      "A proxy artist may be used instead.\n",
      "See: https://matplotlib.org/users/legend_guide.html#creating-artists-specifically-for-adding-to-the-legend-aka-proxy-artists\n",
      "/Users/galraz1/opt/miniconda3/envs/stan_env/lib/python3.7/site-packages/ipykernel_launcher.py:67: UserWarning: Legend does not support 'p' instances.\n",
      "A proxy artist may be used instead.\n",
      "See: https://matplotlib.org/users/legend_guide.html#creating-artists-specifically-for-adding-to-the-legend-aka-proxy-artists\n",
      "/Users/galraz1/opt/miniconda3/envs/stan_env/lib/python3.7/site-packages/ipykernel_launcher.py:67: UserWarning: Legend does not support 'r' instances.\n",
      "A proxy artist may be used instead.\n",
      "See: https://matplotlib.org/users/legend_guide.html#creating-artists-specifically-for-adding-to-the-legend-aka-proxy-artists\n",
      "/Users/galraz1/opt/miniconda3/envs/stan_env/lib/python3.7/site-packages/ipykernel_launcher.py:67: UserWarning: Legend does not support 'i' instances.\n",
      "A proxy artist may be used instead.\n",
      "See: https://matplotlib.org/users/legend_guide.html#creating-artists-specifically-for-adding-to-the-legend-aka-proxy-artists\n",
      "/Users/galraz1/opt/miniconda3/envs/stan_env/lib/python3.7/site-packages/ipykernel_launcher.py:67: UserWarning: Legend does not support 'o' instances.\n",
      "A proxy artist may be used instead.\n",
      "See: https://matplotlib.org/users/legend_guide.html#creating-artists-specifically-for-adding-to-the-legend-aka-proxy-artists\n"
     ]
    },
    {
     "name": "stdout",
     "output_type": "stream",
     "text": [
      "KL: 0.008828786040754703\n",
      "stimulus:  2\n",
      "sample:  3\n"
     ]
    },
    {
     "name": "stderr",
     "output_type": "stream",
     "text": [
      "WARNING:pystan:259 of 16000 iterations ended with a divergence (1.62 %).\n",
      "WARNING:pystan:Try running with adapt_delta larger than 0.95 to remove the divergences.\n"
     ]
    },
    {
     "name": "stdout",
     "output_type": "stream",
     "text": [
      "\n",
      "Gradient evaluation took 1.3e-05 seconds\n",
      "1000 transitions using 10 leapfrog steps per transition would take 0.13 seconds.\n",
      "Adjust your expectations accordingly!\n",
      "\n",
      "\n",
      "Iteration:     1 / 20000 [  0%]  (Warmup)\n",
      "Iteration:  2000 / 20000 [ 10%]  (Warmup)\n",
      "Iteration:  4000 / 20000 [ 20%]  (Warmup)\n",
      "Iteration:  4001 / 20000 [ 20%]  (Sampling)\n",
      "Iteration:  6000 / 20000 [ 30%]  (Sampling)\n",
      "Iteration:  8000 / 20000 [ 40%]  (Sampling)\n",
      "Iteration: 10000 / 20000 [ 50%]  (Sampling)\n",
      "Iteration: 12000 / 20000 [ 60%]  (Sampling)\n",
      "Iteration: 14000 / 20000 [ 70%]  (Sampling)\n",
      "Iteration: 16000 / 20000 [ 80%]  (Sampling)\n",
      "Iteration: 18000 / 20000 [ 90%]  (Sampling)\n",
      "Iteration: 20000 / 20000 [100%]  (Sampling)\n",
      "\n",
      " Elapsed Time: 0.127041 seconds (Warm-up)\n",
      "               0.405778 seconds (Sampling)\n",
      "               0.532819 seconds (Total)\n",
      "\n"
     ]
    },
    {
     "name": "stderr",
     "output_type": "stream",
     "text": [
      "/Users/galraz1/opt/miniconda3/envs/stan_env/lib/python3.7/site-packages/ipykernel_launcher.py:60: UserWarning: Legend does not support 'p' instances.\n",
      "A proxy artist may be used instead.\n",
      "See: https://matplotlib.org/users/legend_guide.html#creating-artists-specifically-for-adding-to-the-legend-aka-proxy-artists\n",
      "/Users/galraz1/opt/miniconda3/envs/stan_env/lib/python3.7/site-packages/ipykernel_launcher.py:60: UserWarning: Legend does not support 'r' instances.\n",
      "A proxy artist may be used instead.\n",
      "See: https://matplotlib.org/users/legend_guide.html#creating-artists-specifically-for-adding-to-the-legend-aka-proxy-artists\n",
      "/Users/galraz1/opt/miniconda3/envs/stan_env/lib/python3.7/site-packages/ipykernel_launcher.py:60: UserWarning: Legend does not support 'i' instances.\n",
      "A proxy artist may be used instead.\n",
      "See: https://matplotlib.org/users/legend_guide.html#creating-artists-specifically-for-adding-to-the-legend-aka-proxy-artists\n",
      "/Users/galraz1/opt/miniconda3/envs/stan_env/lib/python3.7/site-packages/ipykernel_launcher.py:60: UserWarning: Legend does not support 'o' instances.\n",
      "A proxy artist may be used instead.\n",
      "See: https://matplotlib.org/users/legend_guide.html#creating-artists-specifically-for-adding-to-the-legend-aka-proxy-artists\n",
      "/Users/galraz1/opt/miniconda3/envs/stan_env/lib/python3.7/site-packages/ipykernel_launcher.py:67: UserWarning: Legend does not support 'p' instances.\n",
      "A proxy artist may be used instead.\n",
      "See: https://matplotlib.org/users/legend_guide.html#creating-artists-specifically-for-adding-to-the-legend-aka-proxy-artists\n",
      "/Users/galraz1/opt/miniconda3/envs/stan_env/lib/python3.7/site-packages/ipykernel_launcher.py:67: UserWarning: Legend does not support 'r' instances.\n",
      "A proxy artist may be used instead.\n",
      "See: https://matplotlib.org/users/legend_guide.html#creating-artists-specifically-for-adding-to-the-legend-aka-proxy-artists\n",
      "/Users/galraz1/opt/miniconda3/envs/stan_env/lib/python3.7/site-packages/ipykernel_launcher.py:67: UserWarning: Legend does not support 'i' instances.\n",
      "A proxy artist may be used instead.\n",
      "See: https://matplotlib.org/users/legend_guide.html#creating-artists-specifically-for-adding-to-the-legend-aka-proxy-artists\n",
      "/Users/galraz1/opt/miniconda3/envs/stan_env/lib/python3.7/site-packages/ipykernel_launcher.py:67: UserWarning: Legend does not support 'o' instances.\n",
      "A proxy artist may be used instead.\n",
      "See: https://matplotlib.org/users/legend_guide.html#creating-artists-specifically-for-adding-to-the-legend-aka-proxy-artists\n"
     ]
    },
    {
     "name": "stdout",
     "output_type": "stream",
     "text": [
      "KL: 0.12786536749258656\n",
      "stimulus:  2\n",
      "sample:  4\n",
      "\n",
      "Gradient evaluation took 1.1e-05 seconds\n",
      "1000 transitions using 10 leapfrog steps per transition would take 0.11 seconds.\n",
      "Adjust your expectations accordingly!\n",
      "\n",
      "\n"
     ]
    },
    {
     "name": "stderr",
     "output_type": "stream",
     "text": [
      "WARNING:pystan:350 of 16000 iterations ended with a divergence (2.19 %).\n",
      "WARNING:pystan:Try running with adapt_delta larger than 0.95 to remove the divergences.\n"
     ]
    },
    {
     "name": "stdout",
     "output_type": "stream",
     "text": [
      "Iteration:     1 / 20000 [  0%]  (Warmup)\n",
      "Iteration:  2000 / 20000 [ 10%]  (Warmup)\n",
      "Iteration:  4000 / 20000 [ 20%]  (Warmup)\n",
      "Iteration:  4001 / 20000 [ 20%]  (Sampling)\n",
      "Iteration:  6000 / 20000 [ 30%]  (Sampling)\n",
      "Iteration:  8000 / 20000 [ 40%]  (Sampling)\n",
      "Iteration: 10000 / 20000 [ 50%]  (Sampling)\n",
      "Iteration: 12000 / 20000 [ 60%]  (Sampling)\n",
      "Iteration: 14000 / 20000 [ 70%]  (Sampling)\n",
      "Iteration: 16000 / 20000 [ 80%]  (Sampling)\n",
      "Iteration: 18000 / 20000 [ 90%]  (Sampling)\n",
      "Iteration: 20000 / 20000 [100%]  (Sampling)\n",
      "\n",
      " Elapsed Time: 0.146905 seconds (Warm-up)\n",
      "               0.413447 seconds (Sampling)\n",
      "               0.560352 seconds (Total)\n",
      "\n"
     ]
    },
    {
     "name": "stderr",
     "output_type": "stream",
     "text": [
      "/Users/galraz1/opt/miniconda3/envs/stan_env/lib/python3.7/site-packages/ipykernel_launcher.py:60: UserWarning: Legend does not support 'p' instances.\n",
      "A proxy artist may be used instead.\n",
      "See: https://matplotlib.org/users/legend_guide.html#creating-artists-specifically-for-adding-to-the-legend-aka-proxy-artists\n",
      "/Users/galraz1/opt/miniconda3/envs/stan_env/lib/python3.7/site-packages/ipykernel_launcher.py:60: UserWarning: Legend does not support 'r' instances.\n",
      "A proxy artist may be used instead.\n",
      "See: https://matplotlib.org/users/legend_guide.html#creating-artists-specifically-for-adding-to-the-legend-aka-proxy-artists\n",
      "/Users/galraz1/opt/miniconda3/envs/stan_env/lib/python3.7/site-packages/ipykernel_launcher.py:60: UserWarning: Legend does not support 'i' instances.\n",
      "A proxy artist may be used instead.\n",
      "See: https://matplotlib.org/users/legend_guide.html#creating-artists-specifically-for-adding-to-the-legend-aka-proxy-artists\n",
      "/Users/galraz1/opt/miniconda3/envs/stan_env/lib/python3.7/site-packages/ipykernel_launcher.py:60: UserWarning: Legend does not support 'o' instances.\n",
      "A proxy artist may be used instead.\n",
      "See: https://matplotlib.org/users/legend_guide.html#creating-artists-specifically-for-adding-to-the-legend-aka-proxy-artists\n",
      "/Users/galraz1/opt/miniconda3/envs/stan_env/lib/python3.7/site-packages/ipykernel_launcher.py:67: UserWarning: Legend does not support 'p' instances.\n",
      "A proxy artist may be used instead.\n",
      "See: https://matplotlib.org/users/legend_guide.html#creating-artists-specifically-for-adding-to-the-legend-aka-proxy-artists\n",
      "/Users/galraz1/opt/miniconda3/envs/stan_env/lib/python3.7/site-packages/ipykernel_launcher.py:67: UserWarning: Legend does not support 'r' instances.\n",
      "A proxy artist may be used instead.\n",
      "See: https://matplotlib.org/users/legend_guide.html#creating-artists-specifically-for-adding-to-the-legend-aka-proxy-artists\n",
      "/Users/galraz1/opt/miniconda3/envs/stan_env/lib/python3.7/site-packages/ipykernel_launcher.py:67: UserWarning: Legend does not support 'i' instances.\n",
      "A proxy artist may be used instead.\n",
      "See: https://matplotlib.org/users/legend_guide.html#creating-artists-specifically-for-adding-to-the-legend-aka-proxy-artists\n",
      "/Users/galraz1/opt/miniconda3/envs/stan_env/lib/python3.7/site-packages/ipykernel_launcher.py:67: UserWarning: Legend does not support 'o' instances.\n",
      "A proxy artist may be used instead.\n",
      "See: https://matplotlib.org/users/legend_guide.html#creating-artists-specifically-for-adding-to-the-legend-aka-proxy-artists\n"
     ]
    },
    {
     "name": "stdout",
     "output_type": "stream",
     "text": [
      "KL: 0.013815740721388935\n",
      "stimulus:  2\n",
      "sample:  5\n",
      "\n",
      "Gradient evaluation took 1.1e-05 seconds\n"
     ]
    },
    {
     "name": "stderr",
     "output_type": "stream",
     "text": [
      "WARNING:pystan:135 of 16000 iterations ended with a divergence (0.844 %).\n",
      "WARNING:pystan:Try running with adapt_delta larger than 0.95 to remove the divergences.\n"
     ]
    },
    {
     "name": "stdout",
     "output_type": "stream",
     "text": [
      "1000 transitions using 10 leapfrog steps per transition would take 0.11 seconds.\n",
      "Adjust your expectations accordingly!\n",
      "\n",
      "\n",
      "Iteration:     1 / 20000 [  0%]  (Warmup)\n",
      "Iteration:  2000 / 20000 [ 10%]  (Warmup)\n",
      "Iteration:  4000 / 20000 [ 20%]  (Warmup)\n",
      "Iteration:  4001 / 20000 [ 20%]  (Sampling)\n",
      "Iteration:  6000 / 20000 [ 30%]  (Sampling)\n",
      "Iteration:  8000 / 20000 [ 40%]  (Sampling)\n",
      "Iteration: 10000 / 20000 [ 50%]  (Sampling)\n",
      "Iteration: 12000 / 20000 [ 60%]  (Sampling)\n",
      "Iteration: 14000 / 20000 [ 70%]  (Sampling)\n",
      "Iteration: 16000 / 20000 [ 80%]  (Sampling)\n",
      "Iteration: 18000 / 20000 [ 90%]  (Sampling)\n",
      "Iteration: 20000 / 20000 [100%]  (Sampling)\n",
      "\n",
      " Elapsed Time: 0.15128 seconds (Warm-up)\n",
      "               0.574085 seconds (Sampling)\n",
      "               0.725365 seconds (Total)\n",
      "\n"
     ]
    },
    {
     "name": "stderr",
     "output_type": "stream",
     "text": [
      "/Users/galraz1/opt/miniconda3/envs/stan_env/lib/python3.7/site-packages/ipykernel_launcher.py:60: UserWarning: Legend does not support 'p' instances.\n",
      "A proxy artist may be used instead.\n",
      "See: https://matplotlib.org/users/legend_guide.html#creating-artists-specifically-for-adding-to-the-legend-aka-proxy-artists\n",
      "/Users/galraz1/opt/miniconda3/envs/stan_env/lib/python3.7/site-packages/ipykernel_launcher.py:60: UserWarning: Legend does not support 'r' instances.\n",
      "A proxy artist may be used instead.\n",
      "See: https://matplotlib.org/users/legend_guide.html#creating-artists-specifically-for-adding-to-the-legend-aka-proxy-artists\n",
      "/Users/galraz1/opt/miniconda3/envs/stan_env/lib/python3.7/site-packages/ipykernel_launcher.py:60: UserWarning: Legend does not support 'i' instances.\n",
      "A proxy artist may be used instead.\n",
      "See: https://matplotlib.org/users/legend_guide.html#creating-artists-specifically-for-adding-to-the-legend-aka-proxy-artists\n",
      "/Users/galraz1/opt/miniconda3/envs/stan_env/lib/python3.7/site-packages/ipykernel_launcher.py:60: UserWarning: Legend does not support 'o' instances.\n",
      "A proxy artist may be used instead.\n",
      "See: https://matplotlib.org/users/legend_guide.html#creating-artists-specifically-for-adding-to-the-legend-aka-proxy-artists\n",
      "/Users/galraz1/opt/miniconda3/envs/stan_env/lib/python3.7/site-packages/ipykernel_launcher.py:67: UserWarning: Legend does not support 'p' instances.\n",
      "A proxy artist may be used instead.\n",
      "See: https://matplotlib.org/users/legend_guide.html#creating-artists-specifically-for-adding-to-the-legend-aka-proxy-artists\n",
      "/Users/galraz1/opt/miniconda3/envs/stan_env/lib/python3.7/site-packages/ipykernel_launcher.py:67: UserWarning: Legend does not support 'r' instances.\n",
      "A proxy artist may be used instead.\n",
      "See: https://matplotlib.org/users/legend_guide.html#creating-artists-specifically-for-adding-to-the-legend-aka-proxy-artists\n",
      "/Users/galraz1/opt/miniconda3/envs/stan_env/lib/python3.7/site-packages/ipykernel_launcher.py:67: UserWarning: Legend does not support 'i' instances.\n",
      "A proxy artist may be used instead.\n",
      "See: https://matplotlib.org/users/legend_guide.html#creating-artists-specifically-for-adding-to-the-legend-aka-proxy-artists\n",
      "/Users/galraz1/opt/miniconda3/envs/stan_env/lib/python3.7/site-packages/ipykernel_launcher.py:67: UserWarning: Legend does not support 'o' instances.\n",
      "A proxy artist may be used instead.\n",
      "See: https://matplotlib.org/users/legend_guide.html#creating-artists-specifically-for-adding-to-the-legend-aka-proxy-artists\n"
     ]
    },
    {
     "name": "stdout",
     "output_type": "stream",
     "text": [
      "KL: -0.011508921843079396\n",
      "stimulus:  3\n",
      "sample:  6\n",
      "\n",
      "Gradient evaluation took 1.4e-05 seconds\n",
      "1000 transitions using 10 leapfrog steps per transition would take 0.14 seconds.\n",
      "Adjust your expectations accordingly!\n",
      "\n",
      "\n"
     ]
    },
    {
     "name": "stderr",
     "output_type": "stream",
     "text": [
      "WARNING:pystan:38 of 16000 iterations ended with a divergence (0.237 %).\n",
      "WARNING:pystan:Try running with adapt_delta larger than 0.95 to remove the divergences.\n"
     ]
    },
    {
     "name": "stdout",
     "output_type": "stream",
     "text": [
      "Iteration:     1 / 20000 [  0%]  (Warmup)\n",
      "Iteration:  2000 / 20000 [ 10%]  (Warmup)\n",
      "Iteration:  4000 / 20000 [ 20%]  (Warmup)\n",
      "Iteration:  4001 / 20000 [ 20%]  (Sampling)\n",
      "Iteration:  6000 / 20000 [ 30%]  (Sampling)\n",
      "Iteration:  8000 / 20000 [ 40%]  (Sampling)\n",
      "Iteration: 10000 / 20000 [ 50%]  (Sampling)\n",
      "Iteration: 12000 / 20000 [ 60%]  (Sampling)\n",
      "Iteration: 14000 / 20000 [ 70%]  (Sampling)\n",
      "Iteration: 16000 / 20000 [ 80%]  (Sampling)\n",
      "Iteration: 18000 / 20000 [ 90%]  (Sampling)\n",
      "Iteration: 20000 / 20000 [100%]  (Sampling)\n",
      "\n",
      " Elapsed Time: 0.201802 seconds (Warm-up)\n",
      "               1.16434 seconds (Sampling)\n",
      "               1.36614 seconds (Total)\n",
      "\n"
     ]
    },
    {
     "name": "stderr",
     "output_type": "stream",
     "text": [
      "/Users/galraz1/opt/miniconda3/envs/stan_env/lib/python3.7/site-packages/ipykernel_launcher.py:60: UserWarning: Legend does not support 'p' instances.\n",
      "A proxy artist may be used instead.\n",
      "See: https://matplotlib.org/users/legend_guide.html#creating-artists-specifically-for-adding-to-the-legend-aka-proxy-artists\n",
      "/Users/galraz1/opt/miniconda3/envs/stan_env/lib/python3.7/site-packages/ipykernel_launcher.py:60: UserWarning: Legend does not support 'r' instances.\n",
      "A proxy artist may be used instead.\n",
      "See: https://matplotlib.org/users/legend_guide.html#creating-artists-specifically-for-adding-to-the-legend-aka-proxy-artists\n",
      "/Users/galraz1/opt/miniconda3/envs/stan_env/lib/python3.7/site-packages/ipykernel_launcher.py:60: UserWarning: Legend does not support 'i' instances.\n",
      "A proxy artist may be used instead.\n",
      "See: https://matplotlib.org/users/legend_guide.html#creating-artists-specifically-for-adding-to-the-legend-aka-proxy-artists\n",
      "/Users/galraz1/opt/miniconda3/envs/stan_env/lib/python3.7/site-packages/ipykernel_launcher.py:60: UserWarning: Legend does not support 'o' instances.\n",
      "A proxy artist may be used instead.\n",
      "See: https://matplotlib.org/users/legend_guide.html#creating-artists-specifically-for-adding-to-the-legend-aka-proxy-artists\n",
      "/Users/galraz1/opt/miniconda3/envs/stan_env/lib/python3.7/site-packages/ipykernel_launcher.py:67: UserWarning: Legend does not support 'p' instances.\n",
      "A proxy artist may be used instead.\n",
      "See: https://matplotlib.org/users/legend_guide.html#creating-artists-specifically-for-adding-to-the-legend-aka-proxy-artists\n",
      "/Users/galraz1/opt/miniconda3/envs/stan_env/lib/python3.7/site-packages/ipykernel_launcher.py:67: UserWarning: Legend does not support 'r' instances.\n",
      "A proxy artist may be used instead.\n",
      "See: https://matplotlib.org/users/legend_guide.html#creating-artists-specifically-for-adding-to-the-legend-aka-proxy-artists\n",
      "/Users/galraz1/opt/miniconda3/envs/stan_env/lib/python3.7/site-packages/ipykernel_launcher.py:67: UserWarning: Legend does not support 'i' instances.\n",
      "A proxy artist may be used instead.\n",
      "See: https://matplotlib.org/users/legend_guide.html#creating-artists-specifically-for-adding-to-the-legend-aka-proxy-artists\n",
      "/Users/galraz1/opt/miniconda3/envs/stan_env/lib/python3.7/site-packages/ipykernel_launcher.py:67: UserWarning: Legend does not support 'o' instances.\n",
      "A proxy artist may be used instead.\n",
      "See: https://matplotlib.org/users/legend_guide.html#creating-artists-specifically-for-adding-to-the-legend-aka-proxy-artists\n"
     ]
    },
    {
     "name": "stdout",
     "output_type": "stream",
     "text": [
      "KL: 0.11564165984067412\n",
      "stimulus:  3\n",
      "sample:  7\n",
      "\n",
      "Gradient evaluation took 1.2e-05 seconds\n",
      "1000 transitions using 10 leapfrog steps per transition would take 0.12 seconds.\n",
      "Adjust your expectations accordingly!\n",
      "\n",
      "\n"
     ]
    },
    {
     "name": "stderr",
     "output_type": "stream",
     "text": [
      "WARNING:pystan:79 of 16000 iterations ended with a divergence (0.494 %).\n",
      "WARNING:pystan:Try running with adapt_delta larger than 0.95 to remove the divergences.\n"
     ]
    },
    {
     "name": "stdout",
     "output_type": "stream",
     "text": [
      "Iteration:     1 / 20000 [  0%]  (Warmup)\n",
      "Iteration:  2000 / 20000 [ 10%]  (Warmup)\n",
      "Iteration:  4000 / 20000 [ 20%]  (Warmup)\n",
      "Iteration:  4001 / 20000 [ 20%]  (Sampling)\n",
      "Iteration:  6000 / 20000 [ 30%]  (Sampling)\n",
      "Iteration:  8000 / 20000 [ 40%]  (Sampling)\n",
      "Iteration: 10000 / 20000 [ 50%]  (Sampling)\n",
      "Iteration: 12000 / 20000 [ 60%]  (Sampling)\n",
      "Iteration: 14000 / 20000 [ 70%]  (Sampling)\n",
      "Iteration: 16000 / 20000 [ 80%]  (Sampling)\n",
      "Iteration: 18000 / 20000 [ 90%]  (Sampling)\n",
      "Iteration: 20000 / 20000 [100%]  (Sampling)\n",
      "\n",
      " Elapsed Time: 0.222369 seconds (Warm-up)\n",
      "               0.988242 seconds (Sampling)\n",
      "               1.21061 seconds (Total)\n",
      "\n"
     ]
    },
    {
     "name": "stderr",
     "output_type": "stream",
     "text": [
      "/Users/galraz1/opt/miniconda3/envs/stan_env/lib/python3.7/site-packages/ipykernel_launcher.py:60: UserWarning: Legend does not support 'p' instances.\n",
      "A proxy artist may be used instead.\n",
      "See: https://matplotlib.org/users/legend_guide.html#creating-artists-specifically-for-adding-to-the-legend-aka-proxy-artists\n",
      "/Users/galraz1/opt/miniconda3/envs/stan_env/lib/python3.7/site-packages/ipykernel_launcher.py:60: UserWarning: Legend does not support 'r' instances.\n",
      "A proxy artist may be used instead.\n",
      "See: https://matplotlib.org/users/legend_guide.html#creating-artists-specifically-for-adding-to-the-legend-aka-proxy-artists\n",
      "/Users/galraz1/opt/miniconda3/envs/stan_env/lib/python3.7/site-packages/ipykernel_launcher.py:60: UserWarning: Legend does not support 'i' instances.\n",
      "A proxy artist may be used instead.\n",
      "See: https://matplotlib.org/users/legend_guide.html#creating-artists-specifically-for-adding-to-the-legend-aka-proxy-artists\n",
      "/Users/galraz1/opt/miniconda3/envs/stan_env/lib/python3.7/site-packages/ipykernel_launcher.py:60: UserWarning: Legend does not support 'o' instances.\n",
      "A proxy artist may be used instead.\n",
      "See: https://matplotlib.org/users/legend_guide.html#creating-artists-specifically-for-adding-to-the-legend-aka-proxy-artists\n",
      "/Users/galraz1/opt/miniconda3/envs/stan_env/lib/python3.7/site-packages/ipykernel_launcher.py:67: UserWarning: Legend does not support 'p' instances.\n",
      "A proxy artist may be used instead.\n",
      "See: https://matplotlib.org/users/legend_guide.html#creating-artists-specifically-for-adding-to-the-legend-aka-proxy-artists\n",
      "/Users/galraz1/opt/miniconda3/envs/stan_env/lib/python3.7/site-packages/ipykernel_launcher.py:67: UserWarning: Legend does not support 'r' instances.\n",
      "A proxy artist may be used instead.\n",
      "See: https://matplotlib.org/users/legend_guide.html#creating-artists-specifically-for-adding-to-the-legend-aka-proxy-artists\n",
      "/Users/galraz1/opt/miniconda3/envs/stan_env/lib/python3.7/site-packages/ipykernel_launcher.py:67: UserWarning: Legend does not support 'i' instances.\n",
      "A proxy artist may be used instead.\n",
      "See: https://matplotlib.org/users/legend_guide.html#creating-artists-specifically-for-adding-to-the-legend-aka-proxy-artists\n",
      "/Users/galraz1/opt/miniconda3/envs/stan_env/lib/python3.7/site-packages/ipykernel_launcher.py:67: UserWarning: Legend does not support 'o' instances.\n",
      "A proxy artist may be used instead.\n",
      "See: https://matplotlib.org/users/legend_guide.html#creating-artists-specifically-for-adding-to-the-legend-aka-proxy-artists\n"
     ]
    },
    {
     "name": "stdout",
     "output_type": "stream",
     "text": [
      "KL: 0.04540062906897053\n",
      "stimulus:  3\n",
      "sample:  8\n"
     ]
    },
    {
     "name": "stderr",
     "output_type": "stream",
     "text": [
      "WARNING:pystan:272 of 16000 iterations ended with a divergence (1.7 %).\n",
      "WARNING:pystan:Try running with adapt_delta larger than 0.95 to remove the divergences.\n"
     ]
    },
    {
     "name": "stdout",
     "output_type": "stream",
     "text": [
      "\n",
      "Gradient evaluation took 1.3e-05 seconds\n",
      "1000 transitions using 10 leapfrog steps per transition would take 0.13 seconds.\n",
      "Adjust your expectations accordingly!\n",
      "\n",
      "\n",
      "Iteration:     1 / 20000 [  0%]  (Warmup)\n",
      "Iteration:  2000 / 20000 [ 10%]  (Warmup)\n",
      "Iteration:  4000 / 20000 [ 20%]  (Warmup)\n",
      "Iteration:  4001 / 20000 [ 20%]  (Sampling)\n",
      "Iteration:  6000 / 20000 [ 30%]  (Sampling)\n",
      "Iteration:  8000 / 20000 [ 40%]  (Sampling)\n",
      "Iteration: 10000 / 20000 [ 50%]  (Sampling)\n",
      "Iteration: 12000 / 20000 [ 60%]  (Sampling)\n",
      "Iteration: 14000 / 20000 [ 70%]  (Sampling)\n",
      "Iteration: 16000 / 20000 [ 80%]  (Sampling)\n",
      "Iteration: 18000 / 20000 [ 90%]  (Sampling)\n",
      "Iteration: 20000 / 20000 [100%]  (Sampling)\n",
      "\n",
      " Elapsed Time: 0.218585 seconds (Warm-up)\n",
      "               0.664729 seconds (Sampling)\n",
      "               0.883314 seconds (Total)\n",
      "\n"
     ]
    },
    {
     "name": "stderr",
     "output_type": "stream",
     "text": [
      "/Users/galraz1/opt/miniconda3/envs/stan_env/lib/python3.7/site-packages/ipykernel_launcher.py:60: UserWarning: Legend does not support 'p' instances.\n",
      "A proxy artist may be used instead.\n",
      "See: https://matplotlib.org/users/legend_guide.html#creating-artists-specifically-for-adding-to-the-legend-aka-proxy-artists\n",
      "/Users/galraz1/opt/miniconda3/envs/stan_env/lib/python3.7/site-packages/ipykernel_launcher.py:60: UserWarning: Legend does not support 'r' instances.\n",
      "A proxy artist may be used instead.\n",
      "See: https://matplotlib.org/users/legend_guide.html#creating-artists-specifically-for-adding-to-the-legend-aka-proxy-artists\n",
      "/Users/galraz1/opt/miniconda3/envs/stan_env/lib/python3.7/site-packages/ipykernel_launcher.py:60: UserWarning: Legend does not support 'i' instances.\n",
      "A proxy artist may be used instead.\n",
      "See: https://matplotlib.org/users/legend_guide.html#creating-artists-specifically-for-adding-to-the-legend-aka-proxy-artists\n",
      "/Users/galraz1/opt/miniconda3/envs/stan_env/lib/python3.7/site-packages/ipykernel_launcher.py:60: UserWarning: Legend does not support 'o' instances.\n",
      "A proxy artist may be used instead.\n",
      "See: https://matplotlib.org/users/legend_guide.html#creating-artists-specifically-for-adding-to-the-legend-aka-proxy-artists\n",
      "/Users/galraz1/opt/miniconda3/envs/stan_env/lib/python3.7/site-packages/ipykernel_launcher.py:67: UserWarning: Legend does not support 'p' instances.\n",
      "A proxy artist may be used instead.\n",
      "See: https://matplotlib.org/users/legend_guide.html#creating-artists-specifically-for-adding-to-the-legend-aka-proxy-artists\n",
      "/Users/galraz1/opt/miniconda3/envs/stan_env/lib/python3.7/site-packages/ipykernel_launcher.py:67: UserWarning: Legend does not support 'r' instances.\n",
      "A proxy artist may be used instead.\n",
      "See: https://matplotlib.org/users/legend_guide.html#creating-artists-specifically-for-adding-to-the-legend-aka-proxy-artists\n",
      "/Users/galraz1/opt/miniconda3/envs/stan_env/lib/python3.7/site-packages/ipykernel_launcher.py:67: UserWarning: Legend does not support 'i' instances.\n",
      "A proxy artist may be used instead.\n",
      "See: https://matplotlib.org/users/legend_guide.html#creating-artists-specifically-for-adding-to-the-legend-aka-proxy-artists\n",
      "/Users/galraz1/opt/miniconda3/envs/stan_env/lib/python3.7/site-packages/ipykernel_launcher.py:67: UserWarning: Legend does not support 'o' instances.\n",
      "A proxy artist may be used instead.\n",
      "See: https://matplotlib.org/users/legend_guide.html#creating-artists-specifically-for-adding-to-the-legend-aka-proxy-artists\n"
     ]
    },
    {
     "name": "stdout",
     "output_type": "stream",
     "text": [
      "KL: 0.040804586889658746\n",
      "stimulus:  3\n",
      "sample:  9\n",
      "\n",
      "Gradient evaluation took 1.4e-05 seconds\n",
      "1000 transitions using 10 leapfrog steps per transition would take 0.14 seconds.\n",
      "Adjust your expectations accordingly!\n",
      "\n",
      "\n"
     ]
    },
    {
     "name": "stderr",
     "output_type": "stream",
     "text": [
      "WARNING:pystan:227 of 16000 iterations ended with a divergence (1.42 %).\n",
      "WARNING:pystan:Try running with adapt_delta larger than 0.95 to remove the divergences.\n"
     ]
    },
    {
     "name": "stdout",
     "output_type": "stream",
     "text": [
      "Iteration:     1 / 20000 [  0%]  (Warmup)\n",
      "Iteration:  2000 / 20000 [ 10%]  (Warmup)\n",
      "Iteration:  4000 / 20000 [ 20%]  (Warmup)\n",
      "Iteration:  4001 / 20000 [ 20%]  (Sampling)\n",
      "Iteration:  6000 / 20000 [ 30%]  (Sampling)\n",
      "Iteration:  8000 / 20000 [ 40%]  (Sampling)\n",
      "Iteration: 10000 / 20000 [ 50%]  (Sampling)\n",
      "Iteration: 12000 / 20000 [ 60%]  (Sampling)\n",
      "Iteration: 14000 / 20000 [ 70%]  (Sampling)\n",
      "Iteration: 16000 / 20000 [ 80%]  (Sampling)\n",
      "Iteration: 18000 / 20000 [ 90%]  (Sampling)\n",
      "Iteration: 20000 / 20000 [100%]  (Sampling)\n",
      "\n",
      " Elapsed Time: 0.22781 seconds (Warm-up)\n",
      "               1.05385 seconds (Sampling)\n",
      "               1.28166 seconds (Total)\n",
      "\n"
     ]
    },
    {
     "name": "stderr",
     "output_type": "stream",
     "text": [
      "/Users/galraz1/opt/miniconda3/envs/stan_env/lib/python3.7/site-packages/ipykernel_launcher.py:60: UserWarning: Legend does not support 'p' instances.\n",
      "A proxy artist may be used instead.\n",
      "See: https://matplotlib.org/users/legend_guide.html#creating-artists-specifically-for-adding-to-the-legend-aka-proxy-artists\n",
      "/Users/galraz1/opt/miniconda3/envs/stan_env/lib/python3.7/site-packages/ipykernel_launcher.py:60: UserWarning: Legend does not support 'r' instances.\n",
      "A proxy artist may be used instead.\n",
      "See: https://matplotlib.org/users/legend_guide.html#creating-artists-specifically-for-adding-to-the-legend-aka-proxy-artists\n",
      "/Users/galraz1/opt/miniconda3/envs/stan_env/lib/python3.7/site-packages/ipykernel_launcher.py:60: UserWarning: Legend does not support 'i' instances.\n",
      "A proxy artist may be used instead.\n",
      "See: https://matplotlib.org/users/legend_guide.html#creating-artists-specifically-for-adding-to-the-legend-aka-proxy-artists\n",
      "/Users/galraz1/opt/miniconda3/envs/stan_env/lib/python3.7/site-packages/ipykernel_launcher.py:60: UserWarning: Legend does not support 'o' instances.\n",
      "A proxy artist may be used instead.\n",
      "See: https://matplotlib.org/users/legend_guide.html#creating-artists-specifically-for-adding-to-the-legend-aka-proxy-artists\n",
      "/Users/galraz1/opt/miniconda3/envs/stan_env/lib/python3.7/site-packages/ipykernel_launcher.py:67: UserWarning: Legend does not support 'p' instances.\n",
      "A proxy artist may be used instead.\n",
      "See: https://matplotlib.org/users/legend_guide.html#creating-artists-specifically-for-adding-to-the-legend-aka-proxy-artists\n",
      "/Users/galraz1/opt/miniconda3/envs/stan_env/lib/python3.7/site-packages/ipykernel_launcher.py:67: UserWarning: Legend does not support 'r' instances.\n",
      "A proxy artist may be used instead.\n",
      "See: https://matplotlib.org/users/legend_guide.html#creating-artists-specifically-for-adding-to-the-legend-aka-proxy-artists\n",
      "/Users/galraz1/opt/miniconda3/envs/stan_env/lib/python3.7/site-packages/ipykernel_launcher.py:67: UserWarning: Legend does not support 'i' instances.\n",
      "A proxy artist may be used instead.\n",
      "See: https://matplotlib.org/users/legend_guide.html#creating-artists-specifically-for-adding-to-the-legend-aka-proxy-artists\n",
      "/Users/galraz1/opt/miniconda3/envs/stan_env/lib/python3.7/site-packages/ipykernel_launcher.py:67: UserWarning: Legend does not support 'o' instances.\n",
      "A proxy artist may be used instead.\n",
      "See: https://matplotlib.org/users/legend_guide.html#creating-artists-specifically-for-adding-to-the-legend-aka-proxy-artists\n"
     ]
    },
    {
     "name": "stdout",
     "output_type": "stream",
     "text": [
      "KL: -0.00697326502632935\n",
      "stimulus:  4\n",
      "sample:  10\n"
     ]
    },
    {
     "name": "stderr",
     "output_type": "stream",
     "text": [
      "WARNING:pystan:101 of 16000 iterations ended with a divergence (0.631 %).\n",
      "WARNING:pystan:Try running with adapt_delta larger than 0.95 to remove the divergences.\n"
     ]
    },
    {
     "name": "stdout",
     "output_type": "stream",
     "text": [
      "\n",
      "Gradient evaluation took 1.3e-05 seconds\n",
      "1000 transitions using 10 leapfrog steps per transition would take 0.13 seconds.\n",
      "Adjust your expectations accordingly!\n",
      "\n",
      "\n",
      "Iteration:     1 / 20000 [  0%]  (Warmup)\n",
      "Iteration:  2000 / 20000 [ 10%]  (Warmup)\n",
      "Iteration:  4000 / 20000 [ 20%]  (Warmup)\n",
      "Iteration:  4001 / 20000 [ 20%]  (Sampling)\n",
      "Iteration:  6000 / 20000 [ 30%]  (Sampling)\n",
      "Iteration:  8000 / 20000 [ 40%]  (Sampling)\n",
      "Iteration: 10000 / 20000 [ 50%]  (Sampling)\n",
      "Iteration: 12000 / 20000 [ 60%]  (Sampling)\n",
      "Iteration: 14000 / 20000 [ 70%]  (Sampling)\n",
      "Iteration: 16000 / 20000 [ 80%]  (Sampling)\n",
      "Iteration: 18000 / 20000 [ 90%]  (Sampling)\n",
      "Iteration: 20000 / 20000 [100%]  (Sampling)\n",
      "\n",
      " Elapsed Time: 0.257818 seconds (Warm-up)\n",
      "               1.05755 seconds (Sampling)\n",
      "               1.31536 seconds (Total)\n",
      "\n"
     ]
    },
    {
     "name": "stderr",
     "output_type": "stream",
     "text": [
      "/Users/galraz1/opt/miniconda3/envs/stan_env/lib/python3.7/site-packages/ipykernel_launcher.py:60: UserWarning: Legend does not support 'p' instances.\n",
      "A proxy artist may be used instead.\n",
      "See: https://matplotlib.org/users/legend_guide.html#creating-artists-specifically-for-adding-to-the-legend-aka-proxy-artists\n",
      "/Users/galraz1/opt/miniconda3/envs/stan_env/lib/python3.7/site-packages/ipykernel_launcher.py:60: UserWarning: Legend does not support 'r' instances.\n",
      "A proxy artist may be used instead.\n",
      "See: https://matplotlib.org/users/legend_guide.html#creating-artists-specifically-for-adding-to-the-legend-aka-proxy-artists\n",
      "/Users/galraz1/opt/miniconda3/envs/stan_env/lib/python3.7/site-packages/ipykernel_launcher.py:60: UserWarning: Legend does not support 'i' instances.\n",
      "A proxy artist may be used instead.\n",
      "See: https://matplotlib.org/users/legend_guide.html#creating-artists-specifically-for-adding-to-the-legend-aka-proxy-artists\n",
      "/Users/galraz1/opt/miniconda3/envs/stan_env/lib/python3.7/site-packages/ipykernel_launcher.py:60: UserWarning: Legend does not support 'o' instances.\n",
      "A proxy artist may be used instead.\n",
      "See: https://matplotlib.org/users/legend_guide.html#creating-artists-specifically-for-adding-to-the-legend-aka-proxy-artists\n",
      "/Users/galraz1/opt/miniconda3/envs/stan_env/lib/python3.7/site-packages/ipykernel_launcher.py:67: UserWarning: Legend does not support 'p' instances.\n",
      "A proxy artist may be used instead.\n",
      "See: https://matplotlib.org/users/legend_guide.html#creating-artists-specifically-for-adding-to-the-legend-aka-proxy-artists\n",
      "/Users/galraz1/opt/miniconda3/envs/stan_env/lib/python3.7/site-packages/ipykernel_launcher.py:67: UserWarning: Legend does not support 'r' instances.\n",
      "A proxy artist may be used instead.\n",
      "See: https://matplotlib.org/users/legend_guide.html#creating-artists-specifically-for-adding-to-the-legend-aka-proxy-artists\n",
      "/Users/galraz1/opt/miniconda3/envs/stan_env/lib/python3.7/site-packages/ipykernel_launcher.py:67: UserWarning: Legend does not support 'i' instances.\n",
      "A proxy artist may be used instead.\n",
      "See: https://matplotlib.org/users/legend_guide.html#creating-artists-specifically-for-adding-to-the-legend-aka-proxy-artists\n",
      "/Users/galraz1/opt/miniconda3/envs/stan_env/lib/python3.7/site-packages/ipykernel_launcher.py:67: UserWarning: Legend does not support 'o' instances.\n",
      "A proxy artist may be used instead.\n",
      "See: https://matplotlib.org/users/legend_guide.html#creating-artists-specifically-for-adding-to-the-legend-aka-proxy-artists\n"
     ]
    },
    {
     "name": "stdout",
     "output_type": "stream",
     "text": [
      "KL: 0.12422265731541277\n",
      "stimulus:  4\n",
      "sample:  11\n",
      "\n",
      "Gradient evaluation took 1.3e-05 seconds\n",
      "1000 transitions using 10 leapfrog steps per transition would take 0.13 seconds.\n",
      "Adjust your expectations accordingly!\n",
      "\n",
      "\n",
      "Iteration:     1 / 20000 [  0%]  (Warmup)\n",
      "Iteration:  2000 / 20000 [ 10%]  (Warmup)\n",
      "Iteration:  4000 / 20000 [ 20%]  (Warmup)\n",
      "Iteration:  4001 / 20000 [ 20%]  (Sampling)\n",
      "Iteration:  6000 / 20000 [ 30%]  (Sampling)\n",
      "Iteration:  8000 / 20000 [ 40%]  (Sampling)\n",
      "Iteration: 10000 / 20000 [ 50%]  (Sampling)\n",
      "Iteration: 12000 / 20000 [ 60%]  (Sampling)\n",
      "Iteration: 14000 / 20000 [ 70%]  (Sampling)\n",
      "Iteration: 16000 / 20000 [ 80%]  (Sampling)\n",
      "Iteration: 18000 / 20000 [ 90%]  (Sampling)\n",
      "Iteration: 20000 / 20000 [100%]  (Sampling)\n",
      "\n",
      " Elapsed Time: 0.273128 seconds (Warm-up)\n",
      "               2.37419 seconds (Sampling)\n",
      "               2.64732 seconds (Total)\n",
      "\n"
     ]
    },
    {
     "name": "stderr",
     "output_type": "stream",
     "text": [
      "WARNING:pystan:10 of 16000 iterations ended with a divergence (0.0625 %).\n",
      "WARNING:pystan:Try running with adapt_delta larger than 0.95 to remove the divergences.\n",
      "/Users/galraz1/opt/miniconda3/envs/stan_env/lib/python3.7/site-packages/ipykernel_launcher.py:60: UserWarning: Legend does not support 'p' instances.\n",
      "A proxy artist may be used instead.\n",
      "See: https://matplotlib.org/users/legend_guide.html#creating-artists-specifically-for-adding-to-the-legend-aka-proxy-artists\n",
      "/Users/galraz1/opt/miniconda3/envs/stan_env/lib/python3.7/site-packages/ipykernel_launcher.py:60: UserWarning: Legend does not support 'r' instances.\n",
      "A proxy artist may be used instead.\n",
      "See: https://matplotlib.org/users/legend_guide.html#creating-artists-specifically-for-adding-to-the-legend-aka-proxy-artists\n",
      "/Users/galraz1/opt/miniconda3/envs/stan_env/lib/python3.7/site-packages/ipykernel_launcher.py:60: UserWarning: Legend does not support 'i' instances.\n",
      "A proxy artist may be used instead.\n",
      "See: https://matplotlib.org/users/legend_guide.html#creating-artists-specifically-for-adding-to-the-legend-aka-proxy-artists\n",
      "/Users/galraz1/opt/miniconda3/envs/stan_env/lib/python3.7/site-packages/ipykernel_launcher.py:60: UserWarning: Legend does not support 'o' instances.\n",
      "A proxy artist may be used instead.\n",
      "See: https://matplotlib.org/users/legend_guide.html#creating-artists-specifically-for-adding-to-the-legend-aka-proxy-artists\n",
      "/Users/galraz1/opt/miniconda3/envs/stan_env/lib/python3.7/site-packages/ipykernel_launcher.py:67: UserWarning: Legend does not support 'p' instances.\n",
      "A proxy artist may be used instead.\n",
      "See: https://matplotlib.org/users/legend_guide.html#creating-artists-specifically-for-adding-to-the-legend-aka-proxy-artists\n",
      "/Users/galraz1/opt/miniconda3/envs/stan_env/lib/python3.7/site-packages/ipykernel_launcher.py:67: UserWarning: Legend does not support 'r' instances.\n",
      "A proxy artist may be used instead.\n",
      "See: https://matplotlib.org/users/legend_guide.html#creating-artists-specifically-for-adding-to-the-legend-aka-proxy-artists\n",
      "/Users/galraz1/opt/miniconda3/envs/stan_env/lib/python3.7/site-packages/ipykernel_launcher.py:67: UserWarning: Legend does not support 'i' instances.\n",
      "A proxy artist may be used instead.\n",
      "See: https://matplotlib.org/users/legend_guide.html#creating-artists-specifically-for-adding-to-the-legend-aka-proxy-artists\n",
      "/Users/galraz1/opt/miniconda3/envs/stan_env/lib/python3.7/site-packages/ipykernel_launcher.py:67: UserWarning: Legend does not support 'o' instances.\n",
      "A proxy artist may be used instead.\n",
      "See: https://matplotlib.org/users/legend_guide.html#creating-artists-specifically-for-adding-to-the-legend-aka-proxy-artists\n"
     ]
    },
    {
     "name": "stdout",
     "output_type": "stream",
     "text": [
      "KL: 0.0005884526344810756\n",
      "stimulus:  5\n",
      "sample:  12\n",
      "\n",
      "Gradient evaluation took 1.2e-05 seconds\n",
      "1000 transitions using 10 leapfrog steps per transition would take 0.12 seconds.\n",
      "Adjust your expectations accordingly!\n",
      "\n",
      "\n"
     ]
    },
    {
     "name": "stderr",
     "output_type": "stream",
     "text": [
      "WARNING:pystan:644 of 16000 iterations ended with a divergence (4.03 %).\n",
      "WARNING:pystan:Try running with adapt_delta larger than 0.95 to remove the divergences.\n"
     ]
    },
    {
     "name": "stdout",
     "output_type": "stream",
     "text": [
      "Iteration:     1 / 20000 [  0%]  (Warmup)\n",
      "Iteration:  2000 / 20000 [ 10%]  (Warmup)\n",
      "Iteration:  4000 / 20000 [ 20%]  (Warmup)\n",
      "Iteration:  4001 / 20000 [ 20%]  (Sampling)\n",
      "Iteration:  6000 / 20000 [ 30%]  (Sampling)\n",
      "Iteration:  8000 / 20000 [ 40%]  (Sampling)\n",
      "Iteration: 10000 / 20000 [ 50%]  (Sampling)\n",
      "Iteration: 12000 / 20000 [ 60%]  (Sampling)\n",
      "Iteration: 14000 / 20000 [ 70%]  (Sampling)\n",
      "Iteration: 16000 / 20000 [ 80%]  (Sampling)\n",
      "Iteration: 18000 / 20000 [ 90%]  (Sampling)\n",
      "Iteration: 20000 / 20000 [100%]  (Sampling)\n",
      "\n",
      " Elapsed Time: 0.310686 seconds (Warm-up)\n",
      "               0.934687 seconds (Sampling)\n",
      "               1.24537 seconds (Total)\n",
      "\n"
     ]
    },
    {
     "name": "stderr",
     "output_type": "stream",
     "text": [
      "/Users/galraz1/opt/miniconda3/envs/stan_env/lib/python3.7/site-packages/ipykernel_launcher.py:60: UserWarning: Legend does not support 'p' instances.\n",
      "A proxy artist may be used instead.\n",
      "See: https://matplotlib.org/users/legend_guide.html#creating-artists-specifically-for-adding-to-the-legend-aka-proxy-artists\n",
      "/Users/galraz1/opt/miniconda3/envs/stan_env/lib/python3.7/site-packages/ipykernel_launcher.py:60: UserWarning: Legend does not support 'r' instances.\n",
      "A proxy artist may be used instead.\n",
      "See: https://matplotlib.org/users/legend_guide.html#creating-artists-specifically-for-adding-to-the-legend-aka-proxy-artists\n",
      "/Users/galraz1/opt/miniconda3/envs/stan_env/lib/python3.7/site-packages/ipykernel_launcher.py:60: UserWarning: Legend does not support 'i' instances.\n",
      "A proxy artist may be used instead.\n",
      "See: https://matplotlib.org/users/legend_guide.html#creating-artists-specifically-for-adding-to-the-legend-aka-proxy-artists\n",
      "/Users/galraz1/opt/miniconda3/envs/stan_env/lib/python3.7/site-packages/ipykernel_launcher.py:60: UserWarning: Legend does not support 'o' instances.\n",
      "A proxy artist may be used instead.\n",
      "See: https://matplotlib.org/users/legend_guide.html#creating-artists-specifically-for-adding-to-the-legend-aka-proxy-artists\n",
      "/Users/galraz1/opt/miniconda3/envs/stan_env/lib/python3.7/site-packages/ipykernel_launcher.py:67: UserWarning: Legend does not support 'p' instances.\n",
      "A proxy artist may be used instead.\n",
      "See: https://matplotlib.org/users/legend_guide.html#creating-artists-specifically-for-adding-to-the-legend-aka-proxy-artists\n",
      "/Users/galraz1/opt/miniconda3/envs/stan_env/lib/python3.7/site-packages/ipykernel_launcher.py:67: UserWarning: Legend does not support 'r' instances.\n",
      "A proxy artist may be used instead.\n",
      "See: https://matplotlib.org/users/legend_guide.html#creating-artists-specifically-for-adding-to-the-legend-aka-proxy-artists\n",
      "/Users/galraz1/opt/miniconda3/envs/stan_env/lib/python3.7/site-packages/ipykernel_launcher.py:67: UserWarning: Legend does not support 'i' instances.\n",
      "A proxy artist may be used instead.\n",
      "See: https://matplotlib.org/users/legend_guide.html#creating-artists-specifically-for-adding-to-the-legend-aka-proxy-artists\n",
      "/Users/galraz1/opt/miniconda3/envs/stan_env/lib/python3.7/site-packages/ipykernel_launcher.py:67: UserWarning: Legend does not support 'o' instances.\n",
      "A proxy artist may be used instead.\n",
      "See: https://matplotlib.org/users/legend_guide.html#creating-artists-specifically-for-adding-to-the-legend-aka-proxy-artists\n"
     ]
    },
    {
     "name": "stdout",
     "output_type": "stream",
     "text": [
      "KL: 0.15211475315752615\n",
      "stimulus:  5\n",
      "sample:  13\n",
      "\n",
      "Gradient evaluation took 1.2e-05 seconds\n",
      "1000 transitions using 10 leapfrog steps per transition would take 0.12 seconds.\n",
      "Adjust your expectations accordingly!\n",
      "\n",
      "\n"
     ]
    },
    {
     "name": "stderr",
     "output_type": "stream",
     "text": [
      "WARNING:pystan:117 of 16000 iterations ended with a divergence (0.731 %).\n",
      "WARNING:pystan:Try running with adapt_delta larger than 0.95 to remove the divergences.\n"
     ]
    },
    {
     "name": "stdout",
     "output_type": "stream",
     "text": [
      "Iteration:     1 / 20000 [  0%]  (Warmup)\n",
      "Iteration:  2000 / 20000 [ 10%]  (Warmup)\n",
      "Iteration:  4000 / 20000 [ 20%]  (Warmup)\n",
      "Iteration:  4001 / 20000 [ 20%]  (Sampling)\n",
      "Iteration:  6000 / 20000 [ 30%]  (Sampling)\n",
      "Iteration:  8000 / 20000 [ 40%]  (Sampling)\n",
      "Iteration: 10000 / 20000 [ 50%]  (Sampling)\n",
      "Iteration: 12000 / 20000 [ 60%]  (Sampling)\n",
      "Iteration: 14000 / 20000 [ 70%]  (Sampling)\n",
      "Iteration: 16000 / 20000 [ 80%]  (Sampling)\n",
      "Iteration: 18000 / 20000 [ 90%]  (Sampling)\n",
      "Iteration: 20000 / 20000 [100%]  (Sampling)\n",
      "\n",
      " Elapsed Time: 0.252594 seconds (Warm-up)\n",
      "               1.3038 seconds (Sampling)\n",
      "               1.55639 seconds (Total)\n",
      "\n"
     ]
    },
    {
     "name": "stderr",
     "output_type": "stream",
     "text": [
      "/Users/galraz1/opt/miniconda3/envs/stan_env/lib/python3.7/site-packages/ipykernel_launcher.py:60: UserWarning: Legend does not support 'p' instances.\n",
      "A proxy artist may be used instead.\n",
      "See: https://matplotlib.org/users/legend_guide.html#creating-artists-specifically-for-adding-to-the-legend-aka-proxy-artists\n",
      "/Users/galraz1/opt/miniconda3/envs/stan_env/lib/python3.7/site-packages/ipykernel_launcher.py:60: UserWarning: Legend does not support 'r' instances.\n",
      "A proxy artist may be used instead.\n",
      "See: https://matplotlib.org/users/legend_guide.html#creating-artists-specifically-for-adding-to-the-legend-aka-proxy-artists\n",
      "/Users/galraz1/opt/miniconda3/envs/stan_env/lib/python3.7/site-packages/ipykernel_launcher.py:60: UserWarning: Legend does not support 'i' instances.\n",
      "A proxy artist may be used instead.\n",
      "See: https://matplotlib.org/users/legend_guide.html#creating-artists-specifically-for-adding-to-the-legend-aka-proxy-artists\n",
      "/Users/galraz1/opt/miniconda3/envs/stan_env/lib/python3.7/site-packages/ipykernel_launcher.py:60: UserWarning: Legend does not support 'o' instances.\n",
      "A proxy artist may be used instead.\n",
      "See: https://matplotlib.org/users/legend_guide.html#creating-artists-specifically-for-adding-to-the-legend-aka-proxy-artists\n",
      "/Users/galraz1/opt/miniconda3/envs/stan_env/lib/python3.7/site-packages/ipykernel_launcher.py:67: UserWarning: Legend does not support 'p' instances.\n",
      "A proxy artist may be used instead.\n",
      "See: https://matplotlib.org/users/legend_guide.html#creating-artists-specifically-for-adding-to-the-legend-aka-proxy-artists\n",
      "/Users/galraz1/opt/miniconda3/envs/stan_env/lib/python3.7/site-packages/ipykernel_launcher.py:67: UserWarning: Legend does not support 'r' instances.\n",
      "A proxy artist may be used instead.\n",
      "See: https://matplotlib.org/users/legend_guide.html#creating-artists-specifically-for-adding-to-the-legend-aka-proxy-artists\n",
      "/Users/galraz1/opt/miniconda3/envs/stan_env/lib/python3.7/site-packages/ipykernel_launcher.py:67: UserWarning: Legend does not support 'i' instances.\n",
      "A proxy artist may be used instead.\n",
      "See: https://matplotlib.org/users/legend_guide.html#creating-artists-specifically-for-adding-to-the-legend-aka-proxy-artists\n",
      "/Users/galraz1/opt/miniconda3/envs/stan_env/lib/python3.7/site-packages/ipykernel_launcher.py:67: UserWarning: Legend does not support 'o' instances.\n",
      "A proxy artist may be used instead.\n",
      "See: https://matplotlib.org/users/legend_guide.html#creating-artists-specifically-for-adding-to-the-legend-aka-proxy-artists\n",
      "/Users/galraz1/opt/miniconda3/envs/stan_env/lib/python3.7/site-packages/ipykernel_launcher.py:28: RuntimeWarning: divide by zero encountered in log\n",
      "/Users/galraz1/opt/miniconda3/envs/stan_env/lib/python3.7/site-packages/ipykernel_launcher.py:33: RuntimeWarning: divide by zero encountered in log\n"
     ]
    },
    {
     "name": "stdout",
     "output_type": "stream",
     "text": [
      "KL: inf\n",
      "stimulus:  5\n",
      "sample:  14\n"
     ]
    },
    {
     "name": "stderr",
     "output_type": "stream",
     "text": [
      "WARNING:pystan:133 of 16000 iterations ended with a divergence (0.831 %).\n",
      "WARNING:pystan:Try running with adapt_delta larger than 0.95 to remove the divergences.\n"
     ]
    },
    {
     "name": "stdout",
     "output_type": "stream",
     "text": [
      "\n",
      "Gradient evaluation took 1.3e-05 seconds\n",
      "1000 transitions using 10 leapfrog steps per transition would take 0.13 seconds.\n",
      "Adjust your expectations accordingly!\n",
      "\n",
      "\n",
      "Iteration:     1 / 20000 [  0%]  (Warmup)\n",
      "Iteration:  2000 / 20000 [ 10%]  (Warmup)\n",
      "Iteration:  4000 / 20000 [ 20%]  (Warmup)\n",
      "Iteration:  4001 / 20000 [ 20%]  (Sampling)\n",
      "Iteration:  6000 / 20000 [ 30%]  (Sampling)\n",
      "Iteration:  8000 / 20000 [ 40%]  (Sampling)\n",
      "Iteration: 10000 / 20000 [ 50%]  (Sampling)\n",
      "Iteration: 12000 / 20000 [ 60%]  (Sampling)\n",
      "Iteration: 14000 / 20000 [ 70%]  (Sampling)\n",
      "Iteration: 16000 / 20000 [ 80%]  (Sampling)\n",
      "Iteration: 18000 / 20000 [ 90%]  (Sampling)\n",
      "Iteration: 20000 / 20000 [100%]  (Sampling)\n",
      "\n",
      " Elapsed Time: 0.282112 seconds (Warm-up)\n",
      "               1.32356 seconds (Sampling)\n",
      "               1.60567 seconds (Total)\n",
      "\n"
     ]
    },
    {
     "name": "stderr",
     "output_type": "stream",
     "text": [
      "/Users/galraz1/opt/miniconda3/envs/stan_env/lib/python3.7/site-packages/ipykernel_launcher.py:60: UserWarning: Legend does not support 'p' instances.\n",
      "A proxy artist may be used instead.\n",
      "See: https://matplotlib.org/users/legend_guide.html#creating-artists-specifically-for-adding-to-the-legend-aka-proxy-artists\n",
      "/Users/galraz1/opt/miniconda3/envs/stan_env/lib/python3.7/site-packages/ipykernel_launcher.py:60: UserWarning: Legend does not support 'r' instances.\n",
      "A proxy artist may be used instead.\n",
      "See: https://matplotlib.org/users/legend_guide.html#creating-artists-specifically-for-adding-to-the-legend-aka-proxy-artists\n",
      "/Users/galraz1/opt/miniconda3/envs/stan_env/lib/python3.7/site-packages/ipykernel_launcher.py:60: UserWarning: Legend does not support 'i' instances.\n",
      "A proxy artist may be used instead.\n",
      "See: https://matplotlib.org/users/legend_guide.html#creating-artists-specifically-for-adding-to-the-legend-aka-proxy-artists\n",
      "/Users/galraz1/opt/miniconda3/envs/stan_env/lib/python3.7/site-packages/ipykernel_launcher.py:60: UserWarning: Legend does not support 'o' instances.\n",
      "A proxy artist may be used instead.\n",
      "See: https://matplotlib.org/users/legend_guide.html#creating-artists-specifically-for-adding-to-the-legend-aka-proxy-artists\n",
      "/Users/galraz1/opt/miniconda3/envs/stan_env/lib/python3.7/site-packages/ipykernel_launcher.py:67: UserWarning: Legend does not support 'p' instances.\n",
      "A proxy artist may be used instead.\n",
      "See: https://matplotlib.org/users/legend_guide.html#creating-artists-specifically-for-adding-to-the-legend-aka-proxy-artists\n",
      "/Users/galraz1/opt/miniconda3/envs/stan_env/lib/python3.7/site-packages/ipykernel_launcher.py:67: UserWarning: Legend does not support 'r' instances.\n",
      "A proxy artist may be used instead.\n",
      "See: https://matplotlib.org/users/legend_guide.html#creating-artists-specifically-for-adding-to-the-legend-aka-proxy-artists\n",
      "/Users/galraz1/opt/miniconda3/envs/stan_env/lib/python3.7/site-packages/ipykernel_launcher.py:67: UserWarning: Legend does not support 'i' instances.\n",
      "A proxy artist may be used instead.\n",
      "See: https://matplotlib.org/users/legend_guide.html#creating-artists-specifically-for-adding-to-the-legend-aka-proxy-artists\n",
      "/Users/galraz1/opt/miniconda3/envs/stan_env/lib/python3.7/site-packages/ipykernel_launcher.py:67: UserWarning: Legend does not support 'o' instances.\n",
      "A proxy artist may be used instead.\n",
      "See: https://matplotlib.org/users/legend_guide.html#creating-artists-specifically-for-adding-to-the-legend-aka-proxy-artists\n"
     ]
    },
    {
     "name": "stdout",
     "output_type": "stream",
     "text": [
      "KL: 0.02567998291146521\n",
      "stimulus:  5\n",
      "sample:  15\n",
      "\n",
      "Gradient evaluation took 1.2e-05 seconds\n",
      "1000 transitions using 10 leapfrog steps per transition would take 0.12 seconds.\n",
      "Adjust your expectations accordingly!\n",
      "\n",
      "\n"
     ]
    },
    {
     "name": "stderr",
     "output_type": "stream",
     "text": [
      "WARNING:pystan:207 of 16000 iterations ended with a divergence (1.29 %).\n",
      "WARNING:pystan:Try running with adapt_delta larger than 0.95 to remove the divergences.\n"
     ]
    },
    {
     "name": "stdout",
     "output_type": "stream",
     "text": [
      "Iteration:     1 / 20000 [  0%]  (Warmup)\n",
      "Iteration:  2000 / 20000 [ 10%]  (Warmup)\n",
      "Iteration:  4000 / 20000 [ 20%]  (Warmup)\n",
      "Iteration:  4001 / 20000 [ 20%]  (Sampling)\n",
      "Iteration:  6000 / 20000 [ 30%]  (Sampling)\n",
      "Iteration:  8000 / 20000 [ 40%]  (Sampling)\n",
      "Iteration: 10000 / 20000 [ 50%]  (Sampling)\n",
      "Iteration: 12000 / 20000 [ 60%]  (Sampling)\n",
      "Iteration: 14000 / 20000 [ 70%]  (Sampling)\n",
      "Iteration: 16000 / 20000 [ 80%]  (Sampling)\n",
      "Iteration: 18000 / 20000 [ 90%]  (Sampling)\n",
      "Iteration: 20000 / 20000 [100%]  (Sampling)\n",
      "\n",
      " Elapsed Time: 0.25697 seconds (Warm-up)\n",
      "               2.06605 seconds (Sampling)\n",
      "               2.32302 seconds (Total)\n",
      "\n"
     ]
    },
    {
     "name": "stderr",
     "output_type": "stream",
     "text": [
      "/Users/galraz1/opt/miniconda3/envs/stan_env/lib/python3.7/site-packages/ipykernel_launcher.py:60: UserWarning: Legend does not support 'p' instances.\n",
      "A proxy artist may be used instead.\n",
      "See: https://matplotlib.org/users/legend_guide.html#creating-artists-specifically-for-adding-to-the-legend-aka-proxy-artists\n",
      "/Users/galraz1/opt/miniconda3/envs/stan_env/lib/python3.7/site-packages/ipykernel_launcher.py:60: UserWarning: Legend does not support 'r' instances.\n",
      "A proxy artist may be used instead.\n",
      "See: https://matplotlib.org/users/legend_guide.html#creating-artists-specifically-for-adding-to-the-legend-aka-proxy-artists\n",
      "/Users/galraz1/opt/miniconda3/envs/stan_env/lib/python3.7/site-packages/ipykernel_launcher.py:60: UserWarning: Legend does not support 'i' instances.\n",
      "A proxy artist may be used instead.\n",
      "See: https://matplotlib.org/users/legend_guide.html#creating-artists-specifically-for-adding-to-the-legend-aka-proxy-artists\n",
      "/Users/galraz1/opt/miniconda3/envs/stan_env/lib/python3.7/site-packages/ipykernel_launcher.py:60: UserWarning: Legend does not support 'o' instances.\n",
      "A proxy artist may be used instead.\n",
      "See: https://matplotlib.org/users/legend_guide.html#creating-artists-specifically-for-adding-to-the-legend-aka-proxy-artists\n",
      "/Users/galraz1/opt/miniconda3/envs/stan_env/lib/python3.7/site-packages/ipykernel_launcher.py:67: UserWarning: Legend does not support 'p' instances.\n",
      "A proxy artist may be used instead.\n",
      "See: https://matplotlib.org/users/legend_guide.html#creating-artists-specifically-for-adding-to-the-legend-aka-proxy-artists\n",
      "/Users/galraz1/opt/miniconda3/envs/stan_env/lib/python3.7/site-packages/ipykernel_launcher.py:67: UserWarning: Legend does not support 'r' instances.\n",
      "A proxy artist may be used instead.\n",
      "See: https://matplotlib.org/users/legend_guide.html#creating-artists-specifically-for-adding-to-the-legend-aka-proxy-artists\n",
      "/Users/galraz1/opt/miniconda3/envs/stan_env/lib/python3.7/site-packages/ipykernel_launcher.py:67: UserWarning: Legend does not support 'i' instances.\n",
      "A proxy artist may be used instead.\n",
      "See: https://matplotlib.org/users/legend_guide.html#creating-artists-specifically-for-adding-to-the-legend-aka-proxy-artists\n",
      "/Users/galraz1/opt/miniconda3/envs/stan_env/lib/python3.7/site-packages/ipykernel_launcher.py:67: UserWarning: Legend does not support 'o' instances.\n",
      "A proxy artist may be used instead.\n",
      "See: https://matplotlib.org/users/legend_guide.html#creating-artists-specifically-for-adding-to-the-legend-aka-proxy-artists\n",
      "WARNING:pystan:341 of 16000 iterations ended with a divergence (2.13 %).\n",
      "WARNING:pystan:Try running with adapt_delta larger than 0.95 to remove the divergences.\n"
     ]
    },
    {
     "name": "stdout",
     "output_type": "stream",
     "text": [
      "KL: 0.019497110362776297\n",
      "stimulus:  5\n",
      "sample:  16\n",
      "\n",
      "Gradient evaluation took 1.2e-05 seconds\n",
      "1000 transitions using 10 leapfrog steps per transition would take 0.12 seconds.\n",
      "Adjust your expectations accordingly!\n",
      "\n",
      "\n",
      "Iteration:     1 / 20000 [  0%]  (Warmup)\n",
      "Iteration:  2000 / 20000 [ 10%]  (Warmup)\n",
      "Iteration:  4000 / 20000 [ 20%]  (Warmup)\n",
      "Iteration:  4001 / 20000 [ 20%]  (Sampling)\n",
      "Iteration:  6000 / 20000 [ 30%]  (Sampling)\n",
      "Iteration:  8000 / 20000 [ 40%]  (Sampling)\n",
      "Iteration: 10000 / 20000 [ 50%]  (Sampling)\n",
      "Iteration: 12000 / 20000 [ 60%]  (Sampling)\n",
      "Iteration: 14000 / 20000 [ 70%]  (Sampling)\n",
      "Iteration: 16000 / 20000 [ 80%]  (Sampling)\n",
      "Iteration: 18000 / 20000 [ 90%]  (Sampling)\n",
      "Iteration: 20000 / 20000 [100%]  (Sampling)\n",
      "\n",
      " Elapsed Time: 0.31478 seconds (Warm-up)\n",
      "               1.19558 seconds (Sampling)\n",
      "               1.51036 seconds (Total)\n",
      "\n"
     ]
    },
    {
     "name": "stderr",
     "output_type": "stream",
     "text": [
      "/Users/galraz1/opt/miniconda3/envs/stan_env/lib/python3.7/site-packages/ipykernel_launcher.py:60: UserWarning: Legend does not support 'p' instances.\n",
      "A proxy artist may be used instead.\n",
      "See: https://matplotlib.org/users/legend_guide.html#creating-artists-specifically-for-adding-to-the-legend-aka-proxy-artists\n",
      "/Users/galraz1/opt/miniconda3/envs/stan_env/lib/python3.7/site-packages/ipykernel_launcher.py:60: UserWarning: Legend does not support 'r' instances.\n",
      "A proxy artist may be used instead.\n",
      "See: https://matplotlib.org/users/legend_guide.html#creating-artists-specifically-for-adding-to-the-legend-aka-proxy-artists\n",
      "/Users/galraz1/opt/miniconda3/envs/stan_env/lib/python3.7/site-packages/ipykernel_launcher.py:60: UserWarning: Legend does not support 'i' instances.\n",
      "A proxy artist may be used instead.\n",
      "See: https://matplotlib.org/users/legend_guide.html#creating-artists-specifically-for-adding-to-the-legend-aka-proxy-artists\n",
      "/Users/galraz1/opt/miniconda3/envs/stan_env/lib/python3.7/site-packages/ipykernel_launcher.py:60: UserWarning: Legend does not support 'o' instances.\n",
      "A proxy artist may be used instead.\n",
      "See: https://matplotlib.org/users/legend_guide.html#creating-artists-specifically-for-adding-to-the-legend-aka-proxy-artists\n",
      "/Users/galraz1/opt/miniconda3/envs/stan_env/lib/python3.7/site-packages/ipykernel_launcher.py:67: UserWarning: Legend does not support 'p' instances.\n",
      "A proxy artist may be used instead.\n",
      "See: https://matplotlib.org/users/legend_guide.html#creating-artists-specifically-for-adding-to-the-legend-aka-proxy-artists\n",
      "/Users/galraz1/opt/miniconda3/envs/stan_env/lib/python3.7/site-packages/ipykernel_launcher.py:67: UserWarning: Legend does not support 'r' instances.\n",
      "A proxy artist may be used instead.\n",
      "See: https://matplotlib.org/users/legend_guide.html#creating-artists-specifically-for-adding-to-the-legend-aka-proxy-artists\n",
      "/Users/galraz1/opt/miniconda3/envs/stan_env/lib/python3.7/site-packages/ipykernel_launcher.py:67: UserWarning: Legend does not support 'i' instances.\n",
      "A proxy artist may be used instead.\n",
      "See: https://matplotlib.org/users/legend_guide.html#creating-artists-specifically-for-adding-to-the-legend-aka-proxy-artists\n",
      "/Users/galraz1/opt/miniconda3/envs/stan_env/lib/python3.7/site-packages/ipykernel_launcher.py:67: UserWarning: Legend does not support 'o' instances.\n",
      "A proxy artist may be used instead.\n",
      "See: https://matplotlib.org/users/legend_guide.html#creating-artists-specifically-for-adding-to-the-legend-aka-proxy-artists\n"
     ]
    },
    {
     "name": "stdout",
     "output_type": "stream",
     "text": [
      "KL: 0.09304971023143711\n",
      "stimulus:  5\n",
      "sample:  17\n",
      "\n",
      "Gradient evaluation took 1.2e-05 seconds\n"
     ]
    },
    {
     "name": "stderr",
     "output_type": "stream",
     "text": [
      "WARNING:pystan:189 of 16000 iterations ended with a divergence (1.18 %).\n",
      "WARNING:pystan:Try running with adapt_delta larger than 0.95 to remove the divergences.\n"
     ]
    },
    {
     "name": "stdout",
     "output_type": "stream",
     "text": [
      "1000 transitions using 10 leapfrog steps per transition would take 0.12 seconds.\n",
      "Adjust your expectations accordingly!\n",
      "\n",
      "\n",
      "Iteration:     1 / 20000 [  0%]  (Warmup)\n",
      "Iteration:  2000 / 20000 [ 10%]  (Warmup)\n",
      "Iteration:  4000 / 20000 [ 20%]  (Warmup)\n",
      "Iteration:  4001 / 20000 [ 20%]  (Sampling)\n",
      "Iteration:  6000 / 20000 [ 30%]  (Sampling)\n",
      "Iteration:  8000 / 20000 [ 40%]  (Sampling)\n",
      "Iteration: 10000 / 20000 [ 50%]  (Sampling)\n",
      "Iteration: 12000 / 20000 [ 60%]  (Sampling)\n",
      "Iteration: 14000 / 20000 [ 70%]  (Sampling)\n",
      "Iteration: 16000 / 20000 [ 80%]  (Sampling)\n",
      "Iteration: 18000 / 20000 [ 90%]  (Sampling)\n",
      "Iteration: 20000 / 20000 [100%]  (Sampling)\n",
      "\n",
      " Elapsed Time: 0.294336 seconds (Warm-up)\n",
      "               0.99789 seconds (Sampling)\n",
      "               1.29223 seconds (Total)\n",
      "\n"
     ]
    },
    {
     "name": "stderr",
     "output_type": "stream",
     "text": [
      "/Users/galraz1/opt/miniconda3/envs/stan_env/lib/python3.7/site-packages/ipykernel_launcher.py:60: UserWarning: Legend does not support 'p' instances.\n",
      "A proxy artist may be used instead.\n",
      "See: https://matplotlib.org/users/legend_guide.html#creating-artists-specifically-for-adding-to-the-legend-aka-proxy-artists\n",
      "/Users/galraz1/opt/miniconda3/envs/stan_env/lib/python3.7/site-packages/ipykernel_launcher.py:60: UserWarning: Legend does not support 'r' instances.\n",
      "A proxy artist may be used instead.\n",
      "See: https://matplotlib.org/users/legend_guide.html#creating-artists-specifically-for-adding-to-the-legend-aka-proxy-artists\n",
      "/Users/galraz1/opt/miniconda3/envs/stan_env/lib/python3.7/site-packages/ipykernel_launcher.py:60: UserWarning: Legend does not support 'i' instances.\n",
      "A proxy artist may be used instead.\n",
      "See: https://matplotlib.org/users/legend_guide.html#creating-artists-specifically-for-adding-to-the-legend-aka-proxy-artists\n",
      "/Users/galraz1/opt/miniconda3/envs/stan_env/lib/python3.7/site-packages/ipykernel_launcher.py:60: UserWarning: Legend does not support 'o' instances.\n",
      "A proxy artist may be used instead.\n",
      "See: https://matplotlib.org/users/legend_guide.html#creating-artists-specifically-for-adding-to-the-legend-aka-proxy-artists\n",
      "/Users/galraz1/opt/miniconda3/envs/stan_env/lib/python3.7/site-packages/ipykernel_launcher.py:67: UserWarning: Legend does not support 'p' instances.\n",
      "A proxy artist may be used instead.\n",
      "See: https://matplotlib.org/users/legend_guide.html#creating-artists-specifically-for-adding-to-the-legend-aka-proxy-artists\n",
      "/Users/galraz1/opt/miniconda3/envs/stan_env/lib/python3.7/site-packages/ipykernel_launcher.py:67: UserWarning: Legend does not support 'r' instances.\n",
      "A proxy artist may be used instead.\n",
      "See: https://matplotlib.org/users/legend_guide.html#creating-artists-specifically-for-adding-to-the-legend-aka-proxy-artists\n",
      "/Users/galraz1/opt/miniconda3/envs/stan_env/lib/python3.7/site-packages/ipykernel_launcher.py:67: UserWarning: Legend does not support 'i' instances.\n",
      "A proxy artist may be used instead.\n",
      "See: https://matplotlib.org/users/legend_guide.html#creating-artists-specifically-for-adding-to-the-legend-aka-proxy-artists\n",
      "/Users/galraz1/opt/miniconda3/envs/stan_env/lib/python3.7/site-packages/ipykernel_launcher.py:67: UserWarning: Legend does not support 'o' instances.\n",
      "A proxy artist may be used instead.\n",
      "See: https://matplotlib.org/users/legend_guide.html#creating-artists-specifically-for-adding-to-the-legend-aka-proxy-artists\n",
      "WARNING:pystan:139 of 16000 iterations ended with a divergence (0.869 %).\n",
      "WARNING:pystan:Try running with adapt_delta larger than 0.95 to remove the divergences.\n"
     ]
    },
    {
     "name": "stdout",
     "output_type": "stream",
     "text": [
      "KL: 0.050402597475650665\n",
      "stimulus:  5\n",
      "sample:  18\n",
      "\n",
      "Gradient evaluation took 1.5e-05 seconds\n",
      "1000 transitions using 10 leapfrog steps per transition would take 0.15 seconds.\n",
      "Adjust your expectations accordingly!\n",
      "\n",
      "\n",
      "Iteration:     1 / 20000 [  0%]  (Warmup)\n",
      "Iteration:  2000 / 20000 [ 10%]  (Warmup)\n",
      "Iteration:  4000 / 20000 [ 20%]  (Warmup)\n",
      "Iteration:  4001 / 20000 [ 20%]  (Sampling)\n",
      "Iteration:  6000 / 20000 [ 30%]  (Sampling)\n",
      "Iteration:  8000 / 20000 [ 40%]  (Sampling)\n",
      "Iteration: 10000 / 20000 [ 50%]  (Sampling)\n",
      "Iteration: 12000 / 20000 [ 60%]  (Sampling)\n",
      "Iteration: 14000 / 20000 [ 70%]  (Sampling)\n",
      "Iteration: 16000 / 20000 [ 80%]  (Sampling)\n",
      "Iteration: 18000 / 20000 [ 90%]  (Sampling)\n",
      "Iteration: 20000 / 20000 [100%]  (Sampling)\n",
      "\n",
      " Elapsed Time: 0.270785 seconds (Warm-up)\n",
      "               1.13945 seconds (Sampling)\n",
      "               1.41023 seconds (Total)\n",
      "\n"
     ]
    },
    {
     "name": "stderr",
     "output_type": "stream",
     "text": [
      "/Users/galraz1/opt/miniconda3/envs/stan_env/lib/python3.7/site-packages/ipykernel_launcher.py:60: UserWarning: Legend does not support 'p' instances.\n",
      "A proxy artist may be used instead.\n",
      "See: https://matplotlib.org/users/legend_guide.html#creating-artists-specifically-for-adding-to-the-legend-aka-proxy-artists\n",
      "/Users/galraz1/opt/miniconda3/envs/stan_env/lib/python3.7/site-packages/ipykernel_launcher.py:60: UserWarning: Legend does not support 'r' instances.\n",
      "A proxy artist may be used instead.\n",
      "See: https://matplotlib.org/users/legend_guide.html#creating-artists-specifically-for-adding-to-the-legend-aka-proxy-artists\n",
      "/Users/galraz1/opt/miniconda3/envs/stan_env/lib/python3.7/site-packages/ipykernel_launcher.py:60: UserWarning: Legend does not support 'i' instances.\n",
      "A proxy artist may be used instead.\n",
      "See: https://matplotlib.org/users/legend_guide.html#creating-artists-specifically-for-adding-to-the-legend-aka-proxy-artists\n",
      "/Users/galraz1/opt/miniconda3/envs/stan_env/lib/python3.7/site-packages/ipykernel_launcher.py:60: UserWarning: Legend does not support 'o' instances.\n",
      "A proxy artist may be used instead.\n",
      "See: https://matplotlib.org/users/legend_guide.html#creating-artists-specifically-for-adding-to-the-legend-aka-proxy-artists\n",
      "/Users/galraz1/opt/miniconda3/envs/stan_env/lib/python3.7/site-packages/ipykernel_launcher.py:67: UserWarning: Legend does not support 'p' instances.\n",
      "A proxy artist may be used instead.\n",
      "See: https://matplotlib.org/users/legend_guide.html#creating-artists-specifically-for-adding-to-the-legend-aka-proxy-artists\n",
      "/Users/galraz1/opt/miniconda3/envs/stan_env/lib/python3.7/site-packages/ipykernel_launcher.py:67: UserWarning: Legend does not support 'r' instances.\n",
      "A proxy artist may be used instead.\n",
      "See: https://matplotlib.org/users/legend_guide.html#creating-artists-specifically-for-adding-to-the-legend-aka-proxy-artists\n",
      "/Users/galraz1/opt/miniconda3/envs/stan_env/lib/python3.7/site-packages/ipykernel_launcher.py:67: UserWarning: Legend does not support 'i' instances.\n",
      "A proxy artist may be used instead.\n",
      "See: https://matplotlib.org/users/legend_guide.html#creating-artists-specifically-for-adding-to-the-legend-aka-proxy-artists\n",
      "/Users/galraz1/opt/miniconda3/envs/stan_env/lib/python3.7/site-packages/ipykernel_launcher.py:67: UserWarning: Legend does not support 'o' instances.\n",
      "A proxy artist may be used instead.\n",
      "See: https://matplotlib.org/users/legend_guide.html#creating-artists-specifically-for-adding-to-the-legend-aka-proxy-artists\n"
     ]
    },
    {
     "name": "stdout",
     "output_type": "stream",
     "text": [
      "KL: 0.0027936722345975338\n",
      "stimulus:  6\n",
      "sample:  19\n",
      "\n",
      "Gradient evaluation took 1.2e-05 seconds\n",
      "1000 transitions using 10 leapfrog steps per transition would take 0.12 seconds.\n",
      "Adjust your expectations accordingly!\n",
      "\n",
      "\n"
     ]
    },
    {
     "name": "stderr",
     "output_type": "stream",
     "text": [
      "WARNING:pystan:49 of 16000 iterations ended with a divergence (0.306 %).\n",
      "WARNING:pystan:Try running with adapt_delta larger than 0.95 to remove the divergences.\n"
     ]
    },
    {
     "name": "stdout",
     "output_type": "stream",
     "text": [
      "Iteration:     1 / 20000 [  0%]  (Warmup)\n",
      "Iteration:  2000 / 20000 [ 10%]  (Warmup)\n",
      "Iteration:  4000 / 20000 [ 20%]  (Warmup)\n",
      "Iteration:  4001 / 20000 [ 20%]  (Sampling)\n",
      "Iteration:  6000 / 20000 [ 30%]  (Sampling)\n",
      "Iteration:  8000 / 20000 [ 40%]  (Sampling)\n",
      "Iteration: 10000 / 20000 [ 50%]  (Sampling)\n",
      "Iteration: 12000 / 20000 [ 60%]  (Sampling)\n",
      "Iteration: 14000 / 20000 [ 70%]  (Sampling)\n",
      "Iteration: 16000 / 20000 [ 80%]  (Sampling)\n",
      "Iteration: 18000 / 20000 [ 90%]  (Sampling)\n",
      "Iteration: 20000 / 20000 [100%]  (Sampling)\n",
      "\n",
      " Elapsed Time: 0.194202 seconds (Warm-up)\n",
      "               0.730063 seconds (Sampling)\n",
      "               0.924265 seconds (Total)\n",
      "\n"
     ]
    },
    {
     "name": "stderr",
     "output_type": "stream",
     "text": [
      "/Users/galraz1/opt/miniconda3/envs/stan_env/lib/python3.7/site-packages/ipykernel_launcher.py:60: UserWarning: Legend does not support 'p' instances.\n",
      "A proxy artist may be used instead.\n",
      "See: https://matplotlib.org/users/legend_guide.html#creating-artists-specifically-for-adding-to-the-legend-aka-proxy-artists\n",
      "/Users/galraz1/opt/miniconda3/envs/stan_env/lib/python3.7/site-packages/ipykernel_launcher.py:60: UserWarning: Legend does not support 'r' instances.\n",
      "A proxy artist may be used instead.\n",
      "See: https://matplotlib.org/users/legend_guide.html#creating-artists-specifically-for-adding-to-the-legend-aka-proxy-artists\n",
      "/Users/galraz1/opt/miniconda3/envs/stan_env/lib/python3.7/site-packages/ipykernel_launcher.py:60: UserWarning: Legend does not support 'i' instances.\n",
      "A proxy artist may be used instead.\n",
      "See: https://matplotlib.org/users/legend_guide.html#creating-artists-specifically-for-adding-to-the-legend-aka-proxy-artists\n",
      "/Users/galraz1/opt/miniconda3/envs/stan_env/lib/python3.7/site-packages/ipykernel_launcher.py:60: UserWarning: Legend does not support 'o' instances.\n",
      "A proxy artist may be used instead.\n",
      "See: https://matplotlib.org/users/legend_guide.html#creating-artists-specifically-for-adding-to-the-legend-aka-proxy-artists\n",
      "/Users/galraz1/opt/miniconda3/envs/stan_env/lib/python3.7/site-packages/ipykernel_launcher.py:67: UserWarning: Legend does not support 'p' instances.\n",
      "A proxy artist may be used instead.\n",
      "See: https://matplotlib.org/users/legend_guide.html#creating-artists-specifically-for-adding-to-the-legend-aka-proxy-artists\n",
      "/Users/galraz1/opt/miniconda3/envs/stan_env/lib/python3.7/site-packages/ipykernel_launcher.py:67: UserWarning: Legend does not support 'r' instances.\n",
      "A proxy artist may be used instead.\n",
      "See: https://matplotlib.org/users/legend_guide.html#creating-artists-specifically-for-adding-to-the-legend-aka-proxy-artists\n",
      "/Users/galraz1/opt/miniconda3/envs/stan_env/lib/python3.7/site-packages/ipykernel_launcher.py:67: UserWarning: Legend does not support 'i' instances.\n",
      "A proxy artist may be used instead.\n",
      "See: https://matplotlib.org/users/legend_guide.html#creating-artists-specifically-for-adding-to-the-legend-aka-proxy-artists\n",
      "/Users/galraz1/opt/miniconda3/envs/stan_env/lib/python3.7/site-packages/ipykernel_launcher.py:67: UserWarning: Legend does not support 'o' instances.\n",
      "A proxy artist may be used instead.\n",
      "See: https://matplotlib.org/users/legend_guide.html#creating-artists-specifically-for-adding-to-the-legend-aka-proxy-artists\n"
     ]
    },
    {
     "name": "stdout",
     "output_type": "stream",
     "text": [
      "KL: 4.30586644215318\n",
      "stimulus:  6\n",
      "sample:  20\n",
      "\n",
      "Gradient evaluation took 1.4e-05 seconds\n",
      "1000 transitions using 10 leapfrog steps per transition would take 0.14 seconds.\n",
      "Adjust your expectations accordingly!\n",
      "\n",
      "\n",
      "Iteration:     1 / 20000 [  0%]  (Warmup)\n",
      "Iteration:  2000 / 20000 [ 10%]  (Warmup)\n",
      "Iteration:  4000 / 20000 [ 20%]  (Warmup)\n",
      "Iteration:  4001 / 20000 [ 20%]  (Sampling)\n",
      "Iteration:  6000 / 20000 [ 30%]  (Sampling)\n",
      "Iteration:  8000 / 20000 [ 40%]  (Sampling)\n",
      "Iteration: 10000 / 20000 [ 50%]  (Sampling)\n",
      "Iteration: 12000 / 20000 [ 60%]  (Sampling)\n",
      "Iteration: 14000 / 20000 [ 70%]  (Sampling)\n",
      "Iteration: 16000 / 20000 [ 80%]  (Sampling)\n",
      "Iteration: 18000 / 20000 [ 90%]  (Sampling)\n",
      "Iteration: 20000 / 20000 [100%]  (Sampling)\n",
      "\n",
      " Elapsed Time: 0.146931 seconds (Warm-up)\n",
      "               0.652911 seconds (Sampling)\n",
      "               0.799842 seconds (Total)\n",
      "\n"
     ]
    },
    {
     "name": "stderr",
     "output_type": "stream",
     "text": [
      "/Users/galraz1/opt/miniconda3/envs/stan_env/lib/python3.7/site-packages/ipykernel_launcher.py:60: UserWarning: Legend does not support 'p' instances.\n",
      "A proxy artist may be used instead.\n",
      "See: https://matplotlib.org/users/legend_guide.html#creating-artists-specifically-for-adding-to-the-legend-aka-proxy-artists\n",
      "/Users/galraz1/opt/miniconda3/envs/stan_env/lib/python3.7/site-packages/ipykernel_launcher.py:60: UserWarning: Legend does not support 'r' instances.\n",
      "A proxy artist may be used instead.\n",
      "See: https://matplotlib.org/users/legend_guide.html#creating-artists-specifically-for-adding-to-the-legend-aka-proxy-artists\n",
      "/Users/galraz1/opt/miniconda3/envs/stan_env/lib/python3.7/site-packages/ipykernel_launcher.py:60: UserWarning: Legend does not support 'i' instances.\n",
      "A proxy artist may be used instead.\n",
      "See: https://matplotlib.org/users/legend_guide.html#creating-artists-specifically-for-adding-to-the-legend-aka-proxy-artists\n",
      "/Users/galraz1/opt/miniconda3/envs/stan_env/lib/python3.7/site-packages/ipykernel_launcher.py:60: UserWarning: Legend does not support 'o' instances.\n",
      "A proxy artist may be used instead.\n",
      "See: https://matplotlib.org/users/legend_guide.html#creating-artists-specifically-for-adding-to-the-legend-aka-proxy-artists\n",
      "/Users/galraz1/opt/miniconda3/envs/stan_env/lib/python3.7/site-packages/ipykernel_launcher.py:67: UserWarning: Legend does not support 'p' instances.\n",
      "A proxy artist may be used instead.\n",
      "See: https://matplotlib.org/users/legend_guide.html#creating-artists-specifically-for-adding-to-the-legend-aka-proxy-artists\n",
      "/Users/galraz1/opt/miniconda3/envs/stan_env/lib/python3.7/site-packages/ipykernel_launcher.py:67: UserWarning: Legend does not support 'r' instances.\n",
      "A proxy artist may be used instead.\n",
      "See: https://matplotlib.org/users/legend_guide.html#creating-artists-specifically-for-adding-to-the-legend-aka-proxy-artists\n",
      "/Users/galraz1/opt/miniconda3/envs/stan_env/lib/python3.7/site-packages/ipykernel_launcher.py:67: UserWarning: Legend does not support 'i' instances.\n",
      "A proxy artist may be used instead.\n",
      "See: https://matplotlib.org/users/legend_guide.html#creating-artists-specifically-for-adding-to-the-legend-aka-proxy-artists\n",
      "/Users/galraz1/opt/miniconda3/envs/stan_env/lib/python3.7/site-packages/ipykernel_launcher.py:67: UserWarning: Legend does not support 'o' instances.\n",
      "A proxy artist may be used instead.\n",
      "See: https://matplotlib.org/users/legend_guide.html#creating-artists-specifically-for-adding-to-the-legend-aka-proxy-artists\n"
     ]
    },
    {
     "name": "stdout",
     "output_type": "stream",
     "text": [
      "KL: 0.19996963290986447\n",
      "stimulus:  6\n",
      "sample:  21\n",
      "\n",
      "Gradient evaluation took 1.4e-05 seconds\n",
      "1000 transitions using 10 leapfrog steps per transition would take 0.14 seconds.\n",
      "Adjust your expectations accordingly!\n",
      "\n",
      "\n",
      "Iteration:     1 / 20000 [  0%]  (Warmup)\n",
      "Iteration:  2000 / 20000 [ 10%]  (Warmup)\n",
      "Iteration:  4000 / 20000 [ 20%]  (Warmup)\n",
      "Iteration:  4001 / 20000 [ 20%]  (Sampling)\n",
      "Iteration:  6000 / 20000 [ 30%]  (Sampling)\n",
      "Iteration:  8000 / 20000 [ 40%]  (Sampling)\n",
      "Iteration: 10000 / 20000 [ 50%]  (Sampling)\n",
      "Iteration: 12000 / 20000 [ 60%]  (Sampling)\n",
      "Iteration: 14000 / 20000 [ 70%]  (Sampling)\n",
      "Iteration: 16000 / 20000 [ 80%]  (Sampling)\n",
      "Iteration: 18000 / 20000 [ 90%]  (Sampling)\n",
      "Iteration: 20000 / 20000 [100%]  (Sampling)\n",
      "\n",
      " Elapsed Time: 0.14792 seconds (Warm-up)\n",
      "               0.552443 seconds (Sampling)\n",
      "               0.700363 seconds (Total)\n",
      "\n"
     ]
    },
    {
     "name": "stderr",
     "output_type": "stream",
     "text": [
      "/Users/galraz1/opt/miniconda3/envs/stan_env/lib/python3.7/site-packages/ipykernel_launcher.py:60: UserWarning: Legend does not support 'p' instances.\n",
      "A proxy artist may be used instead.\n",
      "See: https://matplotlib.org/users/legend_guide.html#creating-artists-specifically-for-adding-to-the-legend-aka-proxy-artists\n",
      "/Users/galraz1/opt/miniconda3/envs/stan_env/lib/python3.7/site-packages/ipykernel_launcher.py:60: UserWarning: Legend does not support 'r' instances.\n",
      "A proxy artist may be used instead.\n",
      "See: https://matplotlib.org/users/legend_guide.html#creating-artists-specifically-for-adding-to-the-legend-aka-proxy-artists\n",
      "/Users/galraz1/opt/miniconda3/envs/stan_env/lib/python3.7/site-packages/ipykernel_launcher.py:60: UserWarning: Legend does not support 'i' instances.\n",
      "A proxy artist may be used instead.\n",
      "See: https://matplotlib.org/users/legend_guide.html#creating-artists-specifically-for-adding-to-the-legend-aka-proxy-artists\n",
      "/Users/galraz1/opt/miniconda3/envs/stan_env/lib/python3.7/site-packages/ipykernel_launcher.py:60: UserWarning: Legend does not support 'o' instances.\n",
      "A proxy artist may be used instead.\n",
      "See: https://matplotlib.org/users/legend_guide.html#creating-artists-specifically-for-adding-to-the-legend-aka-proxy-artists\n",
      "/Users/galraz1/opt/miniconda3/envs/stan_env/lib/python3.7/site-packages/ipykernel_launcher.py:67: UserWarning: Legend does not support 'p' instances.\n",
      "A proxy artist may be used instead.\n",
      "See: https://matplotlib.org/users/legend_guide.html#creating-artists-specifically-for-adding-to-the-legend-aka-proxy-artists\n",
      "/Users/galraz1/opt/miniconda3/envs/stan_env/lib/python3.7/site-packages/ipykernel_launcher.py:67: UserWarning: Legend does not support 'r' instances.\n",
      "A proxy artist may be used instead.\n",
      "See: https://matplotlib.org/users/legend_guide.html#creating-artists-specifically-for-adding-to-the-legend-aka-proxy-artists\n",
      "/Users/galraz1/opt/miniconda3/envs/stan_env/lib/python3.7/site-packages/ipykernel_launcher.py:67: UserWarning: Legend does not support 'i' instances.\n",
      "A proxy artist may be used instead.\n",
      "See: https://matplotlib.org/users/legend_guide.html#creating-artists-specifically-for-adding-to-the-legend-aka-proxy-artists\n",
      "/Users/galraz1/opt/miniconda3/envs/stan_env/lib/python3.7/site-packages/ipykernel_launcher.py:67: UserWarning: Legend does not support 'o' instances.\n",
      "A proxy artist may be used instead.\n",
      "See: https://matplotlib.org/users/legend_guide.html#creating-artists-specifically-for-adding-to-the-legend-aka-proxy-artists\n"
     ]
    },
    {
     "name": "stdout",
     "output_type": "stream",
     "text": [
      "KL: 0.01013952537734949\n",
      "stimulus:  6\n",
      "sample:  22\n",
      "\n",
      "Gradient evaluation took 3.2e-05 seconds\n",
      "1000 transitions using 10 leapfrog steps per transition would take 0.32 seconds.\n",
      "Adjust your expectations accordingly!\n",
      "\n",
      "\n",
      "Iteration:     1 / 20000 [  0%]  (Warmup)\n",
      "Iteration:  2000 / 20000 [ 10%]  (Warmup)\n",
      "Iteration:  4000 / 20000 [ 20%]  (Warmup)\n",
      "Iteration:  4001 / 20000 [ 20%]  (Sampling)\n",
      "Iteration:  6000 / 20000 [ 30%]  (Sampling)\n",
      "Iteration:  8000 / 20000 [ 40%]  (Sampling)\n",
      "Iteration: 10000 / 20000 [ 50%]  (Sampling)\n",
      "Iteration: 12000 / 20000 [ 60%]  (Sampling)\n",
      "Iteration: 14000 / 20000 [ 70%]  (Sampling)\n",
      "Iteration: 16000 / 20000 [ 80%]  (Sampling)\n",
      "Iteration: 18000 / 20000 [ 90%]  (Sampling)\n",
      "Iteration: 20000 / 20000 [100%]  (Sampling)\n",
      "\n",
      " Elapsed Time: 0.138107 seconds (Warm-up)\n",
      "               0.689898 seconds (Sampling)\n",
      "               0.828005 seconds (Total)\n",
      "\n"
     ]
    },
    {
     "name": "stderr",
     "output_type": "stream",
     "text": [
      "/Users/galraz1/opt/miniconda3/envs/stan_env/lib/python3.7/site-packages/ipykernel_launcher.py:60: UserWarning: Legend does not support 'p' instances.\n",
      "A proxy artist may be used instead.\n",
      "See: https://matplotlib.org/users/legend_guide.html#creating-artists-specifically-for-adding-to-the-legend-aka-proxy-artists\n",
      "/Users/galraz1/opt/miniconda3/envs/stan_env/lib/python3.7/site-packages/ipykernel_launcher.py:60: UserWarning: Legend does not support 'r' instances.\n",
      "A proxy artist may be used instead.\n",
      "See: https://matplotlib.org/users/legend_guide.html#creating-artists-specifically-for-adding-to-the-legend-aka-proxy-artists\n",
      "/Users/galraz1/opt/miniconda3/envs/stan_env/lib/python3.7/site-packages/ipykernel_launcher.py:60: UserWarning: Legend does not support 'i' instances.\n",
      "A proxy artist may be used instead.\n",
      "See: https://matplotlib.org/users/legend_guide.html#creating-artists-specifically-for-adding-to-the-legend-aka-proxy-artists\n",
      "/Users/galraz1/opt/miniconda3/envs/stan_env/lib/python3.7/site-packages/ipykernel_launcher.py:60: UserWarning: Legend does not support 'o' instances.\n",
      "A proxy artist may be used instead.\n",
      "See: https://matplotlib.org/users/legend_guide.html#creating-artists-specifically-for-adding-to-the-legend-aka-proxy-artists\n",
      "/Users/galraz1/opt/miniconda3/envs/stan_env/lib/python3.7/site-packages/ipykernel_launcher.py:67: UserWarning: Legend does not support 'p' instances.\n",
      "A proxy artist may be used instead.\n",
      "See: https://matplotlib.org/users/legend_guide.html#creating-artists-specifically-for-adding-to-the-legend-aka-proxy-artists\n",
      "/Users/galraz1/opt/miniconda3/envs/stan_env/lib/python3.7/site-packages/ipykernel_launcher.py:67: UserWarning: Legend does not support 'r' instances.\n",
      "A proxy artist may be used instead.\n",
      "See: https://matplotlib.org/users/legend_guide.html#creating-artists-specifically-for-adding-to-the-legend-aka-proxy-artists\n",
      "/Users/galraz1/opt/miniconda3/envs/stan_env/lib/python3.7/site-packages/ipykernel_launcher.py:67: UserWarning: Legend does not support 'i' instances.\n",
      "A proxy artist may be used instead.\n",
      "See: https://matplotlib.org/users/legend_guide.html#creating-artists-specifically-for-adding-to-the-legend-aka-proxy-artists\n",
      "/Users/galraz1/opt/miniconda3/envs/stan_env/lib/python3.7/site-packages/ipykernel_launcher.py:67: UserWarning: Legend does not support 'o' instances.\n",
      "A proxy artist may be used instead.\n",
      "See: https://matplotlib.org/users/legend_guide.html#creating-artists-specifically-for-adding-to-the-legend-aka-proxy-artists\n"
     ]
    },
    {
     "name": "stdout",
     "output_type": "stream",
     "text": [
      "KL: 0.018577330789223474\n",
      "stimulus:  6\n",
      "sample:  23\n",
      "\n",
      "Gradient evaluation took 1.2e-05 seconds\n",
      "1000 transitions using 10 leapfrog steps per transition would take 0.12 seconds.\n",
      "Adjust your expectations accordingly!\n",
      "\n",
      "\n",
      "Iteration:     1 / 20000 [  0%]  (Warmup)\n",
      "Iteration:  2000 / 20000 [ 10%]  (Warmup)\n",
      "Iteration:  4000 / 20000 [ 20%]  (Warmup)\n",
      "Iteration:  4001 / 20000 [ 20%]  (Sampling)\n",
      "Iteration:  6000 / 20000 [ 30%]  (Sampling)\n",
      "Iteration:  8000 / 20000 [ 40%]  (Sampling)\n",
      "Iteration: 10000 / 20000 [ 50%]  (Sampling)\n",
      "Iteration: 12000 / 20000 [ 60%]  (Sampling)\n",
      "Iteration: 14000 / 20000 [ 70%]  (Sampling)\n",
      "Iteration: 16000 / 20000 [ 80%]  (Sampling)\n",
      "Iteration: 18000 / 20000 [ 90%]  (Sampling)\n",
      "Iteration: 20000 / 20000 [100%]  (Sampling)\n",
      "\n",
      " Elapsed Time: 0.144397 seconds (Warm-up)\n",
      "               0.750652 seconds (Sampling)\n",
      "               0.895049 seconds (Total)\n",
      "\n"
     ]
    },
    {
     "name": "stderr",
     "output_type": "stream",
     "text": [
      "/Users/galraz1/opt/miniconda3/envs/stan_env/lib/python3.7/site-packages/ipykernel_launcher.py:60: UserWarning: Legend does not support 'p' instances.\n",
      "A proxy artist may be used instead.\n",
      "See: https://matplotlib.org/users/legend_guide.html#creating-artists-specifically-for-adding-to-the-legend-aka-proxy-artists\n",
      "/Users/galraz1/opt/miniconda3/envs/stan_env/lib/python3.7/site-packages/ipykernel_launcher.py:60: UserWarning: Legend does not support 'r' instances.\n",
      "A proxy artist may be used instead.\n",
      "See: https://matplotlib.org/users/legend_guide.html#creating-artists-specifically-for-adding-to-the-legend-aka-proxy-artists\n",
      "/Users/galraz1/opt/miniconda3/envs/stan_env/lib/python3.7/site-packages/ipykernel_launcher.py:60: UserWarning: Legend does not support 'i' instances.\n",
      "A proxy artist may be used instead.\n",
      "See: https://matplotlib.org/users/legend_guide.html#creating-artists-specifically-for-adding-to-the-legend-aka-proxy-artists\n",
      "/Users/galraz1/opt/miniconda3/envs/stan_env/lib/python3.7/site-packages/ipykernel_launcher.py:60: UserWarning: Legend does not support 'o' instances.\n",
      "A proxy artist may be used instead.\n",
      "See: https://matplotlib.org/users/legend_guide.html#creating-artists-specifically-for-adding-to-the-legend-aka-proxy-artists\n",
      "/Users/galraz1/opt/miniconda3/envs/stan_env/lib/python3.7/site-packages/ipykernel_launcher.py:67: UserWarning: Legend does not support 'p' instances.\n",
      "A proxy artist may be used instead.\n",
      "See: https://matplotlib.org/users/legend_guide.html#creating-artists-specifically-for-adding-to-the-legend-aka-proxy-artists\n",
      "/Users/galraz1/opt/miniconda3/envs/stan_env/lib/python3.7/site-packages/ipykernel_launcher.py:67: UserWarning: Legend does not support 'r' instances.\n",
      "A proxy artist may be used instead.\n",
      "See: https://matplotlib.org/users/legend_guide.html#creating-artists-specifically-for-adding-to-the-legend-aka-proxy-artists\n",
      "/Users/galraz1/opt/miniconda3/envs/stan_env/lib/python3.7/site-packages/ipykernel_launcher.py:67: UserWarning: Legend does not support 'i' instances.\n",
      "A proxy artist may be used instead.\n",
      "See: https://matplotlib.org/users/legend_guide.html#creating-artists-specifically-for-adding-to-the-legend-aka-proxy-artists\n",
      "/Users/galraz1/opt/miniconda3/envs/stan_env/lib/python3.7/site-packages/ipykernel_launcher.py:67: UserWarning: Legend does not support 'o' instances.\n",
      "A proxy artist may be used instead.\n",
      "See: https://matplotlib.org/users/legend_guide.html#creating-artists-specifically-for-adding-to-the-legend-aka-proxy-artists\n"
     ]
    },
    {
     "name": "stdout",
     "output_type": "stream",
     "text": [
      "KL: 0.01078312952700568\n",
      "stimulus:  6\n",
      "sample:  24\n",
      "\n",
      "Gradient evaluation took 1.4e-05 seconds\n",
      "1000 transitions using 10 leapfrog steps per transition would take 0.14 seconds.\n",
      "Adjust your expectations accordingly!\n",
      "\n",
      "\n",
      "Iteration:     1 / 20000 [  0%]  (Warmup)\n",
      "Iteration:  2000 / 20000 [ 10%]  (Warmup)\n",
      "Iteration:  4000 / 20000 [ 20%]  (Warmup)\n",
      "Iteration:  4001 / 20000 [ 20%]  (Sampling)\n",
      "Iteration:  6000 / 20000 [ 30%]  (Sampling)\n",
      "Iteration:  8000 / 20000 [ 40%]  (Sampling)\n",
      "Iteration: 10000 / 20000 [ 50%]  (Sampling)\n",
      "Iteration: 12000 / 20000 [ 60%]  (Sampling)\n",
      "Iteration: 14000 / 20000 [ 70%]  (Sampling)\n",
      "Iteration: 16000 / 20000 [ 80%]  (Sampling)\n",
      "Iteration: 18000 / 20000 [ 90%]  (Sampling)\n",
      "Iteration: 20000 / 20000 [100%]  (Sampling)\n",
      "\n",
      " Elapsed Time: 0.172283 seconds (Warm-up)\n",
      "               0.760836 seconds (Sampling)\n",
      "               0.933119 seconds (Total)\n",
      "\n"
     ]
    },
    {
     "name": "stderr",
     "output_type": "stream",
     "text": [
      "Informational Message: The current Metropolis proposal is about to be rejected because of the following issue:\n",
      "Exception: normal_lpdf: Scale parameter is 0, but must be > 0!  (in 'multi_feature_simple_noise.stan' at line 36)\n",
      "\n",
      "If this warning occurs sporadically, such as for highly constrained variable types like covariance matrices, then the sampler is fine,\n",
      "but if this warning occurs often then your model may be either severely ill-conditioned or misspecified.\n",
      "\n",
      "/Users/galraz1/opt/miniconda3/envs/stan_env/lib/python3.7/site-packages/ipykernel_launcher.py:60: UserWarning: Legend does not support 'p' instances.\n",
      "A proxy artist may be used instead.\n",
      "See: https://matplotlib.org/users/legend_guide.html#creating-artists-specifically-for-adding-to-the-legend-aka-proxy-artists\n",
      "/Users/galraz1/opt/miniconda3/envs/stan_env/lib/python3.7/site-packages/ipykernel_launcher.py:60: UserWarning: Legend does not support 'r' instances.\n",
      "A proxy artist may be used instead.\n",
      "See: https://matplotlib.org/users/legend_guide.html#creating-artists-specifically-for-adding-to-the-legend-aka-proxy-artists\n",
      "/Users/galraz1/opt/miniconda3/envs/stan_env/lib/python3.7/site-packages/ipykernel_launcher.py:60: UserWarning: Legend does not support 'i' instances.\n",
      "A proxy artist may be used instead.\n",
      "See: https://matplotlib.org/users/legend_guide.html#creating-artists-specifically-for-adding-to-the-legend-aka-proxy-artists\n",
      "/Users/galraz1/opt/miniconda3/envs/stan_env/lib/python3.7/site-packages/ipykernel_launcher.py:60: UserWarning: Legend does not support 'o' instances.\n",
      "A proxy artist may be used instead.\n",
      "See: https://matplotlib.org/users/legend_guide.html#creating-artists-specifically-for-adding-to-the-legend-aka-proxy-artists\n",
      "/Users/galraz1/opt/miniconda3/envs/stan_env/lib/python3.7/site-packages/ipykernel_launcher.py:67: UserWarning: Legend does not support 'p' instances.\n",
      "A proxy artist may be used instead.\n",
      "See: https://matplotlib.org/users/legend_guide.html#creating-artists-specifically-for-adding-to-the-legend-aka-proxy-artists\n",
      "/Users/galraz1/opt/miniconda3/envs/stan_env/lib/python3.7/site-packages/ipykernel_launcher.py:67: UserWarning: Legend does not support 'r' instances.\n",
      "A proxy artist may be used instead.\n",
      "See: https://matplotlib.org/users/legend_guide.html#creating-artists-specifically-for-adding-to-the-legend-aka-proxy-artists\n",
      "/Users/galraz1/opt/miniconda3/envs/stan_env/lib/python3.7/site-packages/ipykernel_launcher.py:67: UserWarning: Legend does not support 'i' instances.\n",
      "A proxy artist may be used instead.\n",
      "See: https://matplotlib.org/users/legend_guide.html#creating-artists-specifically-for-adding-to-the-legend-aka-proxy-artists\n",
      "/Users/galraz1/opt/miniconda3/envs/stan_env/lib/python3.7/site-packages/ipykernel_launcher.py:67: UserWarning: Legend does not support 'o' instances.\n",
      "A proxy artist may be used instead.\n",
      "See: https://matplotlib.org/users/legend_guide.html#creating-artists-specifically-for-adding-to-the-legend-aka-proxy-artists\n"
     ]
    },
    {
     "name": "stdout",
     "output_type": "stream",
     "text": [
      "KL: -0.007839699614207926\n",
      "model run:  1\n",
      "stimulus:  1\n",
      "sample:  1\n",
      "\n"
     ]
    },
    {
     "name": "stderr",
     "output_type": "stream",
     "text": [
      "WARNING:pystan:50 of 16000 iterations ended with a divergence (0.312 %).\n",
      "WARNING:pystan:Try running with adapt_delta larger than 0.95 to remove the divergences.\n"
     ]
    },
    {
     "name": "stdout",
     "output_type": "stream",
     "text": [
      "Gradient evaluation took 1.2e-05 seconds\n",
      "1000 transitions using 10 leapfrog steps per transition would take 0.12 seconds.\n",
      "Adjust your expectations accordingly!\n",
      "\n",
      "\n",
      "Iteration:     1 / 20000 [  0%]  (Warmup)\n",
      "Iteration:  2000 / 20000 [ 10%]  (Warmup)\n",
      "Iteration:  4000 / 20000 [ 20%]  (Warmup)\n",
      "Iteration:  4001 / 20000 [ 20%]  (Sampling)\n",
      "Iteration:  6000 / 20000 [ 30%]  (Sampling)\n",
      "Iteration:  8000 / 20000 [ 40%]  (Sampling)\n",
      "Iteration: 10000 / 20000 [ 50%]  (Sampling)\n",
      "Iteration: 12000 / 20000 [ 60%]  (Sampling)\n",
      "Iteration: 14000 / 20000 [ 70%]  (Sampling)\n",
      "Iteration: 16000 / 20000 [ 80%]  (Sampling)\n",
      "Iteration: 18000 / 20000 [ 90%]  (Sampling)\n",
      "Iteration: 20000 / 20000 [100%]  (Sampling)\n",
      "\n",
      " Elapsed Time: 0.097055 seconds (Warm-up)\n",
      "               0.421543 seconds (Sampling)\n",
      "               0.518598 seconds (Total)\n",
      "\n"
     ]
    },
    {
     "name": "stderr",
     "output_type": "stream",
     "text": [
      "/Users/galraz1/opt/miniconda3/envs/stan_env/lib/python3.7/site-packages/ipykernel_launcher.py:60: UserWarning: Legend does not support 'p' instances.\n",
      "A proxy artist may be used instead.\n",
      "See: https://matplotlib.org/users/legend_guide.html#creating-artists-specifically-for-adding-to-the-legend-aka-proxy-artists\n",
      "/Users/galraz1/opt/miniconda3/envs/stan_env/lib/python3.7/site-packages/ipykernel_launcher.py:60: UserWarning: Legend does not support 'r' instances.\n",
      "A proxy artist may be used instead.\n",
      "See: https://matplotlib.org/users/legend_guide.html#creating-artists-specifically-for-adding-to-the-legend-aka-proxy-artists\n",
      "/Users/galraz1/opt/miniconda3/envs/stan_env/lib/python3.7/site-packages/ipykernel_launcher.py:60: UserWarning: Legend does not support 'i' instances.\n",
      "A proxy artist may be used instead.\n",
      "See: https://matplotlib.org/users/legend_guide.html#creating-artists-specifically-for-adding-to-the-legend-aka-proxy-artists\n",
      "/Users/galraz1/opt/miniconda3/envs/stan_env/lib/python3.7/site-packages/ipykernel_launcher.py:60: UserWarning: Legend does not support 'o' instances.\n",
      "A proxy artist may be used instead.\n",
      "See: https://matplotlib.org/users/legend_guide.html#creating-artists-specifically-for-adding-to-the-legend-aka-proxy-artists\n",
      "/Users/galraz1/opt/miniconda3/envs/stan_env/lib/python3.7/site-packages/ipykernel_launcher.py:67: UserWarning: Legend does not support 'p' instances.\n",
      "A proxy artist may be used instead.\n",
      "See: https://matplotlib.org/users/legend_guide.html#creating-artists-specifically-for-adding-to-the-legend-aka-proxy-artists\n",
      "/Users/galraz1/opt/miniconda3/envs/stan_env/lib/python3.7/site-packages/ipykernel_launcher.py:67: UserWarning: Legend does not support 'r' instances.\n",
      "A proxy artist may be used instead.\n",
      "See: https://matplotlib.org/users/legend_guide.html#creating-artists-specifically-for-adding-to-the-legend-aka-proxy-artists\n",
      "/Users/galraz1/opt/miniconda3/envs/stan_env/lib/python3.7/site-packages/ipykernel_launcher.py:67: UserWarning: Legend does not support 'i' instances.\n",
      "A proxy artist may be used instead.\n",
      "See: https://matplotlib.org/users/legend_guide.html#creating-artists-specifically-for-adding-to-the-legend-aka-proxy-artists\n",
      "/Users/galraz1/opt/miniconda3/envs/stan_env/lib/python3.7/site-packages/ipykernel_launcher.py:67: UserWarning: Legend does not support 'o' instances.\n",
      "A proxy artist may be used instead.\n",
      "See: https://matplotlib.org/users/legend_guide.html#creating-artists-specifically-for-adding-to-the-legend-aka-proxy-artists\n",
      "WARNING:pystan:29 of 16000 iterations ended with a divergence (0.181 %).\n",
      "WARNING:pystan:Try running with adapt_delta larger than 0.95 to remove the divergences.\n"
     ]
    },
    {
     "name": "stdout",
     "output_type": "stream",
     "text": [
      "KL: 1.366847707167585\n",
      "stimulus:  1\n",
      "sample:  2\n",
      "\n",
      "Gradient evaluation took 1.2e-05 seconds\n",
      "1000 transitions using 10 leapfrog steps per transition would take 0.12 seconds.\n",
      "Adjust your expectations accordingly!\n",
      "\n",
      "\n",
      "Iteration:     1 / 20000 [  0%]  (Warmup)\n",
      "Iteration:  2000 / 20000 [ 10%]  (Warmup)\n",
      "Iteration:  4000 / 20000 [ 20%]  (Warmup)\n",
      "Iteration:  4001 / 20000 [ 20%]  (Sampling)\n",
      "Iteration:  6000 / 20000 [ 30%]  (Sampling)\n",
      "Iteration:  8000 / 20000 [ 40%]  (Sampling)\n",
      "Iteration: 10000 / 20000 [ 50%]  (Sampling)\n",
      "Iteration: 12000 / 20000 [ 60%]  (Sampling)\n",
      "Iteration: 14000 / 20000 [ 70%]  (Sampling)\n",
      "Iteration: 16000 / 20000 [ 80%]  (Sampling)\n",
      "Iteration: 18000 / 20000 [ 90%]  (Sampling)\n",
      "Iteration: 20000 / 20000 [100%]  (Sampling)\n",
      "\n",
      " Elapsed Time: 0.09476 seconds (Warm-up)\n",
      "               0.454345 seconds (Sampling)\n",
      "               0.549105 seconds (Total)\n",
      "\n"
     ]
    },
    {
     "name": "stderr",
     "output_type": "stream",
     "text": [
      "/Users/galraz1/opt/miniconda3/envs/stan_env/lib/python3.7/site-packages/ipykernel_launcher.py:60: UserWarning: Legend does not support 'p' instances.\n",
      "A proxy artist may be used instead.\n",
      "See: https://matplotlib.org/users/legend_guide.html#creating-artists-specifically-for-adding-to-the-legend-aka-proxy-artists\n",
      "/Users/galraz1/opt/miniconda3/envs/stan_env/lib/python3.7/site-packages/ipykernel_launcher.py:60: UserWarning: Legend does not support 'r' instances.\n",
      "A proxy artist may be used instead.\n",
      "See: https://matplotlib.org/users/legend_guide.html#creating-artists-specifically-for-adding-to-the-legend-aka-proxy-artists\n",
      "/Users/galraz1/opt/miniconda3/envs/stan_env/lib/python3.7/site-packages/ipykernel_launcher.py:60: UserWarning: Legend does not support 'i' instances.\n",
      "A proxy artist may be used instead.\n",
      "See: https://matplotlib.org/users/legend_guide.html#creating-artists-specifically-for-adding-to-the-legend-aka-proxy-artists\n",
      "/Users/galraz1/opt/miniconda3/envs/stan_env/lib/python3.7/site-packages/ipykernel_launcher.py:60: UserWarning: Legend does not support 'o' instances.\n",
      "A proxy artist may be used instead.\n",
      "See: https://matplotlib.org/users/legend_guide.html#creating-artists-specifically-for-adding-to-the-legend-aka-proxy-artists\n",
      "/Users/galraz1/opt/miniconda3/envs/stan_env/lib/python3.7/site-packages/ipykernel_launcher.py:67: UserWarning: Legend does not support 'p' instances.\n",
      "A proxy artist may be used instead.\n",
      "See: https://matplotlib.org/users/legend_guide.html#creating-artists-specifically-for-adding-to-the-legend-aka-proxy-artists\n",
      "/Users/galraz1/opt/miniconda3/envs/stan_env/lib/python3.7/site-packages/ipykernel_launcher.py:67: UserWarning: Legend does not support 'r' instances.\n",
      "A proxy artist may be used instead.\n",
      "See: https://matplotlib.org/users/legend_guide.html#creating-artists-specifically-for-adding-to-the-legend-aka-proxy-artists\n",
      "/Users/galraz1/opt/miniconda3/envs/stan_env/lib/python3.7/site-packages/ipykernel_launcher.py:67: UserWarning: Legend does not support 'i' instances.\n",
      "A proxy artist may be used instead.\n",
      "See: https://matplotlib.org/users/legend_guide.html#creating-artists-specifically-for-adding-to-the-legend-aka-proxy-artists\n",
      "/Users/galraz1/opt/miniconda3/envs/stan_env/lib/python3.7/site-packages/ipykernel_launcher.py:67: UserWarning: Legend does not support 'o' instances.\n",
      "A proxy artist may be used instead.\n",
      "See: https://matplotlib.org/users/legend_guide.html#creating-artists-specifically-for-adding-to-the-legend-aka-proxy-artists\n"
     ]
    },
    {
     "name": "stdout",
     "output_type": "stream",
     "text": [
      "KL: 0.04679225340954455\n",
      "stimulus:  1\n",
      "sample:  3\n",
      "\n",
      "Gradient evaluation took 1.2e-05 seconds\n",
      "1000 transitions using 10 leapfrog steps per transition would take 0.12 seconds.\n",
      "Adjust your expectations accordingly!\n",
      "\n",
      "\n"
     ]
    },
    {
     "name": "stderr",
     "output_type": "stream",
     "text": [
      "WARNING:pystan:95 of 16000 iterations ended with a divergence (0.594 %).\n",
      "WARNING:pystan:Try running with adapt_delta larger than 0.95 to remove the divergences.\n"
     ]
    },
    {
     "name": "stdout",
     "output_type": "stream",
     "text": [
      "Iteration:     1 / 20000 [  0%]  (Warmup)\n",
      "Iteration:  2000 / 20000 [ 10%]  (Warmup)\n",
      "Iteration:  4000 / 20000 [ 20%]  (Warmup)\n",
      "Iteration:  4001 / 20000 [ 20%]  (Sampling)\n",
      "Iteration:  6000 / 20000 [ 30%]  (Sampling)\n",
      "Iteration:  8000 / 20000 [ 40%]  (Sampling)\n",
      "Iteration: 10000 / 20000 [ 50%]  (Sampling)\n",
      "Iteration: 12000 / 20000 [ 60%]  (Sampling)\n",
      "Iteration: 14000 / 20000 [ 70%]  (Sampling)\n",
      "Iteration: 16000 / 20000 [ 80%]  (Sampling)\n",
      "Iteration: 18000 / 20000 [ 90%]  (Sampling)\n",
      "Iteration: 20000 / 20000 [100%]  (Sampling)\n",
      "\n",
      " Elapsed Time: 0.083751 seconds (Warm-up)\n",
      "               0.316429 seconds (Sampling)\n",
      "               0.40018 seconds (Total)\n",
      "\n"
     ]
    },
    {
     "name": "stderr",
     "output_type": "stream",
     "text": [
      "/Users/galraz1/opt/miniconda3/envs/stan_env/lib/python3.7/site-packages/ipykernel_launcher.py:60: UserWarning: Legend does not support 'p' instances.\n",
      "A proxy artist may be used instead.\n",
      "See: https://matplotlib.org/users/legend_guide.html#creating-artists-specifically-for-adding-to-the-legend-aka-proxy-artists\n",
      "/Users/galraz1/opt/miniconda3/envs/stan_env/lib/python3.7/site-packages/ipykernel_launcher.py:60: UserWarning: Legend does not support 'r' instances.\n",
      "A proxy artist may be used instead.\n",
      "See: https://matplotlib.org/users/legend_guide.html#creating-artists-specifically-for-adding-to-the-legend-aka-proxy-artists\n",
      "/Users/galraz1/opt/miniconda3/envs/stan_env/lib/python3.7/site-packages/ipykernel_launcher.py:60: UserWarning: Legend does not support 'i' instances.\n",
      "A proxy artist may be used instead.\n",
      "See: https://matplotlib.org/users/legend_guide.html#creating-artists-specifically-for-adding-to-the-legend-aka-proxy-artists\n",
      "/Users/galraz1/opt/miniconda3/envs/stan_env/lib/python3.7/site-packages/ipykernel_launcher.py:60: UserWarning: Legend does not support 'o' instances.\n",
      "A proxy artist may be used instead.\n",
      "See: https://matplotlib.org/users/legend_guide.html#creating-artists-specifically-for-adding-to-the-legend-aka-proxy-artists\n",
      "/Users/galraz1/opt/miniconda3/envs/stan_env/lib/python3.7/site-packages/ipykernel_launcher.py:67: UserWarning: Legend does not support 'p' instances.\n",
      "A proxy artist may be used instead.\n",
      "See: https://matplotlib.org/users/legend_guide.html#creating-artists-specifically-for-adding-to-the-legend-aka-proxy-artists\n",
      "/Users/galraz1/opt/miniconda3/envs/stan_env/lib/python3.7/site-packages/ipykernel_launcher.py:67: UserWarning: Legend does not support 'r' instances.\n",
      "A proxy artist may be used instead.\n",
      "See: https://matplotlib.org/users/legend_guide.html#creating-artists-specifically-for-adding-to-the-legend-aka-proxy-artists\n",
      "/Users/galraz1/opt/miniconda3/envs/stan_env/lib/python3.7/site-packages/ipykernel_launcher.py:67: UserWarning: Legend does not support 'i' instances.\n",
      "A proxy artist may be used instead.\n",
      "See: https://matplotlib.org/users/legend_guide.html#creating-artists-specifically-for-adding-to-the-legend-aka-proxy-artists\n",
      "/Users/galraz1/opt/miniconda3/envs/stan_env/lib/python3.7/site-packages/ipykernel_launcher.py:67: UserWarning: Legend does not support 'o' instances.\n",
      "A proxy artist may be used instead.\n",
      "See: https://matplotlib.org/users/legend_guide.html#creating-artists-specifically-for-adding-to-the-legend-aka-proxy-artists\n"
     ]
    },
    {
     "name": "stdout",
     "output_type": "stream",
     "text": [
      "KL: -0.0035148010683675817\n",
      "stimulus:  2\n",
      "sample:  4\n",
      "\n",
      "Gradient evaluation took 1.1e-05 seconds\n",
      "1000 transitions using 10 leapfrog steps per transition would take 0.11 seconds.\n",
      "Adjust your expectations accordingly!\n",
      "\n",
      "\n"
     ]
    },
    {
     "name": "stderr",
     "output_type": "stream",
     "text": [
      "WARNING:pystan:139 of 16000 iterations ended with a divergence (0.869 %).\n",
      "WARNING:pystan:Try running with adapt_delta larger than 0.95 to remove the divergences.\n"
     ]
    },
    {
     "name": "stdout",
     "output_type": "stream",
     "text": [
      "Iteration:     1 / 20000 [  0%]  (Warmup)\n",
      "Iteration:  2000 / 20000 [ 10%]  (Warmup)\n",
      "Iteration:  4000 / 20000 [ 20%]  (Warmup)\n",
      "Iteration:  4001 / 20000 [ 20%]  (Sampling)\n",
      "Iteration:  6000 / 20000 [ 30%]  (Sampling)\n",
      "Iteration:  8000 / 20000 [ 40%]  (Sampling)\n",
      "Iteration: 10000 / 20000 [ 50%]  (Sampling)\n",
      "Iteration: 12000 / 20000 [ 60%]  (Sampling)\n",
      "Iteration: 14000 / 20000 [ 70%]  (Sampling)\n",
      "Iteration: 16000 / 20000 [ 80%]  (Sampling)\n",
      "Iteration: 18000 / 20000 [ 90%]  (Sampling)\n",
      "Iteration: 20000 / 20000 [100%]  (Sampling)\n",
      "\n",
      " Elapsed Time: 0.1398 seconds (Warm-up)\n",
      "               0.541955 seconds (Sampling)\n",
      "               0.681755 seconds (Total)\n",
      "\n"
     ]
    },
    {
     "name": "stderr",
     "output_type": "stream",
     "text": [
      "/Users/galraz1/opt/miniconda3/envs/stan_env/lib/python3.7/site-packages/ipykernel_launcher.py:60: UserWarning: Legend does not support 'p' instances.\n",
      "A proxy artist may be used instead.\n",
      "See: https://matplotlib.org/users/legend_guide.html#creating-artists-specifically-for-adding-to-the-legend-aka-proxy-artists\n",
      "/Users/galraz1/opt/miniconda3/envs/stan_env/lib/python3.7/site-packages/ipykernel_launcher.py:60: UserWarning: Legend does not support 'r' instances.\n",
      "A proxy artist may be used instead.\n",
      "See: https://matplotlib.org/users/legend_guide.html#creating-artists-specifically-for-adding-to-the-legend-aka-proxy-artists\n",
      "/Users/galraz1/opt/miniconda3/envs/stan_env/lib/python3.7/site-packages/ipykernel_launcher.py:60: UserWarning: Legend does not support 'i' instances.\n",
      "A proxy artist may be used instead.\n",
      "See: https://matplotlib.org/users/legend_guide.html#creating-artists-specifically-for-adding-to-the-legend-aka-proxy-artists\n",
      "/Users/galraz1/opt/miniconda3/envs/stan_env/lib/python3.7/site-packages/ipykernel_launcher.py:60: UserWarning: Legend does not support 'o' instances.\n",
      "A proxy artist may be used instead.\n",
      "See: https://matplotlib.org/users/legend_guide.html#creating-artists-specifically-for-adding-to-the-legend-aka-proxy-artists\n",
      "/Users/galraz1/opt/miniconda3/envs/stan_env/lib/python3.7/site-packages/ipykernel_launcher.py:67: UserWarning: Legend does not support 'p' instances.\n",
      "A proxy artist may be used instead.\n",
      "See: https://matplotlib.org/users/legend_guide.html#creating-artists-specifically-for-adding-to-the-legend-aka-proxy-artists\n",
      "/Users/galraz1/opt/miniconda3/envs/stan_env/lib/python3.7/site-packages/ipykernel_launcher.py:67: UserWarning: Legend does not support 'r' instances.\n",
      "A proxy artist may be used instead.\n",
      "See: https://matplotlib.org/users/legend_guide.html#creating-artists-specifically-for-adding-to-the-legend-aka-proxy-artists\n",
      "/Users/galraz1/opt/miniconda3/envs/stan_env/lib/python3.7/site-packages/ipykernel_launcher.py:67: UserWarning: Legend does not support 'i' instances.\n",
      "A proxy artist may be used instead.\n",
      "See: https://matplotlib.org/users/legend_guide.html#creating-artists-specifically-for-adding-to-the-legend-aka-proxy-artists\n",
      "/Users/galraz1/opt/miniconda3/envs/stan_env/lib/python3.7/site-packages/ipykernel_launcher.py:67: UserWarning: Legend does not support 'o' instances.\n",
      "A proxy artist may be used instead.\n",
      "See: https://matplotlib.org/users/legend_guide.html#creating-artists-specifically-for-adding-to-the-legend-aka-proxy-artists\n"
     ]
    },
    {
     "name": "stdout",
     "output_type": "stream",
     "text": [
      "KL: 0.13094186138079095\n",
      "stimulus:  2\n",
      "sample:  5\n"
     ]
    },
    {
     "name": "stderr",
     "output_type": "stream",
     "text": [
      "WARNING:pystan:262 of 16000 iterations ended with a divergence (1.64 %).\n",
      "WARNING:pystan:Try running with adapt_delta larger than 0.95 to remove the divergences.\n"
     ]
    },
    {
     "name": "stdout",
     "output_type": "stream",
     "text": [
      "\n",
      "Gradient evaluation took 1.1e-05 seconds\n",
      "1000 transitions using 10 leapfrog steps per transition would take 0.11 seconds.\n",
      "Adjust your expectations accordingly!\n",
      "\n",
      "\n",
      "Iteration:     1 / 20000 [  0%]  (Warmup)\n",
      "Iteration:  2000 / 20000 [ 10%]  (Warmup)\n",
      "Iteration:  4000 / 20000 [ 20%]  (Warmup)\n",
      "Iteration:  4001 / 20000 [ 20%]  (Sampling)\n",
      "Iteration:  6000 / 20000 [ 30%]  (Sampling)\n",
      "Iteration:  8000 / 20000 [ 40%]  (Sampling)\n",
      "Iteration: 10000 / 20000 [ 50%]  (Sampling)\n",
      "Iteration: 12000 / 20000 [ 60%]  (Sampling)\n",
      "Iteration: 14000 / 20000 [ 70%]  (Sampling)\n",
      "Iteration: 16000 / 20000 [ 80%]  (Sampling)\n",
      "Iteration: 18000 / 20000 [ 90%]  (Sampling)\n",
      "Iteration: 20000 / 20000 [100%]  (Sampling)\n",
      "\n",
      " Elapsed Time: 0.145403 seconds (Warm-up)\n",
      "               0.543325 seconds (Sampling)\n",
      "               0.688728 seconds (Total)\n",
      "\n"
     ]
    },
    {
     "name": "stderr",
     "output_type": "stream",
     "text": [
      "/Users/galraz1/opt/miniconda3/envs/stan_env/lib/python3.7/site-packages/ipykernel_launcher.py:60: UserWarning: Legend does not support 'p' instances.\n",
      "A proxy artist may be used instead.\n",
      "See: https://matplotlib.org/users/legend_guide.html#creating-artists-specifically-for-adding-to-the-legend-aka-proxy-artists\n",
      "/Users/galraz1/opt/miniconda3/envs/stan_env/lib/python3.7/site-packages/ipykernel_launcher.py:60: UserWarning: Legend does not support 'r' instances.\n",
      "A proxy artist may be used instead.\n",
      "See: https://matplotlib.org/users/legend_guide.html#creating-artists-specifically-for-adding-to-the-legend-aka-proxy-artists\n",
      "/Users/galraz1/opt/miniconda3/envs/stan_env/lib/python3.7/site-packages/ipykernel_launcher.py:60: UserWarning: Legend does not support 'i' instances.\n",
      "A proxy artist may be used instead.\n",
      "See: https://matplotlib.org/users/legend_guide.html#creating-artists-specifically-for-adding-to-the-legend-aka-proxy-artists\n",
      "/Users/galraz1/opt/miniconda3/envs/stan_env/lib/python3.7/site-packages/ipykernel_launcher.py:60: UserWarning: Legend does not support 'o' instances.\n",
      "A proxy artist may be used instead.\n",
      "See: https://matplotlib.org/users/legend_guide.html#creating-artists-specifically-for-adding-to-the-legend-aka-proxy-artists\n",
      "/Users/galraz1/opt/miniconda3/envs/stan_env/lib/python3.7/site-packages/ipykernel_launcher.py:67: UserWarning: Legend does not support 'p' instances.\n",
      "A proxy artist may be used instead.\n",
      "See: https://matplotlib.org/users/legend_guide.html#creating-artists-specifically-for-adding-to-the-legend-aka-proxy-artists\n",
      "/Users/galraz1/opt/miniconda3/envs/stan_env/lib/python3.7/site-packages/ipykernel_launcher.py:67: UserWarning: Legend does not support 'r' instances.\n",
      "A proxy artist may be used instead.\n",
      "See: https://matplotlib.org/users/legend_guide.html#creating-artists-specifically-for-adding-to-the-legend-aka-proxy-artists\n",
      "/Users/galraz1/opt/miniconda3/envs/stan_env/lib/python3.7/site-packages/ipykernel_launcher.py:67: UserWarning: Legend does not support 'i' instances.\n",
      "A proxy artist may be used instead.\n",
      "See: https://matplotlib.org/users/legend_guide.html#creating-artists-specifically-for-adding-to-the-legend-aka-proxy-artists\n",
      "/Users/galraz1/opt/miniconda3/envs/stan_env/lib/python3.7/site-packages/ipykernel_launcher.py:67: UserWarning: Legend does not support 'o' instances.\n",
      "A proxy artist may be used instead.\n",
      "See: https://matplotlib.org/users/legend_guide.html#creating-artists-specifically-for-adding-to-the-legend-aka-proxy-artists\n"
     ]
    },
    {
     "name": "stdout",
     "output_type": "stream",
     "text": [
      "KL: -0.0023437124307830017\n",
      "stimulus:  3\n",
      "sample:  6\n"
     ]
    },
    {
     "name": "stderr",
     "output_type": "stream",
     "text": [
      "WARNING:pystan:154 of 16000 iterations ended with a divergence (0.963 %).\n",
      "WARNING:pystan:Try running with adapt_delta larger than 0.95 to remove the divergences.\n"
     ]
    },
    {
     "name": "stdout",
     "output_type": "stream",
     "text": [
      "\n",
      "Gradient evaluation took 1.3e-05 seconds\n",
      "1000 transitions using 10 leapfrog steps per transition would take 0.13 seconds.\n",
      "Adjust your expectations accordingly!\n",
      "\n",
      "\n",
      "Iteration:     1 / 20000 [  0%]  (Warmup)\n",
      "Iteration:  2000 / 20000 [ 10%]  (Warmup)\n",
      "Iteration:  4000 / 20000 [ 20%]  (Warmup)\n",
      "Iteration:  4001 / 20000 [ 20%]  (Sampling)\n",
      "Iteration:  6000 / 20000 [ 30%]  (Sampling)\n",
      "Iteration:  8000 / 20000 [ 40%]  (Sampling)\n",
      "Iteration: 10000 / 20000 [ 50%]  (Sampling)\n",
      "Iteration: 12000 / 20000 [ 60%]  (Sampling)\n",
      "Iteration: 14000 / 20000 [ 70%]  (Sampling)\n",
      "Iteration: 16000 / 20000 [ 80%]  (Sampling)\n",
      "Iteration: 18000 / 20000 [ 90%]  (Sampling)\n",
      "Iteration: 20000 / 20000 [100%]  (Sampling)\n",
      "\n",
      " Elapsed Time: 0.199027 seconds (Warm-up)\n",
      "               1.15672 seconds (Sampling)\n",
      "               1.35575 seconds (Total)\n",
      "\n"
     ]
    },
    {
     "name": "stderr",
     "output_type": "stream",
     "text": [
      "/Users/galraz1/opt/miniconda3/envs/stan_env/lib/python3.7/site-packages/ipykernel_launcher.py:60: UserWarning: Legend does not support 'p' instances.\n",
      "A proxy artist may be used instead.\n",
      "See: https://matplotlib.org/users/legend_guide.html#creating-artists-specifically-for-adding-to-the-legend-aka-proxy-artists\n",
      "/Users/galraz1/opt/miniconda3/envs/stan_env/lib/python3.7/site-packages/ipykernel_launcher.py:60: UserWarning: Legend does not support 'r' instances.\n",
      "A proxy artist may be used instead.\n",
      "See: https://matplotlib.org/users/legend_guide.html#creating-artists-specifically-for-adding-to-the-legend-aka-proxy-artists\n",
      "/Users/galraz1/opt/miniconda3/envs/stan_env/lib/python3.7/site-packages/ipykernel_launcher.py:60: UserWarning: Legend does not support 'i' instances.\n",
      "A proxy artist may be used instead.\n",
      "See: https://matplotlib.org/users/legend_guide.html#creating-artists-specifically-for-adding-to-the-legend-aka-proxy-artists\n",
      "/Users/galraz1/opt/miniconda3/envs/stan_env/lib/python3.7/site-packages/ipykernel_launcher.py:60: UserWarning: Legend does not support 'o' instances.\n",
      "A proxy artist may be used instead.\n",
      "See: https://matplotlib.org/users/legend_guide.html#creating-artists-specifically-for-adding-to-the-legend-aka-proxy-artists\n",
      "/Users/galraz1/opt/miniconda3/envs/stan_env/lib/python3.7/site-packages/ipykernel_launcher.py:67: UserWarning: Legend does not support 'p' instances.\n",
      "A proxy artist may be used instead.\n",
      "See: https://matplotlib.org/users/legend_guide.html#creating-artists-specifically-for-adding-to-the-legend-aka-proxy-artists\n",
      "/Users/galraz1/opt/miniconda3/envs/stan_env/lib/python3.7/site-packages/ipykernel_launcher.py:67: UserWarning: Legend does not support 'r' instances.\n",
      "A proxy artist may be used instead.\n",
      "See: https://matplotlib.org/users/legend_guide.html#creating-artists-specifically-for-adding-to-the-legend-aka-proxy-artists\n",
      "/Users/galraz1/opt/miniconda3/envs/stan_env/lib/python3.7/site-packages/ipykernel_launcher.py:67: UserWarning: Legend does not support 'i' instances.\n",
      "A proxy artist may be used instead.\n",
      "See: https://matplotlib.org/users/legend_guide.html#creating-artists-specifically-for-adding-to-the-legend-aka-proxy-artists\n",
      "/Users/galraz1/opt/miniconda3/envs/stan_env/lib/python3.7/site-packages/ipykernel_launcher.py:67: UserWarning: Legend does not support 'o' instances.\n",
      "A proxy artist may be used instead.\n",
      "See: https://matplotlib.org/users/legend_guide.html#creating-artists-specifically-for-adding-to-the-legend-aka-proxy-artists\n"
     ]
    },
    {
     "name": "stdout",
     "output_type": "stream",
     "text": [
      "KL: 0.14639758846000528\n",
      "stimulus:  3\n",
      "sample:  7\n",
      "\n"
     ]
    },
    {
     "name": "stderr",
     "output_type": "stream",
     "text": [
      "WARNING:pystan:202 of 16000 iterations ended with a divergence (1.26 %).\n",
      "WARNING:pystan:Try running with adapt_delta larger than 0.95 to remove the divergences.\n"
     ]
    },
    {
     "name": "stdout",
     "output_type": "stream",
     "text": [
      "Gradient evaluation took 1.3e-05 seconds\n",
      "1000 transitions using 10 leapfrog steps per transition would take 0.13 seconds.\n",
      "Adjust your expectations accordingly!\n",
      "\n",
      "\n",
      "Iteration:     1 / 20000 [  0%]  (Warmup)\n",
      "Iteration:  2000 / 20000 [ 10%]  (Warmup)\n",
      "Iteration:  4000 / 20000 [ 20%]  (Warmup)\n",
      "Iteration:  4001 / 20000 [ 20%]  (Sampling)\n",
      "Iteration:  6000 / 20000 [ 30%]  (Sampling)\n",
      "Iteration:  8000 / 20000 [ 40%]  (Sampling)\n",
      "Iteration: 10000 / 20000 [ 50%]  (Sampling)\n",
      "Iteration: 12000 / 20000 [ 60%]  (Sampling)\n",
      "Iteration: 14000 / 20000 [ 70%]  (Sampling)\n",
      "Iteration: 16000 / 20000 [ 80%]  (Sampling)\n",
      "Iteration: 18000 / 20000 [ 90%]  (Sampling)\n",
      "Iteration: 20000 / 20000 [100%]  (Sampling)\n",
      "\n",
      " Elapsed Time: 0.209584 seconds (Warm-up)\n",
      "               0.63816 seconds (Sampling)\n",
      "               0.847744 seconds (Total)\n",
      "\n"
     ]
    },
    {
     "name": "stderr",
     "output_type": "stream",
     "text": [
      "/Users/galraz1/opt/miniconda3/envs/stan_env/lib/python3.7/site-packages/ipykernel_launcher.py:60: UserWarning: Legend does not support 'p' instances.\n",
      "A proxy artist may be used instead.\n",
      "See: https://matplotlib.org/users/legend_guide.html#creating-artists-specifically-for-adding-to-the-legend-aka-proxy-artists\n",
      "/Users/galraz1/opt/miniconda3/envs/stan_env/lib/python3.7/site-packages/ipykernel_launcher.py:60: UserWarning: Legend does not support 'r' instances.\n",
      "A proxy artist may be used instead.\n",
      "See: https://matplotlib.org/users/legend_guide.html#creating-artists-specifically-for-adding-to-the-legend-aka-proxy-artists\n",
      "/Users/galraz1/opt/miniconda3/envs/stan_env/lib/python3.7/site-packages/ipykernel_launcher.py:60: UserWarning: Legend does not support 'i' instances.\n",
      "A proxy artist may be used instead.\n",
      "See: https://matplotlib.org/users/legend_guide.html#creating-artists-specifically-for-adding-to-the-legend-aka-proxy-artists\n",
      "/Users/galraz1/opt/miniconda3/envs/stan_env/lib/python3.7/site-packages/ipykernel_launcher.py:60: UserWarning: Legend does not support 'o' instances.\n",
      "A proxy artist may be used instead.\n",
      "See: https://matplotlib.org/users/legend_guide.html#creating-artists-specifically-for-adding-to-the-legend-aka-proxy-artists\n",
      "/Users/galraz1/opt/miniconda3/envs/stan_env/lib/python3.7/site-packages/ipykernel_launcher.py:67: UserWarning: Legend does not support 'p' instances.\n",
      "A proxy artist may be used instead.\n",
      "See: https://matplotlib.org/users/legend_guide.html#creating-artists-specifically-for-adding-to-the-legend-aka-proxy-artists\n",
      "/Users/galraz1/opt/miniconda3/envs/stan_env/lib/python3.7/site-packages/ipykernel_launcher.py:67: UserWarning: Legend does not support 'r' instances.\n",
      "A proxy artist may be used instead.\n",
      "See: https://matplotlib.org/users/legend_guide.html#creating-artists-specifically-for-adding-to-the-legend-aka-proxy-artists\n",
      "/Users/galraz1/opt/miniconda3/envs/stan_env/lib/python3.7/site-packages/ipykernel_launcher.py:67: UserWarning: Legend does not support 'i' instances.\n",
      "A proxy artist may be used instead.\n",
      "See: https://matplotlib.org/users/legend_guide.html#creating-artists-specifically-for-adding-to-the-legend-aka-proxy-artists\n",
      "/Users/galraz1/opt/miniconda3/envs/stan_env/lib/python3.7/site-packages/ipykernel_launcher.py:67: UserWarning: Legend does not support 'o' instances.\n",
      "A proxy artist may be used instead.\n",
      "See: https://matplotlib.org/users/legend_guide.html#creating-artists-specifically-for-adding-to-the-legend-aka-proxy-artists\n"
     ]
    },
    {
     "name": "stdout",
     "output_type": "stream",
     "text": [
      "KL: 0.07764442525726059\n",
      "stimulus:  3\n",
      "sample:  8\n",
      "\n",
      "Gradient evaluation took 1.1e-05 seconds\n",
      "1000 transitions using 10 leapfrog steps per transition would take 0.11 seconds.\n",
      "Adjust your expectations accordingly!\n",
      "\n",
      "\n",
      "Iteration:     1 / 20000 [  0%]  (Warmup)\n"
     ]
    },
    {
     "name": "stderr",
     "output_type": "stream",
     "text": [
      "WARNING:pystan:163 of 16000 iterations ended with a divergence (1.02 %).\n",
      "WARNING:pystan:Try running with adapt_delta larger than 0.95 to remove the divergences.\n"
     ]
    },
    {
     "name": "stdout",
     "output_type": "stream",
     "text": [
      "Iteration:  2000 / 20000 [ 10%]  (Warmup)\n",
      "Iteration:  4000 / 20000 [ 20%]  (Warmup)\n",
      "Iteration:  4001 / 20000 [ 20%]  (Sampling)\n",
      "Iteration:  6000 / 20000 [ 30%]  (Sampling)\n",
      "Iteration:  8000 / 20000 [ 40%]  (Sampling)\n",
      "Iteration: 10000 / 20000 [ 50%]  (Sampling)\n",
      "Iteration: 12000 / 20000 [ 60%]  (Sampling)\n",
      "Iteration: 14000 / 20000 [ 70%]  (Sampling)\n",
      "Iteration: 16000 / 20000 [ 80%]  (Sampling)\n",
      "Iteration: 18000 / 20000 [ 90%]  (Sampling)\n",
      "Iteration: 20000 / 20000 [100%]  (Sampling)\n",
      "\n",
      " Elapsed Time: 0.210968 seconds (Warm-up)\n",
      "               0.899108 seconds (Sampling)\n",
      "               1.11008 seconds (Total)\n",
      "\n"
     ]
    },
    {
     "name": "stderr",
     "output_type": "stream",
     "text": [
      "/Users/galraz1/opt/miniconda3/envs/stan_env/lib/python3.7/site-packages/ipykernel_launcher.py:60: UserWarning: Legend does not support 'p' instances.\n",
      "A proxy artist may be used instead.\n",
      "See: https://matplotlib.org/users/legend_guide.html#creating-artists-specifically-for-adding-to-the-legend-aka-proxy-artists\n",
      "/Users/galraz1/opt/miniconda3/envs/stan_env/lib/python3.7/site-packages/ipykernel_launcher.py:60: UserWarning: Legend does not support 'r' instances.\n",
      "A proxy artist may be used instead.\n",
      "See: https://matplotlib.org/users/legend_guide.html#creating-artists-specifically-for-adding-to-the-legend-aka-proxy-artists\n",
      "/Users/galraz1/opt/miniconda3/envs/stan_env/lib/python3.7/site-packages/ipykernel_launcher.py:60: UserWarning: Legend does not support 'i' instances.\n",
      "A proxy artist may be used instead.\n",
      "See: https://matplotlib.org/users/legend_guide.html#creating-artists-specifically-for-adding-to-the-legend-aka-proxy-artists\n",
      "/Users/galraz1/opt/miniconda3/envs/stan_env/lib/python3.7/site-packages/ipykernel_launcher.py:60: UserWarning: Legend does not support 'o' instances.\n",
      "A proxy artist may be used instead.\n",
      "See: https://matplotlib.org/users/legend_guide.html#creating-artists-specifically-for-adding-to-the-legend-aka-proxy-artists\n",
      "/Users/galraz1/opt/miniconda3/envs/stan_env/lib/python3.7/site-packages/ipykernel_launcher.py:67: UserWarning: Legend does not support 'p' instances.\n",
      "A proxy artist may be used instead.\n",
      "See: https://matplotlib.org/users/legend_guide.html#creating-artists-specifically-for-adding-to-the-legend-aka-proxy-artists\n",
      "/Users/galraz1/opt/miniconda3/envs/stan_env/lib/python3.7/site-packages/ipykernel_launcher.py:67: UserWarning: Legend does not support 'r' instances.\n",
      "A proxy artist may be used instead.\n",
      "See: https://matplotlib.org/users/legend_guide.html#creating-artists-specifically-for-adding-to-the-legend-aka-proxy-artists\n",
      "/Users/galraz1/opt/miniconda3/envs/stan_env/lib/python3.7/site-packages/ipykernel_launcher.py:67: UserWarning: Legend does not support 'i' instances.\n",
      "A proxy artist may be used instead.\n",
      "See: https://matplotlib.org/users/legend_guide.html#creating-artists-specifically-for-adding-to-the-legend-aka-proxy-artists\n",
      "/Users/galraz1/opt/miniconda3/envs/stan_env/lib/python3.7/site-packages/ipykernel_launcher.py:67: UserWarning: Legend does not support 'o' instances.\n",
      "A proxy artist may be used instead.\n",
      "See: https://matplotlib.org/users/legend_guide.html#creating-artists-specifically-for-adding-to-the-legend-aka-proxy-artists\n",
      "WARNING:pystan:287 of 16000 iterations ended with a divergence (1.79 %).\n",
      "WARNING:pystan:Try running with adapt_delta larger than 0.95 to remove the divergences.\n"
     ]
    },
    {
     "name": "stdout",
     "output_type": "stream",
     "text": [
      "KL: 0.008908711594180427\n",
      "stimulus:  4\n",
      "sample:  9\n",
      "\n",
      "Gradient evaluation took 1.4e-05 seconds\n",
      "1000 transitions using 10 leapfrog steps per transition would take 0.14 seconds.\n",
      "Adjust your expectations accordingly!\n",
      "\n",
      "\n",
      "Iteration:     1 / 20000 [  0%]  (Warmup)\n",
      "Iteration:  2000 / 20000 [ 10%]  (Warmup)\n",
      "Iteration:  4000 / 20000 [ 20%]  (Warmup)\n",
      "Iteration:  4001 / 20000 [ 20%]  (Sampling)\n",
      "Iteration:  6000 / 20000 [ 30%]  (Sampling)\n",
      "Iteration:  8000 / 20000 [ 40%]  (Sampling)\n",
      "Iteration: 10000 / 20000 [ 50%]  (Sampling)\n",
      "Iteration: 12000 / 20000 [ 60%]  (Sampling)\n",
      "Iteration: 14000 / 20000 [ 70%]  (Sampling)\n",
      "Iteration: 16000 / 20000 [ 80%]  (Sampling)\n",
      "Iteration: 18000 / 20000 [ 90%]  (Sampling)\n",
      "Iteration: 20000 / 20000 [100%]  (Sampling)\n",
      "\n",
      " Elapsed Time: 0.253953 seconds (Warm-up)\n",
      "               0.891121 seconds (Sampling)\n",
      "               1.14507 seconds (Total)\n",
      "\n"
     ]
    },
    {
     "name": "stderr",
     "output_type": "stream",
     "text": [
      "/Users/galraz1/opt/miniconda3/envs/stan_env/lib/python3.7/site-packages/ipykernel_launcher.py:60: UserWarning: Legend does not support 'p' instances.\n",
      "A proxy artist may be used instead.\n",
      "See: https://matplotlib.org/users/legend_guide.html#creating-artists-specifically-for-adding-to-the-legend-aka-proxy-artists\n",
      "/Users/galraz1/opt/miniconda3/envs/stan_env/lib/python3.7/site-packages/ipykernel_launcher.py:60: UserWarning: Legend does not support 'r' instances.\n",
      "A proxy artist may be used instead.\n",
      "See: https://matplotlib.org/users/legend_guide.html#creating-artists-specifically-for-adding-to-the-legend-aka-proxy-artists\n",
      "/Users/galraz1/opt/miniconda3/envs/stan_env/lib/python3.7/site-packages/ipykernel_launcher.py:60: UserWarning: Legend does not support 'i' instances.\n",
      "A proxy artist may be used instead.\n",
      "See: https://matplotlib.org/users/legend_guide.html#creating-artists-specifically-for-adding-to-the-legend-aka-proxy-artists\n",
      "/Users/galraz1/opt/miniconda3/envs/stan_env/lib/python3.7/site-packages/ipykernel_launcher.py:60: UserWarning: Legend does not support 'o' instances.\n",
      "A proxy artist may be used instead.\n",
      "See: https://matplotlib.org/users/legend_guide.html#creating-artists-specifically-for-adding-to-the-legend-aka-proxy-artists\n",
      "/Users/galraz1/opt/miniconda3/envs/stan_env/lib/python3.7/site-packages/ipykernel_launcher.py:67: UserWarning: Legend does not support 'p' instances.\n",
      "A proxy artist may be used instead.\n",
      "See: https://matplotlib.org/users/legend_guide.html#creating-artists-specifically-for-adding-to-the-legend-aka-proxy-artists\n",
      "/Users/galraz1/opt/miniconda3/envs/stan_env/lib/python3.7/site-packages/ipykernel_launcher.py:67: UserWarning: Legend does not support 'r' instances.\n",
      "A proxy artist may be used instead.\n",
      "See: https://matplotlib.org/users/legend_guide.html#creating-artists-specifically-for-adding-to-the-legend-aka-proxy-artists\n",
      "/Users/galraz1/opt/miniconda3/envs/stan_env/lib/python3.7/site-packages/ipykernel_launcher.py:67: UserWarning: Legend does not support 'i' instances.\n",
      "A proxy artist may be used instead.\n",
      "See: https://matplotlib.org/users/legend_guide.html#creating-artists-specifically-for-adding-to-the-legend-aka-proxy-artists\n",
      "/Users/galraz1/opt/miniconda3/envs/stan_env/lib/python3.7/site-packages/ipykernel_launcher.py:67: UserWarning: Legend does not support 'o' instances.\n",
      "A proxy artist may be used instead.\n",
      "See: https://matplotlib.org/users/legend_guide.html#creating-artists-specifically-for-adding-to-the-legend-aka-proxy-artists\n",
      "WARNING:pystan:110 of 16000 iterations ended with a divergence (0.688 %).\n",
      "WARNING:pystan:Try running with adapt_delta larger than 0.95 to remove the divergences.\n"
     ]
    },
    {
     "name": "stdout",
     "output_type": "stream",
     "text": [
      "KL: 0.08878757509297873\n",
      "stimulus:  4\n",
      "sample:  10\n",
      "\n",
      "Gradient evaluation took 2.2e-05 seconds\n",
      "1000 transitions using 10 leapfrog steps per transition would take 0.22 seconds.\n",
      "Adjust your expectations accordingly!\n",
      "\n",
      "\n",
      "Iteration:     1 / 20000 [  0%]  (Warmup)\n",
      "Iteration:  2000 / 20000 [ 10%]  (Warmup)\n",
      "Iteration:  4000 / 20000 [ 20%]  (Warmup)\n",
      "Iteration:  4001 / 20000 [ 20%]  (Sampling)\n",
      "Iteration:  6000 / 20000 [ 30%]  (Sampling)\n",
      "Iteration:  8000 / 20000 [ 40%]  (Sampling)\n",
      "Iteration: 10000 / 20000 [ 50%]  (Sampling)\n",
      "Iteration: 12000 / 20000 [ 60%]  (Sampling)\n",
      "Iteration: 14000 / 20000 [ 70%]  (Sampling)\n",
      "Iteration: 16000 / 20000 [ 80%]  (Sampling)\n",
      "Iteration: 18000 / 20000 [ 90%]  (Sampling)\n",
      "Iteration: 20000 / 20000 [100%]  (Sampling)\n",
      "\n",
      " Elapsed Time: 0.274269 seconds (Warm-up)\n",
      "               1.02344 seconds (Sampling)\n",
      "               1.29771 seconds (Total)\n",
      "\n"
     ]
    },
    {
     "name": "stderr",
     "output_type": "stream",
     "text": [
      "/Users/galraz1/opt/miniconda3/envs/stan_env/lib/python3.7/site-packages/ipykernel_launcher.py:60: UserWarning: Legend does not support 'p' instances.\n",
      "A proxy artist may be used instead.\n",
      "See: https://matplotlib.org/users/legend_guide.html#creating-artists-specifically-for-adding-to-the-legend-aka-proxy-artists\n",
      "/Users/galraz1/opt/miniconda3/envs/stan_env/lib/python3.7/site-packages/ipykernel_launcher.py:60: UserWarning: Legend does not support 'r' instances.\n",
      "A proxy artist may be used instead.\n",
      "See: https://matplotlib.org/users/legend_guide.html#creating-artists-specifically-for-adding-to-the-legend-aka-proxy-artists\n",
      "/Users/galraz1/opt/miniconda3/envs/stan_env/lib/python3.7/site-packages/ipykernel_launcher.py:60: UserWarning: Legend does not support 'i' instances.\n",
      "A proxy artist may be used instead.\n",
      "See: https://matplotlib.org/users/legend_guide.html#creating-artists-specifically-for-adding-to-the-legend-aka-proxy-artists\n",
      "/Users/galraz1/opt/miniconda3/envs/stan_env/lib/python3.7/site-packages/ipykernel_launcher.py:60: UserWarning: Legend does not support 'o' instances.\n",
      "A proxy artist may be used instead.\n",
      "See: https://matplotlib.org/users/legend_guide.html#creating-artists-specifically-for-adding-to-the-legend-aka-proxy-artists\n",
      "/Users/galraz1/opt/miniconda3/envs/stan_env/lib/python3.7/site-packages/ipykernel_launcher.py:67: UserWarning: Legend does not support 'p' instances.\n",
      "A proxy artist may be used instead.\n",
      "See: https://matplotlib.org/users/legend_guide.html#creating-artists-specifically-for-adding-to-the-legend-aka-proxy-artists\n",
      "/Users/galraz1/opt/miniconda3/envs/stan_env/lib/python3.7/site-packages/ipykernel_launcher.py:67: UserWarning: Legend does not support 'r' instances.\n",
      "A proxy artist may be used instead.\n",
      "See: https://matplotlib.org/users/legend_guide.html#creating-artists-specifically-for-adding-to-the-legend-aka-proxy-artists\n",
      "/Users/galraz1/opt/miniconda3/envs/stan_env/lib/python3.7/site-packages/ipykernel_launcher.py:67: UserWarning: Legend does not support 'i' instances.\n",
      "A proxy artist may be used instead.\n",
      "See: https://matplotlib.org/users/legend_guide.html#creating-artists-specifically-for-adding-to-the-legend-aka-proxy-artists\n",
      "/Users/galraz1/opt/miniconda3/envs/stan_env/lib/python3.7/site-packages/ipykernel_launcher.py:67: UserWarning: Legend does not support 'o' instances.\n",
      "A proxy artist may be used instead.\n",
      "See: https://matplotlib.org/users/legend_guide.html#creating-artists-specifically-for-adding-to-the-legend-aka-proxy-artists\n"
     ]
    },
    {
     "name": "stdout",
     "output_type": "stream",
     "text": [
      "KL: -0.033944566993688946\n",
      "stimulus:  5\n",
      "sample:  11\n"
     ]
    },
    {
     "name": "stderr",
     "output_type": "stream",
     "text": [
      "WARNING:pystan:356 of 16000 iterations ended with a divergence (2.23 %).\n",
      "WARNING:pystan:Try running with adapt_delta larger than 0.95 to remove the divergences.\n"
     ]
    },
    {
     "name": "stdout",
     "output_type": "stream",
     "text": [
      "\n",
      "Gradient evaluation took 1.3e-05 seconds\n",
      "1000 transitions using 10 leapfrog steps per transition would take 0.13 seconds.\n",
      "Adjust your expectations accordingly!\n",
      "\n",
      "\n",
      "Iteration:     1 / 20000 [  0%]  (Warmup)\n",
      "Iteration:  2000 / 20000 [ 10%]  (Warmup)\n",
      "Iteration:  4000 / 20000 [ 20%]  (Warmup)\n",
      "Iteration:  4001 / 20000 [ 20%]  (Sampling)\n",
      "Iteration:  6000 / 20000 [ 30%]  (Sampling)\n",
      "Iteration:  8000 / 20000 [ 40%]  (Sampling)\n",
      "Iteration: 10000 / 20000 [ 50%]  (Sampling)\n",
      "Iteration: 12000 / 20000 [ 60%]  (Sampling)\n",
      "Iteration: 14000 / 20000 [ 70%]  (Sampling)\n",
      "Iteration: 16000 / 20000 [ 80%]  (Sampling)\n",
      "Iteration: 18000 / 20000 [ 90%]  (Sampling)\n",
      "Iteration: 20000 / 20000 [100%]  (Sampling)\n",
      "\n",
      " Elapsed Time: 0.302605 seconds (Warm-up)\n",
      "               0.923665 seconds (Sampling)\n",
      "               1.22627 seconds (Total)\n",
      "\n"
     ]
    },
    {
     "name": "stderr",
     "output_type": "stream",
     "text": [
      "/Users/galraz1/opt/miniconda3/envs/stan_env/lib/python3.7/site-packages/ipykernel_launcher.py:60: UserWarning: Legend does not support 'p' instances.\n",
      "A proxy artist may be used instead.\n",
      "See: https://matplotlib.org/users/legend_guide.html#creating-artists-specifically-for-adding-to-the-legend-aka-proxy-artists\n",
      "/Users/galraz1/opt/miniconda3/envs/stan_env/lib/python3.7/site-packages/ipykernel_launcher.py:60: UserWarning: Legend does not support 'r' instances.\n",
      "A proxy artist may be used instead.\n",
      "See: https://matplotlib.org/users/legend_guide.html#creating-artists-specifically-for-adding-to-the-legend-aka-proxy-artists\n",
      "/Users/galraz1/opt/miniconda3/envs/stan_env/lib/python3.7/site-packages/ipykernel_launcher.py:60: UserWarning: Legend does not support 'i' instances.\n",
      "A proxy artist may be used instead.\n",
      "See: https://matplotlib.org/users/legend_guide.html#creating-artists-specifically-for-adding-to-the-legend-aka-proxy-artists\n",
      "/Users/galraz1/opt/miniconda3/envs/stan_env/lib/python3.7/site-packages/ipykernel_launcher.py:60: UserWarning: Legend does not support 'o' instances.\n",
      "A proxy artist may be used instead.\n",
      "See: https://matplotlib.org/users/legend_guide.html#creating-artists-specifically-for-adding-to-the-legend-aka-proxy-artists\n",
      "/Users/galraz1/opt/miniconda3/envs/stan_env/lib/python3.7/site-packages/ipykernel_launcher.py:67: UserWarning: Legend does not support 'p' instances.\n",
      "A proxy artist may be used instead.\n",
      "See: https://matplotlib.org/users/legend_guide.html#creating-artists-specifically-for-adding-to-the-legend-aka-proxy-artists\n",
      "/Users/galraz1/opt/miniconda3/envs/stan_env/lib/python3.7/site-packages/ipykernel_launcher.py:67: UserWarning: Legend does not support 'r' instances.\n",
      "A proxy artist may be used instead.\n",
      "See: https://matplotlib.org/users/legend_guide.html#creating-artists-specifically-for-adding-to-the-legend-aka-proxy-artists\n",
      "/Users/galraz1/opt/miniconda3/envs/stan_env/lib/python3.7/site-packages/ipykernel_launcher.py:67: UserWarning: Legend does not support 'i' instances.\n",
      "A proxy artist may be used instead.\n",
      "See: https://matplotlib.org/users/legend_guide.html#creating-artists-specifically-for-adding-to-the-legend-aka-proxy-artists\n",
      "/Users/galraz1/opt/miniconda3/envs/stan_env/lib/python3.7/site-packages/ipykernel_launcher.py:67: UserWarning: Legend does not support 'o' instances.\n",
      "A proxy artist may be used instead.\n",
      "See: https://matplotlib.org/users/legend_guide.html#creating-artists-specifically-for-adding-to-the-legend-aka-proxy-artists\n"
     ]
    },
    {
     "name": "stdout",
     "output_type": "stream",
     "text": [
      "KL: 0.09705984571021808\n",
      "stimulus:  5\n",
      "sample:  12\n"
     ]
    },
    {
     "name": "stderr",
     "output_type": "stream",
     "text": [
      "WARNING:pystan:45 of 16000 iterations ended with a divergence (0.281 %).\n",
      "WARNING:pystan:Try running with adapt_delta larger than 0.95 to remove the divergences.\n"
     ]
    },
    {
     "name": "stdout",
     "output_type": "stream",
     "text": [
      "\n",
      "Gradient evaluation took 1.3e-05 seconds\n",
      "1000 transitions using 10 leapfrog steps per transition would take 0.13 seconds.\n",
      "Adjust your expectations accordingly!\n",
      "\n",
      "\n",
      "Iteration:     1 / 20000 [  0%]  (Warmup)\n",
      "Iteration:  2000 / 20000 [ 10%]  (Warmup)\n",
      "Iteration:  4000 / 20000 [ 20%]  (Warmup)\n",
      "Iteration:  4001 / 20000 [ 20%]  (Sampling)\n",
      "Iteration:  6000 / 20000 [ 30%]  (Sampling)\n",
      "Iteration:  8000 / 20000 [ 40%]  (Sampling)\n",
      "Iteration: 10000 / 20000 [ 50%]  (Sampling)\n",
      "Iteration: 12000 / 20000 [ 60%]  (Sampling)\n",
      "Iteration: 14000 / 20000 [ 70%]  (Sampling)\n",
      "Iteration: 16000 / 20000 [ 80%]  (Sampling)\n",
      "Iteration: 18000 / 20000 [ 90%]  (Sampling)\n",
      "Iteration: 20000 / 20000 [100%]  (Sampling)\n",
      "\n",
      " Elapsed Time: 0.327792 seconds (Warm-up)\n",
      "               1.43809 seconds (Sampling)\n",
      "               1.76588 seconds (Total)\n",
      "\n"
     ]
    },
    {
     "name": "stderr",
     "output_type": "stream",
     "text": [
      "/Users/galraz1/opt/miniconda3/envs/stan_env/lib/python3.7/site-packages/ipykernel_launcher.py:60: UserWarning: Legend does not support 'p' instances.\n",
      "A proxy artist may be used instead.\n",
      "See: https://matplotlib.org/users/legend_guide.html#creating-artists-specifically-for-adding-to-the-legend-aka-proxy-artists\n",
      "/Users/galraz1/opt/miniconda3/envs/stan_env/lib/python3.7/site-packages/ipykernel_launcher.py:60: UserWarning: Legend does not support 'r' instances.\n",
      "A proxy artist may be used instead.\n",
      "See: https://matplotlib.org/users/legend_guide.html#creating-artists-specifically-for-adding-to-the-legend-aka-proxy-artists\n",
      "/Users/galraz1/opt/miniconda3/envs/stan_env/lib/python3.7/site-packages/ipykernel_launcher.py:60: UserWarning: Legend does not support 'i' instances.\n",
      "A proxy artist may be used instead.\n",
      "See: https://matplotlib.org/users/legend_guide.html#creating-artists-specifically-for-adding-to-the-legend-aka-proxy-artists\n",
      "/Users/galraz1/opt/miniconda3/envs/stan_env/lib/python3.7/site-packages/ipykernel_launcher.py:60: UserWarning: Legend does not support 'o' instances.\n",
      "A proxy artist may be used instead.\n",
      "See: https://matplotlib.org/users/legend_guide.html#creating-artists-specifically-for-adding-to-the-legend-aka-proxy-artists\n",
      "/Users/galraz1/opt/miniconda3/envs/stan_env/lib/python3.7/site-packages/ipykernel_launcher.py:67: UserWarning: Legend does not support 'p' instances.\n",
      "A proxy artist may be used instead.\n",
      "See: https://matplotlib.org/users/legend_guide.html#creating-artists-specifically-for-adding-to-the-legend-aka-proxy-artists\n",
      "/Users/galraz1/opt/miniconda3/envs/stan_env/lib/python3.7/site-packages/ipykernel_launcher.py:67: UserWarning: Legend does not support 'r' instances.\n",
      "A proxy artist may be used instead.\n",
      "See: https://matplotlib.org/users/legend_guide.html#creating-artists-specifically-for-adding-to-the-legend-aka-proxy-artists\n",
      "/Users/galraz1/opt/miniconda3/envs/stan_env/lib/python3.7/site-packages/ipykernel_launcher.py:67: UserWarning: Legend does not support 'i' instances.\n",
      "A proxy artist may be used instead.\n",
      "See: https://matplotlib.org/users/legend_guide.html#creating-artists-specifically-for-adding-to-the-legend-aka-proxy-artists\n",
      "/Users/galraz1/opt/miniconda3/envs/stan_env/lib/python3.7/site-packages/ipykernel_launcher.py:67: UserWarning: Legend does not support 'o' instances.\n",
      "A proxy artist may be used instead.\n",
      "See: https://matplotlib.org/users/legend_guide.html#creating-artists-specifically-for-adding-to-the-legend-aka-proxy-artists\n",
      "/Users/galraz1/opt/miniconda3/envs/stan_env/lib/python3.7/site-packages/ipykernel_launcher.py:28: RuntimeWarning: divide by zero encountered in log\n",
      "/Users/galraz1/opt/miniconda3/envs/stan_env/lib/python3.7/site-packages/ipykernel_launcher.py:33: RuntimeWarning: divide by zero encountered in log\n"
     ]
    },
    {
     "name": "stdout",
     "output_type": "stream",
     "text": [
      "KL: inf\n",
      "stimulus:  5\n",
      "sample:  13\n",
      "\n",
      "Gradient evaluation took 1.2e-05 seconds\n",
      "1000 transitions using 10 leapfrog steps per transition would take 0.12 seconds.\n",
      "Adjust your expectations accordingly!\n",
      "\n",
      "\n"
     ]
    },
    {
     "name": "stderr",
     "output_type": "stream",
     "text": [
      "WARNING:pystan:270 of 16000 iterations ended with a divergence (1.69 %).\n",
      "WARNING:pystan:Try running with adapt_delta larger than 0.95 to remove the divergences.\n",
      "/Users/galraz1/opt/miniconda3/envs/stan_env/lib/python3.7/site-packages/ipykernel_launcher.py:60: UserWarning: Legend does not support 'p' instances.\n",
      "A proxy artist may be used instead.\n",
      "See: https://matplotlib.org/users/legend_guide.html#creating-artists-specifically-for-adding-to-the-legend-aka-proxy-artists\n",
      "/Users/galraz1/opt/miniconda3/envs/stan_env/lib/python3.7/site-packages/ipykernel_launcher.py:60: UserWarning: Legend does not support 'r' instances.\n",
      "A proxy artist may be used instead.\n",
      "See: https://matplotlib.org/users/legend_guide.html#creating-artists-specifically-for-adding-to-the-legend-aka-proxy-artists\n",
      "/Users/galraz1/opt/miniconda3/envs/stan_env/lib/python3.7/site-packages/ipykernel_launcher.py:60: UserWarning: Legend does not support 'i' instances.\n",
      "A proxy artist may be used instead.\n",
      "See: https://matplotlib.org/users/legend_guide.html#creating-artists-specifically-for-adding-to-the-legend-aka-proxy-artists\n",
      "/Users/galraz1/opt/miniconda3/envs/stan_env/lib/python3.7/site-packages/ipykernel_launcher.py:60: UserWarning: Legend does not support 'o' instances.\n",
      "A proxy artist may be used instead.\n",
      "See: https://matplotlib.org/users/legend_guide.html#creating-artists-specifically-for-adding-to-the-legend-aka-proxy-artists\n",
      "/Users/galraz1/opt/miniconda3/envs/stan_env/lib/python3.7/site-packages/ipykernel_launcher.py:67: UserWarning: Legend does not support 'p' instances.\n",
      "A proxy artist may be used instead.\n",
      "See: https://matplotlib.org/users/legend_guide.html#creating-artists-specifically-for-adding-to-the-legend-aka-proxy-artists\n",
      "/Users/galraz1/opt/miniconda3/envs/stan_env/lib/python3.7/site-packages/ipykernel_launcher.py:67: UserWarning: Legend does not support 'r' instances.\n",
      "A proxy artist may be used instead.\n",
      "See: https://matplotlib.org/users/legend_guide.html#creating-artists-specifically-for-adding-to-the-legend-aka-proxy-artists\n",
      "/Users/galraz1/opt/miniconda3/envs/stan_env/lib/python3.7/site-packages/ipykernel_launcher.py:67: UserWarning: Legend does not support 'i' instances.\n",
      "A proxy artist may be used instead.\n",
      "See: https://matplotlib.org/users/legend_guide.html#creating-artists-specifically-for-adding-to-the-legend-aka-proxy-artists\n",
      "/Users/galraz1/opt/miniconda3/envs/stan_env/lib/python3.7/site-packages/ipykernel_launcher.py:67: UserWarning: Legend does not support 'o' instances.\n",
      "A proxy artist may be used instead.\n",
      "See: https://matplotlib.org/users/legend_guide.html#creating-artists-specifically-for-adding-to-the-legend-aka-proxy-artists\n"
     ]
    },
    {
     "name": "stdout",
     "output_type": "stream",
     "text": [
      "Iteration:     1 / 20000 [  0%]  (Warmup)\n",
      "Iteration:  2000 / 20000 [ 10%]  (Warmup)\n",
      "Iteration:  4000 / 20000 [ 20%]  (Warmup)\n",
      "Iteration:  4001 / 20000 [ 20%]  (Sampling)\n",
      "Iteration:  6000 / 20000 [ 30%]  (Sampling)\n",
      "Iteration:  8000 / 20000 [ 40%]  (Sampling)\n",
      "Iteration: 10000 / 20000 [ 50%]  (Sampling)\n",
      "Iteration: 12000 / 20000 [ 60%]  (Sampling)\n",
      "Iteration: 14000 / 20000 [ 70%]  (Sampling)\n",
      "Iteration: 16000 / 20000 [ 80%]  (Sampling)\n",
      "Iteration: 18000 / 20000 [ 90%]  (Sampling)\n",
      "Iteration: 20000 / 20000 [100%]  (Sampling)\n",
      "\n",
      " Elapsed Time: 0.24691 seconds (Warm-up)\n",
      "               0.884671 seconds (Sampling)\n",
      "               1.13158 seconds (Total)\n",
      "\n",
      "KL: 0.046728552250811725\n",
      "stimulus:  5\n",
      "sample:  14\n"
     ]
    },
    {
     "name": "stderr",
     "output_type": "stream",
     "text": [
      "WARNING:pystan:173 of 16000 iterations ended with a divergence (1.08 %).\n",
      "WARNING:pystan:Try running with adapt_delta larger than 0.95 to remove the divergences.\n"
     ]
    },
    {
     "name": "stdout",
     "output_type": "stream",
     "text": [
      "\n",
      "Gradient evaluation took 1.2e-05 seconds\n",
      "1000 transitions using 10 leapfrog steps per transition would take 0.12 seconds.\n",
      "Adjust your expectations accordingly!\n",
      "\n",
      "\n",
      "Iteration:     1 / 20000 [  0%]  (Warmup)\n",
      "Iteration:  2000 / 20000 [ 10%]  (Warmup)\n",
      "Iteration:  4000 / 20000 [ 20%]  (Warmup)\n",
      "Iteration:  4001 / 20000 [ 20%]  (Sampling)\n",
      "Iteration:  6000 / 20000 [ 30%]  (Sampling)\n",
      "Iteration:  8000 / 20000 [ 40%]  (Sampling)\n",
      "Iteration: 10000 / 20000 [ 50%]  (Sampling)\n",
      "Iteration: 12000 / 20000 [ 60%]  (Sampling)\n",
      "Iteration: 14000 / 20000 [ 70%]  (Sampling)\n",
      "Iteration: 16000 / 20000 [ 80%]  (Sampling)\n",
      "Iteration: 18000 / 20000 [ 90%]  (Sampling)\n",
      "Iteration: 20000 / 20000 [100%]  (Sampling)\n",
      "\n",
      " Elapsed Time: 0.264265 seconds (Warm-up)\n",
      "               0.921741 seconds (Sampling)\n",
      "               1.18601 seconds (Total)\n",
      "\n"
     ]
    },
    {
     "name": "stderr",
     "output_type": "stream",
     "text": [
      "/Users/galraz1/opt/miniconda3/envs/stan_env/lib/python3.7/site-packages/ipykernel_launcher.py:60: UserWarning: Legend does not support 'p' instances.\n",
      "A proxy artist may be used instead.\n",
      "See: https://matplotlib.org/users/legend_guide.html#creating-artists-specifically-for-adding-to-the-legend-aka-proxy-artists\n",
      "/Users/galraz1/opt/miniconda3/envs/stan_env/lib/python3.7/site-packages/ipykernel_launcher.py:60: UserWarning: Legend does not support 'r' instances.\n",
      "A proxy artist may be used instead.\n",
      "See: https://matplotlib.org/users/legend_guide.html#creating-artists-specifically-for-adding-to-the-legend-aka-proxy-artists\n",
      "/Users/galraz1/opt/miniconda3/envs/stan_env/lib/python3.7/site-packages/ipykernel_launcher.py:60: UserWarning: Legend does not support 'i' instances.\n",
      "A proxy artist may be used instead.\n",
      "See: https://matplotlib.org/users/legend_guide.html#creating-artists-specifically-for-adding-to-the-legend-aka-proxy-artists\n",
      "/Users/galraz1/opt/miniconda3/envs/stan_env/lib/python3.7/site-packages/ipykernel_launcher.py:60: UserWarning: Legend does not support 'o' instances.\n",
      "A proxy artist may be used instead.\n",
      "See: https://matplotlib.org/users/legend_guide.html#creating-artists-specifically-for-adding-to-the-legend-aka-proxy-artists\n",
      "/Users/galraz1/opt/miniconda3/envs/stan_env/lib/python3.7/site-packages/ipykernel_launcher.py:67: UserWarning: Legend does not support 'p' instances.\n",
      "A proxy artist may be used instead.\n",
      "See: https://matplotlib.org/users/legend_guide.html#creating-artists-specifically-for-adding-to-the-legend-aka-proxy-artists\n",
      "/Users/galraz1/opt/miniconda3/envs/stan_env/lib/python3.7/site-packages/ipykernel_launcher.py:67: UserWarning: Legend does not support 'r' instances.\n",
      "A proxy artist may be used instead.\n",
      "See: https://matplotlib.org/users/legend_guide.html#creating-artists-specifically-for-adding-to-the-legend-aka-proxy-artists\n",
      "/Users/galraz1/opt/miniconda3/envs/stan_env/lib/python3.7/site-packages/ipykernel_launcher.py:67: UserWarning: Legend does not support 'i' instances.\n",
      "A proxy artist may be used instead.\n",
      "See: https://matplotlib.org/users/legend_guide.html#creating-artists-specifically-for-adding-to-the-legend-aka-proxy-artists\n",
      "/Users/galraz1/opt/miniconda3/envs/stan_env/lib/python3.7/site-packages/ipykernel_launcher.py:67: UserWarning: Legend does not support 'o' instances.\n",
      "A proxy artist may be used instead.\n",
      "See: https://matplotlib.org/users/legend_guide.html#creating-artists-specifically-for-adding-to-the-legend-aka-proxy-artists\n"
     ]
    },
    {
     "name": "stdout",
     "output_type": "stream",
     "text": [
      "KL: -0.005522946982967034\n",
      "stimulus:  6\n",
      "sample:  15\n"
     ]
    },
    {
     "name": "stderr",
     "output_type": "stream",
     "text": [
      "WARNING:pystan:18 of 16000 iterations ended with a divergence (0.113 %).\n",
      "WARNING:pystan:Try running with adapt_delta larger than 0.95 to remove the divergences.\n"
     ]
    },
    {
     "name": "stdout",
     "output_type": "stream",
     "text": [
      "\n",
      "Gradient evaluation took 1.4e-05 seconds\n",
      "1000 transitions using 10 leapfrog steps per transition would take 0.14 seconds.\n",
      "Adjust your expectations accordingly!\n",
      "\n",
      "\n",
      "Iteration:     1 / 20000 [  0%]  (Warmup)\n",
      "Iteration:  2000 / 20000 [ 10%]  (Warmup)\n",
      "Iteration:  4000 / 20000 [ 20%]  (Warmup)\n",
      "Iteration:  4001 / 20000 [ 20%]  (Sampling)\n",
      "Iteration:  6000 / 20000 [ 30%]  (Sampling)\n",
      "Iteration:  8000 / 20000 [ 40%]  (Sampling)\n",
      "Iteration: 10000 / 20000 [ 50%]  (Sampling)\n",
      "Iteration: 12000 / 20000 [ 60%]  (Sampling)\n",
      "Iteration: 14000 / 20000 [ 70%]  (Sampling)\n",
      "Iteration: 16000 / 20000 [ 80%]  (Sampling)\n",
      "Iteration: 18000 / 20000 [ 90%]  (Sampling)\n",
      "Iteration: 20000 / 20000 [100%]  (Sampling)\n",
      "\n",
      " Elapsed Time: 0.160986 seconds (Warm-up)\n",
      "               0.695145 seconds (Sampling)\n",
      "               0.856131 seconds (Total)\n",
      "\n"
     ]
    },
    {
     "name": "stderr",
     "output_type": "stream",
     "text": [
      "/Users/galraz1/opt/miniconda3/envs/stan_env/lib/python3.7/site-packages/ipykernel_launcher.py:60: UserWarning: Legend does not support 'p' instances.\n",
      "A proxy artist may be used instead.\n",
      "See: https://matplotlib.org/users/legend_guide.html#creating-artists-specifically-for-adding-to-the-legend-aka-proxy-artists\n",
      "/Users/galraz1/opt/miniconda3/envs/stan_env/lib/python3.7/site-packages/ipykernel_launcher.py:60: UserWarning: Legend does not support 'r' instances.\n",
      "A proxy artist may be used instead.\n",
      "See: https://matplotlib.org/users/legend_guide.html#creating-artists-specifically-for-adding-to-the-legend-aka-proxy-artists\n",
      "/Users/galraz1/opt/miniconda3/envs/stan_env/lib/python3.7/site-packages/ipykernel_launcher.py:60: UserWarning: Legend does not support 'i' instances.\n",
      "A proxy artist may be used instead.\n",
      "See: https://matplotlib.org/users/legend_guide.html#creating-artists-specifically-for-adding-to-the-legend-aka-proxy-artists\n",
      "/Users/galraz1/opt/miniconda3/envs/stan_env/lib/python3.7/site-packages/ipykernel_launcher.py:60: UserWarning: Legend does not support 'o' instances.\n",
      "A proxy artist may be used instead.\n",
      "See: https://matplotlib.org/users/legend_guide.html#creating-artists-specifically-for-adding-to-the-legend-aka-proxy-artists\n",
      "/Users/galraz1/opt/miniconda3/envs/stan_env/lib/python3.7/site-packages/ipykernel_launcher.py:67: UserWarning: Legend does not support 'p' instances.\n",
      "A proxy artist may be used instead.\n",
      "See: https://matplotlib.org/users/legend_guide.html#creating-artists-specifically-for-adding-to-the-legend-aka-proxy-artists\n",
      "/Users/galraz1/opt/miniconda3/envs/stan_env/lib/python3.7/site-packages/ipykernel_launcher.py:67: UserWarning: Legend does not support 'r' instances.\n",
      "A proxy artist may be used instead.\n",
      "See: https://matplotlib.org/users/legend_guide.html#creating-artists-specifically-for-adding-to-the-legend-aka-proxy-artists\n",
      "/Users/galraz1/opt/miniconda3/envs/stan_env/lib/python3.7/site-packages/ipykernel_launcher.py:67: UserWarning: Legend does not support 'i' instances.\n",
      "A proxy artist may be used instead.\n",
      "See: https://matplotlib.org/users/legend_guide.html#creating-artists-specifically-for-adding-to-the-legend-aka-proxy-artists\n",
      "/Users/galraz1/opt/miniconda3/envs/stan_env/lib/python3.7/site-packages/ipykernel_launcher.py:67: UserWarning: Legend does not support 'o' instances.\n",
      "A proxy artist may be used instead.\n",
      "See: https://matplotlib.org/users/legend_guide.html#creating-artists-specifically-for-adding-to-the-legend-aka-proxy-artists\n"
     ]
    },
    {
     "name": "stdout",
     "output_type": "stream",
     "text": [
      "KL: 4.218442287568581\n",
      "stimulus:  6\n",
      "sample:  16\n",
      "\n",
      "Gradient evaluation took 1.7e-05 seconds\n",
      "1000 transitions using 10 leapfrog steps per transition would take 0.17 seconds.\n",
      "Adjust your expectations accordingly!\n",
      "\n",
      "\n",
      "Iteration:     1 / 20000 [  0%]  (Warmup)\n",
      "Iteration:  2000 / 20000 [ 10%]  (Warmup)\n",
      "Iteration:  4000 / 20000 [ 20%]  (Warmup)\n",
      "Iteration:  4001 / 20000 [ 20%]  (Sampling)\n",
      "Iteration:  6000 / 20000 [ 30%]  (Sampling)\n",
      "Iteration:  8000 / 20000 [ 40%]  (Sampling)\n",
      "Iteration: 10000 / 20000 [ 50%]  (Sampling)\n",
      "Iteration: 12000 / 20000 [ 60%]  (Sampling)\n",
      "Iteration: 14000 / 20000 [ 70%]  (Sampling)\n",
      "Iteration: 16000 / 20000 [ 80%]  (Sampling)\n",
      "Iteration: 18000 / 20000 [ 90%]  (Sampling)\n",
      "Iteration: 20000 / 20000 [100%]  (Sampling)\n",
      "\n",
      " Elapsed Time: 0.141025 seconds (Warm-up)\n",
      "               0.726381 seconds (Sampling)\n",
      "               0.867406 seconds (Total)\n",
      "\n"
     ]
    },
    {
     "name": "stderr",
     "output_type": "stream",
     "text": [
      "/Users/galraz1/opt/miniconda3/envs/stan_env/lib/python3.7/site-packages/ipykernel_launcher.py:60: UserWarning: Legend does not support 'p' instances.\n",
      "A proxy artist may be used instead.\n",
      "See: https://matplotlib.org/users/legend_guide.html#creating-artists-specifically-for-adding-to-the-legend-aka-proxy-artists\n",
      "/Users/galraz1/opt/miniconda3/envs/stan_env/lib/python3.7/site-packages/ipykernel_launcher.py:60: UserWarning: Legend does not support 'r' instances.\n",
      "A proxy artist may be used instead.\n",
      "See: https://matplotlib.org/users/legend_guide.html#creating-artists-specifically-for-adding-to-the-legend-aka-proxy-artists\n",
      "/Users/galraz1/opt/miniconda3/envs/stan_env/lib/python3.7/site-packages/ipykernel_launcher.py:60: UserWarning: Legend does not support 'i' instances.\n",
      "A proxy artist may be used instead.\n",
      "See: https://matplotlib.org/users/legend_guide.html#creating-artists-specifically-for-adding-to-the-legend-aka-proxy-artists\n",
      "/Users/galraz1/opt/miniconda3/envs/stan_env/lib/python3.7/site-packages/ipykernel_launcher.py:60: UserWarning: Legend does not support 'o' instances.\n",
      "A proxy artist may be used instead.\n",
      "See: https://matplotlib.org/users/legend_guide.html#creating-artists-specifically-for-adding-to-the-legend-aka-proxy-artists\n",
      "/Users/galraz1/opt/miniconda3/envs/stan_env/lib/python3.7/site-packages/ipykernel_launcher.py:67: UserWarning: Legend does not support 'p' instances.\n",
      "A proxy artist may be used instead.\n",
      "See: https://matplotlib.org/users/legend_guide.html#creating-artists-specifically-for-adding-to-the-legend-aka-proxy-artists\n",
      "/Users/galraz1/opt/miniconda3/envs/stan_env/lib/python3.7/site-packages/ipykernel_launcher.py:67: UserWarning: Legend does not support 'r' instances.\n",
      "A proxy artist may be used instead.\n",
      "See: https://matplotlib.org/users/legend_guide.html#creating-artists-specifically-for-adding-to-the-legend-aka-proxy-artists\n",
      "/Users/galraz1/opt/miniconda3/envs/stan_env/lib/python3.7/site-packages/ipykernel_launcher.py:67: UserWarning: Legend does not support 'i' instances.\n",
      "A proxy artist may be used instead.\n",
      "See: https://matplotlib.org/users/legend_guide.html#creating-artists-specifically-for-adding-to-the-legend-aka-proxy-artists\n",
      "/Users/galraz1/opt/miniconda3/envs/stan_env/lib/python3.7/site-packages/ipykernel_launcher.py:67: UserWarning: Legend does not support 'o' instances.\n",
      "A proxy artist may be used instead.\n",
      "See: https://matplotlib.org/users/legend_guide.html#creating-artists-specifically-for-adding-to-the-legend-aka-proxy-artists\n"
     ]
    },
    {
     "name": "stdout",
     "output_type": "stream",
     "text": [
      "KL: 0.1554666810537923\n",
      "stimulus:  6\n",
      "sample:  17\n",
      "\n",
      "Gradient evaluation took 1.2e-05 seconds\n",
      "1000 transitions using 10 leapfrog steps per transition would take 0.12 seconds.\n",
      "Adjust your expectations accordingly!\n",
      "\n",
      "\n",
      "Iteration:     1 / 20000 [  0%]  (Warmup)\n",
      "Iteration:  2000 / 20000 [ 10%]  (Warmup)\n",
      "Iteration:  4000 / 20000 [ 20%]  (Warmup)\n",
      "Iteration:  4001 / 20000 [ 20%]  (Sampling)\n",
      "Iteration:  6000 / 20000 [ 30%]  (Sampling)\n",
      "Iteration:  8000 / 20000 [ 40%]  (Sampling)\n",
      "Iteration: 10000 / 20000 [ 50%]  (Sampling)\n",
      "Iteration: 12000 / 20000 [ 60%]  (Sampling)\n",
      "Iteration: 14000 / 20000 [ 70%]  (Sampling)\n",
      "Iteration: 16000 / 20000 [ 80%]  (Sampling)\n",
      "Iteration: 18000 / 20000 [ 90%]  (Sampling)\n",
      "Iteration: 20000 / 20000 [100%]  (Sampling)\n",
      "\n",
      " Elapsed Time: 0.130846 seconds (Warm-up)\n",
      "               0.564536 seconds (Sampling)\n",
      "               0.695382 seconds (Total)\n",
      "\n"
     ]
    },
    {
     "name": "stderr",
     "output_type": "stream",
     "text": [
      "Informational Message: The current Metropolis proposal is about to be rejected because of the following issue:\n",
      "Exception: normal_lpdf: Scale parameter is 0, but must be > 0!  (in 'multi_feature_simple_noise.stan' at line 36)\n",
      "\n",
      "If this warning occurs sporadically, such as for highly constrained variable types like covariance matrices, then the sampler is fine,\n",
      "but if this warning occurs often then your model may be either severely ill-conditioned or misspecified.\n",
      "\n",
      "/Users/galraz1/opt/miniconda3/envs/stan_env/lib/python3.7/site-packages/ipykernel_launcher.py:60: UserWarning: Legend does not support 'p' instances.\n",
      "A proxy artist may be used instead.\n",
      "See: https://matplotlib.org/users/legend_guide.html#creating-artists-specifically-for-adding-to-the-legend-aka-proxy-artists\n",
      "/Users/galraz1/opt/miniconda3/envs/stan_env/lib/python3.7/site-packages/ipykernel_launcher.py:60: UserWarning: Legend does not support 'r' instances.\n",
      "A proxy artist may be used instead.\n",
      "See: https://matplotlib.org/users/legend_guide.html#creating-artists-specifically-for-adding-to-the-legend-aka-proxy-artists\n",
      "/Users/galraz1/opt/miniconda3/envs/stan_env/lib/python3.7/site-packages/ipykernel_launcher.py:60: UserWarning: Legend does not support 'i' instances.\n",
      "A proxy artist may be used instead.\n",
      "See: https://matplotlib.org/users/legend_guide.html#creating-artists-specifically-for-adding-to-the-legend-aka-proxy-artists\n",
      "/Users/galraz1/opt/miniconda3/envs/stan_env/lib/python3.7/site-packages/ipykernel_launcher.py:60: UserWarning: Legend does not support 'o' instances.\n",
      "A proxy artist may be used instead.\n",
      "See: https://matplotlib.org/users/legend_guide.html#creating-artists-specifically-for-adding-to-the-legend-aka-proxy-artists\n",
      "/Users/galraz1/opt/miniconda3/envs/stan_env/lib/python3.7/site-packages/ipykernel_launcher.py:67: UserWarning: Legend does not support 'p' instances.\n",
      "A proxy artist may be used instead.\n",
      "See: https://matplotlib.org/users/legend_guide.html#creating-artists-specifically-for-adding-to-the-legend-aka-proxy-artists\n",
      "/Users/galraz1/opt/miniconda3/envs/stan_env/lib/python3.7/site-packages/ipykernel_launcher.py:67: UserWarning: Legend does not support 'r' instances.\n",
      "A proxy artist may be used instead.\n",
      "See: https://matplotlib.org/users/legend_guide.html#creating-artists-specifically-for-adding-to-the-legend-aka-proxy-artists\n",
      "/Users/galraz1/opt/miniconda3/envs/stan_env/lib/python3.7/site-packages/ipykernel_launcher.py:67: UserWarning: Legend does not support 'i' instances.\n",
      "A proxy artist may be used instead.\n",
      "See: https://matplotlib.org/users/legend_guide.html#creating-artists-specifically-for-adding-to-the-legend-aka-proxy-artists\n",
      "/Users/galraz1/opt/miniconda3/envs/stan_env/lib/python3.7/site-packages/ipykernel_launcher.py:67: UserWarning: Legend does not support 'o' instances.\n",
      "A proxy artist may be used instead.\n",
      "See: https://matplotlib.org/users/legend_guide.html#creating-artists-specifically-for-adding-to-the-legend-aka-proxy-artists\n"
     ]
    },
    {
     "name": "stdout",
     "output_type": "stream",
     "text": [
      "KL: 0.022654547557636615\n",
      "stimulus:  6\n",
      "sample:  18\n",
      "\n",
      "Gradient evaluation took 1.2e-05 seconds\n",
      "1000 transitions using 10 leapfrog steps per transition would take 0.12 seconds.\n",
      "Adjust your expectations accordingly!\n",
      "\n",
      "\n",
      "Iteration:     1 / 20000 [  0%]  (Warmup)\n",
      "Iteration:  2000 / 20000 [ 10%]  (Warmup)\n",
      "Iteration:  4000 / 20000 [ 20%]  (Warmup)\n",
      "Iteration:  4001 / 20000 [ 20%]  (Sampling)\n",
      "Iteration:  6000 / 20000 [ 30%]  (Sampling)\n",
      "Iteration:  8000 / 20000 [ 40%]  (Sampling)\n",
      "Iteration: 10000 / 20000 [ 50%]  (Sampling)\n",
      "Iteration: 12000 / 20000 [ 60%]  (Sampling)\n",
      "Iteration: 14000 / 20000 [ 70%]  (Sampling)\n",
      "Iteration: 16000 / 20000 [ 80%]  (Sampling)\n",
      "Iteration: 18000 / 20000 [ 90%]  (Sampling)\n",
      "Iteration: 20000 / 20000 [100%]  (Sampling)\n",
      "\n",
      " Elapsed Time: 0.144471 seconds (Warm-up)\n",
      "               0.455074 seconds (Sampling)\n",
      "               0.599545 seconds (Total)\n",
      "\n"
     ]
    },
    {
     "name": "stderr",
     "output_type": "stream",
     "text": [
      "/Users/galraz1/opt/miniconda3/envs/stan_env/lib/python3.7/site-packages/ipykernel_launcher.py:60: UserWarning: Legend does not support 'p' instances.\n",
      "A proxy artist may be used instead.\n",
      "See: https://matplotlib.org/users/legend_guide.html#creating-artists-specifically-for-adding-to-the-legend-aka-proxy-artists\n",
      "/Users/galraz1/opt/miniconda3/envs/stan_env/lib/python3.7/site-packages/ipykernel_launcher.py:60: UserWarning: Legend does not support 'r' instances.\n",
      "A proxy artist may be used instead.\n",
      "See: https://matplotlib.org/users/legend_guide.html#creating-artists-specifically-for-adding-to-the-legend-aka-proxy-artists\n",
      "/Users/galraz1/opt/miniconda3/envs/stan_env/lib/python3.7/site-packages/ipykernel_launcher.py:60: UserWarning: Legend does not support 'i' instances.\n",
      "A proxy artist may be used instead.\n",
      "See: https://matplotlib.org/users/legend_guide.html#creating-artists-specifically-for-adding-to-the-legend-aka-proxy-artists\n",
      "/Users/galraz1/opt/miniconda3/envs/stan_env/lib/python3.7/site-packages/ipykernel_launcher.py:60: UserWarning: Legend does not support 'o' instances.\n",
      "A proxy artist may be used instead.\n",
      "See: https://matplotlib.org/users/legend_guide.html#creating-artists-specifically-for-adding-to-the-legend-aka-proxy-artists\n",
      "/Users/galraz1/opt/miniconda3/envs/stan_env/lib/python3.7/site-packages/ipykernel_launcher.py:67: UserWarning: Legend does not support 'p' instances.\n",
      "A proxy artist may be used instead.\n",
      "See: https://matplotlib.org/users/legend_guide.html#creating-artists-specifically-for-adding-to-the-legend-aka-proxy-artists\n",
      "/Users/galraz1/opt/miniconda3/envs/stan_env/lib/python3.7/site-packages/ipykernel_launcher.py:67: UserWarning: Legend does not support 'r' instances.\n",
      "A proxy artist may be used instead.\n",
      "See: https://matplotlib.org/users/legend_guide.html#creating-artists-specifically-for-adding-to-the-legend-aka-proxy-artists\n",
      "/Users/galraz1/opt/miniconda3/envs/stan_env/lib/python3.7/site-packages/ipykernel_launcher.py:67: UserWarning: Legend does not support 'i' instances.\n",
      "A proxy artist may be used instead.\n",
      "See: https://matplotlib.org/users/legend_guide.html#creating-artists-specifically-for-adding-to-the-legend-aka-proxy-artists\n",
      "/Users/galraz1/opt/miniconda3/envs/stan_env/lib/python3.7/site-packages/ipykernel_launcher.py:67: UserWarning: Legend does not support 'o' instances.\n",
      "A proxy artist may be used instead.\n",
      "See: https://matplotlib.org/users/legend_guide.html#creating-artists-specifically-for-adding-to-the-legend-aka-proxy-artists\n"
     ]
    },
    {
     "name": "stdout",
     "output_type": "stream",
     "text": [
      "KL: 0.020701084177732993\n",
      "stimulus:  6\n",
      "sample:  19\n",
      "\n",
      "Gradient evaluation took 1.4e-05 seconds\n",
      "1000 transitions using 10 leapfrog steps per transition would take 0.14 seconds.\n",
      "Adjust your expectations accordingly!\n",
      "\n",
      "\n",
      "Iteration:     1 / 20000 [  0%]  (Warmup)\n",
      "Iteration:  2000 / 20000 [ 10%]  (Warmup)\n",
      "Iteration:  4000 / 20000 [ 20%]  (Warmup)\n",
      "Iteration:  4001 / 20000 [ 20%]  (Sampling)\n",
      "Iteration:  6000 / 20000 [ 30%]  (Sampling)\n",
      "Iteration:  8000 / 20000 [ 40%]  (Sampling)\n",
      "Iteration: 10000 / 20000 [ 50%]  (Sampling)\n",
      "Iteration: 12000 / 20000 [ 60%]  (Sampling)\n",
      "Iteration: 14000 / 20000 [ 70%]  (Sampling)\n",
      "Iteration: 16000 / 20000 [ 80%]  (Sampling)\n",
      "Iteration: 18000 / 20000 [ 90%]  (Sampling)\n",
      "Iteration: 20000 / 20000 [100%]  (Sampling)\n",
      "\n",
      " Elapsed Time: 0.128255 seconds (Warm-up)\n",
      "               0.468257 seconds (Sampling)\n",
      "               0.596512 seconds (Total)\n",
      "\n"
     ]
    },
    {
     "name": "stderr",
     "output_type": "stream",
     "text": [
      "/Users/galraz1/opt/miniconda3/envs/stan_env/lib/python3.7/site-packages/ipykernel_launcher.py:60: UserWarning: Legend does not support 'p' instances.\n",
      "A proxy artist may be used instead.\n",
      "See: https://matplotlib.org/users/legend_guide.html#creating-artists-specifically-for-adding-to-the-legend-aka-proxy-artists\n",
      "/Users/galraz1/opt/miniconda3/envs/stan_env/lib/python3.7/site-packages/ipykernel_launcher.py:60: UserWarning: Legend does not support 'r' instances.\n",
      "A proxy artist may be used instead.\n",
      "See: https://matplotlib.org/users/legend_guide.html#creating-artists-specifically-for-adding-to-the-legend-aka-proxy-artists\n",
      "/Users/galraz1/opt/miniconda3/envs/stan_env/lib/python3.7/site-packages/ipykernel_launcher.py:60: UserWarning: Legend does not support 'i' instances.\n",
      "A proxy artist may be used instead.\n",
      "See: https://matplotlib.org/users/legend_guide.html#creating-artists-specifically-for-adding-to-the-legend-aka-proxy-artists\n",
      "/Users/galraz1/opt/miniconda3/envs/stan_env/lib/python3.7/site-packages/ipykernel_launcher.py:60: UserWarning: Legend does not support 'o' instances.\n",
      "A proxy artist may be used instead.\n",
      "See: https://matplotlib.org/users/legend_guide.html#creating-artists-specifically-for-adding-to-the-legend-aka-proxy-artists\n",
      "/Users/galraz1/opt/miniconda3/envs/stan_env/lib/python3.7/site-packages/ipykernel_launcher.py:67: UserWarning: Legend does not support 'p' instances.\n",
      "A proxy artist may be used instead.\n",
      "See: https://matplotlib.org/users/legend_guide.html#creating-artists-specifically-for-adding-to-the-legend-aka-proxy-artists\n",
      "/Users/galraz1/opt/miniconda3/envs/stan_env/lib/python3.7/site-packages/ipykernel_launcher.py:67: UserWarning: Legend does not support 'r' instances.\n",
      "A proxy artist may be used instead.\n",
      "See: https://matplotlib.org/users/legend_guide.html#creating-artists-specifically-for-adding-to-the-legend-aka-proxy-artists\n",
      "/Users/galraz1/opt/miniconda3/envs/stan_env/lib/python3.7/site-packages/ipykernel_launcher.py:67: UserWarning: Legend does not support 'i' instances.\n",
      "A proxy artist may be used instead.\n",
      "See: https://matplotlib.org/users/legend_guide.html#creating-artists-specifically-for-adding-to-the-legend-aka-proxy-artists\n",
      "/Users/galraz1/opt/miniconda3/envs/stan_env/lib/python3.7/site-packages/ipykernel_launcher.py:67: UserWarning: Legend does not support 'o' instances.\n",
      "A proxy artist may be used instead.\n",
      "See: https://matplotlib.org/users/legend_guide.html#creating-artists-specifically-for-adding-to-the-legend-aka-proxy-artists\n"
     ]
    },
    {
     "name": "stdout",
     "output_type": "stream",
     "text": [
      "KL: 0.0073315581935022005\n",
      "model run:  2\n"
     ]
    },
    {
     "name": "stderr",
     "output_type": "stream",
     "text": [
      "WARNING:pystan:217 of 16000 iterations ended with a divergence (1.36 %).\n",
      "WARNING:pystan:Try running with adapt_delta larger than 0.95 to remove the divergences.\n"
     ]
    },
    {
     "name": "stdout",
     "output_type": "stream",
     "text": [
      "stimulus:  1\n",
      "sample:  1\n",
      "\n",
      "Gradient evaluation took 1.2e-05 seconds\n",
      "1000 transitions using 10 leapfrog steps per transition would take 0.12 seconds.\n",
      "Adjust your expectations accordingly!\n",
      "\n",
      "\n",
      "Iteration:     1 / 20000 [  0%]  (Warmup)\n",
      "Iteration:  2000 / 20000 [ 10%]  (Warmup)\n",
      "Iteration:  4000 / 20000 [ 20%]  (Warmup)\n",
      "Iteration:  4001 / 20000 [ 20%]  (Sampling)\n",
      "Iteration:  6000 / 20000 [ 30%]  (Sampling)\n",
      "Iteration:  8000 / 20000 [ 40%]  (Sampling)\n",
      "Iteration: 10000 / 20000 [ 50%]  (Sampling)\n",
      "Iteration: 12000 / 20000 [ 60%]  (Sampling)\n",
      "Iteration: 14000 / 20000 [ 70%]  (Sampling)\n",
      "Iteration: 16000 / 20000 [ 80%]  (Sampling)\n",
      "Iteration: 18000 / 20000 [ 90%]  (Sampling)\n",
      "Iteration: 20000 / 20000 [100%]  (Sampling)\n",
      "\n",
      " Elapsed Time: 0.102438 seconds (Warm-up)\n",
      "               0.314145 seconds (Sampling)\n",
      "               0.416583 seconds (Total)\n",
      "\n"
     ]
    },
    {
     "name": "stderr",
     "output_type": "stream",
     "text": [
      "/Users/galraz1/opt/miniconda3/envs/stan_env/lib/python3.7/site-packages/ipykernel_launcher.py:60: UserWarning: Legend does not support 'p' instances.\n",
      "A proxy artist may be used instead.\n",
      "See: https://matplotlib.org/users/legend_guide.html#creating-artists-specifically-for-adding-to-the-legend-aka-proxy-artists\n",
      "/Users/galraz1/opt/miniconda3/envs/stan_env/lib/python3.7/site-packages/ipykernel_launcher.py:60: UserWarning: Legend does not support 'r' instances.\n",
      "A proxy artist may be used instead.\n",
      "See: https://matplotlib.org/users/legend_guide.html#creating-artists-specifically-for-adding-to-the-legend-aka-proxy-artists\n",
      "/Users/galraz1/opt/miniconda3/envs/stan_env/lib/python3.7/site-packages/ipykernel_launcher.py:60: UserWarning: Legend does not support 'i' instances.\n",
      "A proxy artist may be used instead.\n",
      "See: https://matplotlib.org/users/legend_guide.html#creating-artists-specifically-for-adding-to-the-legend-aka-proxy-artists\n",
      "/Users/galraz1/opt/miniconda3/envs/stan_env/lib/python3.7/site-packages/ipykernel_launcher.py:60: UserWarning: Legend does not support 'o' instances.\n",
      "A proxy artist may be used instead.\n",
      "See: https://matplotlib.org/users/legend_guide.html#creating-artists-specifically-for-adding-to-the-legend-aka-proxy-artists\n",
      "/Users/galraz1/opt/miniconda3/envs/stan_env/lib/python3.7/site-packages/ipykernel_launcher.py:67: UserWarning: Legend does not support 'p' instances.\n",
      "A proxy artist may be used instead.\n",
      "See: https://matplotlib.org/users/legend_guide.html#creating-artists-specifically-for-adding-to-the-legend-aka-proxy-artists\n",
      "/Users/galraz1/opt/miniconda3/envs/stan_env/lib/python3.7/site-packages/ipykernel_launcher.py:67: UserWarning: Legend does not support 'r' instances.\n",
      "A proxy artist may be used instead.\n",
      "See: https://matplotlib.org/users/legend_guide.html#creating-artists-specifically-for-adding-to-the-legend-aka-proxy-artists\n",
      "/Users/galraz1/opt/miniconda3/envs/stan_env/lib/python3.7/site-packages/ipykernel_launcher.py:67: UserWarning: Legend does not support 'i' instances.\n",
      "A proxy artist may be used instead.\n",
      "See: https://matplotlib.org/users/legend_guide.html#creating-artists-specifically-for-adding-to-the-legend-aka-proxy-artists\n",
      "/Users/galraz1/opt/miniconda3/envs/stan_env/lib/python3.7/site-packages/ipykernel_launcher.py:67: UserWarning: Legend does not support 'o' instances.\n",
      "A proxy artist may be used instead.\n",
      "See: https://matplotlib.org/users/legend_guide.html#creating-artists-specifically-for-adding-to-the-legend-aka-proxy-artists\n"
     ]
    },
    {
     "name": "stdout",
     "output_type": "stream",
     "text": [
      "KL: 1.2960351116072417\n",
      "stimulus:  1\n",
      "sample:  2\n"
     ]
    },
    {
     "name": "stderr",
     "output_type": "stream",
     "text": [
      "WARNING:pystan:78 of 16000 iterations ended with a divergence (0.487 %).\n",
      "WARNING:pystan:Try running with adapt_delta larger than 0.95 to remove the divergences.\n"
     ]
    },
    {
     "name": "stdout",
     "output_type": "stream",
     "text": [
      "\n",
      "Gradient evaluation took 1.2e-05 seconds\n",
      "1000 transitions using 10 leapfrog steps per transition would take 0.12 seconds.\n",
      "Adjust your expectations accordingly!\n",
      "\n",
      "\n",
      "Iteration:     1 / 20000 [  0%]  (Warmup)\n",
      "Iteration:  2000 / 20000 [ 10%]  (Warmup)\n",
      "Iteration:  4000 / 20000 [ 20%]  (Warmup)\n",
      "Iteration:  4001 / 20000 [ 20%]  (Sampling)\n",
      "Iteration:  6000 / 20000 [ 30%]  (Sampling)\n",
      "Iteration:  8000 / 20000 [ 40%]  (Sampling)\n",
      "Iteration: 10000 / 20000 [ 50%]  (Sampling)\n",
      "Iteration: 12000 / 20000 [ 60%]  (Sampling)\n",
      "Iteration: 14000 / 20000 [ 70%]  (Sampling)\n",
      "Iteration: 16000 / 20000 [ 80%]  (Sampling)\n",
      "Iteration: 18000 / 20000 [ 90%]  (Sampling)\n",
      "Iteration: 20000 / 20000 [100%]  (Sampling)\n",
      "\n",
      " Elapsed Time: 0.100943 seconds (Warm-up)\n",
      "               0.373155 seconds (Sampling)\n",
      "               0.474098 seconds (Total)\n",
      "\n"
     ]
    },
    {
     "name": "stderr",
     "output_type": "stream",
     "text": [
      "/Users/galraz1/opt/miniconda3/envs/stan_env/lib/python3.7/site-packages/ipykernel_launcher.py:60: UserWarning: Legend does not support 'p' instances.\n",
      "A proxy artist may be used instead.\n",
      "See: https://matplotlib.org/users/legend_guide.html#creating-artists-specifically-for-adding-to-the-legend-aka-proxy-artists\n",
      "/Users/galraz1/opt/miniconda3/envs/stan_env/lib/python3.7/site-packages/ipykernel_launcher.py:60: UserWarning: Legend does not support 'r' instances.\n",
      "A proxy artist may be used instead.\n",
      "See: https://matplotlib.org/users/legend_guide.html#creating-artists-specifically-for-adding-to-the-legend-aka-proxy-artists\n",
      "/Users/galraz1/opt/miniconda3/envs/stan_env/lib/python3.7/site-packages/ipykernel_launcher.py:60: UserWarning: Legend does not support 'i' instances.\n",
      "A proxy artist may be used instead.\n",
      "See: https://matplotlib.org/users/legend_guide.html#creating-artists-specifically-for-adding-to-the-legend-aka-proxy-artists\n",
      "/Users/galraz1/opt/miniconda3/envs/stan_env/lib/python3.7/site-packages/ipykernel_launcher.py:60: UserWarning: Legend does not support 'o' instances.\n",
      "A proxy artist may be used instead.\n",
      "See: https://matplotlib.org/users/legend_guide.html#creating-artists-specifically-for-adding-to-the-legend-aka-proxy-artists\n",
      "/Users/galraz1/opt/miniconda3/envs/stan_env/lib/python3.7/site-packages/ipykernel_launcher.py:67: UserWarning: Legend does not support 'p' instances.\n",
      "A proxy artist may be used instead.\n",
      "See: https://matplotlib.org/users/legend_guide.html#creating-artists-specifically-for-adding-to-the-legend-aka-proxy-artists\n",
      "/Users/galraz1/opt/miniconda3/envs/stan_env/lib/python3.7/site-packages/ipykernel_launcher.py:67: UserWarning: Legend does not support 'r' instances.\n",
      "A proxy artist may be used instead.\n",
      "See: https://matplotlib.org/users/legend_guide.html#creating-artists-specifically-for-adding-to-the-legend-aka-proxy-artists\n",
      "/Users/galraz1/opt/miniconda3/envs/stan_env/lib/python3.7/site-packages/ipykernel_launcher.py:67: UserWarning: Legend does not support 'i' instances.\n",
      "A proxy artist may be used instead.\n",
      "See: https://matplotlib.org/users/legend_guide.html#creating-artists-specifically-for-adding-to-the-legend-aka-proxy-artists\n",
      "/Users/galraz1/opt/miniconda3/envs/stan_env/lib/python3.7/site-packages/ipykernel_launcher.py:67: UserWarning: Legend does not support 'o' instances.\n",
      "A proxy artist may be used instead.\n",
      "See: https://matplotlib.org/users/legend_guide.html#creating-artists-specifically-for-adding-to-the-legend-aka-proxy-artists\n"
     ]
    },
    {
     "name": "stdout",
     "output_type": "stream",
     "text": [
      "KL: -0.024894357136183345\n",
      "stimulus:  2\n",
      "sample:  3\n",
      "\n",
      "Gradient evaluation took 1e-05 seconds\n",
      "1000 transitions using 10 leapfrog steps per transition would take 0.1 seconds.\n",
      "Adjust your expectations accordingly!\n",
      "\n",
      "\n"
     ]
    },
    {
     "name": "stderr",
     "output_type": "stream",
     "text": [
      "WARNING:pystan:153 of 16000 iterations ended with a divergence (0.956 %).\n",
      "WARNING:pystan:Try running with adapt_delta larger than 0.95 to remove the divergences.\n"
     ]
    },
    {
     "name": "stdout",
     "output_type": "stream",
     "text": [
      "Iteration:     1 / 20000 [  0%]  (Warmup)\n",
      "Iteration:  2000 / 20000 [ 10%]  (Warmup)\n",
      "Iteration:  4000 / 20000 [ 20%]  (Warmup)\n",
      "Iteration:  4001 / 20000 [ 20%]  (Sampling)\n",
      "Iteration:  6000 / 20000 [ 30%]  (Sampling)\n",
      "Iteration:  8000 / 20000 [ 40%]  (Sampling)\n",
      "Iteration: 10000 / 20000 [ 50%]  (Sampling)\n",
      "Iteration: 12000 / 20000 [ 60%]  (Sampling)\n",
      "Iteration: 14000 / 20000 [ 70%]  (Sampling)\n",
      "Iteration: 16000 / 20000 [ 80%]  (Sampling)\n",
      "Iteration: 18000 / 20000 [ 90%]  (Sampling)\n",
      "Iteration: 20000 / 20000 [100%]  (Sampling)\n",
      "\n",
      " Elapsed Time: 0.122444 seconds (Warm-up)\n",
      "               0.571099 seconds (Sampling)\n",
      "               0.693543 seconds (Total)\n",
      "\n"
     ]
    },
    {
     "name": "stderr",
     "output_type": "stream",
     "text": [
      "/Users/galraz1/opt/miniconda3/envs/stan_env/lib/python3.7/site-packages/ipykernel_launcher.py:60: UserWarning: Legend does not support 'p' instances.\n",
      "A proxy artist may be used instead.\n",
      "See: https://matplotlib.org/users/legend_guide.html#creating-artists-specifically-for-adding-to-the-legend-aka-proxy-artists\n",
      "/Users/galraz1/opt/miniconda3/envs/stan_env/lib/python3.7/site-packages/ipykernel_launcher.py:60: UserWarning: Legend does not support 'r' instances.\n",
      "A proxy artist may be used instead.\n",
      "See: https://matplotlib.org/users/legend_guide.html#creating-artists-specifically-for-adding-to-the-legend-aka-proxy-artists\n",
      "/Users/galraz1/opt/miniconda3/envs/stan_env/lib/python3.7/site-packages/ipykernel_launcher.py:60: UserWarning: Legend does not support 'i' instances.\n",
      "A proxy artist may be used instead.\n",
      "See: https://matplotlib.org/users/legend_guide.html#creating-artists-specifically-for-adding-to-the-legend-aka-proxy-artists\n",
      "/Users/galraz1/opt/miniconda3/envs/stan_env/lib/python3.7/site-packages/ipykernel_launcher.py:60: UserWarning: Legend does not support 'o' instances.\n",
      "A proxy artist may be used instead.\n",
      "See: https://matplotlib.org/users/legend_guide.html#creating-artists-specifically-for-adding-to-the-legend-aka-proxy-artists\n",
      "/Users/galraz1/opt/miniconda3/envs/stan_env/lib/python3.7/site-packages/ipykernel_launcher.py:67: UserWarning: Legend does not support 'p' instances.\n",
      "A proxy artist may be used instead.\n",
      "See: https://matplotlib.org/users/legend_guide.html#creating-artists-specifically-for-adding-to-the-legend-aka-proxy-artists\n",
      "/Users/galraz1/opt/miniconda3/envs/stan_env/lib/python3.7/site-packages/ipykernel_launcher.py:67: UserWarning: Legend does not support 'r' instances.\n",
      "A proxy artist may be used instead.\n",
      "See: https://matplotlib.org/users/legend_guide.html#creating-artists-specifically-for-adding-to-the-legend-aka-proxy-artists\n",
      "/Users/galraz1/opt/miniconda3/envs/stan_env/lib/python3.7/site-packages/ipykernel_launcher.py:67: UserWarning: Legend does not support 'i' instances.\n",
      "A proxy artist may be used instead.\n",
      "See: https://matplotlib.org/users/legend_guide.html#creating-artists-specifically-for-adding-to-the-legend-aka-proxy-artists\n",
      "/Users/galraz1/opt/miniconda3/envs/stan_env/lib/python3.7/site-packages/ipykernel_launcher.py:67: UserWarning: Legend does not support 'o' instances.\n",
      "A proxy artist may be used instead.\n",
      "See: https://matplotlib.org/users/legend_guide.html#creating-artists-specifically-for-adding-to-the-legend-aka-proxy-artists\n"
     ]
    },
    {
     "name": "stdout",
     "output_type": "stream",
     "text": [
      "KL: 0.13760191216813553\n",
      "stimulus:  2\n",
      "sample:  4\n",
      "\n",
      "Gradient evaluation took 1.2e-05 seconds\n",
      "1000 transitions using 10 leapfrog steps per transition would take 0.12 seconds.\n",
      "Adjust your expectations accordingly!\n",
      "\n",
      "\n"
     ]
    },
    {
     "name": "stderr",
     "output_type": "stream",
     "text": [
      "WARNING:pystan:126 of 16000 iterations ended with a divergence (0.787 %).\n",
      "WARNING:pystan:Try running with adapt_delta larger than 0.95 to remove the divergences.\n"
     ]
    },
    {
     "name": "stdout",
     "output_type": "stream",
     "text": [
      "Iteration:     1 / 20000 [  0%]  (Warmup)\n",
      "Iteration:  2000 / 20000 [ 10%]  (Warmup)\n",
      "Iteration:  4000 / 20000 [ 20%]  (Warmup)\n",
      "Iteration:  4001 / 20000 [ 20%]  (Sampling)\n",
      "Iteration:  6000 / 20000 [ 30%]  (Sampling)\n",
      "Iteration:  8000 / 20000 [ 40%]  (Sampling)\n",
      "Iteration: 10000 / 20000 [ 50%]  (Sampling)\n",
      "Iteration: 12000 / 20000 [ 60%]  (Sampling)\n",
      "Iteration: 14000 / 20000 [ 70%]  (Sampling)\n",
      "Iteration: 16000 / 20000 [ 80%]  (Sampling)\n",
      "Iteration: 18000 / 20000 [ 90%]  (Sampling)\n",
      "Iteration: 20000 / 20000 [100%]  (Sampling)\n",
      "\n",
      " Elapsed Time: 0.144177 seconds (Warm-up)\n",
      "               0.505561 seconds (Sampling)\n",
      "               0.649738 seconds (Total)\n",
      "\n"
     ]
    },
    {
     "name": "stderr",
     "output_type": "stream",
     "text": [
      "/Users/galraz1/opt/miniconda3/envs/stan_env/lib/python3.7/site-packages/ipykernel_launcher.py:60: UserWarning: Legend does not support 'p' instances.\n",
      "A proxy artist may be used instead.\n",
      "See: https://matplotlib.org/users/legend_guide.html#creating-artists-specifically-for-adding-to-the-legend-aka-proxy-artists\n",
      "/Users/galraz1/opt/miniconda3/envs/stan_env/lib/python3.7/site-packages/ipykernel_launcher.py:60: UserWarning: Legend does not support 'r' instances.\n",
      "A proxy artist may be used instead.\n",
      "See: https://matplotlib.org/users/legend_guide.html#creating-artists-specifically-for-adding-to-the-legend-aka-proxy-artists\n",
      "/Users/galraz1/opt/miniconda3/envs/stan_env/lib/python3.7/site-packages/ipykernel_launcher.py:60: UserWarning: Legend does not support 'i' instances.\n",
      "A proxy artist may be used instead.\n",
      "See: https://matplotlib.org/users/legend_guide.html#creating-artists-specifically-for-adding-to-the-legend-aka-proxy-artists\n",
      "/Users/galraz1/opt/miniconda3/envs/stan_env/lib/python3.7/site-packages/ipykernel_launcher.py:60: UserWarning: Legend does not support 'o' instances.\n",
      "A proxy artist may be used instead.\n",
      "See: https://matplotlib.org/users/legend_guide.html#creating-artists-specifically-for-adding-to-the-legend-aka-proxy-artists\n",
      "/Users/galraz1/opt/miniconda3/envs/stan_env/lib/python3.7/site-packages/ipykernel_launcher.py:67: UserWarning: Legend does not support 'p' instances.\n",
      "A proxy artist may be used instead.\n",
      "See: https://matplotlib.org/users/legend_guide.html#creating-artists-specifically-for-adding-to-the-legend-aka-proxy-artists\n",
      "/Users/galraz1/opt/miniconda3/envs/stan_env/lib/python3.7/site-packages/ipykernel_launcher.py:67: UserWarning: Legend does not support 'r' instances.\n",
      "A proxy artist may be used instead.\n",
      "See: https://matplotlib.org/users/legend_guide.html#creating-artists-specifically-for-adding-to-the-legend-aka-proxy-artists\n",
      "/Users/galraz1/opt/miniconda3/envs/stan_env/lib/python3.7/site-packages/ipykernel_launcher.py:67: UserWarning: Legend does not support 'i' instances.\n",
      "A proxy artist may be used instead.\n",
      "See: https://matplotlib.org/users/legend_guide.html#creating-artists-specifically-for-adding-to-the-legend-aka-proxy-artists\n",
      "/Users/galraz1/opt/miniconda3/envs/stan_env/lib/python3.7/site-packages/ipykernel_launcher.py:67: UserWarning: Legend does not support 'o' instances.\n",
      "A proxy artist may be used instead.\n",
      "See: https://matplotlib.org/users/legend_guide.html#creating-artists-specifically-for-adding-to-the-legend-aka-proxy-artists\n"
     ]
    },
    {
     "name": "stdout",
     "output_type": "stream",
     "text": [
      "KL: 0.039130439821905574\n",
      "stimulus:  2\n",
      "sample:  5\n",
      "\n",
      "Gradient evaluation took 1.3e-05 seconds\n",
      "1000 transitions using 10 leapfrog steps per transition would take 0.13 seconds.\n",
      "Adjust your expectations accordingly!\n",
      "\n",
      "\n"
     ]
    },
    {
     "name": "stderr",
     "output_type": "stream",
     "text": [
      "WARNING:pystan:62 of 16000 iterations ended with a divergence (0.388 %).\n",
      "WARNING:pystan:Try running with adapt_delta larger than 0.95 to remove the divergences.\n"
     ]
    },
    {
     "name": "stdout",
     "output_type": "stream",
     "text": [
      "Iteration:     1 / 20000 [  0%]  (Warmup)\n",
      "Iteration:  2000 / 20000 [ 10%]  (Warmup)\n",
      "Iteration:  4000 / 20000 [ 20%]  (Warmup)\n",
      "Iteration:  4001 / 20000 [ 20%]  (Sampling)\n",
      "Iteration:  6000 / 20000 [ 30%]  (Sampling)\n",
      "Iteration:  8000 / 20000 [ 40%]  (Sampling)\n",
      "Iteration: 10000 / 20000 [ 50%]  (Sampling)\n",
      "Iteration: 12000 / 20000 [ 60%]  (Sampling)\n",
      "Iteration: 14000 / 20000 [ 70%]  (Sampling)\n",
      "Iteration: 16000 / 20000 [ 80%]  (Sampling)\n",
      "Iteration: 18000 / 20000 [ 90%]  (Sampling)\n",
      "Iteration: 20000 / 20000 [100%]  (Sampling)\n",
      "\n",
      " Elapsed Time: 0.153021 seconds (Warm-up)\n",
      "               0.787408 seconds (Sampling)\n",
      "               0.940429 seconds (Total)\n",
      "\n"
     ]
    },
    {
     "name": "stderr",
     "output_type": "stream",
     "text": [
      "/Users/galraz1/opt/miniconda3/envs/stan_env/lib/python3.7/site-packages/ipykernel_launcher.py:60: UserWarning: Legend does not support 'p' instances.\n",
      "A proxy artist may be used instead.\n",
      "See: https://matplotlib.org/users/legend_guide.html#creating-artists-specifically-for-adding-to-the-legend-aka-proxy-artists\n",
      "/Users/galraz1/opt/miniconda3/envs/stan_env/lib/python3.7/site-packages/ipykernel_launcher.py:60: UserWarning: Legend does not support 'r' instances.\n",
      "A proxy artist may be used instead.\n",
      "See: https://matplotlib.org/users/legend_guide.html#creating-artists-specifically-for-adding-to-the-legend-aka-proxy-artists\n",
      "/Users/galraz1/opt/miniconda3/envs/stan_env/lib/python3.7/site-packages/ipykernel_launcher.py:60: UserWarning: Legend does not support 'i' instances.\n",
      "A proxy artist may be used instead.\n",
      "See: https://matplotlib.org/users/legend_guide.html#creating-artists-specifically-for-adding-to-the-legend-aka-proxy-artists\n",
      "/Users/galraz1/opt/miniconda3/envs/stan_env/lib/python3.7/site-packages/ipykernel_launcher.py:60: UserWarning: Legend does not support 'o' instances.\n",
      "A proxy artist may be used instead.\n",
      "See: https://matplotlib.org/users/legend_guide.html#creating-artists-specifically-for-adding-to-the-legend-aka-proxy-artists\n",
      "/Users/galraz1/opt/miniconda3/envs/stan_env/lib/python3.7/site-packages/ipykernel_launcher.py:67: UserWarning: Legend does not support 'p' instances.\n",
      "A proxy artist may be used instead.\n",
      "See: https://matplotlib.org/users/legend_guide.html#creating-artists-specifically-for-adding-to-the-legend-aka-proxy-artists\n",
      "/Users/galraz1/opt/miniconda3/envs/stan_env/lib/python3.7/site-packages/ipykernel_launcher.py:67: UserWarning: Legend does not support 'r' instances.\n",
      "A proxy artist may be used instead.\n",
      "See: https://matplotlib.org/users/legend_guide.html#creating-artists-specifically-for-adding-to-the-legend-aka-proxy-artists\n",
      "/Users/galraz1/opt/miniconda3/envs/stan_env/lib/python3.7/site-packages/ipykernel_launcher.py:67: UserWarning: Legend does not support 'i' instances.\n",
      "A proxy artist may be used instead.\n",
      "See: https://matplotlib.org/users/legend_guide.html#creating-artists-specifically-for-adding-to-the-legend-aka-proxy-artists\n",
      "/Users/galraz1/opt/miniconda3/envs/stan_env/lib/python3.7/site-packages/ipykernel_launcher.py:67: UserWarning: Legend does not support 'o' instances.\n",
      "A proxy artist may be used instead.\n",
      "See: https://matplotlib.org/users/legend_guide.html#creating-artists-specifically-for-adding-to-the-legend-aka-proxy-artists\n"
     ]
    },
    {
     "name": "stdout",
     "output_type": "stream",
     "text": [
      "KL: 0.02066009329902844\n",
      "stimulus:  2\n",
      "sample:  6\n"
     ]
    },
    {
     "name": "stderr",
     "output_type": "stream",
     "text": [
      "WARNING:pystan:Rhat above 1.1 or below 0.9 indicates that the chains very likely have not mixed\n",
      "WARNING:pystan:2676 of 16000 iterations ended with a divergence (16.7 %).\n",
      "WARNING:pystan:Try running with adapt_delta larger than 0.95 to remove the divergences.\n"
     ]
    },
    {
     "name": "stdout",
     "output_type": "stream",
     "text": [
      "\n",
      "Gradient evaluation took 1.7e-05 seconds\n",
      "1000 transitions using 10 leapfrog steps per transition would take 0.17 seconds.\n",
      "Adjust your expectations accordingly!\n",
      "\n",
      "\n",
      "Iteration:     1 / 20000 [  0%]  (Warmup)\n",
      "Iteration:  2000 / 20000 [ 10%]  (Warmup)\n",
      "Iteration:  4000 / 20000 [ 20%]  (Warmup)\n",
      "Iteration:  4001 / 20000 [ 20%]  (Sampling)\n",
      "Iteration:  6000 / 20000 [ 30%]  (Sampling)\n",
      "Iteration:  8000 / 20000 [ 40%]  (Sampling)\n",
      "Iteration: 10000 / 20000 [ 50%]  (Sampling)\n",
      "Iteration: 12000 / 20000 [ 60%]  (Sampling)\n",
      "Iteration: 14000 / 20000 [ 70%]  (Sampling)\n",
      "Iteration: 16000 / 20000 [ 80%]  (Sampling)\n",
      "Iteration: 18000 / 20000 [ 90%]  (Sampling)\n",
      "Iteration: 20000 / 20000 [100%]  (Sampling)\n",
      "\n",
      " Elapsed Time: 0.238082 seconds (Warm-up)\n",
      "               0.923277 seconds (Sampling)\n",
      "               1.16136 seconds (Total)\n",
      "\n"
     ]
    },
    {
     "name": "stderr",
     "output_type": "stream",
     "text": [
      "/Users/galraz1/opt/miniconda3/envs/stan_env/lib/python3.7/site-packages/ipykernel_launcher.py:60: UserWarning: Legend does not support 'p' instances.\n",
      "A proxy artist may be used instead.\n",
      "See: https://matplotlib.org/users/legend_guide.html#creating-artists-specifically-for-adding-to-the-legend-aka-proxy-artists\n",
      "/Users/galraz1/opt/miniconda3/envs/stan_env/lib/python3.7/site-packages/ipykernel_launcher.py:60: UserWarning: Legend does not support 'r' instances.\n",
      "A proxy artist may be used instead.\n",
      "See: https://matplotlib.org/users/legend_guide.html#creating-artists-specifically-for-adding-to-the-legend-aka-proxy-artists\n",
      "/Users/galraz1/opt/miniconda3/envs/stan_env/lib/python3.7/site-packages/ipykernel_launcher.py:60: UserWarning: Legend does not support 'i' instances.\n",
      "A proxy artist may be used instead.\n",
      "See: https://matplotlib.org/users/legend_guide.html#creating-artists-specifically-for-adding-to-the-legend-aka-proxy-artists\n",
      "/Users/galraz1/opt/miniconda3/envs/stan_env/lib/python3.7/site-packages/ipykernel_launcher.py:60: UserWarning: Legend does not support 'o' instances.\n",
      "A proxy artist may be used instead.\n",
      "See: https://matplotlib.org/users/legend_guide.html#creating-artists-specifically-for-adding-to-the-legend-aka-proxy-artists\n",
      "/Users/galraz1/opt/miniconda3/envs/stan_env/lib/python3.7/site-packages/ipykernel_launcher.py:67: UserWarning: Legend does not support 'p' instances.\n",
      "A proxy artist may be used instead.\n",
      "See: https://matplotlib.org/users/legend_guide.html#creating-artists-specifically-for-adding-to-the-legend-aka-proxy-artists\n",
      "/Users/galraz1/opt/miniconda3/envs/stan_env/lib/python3.7/site-packages/ipykernel_launcher.py:67: UserWarning: Legend does not support 'r' instances.\n",
      "A proxy artist may be used instead.\n",
      "See: https://matplotlib.org/users/legend_guide.html#creating-artists-specifically-for-adding-to-the-legend-aka-proxy-artists\n",
      "/Users/galraz1/opt/miniconda3/envs/stan_env/lib/python3.7/site-packages/ipykernel_launcher.py:67: UserWarning: Legend does not support 'i' instances.\n",
      "A proxy artist may be used instead.\n",
      "See: https://matplotlib.org/users/legend_guide.html#creating-artists-specifically-for-adding-to-the-legend-aka-proxy-artists\n",
      "/Users/galraz1/opt/miniconda3/envs/stan_env/lib/python3.7/site-packages/ipykernel_launcher.py:67: UserWarning: Legend does not support 'o' instances.\n",
      "A proxy artist may be used instead.\n",
      "See: https://matplotlib.org/users/legend_guide.html#creating-artists-specifically-for-adding-to-the-legend-aka-proxy-artists\n"
     ]
    },
    {
     "name": "stdout",
     "output_type": "stream",
     "text": [
      "KL: 0.31320616497068804\n",
      "stimulus:  2\n",
      "sample:  7\n"
     ]
    },
    {
     "name": "stderr",
     "output_type": "stream",
     "text": [
      "WARNING:pystan:190 of 16000 iterations ended with a divergence (1.19 %).\n",
      "WARNING:pystan:Try running with adapt_delta larger than 0.95 to remove the divergences.\n"
     ]
    },
    {
     "name": "stdout",
     "output_type": "stream",
     "text": [
      "\n",
      "Gradient evaluation took 1.1e-05 seconds\n",
      "1000 transitions using 10 leapfrog steps per transition would take 0.11 seconds.\n",
      "Adjust your expectations accordingly!\n",
      "\n",
      "\n",
      "Iteration:     1 / 20000 [  0%]  (Warmup)\n",
      "Iteration:  2000 / 20000 [ 10%]  (Warmup)\n",
      "Iteration:  4000 / 20000 [ 20%]  (Warmup)\n",
      "Iteration:  4001 / 20000 [ 20%]  (Sampling)\n",
      "Iteration:  6000 / 20000 [ 30%]  (Sampling)\n",
      "Iteration:  8000 / 20000 [ 40%]  (Sampling)\n",
      "Iteration: 10000 / 20000 [ 50%]  (Sampling)\n",
      "Iteration: 12000 / 20000 [ 60%]  (Sampling)\n",
      "Iteration: 14000 / 20000 [ 70%]  (Sampling)\n",
      "Iteration: 16000 / 20000 [ 80%]  (Sampling)\n",
      "Iteration: 18000 / 20000 [ 90%]  (Sampling)\n",
      "Iteration: 20000 / 20000 [100%]  (Sampling)\n",
      "\n",
      " Elapsed Time: 0.156361 seconds (Warm-up)\n",
      "               0.642005 seconds (Sampling)\n",
      "               0.798366 seconds (Total)\n",
      "\n"
     ]
    },
    {
     "name": "stderr",
     "output_type": "stream",
     "text": [
      "/Users/galraz1/opt/miniconda3/envs/stan_env/lib/python3.7/site-packages/ipykernel_launcher.py:60: UserWarning: Legend does not support 'p' instances.\n",
      "A proxy artist may be used instead.\n",
      "See: https://matplotlib.org/users/legend_guide.html#creating-artists-specifically-for-adding-to-the-legend-aka-proxy-artists\n",
      "/Users/galraz1/opt/miniconda3/envs/stan_env/lib/python3.7/site-packages/ipykernel_launcher.py:60: UserWarning: Legend does not support 'r' instances.\n",
      "A proxy artist may be used instead.\n",
      "See: https://matplotlib.org/users/legend_guide.html#creating-artists-specifically-for-adding-to-the-legend-aka-proxy-artists\n",
      "/Users/galraz1/opt/miniconda3/envs/stan_env/lib/python3.7/site-packages/ipykernel_launcher.py:60: UserWarning: Legend does not support 'i' instances.\n",
      "A proxy artist may be used instead.\n",
      "See: https://matplotlib.org/users/legend_guide.html#creating-artists-specifically-for-adding-to-the-legend-aka-proxy-artists\n",
      "/Users/galraz1/opt/miniconda3/envs/stan_env/lib/python3.7/site-packages/ipykernel_launcher.py:60: UserWarning: Legend does not support 'o' instances.\n",
      "A proxy artist may be used instead.\n",
      "See: https://matplotlib.org/users/legend_guide.html#creating-artists-specifically-for-adding-to-the-legend-aka-proxy-artists\n",
      "/Users/galraz1/opt/miniconda3/envs/stan_env/lib/python3.7/site-packages/ipykernel_launcher.py:67: UserWarning: Legend does not support 'p' instances.\n",
      "A proxy artist may be used instead.\n",
      "See: https://matplotlib.org/users/legend_guide.html#creating-artists-specifically-for-adding-to-the-legend-aka-proxy-artists\n",
      "/Users/galraz1/opt/miniconda3/envs/stan_env/lib/python3.7/site-packages/ipykernel_launcher.py:67: UserWarning: Legend does not support 'r' instances.\n",
      "A proxy artist may be used instead.\n",
      "See: https://matplotlib.org/users/legend_guide.html#creating-artists-specifically-for-adding-to-the-legend-aka-proxy-artists\n",
      "/Users/galraz1/opt/miniconda3/envs/stan_env/lib/python3.7/site-packages/ipykernel_launcher.py:67: UserWarning: Legend does not support 'i' instances.\n",
      "A proxy artist may be used instead.\n",
      "See: https://matplotlib.org/users/legend_guide.html#creating-artists-specifically-for-adding-to-the-legend-aka-proxy-artists\n",
      "/Users/galraz1/opt/miniconda3/envs/stan_env/lib/python3.7/site-packages/ipykernel_launcher.py:67: UserWarning: Legend does not support 'o' instances.\n",
      "A proxy artist may be used instead.\n",
      "See: https://matplotlib.org/users/legend_guide.html#creating-artists-specifically-for-adding-to-the-legend-aka-proxy-artists\n",
      "/Users/galraz1/opt/miniconda3/envs/stan_env/lib/python3.7/site-packages/ipykernel_launcher.py:28: RuntimeWarning: divide by zero encountered in log\n",
      "/Users/galraz1/opt/miniconda3/envs/stan_env/lib/python3.7/site-packages/ipykernel_launcher.py:33: RuntimeWarning: divide by zero encountered in log\n"
     ]
    },
    {
     "name": "stdout",
     "output_type": "stream",
     "text": [
      "KL: inf\n",
      "stimulus:  2\n",
      "sample:  8\n"
     ]
    },
    {
     "name": "stderr",
     "output_type": "stream",
     "text": [
      "WARNING:pystan:93 of 16000 iterations ended with a divergence (0.581 %).\n",
      "WARNING:pystan:Try running with adapt_delta larger than 0.95 to remove the divergences.\n"
     ]
    },
    {
     "name": "stdout",
     "output_type": "stream",
     "text": [
      "\n",
      "Gradient evaluation took 1.2e-05 seconds\n",
      "1000 transitions using 10 leapfrog steps per transition would take 0.12 seconds.\n",
      "Adjust your expectations accordingly!\n",
      "\n",
      "\n",
      "Iteration:     1 / 20000 [  0%]  (Warmup)\n",
      "Iteration:  2000 / 20000 [ 10%]  (Warmup)\n",
      "Iteration:  4000 / 20000 [ 20%]  (Warmup)\n",
      "Iteration:  4001 / 20000 [ 20%]  (Sampling)\n",
      "Iteration:  6000 / 20000 [ 30%]  (Sampling)\n",
      "Iteration:  8000 / 20000 [ 40%]  (Sampling)\n",
      "Iteration: 10000 / 20000 [ 50%]  (Sampling)\n",
      "Iteration: 12000 / 20000 [ 60%]  (Sampling)\n",
      "Iteration: 14000 / 20000 [ 70%]  (Sampling)\n",
      "Iteration: 16000 / 20000 [ 80%]  (Sampling)\n",
      "Iteration: 18000 / 20000 [ 90%]  (Sampling)\n",
      "Iteration: 20000 / 20000 [100%]  (Sampling)\n",
      "\n",
      " Elapsed Time: 0.168874 seconds (Warm-up)\n",
      "               0.62218 seconds (Sampling)\n",
      "               0.791054 seconds (Total)\n",
      "\n"
     ]
    },
    {
     "name": "stderr",
     "output_type": "stream",
     "text": [
      "/Users/galraz1/opt/miniconda3/envs/stan_env/lib/python3.7/site-packages/ipykernel_launcher.py:60: UserWarning: Legend does not support 'p' instances.\n",
      "A proxy artist may be used instead.\n",
      "See: https://matplotlib.org/users/legend_guide.html#creating-artists-specifically-for-adding-to-the-legend-aka-proxy-artists\n",
      "/Users/galraz1/opt/miniconda3/envs/stan_env/lib/python3.7/site-packages/ipykernel_launcher.py:60: UserWarning: Legend does not support 'r' instances.\n",
      "A proxy artist may be used instead.\n",
      "See: https://matplotlib.org/users/legend_guide.html#creating-artists-specifically-for-adding-to-the-legend-aka-proxy-artists\n",
      "/Users/galraz1/opt/miniconda3/envs/stan_env/lib/python3.7/site-packages/ipykernel_launcher.py:60: UserWarning: Legend does not support 'i' instances.\n",
      "A proxy artist may be used instead.\n",
      "See: https://matplotlib.org/users/legend_guide.html#creating-artists-specifically-for-adding-to-the-legend-aka-proxy-artists\n",
      "/Users/galraz1/opt/miniconda3/envs/stan_env/lib/python3.7/site-packages/ipykernel_launcher.py:60: UserWarning: Legend does not support 'o' instances.\n",
      "A proxy artist may be used instead.\n",
      "See: https://matplotlib.org/users/legend_guide.html#creating-artists-specifically-for-adding-to-the-legend-aka-proxy-artists\n",
      "/Users/galraz1/opt/miniconda3/envs/stan_env/lib/python3.7/site-packages/ipykernel_launcher.py:67: UserWarning: Legend does not support 'p' instances.\n",
      "A proxy artist may be used instead.\n",
      "See: https://matplotlib.org/users/legend_guide.html#creating-artists-specifically-for-adding-to-the-legend-aka-proxy-artists\n",
      "/Users/galraz1/opt/miniconda3/envs/stan_env/lib/python3.7/site-packages/ipykernel_launcher.py:67: UserWarning: Legend does not support 'r' instances.\n",
      "A proxy artist may be used instead.\n",
      "See: https://matplotlib.org/users/legend_guide.html#creating-artists-specifically-for-adding-to-the-legend-aka-proxy-artists\n",
      "/Users/galraz1/opt/miniconda3/envs/stan_env/lib/python3.7/site-packages/ipykernel_launcher.py:67: UserWarning: Legend does not support 'i' instances.\n",
      "A proxy artist may be used instead.\n",
      "See: https://matplotlib.org/users/legend_guide.html#creating-artists-specifically-for-adding-to-the-legend-aka-proxy-artists\n",
      "/Users/galraz1/opt/miniconda3/envs/stan_env/lib/python3.7/site-packages/ipykernel_launcher.py:67: UserWarning: Legend does not support 'o' instances.\n",
      "A proxy artist may be used instead.\n",
      "See: https://matplotlib.org/users/legend_guide.html#creating-artists-specifically-for-adding-to-the-legend-aka-proxy-artists\n"
     ]
    },
    {
     "name": "stdout",
     "output_type": "stream",
     "text": [
      "KL: 0.03152692854667888\n",
      "stimulus:  2\n",
      "sample:  9\n"
     ]
    },
    {
     "name": "stderr",
     "output_type": "stream",
     "text": [
      "WARNING:pystan:41 of 16000 iterations ended with a divergence (0.256 %).\n",
      "WARNING:pystan:Try running with adapt_delta larger than 0.95 to remove the divergences.\n"
     ]
    },
    {
     "name": "stdout",
     "output_type": "stream",
     "text": [
      "\n",
      "Gradient evaluation took 1.1e-05 seconds\n",
      "1000 transitions using 10 leapfrog steps per transition would take 0.11 seconds.\n",
      "Adjust your expectations accordingly!\n",
      "\n",
      "\n",
      "Iteration:     1 / 20000 [  0%]  (Warmup)\n",
      "Iteration:  2000 / 20000 [ 10%]  (Warmup)\n",
      "Iteration:  4000 / 20000 [ 20%]  (Warmup)\n",
      "Iteration:  4001 / 20000 [ 20%]  (Sampling)\n",
      "Iteration:  6000 / 20000 [ 30%]  (Sampling)\n",
      "Iteration:  8000 / 20000 [ 40%]  (Sampling)\n",
      "Iteration: 10000 / 20000 [ 50%]  (Sampling)\n",
      "Iteration: 12000 / 20000 [ 60%]  (Sampling)\n",
      "Iteration: 14000 / 20000 [ 70%]  (Sampling)\n",
      "Iteration: 16000 / 20000 [ 80%]  (Sampling)\n",
      "Iteration: 18000 / 20000 [ 90%]  (Sampling)\n",
      "Iteration: 20000 / 20000 [100%]  (Sampling)\n",
      "\n",
      " Elapsed Time: 0.17175 seconds (Warm-up)\n",
      "               1.00803 seconds (Sampling)\n",
      "               1.17978 seconds (Total)\n",
      "\n"
     ]
    },
    {
     "name": "stderr",
     "output_type": "stream",
     "text": [
      "/Users/galraz1/opt/miniconda3/envs/stan_env/lib/python3.7/site-packages/ipykernel_launcher.py:60: UserWarning: Legend does not support 'p' instances.\n",
      "A proxy artist may be used instead.\n",
      "See: https://matplotlib.org/users/legend_guide.html#creating-artists-specifically-for-adding-to-the-legend-aka-proxy-artists\n",
      "/Users/galraz1/opt/miniconda3/envs/stan_env/lib/python3.7/site-packages/ipykernel_launcher.py:60: UserWarning: Legend does not support 'r' instances.\n",
      "A proxy artist may be used instead.\n",
      "See: https://matplotlib.org/users/legend_guide.html#creating-artists-specifically-for-adding-to-the-legend-aka-proxy-artists\n",
      "/Users/galraz1/opt/miniconda3/envs/stan_env/lib/python3.7/site-packages/ipykernel_launcher.py:60: UserWarning: Legend does not support 'i' instances.\n",
      "A proxy artist may be used instead.\n",
      "See: https://matplotlib.org/users/legend_guide.html#creating-artists-specifically-for-adding-to-the-legend-aka-proxy-artists\n",
      "/Users/galraz1/opt/miniconda3/envs/stan_env/lib/python3.7/site-packages/ipykernel_launcher.py:60: UserWarning: Legend does not support 'o' instances.\n",
      "A proxy artist may be used instead.\n",
      "See: https://matplotlib.org/users/legend_guide.html#creating-artists-specifically-for-adding-to-the-legend-aka-proxy-artists\n",
      "/Users/galraz1/opt/miniconda3/envs/stan_env/lib/python3.7/site-packages/ipykernel_launcher.py:67: UserWarning: Legend does not support 'p' instances.\n",
      "A proxy artist may be used instead.\n",
      "See: https://matplotlib.org/users/legend_guide.html#creating-artists-specifically-for-adding-to-the-legend-aka-proxy-artists\n",
      "/Users/galraz1/opt/miniconda3/envs/stan_env/lib/python3.7/site-packages/ipykernel_launcher.py:67: UserWarning: Legend does not support 'r' instances.\n",
      "A proxy artist may be used instead.\n",
      "See: https://matplotlib.org/users/legend_guide.html#creating-artists-specifically-for-adding-to-the-legend-aka-proxy-artists\n",
      "/Users/galraz1/opt/miniconda3/envs/stan_env/lib/python3.7/site-packages/ipykernel_launcher.py:67: UserWarning: Legend does not support 'i' instances.\n",
      "A proxy artist may be used instead.\n",
      "See: https://matplotlib.org/users/legend_guide.html#creating-artists-specifically-for-adding-to-the-legend-aka-proxy-artists\n",
      "/Users/galraz1/opt/miniconda3/envs/stan_env/lib/python3.7/site-packages/ipykernel_launcher.py:67: UserWarning: Legend does not support 'o' instances.\n",
      "A proxy artist may be used instead.\n",
      "See: https://matplotlib.org/users/legend_guide.html#creating-artists-specifically-for-adding-to-the-legend-aka-proxy-artists\n"
     ]
    },
    {
     "name": "stdout",
     "output_type": "stream",
     "text": [
      "KL: -0.00029480465265703905\n",
      "stimulus:  3\n",
      "sample:  10\n"
     ]
    },
    {
     "name": "stderr",
     "output_type": "stream",
     "text": [
      "WARNING:pystan:243 of 16000 iterations ended with a divergence (1.52 %).\n",
      "WARNING:pystan:Try running with adapt_delta larger than 0.95 to remove the divergences.\n"
     ]
    },
    {
     "name": "stdout",
     "output_type": "stream",
     "text": [
      "\n",
      "Gradient evaluation took 1.3e-05 seconds\n",
      "1000 transitions using 10 leapfrog steps per transition would take 0.13 seconds.\n",
      "Adjust your expectations accordingly!\n",
      "\n",
      "\n",
      "Iteration:     1 / 20000 [  0%]  (Warmup)\n",
      "Iteration:  2000 / 20000 [ 10%]  (Warmup)\n",
      "Iteration:  4000 / 20000 [ 20%]  (Warmup)\n",
      "Iteration:  4001 / 20000 [ 20%]  (Sampling)\n",
      "Iteration:  6000 / 20000 [ 30%]  (Sampling)\n",
      "Iteration:  8000 / 20000 [ 40%]  (Sampling)\n",
      "Iteration: 10000 / 20000 [ 50%]  (Sampling)\n",
      "Iteration: 12000 / 20000 [ 60%]  (Sampling)\n",
      "Iteration: 14000 / 20000 [ 70%]  (Sampling)\n",
      "Iteration: 16000 / 20000 [ 80%]  (Sampling)\n",
      "Iteration: 18000 / 20000 [ 90%]  (Sampling)\n",
      "Iteration: 20000 / 20000 [100%]  (Sampling)\n",
      "\n",
      " Elapsed Time: 0.247821 seconds (Warm-up)\n",
      "               0.650976 seconds (Sampling)\n",
      "               0.898797 seconds (Total)\n",
      "\n"
     ]
    },
    {
     "name": "stderr",
     "output_type": "stream",
     "text": [
      "/Users/galraz1/opt/miniconda3/envs/stan_env/lib/python3.7/site-packages/ipykernel_launcher.py:60: UserWarning: Legend does not support 'p' instances.\n",
      "A proxy artist may be used instead.\n",
      "See: https://matplotlib.org/users/legend_guide.html#creating-artists-specifically-for-adding-to-the-legend-aka-proxy-artists\n",
      "/Users/galraz1/opt/miniconda3/envs/stan_env/lib/python3.7/site-packages/ipykernel_launcher.py:60: UserWarning: Legend does not support 'r' instances.\n",
      "A proxy artist may be used instead.\n",
      "See: https://matplotlib.org/users/legend_guide.html#creating-artists-specifically-for-adding-to-the-legend-aka-proxy-artists\n",
      "/Users/galraz1/opt/miniconda3/envs/stan_env/lib/python3.7/site-packages/ipykernel_launcher.py:60: UserWarning: Legend does not support 'i' instances.\n",
      "A proxy artist may be used instead.\n",
      "See: https://matplotlib.org/users/legend_guide.html#creating-artists-specifically-for-adding-to-the-legend-aka-proxy-artists\n",
      "/Users/galraz1/opt/miniconda3/envs/stan_env/lib/python3.7/site-packages/ipykernel_launcher.py:60: UserWarning: Legend does not support 'o' instances.\n",
      "A proxy artist may be used instead.\n",
      "See: https://matplotlib.org/users/legend_guide.html#creating-artists-specifically-for-adding-to-the-legend-aka-proxy-artists\n",
      "/Users/galraz1/opt/miniconda3/envs/stan_env/lib/python3.7/site-packages/ipykernel_launcher.py:67: UserWarning: Legend does not support 'p' instances.\n",
      "A proxy artist may be used instead.\n",
      "See: https://matplotlib.org/users/legend_guide.html#creating-artists-specifically-for-adding-to-the-legend-aka-proxy-artists\n",
      "/Users/galraz1/opt/miniconda3/envs/stan_env/lib/python3.7/site-packages/ipykernel_launcher.py:67: UserWarning: Legend does not support 'r' instances.\n",
      "A proxy artist may be used instead.\n",
      "See: https://matplotlib.org/users/legend_guide.html#creating-artists-specifically-for-adding-to-the-legend-aka-proxy-artists\n",
      "/Users/galraz1/opt/miniconda3/envs/stan_env/lib/python3.7/site-packages/ipykernel_launcher.py:67: UserWarning: Legend does not support 'i' instances.\n",
      "A proxy artist may be used instead.\n",
      "See: https://matplotlib.org/users/legend_guide.html#creating-artists-specifically-for-adding-to-the-legend-aka-proxy-artists\n",
      "/Users/galraz1/opt/miniconda3/envs/stan_env/lib/python3.7/site-packages/ipykernel_launcher.py:67: UserWarning: Legend does not support 'o' instances.\n",
      "A proxy artist may be used instead.\n",
      "See: https://matplotlib.org/users/legend_guide.html#creating-artists-specifically-for-adding-to-the-legend-aka-proxy-artists\n"
     ]
    },
    {
     "name": "stdout",
     "output_type": "stream",
     "text": [
      "KL: 0.12256757211316972\n",
      "stimulus:  3\n",
      "sample:  11\n"
     ]
    },
    {
     "name": "stderr",
     "output_type": "stream",
     "text": [
      "WARNING:pystan:126 of 16000 iterations ended with a divergence (0.787 %).\n",
      "WARNING:pystan:Try running with adapt_delta larger than 0.95 to remove the divergences.\n"
     ]
    },
    {
     "name": "stdout",
     "output_type": "stream",
     "text": [
      "\n",
      "Gradient evaluation took 1.3e-05 seconds\n",
      "1000 transitions using 10 leapfrog steps per transition would take 0.13 seconds.\n",
      "Adjust your expectations accordingly!\n",
      "\n",
      "\n",
      "Iteration:     1 / 20000 [  0%]  (Warmup)\n",
      "Iteration:  2000 / 20000 [ 10%]  (Warmup)\n",
      "Iteration:  4000 / 20000 [ 20%]  (Warmup)\n",
      "Iteration:  4001 / 20000 [ 20%]  (Sampling)\n",
      "Iteration:  6000 / 20000 [ 30%]  (Sampling)\n",
      "Iteration:  8000 / 20000 [ 40%]  (Sampling)\n",
      "Iteration: 10000 / 20000 [ 50%]  (Sampling)\n",
      "Iteration: 12000 / 20000 [ 60%]  (Sampling)\n",
      "Iteration: 14000 / 20000 [ 70%]  (Sampling)\n",
      "Iteration: 16000 / 20000 [ 80%]  (Sampling)\n",
      "Iteration: 18000 / 20000 [ 90%]  (Sampling)\n",
      "Iteration: 20000 / 20000 [100%]  (Sampling)\n",
      "\n",
      " Elapsed Time: 0.207495 seconds (Warm-up)\n",
      "               1.06553 seconds (Sampling)\n",
      "               1.27302 seconds (Total)\n",
      "\n"
     ]
    },
    {
     "name": "stderr",
     "output_type": "stream",
     "text": [
      "/Users/galraz1/opt/miniconda3/envs/stan_env/lib/python3.7/site-packages/ipykernel_launcher.py:60: UserWarning: Legend does not support 'p' instances.\n",
      "A proxy artist may be used instead.\n",
      "See: https://matplotlib.org/users/legend_guide.html#creating-artists-specifically-for-adding-to-the-legend-aka-proxy-artists\n",
      "/Users/galraz1/opt/miniconda3/envs/stan_env/lib/python3.7/site-packages/ipykernel_launcher.py:60: UserWarning: Legend does not support 'r' instances.\n",
      "A proxy artist may be used instead.\n",
      "See: https://matplotlib.org/users/legend_guide.html#creating-artists-specifically-for-adding-to-the-legend-aka-proxy-artists\n",
      "/Users/galraz1/opt/miniconda3/envs/stan_env/lib/python3.7/site-packages/ipykernel_launcher.py:60: UserWarning: Legend does not support 'i' instances.\n",
      "A proxy artist may be used instead.\n",
      "See: https://matplotlib.org/users/legend_guide.html#creating-artists-specifically-for-adding-to-the-legend-aka-proxy-artists\n",
      "/Users/galraz1/opt/miniconda3/envs/stan_env/lib/python3.7/site-packages/ipykernel_launcher.py:60: UserWarning: Legend does not support 'o' instances.\n",
      "A proxy artist may be used instead.\n",
      "See: https://matplotlib.org/users/legend_guide.html#creating-artists-specifically-for-adding-to-the-legend-aka-proxy-artists\n",
      "/Users/galraz1/opt/miniconda3/envs/stan_env/lib/python3.7/site-packages/ipykernel_launcher.py:67: UserWarning: Legend does not support 'p' instances.\n",
      "A proxy artist may be used instead.\n",
      "See: https://matplotlib.org/users/legend_guide.html#creating-artists-specifically-for-adding-to-the-legend-aka-proxy-artists\n",
      "/Users/galraz1/opt/miniconda3/envs/stan_env/lib/python3.7/site-packages/ipykernel_launcher.py:67: UserWarning: Legend does not support 'r' instances.\n",
      "A proxy artist may be used instead.\n",
      "See: https://matplotlib.org/users/legend_guide.html#creating-artists-specifically-for-adding-to-the-legend-aka-proxy-artists\n",
      "/Users/galraz1/opt/miniconda3/envs/stan_env/lib/python3.7/site-packages/ipykernel_launcher.py:67: UserWarning: Legend does not support 'i' instances.\n",
      "A proxy artist may be used instead.\n",
      "See: https://matplotlib.org/users/legend_guide.html#creating-artists-specifically-for-adding-to-the-legend-aka-proxy-artists\n",
      "/Users/galraz1/opt/miniconda3/envs/stan_env/lib/python3.7/site-packages/ipykernel_launcher.py:67: UserWarning: Legend does not support 'o' instances.\n",
      "A proxy artist may be used instead.\n",
      "See: https://matplotlib.org/users/legend_guide.html#creating-artists-specifically-for-adding-to-the-legend-aka-proxy-artists\n"
     ]
    },
    {
     "name": "stdout",
     "output_type": "stream",
     "text": [
      "KL: -0.008133278559098102\n",
      "stimulus:  4\n",
      "sample:  12\n",
      "\n",
      "Gradient evaluation took 1.4e-05 seconds\n",
      "1000 transitions using 10 leapfrog steps per transition would take 0.14 seconds.\n",
      "Adjust your expectations accordingly!\n",
      "\n",
      "\n"
     ]
    },
    {
     "name": "stderr",
     "output_type": "stream",
     "text": [
      "WARNING:pystan:99 of 16000 iterations ended with a divergence (0.619 %).\n",
      "WARNING:pystan:Try running with adapt_delta larger than 0.95 to remove the divergences.\n"
     ]
    },
    {
     "name": "stdout",
     "output_type": "stream",
     "text": [
      "Iteration:     1 / 20000 [  0%]  (Warmup)\n",
      "Iteration:  2000 / 20000 [ 10%]  (Warmup)\n",
      "Iteration:  4000 / 20000 [ 20%]  (Warmup)\n",
      "Iteration:  4001 / 20000 [ 20%]  (Sampling)\n",
      "Iteration:  6000 / 20000 [ 30%]  (Sampling)\n",
      "Iteration:  8000 / 20000 [ 40%]  (Sampling)\n",
      "Iteration: 10000 / 20000 [ 50%]  (Sampling)\n",
      "Iteration: 12000 / 20000 [ 60%]  (Sampling)\n",
      "Iteration: 14000 / 20000 [ 70%]  (Sampling)\n",
      "Iteration: 16000 / 20000 [ 80%]  (Sampling)\n",
      "Iteration: 18000 / 20000 [ 90%]  (Sampling)\n",
      "Iteration: 20000 / 20000 [100%]  (Sampling)\n",
      "\n",
      " Elapsed Time: 0.268051 seconds (Warm-up)\n",
      "               1.15896 seconds (Sampling)\n",
      "               1.42701 seconds (Total)\n",
      "\n"
     ]
    },
    {
     "name": "stderr",
     "output_type": "stream",
     "text": [
      "/Users/galraz1/opt/miniconda3/envs/stan_env/lib/python3.7/site-packages/ipykernel_launcher.py:60: UserWarning: Legend does not support 'p' instances.\n",
      "A proxy artist may be used instead.\n",
      "See: https://matplotlib.org/users/legend_guide.html#creating-artists-specifically-for-adding-to-the-legend-aka-proxy-artists\n",
      "/Users/galraz1/opt/miniconda3/envs/stan_env/lib/python3.7/site-packages/ipykernel_launcher.py:60: UserWarning: Legend does not support 'r' instances.\n",
      "A proxy artist may be used instead.\n",
      "See: https://matplotlib.org/users/legend_guide.html#creating-artists-specifically-for-adding-to-the-legend-aka-proxy-artists\n",
      "/Users/galraz1/opt/miniconda3/envs/stan_env/lib/python3.7/site-packages/ipykernel_launcher.py:60: UserWarning: Legend does not support 'i' instances.\n",
      "A proxy artist may be used instead.\n",
      "See: https://matplotlib.org/users/legend_guide.html#creating-artists-specifically-for-adding-to-the-legend-aka-proxy-artists\n",
      "/Users/galraz1/opt/miniconda3/envs/stan_env/lib/python3.7/site-packages/ipykernel_launcher.py:60: UserWarning: Legend does not support 'o' instances.\n",
      "A proxy artist may be used instead.\n",
      "See: https://matplotlib.org/users/legend_guide.html#creating-artists-specifically-for-adding-to-the-legend-aka-proxy-artists\n",
      "/Users/galraz1/opt/miniconda3/envs/stan_env/lib/python3.7/site-packages/ipykernel_launcher.py:67: UserWarning: Legend does not support 'p' instances.\n",
      "A proxy artist may be used instead.\n",
      "See: https://matplotlib.org/users/legend_guide.html#creating-artists-specifically-for-adding-to-the-legend-aka-proxy-artists\n",
      "/Users/galraz1/opt/miniconda3/envs/stan_env/lib/python3.7/site-packages/ipykernel_launcher.py:67: UserWarning: Legend does not support 'r' instances.\n",
      "A proxy artist may be used instead.\n",
      "See: https://matplotlib.org/users/legend_guide.html#creating-artists-specifically-for-adding-to-the-legend-aka-proxy-artists\n",
      "/Users/galraz1/opt/miniconda3/envs/stan_env/lib/python3.7/site-packages/ipykernel_launcher.py:67: UserWarning: Legend does not support 'i' instances.\n",
      "A proxy artist may be used instead.\n",
      "See: https://matplotlib.org/users/legend_guide.html#creating-artists-specifically-for-adding-to-the-legend-aka-proxy-artists\n",
      "/Users/galraz1/opt/miniconda3/envs/stan_env/lib/python3.7/site-packages/ipykernel_launcher.py:67: UserWarning: Legend does not support 'o' instances.\n",
      "A proxy artist may be used instead.\n",
      "See: https://matplotlib.org/users/legend_guide.html#creating-artists-specifically-for-adding-to-the-legend-aka-proxy-artists\n"
     ]
    },
    {
     "name": "stdout",
     "output_type": "stream",
     "text": [
      "KL: 0.08587765810692026\n",
      "stimulus:  4\n",
      "sample:  13\n",
      "\n",
      "Gradient evaluation took 1.2e-05 seconds\n",
      "1000 transitions using 10 leapfrog steps per transition would take 0.12 seconds.\n",
      "Adjust your expectations accordingly!\n",
      "\n",
      "\n"
     ]
    },
    {
     "name": "stderr",
     "output_type": "stream",
     "text": [
      "WARNING:pystan:44 of 16000 iterations ended with a divergence (0.275 %).\n",
      "WARNING:pystan:Try running with adapt_delta larger than 0.95 to remove the divergences.\n"
     ]
    },
    {
     "name": "stdout",
     "output_type": "stream",
     "text": [
      "Iteration:     1 / 20000 [  0%]  (Warmup)\n",
      "Iteration:  2000 / 20000 [ 10%]  (Warmup)\n",
      "Iteration:  4000 / 20000 [ 20%]  (Warmup)\n",
      "Iteration:  4001 / 20000 [ 20%]  (Sampling)\n",
      "Iteration:  6000 / 20000 [ 30%]  (Sampling)\n",
      "Iteration:  8000 / 20000 [ 40%]  (Sampling)\n",
      "Iteration: 10000 / 20000 [ 50%]  (Sampling)\n",
      "Iteration: 12000 / 20000 [ 60%]  (Sampling)\n",
      "Iteration: 14000 / 20000 [ 70%]  (Sampling)\n",
      "Iteration: 16000 / 20000 [ 80%]  (Sampling)\n",
      "Iteration: 18000 / 20000 [ 90%]  (Sampling)\n",
      "Iteration: 20000 / 20000 [100%]  (Sampling)\n",
      "\n",
      " Elapsed Time: 0.252119 seconds (Warm-up)\n",
      "               2.02479 seconds (Sampling)\n",
      "               2.2769 seconds (Total)\n",
      "\n"
     ]
    },
    {
     "name": "stderr",
     "output_type": "stream",
     "text": [
      "/Users/galraz1/opt/miniconda3/envs/stan_env/lib/python3.7/site-packages/ipykernel_launcher.py:60: UserWarning: Legend does not support 'p' instances.\n",
      "A proxy artist may be used instead.\n",
      "See: https://matplotlib.org/users/legend_guide.html#creating-artists-specifically-for-adding-to-the-legend-aka-proxy-artists\n",
      "/Users/galraz1/opt/miniconda3/envs/stan_env/lib/python3.7/site-packages/ipykernel_launcher.py:60: UserWarning: Legend does not support 'r' instances.\n",
      "A proxy artist may be used instead.\n",
      "See: https://matplotlib.org/users/legend_guide.html#creating-artists-specifically-for-adding-to-the-legend-aka-proxy-artists\n",
      "/Users/galraz1/opt/miniconda3/envs/stan_env/lib/python3.7/site-packages/ipykernel_launcher.py:60: UserWarning: Legend does not support 'i' instances.\n",
      "A proxy artist may be used instead.\n",
      "See: https://matplotlib.org/users/legend_guide.html#creating-artists-specifically-for-adding-to-the-legend-aka-proxy-artists\n",
      "/Users/galraz1/opt/miniconda3/envs/stan_env/lib/python3.7/site-packages/ipykernel_launcher.py:60: UserWarning: Legend does not support 'o' instances.\n",
      "A proxy artist may be used instead.\n",
      "See: https://matplotlib.org/users/legend_guide.html#creating-artists-specifically-for-adding-to-the-legend-aka-proxy-artists\n",
      "/Users/galraz1/opt/miniconda3/envs/stan_env/lib/python3.7/site-packages/ipykernel_launcher.py:67: UserWarning: Legend does not support 'p' instances.\n",
      "A proxy artist may be used instead.\n",
      "See: https://matplotlib.org/users/legend_guide.html#creating-artists-specifically-for-adding-to-the-legend-aka-proxy-artists\n",
      "/Users/galraz1/opt/miniconda3/envs/stan_env/lib/python3.7/site-packages/ipykernel_launcher.py:67: UserWarning: Legend does not support 'r' instances.\n",
      "A proxy artist may be used instead.\n",
      "See: https://matplotlib.org/users/legend_guide.html#creating-artists-specifically-for-adding-to-the-legend-aka-proxy-artists\n",
      "/Users/galraz1/opt/miniconda3/envs/stan_env/lib/python3.7/site-packages/ipykernel_launcher.py:67: UserWarning: Legend does not support 'i' instances.\n",
      "A proxy artist may be used instead.\n",
      "See: https://matplotlib.org/users/legend_guide.html#creating-artists-specifically-for-adding-to-the-legend-aka-proxy-artists\n",
      "/Users/galraz1/opt/miniconda3/envs/stan_env/lib/python3.7/site-packages/ipykernel_launcher.py:67: UserWarning: Legend does not support 'o' instances.\n",
      "A proxy artist may be used instead.\n",
      "See: https://matplotlib.org/users/legend_guide.html#creating-artists-specifically-for-adding-to-the-legend-aka-proxy-artists\n"
     ]
    },
    {
     "name": "stdout",
     "output_type": "stream",
     "text": [
      "KL: 0.015821083945725165\n",
      "stimulus:  4\n",
      "sample:  14\n"
     ]
    },
    {
     "name": "stderr",
     "output_type": "stream",
     "text": [
      "WARNING:pystan:335 of 16000 iterations ended with a divergence (2.09 %).\n",
      "WARNING:pystan:Try running with adapt_delta larger than 0.95 to remove the divergences.\n"
     ]
    },
    {
     "name": "stdout",
     "output_type": "stream",
     "text": [
      "\n",
      "Gradient evaluation took 1.7e-05 seconds\n",
      "1000 transitions using 10 leapfrog steps per transition would take 0.17 seconds.\n",
      "Adjust your expectations accordingly!\n",
      "\n",
      "\n",
      "Iteration:     1 / 20000 [  0%]  (Warmup)\n",
      "Iteration:  2000 / 20000 [ 10%]  (Warmup)\n",
      "Iteration:  4000 / 20000 [ 20%]  (Warmup)\n",
      "Iteration:  4001 / 20000 [ 20%]  (Sampling)\n",
      "Iteration:  6000 / 20000 [ 30%]  (Sampling)\n",
      "Iteration:  8000 / 20000 [ 40%]  (Sampling)\n",
      "Iteration: 10000 / 20000 [ 50%]  (Sampling)\n",
      "Iteration: 12000 / 20000 [ 60%]  (Sampling)\n",
      "Iteration: 14000 / 20000 [ 70%]  (Sampling)\n",
      "Iteration: 16000 / 20000 [ 80%]  (Sampling)\n",
      "Iteration: 18000 / 20000 [ 90%]  (Sampling)\n",
      "Iteration: 20000 / 20000 [100%]  (Sampling)\n",
      "\n",
      " Elapsed Time: 0.326489 seconds (Warm-up)\n",
      "               0.88397 seconds (Sampling)\n",
      "               1.21046 seconds (Total)\n",
      "\n"
     ]
    },
    {
     "name": "stderr",
     "output_type": "stream",
     "text": [
      "/Users/galraz1/opt/miniconda3/envs/stan_env/lib/python3.7/site-packages/ipykernel_launcher.py:60: UserWarning: Legend does not support 'p' instances.\n",
      "A proxy artist may be used instead.\n",
      "See: https://matplotlib.org/users/legend_guide.html#creating-artists-specifically-for-adding-to-the-legend-aka-proxy-artists\n",
      "/Users/galraz1/opt/miniconda3/envs/stan_env/lib/python3.7/site-packages/ipykernel_launcher.py:60: UserWarning: Legend does not support 'r' instances.\n",
      "A proxy artist may be used instead.\n",
      "See: https://matplotlib.org/users/legend_guide.html#creating-artists-specifically-for-adding-to-the-legend-aka-proxy-artists\n",
      "/Users/galraz1/opt/miniconda3/envs/stan_env/lib/python3.7/site-packages/ipykernel_launcher.py:60: UserWarning: Legend does not support 'i' instances.\n",
      "A proxy artist may be used instead.\n",
      "See: https://matplotlib.org/users/legend_guide.html#creating-artists-specifically-for-adding-to-the-legend-aka-proxy-artists\n",
      "/Users/galraz1/opt/miniconda3/envs/stan_env/lib/python3.7/site-packages/ipykernel_launcher.py:60: UserWarning: Legend does not support 'o' instances.\n",
      "A proxy artist may be used instead.\n",
      "See: https://matplotlib.org/users/legend_guide.html#creating-artists-specifically-for-adding-to-the-legend-aka-proxy-artists\n",
      "/Users/galraz1/opt/miniconda3/envs/stan_env/lib/python3.7/site-packages/ipykernel_launcher.py:67: UserWarning: Legend does not support 'p' instances.\n",
      "A proxy artist may be used instead.\n",
      "See: https://matplotlib.org/users/legend_guide.html#creating-artists-specifically-for-adding-to-the-legend-aka-proxy-artists\n",
      "/Users/galraz1/opt/miniconda3/envs/stan_env/lib/python3.7/site-packages/ipykernel_launcher.py:67: UserWarning: Legend does not support 'r' instances.\n",
      "A proxy artist may be used instead.\n",
      "See: https://matplotlib.org/users/legend_guide.html#creating-artists-specifically-for-adding-to-the-legend-aka-proxy-artists\n",
      "/Users/galraz1/opt/miniconda3/envs/stan_env/lib/python3.7/site-packages/ipykernel_launcher.py:67: UserWarning: Legend does not support 'i' instances.\n",
      "A proxy artist may be used instead.\n",
      "See: https://matplotlib.org/users/legend_guide.html#creating-artists-specifically-for-adding-to-the-legend-aka-proxy-artists\n",
      "/Users/galraz1/opt/miniconda3/envs/stan_env/lib/python3.7/site-packages/ipykernel_launcher.py:67: UserWarning: Legend does not support 'o' instances.\n",
      "A proxy artist may be used instead.\n",
      "See: https://matplotlib.org/users/legend_guide.html#creating-artists-specifically-for-adding-to-the-legend-aka-proxy-artists\n"
     ]
    },
    {
     "name": "stdout",
     "output_type": "stream",
     "text": [
      "KL: 0.055080007436087534\n",
      "stimulus:  4\n",
      "sample:  15\n"
     ]
    },
    {
     "name": "stderr",
     "output_type": "stream",
     "text": [
      "WARNING:pystan:494 of 16000 iterations ended with a divergence (3.09 %).\n",
      "WARNING:pystan:Try running with adapt_delta larger than 0.95 to remove the divergences.\n"
     ]
    },
    {
     "name": "stdout",
     "output_type": "stream",
     "text": [
      "\n",
      "Gradient evaluation took 1.2e-05 seconds\n",
      "1000 transitions using 10 leapfrog steps per transition would take 0.12 seconds.\n",
      "Adjust your expectations accordingly!\n",
      "\n",
      "\n",
      "Iteration:     1 / 20000 [  0%]  (Warmup)\n",
      "Iteration:  2000 / 20000 [ 10%]  (Warmup)\n",
      "Iteration:  4000 / 20000 [ 20%]  (Warmup)\n",
      "Iteration:  4001 / 20000 [ 20%]  (Sampling)\n",
      "Iteration:  6000 / 20000 [ 30%]  (Sampling)\n",
      "Iteration:  8000 / 20000 [ 40%]  (Sampling)\n",
      "Iteration: 10000 / 20000 [ 50%]  (Sampling)\n",
      "Iteration: 12000 / 20000 [ 60%]  (Sampling)\n",
      "Iteration: 14000 / 20000 [ 70%]  (Sampling)\n",
      "Iteration: 16000 / 20000 [ 80%]  (Sampling)\n",
      "Iteration: 18000 / 20000 [ 90%]  (Sampling)\n",
      "Iteration: 20000 / 20000 [100%]  (Sampling)\n",
      "\n",
      " Elapsed Time: 0.298438 seconds (Warm-up)\n",
      "               1.01821 seconds (Sampling)\n",
      "               1.31665 seconds (Total)\n",
      "\n"
     ]
    },
    {
     "name": "stderr",
     "output_type": "stream",
     "text": [
      "/Users/galraz1/opt/miniconda3/envs/stan_env/lib/python3.7/site-packages/ipykernel_launcher.py:60: UserWarning: Legend does not support 'p' instances.\n",
      "A proxy artist may be used instead.\n",
      "See: https://matplotlib.org/users/legend_guide.html#creating-artists-specifically-for-adding-to-the-legend-aka-proxy-artists\n",
      "/Users/galraz1/opt/miniconda3/envs/stan_env/lib/python3.7/site-packages/ipykernel_launcher.py:60: UserWarning: Legend does not support 'r' instances.\n",
      "A proxy artist may be used instead.\n",
      "See: https://matplotlib.org/users/legend_guide.html#creating-artists-specifically-for-adding-to-the-legend-aka-proxy-artists\n",
      "/Users/galraz1/opt/miniconda3/envs/stan_env/lib/python3.7/site-packages/ipykernel_launcher.py:60: UserWarning: Legend does not support 'i' instances.\n",
      "A proxy artist may be used instead.\n",
      "See: https://matplotlib.org/users/legend_guide.html#creating-artists-specifically-for-adding-to-the-legend-aka-proxy-artists\n",
      "/Users/galraz1/opt/miniconda3/envs/stan_env/lib/python3.7/site-packages/ipykernel_launcher.py:60: UserWarning: Legend does not support 'o' instances.\n",
      "A proxy artist may be used instead.\n",
      "See: https://matplotlib.org/users/legend_guide.html#creating-artists-specifically-for-adding-to-the-legend-aka-proxy-artists\n",
      "/Users/galraz1/opt/miniconda3/envs/stan_env/lib/python3.7/site-packages/ipykernel_launcher.py:67: UserWarning: Legend does not support 'p' instances.\n",
      "A proxy artist may be used instead.\n",
      "See: https://matplotlib.org/users/legend_guide.html#creating-artists-specifically-for-adding-to-the-legend-aka-proxy-artists\n",
      "/Users/galraz1/opt/miniconda3/envs/stan_env/lib/python3.7/site-packages/ipykernel_launcher.py:67: UserWarning: Legend does not support 'r' instances.\n",
      "A proxy artist may be used instead.\n",
      "See: https://matplotlib.org/users/legend_guide.html#creating-artists-specifically-for-adding-to-the-legend-aka-proxy-artists\n",
      "/Users/galraz1/opt/miniconda3/envs/stan_env/lib/python3.7/site-packages/ipykernel_launcher.py:67: UserWarning: Legend does not support 'i' instances.\n",
      "A proxy artist may be used instead.\n",
      "See: https://matplotlib.org/users/legend_guide.html#creating-artists-specifically-for-adding-to-the-legend-aka-proxy-artists\n",
      "/Users/galraz1/opt/miniconda3/envs/stan_env/lib/python3.7/site-packages/ipykernel_launcher.py:67: UserWarning: Legend does not support 'o' instances.\n",
      "A proxy artist may be used instead.\n",
      "See: https://matplotlib.org/users/legend_guide.html#creating-artists-specifically-for-adding-to-the-legend-aka-proxy-artists\n"
     ]
    },
    {
     "name": "stdout",
     "output_type": "stream",
     "text": [
      "KL: 0.0027417439110930543\n",
      "stimulus:  5\n",
      "sample:  16\n"
     ]
    },
    {
     "name": "stderr",
     "output_type": "stream",
     "text": [
      "Informational Message: The current Metropolis proposal is about to be rejected because of the following issue:\n",
      "Exception: normal_lpdf: Scale parameter is 0, but must be > 0!  (in 'multi_feature_simple_noise.stan' at line 36)\n",
      "\n",
      "If this warning occurs sporadically, such as for highly constrained variable types like covariance matrices, then the sampler is fine,\n",
      "but if this warning occurs often then your model may be either severely ill-conditioned or misspecified.\n",
      "\n",
      "WARNING:pystan:391 of 16000 iterations ended with a divergence (2.44 %).\n",
      "WARNING:pystan:Try running with adapt_delta larger than 0.95 to remove the divergences.\n"
     ]
    },
    {
     "name": "stdout",
     "output_type": "stream",
     "text": [
      "\n",
      "Gradient evaluation took 1.3e-05 seconds\n",
      "1000 transitions using 10 leapfrog steps per transition would take 0.13 seconds.\n",
      "Adjust your expectations accordingly!\n",
      "\n",
      "\n",
      "Iteration:     1 / 20000 [  0%]  (Warmup)\n",
      "Iteration:  2000 / 20000 [ 10%]  (Warmup)\n",
      "Iteration:  4000 / 20000 [ 20%]  (Warmup)\n",
      "Iteration:  4001 / 20000 [ 20%]  (Sampling)\n",
      "Iteration:  6000 / 20000 [ 30%]  (Sampling)\n",
      "Iteration:  8000 / 20000 [ 40%]  (Sampling)\n",
      "Iteration: 10000 / 20000 [ 50%]  (Sampling)\n",
      "Iteration: 12000 / 20000 [ 60%]  (Sampling)\n",
      "Iteration: 14000 / 20000 [ 70%]  (Sampling)\n",
      "Iteration: 16000 / 20000 [ 80%]  (Sampling)\n",
      "Iteration: 18000 / 20000 [ 90%]  (Sampling)\n",
      "Iteration: 20000 / 20000 [100%]  (Sampling)\n",
      "\n",
      " Elapsed Time: 0.344422 seconds (Warm-up)\n",
      "               1.00983 seconds (Sampling)\n",
      "               1.35425 seconds (Total)\n",
      "\n"
     ]
    },
    {
     "name": "stderr",
     "output_type": "stream",
     "text": [
      "/Users/galraz1/opt/miniconda3/envs/stan_env/lib/python3.7/site-packages/ipykernel_launcher.py:60: UserWarning: Legend does not support 'p' instances.\n",
      "A proxy artist may be used instead.\n",
      "See: https://matplotlib.org/users/legend_guide.html#creating-artists-specifically-for-adding-to-the-legend-aka-proxy-artists\n",
      "/Users/galraz1/opt/miniconda3/envs/stan_env/lib/python3.7/site-packages/ipykernel_launcher.py:60: UserWarning: Legend does not support 'r' instances.\n",
      "A proxy artist may be used instead.\n",
      "See: https://matplotlib.org/users/legend_guide.html#creating-artists-specifically-for-adding-to-the-legend-aka-proxy-artists\n",
      "/Users/galraz1/opt/miniconda3/envs/stan_env/lib/python3.7/site-packages/ipykernel_launcher.py:60: UserWarning: Legend does not support 'i' instances.\n",
      "A proxy artist may be used instead.\n",
      "See: https://matplotlib.org/users/legend_guide.html#creating-artists-specifically-for-adding-to-the-legend-aka-proxy-artists\n",
      "/Users/galraz1/opt/miniconda3/envs/stan_env/lib/python3.7/site-packages/ipykernel_launcher.py:60: UserWarning: Legend does not support 'o' instances.\n",
      "A proxy artist may be used instead.\n",
      "See: https://matplotlib.org/users/legend_guide.html#creating-artists-specifically-for-adding-to-the-legend-aka-proxy-artists\n",
      "/Users/galraz1/opt/miniconda3/envs/stan_env/lib/python3.7/site-packages/ipykernel_launcher.py:67: UserWarning: Legend does not support 'p' instances.\n",
      "A proxy artist may be used instead.\n",
      "See: https://matplotlib.org/users/legend_guide.html#creating-artists-specifically-for-adding-to-the-legend-aka-proxy-artists\n",
      "/Users/galraz1/opt/miniconda3/envs/stan_env/lib/python3.7/site-packages/ipykernel_launcher.py:67: UserWarning: Legend does not support 'r' instances.\n",
      "A proxy artist may be used instead.\n",
      "See: https://matplotlib.org/users/legend_guide.html#creating-artists-specifically-for-adding-to-the-legend-aka-proxy-artists\n",
      "/Users/galraz1/opt/miniconda3/envs/stan_env/lib/python3.7/site-packages/ipykernel_launcher.py:67: UserWarning: Legend does not support 'i' instances.\n",
      "A proxy artist may be used instead.\n",
      "See: https://matplotlib.org/users/legend_guide.html#creating-artists-specifically-for-adding-to-the-legend-aka-proxy-artists\n",
      "/Users/galraz1/opt/miniconda3/envs/stan_env/lib/python3.7/site-packages/ipykernel_launcher.py:67: UserWarning: Legend does not support 'o' instances.\n",
      "A proxy artist may be used instead.\n",
      "See: https://matplotlib.org/users/legend_guide.html#creating-artists-specifically-for-adding-to-the-legend-aka-proxy-artists\n"
     ]
    },
    {
     "name": "stdout",
     "output_type": "stream",
     "text": [
      "KL: 0.13235069583677106\n",
      "stimulus:  5\n",
      "sample:  17\n",
      "\n",
      "Gradient evaluation took 1.3e-05 seconds\n",
      "1000 transitions using 10 leapfrog steps per transition would take 0.13 seconds.\n",
      "Adjust your expectations accordingly!\n",
      "\n",
      "\n"
     ]
    },
    {
     "name": "stderr",
     "output_type": "stream",
     "text": [
      "WARNING:pystan:139 of 16000 iterations ended with a divergence (0.869 %).\n",
      "WARNING:pystan:Try running with adapt_delta larger than 0.95 to remove the divergences.\n"
     ]
    },
    {
     "name": "stdout",
     "output_type": "stream",
     "text": [
      "Iteration:     1 / 20000 [  0%]  (Warmup)\n",
      "Iteration:  2000 / 20000 [ 10%]  (Warmup)\n",
      "Iteration:  4000 / 20000 [ 20%]  (Warmup)\n",
      "Iteration:  4001 / 20000 [ 20%]  (Sampling)\n",
      "Iteration:  6000 / 20000 [ 30%]  (Sampling)\n",
      "Iteration:  8000 / 20000 [ 40%]  (Sampling)\n",
      "Iteration: 10000 / 20000 [ 50%]  (Sampling)\n",
      "Iteration: 12000 / 20000 [ 60%]  (Sampling)\n",
      "Iteration: 14000 / 20000 [ 70%]  (Sampling)\n",
      "Iteration: 16000 / 20000 [ 80%]  (Sampling)\n",
      "Iteration: 18000 / 20000 [ 90%]  (Sampling)\n",
      "Iteration: 20000 / 20000 [100%]  (Sampling)\n",
      "\n",
      " Elapsed Time: 0.477757 seconds (Warm-up)\n",
      "               1.53391 seconds (Sampling)\n",
      "               2.01166 seconds (Total)\n",
      "\n"
     ]
    },
    {
     "name": "stderr",
     "output_type": "stream",
     "text": [
      "/Users/galraz1/opt/miniconda3/envs/stan_env/lib/python3.7/site-packages/ipykernel_launcher.py:60: UserWarning: Legend does not support 'p' instances.\n",
      "A proxy artist may be used instead.\n",
      "See: https://matplotlib.org/users/legend_guide.html#creating-artists-specifically-for-adding-to-the-legend-aka-proxy-artists\n",
      "/Users/galraz1/opt/miniconda3/envs/stan_env/lib/python3.7/site-packages/ipykernel_launcher.py:60: UserWarning: Legend does not support 'r' instances.\n",
      "A proxy artist may be used instead.\n",
      "See: https://matplotlib.org/users/legend_guide.html#creating-artists-specifically-for-adding-to-the-legend-aka-proxy-artists\n",
      "/Users/galraz1/opt/miniconda3/envs/stan_env/lib/python3.7/site-packages/ipykernel_launcher.py:60: UserWarning: Legend does not support 'i' instances.\n",
      "A proxy artist may be used instead.\n",
      "See: https://matplotlib.org/users/legend_guide.html#creating-artists-specifically-for-adding-to-the-legend-aka-proxy-artists\n",
      "/Users/galraz1/opt/miniconda3/envs/stan_env/lib/python3.7/site-packages/ipykernel_launcher.py:60: UserWarning: Legend does not support 'o' instances.\n",
      "A proxy artist may be used instead.\n",
      "See: https://matplotlib.org/users/legend_guide.html#creating-artists-specifically-for-adding-to-the-legend-aka-proxy-artists\n",
      "/Users/galraz1/opt/miniconda3/envs/stan_env/lib/python3.7/site-packages/ipykernel_launcher.py:67: UserWarning: Legend does not support 'p' instances.\n",
      "A proxy artist may be used instead.\n",
      "See: https://matplotlib.org/users/legend_guide.html#creating-artists-specifically-for-adding-to-the-legend-aka-proxy-artists\n",
      "/Users/galraz1/opt/miniconda3/envs/stan_env/lib/python3.7/site-packages/ipykernel_launcher.py:67: UserWarning: Legend does not support 'r' instances.\n",
      "A proxy artist may be used instead.\n",
      "See: https://matplotlib.org/users/legend_guide.html#creating-artists-specifically-for-adding-to-the-legend-aka-proxy-artists\n",
      "/Users/galraz1/opt/miniconda3/envs/stan_env/lib/python3.7/site-packages/ipykernel_launcher.py:67: UserWarning: Legend does not support 'i' instances.\n",
      "A proxy artist may be used instead.\n",
      "See: https://matplotlib.org/users/legend_guide.html#creating-artists-specifically-for-adding-to-the-legend-aka-proxy-artists\n",
      "/Users/galraz1/opt/miniconda3/envs/stan_env/lib/python3.7/site-packages/ipykernel_launcher.py:67: UserWarning: Legend does not support 'o' instances.\n",
      "A proxy artist may be used instead.\n",
      "See: https://matplotlib.org/users/legend_guide.html#creating-artists-specifically-for-adding-to-the-legend-aka-proxy-artists\n"
     ]
    },
    {
     "name": "stdout",
     "output_type": "stream",
     "text": [
      "KL: -0.08675352386430962\n",
      "stimulus:  6\n",
      "sample:  18\n",
      "\n",
      "Gradient evaluation took 1.4e-05 seconds\n",
      "1000 transitions using 10 leapfrog steps per transition would take 0.14 seconds.\n",
      "Adjust your expectations accordingly!\n",
      "\n",
      "\n"
     ]
    },
    {
     "name": "stderr",
     "output_type": "stream",
     "text": [
      "WARNING:pystan:18 of 16000 iterations ended with a divergence (0.113 %).\n",
      "WARNING:pystan:Try running with adapt_delta larger than 0.95 to remove the divergences.\n"
     ]
    },
    {
     "name": "stdout",
     "output_type": "stream",
     "text": [
      "Iteration:     1 / 20000 [  0%]  (Warmup)\n",
      "Iteration:  2000 / 20000 [ 10%]  (Warmup)\n",
      "Iteration:  4000 / 20000 [ 20%]  (Warmup)\n",
      "Iteration:  4001 / 20000 [ 20%]  (Sampling)\n",
      "Iteration:  6000 / 20000 [ 30%]  (Sampling)\n",
      "Iteration:  8000 / 20000 [ 40%]  (Sampling)\n",
      "Iteration: 10000 / 20000 [ 50%]  (Sampling)\n",
      "Iteration: 12000 / 20000 [ 60%]  (Sampling)\n",
      "Iteration: 14000 / 20000 [ 70%]  (Sampling)\n",
      "Iteration: 16000 / 20000 [ 80%]  (Sampling)\n",
      "Iteration: 18000 / 20000 [ 90%]  (Sampling)\n",
      "Iteration: 20000 / 20000 [100%]  (Sampling)\n",
      "\n",
      " Elapsed Time: 0.17521 seconds (Warm-up)\n",
      "               0.710638 seconds (Sampling)\n",
      "               0.885848 seconds (Total)\n",
      "\n"
     ]
    },
    {
     "name": "stderr",
     "output_type": "stream",
     "text": [
      "/Users/galraz1/opt/miniconda3/envs/stan_env/lib/python3.7/site-packages/ipykernel_launcher.py:60: UserWarning: Legend does not support 'p' instances.\n",
      "A proxy artist may be used instead.\n",
      "See: https://matplotlib.org/users/legend_guide.html#creating-artists-specifically-for-adding-to-the-legend-aka-proxy-artists\n",
      "/Users/galraz1/opt/miniconda3/envs/stan_env/lib/python3.7/site-packages/ipykernel_launcher.py:60: UserWarning: Legend does not support 'r' instances.\n",
      "A proxy artist may be used instead.\n",
      "See: https://matplotlib.org/users/legend_guide.html#creating-artists-specifically-for-adding-to-the-legend-aka-proxy-artists\n",
      "/Users/galraz1/opt/miniconda3/envs/stan_env/lib/python3.7/site-packages/ipykernel_launcher.py:60: UserWarning: Legend does not support 'i' instances.\n",
      "A proxy artist may be used instead.\n",
      "See: https://matplotlib.org/users/legend_guide.html#creating-artists-specifically-for-adding-to-the-legend-aka-proxy-artists\n",
      "/Users/galraz1/opt/miniconda3/envs/stan_env/lib/python3.7/site-packages/ipykernel_launcher.py:60: UserWarning: Legend does not support 'o' instances.\n",
      "A proxy artist may be used instead.\n",
      "See: https://matplotlib.org/users/legend_guide.html#creating-artists-specifically-for-adding-to-the-legend-aka-proxy-artists\n",
      "/Users/galraz1/opt/miniconda3/envs/stan_env/lib/python3.7/site-packages/ipykernel_launcher.py:67: UserWarning: Legend does not support 'p' instances.\n",
      "A proxy artist may be used instead.\n",
      "See: https://matplotlib.org/users/legend_guide.html#creating-artists-specifically-for-adding-to-the-legend-aka-proxy-artists\n",
      "/Users/galraz1/opt/miniconda3/envs/stan_env/lib/python3.7/site-packages/ipykernel_launcher.py:67: UserWarning: Legend does not support 'r' instances.\n",
      "A proxy artist may be used instead.\n",
      "See: https://matplotlib.org/users/legend_guide.html#creating-artists-specifically-for-adding-to-the-legend-aka-proxy-artists\n",
      "/Users/galraz1/opt/miniconda3/envs/stan_env/lib/python3.7/site-packages/ipykernel_launcher.py:67: UserWarning: Legend does not support 'i' instances.\n",
      "A proxy artist may be used instead.\n",
      "See: https://matplotlib.org/users/legend_guide.html#creating-artists-specifically-for-adding-to-the-legend-aka-proxy-artists\n",
      "/Users/galraz1/opt/miniconda3/envs/stan_env/lib/python3.7/site-packages/ipykernel_launcher.py:67: UserWarning: Legend does not support 'o' instances.\n",
      "A proxy artist may be used instead.\n",
      "See: https://matplotlib.org/users/legend_guide.html#creating-artists-specifically-for-adding-to-the-legend-aka-proxy-artists\n"
     ]
    },
    {
     "name": "stdout",
     "output_type": "stream",
     "text": [
      "KL: 4.3123420949024585\n",
      "stimulus:  6\n",
      "sample:  19\n",
      "\n",
      "Gradient evaluation took 1.3e-05 seconds\n",
      "1000 transitions using 10 leapfrog steps per transition would take 0.13 seconds.\n",
      "Adjust your expectations accordingly!\n",
      "\n",
      "\n",
      "Iteration:     1 / 20000 [  0%]  (Warmup)\n",
      "Iteration:  2000 / 20000 [ 10%]  (Warmup)\n",
      "Iteration:  4000 / 20000 [ 20%]  (Warmup)\n",
      "Iteration:  4001 / 20000 [ 20%]  (Sampling)\n",
      "Iteration:  6000 / 20000 [ 30%]  (Sampling)\n",
      "Iteration:  8000 / 20000 [ 40%]  (Sampling)\n",
      "Iteration: 10000 / 20000 [ 50%]  (Sampling)\n",
      "Iteration: 12000 / 20000 [ 60%]  (Sampling)\n",
      "Iteration: 14000 / 20000 [ 70%]  (Sampling)\n",
      "Iteration: 16000 / 20000 [ 80%]  (Sampling)\n",
      "Iteration: 18000 / 20000 [ 90%]  (Sampling)\n",
      "Iteration: 20000 / 20000 [100%]  (Sampling)\n",
      "\n",
      " Elapsed Time: 0.235324 seconds (Warm-up)\n",
      "               0.813802 seconds (Sampling)\n",
      "               1.04913 seconds (Total)\n",
      "\n"
     ]
    },
    {
     "name": "stderr",
     "output_type": "stream",
     "text": [
      "/Users/galraz1/opt/miniconda3/envs/stan_env/lib/python3.7/site-packages/ipykernel_launcher.py:60: UserWarning: Legend does not support 'p' instances.\n",
      "A proxy artist may be used instead.\n",
      "See: https://matplotlib.org/users/legend_guide.html#creating-artists-specifically-for-adding-to-the-legend-aka-proxy-artists\n",
      "/Users/galraz1/opt/miniconda3/envs/stan_env/lib/python3.7/site-packages/ipykernel_launcher.py:60: UserWarning: Legend does not support 'r' instances.\n",
      "A proxy artist may be used instead.\n",
      "See: https://matplotlib.org/users/legend_guide.html#creating-artists-specifically-for-adding-to-the-legend-aka-proxy-artists\n",
      "/Users/galraz1/opt/miniconda3/envs/stan_env/lib/python3.7/site-packages/ipykernel_launcher.py:60: UserWarning: Legend does not support 'i' instances.\n",
      "A proxy artist may be used instead.\n",
      "See: https://matplotlib.org/users/legend_guide.html#creating-artists-specifically-for-adding-to-the-legend-aka-proxy-artists\n",
      "/Users/galraz1/opt/miniconda3/envs/stan_env/lib/python3.7/site-packages/ipykernel_launcher.py:60: UserWarning: Legend does not support 'o' instances.\n",
      "A proxy artist may be used instead.\n",
      "See: https://matplotlib.org/users/legend_guide.html#creating-artists-specifically-for-adding-to-the-legend-aka-proxy-artists\n",
      "/Users/galraz1/opt/miniconda3/envs/stan_env/lib/python3.7/site-packages/ipykernel_launcher.py:67: UserWarning: Legend does not support 'p' instances.\n",
      "A proxy artist may be used instead.\n",
      "See: https://matplotlib.org/users/legend_guide.html#creating-artists-specifically-for-adding-to-the-legend-aka-proxy-artists\n",
      "/Users/galraz1/opt/miniconda3/envs/stan_env/lib/python3.7/site-packages/ipykernel_launcher.py:67: UserWarning: Legend does not support 'r' instances.\n",
      "A proxy artist may be used instead.\n",
      "See: https://matplotlib.org/users/legend_guide.html#creating-artists-specifically-for-adding-to-the-legend-aka-proxy-artists\n",
      "/Users/galraz1/opt/miniconda3/envs/stan_env/lib/python3.7/site-packages/ipykernel_launcher.py:67: UserWarning: Legend does not support 'i' instances.\n",
      "A proxy artist may be used instead.\n",
      "See: https://matplotlib.org/users/legend_guide.html#creating-artists-specifically-for-adding-to-the-legend-aka-proxy-artists\n",
      "/Users/galraz1/opt/miniconda3/envs/stan_env/lib/python3.7/site-packages/ipykernel_launcher.py:67: UserWarning: Legend does not support 'o' instances.\n",
      "A proxy artist may be used instead.\n",
      "See: https://matplotlib.org/users/legend_guide.html#creating-artists-specifically-for-adding-to-the-legend-aka-proxy-artists\n"
     ]
    },
    {
     "name": "stdout",
     "output_type": "stream",
     "text": [
      "KL: 0.1381005825338081\n",
      "stimulus:  6\n",
      "sample:  20\n",
      "\n",
      "Gradient evaluation took 1.8e-05 seconds\n",
      "1000 transitions using 10 leapfrog steps per transition would take 0.18 seconds.\n",
      "Adjust your expectations accordingly!\n",
      "\n",
      "\n",
      "Iteration:     1 / 20000 [  0%]  (Warmup)\n",
      "Iteration:  2000 / 20000 [ 10%]  (Warmup)\n",
      "Iteration:  4000 / 20000 [ 20%]  (Warmup)\n",
      "Iteration:  4001 / 20000 [ 20%]  (Sampling)\n",
      "Iteration:  6000 / 20000 [ 30%]  (Sampling)\n",
      "Iteration:  8000 / 20000 [ 40%]  (Sampling)\n",
      "Iteration: 10000 / 20000 [ 50%]  (Sampling)\n",
      "Iteration: 12000 / 20000 [ 60%]  (Sampling)\n",
      "Iteration: 14000 / 20000 [ 70%]  (Sampling)\n",
      "Iteration: 16000 / 20000 [ 80%]  (Sampling)\n",
      "Iteration: 18000 / 20000 [ 90%]  (Sampling)\n",
      "Iteration: 20000 / 20000 [100%]  (Sampling)\n",
      "\n",
      " Elapsed Time: 0.204003 seconds (Warm-up)\n",
      "               0.965529 seconds (Sampling)\n",
      "               1.16953 seconds (Total)\n",
      "\n"
     ]
    },
    {
     "name": "stderr",
     "output_type": "stream",
     "text": [
      "/Users/galraz1/opt/miniconda3/envs/stan_env/lib/python3.7/site-packages/ipykernel_launcher.py:60: UserWarning: Legend does not support 'p' instances.\n",
      "A proxy artist may be used instead.\n",
      "See: https://matplotlib.org/users/legend_guide.html#creating-artists-specifically-for-adding-to-the-legend-aka-proxy-artists\n",
      "/Users/galraz1/opt/miniconda3/envs/stan_env/lib/python3.7/site-packages/ipykernel_launcher.py:60: UserWarning: Legend does not support 'r' instances.\n",
      "A proxy artist may be used instead.\n",
      "See: https://matplotlib.org/users/legend_guide.html#creating-artists-specifically-for-adding-to-the-legend-aka-proxy-artists\n",
      "/Users/galraz1/opt/miniconda3/envs/stan_env/lib/python3.7/site-packages/ipykernel_launcher.py:60: UserWarning: Legend does not support 'i' instances.\n",
      "A proxy artist may be used instead.\n",
      "See: https://matplotlib.org/users/legend_guide.html#creating-artists-specifically-for-adding-to-the-legend-aka-proxy-artists\n",
      "/Users/galraz1/opt/miniconda3/envs/stan_env/lib/python3.7/site-packages/ipykernel_launcher.py:60: UserWarning: Legend does not support 'o' instances.\n",
      "A proxy artist may be used instead.\n",
      "See: https://matplotlib.org/users/legend_guide.html#creating-artists-specifically-for-adding-to-the-legend-aka-proxy-artists\n",
      "/Users/galraz1/opt/miniconda3/envs/stan_env/lib/python3.7/site-packages/ipykernel_launcher.py:67: UserWarning: Legend does not support 'p' instances.\n",
      "A proxy artist may be used instead.\n",
      "See: https://matplotlib.org/users/legend_guide.html#creating-artists-specifically-for-adding-to-the-legend-aka-proxy-artists\n",
      "/Users/galraz1/opt/miniconda3/envs/stan_env/lib/python3.7/site-packages/ipykernel_launcher.py:67: UserWarning: Legend does not support 'r' instances.\n",
      "A proxy artist may be used instead.\n",
      "See: https://matplotlib.org/users/legend_guide.html#creating-artists-specifically-for-adding-to-the-legend-aka-proxy-artists\n",
      "/Users/galraz1/opt/miniconda3/envs/stan_env/lib/python3.7/site-packages/ipykernel_launcher.py:67: UserWarning: Legend does not support 'i' instances.\n",
      "A proxy artist may be used instead.\n",
      "See: https://matplotlib.org/users/legend_guide.html#creating-artists-specifically-for-adding-to-the-legend-aka-proxy-artists\n",
      "/Users/galraz1/opt/miniconda3/envs/stan_env/lib/python3.7/site-packages/ipykernel_launcher.py:67: UserWarning: Legend does not support 'o' instances.\n",
      "A proxy artist may be used instead.\n",
      "See: https://matplotlib.org/users/legend_guide.html#creating-artists-specifically-for-adding-to-the-legend-aka-proxy-artists\n"
     ]
    },
    {
     "name": "stdout",
     "output_type": "stream",
     "text": [
      "KL: 0.005153893420940892\n",
      "model run:  3\n",
      "stimulus:  1\n",
      "sample:  1\n",
      "\n",
      "Gradient evaluation took 1.1e-05 seconds\n",
      "1000 transitions using 10 leapfrog steps per transition would take 0.11 seconds.\n",
      "Adjust your expectations accordingly!\n",
      "\n",
      "\n"
     ]
    },
    {
     "name": "stderr",
     "output_type": "stream",
     "text": [
      "WARNING:pystan:123 of 16000 iterations ended with a divergence (0.769 %).\n",
      "WARNING:pystan:Try running with adapt_delta larger than 0.95 to remove the divergences.\n"
     ]
    },
    {
     "name": "stdout",
     "output_type": "stream",
     "text": [
      "Iteration:     1 / 20000 [  0%]  (Warmup)\n",
      "Iteration:  2000 / 20000 [ 10%]  (Warmup)\n",
      "Iteration:  4000 / 20000 [ 20%]  (Warmup)\n",
      "Iteration:  4001 / 20000 [ 20%]  (Sampling)\n",
      "Iteration:  6000 / 20000 [ 30%]  (Sampling)\n",
      "Iteration:  8000 / 20000 [ 40%]  (Sampling)\n",
      "Iteration: 10000 / 20000 [ 50%]  (Sampling)\n",
      "Iteration: 12000 / 20000 [ 60%]  (Sampling)\n",
      "Iteration: 14000 / 20000 [ 70%]  (Sampling)\n",
      "Iteration: 16000 / 20000 [ 80%]  (Sampling)\n",
      "Iteration: 18000 / 20000 [ 90%]  (Sampling)\n",
      "Iteration: 20000 / 20000 [100%]  (Sampling)\n",
      "\n",
      " Elapsed Time: 0.098547 seconds (Warm-up)\n",
      "               0.408499 seconds (Sampling)\n",
      "               0.507046 seconds (Total)\n",
      "\n"
     ]
    },
    {
     "name": "stderr",
     "output_type": "stream",
     "text": [
      "/Users/galraz1/opt/miniconda3/envs/stan_env/lib/python3.7/site-packages/ipykernel_launcher.py:60: UserWarning: Legend does not support 'p' instances.\n",
      "A proxy artist may be used instead.\n",
      "See: https://matplotlib.org/users/legend_guide.html#creating-artists-specifically-for-adding-to-the-legend-aka-proxy-artists\n",
      "/Users/galraz1/opt/miniconda3/envs/stan_env/lib/python3.7/site-packages/ipykernel_launcher.py:60: UserWarning: Legend does not support 'r' instances.\n",
      "A proxy artist may be used instead.\n",
      "See: https://matplotlib.org/users/legend_guide.html#creating-artists-specifically-for-adding-to-the-legend-aka-proxy-artists\n",
      "/Users/galraz1/opt/miniconda3/envs/stan_env/lib/python3.7/site-packages/ipykernel_launcher.py:60: UserWarning: Legend does not support 'i' instances.\n",
      "A proxy artist may be used instead.\n",
      "See: https://matplotlib.org/users/legend_guide.html#creating-artists-specifically-for-adding-to-the-legend-aka-proxy-artists\n",
      "/Users/galraz1/opt/miniconda3/envs/stan_env/lib/python3.7/site-packages/ipykernel_launcher.py:60: UserWarning: Legend does not support 'o' instances.\n",
      "A proxy artist may be used instead.\n",
      "See: https://matplotlib.org/users/legend_guide.html#creating-artists-specifically-for-adding-to-the-legend-aka-proxy-artists\n",
      "/Users/galraz1/opt/miniconda3/envs/stan_env/lib/python3.7/site-packages/ipykernel_launcher.py:67: UserWarning: Legend does not support 'p' instances.\n",
      "A proxy artist may be used instead.\n",
      "See: https://matplotlib.org/users/legend_guide.html#creating-artists-specifically-for-adding-to-the-legend-aka-proxy-artists\n",
      "/Users/galraz1/opt/miniconda3/envs/stan_env/lib/python3.7/site-packages/ipykernel_launcher.py:67: UserWarning: Legend does not support 'r' instances.\n",
      "A proxy artist may be used instead.\n",
      "See: https://matplotlib.org/users/legend_guide.html#creating-artists-specifically-for-adding-to-the-legend-aka-proxy-artists\n",
      "/Users/galraz1/opt/miniconda3/envs/stan_env/lib/python3.7/site-packages/ipykernel_launcher.py:67: UserWarning: Legend does not support 'i' instances.\n",
      "A proxy artist may be used instead.\n",
      "See: https://matplotlib.org/users/legend_guide.html#creating-artists-specifically-for-adding-to-the-legend-aka-proxy-artists\n",
      "/Users/galraz1/opt/miniconda3/envs/stan_env/lib/python3.7/site-packages/ipykernel_launcher.py:67: UserWarning: Legend does not support 'o' instances.\n",
      "A proxy artist may be used instead.\n",
      "See: https://matplotlib.org/users/legend_guide.html#creating-artists-specifically-for-adding-to-the-legend-aka-proxy-artists\n"
     ]
    },
    {
     "name": "stdout",
     "output_type": "stream",
     "text": [
      "KL: 1.3026787781381672\n",
      "stimulus:  1\n",
      "sample:  2\n",
      "\n",
      "Gradient evaluation took 1.7e-05 seconds\n",
      "1000 transitions using 10 leapfrog steps per transition would take 0.17 seconds.\n",
      "Adjust your expectations accordingly!\n",
      "\n",
      "\n"
     ]
    },
    {
     "name": "stderr",
     "output_type": "stream",
     "text": [
      "WARNING:pystan:55 of 16000 iterations ended with a divergence (0.344 %).\n",
      "WARNING:pystan:Try running with adapt_delta larger than 0.95 to remove the divergences.\n"
     ]
    },
    {
     "name": "stdout",
     "output_type": "stream",
     "text": [
      "Iteration:     1 / 20000 [  0%]  (Warmup)\n",
      "Iteration:  2000 / 20000 [ 10%]  (Warmup)\n",
      "Iteration:  4000 / 20000 [ 20%]  (Warmup)\n",
      "Iteration:  4001 / 20000 [ 20%]  (Sampling)\n",
      "Iteration:  6000 / 20000 [ 30%]  (Sampling)\n",
      "Iteration:  8000 / 20000 [ 40%]  (Sampling)\n",
      "Iteration: 10000 / 20000 [ 50%]  (Sampling)\n",
      "Iteration: 12000 / 20000 [ 60%]  (Sampling)\n",
      "Iteration: 14000 / 20000 [ 70%]  (Sampling)\n",
      "Iteration: 16000 / 20000 [ 80%]  (Sampling)\n",
      "Iteration: 18000 / 20000 [ 90%]  (Sampling)\n",
      "Iteration: 20000 / 20000 [100%]  (Sampling)\n",
      "\n",
      " Elapsed Time: 0.084148 seconds (Warm-up)\n",
      "               0.425787 seconds (Sampling)\n",
      "               0.509935 seconds (Total)\n",
      "\n"
     ]
    },
    {
     "name": "stderr",
     "output_type": "stream",
     "text": [
      "/Users/galraz1/opt/miniconda3/envs/stan_env/lib/python3.7/site-packages/ipykernel_launcher.py:60: UserWarning: Legend does not support 'p' instances.\n",
      "A proxy artist may be used instead.\n",
      "See: https://matplotlib.org/users/legend_guide.html#creating-artists-specifically-for-adding-to-the-legend-aka-proxy-artists\n",
      "/Users/galraz1/opt/miniconda3/envs/stan_env/lib/python3.7/site-packages/ipykernel_launcher.py:60: UserWarning: Legend does not support 'r' instances.\n",
      "A proxy artist may be used instead.\n",
      "See: https://matplotlib.org/users/legend_guide.html#creating-artists-specifically-for-adding-to-the-legend-aka-proxy-artists\n",
      "/Users/galraz1/opt/miniconda3/envs/stan_env/lib/python3.7/site-packages/ipykernel_launcher.py:60: UserWarning: Legend does not support 'i' instances.\n",
      "A proxy artist may be used instead.\n",
      "See: https://matplotlib.org/users/legend_guide.html#creating-artists-specifically-for-adding-to-the-legend-aka-proxy-artists\n",
      "/Users/galraz1/opt/miniconda3/envs/stan_env/lib/python3.7/site-packages/ipykernel_launcher.py:60: UserWarning: Legend does not support 'o' instances.\n",
      "A proxy artist may be used instead.\n",
      "See: https://matplotlib.org/users/legend_guide.html#creating-artists-specifically-for-adding-to-the-legend-aka-proxy-artists\n",
      "/Users/galraz1/opt/miniconda3/envs/stan_env/lib/python3.7/site-packages/ipykernel_launcher.py:67: UserWarning: Legend does not support 'p' instances.\n",
      "A proxy artist may be used instead.\n",
      "See: https://matplotlib.org/users/legend_guide.html#creating-artists-specifically-for-adding-to-the-legend-aka-proxy-artists\n",
      "/Users/galraz1/opt/miniconda3/envs/stan_env/lib/python3.7/site-packages/ipykernel_launcher.py:67: UserWarning: Legend does not support 'r' instances.\n",
      "A proxy artist may be used instead.\n",
      "See: https://matplotlib.org/users/legend_guide.html#creating-artists-specifically-for-adding-to-the-legend-aka-proxy-artists\n",
      "/Users/galraz1/opt/miniconda3/envs/stan_env/lib/python3.7/site-packages/ipykernel_launcher.py:67: UserWarning: Legend does not support 'i' instances.\n",
      "A proxy artist may be used instead.\n",
      "See: https://matplotlib.org/users/legend_guide.html#creating-artists-specifically-for-adding-to-the-legend-aka-proxy-artists\n",
      "/Users/galraz1/opt/miniconda3/envs/stan_env/lib/python3.7/site-packages/ipykernel_launcher.py:67: UserWarning: Legend does not support 'o' instances.\n",
      "A proxy artist may be used instead.\n",
      "See: https://matplotlib.org/users/legend_guide.html#creating-artists-specifically-for-adding-to-the-legend-aka-proxy-artists\n"
     ]
    },
    {
     "name": "stdout",
     "output_type": "stream",
     "text": [
      "KL: 0.03193519419411032\n",
      "stimulus:  1\n",
      "sample:  3\n"
     ]
    },
    {
     "name": "stderr",
     "output_type": "stream",
     "text": [
      "WARNING:pystan:26 of 16000 iterations ended with a divergence (0.163 %).\n",
      "WARNING:pystan:Try running with adapt_delta larger than 0.95 to remove the divergences.\n"
     ]
    },
    {
     "name": "stdout",
     "output_type": "stream",
     "text": [
      "\n",
      "Gradient evaluation took 1.1e-05 seconds\n",
      "1000 transitions using 10 leapfrog steps per transition would take 0.11 seconds.\n",
      "Adjust your expectations accordingly!\n",
      "\n",
      "\n",
      "Iteration:     1 / 20000 [  0%]  (Warmup)\n",
      "Iteration:  2000 / 20000 [ 10%]  (Warmup)\n",
      "Iteration:  4000 / 20000 [ 20%]  (Warmup)\n",
      "Iteration:  4001 / 20000 [ 20%]  (Sampling)\n",
      "Iteration:  6000 / 20000 [ 30%]  (Sampling)\n",
      "Iteration:  8000 / 20000 [ 40%]  (Sampling)\n",
      "Iteration: 10000 / 20000 [ 50%]  (Sampling)\n",
      "Iteration: 12000 / 20000 [ 60%]  (Sampling)\n",
      "Iteration: 14000 / 20000 [ 70%]  (Sampling)\n",
      "Iteration: 16000 / 20000 [ 80%]  (Sampling)\n",
      "Iteration: 18000 / 20000 [ 90%]  (Sampling)\n",
      "Iteration: 20000 / 20000 [100%]  (Sampling)\n",
      "\n",
      " Elapsed Time: 0.08367 seconds (Warm-up)\n",
      "               0.420142 seconds (Sampling)\n",
      "               0.503812 seconds (Total)\n",
      "\n"
     ]
    },
    {
     "name": "stderr",
     "output_type": "stream",
     "text": [
      "/Users/galraz1/opt/miniconda3/envs/stan_env/lib/python3.7/site-packages/ipykernel_launcher.py:60: UserWarning: Legend does not support 'p' instances.\n",
      "A proxy artist may be used instead.\n",
      "See: https://matplotlib.org/users/legend_guide.html#creating-artists-specifically-for-adding-to-the-legend-aka-proxy-artists\n",
      "/Users/galraz1/opt/miniconda3/envs/stan_env/lib/python3.7/site-packages/ipykernel_launcher.py:60: UserWarning: Legend does not support 'r' instances.\n",
      "A proxy artist may be used instead.\n",
      "See: https://matplotlib.org/users/legend_guide.html#creating-artists-specifically-for-adding-to-the-legend-aka-proxy-artists\n",
      "/Users/galraz1/opt/miniconda3/envs/stan_env/lib/python3.7/site-packages/ipykernel_launcher.py:60: UserWarning: Legend does not support 'i' instances.\n",
      "A proxy artist may be used instead.\n",
      "See: https://matplotlib.org/users/legend_guide.html#creating-artists-specifically-for-adding-to-the-legend-aka-proxy-artists\n",
      "/Users/galraz1/opt/miniconda3/envs/stan_env/lib/python3.7/site-packages/ipykernel_launcher.py:60: UserWarning: Legend does not support 'o' instances.\n",
      "A proxy artist may be used instead.\n",
      "See: https://matplotlib.org/users/legend_guide.html#creating-artists-specifically-for-adding-to-the-legend-aka-proxy-artists\n",
      "/Users/galraz1/opt/miniconda3/envs/stan_env/lib/python3.7/site-packages/ipykernel_launcher.py:67: UserWarning: Legend does not support 'p' instances.\n",
      "A proxy artist may be used instead.\n",
      "See: https://matplotlib.org/users/legend_guide.html#creating-artists-specifically-for-adding-to-the-legend-aka-proxy-artists\n",
      "/Users/galraz1/opt/miniconda3/envs/stan_env/lib/python3.7/site-packages/ipykernel_launcher.py:67: UserWarning: Legend does not support 'r' instances.\n",
      "A proxy artist may be used instead.\n",
      "See: https://matplotlib.org/users/legend_guide.html#creating-artists-specifically-for-adding-to-the-legend-aka-proxy-artists\n",
      "/Users/galraz1/opt/miniconda3/envs/stan_env/lib/python3.7/site-packages/ipykernel_launcher.py:67: UserWarning: Legend does not support 'i' instances.\n",
      "A proxy artist may be used instead.\n",
      "See: https://matplotlib.org/users/legend_guide.html#creating-artists-specifically-for-adding-to-the-legend-aka-proxy-artists\n",
      "/Users/galraz1/opt/miniconda3/envs/stan_env/lib/python3.7/site-packages/ipykernel_launcher.py:67: UserWarning: Legend does not support 'o' instances.\n",
      "A proxy artist may be used instead.\n",
      "See: https://matplotlib.org/users/legend_guide.html#creating-artists-specifically-for-adding-to-the-legend-aka-proxy-artists\n"
     ]
    },
    {
     "name": "stdout",
     "output_type": "stream",
     "text": [
      "KL: -0.008896531390291186\n",
      "stimulus:  2\n",
      "sample:  4\n",
      "\n",
      "Gradient evaluation took 1.2e-05 seconds\n",
      "1000 transitions using 10 leapfrog steps per transition would take 0.12 seconds.\n",
      "Adjust your expectations accordingly!\n",
      "\n",
      "\n"
     ]
    },
    {
     "name": "stderr",
     "output_type": "stream",
     "text": [
      "WARNING:pystan:104 of 16000 iterations ended with a divergence (0.65 %).\n",
      "WARNING:pystan:Try running with adapt_delta larger than 0.95 to remove the divergences.\n"
     ]
    },
    {
     "name": "stdout",
     "output_type": "stream",
     "text": [
      "Iteration:     1 / 20000 [  0%]  (Warmup)\n",
      "Iteration:  2000 / 20000 [ 10%]  (Warmup)\n",
      "Iteration:  4000 / 20000 [ 20%]  (Warmup)\n",
      "Iteration:  4001 / 20000 [ 20%]  (Sampling)\n",
      "Iteration:  6000 / 20000 [ 30%]  (Sampling)\n",
      "Iteration:  8000 / 20000 [ 40%]  (Sampling)\n",
      "Iteration: 10000 / 20000 [ 50%]  (Sampling)\n",
      "Iteration: 12000 / 20000 [ 60%]  (Sampling)\n",
      "Iteration: 14000 / 20000 [ 70%]  (Sampling)\n",
      "Iteration: 16000 / 20000 [ 80%]  (Sampling)\n",
      "Iteration: 18000 / 20000 [ 90%]  (Sampling)\n",
      "Iteration: 20000 / 20000 [100%]  (Sampling)\n",
      "\n",
      " Elapsed Time: 0.144766 seconds (Warm-up)\n",
      "               0.585979 seconds (Sampling)\n",
      "               0.730745 seconds (Total)\n",
      "\n"
     ]
    },
    {
     "name": "stderr",
     "output_type": "stream",
     "text": [
      "/Users/galraz1/opt/miniconda3/envs/stan_env/lib/python3.7/site-packages/ipykernel_launcher.py:60: UserWarning: Legend does not support 'p' instances.\n",
      "A proxy artist may be used instead.\n",
      "See: https://matplotlib.org/users/legend_guide.html#creating-artists-specifically-for-adding-to-the-legend-aka-proxy-artists\n",
      "/Users/galraz1/opt/miniconda3/envs/stan_env/lib/python3.7/site-packages/ipykernel_launcher.py:60: UserWarning: Legend does not support 'r' instances.\n",
      "A proxy artist may be used instead.\n",
      "See: https://matplotlib.org/users/legend_guide.html#creating-artists-specifically-for-adding-to-the-legend-aka-proxy-artists\n",
      "/Users/galraz1/opt/miniconda3/envs/stan_env/lib/python3.7/site-packages/ipykernel_launcher.py:60: UserWarning: Legend does not support 'i' instances.\n",
      "A proxy artist may be used instead.\n",
      "See: https://matplotlib.org/users/legend_guide.html#creating-artists-specifically-for-adding-to-the-legend-aka-proxy-artists\n",
      "/Users/galraz1/opt/miniconda3/envs/stan_env/lib/python3.7/site-packages/ipykernel_launcher.py:60: UserWarning: Legend does not support 'o' instances.\n",
      "A proxy artist may be used instead.\n",
      "See: https://matplotlib.org/users/legend_guide.html#creating-artists-specifically-for-adding-to-the-legend-aka-proxy-artists\n",
      "/Users/galraz1/opt/miniconda3/envs/stan_env/lib/python3.7/site-packages/ipykernel_launcher.py:67: UserWarning: Legend does not support 'p' instances.\n",
      "A proxy artist may be used instead.\n",
      "See: https://matplotlib.org/users/legend_guide.html#creating-artists-specifically-for-adding-to-the-legend-aka-proxy-artists\n",
      "/Users/galraz1/opt/miniconda3/envs/stan_env/lib/python3.7/site-packages/ipykernel_launcher.py:67: UserWarning: Legend does not support 'r' instances.\n",
      "A proxy artist may be used instead.\n",
      "See: https://matplotlib.org/users/legend_guide.html#creating-artists-specifically-for-adding-to-the-legend-aka-proxy-artists\n",
      "/Users/galraz1/opt/miniconda3/envs/stan_env/lib/python3.7/site-packages/ipykernel_launcher.py:67: UserWarning: Legend does not support 'i' instances.\n",
      "A proxy artist may be used instead.\n",
      "See: https://matplotlib.org/users/legend_guide.html#creating-artists-specifically-for-adding-to-the-legend-aka-proxy-artists\n",
      "/Users/galraz1/opt/miniconda3/envs/stan_env/lib/python3.7/site-packages/ipykernel_launcher.py:67: UserWarning: Legend does not support 'o' instances.\n",
      "A proxy artist may be used instead.\n",
      "See: https://matplotlib.org/users/legend_guide.html#creating-artists-specifically-for-adding-to-the-legend-aka-proxy-artists\n",
      "WARNING:pystan:313 of 16000 iterations ended with a divergence (1.96 %).\n",
      "WARNING:pystan:Try running with adapt_delta larger than 0.95 to remove the divergences.\n"
     ]
    },
    {
     "name": "stdout",
     "output_type": "stream",
     "text": [
      "KL: 0.15893316402972624\n",
      "stimulus:  2\n",
      "sample:  5\n",
      "\n",
      "Gradient evaluation took 1.4e-05 seconds\n",
      "1000 transitions using 10 leapfrog steps per transition would take 0.14 seconds.\n",
      "Adjust your expectations accordingly!\n",
      "\n",
      "\n",
      "Iteration:     1 / 20000 [  0%]  (Warmup)\n",
      "Iteration:  2000 / 20000 [ 10%]  (Warmup)\n",
      "Iteration:  4000 / 20000 [ 20%]  (Warmup)\n",
      "Iteration:  4001 / 20000 [ 20%]  (Sampling)\n",
      "Iteration:  6000 / 20000 [ 30%]  (Sampling)\n",
      "Iteration:  8000 / 20000 [ 40%]  (Sampling)\n",
      "Iteration: 10000 / 20000 [ 50%]  (Sampling)\n",
      "Iteration: 12000 / 20000 [ 60%]  (Sampling)\n",
      "Iteration: 14000 / 20000 [ 70%]  (Sampling)\n",
      "Iteration: 16000 / 20000 [ 80%]  (Sampling)\n",
      "Iteration: 18000 / 20000 [ 90%]  (Sampling)\n",
      "Iteration: 20000 / 20000 [100%]  (Sampling)\n",
      "\n",
      " Elapsed Time: 0.19408 seconds (Warm-up)\n",
      "               0.612422 seconds (Sampling)\n",
      "               0.806502 seconds (Total)\n",
      "\n"
     ]
    },
    {
     "name": "stderr",
     "output_type": "stream",
     "text": [
      "/Users/galraz1/opt/miniconda3/envs/stan_env/lib/python3.7/site-packages/ipykernel_launcher.py:60: UserWarning: Legend does not support 'p' instances.\n",
      "A proxy artist may be used instead.\n",
      "See: https://matplotlib.org/users/legend_guide.html#creating-artists-specifically-for-adding-to-the-legend-aka-proxy-artists\n",
      "/Users/galraz1/opt/miniconda3/envs/stan_env/lib/python3.7/site-packages/ipykernel_launcher.py:60: UserWarning: Legend does not support 'r' instances.\n",
      "A proxy artist may be used instead.\n",
      "See: https://matplotlib.org/users/legend_guide.html#creating-artists-specifically-for-adding-to-the-legend-aka-proxy-artists\n",
      "/Users/galraz1/opt/miniconda3/envs/stan_env/lib/python3.7/site-packages/ipykernel_launcher.py:60: UserWarning: Legend does not support 'i' instances.\n",
      "A proxy artist may be used instead.\n",
      "See: https://matplotlib.org/users/legend_guide.html#creating-artists-specifically-for-adding-to-the-legend-aka-proxy-artists\n",
      "/Users/galraz1/opt/miniconda3/envs/stan_env/lib/python3.7/site-packages/ipykernel_launcher.py:60: UserWarning: Legend does not support 'o' instances.\n",
      "A proxy artist may be used instead.\n",
      "See: https://matplotlib.org/users/legend_guide.html#creating-artists-specifically-for-adding-to-the-legend-aka-proxy-artists\n",
      "/Users/galraz1/opt/miniconda3/envs/stan_env/lib/python3.7/site-packages/ipykernel_launcher.py:67: UserWarning: Legend does not support 'p' instances.\n",
      "A proxy artist may be used instead.\n",
      "See: https://matplotlib.org/users/legend_guide.html#creating-artists-specifically-for-adding-to-the-legend-aka-proxy-artists\n",
      "/Users/galraz1/opt/miniconda3/envs/stan_env/lib/python3.7/site-packages/ipykernel_launcher.py:67: UserWarning: Legend does not support 'r' instances.\n",
      "A proxy artist may be used instead.\n",
      "See: https://matplotlib.org/users/legend_guide.html#creating-artists-specifically-for-adding-to-the-legend-aka-proxy-artists\n",
      "/Users/galraz1/opt/miniconda3/envs/stan_env/lib/python3.7/site-packages/ipykernel_launcher.py:67: UserWarning: Legend does not support 'i' instances.\n",
      "A proxy artist may be used instead.\n",
      "See: https://matplotlib.org/users/legend_guide.html#creating-artists-specifically-for-adding-to-the-legend-aka-proxy-artists\n",
      "/Users/galraz1/opt/miniconda3/envs/stan_env/lib/python3.7/site-packages/ipykernel_launcher.py:67: UserWarning: Legend does not support 'o' instances.\n",
      "A proxy artist may be used instead.\n",
      "See: https://matplotlib.org/users/legend_guide.html#creating-artists-specifically-for-adding-to-the-legend-aka-proxy-artists\n"
     ]
    },
    {
     "name": "stdout",
     "output_type": "stream",
     "text": [
      "KL: 0.05578034577662984\n",
      "stimulus:  2\n",
      "sample:  6\n",
      "\n",
      "Gradient evaluation took 1.2e-05 seconds\n",
      "1000 transitions using 10 leapfrog steps per transition would take 0.12 seconds.\n",
      "Adjust your expectations accordingly!\n",
      "\n",
      "\n"
     ]
    },
    {
     "name": "stderr",
     "output_type": "stream",
     "text": [
      "WARNING:pystan:65 of 16000 iterations ended with a divergence (0.406 %).\n",
      "WARNING:pystan:Try running with adapt_delta larger than 0.95 to remove the divergences.\n"
     ]
    },
    {
     "name": "stdout",
     "output_type": "stream",
     "text": [
      "Iteration:     1 / 20000 [  0%]  (Warmup)\n",
      "Iteration:  2000 / 20000 [ 10%]  (Warmup)\n",
      "Iteration:  4000 / 20000 [ 20%]  (Warmup)\n",
      "Iteration:  4001 / 20000 [ 20%]  (Sampling)\n",
      "Iteration:  6000 / 20000 [ 30%]  (Sampling)\n",
      "Iteration:  8000 / 20000 [ 40%]  (Sampling)\n",
      "Iteration: 10000 / 20000 [ 50%]  (Sampling)\n",
      "Iteration: 12000 / 20000 [ 60%]  (Sampling)\n",
      "Iteration: 14000 / 20000 [ 70%]  (Sampling)\n",
      "Iteration: 16000 / 20000 [ 80%]  (Sampling)\n",
      "Iteration: 18000 / 20000 [ 90%]  (Sampling)\n",
      "Iteration: 20000 / 20000 [100%]  (Sampling)\n",
      "\n",
      " Elapsed Time: 0.206095 seconds (Warm-up)\n",
      "               1.08983 seconds (Sampling)\n",
      "               1.29592 seconds (Total)\n",
      "\n"
     ]
    },
    {
     "name": "stderr",
     "output_type": "stream",
     "text": [
      "/Users/galraz1/opt/miniconda3/envs/stan_env/lib/python3.7/site-packages/ipykernel_launcher.py:60: UserWarning: Legend does not support 'p' instances.\n",
      "A proxy artist may be used instead.\n",
      "See: https://matplotlib.org/users/legend_guide.html#creating-artists-specifically-for-adding-to-the-legend-aka-proxy-artists\n",
      "/Users/galraz1/opt/miniconda3/envs/stan_env/lib/python3.7/site-packages/ipykernel_launcher.py:60: UserWarning: Legend does not support 'r' instances.\n",
      "A proxy artist may be used instead.\n",
      "See: https://matplotlib.org/users/legend_guide.html#creating-artists-specifically-for-adding-to-the-legend-aka-proxy-artists\n",
      "/Users/galraz1/opt/miniconda3/envs/stan_env/lib/python3.7/site-packages/ipykernel_launcher.py:60: UserWarning: Legend does not support 'i' instances.\n",
      "A proxy artist may be used instead.\n",
      "See: https://matplotlib.org/users/legend_guide.html#creating-artists-specifically-for-adding-to-the-legend-aka-proxy-artists\n",
      "/Users/galraz1/opt/miniconda3/envs/stan_env/lib/python3.7/site-packages/ipykernel_launcher.py:60: UserWarning: Legend does not support 'o' instances.\n",
      "A proxy artist may be used instead.\n",
      "See: https://matplotlib.org/users/legend_guide.html#creating-artists-specifically-for-adding-to-the-legend-aka-proxy-artists\n",
      "/Users/galraz1/opt/miniconda3/envs/stan_env/lib/python3.7/site-packages/ipykernel_launcher.py:67: UserWarning: Legend does not support 'p' instances.\n",
      "A proxy artist may be used instead.\n",
      "See: https://matplotlib.org/users/legend_guide.html#creating-artists-specifically-for-adding-to-the-legend-aka-proxy-artists\n",
      "/Users/galraz1/opt/miniconda3/envs/stan_env/lib/python3.7/site-packages/ipykernel_launcher.py:67: UserWarning: Legend does not support 'r' instances.\n",
      "A proxy artist may be used instead.\n",
      "See: https://matplotlib.org/users/legend_guide.html#creating-artists-specifically-for-adding-to-the-legend-aka-proxy-artists\n",
      "/Users/galraz1/opt/miniconda3/envs/stan_env/lib/python3.7/site-packages/ipykernel_launcher.py:67: UserWarning: Legend does not support 'i' instances.\n",
      "A proxy artist may be used instead.\n",
      "See: https://matplotlib.org/users/legend_guide.html#creating-artists-specifically-for-adding-to-the-legend-aka-proxy-artists\n",
      "/Users/galraz1/opt/miniconda3/envs/stan_env/lib/python3.7/site-packages/ipykernel_launcher.py:67: UserWarning: Legend does not support 'o' instances.\n",
      "A proxy artist may be used instead.\n",
      "See: https://matplotlib.org/users/legend_guide.html#creating-artists-specifically-for-adding-to-the-legend-aka-proxy-artists\n"
     ]
    },
    {
     "name": "stdout",
     "output_type": "stream",
     "text": [
      "KL: -0.02991489289551218\n",
      "stimulus:  3\n",
      "sample:  7\n"
     ]
    },
    {
     "name": "stderr",
     "output_type": "stream",
     "text": [
      "WARNING:pystan:208 of 16000 iterations ended with a divergence (1.3 %).\n",
      "WARNING:pystan:Try running with adapt_delta larger than 0.95 to remove the divergences.\n"
     ]
    },
    {
     "name": "stdout",
     "output_type": "stream",
     "text": [
      "\n",
      "Gradient evaluation took 1.2e-05 seconds\n",
      "1000 transitions using 10 leapfrog steps per transition would take 0.12 seconds.\n",
      "Adjust your expectations accordingly!\n",
      "\n",
      "\n",
      "Iteration:     1 / 20000 [  0%]  (Warmup)\n",
      "Iteration:  2000 / 20000 [ 10%]  (Warmup)\n",
      "Iteration:  4000 / 20000 [ 20%]  (Warmup)\n",
      "Iteration:  4001 / 20000 [ 20%]  (Sampling)\n",
      "Iteration:  6000 / 20000 [ 30%]  (Sampling)\n",
      "Iteration:  8000 / 20000 [ 40%]  (Sampling)\n",
      "Iteration: 10000 / 20000 [ 50%]  (Sampling)\n",
      "Iteration: 12000 / 20000 [ 60%]  (Sampling)\n",
      "Iteration: 14000 / 20000 [ 70%]  (Sampling)\n",
      "Iteration: 16000 / 20000 [ 80%]  (Sampling)\n",
      "Iteration: 18000 / 20000 [ 90%]  (Sampling)\n",
      "Iteration: 20000 / 20000 [100%]  (Sampling)\n",
      "\n",
      " Elapsed Time: 0.216232 seconds (Warm-up)\n",
      "               0.74849 seconds (Sampling)\n",
      "               0.964722 seconds (Total)\n",
      "\n"
     ]
    },
    {
     "name": "stderr",
     "output_type": "stream",
     "text": [
      "/Users/galraz1/opt/miniconda3/envs/stan_env/lib/python3.7/site-packages/ipykernel_launcher.py:60: UserWarning: Legend does not support 'p' instances.\n",
      "A proxy artist may be used instead.\n",
      "See: https://matplotlib.org/users/legend_guide.html#creating-artists-specifically-for-adding-to-the-legend-aka-proxy-artists\n",
      "/Users/galraz1/opt/miniconda3/envs/stan_env/lib/python3.7/site-packages/ipykernel_launcher.py:60: UserWarning: Legend does not support 'r' instances.\n",
      "A proxy artist may be used instead.\n",
      "See: https://matplotlib.org/users/legend_guide.html#creating-artists-specifically-for-adding-to-the-legend-aka-proxy-artists\n",
      "/Users/galraz1/opt/miniconda3/envs/stan_env/lib/python3.7/site-packages/ipykernel_launcher.py:60: UserWarning: Legend does not support 'i' instances.\n",
      "A proxy artist may be used instead.\n",
      "See: https://matplotlib.org/users/legend_guide.html#creating-artists-specifically-for-adding-to-the-legend-aka-proxy-artists\n",
      "/Users/galraz1/opt/miniconda3/envs/stan_env/lib/python3.7/site-packages/ipykernel_launcher.py:60: UserWarning: Legend does not support 'o' instances.\n",
      "A proxy artist may be used instead.\n",
      "See: https://matplotlib.org/users/legend_guide.html#creating-artists-specifically-for-adding-to-the-legend-aka-proxy-artists\n",
      "/Users/galraz1/opt/miniconda3/envs/stan_env/lib/python3.7/site-packages/ipykernel_launcher.py:67: UserWarning: Legend does not support 'p' instances.\n",
      "A proxy artist may be used instead.\n",
      "See: https://matplotlib.org/users/legend_guide.html#creating-artists-specifically-for-adding-to-the-legend-aka-proxy-artists\n",
      "/Users/galraz1/opt/miniconda3/envs/stan_env/lib/python3.7/site-packages/ipykernel_launcher.py:67: UserWarning: Legend does not support 'r' instances.\n",
      "A proxy artist may be used instead.\n",
      "See: https://matplotlib.org/users/legend_guide.html#creating-artists-specifically-for-adding-to-the-legend-aka-proxy-artists\n",
      "/Users/galraz1/opt/miniconda3/envs/stan_env/lib/python3.7/site-packages/ipykernel_launcher.py:67: UserWarning: Legend does not support 'i' instances.\n",
      "A proxy artist may be used instead.\n",
      "See: https://matplotlib.org/users/legend_guide.html#creating-artists-specifically-for-adding-to-the-legend-aka-proxy-artists\n",
      "/Users/galraz1/opt/miniconda3/envs/stan_env/lib/python3.7/site-packages/ipykernel_launcher.py:67: UserWarning: Legend does not support 'o' instances.\n",
      "A proxy artist may be used instead.\n",
      "See: https://matplotlib.org/users/legend_guide.html#creating-artists-specifically-for-adding-to-the-legend-aka-proxy-artists\n"
     ]
    },
    {
     "name": "stdout",
     "output_type": "stream",
     "text": [
      "KL: 0.1405881270563817\n",
      "stimulus:  3\n",
      "sample:  8\n",
      "\n"
     ]
    },
    {
     "name": "stderr",
     "output_type": "stream",
     "text": [
      "WARNING:pystan:136 of 16000 iterations ended with a divergence (0.85 %).\n",
      "WARNING:pystan:Try running with adapt_delta larger than 0.95 to remove the divergences.\n"
     ]
    },
    {
     "name": "stdout",
     "output_type": "stream",
     "text": [
      "Gradient evaluation took 1.2e-05 seconds\n",
      "1000 transitions using 10 leapfrog steps per transition would take 0.12 seconds.\n",
      "Adjust your expectations accordingly!\n",
      "\n",
      "\n",
      "Iteration:     1 / 20000 [  0%]  (Warmup)\n",
      "Iteration:  2000 / 20000 [ 10%]  (Warmup)\n",
      "Iteration:  4000 / 20000 [ 20%]  (Warmup)\n",
      "Iteration:  4001 / 20000 [ 20%]  (Sampling)\n",
      "Iteration:  6000 / 20000 [ 30%]  (Sampling)\n",
      "Iteration:  8000 / 20000 [ 40%]  (Sampling)\n",
      "Iteration: 10000 / 20000 [ 50%]  (Sampling)\n",
      "Iteration: 12000 / 20000 [ 60%]  (Sampling)\n",
      "Iteration: 14000 / 20000 [ 70%]  (Sampling)\n",
      "Iteration: 16000 / 20000 [ 80%]  (Sampling)\n",
      "Iteration: 18000 / 20000 [ 90%]  (Sampling)\n",
      "Iteration: 20000 / 20000 [100%]  (Sampling)\n",
      "\n",
      " Elapsed Time: 0.194713 seconds (Warm-up)\n",
      "               0.953469 seconds (Sampling)\n",
      "               1.14818 seconds (Total)\n",
      "\n"
     ]
    },
    {
     "name": "stderr",
     "output_type": "stream",
     "text": [
      "/Users/galraz1/opt/miniconda3/envs/stan_env/lib/python3.7/site-packages/ipykernel_launcher.py:60: UserWarning: Legend does not support 'p' instances.\n",
      "A proxy artist may be used instead.\n",
      "See: https://matplotlib.org/users/legend_guide.html#creating-artists-specifically-for-adding-to-the-legend-aka-proxy-artists\n",
      "/Users/galraz1/opt/miniconda3/envs/stan_env/lib/python3.7/site-packages/ipykernel_launcher.py:60: UserWarning: Legend does not support 'r' instances.\n",
      "A proxy artist may be used instead.\n",
      "See: https://matplotlib.org/users/legend_guide.html#creating-artists-specifically-for-adding-to-the-legend-aka-proxy-artists\n",
      "/Users/galraz1/opt/miniconda3/envs/stan_env/lib/python3.7/site-packages/ipykernel_launcher.py:60: UserWarning: Legend does not support 'i' instances.\n",
      "A proxy artist may be used instead.\n",
      "See: https://matplotlib.org/users/legend_guide.html#creating-artists-specifically-for-adding-to-the-legend-aka-proxy-artists\n",
      "/Users/galraz1/opt/miniconda3/envs/stan_env/lib/python3.7/site-packages/ipykernel_launcher.py:60: UserWarning: Legend does not support 'o' instances.\n",
      "A proxy artist may be used instead.\n",
      "See: https://matplotlib.org/users/legend_guide.html#creating-artists-specifically-for-adding-to-the-legend-aka-proxy-artists\n",
      "/Users/galraz1/opt/miniconda3/envs/stan_env/lib/python3.7/site-packages/ipykernel_launcher.py:67: UserWarning: Legend does not support 'p' instances.\n",
      "A proxy artist may be used instead.\n",
      "See: https://matplotlib.org/users/legend_guide.html#creating-artists-specifically-for-adding-to-the-legend-aka-proxy-artists\n",
      "/Users/galraz1/opt/miniconda3/envs/stan_env/lib/python3.7/site-packages/ipykernel_launcher.py:67: UserWarning: Legend does not support 'r' instances.\n",
      "A proxy artist may be used instead.\n",
      "See: https://matplotlib.org/users/legend_guide.html#creating-artists-specifically-for-adding-to-the-legend-aka-proxy-artists\n",
      "/Users/galraz1/opt/miniconda3/envs/stan_env/lib/python3.7/site-packages/ipykernel_launcher.py:67: UserWarning: Legend does not support 'i' instances.\n",
      "A proxy artist may be used instead.\n",
      "See: https://matplotlib.org/users/legend_guide.html#creating-artists-specifically-for-adding-to-the-legend-aka-proxy-artists\n",
      "/Users/galraz1/opt/miniconda3/envs/stan_env/lib/python3.7/site-packages/ipykernel_launcher.py:67: UserWarning: Legend does not support 'o' instances.\n",
      "A proxy artist may be used instead.\n",
      "See: https://matplotlib.org/users/legend_guide.html#creating-artists-specifically-for-adding-to-the-legend-aka-proxy-artists\n"
     ]
    },
    {
     "name": "stdout",
     "output_type": "stream",
     "text": [
      "KL: 0.01887772830266819\n",
      "stimulus:  3\n",
      "sample:  9\n"
     ]
    },
    {
     "name": "stderr",
     "output_type": "stream",
     "text": [
      "WARNING:pystan:153 of 16000 iterations ended with a divergence (0.956 %).\n",
      "WARNING:pystan:Try running with adapt_delta larger than 0.95 to remove the divergences.\n"
     ]
    },
    {
     "name": "stdout",
     "output_type": "stream",
     "text": [
      "\n",
      "Gradient evaluation took 1.2e-05 seconds\n",
      "1000 transitions using 10 leapfrog steps per transition would take 0.12 seconds.\n",
      "Adjust your expectations accordingly!\n",
      "\n",
      "\n",
      "Iteration:     1 / 20000 [  0%]  (Warmup)\n",
      "Iteration:  2000 / 20000 [ 10%]  (Warmup)\n",
      "Iteration:  4000 / 20000 [ 20%]  (Warmup)\n",
      "Iteration:  4001 / 20000 [ 20%]  (Sampling)\n",
      "Iteration:  6000 / 20000 [ 30%]  (Sampling)\n",
      "Iteration:  8000 / 20000 [ 40%]  (Sampling)\n",
      "Iteration: 10000 / 20000 [ 50%]  (Sampling)\n",
      "Iteration: 12000 / 20000 [ 60%]  (Sampling)\n",
      "Iteration: 14000 / 20000 [ 70%]  (Sampling)\n",
      "Iteration: 16000 / 20000 [ 80%]  (Sampling)\n",
      "Iteration: 18000 / 20000 [ 90%]  (Sampling)\n",
      "Iteration: 20000 / 20000 [100%]  (Sampling)\n",
      "\n",
      " Elapsed Time: 0.214181 seconds (Warm-up)\n",
      "               1.06747 seconds (Sampling)\n",
      "               1.28165 seconds (Total)\n",
      "\n"
     ]
    },
    {
     "name": "stderr",
     "output_type": "stream",
     "text": [
      "/Users/galraz1/opt/miniconda3/envs/stan_env/lib/python3.7/site-packages/ipykernel_launcher.py:60: UserWarning: Legend does not support 'p' instances.\n",
      "A proxy artist may be used instead.\n",
      "See: https://matplotlib.org/users/legend_guide.html#creating-artists-specifically-for-adding-to-the-legend-aka-proxy-artists\n",
      "/Users/galraz1/opt/miniconda3/envs/stan_env/lib/python3.7/site-packages/ipykernel_launcher.py:60: UserWarning: Legend does not support 'r' instances.\n",
      "A proxy artist may be used instead.\n",
      "See: https://matplotlib.org/users/legend_guide.html#creating-artists-specifically-for-adding-to-the-legend-aka-proxy-artists\n",
      "/Users/galraz1/opt/miniconda3/envs/stan_env/lib/python3.7/site-packages/ipykernel_launcher.py:60: UserWarning: Legend does not support 'i' instances.\n",
      "A proxy artist may be used instead.\n",
      "See: https://matplotlib.org/users/legend_guide.html#creating-artists-specifically-for-adding-to-the-legend-aka-proxy-artists\n",
      "/Users/galraz1/opt/miniconda3/envs/stan_env/lib/python3.7/site-packages/ipykernel_launcher.py:60: UserWarning: Legend does not support 'o' instances.\n",
      "A proxy artist may be used instead.\n",
      "See: https://matplotlib.org/users/legend_guide.html#creating-artists-specifically-for-adding-to-the-legend-aka-proxy-artists\n",
      "/Users/galraz1/opt/miniconda3/envs/stan_env/lib/python3.7/site-packages/ipykernel_launcher.py:67: UserWarning: Legend does not support 'p' instances.\n",
      "A proxy artist may be used instead.\n",
      "See: https://matplotlib.org/users/legend_guide.html#creating-artists-specifically-for-adding-to-the-legend-aka-proxy-artists\n",
      "/Users/galraz1/opt/miniconda3/envs/stan_env/lib/python3.7/site-packages/ipykernel_launcher.py:67: UserWarning: Legend does not support 'r' instances.\n",
      "A proxy artist may be used instead.\n",
      "See: https://matplotlib.org/users/legend_guide.html#creating-artists-specifically-for-adding-to-the-legend-aka-proxy-artists\n",
      "/Users/galraz1/opt/miniconda3/envs/stan_env/lib/python3.7/site-packages/ipykernel_launcher.py:67: UserWarning: Legend does not support 'i' instances.\n",
      "A proxy artist may be used instead.\n",
      "See: https://matplotlib.org/users/legend_guide.html#creating-artists-specifically-for-adding-to-the-legend-aka-proxy-artists\n",
      "/Users/galraz1/opt/miniconda3/envs/stan_env/lib/python3.7/site-packages/ipykernel_launcher.py:67: UserWarning: Legend does not support 'o' instances.\n",
      "A proxy artist may be used instead.\n",
      "See: https://matplotlib.org/users/legend_guide.html#creating-artists-specifically-for-adding-to-the-legend-aka-proxy-artists\n"
     ]
    },
    {
     "name": "stdout",
     "output_type": "stream",
     "text": [
      "KL: 0.004791306924911371\n",
      "stimulus:  4\n",
      "sample:  10\n",
      "\n",
      "Gradient evaluation took 1.3e-05 seconds\n",
      "1000 transitions using 10 leapfrog steps per transition would take 0.13 seconds.\n",
      "Adjust your expectations accordingly!\n",
      "\n",
      "\n",
      "Iteration:     1 / 20000 [  0%]  (Warmup)\n"
     ]
    },
    {
     "name": "stderr",
     "output_type": "stream",
     "text": [
      "WARNING:pystan:323 of 16000 iterations ended with a divergence (2.02 %).\n",
      "WARNING:pystan:Try running with adapt_delta larger than 0.95 to remove the divergences.\n"
     ]
    },
    {
     "name": "stdout",
     "output_type": "stream",
     "text": [
      "Iteration:  2000 / 20000 [ 10%]  (Warmup)\n",
      "Iteration:  4000 / 20000 [ 20%]  (Warmup)\n",
      "Iteration:  4001 / 20000 [ 20%]  (Sampling)\n",
      "Iteration:  6000 / 20000 [ 30%]  (Sampling)\n",
      "Iteration:  8000 / 20000 [ 40%]  (Sampling)\n",
      "Iteration: 10000 / 20000 [ 50%]  (Sampling)\n",
      "Iteration: 12000 / 20000 [ 60%]  (Sampling)\n",
      "Iteration: 14000 / 20000 [ 70%]  (Sampling)\n",
      "Iteration: 16000 / 20000 [ 80%]  (Sampling)\n",
      "Iteration: 18000 / 20000 [ 90%]  (Sampling)\n",
      "Iteration: 20000 / 20000 [100%]  (Sampling)\n",
      "\n",
      " Elapsed Time: 0.322933 seconds (Warm-up)\n",
      "               1.02884 seconds (Sampling)\n",
      "               1.35177 seconds (Total)\n",
      "\n"
     ]
    },
    {
     "name": "stderr",
     "output_type": "stream",
     "text": [
      "/Users/galraz1/opt/miniconda3/envs/stan_env/lib/python3.7/site-packages/ipykernel_launcher.py:60: UserWarning: Legend does not support 'p' instances.\n",
      "A proxy artist may be used instead.\n",
      "See: https://matplotlib.org/users/legend_guide.html#creating-artists-specifically-for-adding-to-the-legend-aka-proxy-artists\n",
      "/Users/galraz1/opt/miniconda3/envs/stan_env/lib/python3.7/site-packages/ipykernel_launcher.py:60: UserWarning: Legend does not support 'r' instances.\n",
      "A proxy artist may be used instead.\n",
      "See: https://matplotlib.org/users/legend_guide.html#creating-artists-specifically-for-adding-to-the-legend-aka-proxy-artists\n",
      "/Users/galraz1/opt/miniconda3/envs/stan_env/lib/python3.7/site-packages/ipykernel_launcher.py:60: UserWarning: Legend does not support 'i' instances.\n",
      "A proxy artist may be used instead.\n",
      "See: https://matplotlib.org/users/legend_guide.html#creating-artists-specifically-for-adding-to-the-legend-aka-proxy-artists\n",
      "/Users/galraz1/opt/miniconda3/envs/stan_env/lib/python3.7/site-packages/ipykernel_launcher.py:60: UserWarning: Legend does not support 'o' instances.\n",
      "A proxy artist may be used instead.\n",
      "See: https://matplotlib.org/users/legend_guide.html#creating-artists-specifically-for-adding-to-the-legend-aka-proxy-artists\n",
      "/Users/galraz1/opt/miniconda3/envs/stan_env/lib/python3.7/site-packages/ipykernel_launcher.py:67: UserWarning: Legend does not support 'p' instances.\n",
      "A proxy artist may be used instead.\n",
      "See: https://matplotlib.org/users/legend_guide.html#creating-artists-specifically-for-adding-to-the-legend-aka-proxy-artists\n",
      "/Users/galraz1/opt/miniconda3/envs/stan_env/lib/python3.7/site-packages/ipykernel_launcher.py:67: UserWarning: Legend does not support 'r' instances.\n",
      "A proxy artist may be used instead.\n",
      "See: https://matplotlib.org/users/legend_guide.html#creating-artists-specifically-for-adding-to-the-legend-aka-proxy-artists\n",
      "/Users/galraz1/opt/miniconda3/envs/stan_env/lib/python3.7/site-packages/ipykernel_launcher.py:67: UserWarning: Legend does not support 'i' instances.\n",
      "A proxy artist may be used instead.\n",
      "See: https://matplotlib.org/users/legend_guide.html#creating-artists-specifically-for-adding-to-the-legend-aka-proxy-artists\n",
      "/Users/galraz1/opt/miniconda3/envs/stan_env/lib/python3.7/site-packages/ipykernel_launcher.py:67: UserWarning: Legend does not support 'o' instances.\n",
      "A proxy artist may be used instead.\n",
      "See: https://matplotlib.org/users/legend_guide.html#creating-artists-specifically-for-adding-to-the-legend-aka-proxy-artists\n"
     ]
    },
    {
     "name": "stdout",
     "output_type": "stream",
     "text": [
      "KL: 0.12745215177853234\n",
      "stimulus:  4\n",
      "sample:  11\n",
      "\n"
     ]
    },
    {
     "name": "stderr",
     "output_type": "stream",
     "text": [
      "WARNING:pystan:106 of 16000 iterations ended with a divergence (0.662 %).\n",
      "WARNING:pystan:Try running with adapt_delta larger than 0.95 to remove the divergences.\n"
     ]
    },
    {
     "name": "stdout",
     "output_type": "stream",
     "text": [
      "Gradient evaluation took 1.3e-05 seconds\n",
      "1000 transitions using 10 leapfrog steps per transition would take 0.13 seconds.\n",
      "Adjust your expectations accordingly!\n",
      "\n",
      "\n",
      "Iteration:     1 / 20000 [  0%]  (Warmup)\n",
      "Iteration:  2000 / 20000 [ 10%]  (Warmup)\n",
      "Iteration:  4000 / 20000 [ 20%]  (Warmup)\n",
      "Iteration:  4001 / 20000 [ 20%]  (Sampling)\n",
      "Iteration:  6000 / 20000 [ 30%]  (Sampling)\n",
      "Iteration:  8000 / 20000 [ 40%]  (Sampling)\n",
      "Iteration: 10000 / 20000 [ 50%]  (Sampling)\n",
      "Iteration: 12000 / 20000 [ 60%]  (Sampling)\n",
      "Iteration: 14000 / 20000 [ 70%]  (Sampling)\n",
      "Iteration: 16000 / 20000 [ 80%]  (Sampling)\n",
      "Iteration: 18000 / 20000 [ 90%]  (Sampling)\n",
      "Iteration: 20000 / 20000 [100%]  (Sampling)\n",
      "\n",
      " Elapsed Time: 0.312224 seconds (Warm-up)\n",
      "               1.65368 seconds (Sampling)\n",
      "               1.9659 seconds (Total)\n",
      "\n"
     ]
    },
    {
     "name": "stderr",
     "output_type": "stream",
     "text": [
      "/Users/galraz1/opt/miniconda3/envs/stan_env/lib/python3.7/site-packages/ipykernel_launcher.py:60: UserWarning: Legend does not support 'p' instances.\n",
      "A proxy artist may be used instead.\n",
      "See: https://matplotlib.org/users/legend_guide.html#creating-artists-specifically-for-adding-to-the-legend-aka-proxy-artists\n",
      "/Users/galraz1/opt/miniconda3/envs/stan_env/lib/python3.7/site-packages/ipykernel_launcher.py:60: UserWarning: Legend does not support 'r' instances.\n",
      "A proxy artist may be used instead.\n",
      "See: https://matplotlib.org/users/legend_guide.html#creating-artists-specifically-for-adding-to-the-legend-aka-proxy-artists\n",
      "/Users/galraz1/opt/miniconda3/envs/stan_env/lib/python3.7/site-packages/ipykernel_launcher.py:60: UserWarning: Legend does not support 'i' instances.\n",
      "A proxy artist may be used instead.\n",
      "See: https://matplotlib.org/users/legend_guide.html#creating-artists-specifically-for-adding-to-the-legend-aka-proxy-artists\n",
      "/Users/galraz1/opt/miniconda3/envs/stan_env/lib/python3.7/site-packages/ipykernel_launcher.py:60: UserWarning: Legend does not support 'o' instances.\n",
      "A proxy artist may be used instead.\n",
      "See: https://matplotlib.org/users/legend_guide.html#creating-artists-specifically-for-adding-to-the-legend-aka-proxy-artists\n",
      "/Users/galraz1/opt/miniconda3/envs/stan_env/lib/python3.7/site-packages/ipykernel_launcher.py:67: UserWarning: Legend does not support 'p' instances.\n",
      "A proxy artist may be used instead.\n",
      "See: https://matplotlib.org/users/legend_guide.html#creating-artists-specifically-for-adding-to-the-legend-aka-proxy-artists\n",
      "/Users/galraz1/opt/miniconda3/envs/stan_env/lib/python3.7/site-packages/ipykernel_launcher.py:67: UserWarning: Legend does not support 'r' instances.\n",
      "A proxy artist may be used instead.\n",
      "See: https://matplotlib.org/users/legend_guide.html#creating-artists-specifically-for-adding-to-the-legend-aka-proxy-artists\n",
      "/Users/galraz1/opt/miniconda3/envs/stan_env/lib/python3.7/site-packages/ipykernel_launcher.py:67: UserWarning: Legend does not support 'i' instances.\n",
      "A proxy artist may be used instead.\n",
      "See: https://matplotlib.org/users/legend_guide.html#creating-artists-specifically-for-adding-to-the-legend-aka-proxy-artists\n",
      "/Users/galraz1/opt/miniconda3/envs/stan_env/lib/python3.7/site-packages/ipykernel_launcher.py:67: UserWarning: Legend does not support 'o' instances.\n",
      "A proxy artist may be used instead.\n",
      "See: https://matplotlib.org/users/legend_guide.html#creating-artists-specifically-for-adding-to-the-legend-aka-proxy-artists\n"
     ]
    },
    {
     "name": "stdout",
     "output_type": "stream",
     "text": [
      "KL: -0.022897364667459504\n",
      "stimulus:  5\n",
      "sample:  12\n",
      "\n",
      "Gradient evaluation took 1.4e-05 seconds\n",
      "1000 transitions using 10 leapfrog steps per transition would take 0.14 seconds.\n",
      "Adjust your expectations accordingly!\n",
      "\n",
      "\n"
     ]
    },
    {
     "name": "stderr",
     "output_type": "stream",
     "text": [
      "WARNING:pystan:239 of 16000 iterations ended with a divergence (1.49 %).\n",
      "WARNING:pystan:Try running with adapt_delta larger than 0.95 to remove the divergences.\n"
     ]
    },
    {
     "name": "stdout",
     "output_type": "stream",
     "text": [
      "Iteration:     1 / 20000 [  0%]  (Warmup)\n",
      "Iteration:  2000 / 20000 [ 10%]  (Warmup)\n",
      "Iteration:  4000 / 20000 [ 20%]  (Warmup)\n",
      "Iteration:  4001 / 20000 [ 20%]  (Sampling)\n",
      "Iteration:  6000 / 20000 [ 30%]  (Sampling)\n",
      "Iteration:  8000 / 20000 [ 40%]  (Sampling)\n",
      "Iteration: 10000 / 20000 [ 50%]  (Sampling)\n",
      "Iteration: 12000 / 20000 [ 60%]  (Sampling)\n",
      "Iteration: 14000 / 20000 [ 70%]  (Sampling)\n",
      "Iteration: 16000 / 20000 [ 80%]  (Sampling)\n",
      "Iteration: 18000 / 20000 [ 90%]  (Sampling)\n",
      "Iteration: 20000 / 20000 [100%]  (Sampling)\n",
      "\n",
      " Elapsed Time: 0.309815 seconds (Warm-up)\n",
      "               0.839256 seconds (Sampling)\n",
      "               1.14907 seconds (Total)\n",
      "\n"
     ]
    },
    {
     "name": "stderr",
     "output_type": "stream",
     "text": [
      "/Users/galraz1/opt/miniconda3/envs/stan_env/lib/python3.7/site-packages/ipykernel_launcher.py:60: UserWarning: Legend does not support 'p' instances.\n",
      "A proxy artist may be used instead.\n",
      "See: https://matplotlib.org/users/legend_guide.html#creating-artists-specifically-for-adding-to-the-legend-aka-proxy-artists\n",
      "/Users/galraz1/opt/miniconda3/envs/stan_env/lib/python3.7/site-packages/ipykernel_launcher.py:60: UserWarning: Legend does not support 'r' instances.\n",
      "A proxy artist may be used instead.\n",
      "See: https://matplotlib.org/users/legend_guide.html#creating-artists-specifically-for-adding-to-the-legend-aka-proxy-artists\n",
      "/Users/galraz1/opt/miniconda3/envs/stan_env/lib/python3.7/site-packages/ipykernel_launcher.py:60: UserWarning: Legend does not support 'i' instances.\n",
      "A proxy artist may be used instead.\n",
      "See: https://matplotlib.org/users/legend_guide.html#creating-artists-specifically-for-adding-to-the-legend-aka-proxy-artists\n",
      "/Users/galraz1/opt/miniconda3/envs/stan_env/lib/python3.7/site-packages/ipykernel_launcher.py:60: UserWarning: Legend does not support 'o' instances.\n",
      "A proxy artist may be used instead.\n",
      "See: https://matplotlib.org/users/legend_guide.html#creating-artists-specifically-for-adding-to-the-legend-aka-proxy-artists\n",
      "/Users/galraz1/opt/miniconda3/envs/stan_env/lib/python3.7/site-packages/ipykernel_launcher.py:67: UserWarning: Legend does not support 'p' instances.\n",
      "A proxy artist may be used instead.\n",
      "See: https://matplotlib.org/users/legend_guide.html#creating-artists-specifically-for-adding-to-the-legend-aka-proxy-artists\n",
      "/Users/galraz1/opt/miniconda3/envs/stan_env/lib/python3.7/site-packages/ipykernel_launcher.py:67: UserWarning: Legend does not support 'r' instances.\n",
      "A proxy artist may be used instead.\n",
      "See: https://matplotlib.org/users/legend_guide.html#creating-artists-specifically-for-adding-to-the-legend-aka-proxy-artists\n",
      "/Users/galraz1/opt/miniconda3/envs/stan_env/lib/python3.7/site-packages/ipykernel_launcher.py:67: UserWarning: Legend does not support 'i' instances.\n",
      "A proxy artist may be used instead.\n",
      "See: https://matplotlib.org/users/legend_guide.html#creating-artists-specifically-for-adding-to-the-legend-aka-proxy-artists\n",
      "/Users/galraz1/opt/miniconda3/envs/stan_env/lib/python3.7/site-packages/ipykernel_launcher.py:67: UserWarning: Legend does not support 'o' instances.\n",
      "A proxy artist may be used instead.\n",
      "See: https://matplotlib.org/users/legend_guide.html#creating-artists-specifically-for-adding-to-the-legend-aka-proxy-artists\n"
     ]
    },
    {
     "name": "stdout",
     "output_type": "stream",
     "text": [
      "KL: 0.11878919098144607\n",
      "stimulus:  5\n",
      "sample:  13\n"
     ]
    },
    {
     "name": "stderr",
     "output_type": "stream",
     "text": [
      "WARNING:pystan:328 of 16000 iterations ended with a divergence (2.05 %).\n",
      "WARNING:pystan:Try running with adapt_delta larger than 0.95 to remove the divergences.\n"
     ]
    },
    {
     "name": "stdout",
     "output_type": "stream",
     "text": [
      "\n",
      "Gradient evaluation took 1.1e-05 seconds\n",
      "1000 transitions using 10 leapfrog steps per transition would take 0.11 seconds.\n",
      "Adjust your expectations accordingly!\n",
      "\n",
      "\n",
      "Iteration:     1 / 20000 [  0%]  (Warmup)\n",
      "Iteration:  2000 / 20000 [ 10%]  (Warmup)\n",
      "Iteration:  4000 / 20000 [ 20%]  (Warmup)\n",
      "Iteration:  4001 / 20000 [ 20%]  (Sampling)\n",
      "Iteration:  6000 / 20000 [ 30%]  (Sampling)\n",
      "Iteration:  8000 / 20000 [ 40%]  (Sampling)\n",
      "Iteration: 10000 / 20000 [ 50%]  (Sampling)\n",
      "Iteration: 12000 / 20000 [ 60%]  (Sampling)\n",
      "Iteration: 14000 / 20000 [ 70%]  (Sampling)\n",
      "Iteration: 16000 / 20000 [ 80%]  (Sampling)\n",
      "Iteration: 18000 / 20000 [ 90%]  (Sampling)\n",
      "Iteration: 20000 / 20000 [100%]  (Sampling)\n",
      "\n",
      " Elapsed Time: 0.253224 seconds (Warm-up)\n",
      "               1.61931 seconds (Sampling)\n",
      "               1.87253 seconds (Total)\n",
      "\n"
     ]
    },
    {
     "name": "stderr",
     "output_type": "stream",
     "text": [
      "/Users/galraz1/opt/miniconda3/envs/stan_env/lib/python3.7/site-packages/ipykernel_launcher.py:60: UserWarning: Legend does not support 'p' instances.\n",
      "A proxy artist may be used instead.\n",
      "See: https://matplotlib.org/users/legend_guide.html#creating-artists-specifically-for-adding-to-the-legend-aka-proxy-artists\n",
      "/Users/galraz1/opt/miniconda3/envs/stan_env/lib/python3.7/site-packages/ipykernel_launcher.py:60: UserWarning: Legend does not support 'r' instances.\n",
      "A proxy artist may be used instead.\n",
      "See: https://matplotlib.org/users/legend_guide.html#creating-artists-specifically-for-adding-to-the-legend-aka-proxy-artists\n",
      "/Users/galraz1/opt/miniconda3/envs/stan_env/lib/python3.7/site-packages/ipykernel_launcher.py:60: UserWarning: Legend does not support 'i' instances.\n",
      "A proxy artist may be used instead.\n",
      "See: https://matplotlib.org/users/legend_guide.html#creating-artists-specifically-for-adding-to-the-legend-aka-proxy-artists\n",
      "/Users/galraz1/opt/miniconda3/envs/stan_env/lib/python3.7/site-packages/ipykernel_launcher.py:60: UserWarning: Legend does not support 'o' instances.\n",
      "A proxy artist may be used instead.\n",
      "See: https://matplotlib.org/users/legend_guide.html#creating-artists-specifically-for-adding-to-the-legend-aka-proxy-artists\n",
      "/Users/galraz1/opt/miniconda3/envs/stan_env/lib/python3.7/site-packages/ipykernel_launcher.py:67: UserWarning: Legend does not support 'p' instances.\n",
      "A proxy artist may be used instead.\n",
      "See: https://matplotlib.org/users/legend_guide.html#creating-artists-specifically-for-adding-to-the-legend-aka-proxy-artists\n",
      "/Users/galraz1/opt/miniconda3/envs/stan_env/lib/python3.7/site-packages/ipykernel_launcher.py:67: UserWarning: Legend does not support 'r' instances.\n",
      "A proxy artist may be used instead.\n",
      "See: https://matplotlib.org/users/legend_guide.html#creating-artists-specifically-for-adding-to-the-legend-aka-proxy-artists\n",
      "/Users/galraz1/opt/miniconda3/envs/stan_env/lib/python3.7/site-packages/ipykernel_launcher.py:67: UserWarning: Legend does not support 'i' instances.\n",
      "A proxy artist may be used instead.\n",
      "See: https://matplotlib.org/users/legend_guide.html#creating-artists-specifically-for-adding-to-the-legend-aka-proxy-artists\n",
      "/Users/galraz1/opt/miniconda3/envs/stan_env/lib/python3.7/site-packages/ipykernel_launcher.py:67: UserWarning: Legend does not support 'o' instances.\n",
      "A proxy artist may be used instead.\n",
      "See: https://matplotlib.org/users/legend_guide.html#creating-artists-specifically-for-adding-to-the-legend-aka-proxy-artists\n"
     ]
    },
    {
     "name": "stdout",
     "output_type": "stream",
     "text": [
      "KL: 0.0012947593730105724\n",
      "stimulus:  6\n",
      "sample:  14\n"
     ]
    },
    {
     "name": "stderr",
     "output_type": "stream",
     "text": [
      "WARNING:pystan:10 of 16000 iterations ended with a divergence (0.0625 %).\n",
      "WARNING:pystan:Try running with adapt_delta larger than 0.95 to remove the divergences.\n"
     ]
    },
    {
     "name": "stdout",
     "output_type": "stream",
     "text": [
      "\n",
      "Gradient evaluation took 1.4e-05 seconds\n",
      "1000 transitions using 10 leapfrog steps per transition would take 0.14 seconds.\n",
      "Adjust your expectations accordingly!\n",
      "\n",
      "\n",
      "Iteration:     1 / 20000 [  0%]  (Warmup)\n",
      "Iteration:  2000 / 20000 [ 10%]  (Warmup)\n",
      "Iteration:  4000 / 20000 [ 20%]  (Warmup)\n",
      "Iteration:  4001 / 20000 [ 20%]  (Sampling)\n",
      "Iteration:  6000 / 20000 [ 30%]  (Sampling)\n",
      "Iteration:  8000 / 20000 [ 40%]  (Sampling)\n",
      "Iteration: 10000 / 20000 [ 50%]  (Sampling)\n",
      "Iteration: 12000 / 20000 [ 60%]  (Sampling)\n",
      "Iteration: 14000 / 20000 [ 70%]  (Sampling)\n",
      "Iteration: 16000 / 20000 [ 80%]  (Sampling)\n",
      "Iteration: 18000 / 20000 [ 90%]  (Sampling)\n",
      "Iteration: 20000 / 20000 [100%]  (Sampling)\n",
      "\n",
      " Elapsed Time: 0.179011 seconds (Warm-up)\n",
      "               0.762492 seconds (Sampling)\n",
      "               0.941503 seconds (Total)\n",
      "\n"
     ]
    },
    {
     "name": "stderr",
     "output_type": "stream",
     "text": [
      "/Users/galraz1/opt/miniconda3/envs/stan_env/lib/python3.7/site-packages/ipykernel_launcher.py:60: UserWarning: Legend does not support 'p' instances.\n",
      "A proxy artist may be used instead.\n",
      "See: https://matplotlib.org/users/legend_guide.html#creating-artists-specifically-for-adding-to-the-legend-aka-proxy-artists\n",
      "/Users/galraz1/opt/miniconda3/envs/stan_env/lib/python3.7/site-packages/ipykernel_launcher.py:60: UserWarning: Legend does not support 'r' instances.\n",
      "A proxy artist may be used instead.\n",
      "See: https://matplotlib.org/users/legend_guide.html#creating-artists-specifically-for-adding-to-the-legend-aka-proxy-artists\n",
      "/Users/galraz1/opt/miniconda3/envs/stan_env/lib/python3.7/site-packages/ipykernel_launcher.py:60: UserWarning: Legend does not support 'i' instances.\n",
      "A proxy artist may be used instead.\n",
      "See: https://matplotlib.org/users/legend_guide.html#creating-artists-specifically-for-adding-to-the-legend-aka-proxy-artists\n",
      "/Users/galraz1/opt/miniconda3/envs/stan_env/lib/python3.7/site-packages/ipykernel_launcher.py:60: UserWarning: Legend does not support 'o' instances.\n",
      "A proxy artist may be used instead.\n",
      "See: https://matplotlib.org/users/legend_guide.html#creating-artists-specifically-for-adding-to-the-legend-aka-proxy-artists\n",
      "/Users/galraz1/opt/miniconda3/envs/stan_env/lib/python3.7/site-packages/ipykernel_launcher.py:67: UserWarning: Legend does not support 'p' instances.\n",
      "A proxy artist may be used instead.\n",
      "See: https://matplotlib.org/users/legend_guide.html#creating-artists-specifically-for-adding-to-the-legend-aka-proxy-artists\n",
      "/Users/galraz1/opt/miniconda3/envs/stan_env/lib/python3.7/site-packages/ipykernel_launcher.py:67: UserWarning: Legend does not support 'r' instances.\n",
      "A proxy artist may be used instead.\n",
      "See: https://matplotlib.org/users/legend_guide.html#creating-artists-specifically-for-adding-to-the-legend-aka-proxy-artists\n",
      "/Users/galraz1/opt/miniconda3/envs/stan_env/lib/python3.7/site-packages/ipykernel_launcher.py:67: UserWarning: Legend does not support 'i' instances.\n",
      "A proxy artist may be used instead.\n",
      "See: https://matplotlib.org/users/legend_guide.html#creating-artists-specifically-for-adding-to-the-legend-aka-proxy-artists\n",
      "/Users/galraz1/opt/miniconda3/envs/stan_env/lib/python3.7/site-packages/ipykernel_launcher.py:67: UserWarning: Legend does not support 'o' instances.\n",
      "A proxy artist may be used instead.\n",
      "See: https://matplotlib.org/users/legend_guide.html#creating-artists-specifically-for-adding-to-the-legend-aka-proxy-artists\n"
     ]
    },
    {
     "name": "stdout",
     "output_type": "stream",
     "text": [
      "KL: 3.925482314764985\n",
      "stimulus:  6\n",
      "sample:  15\n",
      "\n",
      "Gradient evaluation took 1.3e-05 seconds\n",
      "1000 transitions using 10 leapfrog steps per transition would take 0.13 seconds.\n",
      "Adjust your expectations accordingly!\n",
      "\n",
      "\n",
      "Iteration:     1 / 20000 [  0%]  (Warmup)\n",
      "Iteration:  2000 / 20000 [ 10%]  (Warmup)\n",
      "Iteration:  4000 / 20000 [ 20%]  (Warmup)\n",
      "Iteration:  4001 / 20000 [ 20%]  (Sampling)\n",
      "Iteration:  6000 / 20000 [ 30%]  (Sampling)\n",
      "Iteration:  8000 / 20000 [ 40%]  (Sampling)\n",
      "Iteration: 10000 / 20000 [ 50%]  (Sampling)\n",
      "Iteration: 12000 / 20000 [ 60%]  (Sampling)\n",
      "Iteration: 14000 / 20000 [ 70%]  (Sampling)\n",
      "Iteration: 16000 / 20000 [ 80%]  (Sampling)\n",
      "Iteration: 18000 / 20000 [ 90%]  (Sampling)\n",
      "Iteration: 20000 / 20000 [100%]  (Sampling)\n",
      "\n",
      " Elapsed Time: 0.151937 seconds (Warm-up)\n",
      "               0.633315 seconds (Sampling)\n",
      "               0.785252 seconds (Total)\n",
      "\n"
     ]
    },
    {
     "name": "stderr",
     "output_type": "stream",
     "text": [
      "/Users/galraz1/opt/miniconda3/envs/stan_env/lib/python3.7/site-packages/ipykernel_launcher.py:60: UserWarning: Legend does not support 'p' instances.\n",
      "A proxy artist may be used instead.\n",
      "See: https://matplotlib.org/users/legend_guide.html#creating-artists-specifically-for-adding-to-the-legend-aka-proxy-artists\n",
      "/Users/galraz1/opt/miniconda3/envs/stan_env/lib/python3.7/site-packages/ipykernel_launcher.py:60: UserWarning: Legend does not support 'r' instances.\n",
      "A proxy artist may be used instead.\n",
      "See: https://matplotlib.org/users/legend_guide.html#creating-artists-specifically-for-adding-to-the-legend-aka-proxy-artists\n",
      "/Users/galraz1/opt/miniconda3/envs/stan_env/lib/python3.7/site-packages/ipykernel_launcher.py:60: UserWarning: Legend does not support 'i' instances.\n",
      "A proxy artist may be used instead.\n",
      "See: https://matplotlib.org/users/legend_guide.html#creating-artists-specifically-for-adding-to-the-legend-aka-proxy-artists\n",
      "/Users/galraz1/opt/miniconda3/envs/stan_env/lib/python3.7/site-packages/ipykernel_launcher.py:60: UserWarning: Legend does not support 'o' instances.\n",
      "A proxy artist may be used instead.\n",
      "See: https://matplotlib.org/users/legend_guide.html#creating-artists-specifically-for-adding-to-the-legend-aka-proxy-artists\n",
      "/Users/galraz1/opt/miniconda3/envs/stan_env/lib/python3.7/site-packages/ipykernel_launcher.py:67: UserWarning: Legend does not support 'p' instances.\n",
      "A proxy artist may be used instead.\n",
      "See: https://matplotlib.org/users/legend_guide.html#creating-artists-specifically-for-adding-to-the-legend-aka-proxy-artists\n",
      "/Users/galraz1/opt/miniconda3/envs/stan_env/lib/python3.7/site-packages/ipykernel_launcher.py:67: UserWarning: Legend does not support 'r' instances.\n",
      "A proxy artist may be used instead.\n",
      "See: https://matplotlib.org/users/legend_guide.html#creating-artists-specifically-for-adding-to-the-legend-aka-proxy-artists\n",
      "/Users/galraz1/opt/miniconda3/envs/stan_env/lib/python3.7/site-packages/ipykernel_launcher.py:67: UserWarning: Legend does not support 'i' instances.\n",
      "A proxy artist may be used instead.\n",
      "See: https://matplotlib.org/users/legend_guide.html#creating-artists-specifically-for-adding-to-the-legend-aka-proxy-artists\n",
      "/Users/galraz1/opt/miniconda3/envs/stan_env/lib/python3.7/site-packages/ipykernel_launcher.py:67: UserWarning: Legend does not support 'o' instances.\n",
      "A proxy artist may be used instead.\n",
      "See: https://matplotlib.org/users/legend_guide.html#creating-artists-specifically-for-adding-to-the-legend-aka-proxy-artists\n"
     ]
    },
    {
     "name": "stdout",
     "output_type": "stream",
     "text": [
      "KL: 0.1693416531787467\n",
      "stimulus:  6\n",
      "sample:  16\n",
      "\n",
      "Gradient evaluation took 1.4e-05 seconds\n",
      "1000 transitions using 10 leapfrog steps per transition would take 0.14 seconds.\n",
      "Adjust your expectations accordingly!\n",
      "\n",
      "\n",
      "Iteration:     1 / 20000 [  0%]  (Warmup)\n",
      "Iteration:  2000 / 20000 [ 10%]  (Warmup)\n",
      "Iteration:  4000 / 20000 [ 20%]  (Warmup)\n",
      "Iteration:  4001 / 20000 [ 20%]  (Sampling)\n",
      "Iteration:  6000 / 20000 [ 30%]  (Sampling)\n",
      "Iteration:  8000 / 20000 [ 40%]  (Sampling)\n",
      "Iteration: 10000 / 20000 [ 50%]  (Sampling)\n",
      "Iteration: 12000 / 20000 [ 60%]  (Sampling)\n",
      "Iteration: 14000 / 20000 [ 70%]  (Sampling)\n",
      "Iteration: 16000 / 20000 [ 80%]  (Sampling)\n",
      "Iteration: 18000 / 20000 [ 90%]  (Sampling)\n",
      "Iteration: 20000 / 20000 [100%]  (Sampling)\n",
      "\n",
      " Elapsed Time: 0.149035 seconds (Warm-up)\n",
      "               0.615998 seconds (Sampling)\n",
      "               0.765033 seconds (Total)\n",
      "\n"
     ]
    },
    {
     "name": "stderr",
     "output_type": "stream",
     "text": [
      "/Users/galraz1/opt/miniconda3/envs/stan_env/lib/python3.7/site-packages/ipykernel_launcher.py:60: UserWarning: Legend does not support 'p' instances.\n",
      "A proxy artist may be used instead.\n",
      "See: https://matplotlib.org/users/legend_guide.html#creating-artists-specifically-for-adding-to-the-legend-aka-proxy-artists\n",
      "/Users/galraz1/opt/miniconda3/envs/stan_env/lib/python3.7/site-packages/ipykernel_launcher.py:60: UserWarning: Legend does not support 'r' instances.\n",
      "A proxy artist may be used instead.\n",
      "See: https://matplotlib.org/users/legend_guide.html#creating-artists-specifically-for-adding-to-the-legend-aka-proxy-artists\n",
      "/Users/galraz1/opt/miniconda3/envs/stan_env/lib/python3.7/site-packages/ipykernel_launcher.py:60: UserWarning: Legend does not support 'i' instances.\n",
      "A proxy artist may be used instead.\n",
      "See: https://matplotlib.org/users/legend_guide.html#creating-artists-specifically-for-adding-to-the-legend-aka-proxy-artists\n",
      "/Users/galraz1/opt/miniconda3/envs/stan_env/lib/python3.7/site-packages/ipykernel_launcher.py:60: UserWarning: Legend does not support 'o' instances.\n",
      "A proxy artist may be used instead.\n",
      "See: https://matplotlib.org/users/legend_guide.html#creating-artists-specifically-for-adding-to-the-legend-aka-proxy-artists\n",
      "/Users/galraz1/opt/miniconda3/envs/stan_env/lib/python3.7/site-packages/ipykernel_launcher.py:67: UserWarning: Legend does not support 'p' instances.\n",
      "A proxy artist may be used instead.\n",
      "See: https://matplotlib.org/users/legend_guide.html#creating-artists-specifically-for-adding-to-the-legend-aka-proxy-artists\n",
      "/Users/galraz1/opt/miniconda3/envs/stan_env/lib/python3.7/site-packages/ipykernel_launcher.py:67: UserWarning: Legend does not support 'r' instances.\n",
      "A proxy artist may be used instead.\n",
      "See: https://matplotlib.org/users/legend_guide.html#creating-artists-specifically-for-adding-to-the-legend-aka-proxy-artists\n",
      "/Users/galraz1/opt/miniconda3/envs/stan_env/lib/python3.7/site-packages/ipykernel_launcher.py:67: UserWarning: Legend does not support 'i' instances.\n",
      "A proxy artist may be used instead.\n",
      "See: https://matplotlib.org/users/legend_guide.html#creating-artists-specifically-for-adding-to-the-legend-aka-proxy-artists\n",
      "/Users/galraz1/opt/miniconda3/envs/stan_env/lib/python3.7/site-packages/ipykernel_launcher.py:67: UserWarning: Legend does not support 'o' instances.\n",
      "A proxy artist may be used instead.\n",
      "See: https://matplotlib.org/users/legend_guide.html#creating-artists-specifically-for-adding-to-the-legend-aka-proxy-artists\n"
     ]
    },
    {
     "name": "stdout",
     "output_type": "stream",
     "text": [
      "KL: 0.02730933570070466\n",
      "stimulus:  6\n",
      "sample:  17\n",
      "\n",
      "Gradient evaluation took 1.3e-05 seconds\n",
      "1000 transitions using 10 leapfrog steps per transition would take 0.13 seconds.\n",
      "Adjust your expectations accordingly!\n",
      "\n",
      "\n",
      "Iteration:     1 / 20000 [  0%]  (Warmup)\n",
      "Iteration:  2000 / 20000 [ 10%]  (Warmup)\n",
      "Iteration:  4000 / 20000 [ 20%]  (Warmup)\n",
      "Iteration:  4001 / 20000 [ 20%]  (Sampling)\n",
      "Iteration:  6000 / 20000 [ 30%]  (Sampling)\n",
      "Iteration:  8000 / 20000 [ 40%]  (Sampling)\n",
      "Iteration: 10000 / 20000 [ 50%]  (Sampling)\n",
      "Iteration: 12000 / 20000 [ 60%]  (Sampling)\n",
      "Iteration: 14000 / 20000 [ 70%]  (Sampling)\n",
      "Iteration: 16000 / 20000 [ 80%]  (Sampling)\n",
      "Iteration: 18000 / 20000 [ 90%]  (Sampling)\n",
      "Iteration: 20000 / 20000 [100%]  (Sampling)\n",
      "\n",
      " Elapsed Time: 0.150838 seconds (Warm-up)\n",
      "               0.519096 seconds (Sampling)\n",
      "               0.669934 seconds (Total)\n",
      "\n"
     ]
    },
    {
     "name": "stderr",
     "output_type": "stream",
     "text": [
      "/Users/galraz1/opt/miniconda3/envs/stan_env/lib/python3.7/site-packages/ipykernel_launcher.py:60: UserWarning: Legend does not support 'p' instances.\n",
      "A proxy artist may be used instead.\n",
      "See: https://matplotlib.org/users/legend_guide.html#creating-artists-specifically-for-adding-to-the-legend-aka-proxy-artists\n",
      "/Users/galraz1/opt/miniconda3/envs/stan_env/lib/python3.7/site-packages/ipykernel_launcher.py:60: UserWarning: Legend does not support 'r' instances.\n",
      "A proxy artist may be used instead.\n",
      "See: https://matplotlib.org/users/legend_guide.html#creating-artists-specifically-for-adding-to-the-legend-aka-proxy-artists\n",
      "/Users/galraz1/opt/miniconda3/envs/stan_env/lib/python3.7/site-packages/ipykernel_launcher.py:60: UserWarning: Legend does not support 'i' instances.\n",
      "A proxy artist may be used instead.\n",
      "See: https://matplotlib.org/users/legend_guide.html#creating-artists-specifically-for-adding-to-the-legend-aka-proxy-artists\n",
      "/Users/galraz1/opt/miniconda3/envs/stan_env/lib/python3.7/site-packages/ipykernel_launcher.py:60: UserWarning: Legend does not support 'o' instances.\n",
      "A proxy artist may be used instead.\n",
      "See: https://matplotlib.org/users/legend_guide.html#creating-artists-specifically-for-adding-to-the-legend-aka-proxy-artists\n",
      "/Users/galraz1/opt/miniconda3/envs/stan_env/lib/python3.7/site-packages/ipykernel_launcher.py:67: UserWarning: Legend does not support 'p' instances.\n",
      "A proxy artist may be used instead.\n",
      "See: https://matplotlib.org/users/legend_guide.html#creating-artists-specifically-for-adding-to-the-legend-aka-proxy-artists\n",
      "/Users/galraz1/opt/miniconda3/envs/stan_env/lib/python3.7/site-packages/ipykernel_launcher.py:67: UserWarning: Legend does not support 'r' instances.\n",
      "A proxy artist may be used instead.\n",
      "See: https://matplotlib.org/users/legend_guide.html#creating-artists-specifically-for-adding-to-the-legend-aka-proxy-artists\n",
      "/Users/galraz1/opt/miniconda3/envs/stan_env/lib/python3.7/site-packages/ipykernel_launcher.py:67: UserWarning: Legend does not support 'i' instances.\n",
      "A proxy artist may be used instead.\n",
      "See: https://matplotlib.org/users/legend_guide.html#creating-artists-specifically-for-adding-to-the-legend-aka-proxy-artists\n",
      "/Users/galraz1/opt/miniconda3/envs/stan_env/lib/python3.7/site-packages/ipykernel_launcher.py:67: UserWarning: Legend does not support 'o' instances.\n",
      "A proxy artist may be used instead.\n",
      "See: https://matplotlib.org/users/legend_guide.html#creating-artists-specifically-for-adding-to-the-legend-aka-proxy-artists\n"
     ]
    },
    {
     "name": "stdout",
     "output_type": "stream",
     "text": [
      "KL: 0.018670201246086506\n",
      "stimulus:  6\n",
      "sample:  18\n",
      "\n",
      "Gradient evaluation took 1.3e-05 seconds\n",
      "1000 transitions using 10 leapfrog steps per transition would take 0.13 seconds.\n",
      "Adjust your expectations accordingly!\n",
      "\n",
      "\n",
      "Iteration:     1 / 20000 [  0%]  (Warmup)\n",
      "Iteration:  2000 / 20000 [ 10%]  (Warmup)\n",
      "Iteration:  4000 / 20000 [ 20%]  (Warmup)\n",
      "Iteration:  4001 / 20000 [ 20%]  (Sampling)\n",
      "Iteration:  6000 / 20000 [ 30%]  (Sampling)\n",
      "Iteration:  8000 / 20000 [ 40%]  (Sampling)\n",
      "Iteration: 10000 / 20000 [ 50%]  (Sampling)\n",
      "Iteration: 12000 / 20000 [ 60%]  (Sampling)\n",
      "Iteration: 14000 / 20000 [ 70%]  (Sampling)\n",
      "Iteration: 16000 / 20000 [ 80%]  (Sampling)\n",
      "Iteration: 18000 / 20000 [ 90%]  (Sampling)\n",
      "Iteration: 20000 / 20000 [100%]  (Sampling)\n",
      "\n",
      " Elapsed Time: 0.147276 seconds (Warm-up)\n",
      "               0.705256 seconds (Sampling)\n",
      "               0.852532 seconds (Total)\n",
      "\n"
     ]
    },
    {
     "name": "stderr",
     "output_type": "stream",
     "text": [
      "/Users/galraz1/opt/miniconda3/envs/stan_env/lib/python3.7/site-packages/ipykernel_launcher.py:60: UserWarning: Legend does not support 'p' instances.\n",
      "A proxy artist may be used instead.\n",
      "See: https://matplotlib.org/users/legend_guide.html#creating-artists-specifically-for-adding-to-the-legend-aka-proxy-artists\n",
      "/Users/galraz1/opt/miniconda3/envs/stan_env/lib/python3.7/site-packages/ipykernel_launcher.py:60: UserWarning: Legend does not support 'r' instances.\n",
      "A proxy artist may be used instead.\n",
      "See: https://matplotlib.org/users/legend_guide.html#creating-artists-specifically-for-adding-to-the-legend-aka-proxy-artists\n",
      "/Users/galraz1/opt/miniconda3/envs/stan_env/lib/python3.7/site-packages/ipykernel_launcher.py:60: UserWarning: Legend does not support 'i' instances.\n",
      "A proxy artist may be used instead.\n",
      "See: https://matplotlib.org/users/legend_guide.html#creating-artists-specifically-for-adding-to-the-legend-aka-proxy-artists\n",
      "/Users/galraz1/opt/miniconda3/envs/stan_env/lib/python3.7/site-packages/ipykernel_launcher.py:60: UserWarning: Legend does not support 'o' instances.\n",
      "A proxy artist may be used instead.\n",
      "See: https://matplotlib.org/users/legend_guide.html#creating-artists-specifically-for-adding-to-the-legend-aka-proxy-artists\n",
      "/Users/galraz1/opt/miniconda3/envs/stan_env/lib/python3.7/site-packages/ipykernel_launcher.py:67: UserWarning: Legend does not support 'p' instances.\n",
      "A proxy artist may be used instead.\n",
      "See: https://matplotlib.org/users/legend_guide.html#creating-artists-specifically-for-adding-to-the-legend-aka-proxy-artists\n",
      "/Users/galraz1/opt/miniconda3/envs/stan_env/lib/python3.7/site-packages/ipykernel_launcher.py:67: UserWarning: Legend does not support 'r' instances.\n",
      "A proxy artist may be used instead.\n",
      "See: https://matplotlib.org/users/legend_guide.html#creating-artists-specifically-for-adding-to-the-legend-aka-proxy-artists\n",
      "/Users/galraz1/opt/miniconda3/envs/stan_env/lib/python3.7/site-packages/ipykernel_launcher.py:67: UserWarning: Legend does not support 'i' instances.\n",
      "A proxy artist may be used instead.\n",
      "See: https://matplotlib.org/users/legend_guide.html#creating-artists-specifically-for-adding-to-the-legend-aka-proxy-artists\n",
      "/Users/galraz1/opt/miniconda3/envs/stan_env/lib/python3.7/site-packages/ipykernel_launcher.py:67: UserWarning: Legend does not support 'o' instances.\n",
      "A proxy artist may be used instead.\n",
      "See: https://matplotlib.org/users/legend_guide.html#creating-artists-specifically-for-adding-to-the-legend-aka-proxy-artists\n"
     ]
    },
    {
     "name": "stdout",
     "output_type": "stream",
     "text": [
      "KL: 0.016189167567956363\n",
      "stimulus:  6\n",
      "sample:  19\n",
      "\n",
      "Gradient evaluation took 1.4e-05 seconds\n",
      "1000 transitions using 10 leapfrog steps per transition would take 0.14 seconds.\n",
      "Adjust your expectations accordingly!\n",
      "\n",
      "\n",
      "Iteration:     1 / 20000 [  0%]  (Warmup)\n",
      "Iteration:  2000 / 20000 [ 10%]  (Warmup)\n",
      "Iteration:  4000 / 20000 [ 20%]  (Warmup)\n",
      "Iteration:  4001 / 20000 [ 20%]  (Sampling)\n",
      "Iteration:  6000 / 20000 [ 30%]  (Sampling)\n",
      "Iteration:  8000 / 20000 [ 40%]  (Sampling)\n",
      "Iteration: 10000 / 20000 [ 50%]  (Sampling)\n",
      "Iteration: 12000 / 20000 [ 60%]  (Sampling)\n",
      "Iteration: 14000 / 20000 [ 70%]  (Sampling)\n",
      "Iteration: 16000 / 20000 [ 80%]  (Sampling)\n",
      "Iteration: 18000 / 20000 [ 90%]  (Sampling)\n",
      "Iteration: 20000 / 20000 [100%]  (Sampling)\n",
      "\n",
      " Elapsed Time: 0.151775 seconds (Warm-up)\n",
      "               0.563363 seconds (Sampling)\n",
      "               0.715138 seconds (Total)\n",
      "\n"
     ]
    },
    {
     "name": "stderr",
     "output_type": "stream",
     "text": [
      "/Users/galraz1/opt/miniconda3/envs/stan_env/lib/python3.7/site-packages/ipykernel_launcher.py:60: UserWarning: Legend does not support 'p' instances.\n",
      "A proxy artist may be used instead.\n",
      "See: https://matplotlib.org/users/legend_guide.html#creating-artists-specifically-for-adding-to-the-legend-aka-proxy-artists\n",
      "/Users/galraz1/opt/miniconda3/envs/stan_env/lib/python3.7/site-packages/ipykernel_launcher.py:60: UserWarning: Legend does not support 'r' instances.\n",
      "A proxy artist may be used instead.\n",
      "See: https://matplotlib.org/users/legend_guide.html#creating-artists-specifically-for-adding-to-the-legend-aka-proxy-artists\n",
      "/Users/galraz1/opt/miniconda3/envs/stan_env/lib/python3.7/site-packages/ipykernel_launcher.py:60: UserWarning: Legend does not support 'i' instances.\n",
      "A proxy artist may be used instead.\n",
      "See: https://matplotlib.org/users/legend_guide.html#creating-artists-specifically-for-adding-to-the-legend-aka-proxy-artists\n",
      "/Users/galraz1/opt/miniconda3/envs/stan_env/lib/python3.7/site-packages/ipykernel_launcher.py:60: UserWarning: Legend does not support 'o' instances.\n",
      "A proxy artist may be used instead.\n",
      "See: https://matplotlib.org/users/legend_guide.html#creating-artists-specifically-for-adding-to-the-legend-aka-proxy-artists\n",
      "/Users/galraz1/opt/miniconda3/envs/stan_env/lib/python3.7/site-packages/ipykernel_launcher.py:67: UserWarning: Legend does not support 'p' instances.\n",
      "A proxy artist may be used instead.\n",
      "See: https://matplotlib.org/users/legend_guide.html#creating-artists-specifically-for-adding-to-the-legend-aka-proxy-artists\n",
      "/Users/galraz1/opt/miniconda3/envs/stan_env/lib/python3.7/site-packages/ipykernel_launcher.py:67: UserWarning: Legend does not support 'r' instances.\n",
      "A proxy artist may be used instead.\n",
      "See: https://matplotlib.org/users/legend_guide.html#creating-artists-specifically-for-adding-to-the-legend-aka-proxy-artists\n",
      "/Users/galraz1/opt/miniconda3/envs/stan_env/lib/python3.7/site-packages/ipykernel_launcher.py:67: UserWarning: Legend does not support 'i' instances.\n",
      "A proxy artist may be used instead.\n",
      "See: https://matplotlib.org/users/legend_guide.html#creating-artists-specifically-for-adding-to-the-legend-aka-proxy-artists\n",
      "/Users/galraz1/opt/miniconda3/envs/stan_env/lib/python3.7/site-packages/ipykernel_launcher.py:67: UserWarning: Legend does not support 'o' instances.\n",
      "A proxy artist may be used instead.\n",
      "See: https://matplotlib.org/users/legend_guide.html#creating-artists-specifically-for-adding-to-the-legend-aka-proxy-artists\n"
     ]
    },
    {
     "name": "stdout",
     "output_type": "stream",
     "text": [
      "KL: -0.015717687552024864\n",
      "model run:  4\n",
      "stimulus:  1\n",
      "sample:  1\n"
     ]
    },
    {
     "name": "stderr",
     "output_type": "stream",
     "text": [
      "WARNING:pystan:59 of 16000 iterations ended with a divergence (0.369 %).\n",
      "WARNING:pystan:Try running with adapt_delta larger than 0.95 to remove the divergences.\n"
     ]
    },
    {
     "name": "stdout",
     "output_type": "stream",
     "text": [
      "\n",
      "Gradient evaluation took 1.2e-05 seconds\n",
      "1000 transitions using 10 leapfrog steps per transition would take 0.12 seconds.\n",
      "Adjust your expectations accordingly!\n",
      "\n",
      "\n",
      "Iteration:     1 / 20000 [  0%]  (Warmup)\n",
      "Iteration:  2000 / 20000 [ 10%]  (Warmup)\n",
      "Iteration:  4000 / 20000 [ 20%]  (Warmup)\n",
      "Iteration:  4001 / 20000 [ 20%]  (Sampling)\n",
      "Iteration:  6000 / 20000 [ 30%]  (Sampling)\n",
      "Iteration:  8000 / 20000 [ 40%]  (Sampling)\n",
      "Iteration: 10000 / 20000 [ 50%]  (Sampling)\n",
      "Iteration: 12000 / 20000 [ 60%]  (Sampling)\n",
      "Iteration: 14000 / 20000 [ 70%]  (Sampling)\n",
      "Iteration: 16000 / 20000 [ 80%]  (Sampling)\n",
      "Iteration: 18000 / 20000 [ 90%]  (Sampling)\n",
      "Iteration: 20000 / 20000 [100%]  (Sampling)\n",
      "\n",
      " Elapsed Time: 0.096104 seconds (Warm-up)\n",
      "               0.696106 seconds (Sampling)\n",
      "               0.79221 seconds (Total)\n",
      "\n"
     ]
    },
    {
     "name": "stderr",
     "output_type": "stream",
     "text": [
      "/Users/galraz1/opt/miniconda3/envs/stan_env/lib/python3.7/site-packages/ipykernel_launcher.py:60: UserWarning: Legend does not support 'p' instances.\n",
      "A proxy artist may be used instead.\n",
      "See: https://matplotlib.org/users/legend_guide.html#creating-artists-specifically-for-adding-to-the-legend-aka-proxy-artists\n",
      "/Users/galraz1/opt/miniconda3/envs/stan_env/lib/python3.7/site-packages/ipykernel_launcher.py:60: UserWarning: Legend does not support 'r' instances.\n",
      "A proxy artist may be used instead.\n",
      "See: https://matplotlib.org/users/legend_guide.html#creating-artists-specifically-for-adding-to-the-legend-aka-proxy-artists\n",
      "/Users/galraz1/opt/miniconda3/envs/stan_env/lib/python3.7/site-packages/ipykernel_launcher.py:60: UserWarning: Legend does not support 'i' instances.\n",
      "A proxy artist may be used instead.\n",
      "See: https://matplotlib.org/users/legend_guide.html#creating-artists-specifically-for-adding-to-the-legend-aka-proxy-artists\n",
      "/Users/galraz1/opt/miniconda3/envs/stan_env/lib/python3.7/site-packages/ipykernel_launcher.py:60: UserWarning: Legend does not support 'o' instances.\n",
      "A proxy artist may be used instead.\n",
      "See: https://matplotlib.org/users/legend_guide.html#creating-artists-specifically-for-adding-to-the-legend-aka-proxy-artists\n",
      "/Users/galraz1/opt/miniconda3/envs/stan_env/lib/python3.7/site-packages/ipykernel_launcher.py:67: UserWarning: Legend does not support 'p' instances.\n",
      "A proxy artist may be used instead.\n",
      "See: https://matplotlib.org/users/legend_guide.html#creating-artists-specifically-for-adding-to-the-legend-aka-proxy-artists\n",
      "/Users/galraz1/opt/miniconda3/envs/stan_env/lib/python3.7/site-packages/ipykernel_launcher.py:67: UserWarning: Legend does not support 'r' instances.\n",
      "A proxy artist may be used instead.\n",
      "See: https://matplotlib.org/users/legend_guide.html#creating-artists-specifically-for-adding-to-the-legend-aka-proxy-artists\n",
      "/Users/galraz1/opt/miniconda3/envs/stan_env/lib/python3.7/site-packages/ipykernel_launcher.py:67: UserWarning: Legend does not support 'i' instances.\n",
      "A proxy artist may be used instead.\n",
      "See: https://matplotlib.org/users/legend_guide.html#creating-artists-specifically-for-adding-to-the-legend-aka-proxy-artists\n",
      "/Users/galraz1/opt/miniconda3/envs/stan_env/lib/python3.7/site-packages/ipykernel_launcher.py:67: UserWarning: Legend does not support 'o' instances.\n",
      "A proxy artist may be used instead.\n",
      "See: https://matplotlib.org/users/legend_guide.html#creating-artists-specifically-for-adding-to-the-legend-aka-proxy-artists\n"
     ]
    },
    {
     "name": "stdout",
     "output_type": "stream",
     "text": [
      "KL: 1.4110257929608825\n",
      "stimulus:  1\n",
      "sample:  2\n",
      "\n",
      "Gradient evaluation took 1e-05 seconds\n",
      "1000 transitions using 10 leapfrog steps per transition would take 0.1 seconds.\n",
      "Adjust your expectations accordingly!\n",
      "\n",
      "\n"
     ]
    },
    {
     "name": "stderr",
     "output_type": "stream",
     "text": [
      "WARNING:pystan:133 of 16000 iterations ended with a divergence (0.831 %).\n",
      "WARNING:pystan:Try running with adapt_delta larger than 0.95 to remove the divergences.\n"
     ]
    },
    {
     "name": "stdout",
     "output_type": "stream",
     "text": [
      "Iteration:     1 / 20000 [  0%]  (Warmup)\n",
      "Iteration:  2000 / 20000 [ 10%]  (Warmup)\n",
      "Iteration:  4000 / 20000 [ 20%]  (Warmup)\n",
      "Iteration:  4001 / 20000 [ 20%]  (Sampling)\n",
      "Iteration:  6000 / 20000 [ 30%]  (Sampling)\n",
      "Iteration:  8000 / 20000 [ 40%]  (Sampling)\n",
      "Iteration: 10000 / 20000 [ 50%]  (Sampling)\n",
      "Iteration: 12000 / 20000 [ 60%]  (Sampling)\n",
      "Iteration: 14000 / 20000 [ 70%]  (Sampling)\n",
      "Iteration: 16000 / 20000 [ 80%]  (Sampling)\n",
      "Iteration: 18000 / 20000 [ 90%]  (Sampling)\n",
      "Iteration: 20000 / 20000 [100%]  (Sampling)\n",
      "\n",
      " Elapsed Time: 0.087453 seconds (Warm-up)\n",
      "               0.295784 seconds (Sampling)\n",
      "               0.383237 seconds (Total)\n",
      "\n"
     ]
    },
    {
     "name": "stderr",
     "output_type": "stream",
     "text": [
      "/Users/galraz1/opt/miniconda3/envs/stan_env/lib/python3.7/site-packages/ipykernel_launcher.py:60: UserWarning: Legend does not support 'p' instances.\n",
      "A proxy artist may be used instead.\n",
      "See: https://matplotlib.org/users/legend_guide.html#creating-artists-specifically-for-adding-to-the-legend-aka-proxy-artists\n",
      "/Users/galraz1/opt/miniconda3/envs/stan_env/lib/python3.7/site-packages/ipykernel_launcher.py:60: UserWarning: Legend does not support 'r' instances.\n",
      "A proxy artist may be used instead.\n",
      "See: https://matplotlib.org/users/legend_guide.html#creating-artists-specifically-for-adding-to-the-legend-aka-proxy-artists\n",
      "/Users/galraz1/opt/miniconda3/envs/stan_env/lib/python3.7/site-packages/ipykernel_launcher.py:60: UserWarning: Legend does not support 'i' instances.\n",
      "A proxy artist may be used instead.\n",
      "See: https://matplotlib.org/users/legend_guide.html#creating-artists-specifically-for-adding-to-the-legend-aka-proxy-artists\n",
      "/Users/galraz1/opt/miniconda3/envs/stan_env/lib/python3.7/site-packages/ipykernel_launcher.py:60: UserWarning: Legend does not support 'o' instances.\n",
      "A proxy artist may be used instead.\n",
      "See: https://matplotlib.org/users/legend_guide.html#creating-artists-specifically-for-adding-to-the-legend-aka-proxy-artists\n",
      "/Users/galraz1/opt/miniconda3/envs/stan_env/lib/python3.7/site-packages/ipykernel_launcher.py:67: UserWarning: Legend does not support 'p' instances.\n",
      "A proxy artist may be used instead.\n",
      "See: https://matplotlib.org/users/legend_guide.html#creating-artists-specifically-for-adding-to-the-legend-aka-proxy-artists\n",
      "/Users/galraz1/opt/miniconda3/envs/stan_env/lib/python3.7/site-packages/ipykernel_launcher.py:67: UserWarning: Legend does not support 'r' instances.\n",
      "A proxy artist may be used instead.\n",
      "See: https://matplotlib.org/users/legend_guide.html#creating-artists-specifically-for-adding-to-the-legend-aka-proxy-artists\n",
      "/Users/galraz1/opt/miniconda3/envs/stan_env/lib/python3.7/site-packages/ipykernel_launcher.py:67: UserWarning: Legend does not support 'i' instances.\n",
      "A proxy artist may be used instead.\n",
      "See: https://matplotlib.org/users/legend_guide.html#creating-artists-specifically-for-adding-to-the-legend-aka-proxy-artists\n",
      "/Users/galraz1/opt/miniconda3/envs/stan_env/lib/python3.7/site-packages/ipykernel_launcher.py:67: UserWarning: Legend does not support 'o' instances.\n",
      "A proxy artist may be used instead.\n",
      "See: https://matplotlib.org/users/legend_guide.html#creating-artists-specifically-for-adding-to-the-legend-aka-proxy-artists\n"
     ]
    },
    {
     "name": "stdout",
     "output_type": "stream",
     "text": [
      "KL: 0.08245781121495128\n",
      "stimulus:  1\n",
      "sample:  3\n"
     ]
    },
    {
     "name": "stderr",
     "output_type": "stream",
     "text": [
      "WARNING:pystan:56 of 16000 iterations ended with a divergence (0.35 %).\n",
      "WARNING:pystan:Try running with adapt_delta larger than 0.95 to remove the divergences.\n"
     ]
    },
    {
     "name": "stdout",
     "output_type": "stream",
     "text": [
      "\n",
      "Gradient evaluation took 1.1e-05 seconds\n",
      "1000 transitions using 10 leapfrog steps per transition would take 0.11 seconds.\n",
      "Adjust your expectations accordingly!\n",
      "\n",
      "\n",
      "Iteration:     1 / 20000 [  0%]  (Warmup)\n",
      "Iteration:  2000 / 20000 [ 10%]  (Warmup)\n",
      "Iteration:  4000 / 20000 [ 20%]  (Warmup)\n",
      "Iteration:  4001 / 20000 [ 20%]  (Sampling)\n",
      "Iteration:  6000 / 20000 [ 30%]  (Sampling)\n",
      "Iteration:  8000 / 20000 [ 40%]  (Sampling)\n",
      "Iteration: 10000 / 20000 [ 50%]  (Sampling)\n",
      "Iteration: 12000 / 20000 [ 60%]  (Sampling)\n",
      "Iteration: 14000 / 20000 [ 70%]  (Sampling)\n",
      "Iteration: 16000 / 20000 [ 80%]  (Sampling)\n",
      "Iteration: 18000 / 20000 [ 90%]  (Sampling)\n",
      "Iteration: 20000 / 20000 [100%]  (Sampling)\n",
      "\n",
      " Elapsed Time: 0.093226 seconds (Warm-up)\n",
      "               0.380284 seconds (Sampling)\n",
      "               0.47351 seconds (Total)\n",
      "\n"
     ]
    },
    {
     "name": "stderr",
     "output_type": "stream",
     "text": [
      "/Users/galraz1/opt/miniconda3/envs/stan_env/lib/python3.7/site-packages/ipykernel_launcher.py:60: UserWarning: Legend does not support 'p' instances.\n",
      "A proxy artist may be used instead.\n",
      "See: https://matplotlib.org/users/legend_guide.html#creating-artists-specifically-for-adding-to-the-legend-aka-proxy-artists\n",
      "/Users/galraz1/opt/miniconda3/envs/stan_env/lib/python3.7/site-packages/ipykernel_launcher.py:60: UserWarning: Legend does not support 'r' instances.\n",
      "A proxy artist may be used instead.\n",
      "See: https://matplotlib.org/users/legend_guide.html#creating-artists-specifically-for-adding-to-the-legend-aka-proxy-artists\n",
      "/Users/galraz1/opt/miniconda3/envs/stan_env/lib/python3.7/site-packages/ipykernel_launcher.py:60: UserWarning: Legend does not support 'i' instances.\n",
      "A proxy artist may be used instead.\n",
      "See: https://matplotlib.org/users/legend_guide.html#creating-artists-specifically-for-adding-to-the-legend-aka-proxy-artists\n",
      "/Users/galraz1/opt/miniconda3/envs/stan_env/lib/python3.7/site-packages/ipykernel_launcher.py:60: UserWarning: Legend does not support 'o' instances.\n",
      "A proxy artist may be used instead.\n",
      "See: https://matplotlib.org/users/legend_guide.html#creating-artists-specifically-for-adding-to-the-legend-aka-proxy-artists\n",
      "/Users/galraz1/opt/miniconda3/envs/stan_env/lib/python3.7/site-packages/ipykernel_launcher.py:67: UserWarning: Legend does not support 'p' instances.\n",
      "A proxy artist may be used instead.\n",
      "See: https://matplotlib.org/users/legend_guide.html#creating-artists-specifically-for-adding-to-the-legend-aka-proxy-artists\n",
      "/Users/galraz1/opt/miniconda3/envs/stan_env/lib/python3.7/site-packages/ipykernel_launcher.py:67: UserWarning: Legend does not support 'r' instances.\n",
      "A proxy artist may be used instead.\n",
      "See: https://matplotlib.org/users/legend_guide.html#creating-artists-specifically-for-adding-to-the-legend-aka-proxy-artists\n",
      "/Users/galraz1/opt/miniconda3/envs/stan_env/lib/python3.7/site-packages/ipykernel_launcher.py:67: UserWarning: Legend does not support 'i' instances.\n",
      "A proxy artist may be used instead.\n",
      "See: https://matplotlib.org/users/legend_guide.html#creating-artists-specifically-for-adding-to-the-legend-aka-proxy-artists\n",
      "/Users/galraz1/opt/miniconda3/envs/stan_env/lib/python3.7/site-packages/ipykernel_launcher.py:67: UserWarning: Legend does not support 'o' instances.\n",
      "A proxy artist may be used instead.\n",
      "See: https://matplotlib.org/users/legend_guide.html#creating-artists-specifically-for-adding-to-the-legend-aka-proxy-artists\n"
     ]
    },
    {
     "name": "stdout",
     "output_type": "stream",
     "text": [
      "KL: -0.0012536804881193324\n",
      "stimulus:  2\n",
      "sample:  4\n",
      "\n"
     ]
    },
    {
     "name": "stderr",
     "output_type": "stream",
     "text": [
      "WARNING:pystan:158 of 16000 iterations ended with a divergence (0.988 %).\n",
      "WARNING:pystan:Try running with adapt_delta larger than 0.95 to remove the divergences.\n"
     ]
    },
    {
     "name": "stdout",
     "output_type": "stream",
     "text": [
      "Gradient evaluation took 1.1e-05 seconds\n",
      "1000 transitions using 10 leapfrog steps per transition would take 0.11 seconds.\n",
      "Adjust your expectations accordingly!\n",
      "\n",
      "\n",
      "Iteration:     1 / 20000 [  0%]  (Warmup)\n",
      "Iteration:  2000 / 20000 [ 10%]  (Warmup)\n",
      "Iteration:  4000 / 20000 [ 20%]  (Warmup)\n",
      "Iteration:  4001 / 20000 [ 20%]  (Sampling)\n",
      "Iteration:  6000 / 20000 [ 30%]  (Sampling)\n",
      "Iteration:  8000 / 20000 [ 40%]  (Sampling)\n",
      "Iteration: 10000 / 20000 [ 50%]  (Sampling)\n",
      "Iteration: 12000 / 20000 [ 60%]  (Sampling)\n",
      "Iteration: 14000 / 20000 [ 70%]  (Sampling)\n",
      "Iteration: 16000 / 20000 [ 80%]  (Sampling)\n",
      "Iteration: 18000 / 20000 [ 90%]  (Sampling)\n",
      "Iteration: 20000 / 20000 [100%]  (Sampling)\n",
      "\n",
      " Elapsed Time: 0.132793 seconds (Warm-up)\n",
      "               0.599138 seconds (Sampling)\n",
      "               0.731931 seconds (Total)\n",
      "\n"
     ]
    },
    {
     "name": "stderr",
     "output_type": "stream",
     "text": [
      "/Users/galraz1/opt/miniconda3/envs/stan_env/lib/python3.7/site-packages/ipykernel_launcher.py:60: UserWarning: Legend does not support 'p' instances.\n",
      "A proxy artist may be used instead.\n",
      "See: https://matplotlib.org/users/legend_guide.html#creating-artists-specifically-for-adding-to-the-legend-aka-proxy-artists\n",
      "/Users/galraz1/opt/miniconda3/envs/stan_env/lib/python3.7/site-packages/ipykernel_launcher.py:60: UserWarning: Legend does not support 'r' instances.\n",
      "A proxy artist may be used instead.\n",
      "See: https://matplotlib.org/users/legend_guide.html#creating-artists-specifically-for-adding-to-the-legend-aka-proxy-artists\n",
      "/Users/galraz1/opt/miniconda3/envs/stan_env/lib/python3.7/site-packages/ipykernel_launcher.py:60: UserWarning: Legend does not support 'i' instances.\n",
      "A proxy artist may be used instead.\n",
      "See: https://matplotlib.org/users/legend_guide.html#creating-artists-specifically-for-adding-to-the-legend-aka-proxy-artists\n",
      "/Users/galraz1/opt/miniconda3/envs/stan_env/lib/python3.7/site-packages/ipykernel_launcher.py:60: UserWarning: Legend does not support 'o' instances.\n",
      "A proxy artist may be used instead.\n",
      "See: https://matplotlib.org/users/legend_guide.html#creating-artists-specifically-for-adding-to-the-legend-aka-proxy-artists\n",
      "/Users/galraz1/opt/miniconda3/envs/stan_env/lib/python3.7/site-packages/ipykernel_launcher.py:67: UserWarning: Legend does not support 'p' instances.\n",
      "A proxy artist may be used instead.\n",
      "See: https://matplotlib.org/users/legend_guide.html#creating-artists-specifically-for-adding-to-the-legend-aka-proxy-artists\n",
      "/Users/galraz1/opt/miniconda3/envs/stan_env/lib/python3.7/site-packages/ipykernel_launcher.py:67: UserWarning: Legend does not support 'r' instances.\n",
      "A proxy artist may be used instead.\n",
      "See: https://matplotlib.org/users/legend_guide.html#creating-artists-specifically-for-adding-to-the-legend-aka-proxy-artists\n",
      "/Users/galraz1/opt/miniconda3/envs/stan_env/lib/python3.7/site-packages/ipykernel_launcher.py:67: UserWarning: Legend does not support 'i' instances.\n",
      "A proxy artist may be used instead.\n",
      "See: https://matplotlib.org/users/legend_guide.html#creating-artists-specifically-for-adding-to-the-legend-aka-proxy-artists\n",
      "/Users/galraz1/opt/miniconda3/envs/stan_env/lib/python3.7/site-packages/ipykernel_launcher.py:67: UserWarning: Legend does not support 'o' instances.\n",
      "A proxy artist may be used instead.\n",
      "See: https://matplotlib.org/users/legend_guide.html#creating-artists-specifically-for-adding-to-the-legend-aka-proxy-artists\n"
     ]
    },
    {
     "name": "stdout",
     "output_type": "stream",
     "text": [
      "KL: 0.1511982222720704\n",
      "stimulus:  2\n",
      "sample:  5\n"
     ]
    },
    {
     "name": "stderr",
     "output_type": "stream",
     "text": [
      "WARNING:pystan:213 of 16000 iterations ended with a divergence (1.33 %).\n",
      "WARNING:pystan:Try running with adapt_delta larger than 0.95 to remove the divergences.\n"
     ]
    },
    {
     "name": "stdout",
     "output_type": "stream",
     "text": [
      "\n",
      "Gradient evaluation took 1.3e-05 seconds\n",
      "1000 transitions using 10 leapfrog steps per transition would take 0.13 seconds.\n",
      "Adjust your expectations accordingly!\n",
      "\n",
      "\n",
      "Iteration:     1 / 20000 [  0%]  (Warmup)\n",
      "Iteration:  2000 / 20000 [ 10%]  (Warmup)\n",
      "Iteration:  4000 / 20000 [ 20%]  (Warmup)\n",
      "Iteration:  4001 / 20000 [ 20%]  (Sampling)\n",
      "Iteration:  6000 / 20000 [ 30%]  (Sampling)\n",
      "Iteration:  8000 / 20000 [ 40%]  (Sampling)\n",
      "Iteration: 10000 / 20000 [ 50%]  (Sampling)\n",
      "Iteration: 12000 / 20000 [ 60%]  (Sampling)\n",
      "Iteration: 14000 / 20000 [ 70%]  (Sampling)\n",
      "Iteration: 16000 / 20000 [ 80%]  (Sampling)\n",
      "Iteration: 18000 / 20000 [ 90%]  (Sampling)\n",
      "Iteration: 20000 / 20000 [100%]  (Sampling)\n",
      "\n",
      " Elapsed Time: 0.146244 seconds (Warm-up)\n",
      "               0.517354 seconds (Sampling)\n",
      "               0.663598 seconds (Total)\n",
      "\n"
     ]
    },
    {
     "name": "stderr",
     "output_type": "stream",
     "text": [
      "/Users/galraz1/opt/miniconda3/envs/stan_env/lib/python3.7/site-packages/ipykernel_launcher.py:60: UserWarning: Legend does not support 'p' instances.\n",
      "A proxy artist may be used instead.\n",
      "See: https://matplotlib.org/users/legend_guide.html#creating-artists-specifically-for-adding-to-the-legend-aka-proxy-artists\n",
      "/Users/galraz1/opt/miniconda3/envs/stan_env/lib/python3.7/site-packages/ipykernel_launcher.py:60: UserWarning: Legend does not support 'r' instances.\n",
      "A proxy artist may be used instead.\n",
      "See: https://matplotlib.org/users/legend_guide.html#creating-artists-specifically-for-adding-to-the-legend-aka-proxy-artists\n",
      "/Users/galraz1/opt/miniconda3/envs/stan_env/lib/python3.7/site-packages/ipykernel_launcher.py:60: UserWarning: Legend does not support 'i' instances.\n",
      "A proxy artist may be used instead.\n",
      "See: https://matplotlib.org/users/legend_guide.html#creating-artists-specifically-for-adding-to-the-legend-aka-proxy-artists\n",
      "/Users/galraz1/opt/miniconda3/envs/stan_env/lib/python3.7/site-packages/ipykernel_launcher.py:60: UserWarning: Legend does not support 'o' instances.\n",
      "A proxy artist may be used instead.\n",
      "See: https://matplotlib.org/users/legend_guide.html#creating-artists-specifically-for-adding-to-the-legend-aka-proxy-artists\n",
      "/Users/galraz1/opt/miniconda3/envs/stan_env/lib/python3.7/site-packages/ipykernel_launcher.py:67: UserWarning: Legend does not support 'p' instances.\n",
      "A proxy artist may be used instead.\n",
      "See: https://matplotlib.org/users/legend_guide.html#creating-artists-specifically-for-adding-to-the-legend-aka-proxy-artists\n",
      "/Users/galraz1/opt/miniconda3/envs/stan_env/lib/python3.7/site-packages/ipykernel_launcher.py:67: UserWarning: Legend does not support 'r' instances.\n",
      "A proxy artist may be used instead.\n",
      "See: https://matplotlib.org/users/legend_guide.html#creating-artists-specifically-for-adding-to-the-legend-aka-proxy-artists\n",
      "/Users/galraz1/opt/miniconda3/envs/stan_env/lib/python3.7/site-packages/ipykernel_launcher.py:67: UserWarning: Legend does not support 'i' instances.\n",
      "A proxy artist may be used instead.\n",
      "See: https://matplotlib.org/users/legend_guide.html#creating-artists-specifically-for-adding-to-the-legend-aka-proxy-artists\n",
      "/Users/galraz1/opt/miniconda3/envs/stan_env/lib/python3.7/site-packages/ipykernel_launcher.py:67: UserWarning: Legend does not support 'o' instances.\n",
      "A proxy artist may be used instead.\n",
      "See: https://matplotlib.org/users/legend_guide.html#creating-artists-specifically-for-adding-to-the-legend-aka-proxy-artists\n",
      "WARNING:pystan:187 of 16000 iterations ended with a divergence (1.17 %).\n",
      "WARNING:pystan:Try running with adapt_delta larger than 0.95 to remove the divergences.\n"
     ]
    },
    {
     "name": "stdout",
     "output_type": "stream",
     "text": [
      "KL: 0.0453151444198977\n",
      "stimulus:  2\n",
      "sample:  6\n",
      "\n",
      "Gradient evaluation took 1.2e-05 seconds\n",
      "1000 transitions using 10 leapfrog steps per transition would take 0.12 seconds.\n",
      "Adjust your expectations accordingly!\n",
      "\n",
      "\n",
      "Iteration:     1 / 20000 [  0%]  (Warmup)\n",
      "Iteration:  2000 / 20000 [ 10%]  (Warmup)\n",
      "Iteration:  4000 / 20000 [ 20%]  (Warmup)\n",
      "Iteration:  4001 / 20000 [ 20%]  (Sampling)\n",
      "Iteration:  6000 / 20000 [ 30%]  (Sampling)\n",
      "Iteration:  8000 / 20000 [ 40%]  (Sampling)\n",
      "Iteration: 10000 / 20000 [ 50%]  (Sampling)\n",
      "Iteration: 12000 / 20000 [ 60%]  (Sampling)\n",
      "Iteration: 14000 / 20000 [ 70%]  (Sampling)\n",
      "Iteration: 16000 / 20000 [ 80%]  (Sampling)\n",
      "Iteration: 18000 / 20000 [ 90%]  (Sampling)\n",
      "Iteration: 20000 / 20000 [100%]  (Sampling)\n",
      "\n",
      " Elapsed Time: 0.168869 seconds (Warm-up)\n",
      "               0.595047 seconds (Sampling)\n",
      "               0.763916 seconds (Total)\n",
      "\n"
     ]
    },
    {
     "name": "stderr",
     "output_type": "stream",
     "text": [
      "/Users/galraz1/opt/miniconda3/envs/stan_env/lib/python3.7/site-packages/ipykernel_launcher.py:60: UserWarning: Legend does not support 'p' instances.\n",
      "A proxy artist may be used instead.\n",
      "See: https://matplotlib.org/users/legend_guide.html#creating-artists-specifically-for-adding-to-the-legend-aka-proxy-artists\n",
      "/Users/galraz1/opt/miniconda3/envs/stan_env/lib/python3.7/site-packages/ipykernel_launcher.py:60: UserWarning: Legend does not support 'r' instances.\n",
      "A proxy artist may be used instead.\n",
      "See: https://matplotlib.org/users/legend_guide.html#creating-artists-specifically-for-adding-to-the-legend-aka-proxy-artists\n",
      "/Users/galraz1/opt/miniconda3/envs/stan_env/lib/python3.7/site-packages/ipykernel_launcher.py:60: UserWarning: Legend does not support 'i' instances.\n",
      "A proxy artist may be used instead.\n",
      "See: https://matplotlib.org/users/legend_guide.html#creating-artists-specifically-for-adding-to-the-legend-aka-proxy-artists\n",
      "/Users/galraz1/opt/miniconda3/envs/stan_env/lib/python3.7/site-packages/ipykernel_launcher.py:60: UserWarning: Legend does not support 'o' instances.\n",
      "A proxy artist may be used instead.\n",
      "See: https://matplotlib.org/users/legend_guide.html#creating-artists-specifically-for-adding-to-the-legend-aka-proxy-artists\n",
      "/Users/galraz1/opt/miniconda3/envs/stan_env/lib/python3.7/site-packages/ipykernel_launcher.py:67: UserWarning: Legend does not support 'p' instances.\n",
      "A proxy artist may be used instead.\n",
      "See: https://matplotlib.org/users/legend_guide.html#creating-artists-specifically-for-adding-to-the-legend-aka-proxy-artists\n",
      "/Users/galraz1/opt/miniconda3/envs/stan_env/lib/python3.7/site-packages/ipykernel_launcher.py:67: UserWarning: Legend does not support 'r' instances.\n",
      "A proxy artist may be used instead.\n",
      "See: https://matplotlib.org/users/legend_guide.html#creating-artists-specifically-for-adding-to-the-legend-aka-proxy-artists\n",
      "/Users/galraz1/opt/miniconda3/envs/stan_env/lib/python3.7/site-packages/ipykernel_launcher.py:67: UserWarning: Legend does not support 'i' instances.\n",
      "A proxy artist may be used instead.\n",
      "See: https://matplotlib.org/users/legend_guide.html#creating-artists-specifically-for-adding-to-the-legend-aka-proxy-artists\n",
      "/Users/galraz1/opt/miniconda3/envs/stan_env/lib/python3.7/site-packages/ipykernel_launcher.py:67: UserWarning: Legend does not support 'o' instances.\n",
      "A proxy artist may be used instead.\n",
      "See: https://matplotlib.org/users/legend_guide.html#creating-artists-specifically-for-adding-to-the-legend-aka-proxy-artists\n"
     ]
    },
    {
     "name": "stdout",
     "output_type": "stream",
     "text": [
      "KL: 0.02997423464505947\n",
      "stimulus:  2\n",
      "sample:  7\n"
     ]
    },
    {
     "name": "stderr",
     "output_type": "stream",
     "text": [
      "WARNING:pystan:514 of 16000 iterations ended with a divergence (3.21 %).\n",
      "WARNING:pystan:Try running with adapt_delta larger than 0.95 to remove the divergences.\n"
     ]
    },
    {
     "name": "stdout",
     "output_type": "stream",
     "text": [
      "\n",
      "Gradient evaluation took 2.5e-05 seconds\n",
      "1000 transitions using 10 leapfrog steps per transition would take 0.25 seconds.\n",
      "Adjust your expectations accordingly!\n",
      "\n",
      "\n",
      "Iteration:     1 / 20000 [  0%]  (Warmup)\n",
      "Iteration:  2000 / 20000 [ 10%]  (Warmup)\n",
      "Iteration:  4000 / 20000 [ 20%]  (Warmup)\n",
      "Iteration:  4001 / 20000 [ 20%]  (Sampling)\n",
      "Iteration:  6000 / 20000 [ 30%]  (Sampling)\n",
      "Iteration:  8000 / 20000 [ 40%]  (Sampling)\n",
      "Iteration: 10000 / 20000 [ 50%]  (Sampling)\n",
      "Iteration: 12000 / 20000 [ 60%]  (Sampling)\n",
      "Iteration: 14000 / 20000 [ 70%]  (Sampling)\n",
      "Iteration: 16000 / 20000 [ 80%]  (Sampling)\n",
      "Iteration: 18000 / 20000 [ 90%]  (Sampling)\n",
      "Iteration: 20000 / 20000 [100%]  (Sampling)\n",
      "\n",
      " Elapsed Time: 0.204826 seconds (Warm-up)\n",
      "               0.718994 seconds (Sampling)\n",
      "               0.92382 seconds (Total)\n",
      "\n"
     ]
    },
    {
     "name": "stderr",
     "output_type": "stream",
     "text": [
      "/Users/galraz1/opt/miniconda3/envs/stan_env/lib/python3.7/site-packages/ipykernel_launcher.py:60: UserWarning: Legend does not support 'p' instances.\n",
      "A proxy artist may be used instead.\n",
      "See: https://matplotlib.org/users/legend_guide.html#creating-artists-specifically-for-adding-to-the-legend-aka-proxy-artists\n",
      "/Users/galraz1/opt/miniconda3/envs/stan_env/lib/python3.7/site-packages/ipykernel_launcher.py:60: UserWarning: Legend does not support 'r' instances.\n",
      "A proxy artist may be used instead.\n",
      "See: https://matplotlib.org/users/legend_guide.html#creating-artists-specifically-for-adding-to-the-legend-aka-proxy-artists\n",
      "/Users/galraz1/opt/miniconda3/envs/stan_env/lib/python3.7/site-packages/ipykernel_launcher.py:60: UserWarning: Legend does not support 'i' instances.\n",
      "A proxy artist may be used instead.\n",
      "See: https://matplotlib.org/users/legend_guide.html#creating-artists-specifically-for-adding-to-the-legend-aka-proxy-artists\n",
      "/Users/galraz1/opt/miniconda3/envs/stan_env/lib/python3.7/site-packages/ipykernel_launcher.py:60: UserWarning: Legend does not support 'o' instances.\n",
      "A proxy artist may be used instead.\n",
      "See: https://matplotlib.org/users/legend_guide.html#creating-artists-specifically-for-adding-to-the-legend-aka-proxy-artists\n",
      "/Users/galraz1/opt/miniconda3/envs/stan_env/lib/python3.7/site-packages/ipykernel_launcher.py:67: UserWarning: Legend does not support 'p' instances.\n",
      "A proxy artist may be used instead.\n",
      "See: https://matplotlib.org/users/legend_guide.html#creating-artists-specifically-for-adding-to-the-legend-aka-proxy-artists\n",
      "/Users/galraz1/opt/miniconda3/envs/stan_env/lib/python3.7/site-packages/ipykernel_launcher.py:67: UserWarning: Legend does not support 'r' instances.\n",
      "A proxy artist may be used instead.\n",
      "See: https://matplotlib.org/users/legend_guide.html#creating-artists-specifically-for-adding-to-the-legend-aka-proxy-artists\n",
      "/Users/galraz1/opt/miniconda3/envs/stan_env/lib/python3.7/site-packages/ipykernel_launcher.py:67: UserWarning: Legend does not support 'i' instances.\n",
      "A proxy artist may be used instead.\n",
      "See: https://matplotlib.org/users/legend_guide.html#creating-artists-specifically-for-adding-to-the-legend-aka-proxy-artists\n",
      "/Users/galraz1/opt/miniconda3/envs/stan_env/lib/python3.7/site-packages/ipykernel_launcher.py:67: UserWarning: Legend does not support 'o' instances.\n",
      "A proxy artist may be used instead.\n",
      "See: https://matplotlib.org/users/legend_guide.html#creating-artists-specifically-for-adding-to-the-legend-aka-proxy-artists\n"
     ]
    },
    {
     "name": "stdout",
     "output_type": "stream",
     "text": [
      "KL: 0.04477697938630703\n",
      "stimulus:  2\n",
      "sample:  8\n",
      "\n",
      "Gradient evaluation took 1.2e-05 seconds\n",
      "1000 transitions using 10 leapfrog steps per transition would take 0.12 seconds.\n",
      "Adjust your expectations accordingly!\n",
      "\n",
      "\n"
     ]
    },
    {
     "name": "stderr",
     "output_type": "stream",
     "text": [
      "WARNING:pystan:68 of 16000 iterations ended with a divergence (0.425 %).\n",
      "WARNING:pystan:Try running with adapt_delta larger than 0.95 to remove the divergences.\n"
     ]
    },
    {
     "name": "stdout",
     "output_type": "stream",
     "text": [
      "Iteration:     1 / 20000 [  0%]  (Warmup)\n",
      "Iteration:  2000 / 20000 [ 10%]  (Warmup)\n",
      "Iteration:  4000 / 20000 [ 20%]  (Warmup)\n",
      "Iteration:  4001 / 20000 [ 20%]  (Sampling)\n",
      "Iteration:  6000 / 20000 [ 30%]  (Sampling)\n",
      "Iteration:  8000 / 20000 [ 40%]  (Sampling)\n",
      "Iteration: 10000 / 20000 [ 50%]  (Sampling)\n",
      "Iteration: 12000 / 20000 [ 60%]  (Sampling)\n",
      "Iteration: 14000 / 20000 [ 70%]  (Sampling)\n",
      "Iteration: 16000 / 20000 [ 80%]  (Sampling)\n",
      "Iteration: 18000 / 20000 [ 90%]  (Sampling)\n",
      "Iteration: 20000 / 20000 [100%]  (Sampling)\n",
      "\n",
      " Elapsed Time: 0.171473 seconds (Warm-up)\n",
      "               0.860556 seconds (Sampling)\n",
      "               1.03203 seconds (Total)\n",
      "\n"
     ]
    },
    {
     "name": "stderr",
     "output_type": "stream",
     "text": [
      "/Users/galraz1/opt/miniconda3/envs/stan_env/lib/python3.7/site-packages/ipykernel_launcher.py:60: UserWarning: Legend does not support 'p' instances.\n",
      "A proxy artist may be used instead.\n",
      "See: https://matplotlib.org/users/legend_guide.html#creating-artists-specifically-for-adding-to-the-legend-aka-proxy-artists\n",
      "/Users/galraz1/opt/miniconda3/envs/stan_env/lib/python3.7/site-packages/ipykernel_launcher.py:60: UserWarning: Legend does not support 'r' instances.\n",
      "A proxy artist may be used instead.\n",
      "See: https://matplotlib.org/users/legend_guide.html#creating-artists-specifically-for-adding-to-the-legend-aka-proxy-artists\n",
      "/Users/galraz1/opt/miniconda3/envs/stan_env/lib/python3.7/site-packages/ipykernel_launcher.py:60: UserWarning: Legend does not support 'i' instances.\n",
      "A proxy artist may be used instead.\n",
      "See: https://matplotlib.org/users/legend_guide.html#creating-artists-specifically-for-adding-to-the-legend-aka-proxy-artists\n",
      "/Users/galraz1/opt/miniconda3/envs/stan_env/lib/python3.7/site-packages/ipykernel_launcher.py:60: UserWarning: Legend does not support 'o' instances.\n",
      "A proxy artist may be used instead.\n",
      "See: https://matplotlib.org/users/legend_guide.html#creating-artists-specifically-for-adding-to-the-legend-aka-proxy-artists\n",
      "/Users/galraz1/opt/miniconda3/envs/stan_env/lib/python3.7/site-packages/ipykernel_launcher.py:67: UserWarning: Legend does not support 'p' instances.\n",
      "A proxy artist may be used instead.\n",
      "See: https://matplotlib.org/users/legend_guide.html#creating-artists-specifically-for-adding-to-the-legend-aka-proxy-artists\n",
      "/Users/galraz1/opt/miniconda3/envs/stan_env/lib/python3.7/site-packages/ipykernel_launcher.py:67: UserWarning: Legend does not support 'r' instances.\n",
      "A proxy artist may be used instead.\n",
      "See: https://matplotlib.org/users/legend_guide.html#creating-artists-specifically-for-adding-to-the-legend-aka-proxy-artists\n",
      "/Users/galraz1/opt/miniconda3/envs/stan_env/lib/python3.7/site-packages/ipykernel_launcher.py:67: UserWarning: Legend does not support 'i' instances.\n",
      "A proxy artist may be used instead.\n",
      "See: https://matplotlib.org/users/legend_guide.html#creating-artists-specifically-for-adding-to-the-legend-aka-proxy-artists\n",
      "/Users/galraz1/opt/miniconda3/envs/stan_env/lib/python3.7/site-packages/ipykernel_launcher.py:67: UserWarning: Legend does not support 'o' instances.\n",
      "A proxy artist may be used instead.\n",
      "See: https://matplotlib.org/users/legend_guide.html#creating-artists-specifically-for-adding-to-the-legend-aka-proxy-artists\n",
      "/Users/galraz1/opt/miniconda3/envs/stan_env/lib/python3.7/site-packages/ipykernel_launcher.py:28: RuntimeWarning: divide by zero encountered in log\n",
      "/Users/galraz1/opt/miniconda3/envs/stan_env/lib/python3.7/site-packages/ipykernel_launcher.py:33: RuntimeWarning: divide by zero encountered in log\n"
     ]
    },
    {
     "name": "stdout",
     "output_type": "stream",
     "text": [
      "KL: inf\n",
      "stimulus:  2\n",
      "sample:  9\n",
      "\n",
      "Gradient evaluation took 1.1e-05 seconds\n",
      "1000 transitions using 10 leapfrog steps per transition would take 0.11 seconds.\n",
      "Adjust your expectations accordingly!\n",
      "\n",
      "\n"
     ]
    },
    {
     "name": "stderr",
     "output_type": "stream",
     "text": [
      "WARNING:pystan:157 of 16000 iterations ended with a divergence (0.981 %).\n",
      "WARNING:pystan:Try running with adapt_delta larger than 0.95 to remove the divergences.\n"
     ]
    },
    {
     "name": "stdout",
     "output_type": "stream",
     "text": [
      "Iteration:     1 / 20000 [  0%]  (Warmup)\n",
      "Iteration:  2000 / 20000 [ 10%]  (Warmup)\n",
      "Iteration:  4000 / 20000 [ 20%]  (Warmup)\n",
      "Iteration:  4001 / 20000 [ 20%]  (Sampling)\n",
      "Iteration:  6000 / 20000 [ 30%]  (Sampling)\n",
      "Iteration:  8000 / 20000 [ 40%]  (Sampling)\n",
      "Iteration: 10000 / 20000 [ 50%]  (Sampling)\n",
      "Iteration: 12000 / 20000 [ 60%]  (Sampling)\n",
      "Iteration: 14000 / 20000 [ 70%]  (Sampling)\n",
      "Iteration: 16000 / 20000 [ 80%]  (Sampling)\n",
      "Iteration: 18000 / 20000 [ 90%]  (Sampling)\n",
      "Iteration: 20000 / 20000 [100%]  (Sampling)\n",
      "\n",
      " Elapsed Time: 0.161308 seconds (Warm-up)\n",
      "               0.906223 seconds (Sampling)\n",
      "               1.06753 seconds (Total)\n",
      "\n"
     ]
    },
    {
     "name": "stderr",
     "output_type": "stream",
     "text": [
      "/Users/galraz1/opt/miniconda3/envs/stan_env/lib/python3.7/site-packages/ipykernel_launcher.py:60: UserWarning: Legend does not support 'p' instances.\n",
      "A proxy artist may be used instead.\n",
      "See: https://matplotlib.org/users/legend_guide.html#creating-artists-specifically-for-adding-to-the-legend-aka-proxy-artists\n",
      "/Users/galraz1/opt/miniconda3/envs/stan_env/lib/python3.7/site-packages/ipykernel_launcher.py:60: UserWarning: Legend does not support 'r' instances.\n",
      "A proxy artist may be used instead.\n",
      "See: https://matplotlib.org/users/legend_guide.html#creating-artists-specifically-for-adding-to-the-legend-aka-proxy-artists\n",
      "/Users/galraz1/opt/miniconda3/envs/stan_env/lib/python3.7/site-packages/ipykernel_launcher.py:60: UserWarning: Legend does not support 'i' instances.\n",
      "A proxy artist may be used instead.\n",
      "See: https://matplotlib.org/users/legend_guide.html#creating-artists-specifically-for-adding-to-the-legend-aka-proxy-artists\n",
      "/Users/galraz1/opt/miniconda3/envs/stan_env/lib/python3.7/site-packages/ipykernel_launcher.py:60: UserWarning: Legend does not support 'o' instances.\n",
      "A proxy artist may be used instead.\n",
      "See: https://matplotlib.org/users/legend_guide.html#creating-artists-specifically-for-adding-to-the-legend-aka-proxy-artists\n",
      "/Users/galraz1/opt/miniconda3/envs/stan_env/lib/python3.7/site-packages/ipykernel_launcher.py:67: UserWarning: Legend does not support 'p' instances.\n",
      "A proxy artist may be used instead.\n",
      "See: https://matplotlib.org/users/legend_guide.html#creating-artists-specifically-for-adding-to-the-legend-aka-proxy-artists\n",
      "/Users/galraz1/opt/miniconda3/envs/stan_env/lib/python3.7/site-packages/ipykernel_launcher.py:67: UserWarning: Legend does not support 'r' instances.\n",
      "A proxy artist may be used instead.\n",
      "See: https://matplotlib.org/users/legend_guide.html#creating-artists-specifically-for-adding-to-the-legend-aka-proxy-artists\n",
      "/Users/galraz1/opt/miniconda3/envs/stan_env/lib/python3.7/site-packages/ipykernel_launcher.py:67: UserWarning: Legend does not support 'i' instances.\n",
      "A proxy artist may be used instead.\n",
      "See: https://matplotlib.org/users/legend_guide.html#creating-artists-specifically-for-adding-to-the-legend-aka-proxy-artists\n",
      "/Users/galraz1/opt/miniconda3/envs/stan_env/lib/python3.7/site-packages/ipykernel_launcher.py:67: UserWarning: Legend does not support 'o' instances.\n",
      "A proxy artist may be used instead.\n",
      "See: https://matplotlib.org/users/legend_guide.html#creating-artists-specifically-for-adding-to-the-legend-aka-proxy-artists\n",
      "WARNING:pystan:285 of 16000 iterations ended with a divergence (1.78 %).\n",
      "WARNING:pystan:Try running with adapt_delta larger than 0.95 to remove the divergences.\n"
     ]
    },
    {
     "name": "stdout",
     "output_type": "stream",
     "text": [
      "KL: 0.011558100245705102\n",
      "stimulus:  2\n",
      "sample:  10\n",
      "\n",
      "Gradient evaluation took 1.3e-05 seconds\n",
      "1000 transitions using 10 leapfrog steps per transition would take 0.13 seconds.\n",
      "Adjust your expectations accordingly!\n",
      "\n",
      "\n",
      "Iteration:     1 / 20000 [  0%]  (Warmup)\n",
      "Iteration:  2000 / 20000 [ 10%]  (Warmup)\n",
      "Iteration:  4000 / 20000 [ 20%]  (Warmup)\n",
      "Iteration:  4001 / 20000 [ 20%]  (Sampling)\n",
      "Iteration:  6000 / 20000 [ 30%]  (Sampling)\n",
      "Iteration:  8000 / 20000 [ 40%]  (Sampling)\n",
      "Iteration: 10000 / 20000 [ 50%]  (Sampling)\n",
      "Iteration: 12000 / 20000 [ 60%]  (Sampling)\n",
      "Iteration: 14000 / 20000 [ 70%]  (Sampling)\n",
      "Iteration: 16000 / 20000 [ 80%]  (Sampling)\n",
      "Iteration: 18000 / 20000 [ 90%]  (Sampling)\n",
      "Iteration: 20000 / 20000 [100%]  (Sampling)\n",
      "\n",
      " Elapsed Time: 0.171401 seconds (Warm-up)\n",
      "               0.549279 seconds (Sampling)\n",
      "               0.72068 seconds (Total)\n",
      "\n"
     ]
    },
    {
     "name": "stderr",
     "output_type": "stream",
     "text": [
      "/Users/galraz1/opt/miniconda3/envs/stan_env/lib/python3.7/site-packages/ipykernel_launcher.py:60: UserWarning: Legend does not support 'p' instances.\n",
      "A proxy artist may be used instead.\n",
      "See: https://matplotlib.org/users/legend_guide.html#creating-artists-specifically-for-adding-to-the-legend-aka-proxy-artists\n",
      "/Users/galraz1/opt/miniconda3/envs/stan_env/lib/python3.7/site-packages/ipykernel_launcher.py:60: UserWarning: Legend does not support 'r' instances.\n",
      "A proxy artist may be used instead.\n",
      "See: https://matplotlib.org/users/legend_guide.html#creating-artists-specifically-for-adding-to-the-legend-aka-proxy-artists\n",
      "/Users/galraz1/opt/miniconda3/envs/stan_env/lib/python3.7/site-packages/ipykernel_launcher.py:60: UserWarning: Legend does not support 'i' instances.\n",
      "A proxy artist may be used instead.\n",
      "See: https://matplotlib.org/users/legend_guide.html#creating-artists-specifically-for-adding-to-the-legend-aka-proxy-artists\n",
      "/Users/galraz1/opt/miniconda3/envs/stan_env/lib/python3.7/site-packages/ipykernel_launcher.py:60: UserWarning: Legend does not support 'o' instances.\n",
      "A proxy artist may be used instead.\n",
      "See: https://matplotlib.org/users/legend_guide.html#creating-artists-specifically-for-adding-to-the-legend-aka-proxy-artists\n",
      "/Users/galraz1/opt/miniconda3/envs/stan_env/lib/python3.7/site-packages/ipykernel_launcher.py:67: UserWarning: Legend does not support 'p' instances.\n",
      "A proxy artist may be used instead.\n",
      "See: https://matplotlib.org/users/legend_guide.html#creating-artists-specifically-for-adding-to-the-legend-aka-proxy-artists\n",
      "/Users/galraz1/opt/miniconda3/envs/stan_env/lib/python3.7/site-packages/ipykernel_launcher.py:67: UserWarning: Legend does not support 'r' instances.\n",
      "A proxy artist may be used instead.\n",
      "See: https://matplotlib.org/users/legend_guide.html#creating-artists-specifically-for-adding-to-the-legend-aka-proxy-artists\n",
      "/Users/galraz1/opt/miniconda3/envs/stan_env/lib/python3.7/site-packages/ipykernel_launcher.py:67: UserWarning: Legend does not support 'i' instances.\n",
      "A proxy artist may be used instead.\n",
      "See: https://matplotlib.org/users/legend_guide.html#creating-artists-specifically-for-adding-to-the-legend-aka-proxy-artists\n",
      "/Users/galraz1/opt/miniconda3/envs/stan_env/lib/python3.7/site-packages/ipykernel_launcher.py:67: UserWarning: Legend does not support 'o' instances.\n",
      "A proxy artist may be used instead.\n",
      "See: https://matplotlib.org/users/legend_guide.html#creating-artists-specifically-for-adding-to-the-legend-aka-proxy-artists\n"
     ]
    },
    {
     "name": "stdout",
     "output_type": "stream",
     "text": [
      "KL: 0.02843213865619758\n",
      "stimulus:  2\n",
      "sample:  11\n"
     ]
    },
    {
     "name": "stderr",
     "output_type": "stream",
     "text": [
      "WARNING:pystan:15 of 16000 iterations ended with a divergence (0.0938 %).\n",
      "WARNING:pystan:Try running with adapt_delta larger than 0.95 to remove the divergences.\n"
     ]
    },
    {
     "name": "stdout",
     "output_type": "stream",
     "text": [
      "\n",
      "Gradient evaluation took 1.1e-05 seconds\n",
      "1000 transitions using 10 leapfrog steps per transition would take 0.11 seconds.\n",
      "Adjust your expectations accordingly!\n",
      "\n",
      "\n",
      "Iteration:     1 / 20000 [  0%]  (Warmup)\n",
      "Iteration:  2000 / 20000 [ 10%]  (Warmup)\n",
      "Iteration:  4000 / 20000 [ 20%]  (Warmup)\n",
      "Iteration:  4001 / 20000 [ 20%]  (Sampling)\n",
      "Iteration:  6000 / 20000 [ 30%]  (Sampling)\n",
      "Iteration:  8000 / 20000 [ 40%]  (Sampling)\n",
      "Iteration: 10000 / 20000 [ 50%]  (Sampling)\n",
      "Iteration: 12000 / 20000 [ 60%]  (Sampling)\n",
      "Iteration: 14000 / 20000 [ 70%]  (Sampling)\n",
      "Iteration: 16000 / 20000 [ 80%]  (Sampling)\n",
      "Iteration: 18000 / 20000 [ 90%]  (Sampling)\n",
      "Iteration: 20000 / 20000 [100%]  (Sampling)\n",
      "\n",
      " Elapsed Time: 0.172798 seconds (Warm-up)\n",
      "               1.38861 seconds (Sampling)\n",
      "               1.56141 seconds (Total)\n",
      "\n"
     ]
    },
    {
     "name": "stderr",
     "output_type": "stream",
     "text": [
      "/Users/galraz1/opt/miniconda3/envs/stan_env/lib/python3.7/site-packages/ipykernel_launcher.py:60: UserWarning: Legend does not support 'p' instances.\n",
      "A proxy artist may be used instead.\n",
      "See: https://matplotlib.org/users/legend_guide.html#creating-artists-specifically-for-adding-to-the-legend-aka-proxy-artists\n",
      "/Users/galraz1/opt/miniconda3/envs/stan_env/lib/python3.7/site-packages/ipykernel_launcher.py:60: UserWarning: Legend does not support 'r' instances.\n",
      "A proxy artist may be used instead.\n",
      "See: https://matplotlib.org/users/legend_guide.html#creating-artists-specifically-for-adding-to-the-legend-aka-proxy-artists\n",
      "/Users/galraz1/opt/miniconda3/envs/stan_env/lib/python3.7/site-packages/ipykernel_launcher.py:60: UserWarning: Legend does not support 'i' instances.\n",
      "A proxy artist may be used instead.\n",
      "See: https://matplotlib.org/users/legend_guide.html#creating-artists-specifically-for-adding-to-the-legend-aka-proxy-artists\n",
      "/Users/galraz1/opt/miniconda3/envs/stan_env/lib/python3.7/site-packages/ipykernel_launcher.py:60: UserWarning: Legend does not support 'o' instances.\n",
      "A proxy artist may be used instead.\n",
      "See: https://matplotlib.org/users/legend_guide.html#creating-artists-specifically-for-adding-to-the-legend-aka-proxy-artists\n",
      "/Users/galraz1/opt/miniconda3/envs/stan_env/lib/python3.7/site-packages/ipykernel_launcher.py:67: UserWarning: Legend does not support 'p' instances.\n",
      "A proxy artist may be used instead.\n",
      "See: https://matplotlib.org/users/legend_guide.html#creating-artists-specifically-for-adding-to-the-legend-aka-proxy-artists\n",
      "/Users/galraz1/opt/miniconda3/envs/stan_env/lib/python3.7/site-packages/ipykernel_launcher.py:67: UserWarning: Legend does not support 'r' instances.\n",
      "A proxy artist may be used instead.\n",
      "See: https://matplotlib.org/users/legend_guide.html#creating-artists-specifically-for-adding-to-the-legend-aka-proxy-artists\n",
      "/Users/galraz1/opt/miniconda3/envs/stan_env/lib/python3.7/site-packages/ipykernel_launcher.py:67: UserWarning: Legend does not support 'i' instances.\n",
      "A proxy artist may be used instead.\n",
      "See: https://matplotlib.org/users/legend_guide.html#creating-artists-specifically-for-adding-to-the-legend-aka-proxy-artists\n",
      "/Users/galraz1/opt/miniconda3/envs/stan_env/lib/python3.7/site-packages/ipykernel_launcher.py:67: UserWarning: Legend does not support 'o' instances.\n",
      "A proxy artist may be used instead.\n",
      "See: https://matplotlib.org/users/legend_guide.html#creating-artists-specifically-for-adding-to-the-legend-aka-proxy-artists\n"
     ]
    },
    {
     "name": "stdout",
     "output_type": "stream",
     "text": [
      "KL: 0.002850144808561952\n",
      "stimulus:  3\n",
      "sample:  12\n",
      "\n",
      "Gradient evaluation took 1.1e-05 seconds\n",
      "1000 transitions using 10 leapfrog steps per transition would take 0.11 seconds.\n",
      "Adjust your expectations accordingly!\n",
      "\n",
      "\n"
     ]
    },
    {
     "name": "stderr",
     "output_type": "stream",
     "text": [
      "WARNING:pystan:361 of 16000 iterations ended with a divergence (2.26 %).\n",
      "WARNING:pystan:Try running with adapt_delta larger than 0.95 to remove the divergences.\n"
     ]
    },
    {
     "name": "stdout",
     "output_type": "stream",
     "text": [
      "Iteration:     1 / 20000 [  0%]  (Warmup)\n",
      "Iteration:  2000 / 20000 [ 10%]  (Warmup)\n",
      "Iteration:  4000 / 20000 [ 20%]  (Warmup)\n",
      "Iteration:  4001 / 20000 [ 20%]  (Sampling)\n",
      "Iteration:  6000 / 20000 [ 30%]  (Sampling)\n",
      "Iteration:  8000 / 20000 [ 40%]  (Sampling)\n",
      "Iteration: 10000 / 20000 [ 50%]  (Sampling)\n",
      "Iteration: 12000 / 20000 [ 60%]  (Sampling)\n",
      "Iteration: 14000 / 20000 [ 70%]  (Sampling)\n",
      "Iteration: 16000 / 20000 [ 80%]  (Sampling)\n",
      "Iteration: 18000 / 20000 [ 90%]  (Sampling)\n",
      "Iteration: 20000 / 20000 [100%]  (Sampling)\n",
      "\n",
      " Elapsed Time: 0.208404 seconds (Warm-up)\n",
      "               0.662734 seconds (Sampling)\n",
      "               0.871138 seconds (Total)\n",
      "\n"
     ]
    },
    {
     "name": "stderr",
     "output_type": "stream",
     "text": [
      "/Users/galraz1/opt/miniconda3/envs/stan_env/lib/python3.7/site-packages/ipykernel_launcher.py:60: UserWarning: Legend does not support 'p' instances.\n",
      "A proxy artist may be used instead.\n",
      "See: https://matplotlib.org/users/legend_guide.html#creating-artists-specifically-for-adding-to-the-legend-aka-proxy-artists\n",
      "/Users/galraz1/opt/miniconda3/envs/stan_env/lib/python3.7/site-packages/ipykernel_launcher.py:60: UserWarning: Legend does not support 'r' instances.\n",
      "A proxy artist may be used instead.\n",
      "See: https://matplotlib.org/users/legend_guide.html#creating-artists-specifically-for-adding-to-the-legend-aka-proxy-artists\n",
      "/Users/galraz1/opt/miniconda3/envs/stan_env/lib/python3.7/site-packages/ipykernel_launcher.py:60: UserWarning: Legend does not support 'i' instances.\n",
      "A proxy artist may be used instead.\n",
      "See: https://matplotlib.org/users/legend_guide.html#creating-artists-specifically-for-adding-to-the-legend-aka-proxy-artists\n",
      "/Users/galraz1/opt/miniconda3/envs/stan_env/lib/python3.7/site-packages/ipykernel_launcher.py:60: UserWarning: Legend does not support 'o' instances.\n",
      "A proxy artist may be used instead.\n",
      "See: https://matplotlib.org/users/legend_guide.html#creating-artists-specifically-for-adding-to-the-legend-aka-proxy-artists\n",
      "/Users/galraz1/opt/miniconda3/envs/stan_env/lib/python3.7/site-packages/ipykernel_launcher.py:67: UserWarning: Legend does not support 'p' instances.\n",
      "A proxy artist may be used instead.\n",
      "See: https://matplotlib.org/users/legend_guide.html#creating-artists-specifically-for-adding-to-the-legend-aka-proxy-artists\n",
      "/Users/galraz1/opt/miniconda3/envs/stan_env/lib/python3.7/site-packages/ipykernel_launcher.py:67: UserWarning: Legend does not support 'r' instances.\n",
      "A proxy artist may be used instead.\n",
      "See: https://matplotlib.org/users/legend_guide.html#creating-artists-specifically-for-adding-to-the-legend-aka-proxy-artists\n",
      "/Users/galraz1/opt/miniconda3/envs/stan_env/lib/python3.7/site-packages/ipykernel_launcher.py:67: UserWarning: Legend does not support 'i' instances.\n",
      "A proxy artist may be used instead.\n",
      "See: https://matplotlib.org/users/legend_guide.html#creating-artists-specifically-for-adding-to-the-legend-aka-proxy-artists\n",
      "/Users/galraz1/opt/miniconda3/envs/stan_env/lib/python3.7/site-packages/ipykernel_launcher.py:67: UserWarning: Legend does not support 'o' instances.\n",
      "A proxy artist may be used instead.\n",
      "See: https://matplotlib.org/users/legend_guide.html#creating-artists-specifically-for-adding-to-the-legend-aka-proxy-artists\n"
     ]
    },
    {
     "name": "stdout",
     "output_type": "stream",
     "text": [
      "KL: 0.1667316427647184\n",
      "stimulus:  3\n",
      "sample:  13\n",
      "\n"
     ]
    },
    {
     "name": "stderr",
     "output_type": "stream",
     "text": [
      "WARNING:pystan:300 of 16000 iterations ended with a divergence (1.88 %).\n",
      "WARNING:pystan:Try running with adapt_delta larger than 0.95 to remove the divergences.\n"
     ]
    },
    {
     "name": "stdout",
     "output_type": "stream",
     "text": [
      "Gradient evaluation took 1.2e-05 seconds\n",
      "1000 transitions using 10 leapfrog steps per transition would take 0.12 seconds.\n",
      "Adjust your expectations accordingly!\n",
      "\n",
      "\n",
      "Iteration:     1 / 20000 [  0%]  (Warmup)\n",
      "Iteration:  2000 / 20000 [ 10%]  (Warmup)\n",
      "Iteration:  4000 / 20000 [ 20%]  (Warmup)\n",
      "Iteration:  4001 / 20000 [ 20%]  (Sampling)\n",
      "Iteration:  6000 / 20000 [ 30%]  (Sampling)\n",
      "Iteration:  8000 / 20000 [ 40%]  (Sampling)\n",
      "Iteration: 10000 / 20000 [ 50%]  (Sampling)\n",
      "Iteration: 12000 / 20000 [ 60%]  (Sampling)\n",
      "Iteration: 14000 / 20000 [ 70%]  (Sampling)\n",
      "Iteration: 16000 / 20000 [ 80%]  (Sampling)\n",
      "Iteration: 18000 / 20000 [ 90%]  (Sampling)\n",
      "Iteration: 20000 / 20000 [100%]  (Sampling)\n",
      "\n",
      " Elapsed Time: 0.227372 seconds (Warm-up)\n",
      "               0.753083 seconds (Sampling)\n",
      "               0.980455 seconds (Total)\n",
      "\n"
     ]
    },
    {
     "name": "stderr",
     "output_type": "stream",
     "text": [
      "/Users/galraz1/opt/miniconda3/envs/stan_env/lib/python3.7/site-packages/ipykernel_launcher.py:60: UserWarning: Legend does not support 'p' instances.\n",
      "A proxy artist may be used instead.\n",
      "See: https://matplotlib.org/users/legend_guide.html#creating-artists-specifically-for-adding-to-the-legend-aka-proxy-artists\n",
      "/Users/galraz1/opt/miniconda3/envs/stan_env/lib/python3.7/site-packages/ipykernel_launcher.py:60: UserWarning: Legend does not support 'r' instances.\n",
      "A proxy artist may be used instead.\n",
      "See: https://matplotlib.org/users/legend_guide.html#creating-artists-specifically-for-adding-to-the-legend-aka-proxy-artists\n",
      "/Users/galraz1/opt/miniconda3/envs/stan_env/lib/python3.7/site-packages/ipykernel_launcher.py:60: UserWarning: Legend does not support 'i' instances.\n",
      "A proxy artist may be used instead.\n",
      "See: https://matplotlib.org/users/legend_guide.html#creating-artists-specifically-for-adding-to-the-legend-aka-proxy-artists\n",
      "/Users/galraz1/opt/miniconda3/envs/stan_env/lib/python3.7/site-packages/ipykernel_launcher.py:60: UserWarning: Legend does not support 'o' instances.\n",
      "A proxy artist may be used instead.\n",
      "See: https://matplotlib.org/users/legend_guide.html#creating-artists-specifically-for-adding-to-the-legend-aka-proxy-artists\n",
      "/Users/galraz1/opt/miniconda3/envs/stan_env/lib/python3.7/site-packages/ipykernel_launcher.py:67: UserWarning: Legend does not support 'p' instances.\n",
      "A proxy artist may be used instead.\n",
      "See: https://matplotlib.org/users/legend_guide.html#creating-artists-specifically-for-adding-to-the-legend-aka-proxy-artists\n",
      "/Users/galraz1/opt/miniconda3/envs/stan_env/lib/python3.7/site-packages/ipykernel_launcher.py:67: UserWarning: Legend does not support 'r' instances.\n",
      "A proxy artist may be used instead.\n",
      "See: https://matplotlib.org/users/legend_guide.html#creating-artists-specifically-for-adding-to-the-legend-aka-proxy-artists\n",
      "/Users/galraz1/opt/miniconda3/envs/stan_env/lib/python3.7/site-packages/ipykernel_launcher.py:67: UserWarning: Legend does not support 'i' instances.\n",
      "A proxy artist may be used instead.\n",
      "See: https://matplotlib.org/users/legend_guide.html#creating-artists-specifically-for-adding-to-the-legend-aka-proxy-artists\n",
      "/Users/galraz1/opt/miniconda3/envs/stan_env/lib/python3.7/site-packages/ipykernel_launcher.py:67: UserWarning: Legend does not support 'o' instances.\n",
      "A proxy artist may be used instead.\n",
      "See: https://matplotlib.org/users/legend_guide.html#creating-artists-specifically-for-adding-to-the-legend-aka-proxy-artists\n",
      "WARNING:pystan:260 of 16000 iterations ended with a divergence (1.62 %).\n",
      "WARNING:pystan:Try running with adapt_delta larger than 0.95 to remove the divergences.\n"
     ]
    },
    {
     "name": "stdout",
     "output_type": "stream",
     "text": [
      "KL: 0.04095876348026425\n",
      "stimulus:  3\n",
      "sample:  14\n",
      "\n",
      "Gradient evaluation took 1.3e-05 seconds\n",
      "1000 transitions using 10 leapfrog steps per transition would take 0.13 seconds.\n",
      "Adjust your expectations accordingly!\n",
      "\n",
      "\n",
      "Iteration:     1 / 20000 [  0%]  (Warmup)\n",
      "Iteration:  2000 / 20000 [ 10%]  (Warmup)\n",
      "Iteration:  4000 / 20000 [ 20%]  (Warmup)\n",
      "Iteration:  4001 / 20000 [ 20%]  (Sampling)\n",
      "Iteration:  6000 / 20000 [ 30%]  (Sampling)\n",
      "Iteration:  8000 / 20000 [ 40%]  (Sampling)\n",
      "Iteration: 10000 / 20000 [ 50%]  (Sampling)\n",
      "Iteration: 12000 / 20000 [ 60%]  (Sampling)\n",
      "Iteration: 14000 / 20000 [ 70%]  (Sampling)\n",
      "Iteration: 16000 / 20000 [ 80%]  (Sampling)\n",
      "Iteration: 18000 / 20000 [ 90%]  (Sampling)\n",
      "Iteration: 20000 / 20000 [100%]  (Sampling)\n",
      "\n",
      " Elapsed Time: 0.235267 seconds (Warm-up)\n",
      "               1.06176 seconds (Sampling)\n",
      "               1.29703 seconds (Total)\n",
      "\n"
     ]
    },
    {
     "name": "stderr",
     "output_type": "stream",
     "text": [
      "/Users/galraz1/opt/miniconda3/envs/stan_env/lib/python3.7/site-packages/ipykernel_launcher.py:60: UserWarning: Legend does not support 'p' instances.\n",
      "A proxy artist may be used instead.\n",
      "See: https://matplotlib.org/users/legend_guide.html#creating-artists-specifically-for-adding-to-the-legend-aka-proxy-artists\n",
      "/Users/galraz1/opt/miniconda3/envs/stan_env/lib/python3.7/site-packages/ipykernel_launcher.py:60: UserWarning: Legend does not support 'r' instances.\n",
      "A proxy artist may be used instead.\n",
      "See: https://matplotlib.org/users/legend_guide.html#creating-artists-specifically-for-adding-to-the-legend-aka-proxy-artists\n",
      "/Users/galraz1/opt/miniconda3/envs/stan_env/lib/python3.7/site-packages/ipykernel_launcher.py:60: UserWarning: Legend does not support 'i' instances.\n",
      "A proxy artist may be used instead.\n",
      "See: https://matplotlib.org/users/legend_guide.html#creating-artists-specifically-for-adding-to-the-legend-aka-proxy-artists\n",
      "/Users/galraz1/opt/miniconda3/envs/stan_env/lib/python3.7/site-packages/ipykernel_launcher.py:60: UserWarning: Legend does not support 'o' instances.\n",
      "A proxy artist may be used instead.\n",
      "See: https://matplotlib.org/users/legend_guide.html#creating-artists-specifically-for-adding-to-the-legend-aka-proxy-artists\n",
      "/Users/galraz1/opt/miniconda3/envs/stan_env/lib/python3.7/site-packages/ipykernel_launcher.py:67: UserWarning: Legend does not support 'p' instances.\n",
      "A proxy artist may be used instead.\n",
      "See: https://matplotlib.org/users/legend_guide.html#creating-artists-specifically-for-adding-to-the-legend-aka-proxy-artists\n",
      "/Users/galraz1/opt/miniconda3/envs/stan_env/lib/python3.7/site-packages/ipykernel_launcher.py:67: UserWarning: Legend does not support 'r' instances.\n",
      "A proxy artist may be used instead.\n",
      "See: https://matplotlib.org/users/legend_guide.html#creating-artists-specifically-for-adding-to-the-legend-aka-proxy-artists\n",
      "/Users/galraz1/opt/miniconda3/envs/stan_env/lib/python3.7/site-packages/ipykernel_launcher.py:67: UserWarning: Legend does not support 'i' instances.\n",
      "A proxy artist may be used instead.\n",
      "See: https://matplotlib.org/users/legend_guide.html#creating-artists-specifically-for-adding-to-the-legend-aka-proxy-artists\n",
      "/Users/galraz1/opt/miniconda3/envs/stan_env/lib/python3.7/site-packages/ipykernel_launcher.py:67: UserWarning: Legend does not support 'o' instances.\n",
      "A proxy artist may be used instead.\n",
      "See: https://matplotlib.org/users/legend_guide.html#creating-artists-specifically-for-adding-to-the-legend-aka-proxy-artists\n"
     ]
    },
    {
     "name": "stdout",
     "output_type": "stream",
     "text": [
      "KL: 0.011950835024824032\n",
      "stimulus:  3\n",
      "sample:  15\n",
      "\n",
      "Gradient evaluation took 1.3e-05 seconds\n",
      "1000 transitions using 10 leapfrog steps per transition would take 0.13 seconds.\n",
      "Adjust your expectations accordingly!\n",
      "\n",
      "\n"
     ]
    },
    {
     "name": "stderr",
     "output_type": "stream",
     "text": [
      "WARNING:pystan:55 of 16000 iterations ended with a divergence (0.344 %).\n",
      "WARNING:pystan:Try running with adapt_delta larger than 0.95 to remove the divergences.\n"
     ]
    },
    {
     "name": "stdout",
     "output_type": "stream",
     "text": [
      "Iteration:     1 / 20000 [  0%]  (Warmup)\n",
      "Iteration:  2000 / 20000 [ 10%]  (Warmup)\n",
      "Iteration:  4000 / 20000 [ 20%]  (Warmup)\n",
      "Iteration:  4001 / 20000 [ 20%]  (Sampling)\n",
      "Iteration:  6000 / 20000 [ 30%]  (Sampling)\n",
      "Iteration:  8000 / 20000 [ 40%]  (Sampling)\n",
      "Iteration: 10000 / 20000 [ 50%]  (Sampling)\n",
      "Iteration: 12000 / 20000 [ 60%]  (Sampling)\n",
      "Iteration: 14000 / 20000 [ 70%]  (Sampling)\n",
      "Iteration: 16000 / 20000 [ 80%]  (Sampling)\n",
      "Iteration: 18000 / 20000 [ 90%]  (Sampling)\n",
      "Iteration: 20000 / 20000 [100%]  (Sampling)\n",
      "\n",
      " Elapsed Time: 0.285654 seconds (Warm-up)\n",
      "               1.80288 seconds (Sampling)\n",
      "               2.08853 seconds (Total)\n",
      "\n"
     ]
    },
    {
     "name": "stderr",
     "output_type": "stream",
     "text": [
      "/Users/galraz1/opt/miniconda3/envs/stan_env/lib/python3.7/site-packages/ipykernel_launcher.py:60: UserWarning: Legend does not support 'p' instances.\n",
      "A proxy artist may be used instead.\n",
      "See: https://matplotlib.org/users/legend_guide.html#creating-artists-specifically-for-adding-to-the-legend-aka-proxy-artists\n",
      "/Users/galraz1/opt/miniconda3/envs/stan_env/lib/python3.7/site-packages/ipykernel_launcher.py:60: UserWarning: Legend does not support 'r' instances.\n",
      "A proxy artist may be used instead.\n",
      "See: https://matplotlib.org/users/legend_guide.html#creating-artists-specifically-for-adding-to-the-legend-aka-proxy-artists\n",
      "/Users/galraz1/opt/miniconda3/envs/stan_env/lib/python3.7/site-packages/ipykernel_launcher.py:60: UserWarning: Legend does not support 'i' instances.\n",
      "A proxy artist may be used instead.\n",
      "See: https://matplotlib.org/users/legend_guide.html#creating-artists-specifically-for-adding-to-the-legend-aka-proxy-artists\n",
      "/Users/galraz1/opt/miniconda3/envs/stan_env/lib/python3.7/site-packages/ipykernel_launcher.py:60: UserWarning: Legend does not support 'o' instances.\n",
      "A proxy artist may be used instead.\n",
      "See: https://matplotlib.org/users/legend_guide.html#creating-artists-specifically-for-adding-to-the-legend-aka-proxy-artists\n",
      "/Users/galraz1/opt/miniconda3/envs/stan_env/lib/python3.7/site-packages/ipykernel_launcher.py:67: UserWarning: Legend does not support 'p' instances.\n",
      "A proxy artist may be used instead.\n",
      "See: https://matplotlib.org/users/legend_guide.html#creating-artists-specifically-for-adding-to-the-legend-aka-proxy-artists\n",
      "/Users/galraz1/opt/miniconda3/envs/stan_env/lib/python3.7/site-packages/ipykernel_launcher.py:67: UserWarning: Legend does not support 'r' instances.\n",
      "A proxy artist may be used instead.\n",
      "See: https://matplotlib.org/users/legend_guide.html#creating-artists-specifically-for-adding-to-the-legend-aka-proxy-artists\n",
      "/Users/galraz1/opt/miniconda3/envs/stan_env/lib/python3.7/site-packages/ipykernel_launcher.py:67: UserWarning: Legend does not support 'i' instances.\n",
      "A proxy artist may be used instead.\n",
      "See: https://matplotlib.org/users/legend_guide.html#creating-artists-specifically-for-adding-to-the-legend-aka-proxy-artists\n",
      "/Users/galraz1/opt/miniconda3/envs/stan_env/lib/python3.7/site-packages/ipykernel_launcher.py:67: UserWarning: Legend does not support 'o' instances.\n",
      "A proxy artist may be used instead.\n",
      "See: https://matplotlib.org/users/legend_guide.html#creating-artists-specifically-for-adding-to-the-legend-aka-proxy-artists\n"
     ]
    },
    {
     "name": "stdout",
     "output_type": "stream",
     "text": [
      "KL: -0.03499578134230688\n",
      "stimulus:  4\n",
      "sample:  16\n",
      "\n",
      "Gradient evaluation took 1.2e-05 seconds\n",
      "1000 transitions using 10 leapfrog steps per transition would take 0.12 seconds.\n",
      "Adjust your expectations accordingly!\n",
      "\n",
      "\n"
     ]
    },
    {
     "name": "stderr",
     "output_type": "stream",
     "text": [
      "WARNING:pystan:311 of 16000 iterations ended with a divergence (1.94 %).\n",
      "WARNING:pystan:Try running with adapt_delta larger than 0.95 to remove the divergences.\n"
     ]
    },
    {
     "name": "stdout",
     "output_type": "stream",
     "text": [
      "Iteration:     1 / 20000 [  0%]  (Warmup)\n",
      "Iteration:  2000 / 20000 [ 10%]  (Warmup)\n",
      "Iteration:  4000 / 20000 [ 20%]  (Warmup)\n",
      "Iteration:  4001 / 20000 [ 20%]  (Sampling)\n",
      "Iteration:  6000 / 20000 [ 30%]  (Sampling)\n",
      "Iteration:  8000 / 20000 [ 40%]  (Sampling)\n",
      "Iteration: 10000 / 20000 [ 50%]  (Sampling)\n",
      "Iteration: 12000 / 20000 [ 60%]  (Sampling)\n",
      "Iteration: 14000 / 20000 [ 70%]  (Sampling)\n",
      "Iteration: 16000 / 20000 [ 80%]  (Sampling)\n",
      "Iteration: 18000 / 20000 [ 90%]  (Sampling)\n",
      "Iteration: 20000 / 20000 [100%]  (Sampling)\n",
      "\n",
      " Elapsed Time: 0.31474 seconds (Warm-up)\n",
      "               0.924376 seconds (Sampling)\n",
      "               1.23912 seconds (Total)\n",
      "\n"
     ]
    },
    {
     "name": "stderr",
     "output_type": "stream",
     "text": [
      "/Users/galraz1/opt/miniconda3/envs/stan_env/lib/python3.7/site-packages/ipykernel_launcher.py:60: UserWarning: Legend does not support 'p' instances.\n",
      "A proxy artist may be used instead.\n",
      "See: https://matplotlib.org/users/legend_guide.html#creating-artists-specifically-for-adding-to-the-legend-aka-proxy-artists\n",
      "/Users/galraz1/opt/miniconda3/envs/stan_env/lib/python3.7/site-packages/ipykernel_launcher.py:60: UserWarning: Legend does not support 'r' instances.\n",
      "A proxy artist may be used instead.\n",
      "See: https://matplotlib.org/users/legend_guide.html#creating-artists-specifically-for-adding-to-the-legend-aka-proxy-artists\n",
      "/Users/galraz1/opt/miniconda3/envs/stan_env/lib/python3.7/site-packages/ipykernel_launcher.py:60: UserWarning: Legend does not support 'i' instances.\n",
      "A proxy artist may be used instead.\n",
      "See: https://matplotlib.org/users/legend_guide.html#creating-artists-specifically-for-adding-to-the-legend-aka-proxy-artists\n",
      "/Users/galraz1/opt/miniconda3/envs/stan_env/lib/python3.7/site-packages/ipykernel_launcher.py:60: UserWarning: Legend does not support 'o' instances.\n",
      "A proxy artist may be used instead.\n",
      "See: https://matplotlib.org/users/legend_guide.html#creating-artists-specifically-for-adding-to-the-legend-aka-proxy-artists\n",
      "/Users/galraz1/opt/miniconda3/envs/stan_env/lib/python3.7/site-packages/ipykernel_launcher.py:67: UserWarning: Legend does not support 'p' instances.\n",
      "A proxy artist may be used instead.\n",
      "See: https://matplotlib.org/users/legend_guide.html#creating-artists-specifically-for-adding-to-the-legend-aka-proxy-artists\n",
      "/Users/galraz1/opt/miniconda3/envs/stan_env/lib/python3.7/site-packages/ipykernel_launcher.py:67: UserWarning: Legend does not support 'r' instances.\n",
      "A proxy artist may be used instead.\n",
      "See: https://matplotlib.org/users/legend_guide.html#creating-artists-specifically-for-adding-to-the-legend-aka-proxy-artists\n",
      "/Users/galraz1/opt/miniconda3/envs/stan_env/lib/python3.7/site-packages/ipykernel_launcher.py:67: UserWarning: Legend does not support 'i' instances.\n",
      "A proxy artist may be used instead.\n",
      "See: https://matplotlib.org/users/legend_guide.html#creating-artists-specifically-for-adding-to-the-legend-aka-proxy-artists\n",
      "/Users/galraz1/opt/miniconda3/envs/stan_env/lib/python3.7/site-packages/ipykernel_launcher.py:67: UserWarning: Legend does not support 'o' instances.\n",
      "A proxy artist may be used instead.\n",
      "See: https://matplotlib.org/users/legend_guide.html#creating-artists-specifically-for-adding-to-the-legend-aka-proxy-artists\n"
     ]
    },
    {
     "name": "stdout",
     "output_type": "stream",
     "text": [
      "KL: 0.17585275264984\n",
      "stimulus:  4\n",
      "sample:  17\n",
      "\n"
     ]
    },
    {
     "name": "stderr",
     "output_type": "stream",
     "text": [
      "WARNING:pystan:169 of 16000 iterations ended with a divergence (1.06 %).\n",
      "WARNING:pystan:Try running with adapt_delta larger than 0.95 to remove the divergences.\n"
     ]
    },
    {
     "name": "stdout",
     "output_type": "stream",
     "text": [
      "Gradient evaluation took 1.4e-05 seconds\n",
      "1000 transitions using 10 leapfrog steps per transition would take 0.14 seconds.\n",
      "Adjust your expectations accordingly!\n",
      "\n",
      "\n",
      "Iteration:     1 / 20000 [  0%]  (Warmup)\n",
      "Iteration:  2000 / 20000 [ 10%]  (Warmup)\n",
      "Iteration:  4000 / 20000 [ 20%]  (Warmup)\n",
      "Iteration:  4001 / 20000 [ 20%]  (Sampling)\n",
      "Iteration:  6000 / 20000 [ 30%]  (Sampling)\n",
      "Iteration:  8000 / 20000 [ 40%]  (Sampling)\n",
      "Iteration: 10000 / 20000 [ 50%]  (Sampling)\n",
      "Iteration: 12000 / 20000 [ 60%]  (Sampling)\n",
      "Iteration: 14000 / 20000 [ 70%]  (Sampling)\n",
      "Iteration: 16000 / 20000 [ 80%]  (Sampling)\n",
      "Iteration: 18000 / 20000 [ 90%]  (Sampling)\n",
      "Iteration: 20000 / 20000 [100%]  (Sampling)\n",
      "\n",
      " Elapsed Time: 0.291019 seconds (Warm-up)\n",
      "               1.37147 seconds (Sampling)\n",
      "               1.66249 seconds (Total)\n",
      "\n"
     ]
    },
    {
     "name": "stderr",
     "output_type": "stream",
     "text": [
      "/Users/galraz1/opt/miniconda3/envs/stan_env/lib/python3.7/site-packages/ipykernel_launcher.py:60: UserWarning: Legend does not support 'p' instances.\n",
      "A proxy artist may be used instead.\n",
      "See: https://matplotlib.org/users/legend_guide.html#creating-artists-specifically-for-adding-to-the-legend-aka-proxy-artists\n",
      "/Users/galraz1/opt/miniconda3/envs/stan_env/lib/python3.7/site-packages/ipykernel_launcher.py:60: UserWarning: Legend does not support 'r' instances.\n",
      "A proxy artist may be used instead.\n",
      "See: https://matplotlib.org/users/legend_guide.html#creating-artists-specifically-for-adding-to-the-legend-aka-proxy-artists\n",
      "/Users/galraz1/opt/miniconda3/envs/stan_env/lib/python3.7/site-packages/ipykernel_launcher.py:60: UserWarning: Legend does not support 'i' instances.\n",
      "A proxy artist may be used instead.\n",
      "See: https://matplotlib.org/users/legend_guide.html#creating-artists-specifically-for-adding-to-the-legend-aka-proxy-artists\n",
      "/Users/galraz1/opt/miniconda3/envs/stan_env/lib/python3.7/site-packages/ipykernel_launcher.py:60: UserWarning: Legend does not support 'o' instances.\n",
      "A proxy artist may be used instead.\n",
      "See: https://matplotlib.org/users/legend_guide.html#creating-artists-specifically-for-adding-to-the-legend-aka-proxy-artists\n",
      "/Users/galraz1/opt/miniconda3/envs/stan_env/lib/python3.7/site-packages/ipykernel_launcher.py:67: UserWarning: Legend does not support 'p' instances.\n",
      "A proxy artist may be used instead.\n",
      "See: https://matplotlib.org/users/legend_guide.html#creating-artists-specifically-for-adding-to-the-legend-aka-proxy-artists\n",
      "/Users/galraz1/opt/miniconda3/envs/stan_env/lib/python3.7/site-packages/ipykernel_launcher.py:67: UserWarning: Legend does not support 'r' instances.\n",
      "A proxy artist may be used instead.\n",
      "See: https://matplotlib.org/users/legend_guide.html#creating-artists-specifically-for-adding-to-the-legend-aka-proxy-artists\n",
      "/Users/galraz1/opt/miniconda3/envs/stan_env/lib/python3.7/site-packages/ipykernel_launcher.py:67: UserWarning: Legend does not support 'i' instances.\n",
      "A proxy artist may be used instead.\n",
      "See: https://matplotlib.org/users/legend_guide.html#creating-artists-specifically-for-adding-to-the-legend-aka-proxy-artists\n",
      "/Users/galraz1/opt/miniconda3/envs/stan_env/lib/python3.7/site-packages/ipykernel_launcher.py:67: UserWarning: Legend does not support 'o' instances.\n",
      "A proxy artist may be used instead.\n",
      "See: https://matplotlib.org/users/legend_guide.html#creating-artists-specifically-for-adding-to-the-legend-aka-proxy-artists\n",
      "WARNING:pystan:219 of 16000 iterations ended with a divergence (1.37 %).\n",
      "WARNING:pystan:Try running with adapt_delta larger than 0.95 to remove the divergences.\n"
     ]
    },
    {
     "name": "stdout",
     "output_type": "stream",
     "text": [
      "KL: -0.005744716197451345\n",
      "stimulus:  5\n",
      "sample:  18\n",
      "\n",
      "Gradient evaluation took 2.4e-05 seconds\n",
      "1000 transitions using 10 leapfrog steps per transition would take 0.24 seconds.\n",
      "Adjust your expectations accordingly!\n",
      "\n",
      "\n",
      "Iteration:     1 / 20000 [  0%]  (Warmup)\n",
      "Iteration:  2000 / 20000 [ 10%]  (Warmup)\n",
      "Iteration:  4000 / 20000 [ 20%]  (Warmup)\n",
      "Iteration:  4001 / 20000 [ 20%]  (Sampling)\n",
      "Iteration:  6000 / 20000 [ 30%]  (Sampling)\n",
      "Iteration:  8000 / 20000 [ 40%]  (Sampling)\n",
      "Iteration: 10000 / 20000 [ 50%]  (Sampling)\n",
      "Iteration: 12000 / 20000 [ 60%]  (Sampling)\n",
      "Iteration: 14000 / 20000 [ 70%]  (Sampling)\n",
      "Iteration: 16000 / 20000 [ 80%]  (Sampling)\n",
      "Iteration: 18000 / 20000 [ 90%]  (Sampling)\n",
      "Iteration: 20000 / 20000 [100%]  (Sampling)\n",
      "\n",
      " Elapsed Time: 0.314387 seconds (Warm-up)\n",
      "               1.17501 seconds (Sampling)\n",
      "               1.4894 seconds (Total)\n",
      "\n"
     ]
    },
    {
     "name": "stderr",
     "output_type": "stream",
     "text": [
      "/Users/galraz1/opt/miniconda3/envs/stan_env/lib/python3.7/site-packages/ipykernel_launcher.py:60: UserWarning: Legend does not support 'p' instances.\n",
      "A proxy artist may be used instead.\n",
      "See: https://matplotlib.org/users/legend_guide.html#creating-artists-specifically-for-adding-to-the-legend-aka-proxy-artists\n",
      "/Users/galraz1/opt/miniconda3/envs/stan_env/lib/python3.7/site-packages/ipykernel_launcher.py:60: UserWarning: Legend does not support 'r' instances.\n",
      "A proxy artist may be used instead.\n",
      "See: https://matplotlib.org/users/legend_guide.html#creating-artists-specifically-for-adding-to-the-legend-aka-proxy-artists\n",
      "/Users/galraz1/opt/miniconda3/envs/stan_env/lib/python3.7/site-packages/ipykernel_launcher.py:60: UserWarning: Legend does not support 'i' instances.\n",
      "A proxy artist may be used instead.\n",
      "See: https://matplotlib.org/users/legend_guide.html#creating-artists-specifically-for-adding-to-the-legend-aka-proxy-artists\n",
      "/Users/galraz1/opt/miniconda3/envs/stan_env/lib/python3.7/site-packages/ipykernel_launcher.py:60: UserWarning: Legend does not support 'o' instances.\n",
      "A proxy artist may be used instead.\n",
      "See: https://matplotlib.org/users/legend_guide.html#creating-artists-specifically-for-adding-to-the-legend-aka-proxy-artists\n",
      "/Users/galraz1/opt/miniconda3/envs/stan_env/lib/python3.7/site-packages/ipykernel_launcher.py:67: UserWarning: Legend does not support 'p' instances.\n",
      "A proxy artist may be used instead.\n",
      "See: https://matplotlib.org/users/legend_guide.html#creating-artists-specifically-for-adding-to-the-legend-aka-proxy-artists\n",
      "/Users/galraz1/opt/miniconda3/envs/stan_env/lib/python3.7/site-packages/ipykernel_launcher.py:67: UserWarning: Legend does not support 'r' instances.\n",
      "A proxy artist may be used instead.\n",
      "See: https://matplotlib.org/users/legend_guide.html#creating-artists-specifically-for-adding-to-the-legend-aka-proxy-artists\n",
      "/Users/galraz1/opt/miniconda3/envs/stan_env/lib/python3.7/site-packages/ipykernel_launcher.py:67: UserWarning: Legend does not support 'i' instances.\n",
      "A proxy artist may be used instead.\n",
      "See: https://matplotlib.org/users/legend_guide.html#creating-artists-specifically-for-adding-to-the-legend-aka-proxy-artists\n",
      "/Users/galraz1/opt/miniconda3/envs/stan_env/lib/python3.7/site-packages/ipykernel_launcher.py:67: UserWarning: Legend does not support 'o' instances.\n",
      "A proxy artist may be used instead.\n",
      "See: https://matplotlib.org/users/legend_guide.html#creating-artists-specifically-for-adding-to-the-legend-aka-proxy-artists\n"
     ]
    },
    {
     "name": "stdout",
     "output_type": "stream",
     "text": [
      "KL: 0.11047409344293962\n",
      "stimulus:  5\n",
      "sample:  19\n",
      "\n",
      "Gradient evaluation took 1.5e-05 seconds\n",
      "1000 transitions using 10 leapfrog steps per transition would take 0.15 seconds.\n",
      "Adjust your expectations accordingly!\n",
      "\n",
      "\n"
     ]
    },
    {
     "name": "stderr",
     "output_type": "stream",
     "text": [
      "WARNING:pystan:233 of 16000 iterations ended with a divergence (1.46 %).\n",
      "WARNING:pystan:Try running with adapt_delta larger than 0.95 to remove the divergences.\n"
     ]
    },
    {
     "name": "stdout",
     "output_type": "stream",
     "text": [
      "Iteration:     1 / 20000 [  0%]  (Warmup)\n",
      "Iteration:  2000 / 20000 [ 10%]  (Warmup)\n",
      "Iteration:  4000 / 20000 [ 20%]  (Warmup)\n",
      "Iteration:  4001 / 20000 [ 20%]  (Sampling)\n",
      "Iteration:  6000 / 20000 [ 30%]  (Sampling)\n",
      "Iteration:  8000 / 20000 [ 40%]  (Sampling)\n",
      "Iteration: 10000 / 20000 [ 50%]  (Sampling)\n",
      "Iteration: 12000 / 20000 [ 60%]  (Sampling)\n",
      "Iteration: 14000 / 20000 [ 70%]  (Sampling)\n",
      "Iteration: 16000 / 20000 [ 80%]  (Sampling)\n",
      "Iteration: 18000 / 20000 [ 90%]  (Sampling)\n",
      "Iteration: 20000 / 20000 [100%]  (Sampling)\n",
      "\n",
      " Elapsed Time: 0.323163 seconds (Warm-up)\n",
      "               0.930614 seconds (Sampling)\n",
      "               1.25378 seconds (Total)\n",
      "\n"
     ]
    },
    {
     "name": "stderr",
     "output_type": "stream",
     "text": [
      "/Users/galraz1/opt/miniconda3/envs/stan_env/lib/python3.7/site-packages/ipykernel_launcher.py:60: UserWarning: Legend does not support 'p' instances.\n",
      "A proxy artist may be used instead.\n",
      "See: https://matplotlib.org/users/legend_guide.html#creating-artists-specifically-for-adding-to-the-legend-aka-proxy-artists\n",
      "/Users/galraz1/opt/miniconda3/envs/stan_env/lib/python3.7/site-packages/ipykernel_launcher.py:60: UserWarning: Legend does not support 'r' instances.\n",
      "A proxy artist may be used instead.\n",
      "See: https://matplotlib.org/users/legend_guide.html#creating-artists-specifically-for-adding-to-the-legend-aka-proxy-artists\n",
      "/Users/galraz1/opt/miniconda3/envs/stan_env/lib/python3.7/site-packages/ipykernel_launcher.py:60: UserWarning: Legend does not support 'i' instances.\n",
      "A proxy artist may be used instead.\n",
      "See: https://matplotlib.org/users/legend_guide.html#creating-artists-specifically-for-adding-to-the-legend-aka-proxy-artists\n",
      "/Users/galraz1/opt/miniconda3/envs/stan_env/lib/python3.7/site-packages/ipykernel_launcher.py:60: UserWarning: Legend does not support 'o' instances.\n",
      "A proxy artist may be used instead.\n",
      "See: https://matplotlib.org/users/legend_guide.html#creating-artists-specifically-for-adding-to-the-legend-aka-proxy-artists\n",
      "/Users/galraz1/opt/miniconda3/envs/stan_env/lib/python3.7/site-packages/ipykernel_launcher.py:67: UserWarning: Legend does not support 'p' instances.\n",
      "A proxy artist may be used instead.\n",
      "See: https://matplotlib.org/users/legend_guide.html#creating-artists-specifically-for-adding-to-the-legend-aka-proxy-artists\n",
      "/Users/galraz1/opt/miniconda3/envs/stan_env/lib/python3.7/site-packages/ipykernel_launcher.py:67: UserWarning: Legend does not support 'r' instances.\n",
      "A proxy artist may be used instead.\n",
      "See: https://matplotlib.org/users/legend_guide.html#creating-artists-specifically-for-adding-to-the-legend-aka-proxy-artists\n",
      "/Users/galraz1/opt/miniconda3/envs/stan_env/lib/python3.7/site-packages/ipykernel_launcher.py:67: UserWarning: Legend does not support 'i' instances.\n",
      "A proxy artist may be used instead.\n",
      "See: https://matplotlib.org/users/legend_guide.html#creating-artists-specifically-for-adding-to-the-legend-aka-proxy-artists\n",
      "/Users/galraz1/opt/miniconda3/envs/stan_env/lib/python3.7/site-packages/ipykernel_launcher.py:67: UserWarning: Legend does not support 'o' instances.\n",
      "A proxy artist may be used instead.\n",
      "See: https://matplotlib.org/users/legend_guide.html#creating-artists-specifically-for-adding-to-the-legend-aka-proxy-artists\n"
     ]
    },
    {
     "name": "stdout",
     "output_type": "stream",
     "text": [
      "KL: 0.05977499508883361\n",
      "stimulus:  5\n",
      "sample:  20\n",
      "\n",
      "Gradient evaluation took 1.3e-05 seconds\n",
      "1000 transitions using 10 leapfrog steps per transition would take 0.13 seconds.\n",
      "Adjust your expectations accordingly!\n",
      "\n",
      "\n"
     ]
    },
    {
     "name": "stderr",
     "output_type": "stream",
     "text": [
      "WARNING:pystan:315 of 16000 iterations ended with a divergence (1.97 %).\n",
      "WARNING:pystan:Try running with adapt_delta larger than 0.95 to remove the divergences.\n"
     ]
    },
    {
     "name": "stdout",
     "output_type": "stream",
     "text": [
      "Iteration:     1 / 20000 [  0%]  (Warmup)\n",
      "Iteration:  2000 / 20000 [ 10%]  (Warmup)\n",
      "Iteration:  4000 / 20000 [ 20%]  (Warmup)\n",
      "Iteration:  4001 / 20000 [ 20%]  (Sampling)\n",
      "Iteration:  6000 / 20000 [ 30%]  (Sampling)\n",
      "Iteration:  8000 / 20000 [ 40%]  (Sampling)\n",
      "Iteration: 10000 / 20000 [ 50%]  (Sampling)\n",
      "Iteration: 12000 / 20000 [ 60%]  (Sampling)\n",
      "Iteration: 14000 / 20000 [ 70%]  (Sampling)\n",
      "Iteration: 16000 / 20000 [ 80%]  (Sampling)\n",
      "Iteration: 18000 / 20000 [ 90%]  (Sampling)\n",
      "Iteration: 20000 / 20000 [100%]  (Sampling)\n",
      "\n",
      " Elapsed Time: 0.327276 seconds (Warm-up)\n",
      "               1.17442 seconds (Sampling)\n",
      "               1.5017 seconds (Total)\n",
      "\n"
     ]
    },
    {
     "name": "stderr",
     "output_type": "stream",
     "text": [
      "/Users/galraz1/opt/miniconda3/envs/stan_env/lib/python3.7/site-packages/ipykernel_launcher.py:60: UserWarning: Legend does not support 'p' instances.\n",
      "A proxy artist may be used instead.\n",
      "See: https://matplotlib.org/users/legend_guide.html#creating-artists-specifically-for-adding-to-the-legend-aka-proxy-artists\n",
      "/Users/galraz1/opt/miniconda3/envs/stan_env/lib/python3.7/site-packages/ipykernel_launcher.py:60: UserWarning: Legend does not support 'r' instances.\n",
      "A proxy artist may be used instead.\n",
      "See: https://matplotlib.org/users/legend_guide.html#creating-artists-specifically-for-adding-to-the-legend-aka-proxy-artists\n",
      "/Users/galraz1/opt/miniconda3/envs/stan_env/lib/python3.7/site-packages/ipykernel_launcher.py:60: UserWarning: Legend does not support 'i' instances.\n",
      "A proxy artist may be used instead.\n",
      "See: https://matplotlib.org/users/legend_guide.html#creating-artists-specifically-for-adding-to-the-legend-aka-proxy-artists\n",
      "/Users/galraz1/opt/miniconda3/envs/stan_env/lib/python3.7/site-packages/ipykernel_launcher.py:60: UserWarning: Legend does not support 'o' instances.\n",
      "A proxy artist may be used instead.\n",
      "See: https://matplotlib.org/users/legend_guide.html#creating-artists-specifically-for-adding-to-the-legend-aka-proxy-artists\n",
      "/Users/galraz1/opt/miniconda3/envs/stan_env/lib/python3.7/site-packages/ipykernel_launcher.py:67: UserWarning: Legend does not support 'p' instances.\n",
      "A proxy artist may be used instead.\n",
      "See: https://matplotlib.org/users/legend_guide.html#creating-artists-specifically-for-adding-to-the-legend-aka-proxy-artists\n",
      "/Users/galraz1/opt/miniconda3/envs/stan_env/lib/python3.7/site-packages/ipykernel_launcher.py:67: UserWarning: Legend does not support 'r' instances.\n",
      "A proxy artist may be used instead.\n",
      "See: https://matplotlib.org/users/legend_guide.html#creating-artists-specifically-for-adding-to-the-legend-aka-proxy-artists\n",
      "/Users/galraz1/opt/miniconda3/envs/stan_env/lib/python3.7/site-packages/ipykernel_launcher.py:67: UserWarning: Legend does not support 'i' instances.\n",
      "A proxy artist may be used instead.\n",
      "See: https://matplotlib.org/users/legend_guide.html#creating-artists-specifically-for-adding-to-the-legend-aka-proxy-artists\n",
      "/Users/galraz1/opt/miniconda3/envs/stan_env/lib/python3.7/site-packages/ipykernel_launcher.py:67: UserWarning: Legend does not support 'o' instances.\n",
      "A proxy artist may be used instead.\n",
      "See: https://matplotlib.org/users/legend_guide.html#creating-artists-specifically-for-adding-to-the-legend-aka-proxy-artists\n"
     ]
    },
    {
     "name": "stdout",
     "output_type": "stream",
     "text": [
      "KL: -0.014530090532007467\n",
      "stimulus:  6\n",
      "sample:  21\n"
     ]
    },
    {
     "name": "stderr",
     "output_type": "stream",
     "text": [
      "WARNING:pystan:6 of 16000 iterations ended with a divergence (0.0375 %).\n",
      "WARNING:pystan:Try running with adapt_delta larger than 0.95 to remove the divergences.\n"
     ]
    },
    {
     "name": "stdout",
     "output_type": "stream",
     "text": [
      "\n",
      "Gradient evaluation took 1.2e-05 seconds\n",
      "1000 transitions using 10 leapfrog steps per transition would take 0.12 seconds.\n",
      "Adjust your expectations accordingly!\n",
      "\n",
      "\n",
      "Iteration:     1 / 20000 [  0%]  (Warmup)\n",
      "Iteration:  2000 / 20000 [ 10%]  (Warmup)\n",
      "Iteration:  4000 / 20000 [ 20%]  (Warmup)\n",
      "Iteration:  4001 / 20000 [ 20%]  (Sampling)\n",
      "Iteration:  6000 / 20000 [ 30%]  (Sampling)\n",
      "Iteration:  8000 / 20000 [ 40%]  (Sampling)\n",
      "Iteration: 10000 / 20000 [ 50%]  (Sampling)\n",
      "Iteration: 12000 / 20000 [ 60%]  (Sampling)\n",
      "Iteration: 14000 / 20000 [ 70%]  (Sampling)\n",
      "Iteration: 16000 / 20000 [ 80%]  (Sampling)\n",
      "Iteration: 18000 / 20000 [ 90%]  (Sampling)\n",
      "Iteration: 20000 / 20000 [100%]  (Sampling)\n",
      "\n",
      " Elapsed Time: 0.192848 seconds (Warm-up)\n",
      "               0.728733 seconds (Sampling)\n",
      "               0.921581 seconds (Total)\n",
      "\n"
     ]
    },
    {
     "name": "stderr",
     "output_type": "stream",
     "text": [
      "/Users/galraz1/opt/miniconda3/envs/stan_env/lib/python3.7/site-packages/ipykernel_launcher.py:60: UserWarning: Legend does not support 'p' instances.\n",
      "A proxy artist may be used instead.\n",
      "See: https://matplotlib.org/users/legend_guide.html#creating-artists-specifically-for-adding-to-the-legend-aka-proxy-artists\n",
      "/Users/galraz1/opt/miniconda3/envs/stan_env/lib/python3.7/site-packages/ipykernel_launcher.py:60: UserWarning: Legend does not support 'r' instances.\n",
      "A proxy artist may be used instead.\n",
      "See: https://matplotlib.org/users/legend_guide.html#creating-artists-specifically-for-adding-to-the-legend-aka-proxy-artists\n",
      "/Users/galraz1/opt/miniconda3/envs/stan_env/lib/python3.7/site-packages/ipykernel_launcher.py:60: UserWarning: Legend does not support 'i' instances.\n",
      "A proxy artist may be used instead.\n",
      "See: https://matplotlib.org/users/legend_guide.html#creating-artists-specifically-for-adding-to-the-legend-aka-proxy-artists\n",
      "/Users/galraz1/opt/miniconda3/envs/stan_env/lib/python3.7/site-packages/ipykernel_launcher.py:60: UserWarning: Legend does not support 'o' instances.\n",
      "A proxy artist may be used instead.\n",
      "See: https://matplotlib.org/users/legend_guide.html#creating-artists-specifically-for-adding-to-the-legend-aka-proxy-artists\n",
      "/Users/galraz1/opt/miniconda3/envs/stan_env/lib/python3.7/site-packages/ipykernel_launcher.py:67: UserWarning: Legend does not support 'p' instances.\n",
      "A proxy artist may be used instead.\n",
      "See: https://matplotlib.org/users/legend_guide.html#creating-artists-specifically-for-adding-to-the-legend-aka-proxy-artists\n",
      "/Users/galraz1/opt/miniconda3/envs/stan_env/lib/python3.7/site-packages/ipykernel_launcher.py:67: UserWarning: Legend does not support 'r' instances.\n",
      "A proxy artist may be used instead.\n",
      "See: https://matplotlib.org/users/legend_guide.html#creating-artists-specifically-for-adding-to-the-legend-aka-proxy-artists\n",
      "/Users/galraz1/opt/miniconda3/envs/stan_env/lib/python3.7/site-packages/ipykernel_launcher.py:67: UserWarning: Legend does not support 'i' instances.\n",
      "A proxy artist may be used instead.\n",
      "See: https://matplotlib.org/users/legend_guide.html#creating-artists-specifically-for-adding-to-the-legend-aka-proxy-artists\n",
      "/Users/galraz1/opt/miniconda3/envs/stan_env/lib/python3.7/site-packages/ipykernel_launcher.py:67: UserWarning: Legend does not support 'o' instances.\n",
      "A proxy artist may be used instead.\n",
      "See: https://matplotlib.org/users/legend_guide.html#creating-artists-specifically-for-adding-to-the-legend-aka-proxy-artists\n"
     ]
    },
    {
     "name": "stdout",
     "output_type": "stream",
     "text": [
      "KL: 4.984825413682619\n",
      "stimulus:  6\n",
      "sample:  22\n",
      "\n",
      "Gradient evaluation took 1.3e-05 seconds\n",
      "1000 transitions using 10 leapfrog steps per transition would take 0.13 seconds.\n",
      "Adjust your expectations accordingly!\n",
      "\n",
      "\n",
      "Iteration:     1 / 20000 [  0%]  (Warmup)\n",
      "Iteration:  2000 / 20000 [ 10%]  (Warmup)\n",
      "Iteration:  4000 / 20000 [ 20%]  (Warmup)\n",
      "Iteration:  4001 / 20000 [ 20%]  (Sampling)\n",
      "Iteration:  6000 / 20000 [ 30%]  (Sampling)\n",
      "Iteration:  8000 / 20000 [ 40%]  (Sampling)\n",
      "Iteration: 10000 / 20000 [ 50%]  (Sampling)\n",
      "Iteration: 12000 / 20000 [ 60%]  (Sampling)\n",
      "Iteration: 14000 / 20000 [ 70%]  (Sampling)\n",
      "Iteration: 16000 / 20000 [ 80%]  (Sampling)\n",
      "Iteration: 18000 / 20000 [ 90%]  (Sampling)\n",
      "Iteration: 20000 / 20000 [100%]  (Sampling)\n",
      "\n",
      " Elapsed Time: 0.16759 seconds (Warm-up)\n",
      "               0.547275 seconds (Sampling)\n",
      "               0.714865 seconds (Total)\n",
      "\n"
     ]
    },
    {
     "name": "stderr",
     "output_type": "stream",
     "text": [
      "/Users/galraz1/opt/miniconda3/envs/stan_env/lib/python3.7/site-packages/ipykernel_launcher.py:60: UserWarning: Legend does not support 'p' instances.\n",
      "A proxy artist may be used instead.\n",
      "See: https://matplotlib.org/users/legend_guide.html#creating-artists-specifically-for-adding-to-the-legend-aka-proxy-artists\n",
      "/Users/galraz1/opt/miniconda3/envs/stan_env/lib/python3.7/site-packages/ipykernel_launcher.py:60: UserWarning: Legend does not support 'r' instances.\n",
      "A proxy artist may be used instead.\n",
      "See: https://matplotlib.org/users/legend_guide.html#creating-artists-specifically-for-adding-to-the-legend-aka-proxy-artists\n",
      "/Users/galraz1/opt/miniconda3/envs/stan_env/lib/python3.7/site-packages/ipykernel_launcher.py:60: UserWarning: Legend does not support 'i' instances.\n",
      "A proxy artist may be used instead.\n",
      "See: https://matplotlib.org/users/legend_guide.html#creating-artists-specifically-for-adding-to-the-legend-aka-proxy-artists\n",
      "/Users/galraz1/opt/miniconda3/envs/stan_env/lib/python3.7/site-packages/ipykernel_launcher.py:60: UserWarning: Legend does not support 'o' instances.\n",
      "A proxy artist may be used instead.\n",
      "See: https://matplotlib.org/users/legend_guide.html#creating-artists-specifically-for-adding-to-the-legend-aka-proxy-artists\n",
      "/Users/galraz1/opt/miniconda3/envs/stan_env/lib/python3.7/site-packages/ipykernel_launcher.py:67: UserWarning: Legend does not support 'p' instances.\n",
      "A proxy artist may be used instead.\n",
      "See: https://matplotlib.org/users/legend_guide.html#creating-artists-specifically-for-adding-to-the-legend-aka-proxy-artists\n",
      "/Users/galraz1/opt/miniconda3/envs/stan_env/lib/python3.7/site-packages/ipykernel_launcher.py:67: UserWarning: Legend does not support 'r' instances.\n",
      "A proxy artist may be used instead.\n",
      "See: https://matplotlib.org/users/legend_guide.html#creating-artists-specifically-for-adding-to-the-legend-aka-proxy-artists\n",
      "/Users/galraz1/opt/miniconda3/envs/stan_env/lib/python3.7/site-packages/ipykernel_launcher.py:67: UserWarning: Legend does not support 'i' instances.\n",
      "A proxy artist may be used instead.\n",
      "See: https://matplotlib.org/users/legend_guide.html#creating-artists-specifically-for-adding-to-the-legend-aka-proxy-artists\n",
      "/Users/galraz1/opt/miniconda3/envs/stan_env/lib/python3.7/site-packages/ipykernel_launcher.py:67: UserWarning: Legend does not support 'o' instances.\n",
      "A proxy artist may be used instead.\n",
      "See: https://matplotlib.org/users/legend_guide.html#creating-artists-specifically-for-adding-to-the-legend-aka-proxy-artists\n"
     ]
    },
    {
     "name": "stdout",
     "output_type": "stream",
     "text": [
      "KL: 0.11475315945464769\n",
      "stimulus:  6\n",
      "sample:  23\n",
      "\n",
      "Gradient evaluation took 1.6e-05 seconds\n",
      "1000 transitions using 10 leapfrog steps per transition would take 0.16 seconds.\n",
      "Adjust your expectations accordingly!\n",
      "\n",
      "\n",
      "Iteration:     1 / 20000 [  0%]  (Warmup)\n",
      "Iteration:  2000 / 20000 [ 10%]  (Warmup)\n",
      "Iteration:  4000 / 20000 [ 20%]  (Warmup)\n",
      "Iteration:  4001 / 20000 [ 20%]  (Sampling)\n",
      "Iteration:  6000 / 20000 [ 30%]  (Sampling)\n",
      "Iteration:  8000 / 20000 [ 40%]  (Sampling)\n",
      "Iteration: 10000 / 20000 [ 50%]  (Sampling)\n",
      "Iteration: 12000 / 20000 [ 60%]  (Sampling)\n",
      "Iteration: 14000 / 20000 [ 70%]  (Sampling)\n",
      "Iteration: 16000 / 20000 [ 80%]  (Sampling)\n",
      "Iteration: 18000 / 20000 [ 90%]  (Sampling)\n",
      "Iteration: 20000 / 20000 [100%]  (Sampling)\n",
      "\n",
      " Elapsed Time: 0.183055 seconds (Warm-up)\n",
      "               0.802102 seconds (Sampling)\n",
      "               0.985157 seconds (Total)\n",
      "\n"
     ]
    },
    {
     "name": "stderr",
     "output_type": "stream",
     "text": [
      "/Users/galraz1/opt/miniconda3/envs/stan_env/lib/python3.7/site-packages/ipykernel_launcher.py:60: UserWarning: Legend does not support 'p' instances.\n",
      "A proxy artist may be used instead.\n",
      "See: https://matplotlib.org/users/legend_guide.html#creating-artists-specifically-for-adding-to-the-legend-aka-proxy-artists\n",
      "/Users/galraz1/opt/miniconda3/envs/stan_env/lib/python3.7/site-packages/ipykernel_launcher.py:60: UserWarning: Legend does not support 'r' instances.\n",
      "A proxy artist may be used instead.\n",
      "See: https://matplotlib.org/users/legend_guide.html#creating-artists-specifically-for-adding-to-the-legend-aka-proxy-artists\n",
      "/Users/galraz1/opt/miniconda3/envs/stan_env/lib/python3.7/site-packages/ipykernel_launcher.py:60: UserWarning: Legend does not support 'i' instances.\n",
      "A proxy artist may be used instead.\n",
      "See: https://matplotlib.org/users/legend_guide.html#creating-artists-specifically-for-adding-to-the-legend-aka-proxy-artists\n",
      "/Users/galraz1/opt/miniconda3/envs/stan_env/lib/python3.7/site-packages/ipykernel_launcher.py:60: UserWarning: Legend does not support 'o' instances.\n",
      "A proxy artist may be used instead.\n",
      "See: https://matplotlib.org/users/legend_guide.html#creating-artists-specifically-for-adding-to-the-legend-aka-proxy-artists\n",
      "/Users/galraz1/opt/miniconda3/envs/stan_env/lib/python3.7/site-packages/ipykernel_launcher.py:67: UserWarning: Legend does not support 'p' instances.\n",
      "A proxy artist may be used instead.\n",
      "See: https://matplotlib.org/users/legend_guide.html#creating-artists-specifically-for-adding-to-the-legend-aka-proxy-artists\n",
      "/Users/galraz1/opt/miniconda3/envs/stan_env/lib/python3.7/site-packages/ipykernel_launcher.py:67: UserWarning: Legend does not support 'r' instances.\n",
      "A proxy artist may be used instead.\n",
      "See: https://matplotlib.org/users/legend_guide.html#creating-artists-specifically-for-adding-to-the-legend-aka-proxy-artists\n",
      "/Users/galraz1/opt/miniconda3/envs/stan_env/lib/python3.7/site-packages/ipykernel_launcher.py:67: UserWarning: Legend does not support 'i' instances.\n",
      "A proxy artist may be used instead.\n",
      "See: https://matplotlib.org/users/legend_guide.html#creating-artists-specifically-for-adding-to-the-legend-aka-proxy-artists\n",
      "/Users/galraz1/opt/miniconda3/envs/stan_env/lib/python3.7/site-packages/ipykernel_launcher.py:67: UserWarning: Legend does not support 'o' instances.\n",
      "A proxy artist may be used instead.\n",
      "See: https://matplotlib.org/users/legend_guide.html#creating-artists-specifically-for-adding-to-the-legend-aka-proxy-artists\n"
     ]
    },
    {
     "name": "stdout",
     "output_type": "stream",
     "text": [
      "KL: 0.00407840864805669\n"
     ]
    },
    {
     "data": {
      "image/png": "[encoded data removed]",
      "text/plain": [
       "<Figure size 1296x864 with 24 Axes>"
      ]
     },
     "metadata": {
      "needs_background": "light"
     },
     "output_type": "display_data"
    },
    {
     "data": {
      "image/png": "[encoded data removed]",
      "text/plain": [
       "<Figure size 1296x864 with 24 Axes>"
      ]
     },
     "metadata": {
      "needs_background": "light"
     },
     "output_type": "display_data"
    },
    {
     "data": {
      "image/png": "[encoded data removed]",
      "text/plain": [
       "<Figure size 1296x864 with 1 Axes>"
      ]
     },
     "metadata": {
      "needs_background": "light"
     },
     "output_type": "display_data"
    },
    {
     "data": {
      "image/png": "[encoded data removed]",
      "text/plain": [
       "<Figure size 1296x864 with 1 Axes>"
      ]
     },
     "metadata": {
      "needs_background": "light"
     },
     "output_type": "display_data"
    }
   ],
   "source": [
    "for run in np.arange(0, num_model_runs):\n",
    "    \n",
    "    print('model run: ', run)\n",
    "\n",
    "    # generate the data\n",
    "    sim_data = [np.random.multivariate_normal(exemplar_means[idx-1], sig) for idx in exemplar_idx] \n",
    "    sim_data = np.asmatrix(sim_data)\n",
    "\n",
    "    # Iterators\n",
    "    samples_from_current_stim = 1\n",
    "    total_samples = 1\n",
    "    exemplar_num = 1\n",
    "\n",
    "    # initialize data\n",
    "    sample_data = np.empty((num_samples,num_features))\n",
    "    sample_data[:] = np.nan\n",
    "\n",
    "    exemplar_labels = np.empty((num_samples,))\n",
    "    exemplar_labels[:] = np.nan\n",
    "\n",
    "    while sample or samples_from_current_stim > 1:\n",
    "        \n",
    "        print('stimulus: ', exemplar_num)\n",
    "        \n",
    "        print('sample: ', total_samples)\n",
    "\n",
    "        \n",
    "        # sample number\n",
    "        data[\"M\"] = total_samples\n",
    "\n",
    "        # exemplar number \n",
    "        data[\"K\"] = exemplar_num\n",
    "\n",
    "        # add sim data\n",
    "        sample_data[total_samples-1] = sim_data[exemplar_idx == exemplar_num][samples_from_current_stim-1]\n",
    "        data[\"z\"] = np.transpose(sample_data[0:total_samples,:])\n",
    "\n",
    "        # add exemplar for each id\n",
    "        exemplar_labels[total_samples-1] = int(exemplar_num)\n",
    "        data[\"exemplar_idx\"] = [int(x) for x in exemplar_labels[~np.isnan(exemplar_labels)]]\n",
    "\n",
    "        # get posterior samples\n",
    "        fit = sm.sampling(data=data, iter=num_iter, chains=1, warmup = num_warmup,control=dict(adapt_delta=0.95));\n",
    "        \n",
    "        \n",
    "        posterior = np.hstack((fit['mu'][0:len(fit['mu']):thinning_factor], \\\n",
    "                               fit['sigma'][0:len(fit['mu']):thinning_factor]))\n",
    "        \n",
    "        # fit gmms\n",
    "        gmm_p = GaussianMixture(n_components=2, random_state=0).fit(posterior)\n",
    "        gmm_q = GaussianMixture(n_components=2, random_state=0).fit(prior)\n",
    "\n",
    "        if total_samples < 30:\n",
    "            \n",
    "            plt.figure(1)\n",
    "            plt.rcParams['figure.figsize'] = [18, 12]\n",
    "            plt.subplot(4,5,total_samples)\n",
    "            plt.hist(np.hstack((prior[:,[0]],posterior[:,[0]])), bins = 100);\n",
    "            plt.title(str(total_samples) + \" , \" + str(exemplar_num))\n",
    "            plt.legend('prior', 'posterior')\n",
    "            \n",
    "            plt.figure(2)\n",
    "            plt.rcParams['figure.figsize'] = [18, 12]\n",
    "            plt.subplot(4,5,total_samples)\n",
    "            plt.hist(np.hstack((prior[:,[1]],posterior[:,[1]])), bins = 100);\n",
    "            plt.title(str(total_samples) + \" , \" + str(exemplar_num))\n",
    "            plt.legend('prior', 'posterior')\n",
    "           \n",
    "           \n",
    "        else: \n",
    "            plt.show()\n",
    "            break;\n",
    "            \n",
    "        if policy is 'kl':\n",
    "\n",
    "            X = gmm_p.sample(posterior.shape[0])\n",
    "\n",
    "            log_p_X = gmm_p.score_samples(X[0])\n",
    "            log_q_X = gmm_q.score_samples(X[0])\n",
    "\n",
    "            # KL divergence between prior and posterior\n",
    "            stim_info[run, total_samples-1] = log_p_X.mean() - log_q_X.mean()\n",
    "\n",
    "            \n",
    "            #\n",
    "            \n",
    "            print('KL:',  stim_info[run,total_samples-1])\n",
    "\n",
    "        elif policy is 'entropy':\n",
    "            # reduction of entropy\n",
    "            stim_info[run,total_samples-1] = np.abs(continuous.get_h(prior, k= 250) - continuous.get_h(posterior, k = 250))\n",
    "            \n",
    "            print('entropy change:',  stim_info[run,total_samples-1])\n",
    "            \n",
    "        elif policy is 'surprisal':   \n",
    "                            \n",
    "            # surprisal of current observation given prior\n",
    "            stim_info[run, total_samples-1] = surprisal(np.squeeze(fit['z_rep'], axis = 1), sample_data[total_samples-1])\n",
    "            \n",
    "            print('surprisal:',  stim_info[run,total_samples-1])\n",
    "\n",
    "        elif policy is 'EIG':\n",
    "            \n",
    "            hypothethical_grid = np.arange(-2, 2, 0.1)\n",
    "            \n",
    "            stim_info[run,total_samples-1] = EIG(posterior)\n",
    "\n",
    "        # decision rule\n",
    "        if stim_info[run,total_samples-1] < env_info:\n",
    "            model_LT[run, exemplar_num-1] = samples_from_current_stim\n",
    "\n",
    "            # reset/increment counters\n",
    "            samples_from_current_stim = 1\n",
    "            exemplar_num += 1\n",
    "\n",
    "            if exemplar_num > sequence_length:\n",
    "                sample = False\n",
    "\n",
    "        else:\n",
    "            samples_from_current_stim += 1 \n",
    "\n",
    "        if policy is 'kl' or policy is 'surprisal' or policy is 'entropy':\n",
    "            prior = posterior\n",
    "        \n",
    "        total_samples += 1\n",
    "\n",
    "    # start sampling for next model run\n",
    "    sample = True\n",
    "\n",
    "    \n",
    "plt.show()\n",
    "\n",
    "\n",
    "font = {'family' : 'normal',\n",
    "        'weight' : 'bold',\n",
    "        'size'   : 22}\n",
    "\n",
    "plt.rc('font', **font)\n",
    "\n",
    "plt.plot(np.arange(1,sequence_length+1), np.mean(model_LT, axis = 0).squeeze(), 'k*')\n",
    "\n",
    "plt.xlabel(\"stim index\")\n",
    "plt.ylabel(\"model samples\")\n",
    "plt.title(\"\")\n",
    "\n",
    "plt.show()\n",
    "\n",
    "\n",
    "plt.plot(np.arange(1,total_samples+1),np.mean(stim_info, axis = 0)[0:total_samples].squeeze(), markersize = 20)\n",
    "\n",
    "plt.xlabel(\"sample index\")\n",
    "plt.ylabel(\"stim info\")\n",
    "plt.title(\"\")\n",
    "plt.show()"
   ]
  },
  {
   "cell_type": "code",
   "execution_count": 71,
   "metadata": {},
   "outputs": [
    {
     "data": {
      "image/png": "[encoded data removed]",
      "text/plain": [
       "<Figure size 1296x864 with 1 Axes>"
      ]
     },
     "metadata": {
      "needs_background": "light"
     },
     "output_type": "display_data"
    },
    {
     "name": "stdout",
     "output_type": "stream",
     "text": [
      "kl div: 1.9389252800833203\n",
      "means\n",
      "[0.0029953  1.02672432]\n",
      "[0.77125344 0.41720897]\n",
      "SD\n"
     ]
    },
    {
     "ename": "NameError",
     "evalue": "name 'sd_prior' is not defined",
     "output_type": "error",
     "traceback": [
      "\u001b[0;31m---------------------------------------------------------------------------\u001b[0m",
      "\u001b[0;31mNameError\u001b[0m                                 Traceback (most recent call last)",
      "\u001b[0;32m/var/folders/ll/vmwcshdn1xd84d7z8myb9w7m0000gp/T/ipykernel_70430/482501822.py\u001b[0m in \u001b[0;36m<module>\u001b[0;34m\u001b[0m\n\u001b[1;32m     38\u001b[0m \u001b[0;34m\u001b[0m\u001b[0m\n\u001b[1;32m     39\u001b[0m \u001b[0mprint\u001b[0m\u001b[0;34m(\u001b[0m\u001b[0;34m\"SD\"\u001b[0m\u001b[0;34m)\u001b[0m\u001b[0;34m\u001b[0m\u001b[0;34m\u001b[0m\u001b[0m\n\u001b[0;32m---> 40\u001b[0;31m \u001b[0mprint\u001b[0m\u001b[0;34m(\u001b[0m\u001b[0msd_prior\u001b[0m\u001b[0;34m)\u001b[0m\u001b[0;34m\u001b[0m\u001b[0;34m\u001b[0m\u001b[0m\n\u001b[0m\u001b[1;32m     41\u001b[0m \u001b[0mprint\u001b[0m\u001b[0;34m(\u001b[0m\u001b[0msd_posterior\u001b[0m\u001b[0;34m)\u001b[0m\u001b[0;34m\u001b[0m\u001b[0;34m\u001b[0m\u001b[0m\n\u001b[1;32m     42\u001b[0m \u001b[0;34m\u001b[0m\u001b[0m\n",
      "\u001b[0;31mNameError\u001b[0m: name 'sd_prior' is not defined"
     ]
    }
   ],
   "source": [
    "font = {'family' : 'normal',\n",
    "        'weight' : 'bold',\n",
    "        'size'   : 22}\n",
    "\n",
    "plt.rc('font', **font)\n",
    "\n",
    "#plt.plot(np.arange(1,sequence_length+1), np.mean(model_LT, axis = 0).squeeze(), 'k*', markersize = 20)\n",
    "\n",
    "#plt.xlabel(\"stim index\")\n",
    "#plt.ylabel(\"model samples\")\n",
    "#plt.title(\"\")\n",
    "\n",
    "#plt.show()\n",
    "\n",
    "plt.plot(np.arange(1,total_samples+1),np.mean(stim_info, axis = 0)[0:total_samples].squeeze(), markersize = 20)\n",
    "\n",
    "plt.xlabel(\"sample index\")\n",
    "plt.ylabel(\"surprisal\")\n",
    "plt.title(\"\")\n",
    "plt.show()\n",
    "\n",
    "mean_prior = np.mean(prior, axis = 0)\n",
    "\n",
    "cov_prior = np.cov(np.transpose(prior))\n",
    "\n",
    "mean_posterior = np.mean(posterior, axis = 0)\n",
    "\n",
    "cov_posterior = np.cov(np.transpose(posterior))\n",
    "\n",
    "\n",
    "print('kl div:', kl_mvn(mean_posterior, cov_posterior, mean_prior, cov_prior))\n",
    "\n",
    "\n",
    "print(\"means\")\n",
    "\n",
    "print(mean_prior)\n",
    "print(mean_posterior)\n",
    "\n",
    "print(\"SD\")\n",
    "print(sd_prior)\n",
    "print(sd_posterior)\n",
    "\n",
    "print(\"data\")\n",
    "print(data['z'])\n",
    "print(data['exemplar_idx'])\n",
    "\n",
    "\n",
    "data['z']\n",
    "\n",
    "posterior.shape\n",
    "\n",
    "\n"
   ]
  },
  {
   "cell_type": "code",
   "execution_count": 54,
   "metadata": {},
   "outputs": [
    {
     "data": {
      "text/plain": [
       "(16000, 2)"
      ]
     },
     "execution_count": 54,
     "metadata": {},
     "output_type": "execute_result"
    }
   ],
   "source": [
    "posterior.shape"
   ]
  },
  {
   "cell_type": "code",
   "execution_count": 72,
   "metadata": {},
   "outputs": [
    {
     "data": {
      "text/plain": [
       "-3.7146721307353054"
      ]
     },
     "execution_count": 72,
     "metadata": {},
     "output_type": "execute_result"
    }
   ],
   "source": [
    "gmm_p = GaussianMixture(n_components=2, random_state=0).fit(posterior)\n",
    "gmm_q = GaussianMixture(n_components=2, random_state=0).fit(prior)\n",
    "\n",
    "X = gmm_p.sample(posterior.shape[0])\n",
    "\n",
    "log_p_X = gmm_p.score_samples(X[0])\n",
    "log_q_X, _ = gmm_q.score_samples(X[0])"
   ]
  },
  {
   "cell_type": "code",
   "execution_count": 50,
   "metadata": {},
   "outputs": [
    {
     "name": "stdout",
     "output_type": "stream",
     "text": [
      "means:  [[0.27129736]\n",
      " [0.87890242]]\n",
      "covariances:  [[[0.02682581]]\n",
      "\n",
      " [[0.22641521]]]\n",
      "precisions:  [[[37.27753524]]\n",
      "\n",
      " [[ 4.41666434]]]\n",
      "weights:  [0.70806028 0.29193972]\n"
     ]
    },
    {
     "data": {
      "text/plain": [
       "(0.0, 3500.0)"
      ]
     },
     "execution_count": 50,
     "metadata": {},
     "output_type": "execute_result"
    },
    {
     "data": {
      "image/png": "[encoded data removed]",
      "text/plain": [
       "<Figure size 1296x864 with 2 Axes>"
      ]
     },
     "metadata": {
      "needs_background": "light"
     },
     "output_type": "display_data"
    }
   ],
   "source": [
    "print('means: ', gm.means_)\n",
    "print('covariances: ', gm.covariances_)\n",
    "\n",
    "print('precisions: ', gm.precisions_)\n",
    "\n",
    "print('weights: ', gm.weights_)\n",
    "\n",
    "\n",
    "plt.subplot(1,2,1)\n",
    "plt.hist(posterior[:,1], bins = 40)\n",
    "plt.title('original posterior')\n",
    "plt.xlim([-1.5, 2])\n",
    "plt.ylim([0, 3500])\n",
    "\n",
    "plt.subplot(1,2,2)\n",
    "plt.hist(gm.sample(16000)[0], bins = 40)\n",
    "plt.title('resampled from gaussian mixture')\n",
    "plt.ylim([0, 3500])\n"
   ]
  },
  {
   "cell_type": "code",
   "execution_count": 42,
   "metadata": {},
   "outputs": [
    {
     "data": {
      "text/plain": [
       "(16000, 2)"
      ]
     },
     "execution_count": 42,
     "metadata": {},
     "output_type": "execute_result"
    }
   ],
   "source": [
    "posterior.shape"
   ]
  },
  {
   "cell_type": "code",
   "execution_count": 120,
   "metadata": {},
   "outputs": [
    {
     "data": {
      "text/plain": [
       "array([[2., 2., 2., 3., 0., 0.],\n",
       "       [2., 3., 4., 0., 0., 0.],\n",
       "       [4., 3., 2., 0., 0., 0.]])"
      ]
     },
     "execution_count": 120,
     "metadata": {},
     "output_type": "execute_result"
    }
   ],
   "source": [
    "model_LT"
   ]
  },
  {
   "cell_type": "code",
   "execution_count": 106,
   "metadata": {},
   "outputs": [
    {
     "data": {
      "text/plain": [
       "array([ 2.01619232,  0.00371586,  0.18321453,  0.19169076, -0.01187171,\n",
       "        0.30167573,  0.0515528 ,  0.14896336, -0.01617405,  0.23803791,\n",
       "               nan,         nan,         nan,         nan,         nan,\n",
       "               nan,         nan,         nan,         nan,         nan])"
      ]
     },
     "execution_count": 106,
     "metadata": {},
     "output_type": "execute_result"
    }
   ],
   "source": [
    "stim_info[1,0:20]"
   ]
  },
  {
   "cell_type": "code",
   "execution_count": 88,
   "metadata": {},
   "outputs": [
    {
     "data": {
      "text/plain": [
       "21"
      ]
     },
     "execution_count": 88,
     "metadata": {},
     "output_type": "execute_result"
    }
   ],
   "source": [
    "total_samples"
   ]
  },
  {
   "cell_type": "code",
   "execution_count": 107,
   "metadata": {},
   "outputs": [
    {
     "data": {
      "text/plain": [
       "array([ 1.,  1.,  1., ..., nan, nan, nan])"
      ]
     },
     "execution_count": 107,
     "metadata": {},
     "output_type": "execute_result"
    }
   ],
   "source": [
    "exemplar_num\n",
    "exemplar_labels"
   ]
  },
  {
   "cell_type": "code",
   "execution_count": 113,
   "metadata": {},
   "outputs": [
    {
     "data": {
      "text/plain": [
       "(3, 3000)"
      ]
     },
     "execution_count": 113,
     "metadata": {},
     "output_type": "execute_result"
    }
   ],
   "source": [
    "stim_info.shape"
   ]
  },
  {
   "cell_type": "code",
   "execution_count": 127,
   "metadata": {},
   "outputs": [
    {
     "data": {
      "image/png": "[encoded data removed]",
      "text/plain": [
       "<Figure size 432x288 with 1 Axes>"
      ]
     },
     "metadata": {
      "needs_background": "light"
     },
     "output_type": "display_data"
    }
   ],
   "source": [
    "plt.plot(fit['mu'][0:len(fit['mu']):thinning_factor], fit['sigma'][0:len(fit['mu']):thinning_factor], 'k*')\n",
    "plt.show()"
   ]
  },
  {
   "cell_type": "code",
   "execution_count": 129,
   "metadata": {},
   "outputs": [
    {
     "data": {
      "text/plain": [
       "(array([151., 418., 580., 683., 746., 822., 875., 918., 918., 878., 858.,\n",
       "        851., 764., 730., 696., 676., 641., 600., 563., 504., 453., 389.,\n",
       "        391., 322., 353., 293., 257., 244., 250., 211., 203., 171., 164.,\n",
       "        133., 135., 118., 109.,  96.,  77.,  73.,  79.,  66.,  64.,  45.,\n",
       "         44.,  36.,  35.,  37.,  32.,  34.,  24.,  17.,  28.,  11.,  19.,\n",
       "          9.,  12.,  10.,   9.,   8.,   1.,   7.,   4.,   7.,   4.,   4.,\n",
       "          4.,   3.,   2.,   3.,   1.,   3.,   4.,   2.,   2.,   1.,   1.,\n",
       "          0.,   0.,   1.,   3.,   0.,   0.,   0.,   0.,   3.,   0.,   0.,\n",
       "          0.,   1.,   0.,   0.,   1.,   1.,   1.,   0.,   1.,   1.,   0.,\n",
       "          1.]),\n",
       " array([1.60952816e-02, 2.73371299e-01, 5.30647317e-01, 7.87923335e-01,\n",
       "        1.04519935e+00, 1.30247537e+00, 1.55975139e+00, 1.81702741e+00,\n",
       "        2.07430342e+00, 2.33157944e+00, 2.58885546e+00, 2.84613148e+00,\n",
       "        3.10340750e+00, 3.36068351e+00, 3.61795953e+00, 3.87523555e+00,\n",
       "        4.13251157e+00, 4.38978759e+00, 4.64706360e+00, 4.90433962e+00,\n",
       "        5.16161564e+00, 5.41889166e+00, 5.67616768e+00, 5.93344369e+00,\n",
       "        6.19071971e+00, 6.44799573e+00, 6.70527175e+00, 6.96254776e+00,\n",
       "        7.21982378e+00, 7.47709980e+00, 7.73437582e+00, 7.99165184e+00,\n",
       "        8.24892785e+00, 8.50620387e+00, 8.76347989e+00, 9.02075591e+00,\n",
       "        9.27803193e+00, 9.53530794e+00, 9.79258396e+00, 1.00498600e+01,\n",
       "        1.03071360e+01, 1.05644120e+01, 1.08216880e+01, 1.10789641e+01,\n",
       "        1.13362401e+01, 1.15935161e+01, 1.18507921e+01, 1.21080681e+01,\n",
       "        1.23653441e+01, 1.26226202e+01, 1.28798962e+01, 1.31371722e+01,\n",
       "        1.33944482e+01, 1.36517242e+01, 1.39090002e+01, 1.41662763e+01,\n",
       "        1.44235523e+01, 1.46808283e+01, 1.49381043e+01, 1.51953803e+01,\n",
       "        1.54526564e+01, 1.57099324e+01, 1.59672084e+01, 1.62244844e+01,\n",
       "        1.64817604e+01, 1.67390364e+01, 1.69963125e+01, 1.72535885e+01,\n",
       "        1.75108645e+01, 1.77681405e+01, 1.80254165e+01, 1.82826926e+01,\n",
       "        1.85399686e+01, 1.87972446e+01, 1.90545206e+01, 1.93117966e+01,\n",
       "        1.95690726e+01, 1.98263487e+01, 2.00836247e+01, 2.03409007e+01,\n",
       "        2.05981767e+01, 2.08554527e+01, 2.11127287e+01, 2.13700048e+01,\n",
       "        2.16272808e+01, 2.18845568e+01, 2.21418328e+01, 2.23991088e+01,\n",
       "        2.26563849e+01, 2.29136609e+01, 2.31709369e+01, 2.34282129e+01,\n",
       "        2.36854889e+01, 2.39427649e+01, 2.42000410e+01, 2.44573170e+01,\n",
       "        2.47145930e+01, 2.49718690e+01, 2.52291450e+01, 2.54864211e+01,\n",
       "        2.57436971e+01]),\n",
       " <BarContainer object of 100 artists>)"
      ]
     },
     "execution_count": 129,
     "metadata": {},
     "output_type": "execute_result"
    },
    {
     "data": {
      "image/png": "[encoded data removed]",
      "text/plain": [
       "<Figure size 432x288 with 1 Axes>"
      ]
     },
     "metadata": {
      "needs_background": "light"
     },
     "output_type": "display_data"
    }
   ],
   "source": [
    "plt.hist(prior_sigma, bins = 100)"
   ]
  }
 ],
 "metadata": {
  "kernelspec": {
   "display_name": "Python 3 (ipykernel)",
   "language": "python",
   "name": "python3"
  },
  "language_info": {
   "codemirror_mode": {
    "name": "ipython",
    "version": 3
   },
   "file_extension": ".py",
   "mimetype": "text/x-python",
   "name": "python",
   "nbconvert_exporter": "python",
   "pygments_lexer": "ipython3",
   "version": "3.7.13"
  },
  "vscode": {
   "interpreter": {
    "hash": "27c5f53aa2a72cb83d695644322e5c228d48779d014791c7ecd15aee1ee6a87e"
   }
  }
 },
 "nbformat": 4,
 "nbformat_minor": 2
}
