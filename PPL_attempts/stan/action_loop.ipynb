{
 "cells": [
  {
   "cell_type": "code",
   "execution_count": 1,
   "metadata": {},
   "outputs": [
    {
     "name": "stderr",
     "output_type": "stream",
     "text": [
      "/Users/galraz1/opt/miniconda3/envs/stan/lib/python3.9/site-packages/tqdm/auto.py:22: TqdmWarning: IProgress not found. Please update jupyter and ipywidgets. See https://ipywidgets.readthedocs.io/en/stable/user_install.html\n",
      "  from .autonotebook import tqdm as notebook_tqdm\n",
      "/Users/galraz1/opt/miniconda3/envs/stan/lib/python3.9/site-packages/scipy/__init__.py:146: UserWarning: A NumPy version >=1.16.5 and <1.23.0 is required for this version of SciPy (detected version 1.23.3\n",
      "  warnings.warn(f\"A NumPy version >={np_minversion} and <{np_maxversion}\"\n"
     ]
    }
   ],
   "source": [
    "import math\n",
    "import os\n",
    "import pickle\n",
    "import random\n",
    "\n",
    "import matplotlib.pyplot as plt\n",
    "import numpy as np\n",
    "import pandas as pd\n",
    "#import arviz\n",
    "import stan as pystan\n",
    "\n",
    "import multiprocessing\n",
    "multiprocessing.set_start_method('spawn', True)\n",
    "\n",
    "from cmdstanpy.model import CmdStanModel\n",
    "from cmdstanpy.utils import cmdstan_path\n",
    "from scipy.spatial import cKDTree as KDTree\n",
    "from scipy.stats import entropy, gamma, gaussian_kde, multivariate_normal\n",
    "#from sklearn.mixture import GaussianMixture\n",
    "#from sklearn.neighbors import KernelDensity\n",
    "\n",
    "# from fastkde import fastKDE\n",
    "# from entropy_estimators import continuous\n",
    "# import seaborn as sns\n",
    "# from tqdm.auto import tqdm"
   ]
  },
  {
   "cell_type": "markdown",
   "metadata": {},
   "source": [
    "# Helper functions    "
   ]
  },
  {
   "cell_type": "code",
   "execution_count": 2,
   "metadata": {},
   "outputs": [],
   "source": [
    "def KLdivergence(x, y):\n",
    "    # Check the dimensions are consistent\n",
    "    x = np.atleast_2d(x)\n",
    "    y = np.atleast_2d(y)\n",
    "\n",
    "    n,d = x.shape\n",
    "    m,dy = y.shape\n",
    "\n",
    "    assert(d == dy)\n",
    "\n",
    "    # Build a KD tree representation of the samples and find the nearest neighbour\n",
    "    # of each point in x.\n",
    "    xtree = KDTree(x)\n",
    "    ytree = KDTree(y)\n",
    "\n",
    "  # Get the first two nearest neighbours for x, since the closest one is the\n",
    "  # sample itself.\n",
    "    thresh = 1e-4\n",
    "    #r = xtree.query(x, k=100, eps=.01, p=2)[0]\n",
    "    #s = ytree.query(x, k=100, eps=.01, p=2)[0]\n",
    "\n",
    "    r = xtree.query(x, k=100, eps=.01, p=2)[0]\n",
    "    s = ytree.query(x, k=100, eps=.01, p=2)[0]\n",
    "\n",
    "    r = r[np.arange(r.shape[0]), np.argmax(r > thresh, axis=1)] \n",
    "    s = s[np.arange(s.shape[0]), np.argmax(s > thresh, axis=1)]\n",
    "    \n",
    "    if math.isinf(-np.log(r/s).sum() * d / n + np.log(m / (n - 1.))):\n",
    "        a = 0;\n",
    "\n",
    "    # There is a mistake in the paper. In Eq. 14, the right side misses a negative sign\n",
    "    # on the first term of the right hand side.\n",
    "    return -np.log(r/s).sum() * d / n + np.log(m / (n - 1.))\n",
    "\n",
    "def kl_mvn(m0, S0, m1, S1):\n",
    " \n",
    "  # store inv diag covariance of S1 and diff between means\n",
    "  N = m0.shape[0]\n",
    "  iS1 = np.linalg.inv(S1)\n",
    "  diff = m1 - m0\n",
    "\n",
    "  # kl is made of three terms\n",
    "  tr_term   = np.trace(iS1 @ S0)\n",
    "  det_term  = np.log(np.linalg.det(S1)/np.linalg.det(S0)) #np.sum(np.log(S1)) - np.sum(np.log(S0))\n",
    "  quad_term = diff.T @ np.linalg.inv(S1) @ diff #np.sum( (diff*diff) * iS1, axis=1)\n",
    "  #print(tr_term,det_term,quad_term)\n",
    "  return .5 * (tr_term + det_term + quad_term - N) \n",
    "\n",
    "def surprisal(dist, sample):\n",
    "    kde = gaussian_kde(dist)\n",
    "    prob = kde.evaluate(sample)\n",
    "    return -np.log(prob)\n",
    "\n",
    "\n",
    "def EIG(dist, grid, thinning_factor):\n",
    "        print(np.arange(-1.9, 2, 0.25))\n",
    "        \n",
    "        for hypothetical_obs in grid:\n",
    "            \n",
    "            data[\"z\"] = np.hstack(np.transpose(sample_data[0:total_samples,:]), hypothetical_obs)\n",
    "\n",
    "            # get posterior samples\n",
    "            fit = sm.sampling(data=data, iter=num_iter, chains=1, warmup = num_warmup,control=dict(adapt_delta=0.95));\n",
    "        \n",
    "            hyp_posterior = np.hstack((fit['mu'][0:len(fit['mu']):thinning_factor], \\\n",
    "                       fit['sigma'][0:len(fit['mu']):thinning_factor]))\n",
    "            \n",
    "            hyp_entropy_reduction = np.abs(continuous.get_h(posterior, k = 200) - continuous.get_h(hyp_posterior, k = 200))\n",
    "            \n",
    "            pp =  kde = gaussian_kde(dist)\n",
    "            prob = kde.evaluate(hypothetical_obs)\n",
    "            \n",
    "            EIG += pp * hyp_entropy_reduction\n",
    "        return EIG\n",
    "  \n",
    "  "
   ]
  },
  {
   "cell_type": "markdown",
   "metadata": {},
   "source": [
    "Build model"
   ]
  },
  {
   "cell_type": "code",
   "execution_count": 3,
   "metadata": {},
   "outputs": [],
   "source": [
    "# whether to recompile the stan program\n",
    "DO_COMPILE = True\n",
    "\n",
    "# simple noise or prior on noise\n",
    "SIMPLE_NOISE = False\n",
    "\n",
    "# stan program path\n",
    "if SIMPLE_NOISE:\n",
    "    stan_path = 'multi_feature_simple_noise.stan'\n",
    "    pkl_file = 'model_simple_noise.pkl'\n",
    "else:\n",
    "    stan_path = 'multi_feature.stan'\n",
    "    pkl_file = 'model.pkl'\n",
    "\n",
    "\n",
    "def build_model(path, pkl_file=None, do_compile=True):\n",
    "    if do_compile:\n",
    "        sm = pystan.StanModel(file=path)\n",
    "        if pkl_file is not None:\n",
    "            with open(pkl_file, 'wb') as f:\n",
    "                pickle.dump(sm, f)\n",
    "\n",
    "    # if the program hasn't been complied, check that the file already exists\n",
    "    else: \n",
    "        if os.path.isfile(pkl_file):\n",
    "            sm = pickle.load(open(pkl_file, 'rb'))\n",
    "        else:\n",
    "            raise FileNotFoundError\n",
    "    return sm\n",
    "\n",
    "\n",
    "sm = CmdStanModel(stan_file = 'multi_feature.stan')\n",
    "\n"
   ]
  },
  {
   "cell_type": "markdown",
   "metadata": {},
   "source": [
    "Model parameters"
   ]
  },
  {
   "cell_type": "code",
   "execution_count": 4,
   "metadata": {},
   "outputs": [],
   "source": [
    "# mu\n",
    "mu_mean = 0\n",
    "mu_sd = 0.5\n",
    "\n",
    "# sd\n",
    "sigma_alpha = 2\n",
    "sigma_beta = 2\n",
    "\n",
    "\n",
    "# lower bound of sigma prior\n",
    "lower_sigma_bound = 0.1\n",
    "\n",
    "# noise SD prior\n",
    "noise_alpha = 2\n",
    "noise_beta = 1\n",
    "\n",
    "# for simple noise \n",
    "noise = 0.4\n",
    "\n",
    "# environmental information\n",
    "env_info = 0.07"
   ]
  },
  {
   "cell_type": "markdown",
   "metadata": {},
   "source": [
    "Create data"
   ]
  },
  {
   "cell_type": "code",
   "execution_count": 5,
   "metadata": {},
   "outputs": [],
   "source": [
    "# number of stimuli\n",
    "sequence_length = 6\n",
    "\n",
    "# number of features \n",
    "num_features = 1\n",
    "\n",
    "# number of samples (max)\n",
    "num_samples = 3000\n",
    "\n",
    "# allocation of samples to exemplars\n",
    "exemplar_idx = np.repeat(np.arange(1, sequence_length+1), num_samples/sequence_length)\n",
    "\n",
    "# background / deviant mean values\n",
    "background = np.repeat(1, num_features)\n",
    "deviant = np.repeat(3, num_features)\n",
    "\n",
    "# perceptual noise\n",
    "sig = np.identity(num_features) * 0.001;\n",
    "\n",
    "# deviant position\n",
    "deviant_pos = 6\n",
    "\n",
    "# stimulus means\n",
    "exemplar_means = np.tile(background, (sequence_length, 1))\n",
    "exemplar_means[deviant_pos-1] = deviant"
   ]
  },
  {
   "cell_type": "markdown",
   "metadata": {},
   "source": [
    "Simulation parameters"
   ]
  },
  {
   "cell_type": "code",
   "execution_count": 6,
   "metadata": {},
   "outputs": [],
   "source": [
    "# number of iterations and warmup per model run\n",
    "num_iter = 10000\n",
    "num_warmup = 4000 # can we cash this?\n",
    "\n",
    "# number of total model runs\n",
    "num_model_runs = 1\n",
    "\n",
    "# how much to thin posteriors (value determines how we \"retain every nth sample\")\n",
    "thinning_factor = 1"
   ]
  },
  {
   "cell_type": "markdown",
   "metadata": {},
   "source": [
    "Initialize flags, variables, iterators "
   ]
  },
  {
   "cell_type": "code",
   "execution_count": 7,
   "metadata": {},
   "outputs": [
    {
     "data": {
      "image/png": "[encoded data removed]",
      "text/plain": [
       "<Figure size 640x480 with 1 Axes>"
      ]
     },
     "metadata": {},
     "output_type": "display_data"
    }
   ],
   "source": [
    "# Flags \n",
    "sample = True\n",
    "policy = 'surprisal' # 'kl', 'surprisal', 'entropy' or 'eig'\n",
    "\n",
    "# Variables\n",
    "model_LT = np.zeros((num_model_runs, sequence_length))\n",
    "\n",
    "# prior parameters\n",
    "prior_mu = np.random.multivariate_normal(np.repeat(mu_mean, num_features), np.identity(num_features)*mu_sd, num_iter-num_warmup)\n",
    "\n",
    "prior_sigma = np.empty((num_iter-num_warmup, num_features))\n",
    "for i in np.arange(0, num_features):\n",
    "    \n",
    "    # compute truncated sigma prior\n",
    "    nrm=gamma.cdf(100, a = sigma_alpha, scale = 1/sigma_beta)- gamma.cdf(lower_sigma_bound, a = sigma_alpha, scale = 1/sigma_beta)\n",
    "    yr=np.random.rand(num_iter-num_warmup)*(nrm)+gamma.cdf(lower_sigma_bound,  a = sigma_alpha, scale = 1/sigma_beta)\n",
    "    prior_sigma[:,i] = gamma.ppf(yr, a = sigma_alpha, scale = 1/sigma_beta)\n",
    "    \n",
    "    \n",
    "prior_z_rep = np.empty((num_iter-num_warmup, num_features))\n",
    "for i in np.arange(0, num_iter-num_warmup):\n",
    "    prior_z_rep[i,:] = np.random.multivariate_normal(prior_mu[i,:], np.identity(num_features)*prior_sigma[i,:])\n",
    "\n",
    "prior = np.hstack((prior_mu[0:len(prior_mu):thinning_factor], prior_sigma[0:len(prior_sigma):thinning_factor]))\n",
    "\n",
    "data = {\"mu_mean\": mu_mean , \"mu_sd\": mu_sd, \"sigma_alpha\": sigma_alpha, \"sigma_beta\": sigma_beta, \n",
    "\"noise_alpha\": noise_alpha, \"noise_beta\": noise_beta, \"noise\": noise, \"F\": num_features}\n",
    "\n",
    "stim_info = np.empty((num_model_runs, num_samples))\n",
    "stim_info[:] = np.nan\n",
    "\n",
    "plt.hist(prior[:,[0]], bins = 30);\n",
    "plt.title('prior')\n",
    "plt.show()"
   ]
  },
  {
   "cell_type": "markdown",
   "metadata": {},
   "source": [
    "# Action loop"
   ]
  },
  {
   "cell_type": "code",
   "execution_count": 9,
   "metadata": {
    "scrolled": false
   },
   "outputs": [
    {
     "name": "stdout",
     "output_type": "stream",
     "text": [
      "model run:  0\n"
     ]
    },
    {
     "name": "stderr",
     "output_type": "stream",
     "text": [
      "23:48:40 - cmdstanpy - INFO - CmdStan start processing\n"
     ]
    },
    {
     "name": "stdout",
     "output_type": "stream",
     "text": [
      "stimulus:  1\n",
      "sample:  1\n"
     ]
    },
    {
     "name": "stderr",
     "output_type": "stream",
     "text": [
      "chain 1 |\u001b[34m██████████\u001b[0m| 00:00 Sampling completed                         "
     ]
    },
    {
     "name": "stdout",
     "output_type": "stream",
     "text": [
      "                                                                                "
     ]
    },
    {
     "name": "stderr",
     "output_type": "stream",
     "text": [
      "\n",
      "23:48:41 - cmdstanpy - INFO - CmdStan done processing.\n",
      "23:48:41 - cmdstanpy - WARNING - Some chains may have failed to converge.\n",
      "\tChain 1 had 349 divergent transitions (3.5%)\n",
      "\tUse function \"diagnose()\" to see further information.\n"
     ]
    },
    {
     "name": "stdout",
     "output_type": "stream",
     "text": [
      "\n",
      "fit.draws\n",
      "              Mean      MCSE    StdDev        5%       50%       95%  \\\n",
      "lp__     -4.800970  0.025101  1.320790 -7.301850 -4.490260 -3.274330   \n",
      "mu[1]     0.113657  0.009972  0.487436 -0.679112  0.114472  0.917571   \n",
      "sigma[1]  0.939474  0.012671  0.629259  0.193361  0.799686  2.161040   \n",
      "y[1,1]    0.425251  0.015432  0.886299 -1.013350  0.468612  1.778920   \n",
      "noise     1.608339  0.018548  1.107175  0.311025  1.367710  3.781290   \n",
      "z_rep[1]  0.398946  0.025416  2.126940 -3.081260  0.563308  3.568030   \n",
      "\n",
      "                N_Eff       N_Eff/s     R_hat  \n",
      "lp__      2768.870000   5397.410000  1.000040  \n",
      "mu[1]     2389.460000   4657.820000  1.000220  \n",
      "sigma[1]  2466.420000   4807.830000  1.001010  \n",
      "y[1,1]    3298.690000   6430.200000  0.999928  \n",
      "noise     3563.214697   6945.837615  1.000115  \n",
      "z_rep[1]  7003.270000  13651.600000  0.999938  \n",
      "posterior\n",
      "[[ 1.09496    0.875953 ]\n",
      " [-0.334623   0.955309 ]\n",
      " [-0.0456728  1.69019  ]\n",
      " ...\n",
      " [-0.768272   0.24732  ]\n",
      " [-0.927733   0.299909 ]\n",
      " [ 0.662883   1.73921  ]]\n",
      "posterior shape\n",
      "(10000, 2)\n",
      "z_rep shape\n",
      "(10000, 1)\n",
      "z_rep is inf\n",
      "[0]\n",
      "z_rep is nan\n",
      "[0]\n"
     ]
    },
    {
     "name": "stderr",
     "output_type": "stream",
     "text": [
      "/var/folders/ll/vmwcshdn1xd84d7z8myb9w7m0000gp/T/ipykernel_47067/1323202762.py:76: UserWarning: Legend does not support handles for str instances.\n",
      "A proxy artist may be used instead.\n",
      "See: https://matplotlib.org/stable/tutorials/intermediate/legend_guide.html#controlling-the-legend-entries\n",
      "  plt.legend('prior', 'posterior')\n",
      "/var/folders/ll/vmwcshdn1xd84d7z8myb9w7m0000gp/T/ipykernel_47067/1323202762.py:83: UserWarning: Legend does not support handles for str instances.\n",
      "A proxy artist may be used instead.\n",
      "See: https://matplotlib.org/stable/tutorials/intermediate/legend_guide.html#controlling-the-legend-entries\n",
      "  plt.legend('prior', 'posterior')\n",
      "/Users/galraz1/opt/miniconda3/envs/stan/lib/python3.9/site-packages/scipy/stats/kde.py:563: RuntimeWarning: Degrees of freedom <= 0 for slice\n",
      "  self._data_covariance = atleast_2d(cov(self.dataset, rowvar=1,\n",
      "/Users/galraz1/opt/miniconda3/envs/stan/lib/python3.9/site-packages/numpy/lib/function_base.py:2704: RuntimeWarning: divide by zero encountered in divide\n",
      "  c *= np.true_divide(1, fact)\n",
      "/Users/galraz1/opt/miniconda3/envs/stan/lib/python3.9/site-packages/numpy/lib/function_base.py:2704: RuntimeWarning: invalid value encountered in multiply\n",
      "  c *= np.true_divide(1, fact)\n"
     ]
    },
    {
     "ename": "ValueError",
     "evalue": "array must not contain infs or NaNs",
     "output_type": "error",
     "traceback": [
      "\u001b[0;31m---------------------------------------------------------------------------\u001b[0m",
      "\u001b[0;31mValueError\u001b[0m                                Traceback (most recent call last)",
      "Cell \u001b[0;32mIn [9], line 111\u001b[0m\n\u001b[1;32m    106\u001b[0m     \u001b[39mprint\u001b[39m(\u001b[39m'\u001b[39m\u001b[39mentropy change:\u001b[39m\u001b[39m'\u001b[39m,  stim_info[run,total_samples\u001b[39m-\u001b[39m\u001b[39m1\u001b[39m])\n\u001b[1;32m    108\u001b[0m \u001b[39melif\u001b[39;00m policy \u001b[39m==\u001b[39m \u001b[39m'\u001b[39m\u001b[39msurprisal\u001b[39m\u001b[39m'\u001b[39m:   \n\u001b[1;32m    109\u001b[0m                     \n\u001b[1;32m    110\u001b[0m     \u001b[39m# surprisal of current observation given prior\u001b[39;00m\n\u001b[0;32m--> 111\u001b[0m     stim_info[run, total_samples\u001b[39m-\u001b[39m\u001b[39m1\u001b[39m] \u001b[39m=\u001b[39m surprisal(fit\u001b[39m.\u001b[39;49mstan_variable(\u001b[39m'\u001b[39;49m\u001b[39mz_rep\u001b[39;49m\u001b[39m'\u001b[39;49m), sample_data[total_samples\u001b[39m-\u001b[39;49m\u001b[39m1\u001b[39;49m])\n\u001b[1;32m    113\u001b[0m     \u001b[39mprint\u001b[39m(\u001b[39m'\u001b[39m\u001b[39msurprisal:\u001b[39m\u001b[39m'\u001b[39m,  stim_info[run,total_samples\u001b[39m-\u001b[39m\u001b[39m1\u001b[39m])\n\u001b[1;32m    115\u001b[0m \u001b[39melif\u001b[39;00m policy \u001b[39m==\u001b[39m \u001b[39m'\u001b[39m\u001b[39mEIG\u001b[39m\u001b[39m'\u001b[39m:\n",
      "Cell \u001b[0;32mIn [2], line 50\u001b[0m, in \u001b[0;36msurprisal\u001b[0;34m(dist, sample)\u001b[0m\n\u001b[1;32m     49\u001b[0m \u001b[39mdef\u001b[39;00m \u001b[39msurprisal\u001b[39m(dist, sample):\n\u001b[0;32m---> 50\u001b[0m     kde \u001b[39m=\u001b[39m gaussian_kde(dist)\n\u001b[1;32m     51\u001b[0m     prob \u001b[39m=\u001b[39m kde\u001b[39m.\u001b[39mevaluate(sample)\n\u001b[1;32m     52\u001b[0m     \u001b[39mreturn\u001b[39;00m \u001b[39m-\u001b[39mnp\u001b[39m.\u001b[39mlog(prob)\n",
      "File \u001b[0;32m~/opt/miniconda3/envs/stan/lib/python3.9/site-packages/scipy/stats/kde.py:206\u001b[0m, in \u001b[0;36mgaussian_kde.__init__\u001b[0;34m(self, dataset, bw_method, weights)\u001b[0m\n\u001b[1;32m    203\u001b[0m         \u001b[39mraise\u001b[39;00m \u001b[39mValueError\u001b[39;00m(\u001b[39m\"\u001b[39m\u001b[39m`weights` input should be of length n\u001b[39m\u001b[39m\"\u001b[39m)\n\u001b[1;32m    204\u001b[0m     \u001b[39mself\u001b[39m\u001b[39m.\u001b[39m_neff \u001b[39m=\u001b[39m \u001b[39m1\u001b[39m\u001b[39m/\u001b[39m\u001b[39msum\u001b[39m(\u001b[39mself\u001b[39m\u001b[39m.\u001b[39m_weights\u001b[39m*\u001b[39m\u001b[39m*\u001b[39m\u001b[39m2\u001b[39m)\n\u001b[0;32m--> 206\u001b[0m \u001b[39mself\u001b[39;49m\u001b[39m.\u001b[39;49mset_bandwidth(bw_method\u001b[39m=\u001b[39;49mbw_method)\n",
      "File \u001b[0;32m~/opt/miniconda3/envs/stan/lib/python3.9/site-packages/scipy/stats/kde.py:554\u001b[0m, in \u001b[0;36mgaussian_kde.set_bandwidth\u001b[0;34m(self, bw_method)\u001b[0m\n\u001b[1;32m    550\u001b[0m     msg \u001b[39m=\u001b[39m \u001b[39m\"\u001b[39m\u001b[39m`bw_method` should be \u001b[39m\u001b[39m'\u001b[39m\u001b[39mscott\u001b[39m\u001b[39m'\u001b[39m\u001b[39m, \u001b[39m\u001b[39m'\u001b[39m\u001b[39msilverman\u001b[39m\u001b[39m'\u001b[39m\u001b[39m, a scalar \u001b[39m\u001b[39m\"\u001b[39m \\\n\u001b[1;32m    551\u001b[0m           \u001b[39m\"\u001b[39m\u001b[39mor a callable.\u001b[39m\u001b[39m\"\u001b[39m\n\u001b[1;32m    552\u001b[0m     \u001b[39mraise\u001b[39;00m \u001b[39mValueError\u001b[39;00m(msg)\n\u001b[0;32m--> 554\u001b[0m \u001b[39mself\u001b[39;49m\u001b[39m.\u001b[39;49m_compute_covariance()\n",
      "File \u001b[0;32m~/opt/miniconda3/envs/stan/lib/python3.9/site-packages/scipy/stats/kde.py:566\u001b[0m, in \u001b[0;36mgaussian_kde._compute_covariance\u001b[0;34m(self)\u001b[0m\n\u001b[1;32m    562\u001b[0m \u001b[39mif\u001b[39;00m \u001b[39mnot\u001b[39;00m \u001b[39mhasattr\u001b[39m(\u001b[39mself\u001b[39m, \u001b[39m'\u001b[39m\u001b[39m_data_inv_cov\u001b[39m\u001b[39m'\u001b[39m):\n\u001b[1;32m    563\u001b[0m     \u001b[39mself\u001b[39m\u001b[39m.\u001b[39m_data_covariance \u001b[39m=\u001b[39m atleast_2d(cov(\u001b[39mself\u001b[39m\u001b[39m.\u001b[39mdataset, rowvar\u001b[39m=\u001b[39m\u001b[39m1\u001b[39m,\n\u001b[1;32m    564\u001b[0m                                        bias\u001b[39m=\u001b[39m\u001b[39mFalse\u001b[39;00m,\n\u001b[1;32m    565\u001b[0m                                        aweights\u001b[39m=\u001b[39m\u001b[39mself\u001b[39m\u001b[39m.\u001b[39mweights))\n\u001b[0;32m--> 566\u001b[0m     \u001b[39mself\u001b[39m\u001b[39m.\u001b[39m_data_inv_cov \u001b[39m=\u001b[39m linalg\u001b[39m.\u001b[39;49minv(\u001b[39mself\u001b[39;49m\u001b[39m.\u001b[39;49m_data_covariance)\n\u001b[1;32m    568\u001b[0m \u001b[39mself\u001b[39m\u001b[39m.\u001b[39mcovariance \u001b[39m=\u001b[39m \u001b[39mself\u001b[39m\u001b[39m.\u001b[39m_data_covariance \u001b[39m*\u001b[39m \u001b[39mself\u001b[39m\u001b[39m.\u001b[39mfactor\u001b[39m*\u001b[39m\u001b[39m*\u001b[39m\u001b[39m2\u001b[39m\n\u001b[1;32m    569\u001b[0m \u001b[39mself\u001b[39m\u001b[39m.\u001b[39minv_cov \u001b[39m=\u001b[39m \u001b[39mself\u001b[39m\u001b[39m.\u001b[39m_data_inv_cov \u001b[39m/\u001b[39m \u001b[39mself\u001b[39m\u001b[39m.\u001b[39mfactor\u001b[39m*\u001b[39m\u001b[39m*\u001b[39m\u001b[39m2\u001b[39m\n",
      "File \u001b[0;32m~/opt/miniconda3/envs/stan/lib/python3.9/site-packages/scipy/linalg/basic.py:939\u001b[0m, in \u001b[0;36minv\u001b[0;34m(a, overwrite_a, check_finite)\u001b[0m\n\u001b[1;32m    900\u001b[0m \u001b[39mdef\u001b[39;00m \u001b[39minv\u001b[39m(a, overwrite_a\u001b[39m=\u001b[39m\u001b[39mFalse\u001b[39;00m, check_finite\u001b[39m=\u001b[39m\u001b[39mTrue\u001b[39;00m):\n\u001b[1;32m    901\u001b[0m     \u001b[39m\"\"\"\u001b[39;00m\n\u001b[1;32m    902\u001b[0m \u001b[39m    Compute the inverse of a matrix.\u001b[39;00m\n\u001b[1;32m    903\u001b[0m \n\u001b[0;32m   (...)\u001b[0m\n\u001b[1;32m    937\u001b[0m \n\u001b[1;32m    938\u001b[0m \u001b[39m    \"\"\"\u001b[39;00m\n\u001b[0;32m--> 939\u001b[0m     a1 \u001b[39m=\u001b[39m _asarray_validated(a, check_finite\u001b[39m=\u001b[39;49mcheck_finite)\n\u001b[1;32m    940\u001b[0m     \u001b[39mif\u001b[39;00m \u001b[39mlen\u001b[39m(a1\u001b[39m.\u001b[39mshape) \u001b[39m!=\u001b[39m \u001b[39m2\u001b[39m \u001b[39mor\u001b[39;00m a1\u001b[39m.\u001b[39mshape[\u001b[39m0\u001b[39m] \u001b[39m!=\u001b[39m a1\u001b[39m.\u001b[39mshape[\u001b[39m1\u001b[39m]:\n\u001b[1;32m    941\u001b[0m         \u001b[39mraise\u001b[39;00m \u001b[39mValueError\u001b[39;00m(\u001b[39m'\u001b[39m\u001b[39mexpected square matrix\u001b[39m\u001b[39m'\u001b[39m)\n",
      "File \u001b[0;32m~/opt/miniconda3/envs/stan/lib/python3.9/site-packages/scipy/_lib/_util.py:293\u001b[0m, in \u001b[0;36m_asarray_validated\u001b[0;34m(a, check_finite, sparse_ok, objects_ok, mask_ok, as_inexact)\u001b[0m\n\u001b[1;32m    291\u001b[0m         \u001b[39mraise\u001b[39;00m \u001b[39mValueError\u001b[39;00m(\u001b[39m'\u001b[39m\u001b[39mmasked arrays are not supported\u001b[39m\u001b[39m'\u001b[39m)\n\u001b[1;32m    292\u001b[0m toarray \u001b[39m=\u001b[39m np\u001b[39m.\u001b[39masarray_chkfinite \u001b[39mif\u001b[39;00m check_finite \u001b[39melse\u001b[39;00m np\u001b[39m.\u001b[39masarray\n\u001b[0;32m--> 293\u001b[0m a \u001b[39m=\u001b[39m toarray(a)\n\u001b[1;32m    294\u001b[0m \u001b[39mif\u001b[39;00m \u001b[39mnot\u001b[39;00m objects_ok:\n\u001b[1;32m    295\u001b[0m     \u001b[39mif\u001b[39;00m a\u001b[39m.\u001b[39mdtype \u001b[39mis\u001b[39;00m np\u001b[39m.\u001b[39mdtype(\u001b[39m'\u001b[39m\u001b[39mO\u001b[39m\u001b[39m'\u001b[39m):\n",
      "File \u001b[0;32m~/opt/miniconda3/envs/stan/lib/python3.9/site-packages/numpy/lib/function_base.py:627\u001b[0m, in \u001b[0;36masarray_chkfinite\u001b[0;34m(a, dtype, order)\u001b[0m\n\u001b[1;32m    625\u001b[0m a \u001b[39m=\u001b[39m asarray(a, dtype\u001b[39m=\u001b[39mdtype, order\u001b[39m=\u001b[39morder)\n\u001b[1;32m    626\u001b[0m \u001b[39mif\u001b[39;00m a\u001b[39m.\u001b[39mdtype\u001b[39m.\u001b[39mchar \u001b[39min\u001b[39;00m typecodes[\u001b[39m'\u001b[39m\u001b[39mAllFloat\u001b[39m\u001b[39m'\u001b[39m] \u001b[39mand\u001b[39;00m \u001b[39mnot\u001b[39;00m np\u001b[39m.\u001b[39misfinite(a)\u001b[39m.\u001b[39mall():\n\u001b[0;32m--> 627\u001b[0m     \u001b[39mraise\u001b[39;00m \u001b[39mValueError\u001b[39;00m(\n\u001b[1;32m    628\u001b[0m         \u001b[39m\"\u001b[39m\u001b[39marray must not contain infs or NaNs\u001b[39m\u001b[39m\"\u001b[39m)\n\u001b[1;32m    629\u001b[0m \u001b[39mreturn\u001b[39;00m a\n",
      "\u001b[0;31mValueError\u001b[0m: array must not contain infs or NaNs"
     ]
    },
    {
     "data": {
      "image/png": "[encoded data removed]",
      "text/plain": [
       "<Figure size 1800x1200 with 1 Axes>"
      ]
     },
     "metadata": {},
     "output_type": "display_data"
    },
    {
     "data": {
      "image/png": "[encoded data removed]",
      "text/plain": [
       "<Figure size 1800x1200 with 1 Axes>"
      ]
     },
     "metadata": {},
     "output_type": "display_data"
    }
   ],
   "source": [
    "for run in np.arange(0, num_model_runs):\n",
    "    \n",
    "    print('model run: ', run)\n",
    "\n",
    "    # generate the data\n",
    "    sim_data = [np.random.multivariate_normal(exemplar_means[idx-1], sig) for idx in exemplar_idx] \n",
    "    sim_data = np.asmatrix(sim_data)\n",
    "\n",
    "    # Iterators\n",
    "    samples_from_current_stim = 1\n",
    "    total_samples = 1\n",
    "    exemplar_num = 1\n",
    "\n",
    "    # initialize data\n",
    "    sample_data = np.empty((num_samples,num_features))\n",
    "    sample_data[:] = np.nan\n",
    "\n",
    "    exemplar_labels = np.empty((num_samples,))\n",
    "    exemplar_labels[:] = np.nan\n",
    "\n",
    "    while sample or samples_from_current_stim > 1:\n",
    "        \n",
    "        print('stimulus: ', exemplar_num)\n",
    "        \n",
    "        print('sample: ', total_samples)\n",
    "\n",
    "        \n",
    "        # sample number\n",
    "        data[\"M\"] = total_samples\n",
    "\n",
    "        # exemplar number \n",
    "        data[\"K\"] = exemplar_num\n",
    "\n",
    "        # add sim data\n",
    "        sample_data[total_samples-1] = sim_data[exemplar_idx == exemplar_num][samples_from_current_stim-1]\n",
    "        data[\"z\"] = np.transpose(sample_data[0:total_samples,:])\n",
    "\n",
    "        # add exemplar for each id\n",
    "        exemplar_labels[total_samples-1] = int(exemplar_num)\n",
    "        data[\"exemplar_idx\"] = [int(x) for x in exemplar_labels[~np.isnan(exemplar_labels)]]\n",
    "\n",
    "        # get posterior samples\n",
    "        fit = sm.sample(data=data, iter_sampling=num_iter, chains=1, iter_warmup = num_warmup);\n",
    "        \n",
    "        print('fit.draws')\n",
    "        print(fit.summary())\n",
    "        \n",
    "        posterior = np.hstack([fit.stan_variable('mu'), fit.stan_variable('sigma')])\n",
    "        \n",
    "        print('posterior')\n",
    "        print(posterior)\n",
    "\n",
    "        print('posterior shape')\n",
    "        print(posterior.shape)\n",
    "\n",
    "        print('z_rep shape')\n",
    "        print(fit.stan_variable('z_rep').shape)\n",
    "        \n",
    "        print('z_rep is inf')\n",
    "        print(sum(np.isinf(fit.stan_variable('z_rep'))))\n",
    "\n",
    "        print('z_rep is nan')\n",
    "        print(sum(np.isnan(fit.stan_variable('z_rep'))))\n",
    "\n",
    "        # fit gmms\n",
    "        #gmm_p = GaussianMixture(n_components=2, random_state=0).fit(posterior)\n",
    "        #gmm_q = GaussianMixture(n_components=2, random_state=0).fit(prior)\n",
    "\n",
    "        if total_samples < 20:\n",
    "            \n",
    "            plt.figure(1)\n",
    "            plt.rcParams['figure.figsize'] = [18, 12]\n",
    "            plt.subplot(4,5,total_samples)\n",
    "            plt.hist(np.hstack((prior[:,0],posterior[:,0])), bins = 100);\n",
    "            plt.title(str(total_samples) + \" , \" + str(exemplar_num))\n",
    "            plt.legend('prior', 'posterior')\n",
    "            \n",
    "            plt.figure(2)\n",
    "            plt.rcParams['figure.figsize'] = [18, 12]\n",
    "            plt.subplot(4,5,total_samples)\n",
    "            plt.hist(np.hstack((prior[:,1],posterior[:,1])), bins = 100);\n",
    "            plt.title(str(total_samples) + \" , \" + str(exemplar_num))\n",
    "            plt.legend('prior', 'posterior')\n",
    "           \n",
    "           \n",
    "        else: \n",
    "            plt.show()\n",
    "            break;\n",
    "            \n",
    "        if policy == 'kl':\n",
    "\n",
    "            X = gmm_p.sample(posterior.shape[0])\n",
    "\n",
    "            log_p_X = gmm_p.score_samples(X[0])\n",
    "            log_q_X = gmm_q.score_samples(X[0])\n",
    "\n",
    "            # KL divergence between prior and posterior\n",
    "            stim_info[run, total_samples-1] = log_p_X.mean() - log_q_X.mean()\n",
    "            \n",
    "            print('KL:',  stim_info[run,total_samples-1])\n",
    "\n",
    "        elif policy == 'entropy':\n",
    "            # reduction of entropy\n",
    "            stim_info[run,total_samples-1] = np.abs(continuous.get_h(prior, k= 250) - continuous.get_h(posterior, k = 250))\n",
    "            \n",
    "            print('entropy change:',  stim_info[run,total_samples-1])\n",
    "            \n",
    "        elif policy == 'surprisal':   \n",
    "                            \n",
    "            # surprisal of current observation given prior\n",
    "            stim_info[run, total_samples-1] = surprisal(fit.stan_variable('z_rep'), sample_data[total_samples-1])\n",
    "            \n",
    "            print('surprisal:',  stim_info[run,total_samples-1])\n",
    "\n",
    "        elif policy == 'EIG':\n",
    "            \n",
    "            hypothethical_grid = np.arange(-2, 2, 0.1)\n",
    "            \n",
    "            stim_info[run,total_samples-1] = EIG(posterior)\n",
    "\n",
    "        # decision rule\n",
    "        if stim_info[run,total_samples-1] < env_info:\n",
    "            model_LT[run, exemplar_num-1] = samples_from_current_stim\n",
    "\n",
    "            # reset/increment counters\n",
    "            samples_from_current_stim = 1\n",
    "            exemplar_num += 1\n",
    "\n",
    "            if exemplar_num > sequence_length:\n",
    "                sample = False\n",
    "\n",
    "        else:\n",
    "            samples_from_current_stim += 1 \n",
    "\n",
    "        if (policy == 'kl') | (policy == 'surprisal') | (policy == 'entropy'):\n",
    "            prior = posterior\n",
    "        \n",
    "        total_samples += 1\n",
    "\n",
    "    # start sampling for next model run\n",
    "    sample = True\n",
    "\n",
    "    \n",
    "plt.show()\n",
    "\n",
    "\n",
    "font = {'family' : 'normal',\n",
    "        'weight' : 'bold',\n",
    "        'size'   : 22}\n",
    "\n",
    "plt.rc('font', **font)\n",
    "\n",
    "plt.plot(np.arange(1,sequence_length+1), np.mean(model_LT, axis = 0).squeeze(), 'k*')\n",
    "\n",
    "plt.xlabel(\"stim index\")\n",
    "plt.ylabel(\"model samples\")\n",
    "plt.title(\"\")\n",
    "\n",
    "plt.show()\n",
    "\n",
    "\n",
    "plt.plot(np.arange(1,total_samples+1),np.mean(stim_info, axis = 0)[0:total_samples].squeeze(), markersize = 20)\n",
    "\n",
    "plt.xlabel(\"sample index\")\n",
    "plt.ylabel(\"stim info\")\n",
    "plt.title(\"\")\n",
    "plt.show()"
   ]
  },
  {
   "cell_type": "code",
   "execution_count": null,
   "metadata": {},
   "outputs": [
    {
     "data": {
      "image/png": "[encoded data removed]",
      "text/plain": [
       "<Figure size 1296x864 with 1 Axes>"
      ]
     },
     "metadata": {
      "needs_background": "light"
     },
     "output_type": "display_data"
    },
    {
     "name": "stdout",
     "output_type": "stream",
     "text": [
      "kl div: 1.9389252800833203\n",
      "means\n",
      "[0.0029953  1.02672432]\n",
      "[0.77125344 0.41720897]\n",
      "SD\n"
     ]
    },
    {
     "ename": "NameError",
     "evalue": "name 'sd_prior' is not defined",
     "output_type": "error",
     "traceback": [
      "\u001b[0;31m---------------------------------------------------------------------------\u001b[0m",
      "\u001b[0;31mNameError\u001b[0m                                 Traceback (most recent call last)",
      "\u001b[0;32m/var/folders/ll/vmwcshdn1xd84d7z8myb9w7m0000gp/T/ipykernel_70430/482501822.py\u001b[0m in \u001b[0;36m<module>\u001b[0;34m\u001b[0m\n\u001b[1;32m     38\u001b[0m \u001b[0;34m\u001b[0m\u001b[0m\n\u001b[1;32m     39\u001b[0m \u001b[0mprint\u001b[0m\u001b[0;34m(\u001b[0m\u001b[0;34m\"SD\"\u001b[0m\u001b[0;34m)\u001b[0m\u001b[0;34m\u001b[0m\u001b[0;34m\u001b[0m\u001b[0m\n\u001b[0;32m---> 40\u001b[0;31m \u001b[0mprint\u001b[0m\u001b[0;34m(\u001b[0m\u001b[0msd_prior\u001b[0m\u001b[0;34m)\u001b[0m\u001b[0;34m\u001b[0m\u001b[0;34m\u001b[0m\u001b[0m\n\u001b[0m\u001b[1;32m     41\u001b[0m \u001b[0mprint\u001b[0m\u001b[0;34m(\u001b[0m\u001b[0msd_posterior\u001b[0m\u001b[0;34m)\u001b[0m\u001b[0;34m\u001b[0m\u001b[0;34m\u001b[0m\u001b[0m\n\u001b[1;32m     42\u001b[0m \u001b[0;34m\u001b[0m\u001b[0m\n",
      "\u001b[0;31mNameError\u001b[0m: name 'sd_prior' is not defined"
     ]
    }
   ],
   "source": [
    "font = {'family' : 'normal',\n",
    "        'weight' : 'bold',\n",
    "        'size'   : 22}\n",
    "\n",
    "plt.rc('font', **font)\n",
    "\n",
    "#plt.plot(np.arange(1,sequence_length+1), np.mean(model_LT, axis = 0).squeeze(), 'k*', markersize = 20)\n",
    "\n",
    "#plt.xlabel(\"stim index\")\n",
    "#plt.ylabel(\"model samples\")\n",
    "#plt.title(\"\")\n",
    "\n",
    "#plt.show()\n",
    "\n",
    "plt.plot(np.arange(1,total_samples+1),np.mean(stim_info, axis = 0)[0:total_samples].squeeze(), markersize = 20)\n",
    "\n",
    "plt.xlabel(\"sample index\")\n",
    "plt.ylabel(\"surprisal\")\n",
    "plt.title(\"\")\n",
    "plt.show()\n",
    "\n",
    "mean_prior = np.mean(prior, axis = 0)\n",
    "\n",
    "cov_prior = np.cov(np.transpose(prior))\n",
    "\n",
    "mean_posterior = np.mean(posterior, axis = 0)\n",
    "\n",
    "cov_posterior = np.cov(np.transpose(posterior))\n",
    "\n",
    "\n",
    "print('kl div:', kl_mvn(mean_posterior, cov_posterior, mean_prior, cov_prior))\n",
    "\n",
    "\n",
    "print(\"means\")\n",
    "\n",
    "print(mean_prior)\n",
    "print(mean_posterior)\n",
    "\n",
    "print(\"SD\")\n",
    "print(sd_prior)\n",
    "print(sd_posterior)\n",
    "\n",
    "print(\"data\")\n",
    "print(data['z'])\n",
    "print(data['exemplar_idx'])\n",
    "\n",
    "\n",
    "data['z']\n",
    "\n",
    "posterior.shape\n",
    "\n",
    "\n"
   ]
  },
  {
   "cell_type": "code",
   "execution_count": null,
   "metadata": {},
   "outputs": [
    {
     "data": {
      "text/plain": [
       "(16000, 2)"
      ]
     },
     "execution_count": 54,
     "metadata": {},
     "output_type": "execute_result"
    }
   ],
   "source": [
    "posterior.shape"
   ]
  },
  {
   "cell_type": "code",
   "execution_count": null,
   "metadata": {},
   "outputs": [
    {
     "data": {
      "text/plain": [
       "-3.7146721307353054"
      ]
     },
     "execution_count": 72,
     "metadata": {},
     "output_type": "execute_result"
    }
   ],
   "source": [
    "gmm_p = GaussianMixture(n_components=2, random_state=0).fit(posterior)\n",
    "gmm_q = GaussianMixture(n_components=2, random_state=0).fit(prior)\n",
    "\n",
    "X = gmm_p.sample(posterior.shape[0])\n",
    "\n",
    "log_p_X = gmm_p.score_samples(X[0])\n",
    "log_q_X, _ = gmm_q.score_samples(X[0])"
   ]
  },
  {
   "cell_type": "code",
   "execution_count": null,
   "metadata": {},
   "outputs": [
    {
     "name": "stdout",
     "output_type": "stream",
     "text": [
      "means:  [[0.27129736]\n",
      " [0.87890242]]\n",
      "covariances:  [[[0.02682581]]\n",
      "\n",
      " [[0.22641521]]]\n",
      "precisions:  [[[37.27753524]]\n",
      "\n",
      " [[ 4.41666434]]]\n",
      "weights:  [0.70806028 0.29193972]\n"
     ]
    },
    {
     "data": {
      "text/plain": [
       "(0.0, 3500.0)"
      ]
     },
     "execution_count": 50,
     "metadata": {},
     "output_type": "execute_result"
    },
    {
     "data": {
      "image/png": "[encoded data removed]",
      "text/plain": [
       "<Figure size 1296x864 with 2 Axes>"
      ]
     },
     "metadata": {
      "needs_background": "light"
     },
     "output_type": "display_data"
    }
   ],
   "source": [
    "print('means: ', gm.means_)\n",
    "print('covariances: ', gm.covariances_)\n",
    "\n",
    "print('precisions: ', gm.precisions_)\n",
    "\n",
    "print('weights: ', gm.weights_)\n",
    "\n",
    "\n",
    "plt.subplot(1,2,1)\n",
    "plt.hist(posterior[:,1], bins = 40)\n",
    "plt.title('original posterior')\n",
    "plt.xlim([-1.5, 2])\n",
    "plt.ylim([0, 3500])\n",
    "\n",
    "plt.subplot(1,2,2)\n",
    "plt.hist(gm.sample(16000)[0], bins = 40)\n",
    "plt.title('resampled from gaussian mixture')\n",
    "plt.ylim([0, 3500])\n"
   ]
  },
  {
   "cell_type": "code",
   "execution_count": null,
   "metadata": {},
   "outputs": [
    {
     "data": {
      "text/plain": [
       "(16000, 2)"
      ]
     },
     "execution_count": 42,
     "metadata": {},
     "output_type": "execute_result"
    }
   ],
   "source": [
    "posterior.shape"
   ]
  },
  {
   "cell_type": "code",
   "execution_count": null,
   "metadata": {},
   "outputs": [
    {
     "data": {
      "text/plain": [
       "array([[2., 2., 2., 3., 0., 0.],\n",
       "       [2., 3., 4., 0., 0., 0.],\n",
       "       [4., 3., 2., 0., 0., 0.]])"
      ]
     },
     "execution_count": 120,
     "metadata": {},
     "output_type": "execute_result"
    }
   ],
   "source": [
    "model_LT"
   ]
  },
  {
   "cell_type": "code",
   "execution_count": null,
   "metadata": {},
   "outputs": [
    {
     "data": {
      "text/plain": [
       "array([ 2.01619232,  0.00371586,  0.18321453,  0.19169076, -0.01187171,\n",
       "        0.30167573,  0.0515528 ,  0.14896336, -0.01617405,  0.23803791,\n",
       "               nan,         nan,         nan,         nan,         nan,\n",
       "               nan,         nan,         nan,         nan,         nan])"
      ]
     },
     "execution_count": 106,
     "metadata": {},
     "output_type": "execute_result"
    }
   ],
   "source": [
    "stim_info[1,0:20]"
   ]
  },
  {
   "cell_type": "code",
   "execution_count": null,
   "metadata": {},
   "outputs": [
    {
     "data": {
      "text/plain": [
       "21"
      ]
     },
     "execution_count": 88,
     "metadata": {},
     "output_type": "execute_result"
    }
   ],
   "source": [
    "total_samples"
   ]
  },
  {
   "cell_type": "code",
   "execution_count": null,
   "metadata": {},
   "outputs": [
    {
     "data": {
      "text/plain": [
       "array([ 1.,  1.,  1., ..., nan, nan, nan])"
      ]
     },
     "execution_count": 107,
     "metadata": {},
     "output_type": "execute_result"
    }
   ],
   "source": [
    "exemplar_num\n",
    "exemplar_labels"
   ]
  },
  {
   "cell_type": "code",
   "execution_count": null,
   "metadata": {},
   "outputs": [
    {
     "data": {
      "text/plain": [
       "(3, 3000)"
      ]
     },
     "execution_count": 113,
     "metadata": {},
     "output_type": "execute_result"
    }
   ],
   "source": [
    "stim_info.shape"
   ]
  },
  {
   "cell_type": "code",
   "execution_count": null,
   "metadata": {},
   "outputs": [
    {
     "data": {
      "image/png": "[encoded data removed]",
      "text/plain": [
       "<Figure size 432x288 with 1 Axes>"
      ]
     },
     "metadata": {
      "needs_background": "light"
     },
     "output_type": "display_data"
    }
   ],
   "source": [
    "plt.plot(fit['mu'][0:len(fit['mu']):thinning_factor], fit['sigma'][0:len(fit['mu']):thinning_factor], 'k*')\n",
    "plt.show()"
   ]
  },
  {
   "cell_type": "code",
   "execution_count": null,
   "metadata": {},
   "outputs": [
    {
     "data": {
      "text/plain": [
       "(array([151., 418., 580., 683., 746., 822., 875., 918., 918., 878., 858.,\n",
       "        851., 764., 730., 696., 676., 641., 600., 563., 504., 453., 389.,\n",
       "        391., 322., 353., 293., 257., 244., 250., 211., 203., 171., 164.,\n",
       "        133., 135., 118., 109.,  96.,  77.,  73.,  79.,  66.,  64.,  45.,\n",
       "         44.,  36.,  35.,  37.,  32.,  34.,  24.,  17.,  28.,  11.,  19.,\n",
       "          9.,  12.,  10.,   9.,   8.,   1.,   7.,   4.,   7.,   4.,   4.,\n",
       "          4.,   3.,   2.,   3.,   1.,   3.,   4.,   2.,   2.,   1.,   1.,\n",
       "          0.,   0.,   1.,   3.,   0.,   0.,   0.,   0.,   3.,   0.,   0.,\n",
       "          0.,   1.,   0.,   0.,   1.,   1.,   1.,   0.,   1.,   1.,   0.,\n",
       "          1.]),\n",
       " array([1.60952816e-02, 2.73371299e-01, 5.30647317e-01, 7.87923335e-01,\n",
       "        1.04519935e+00, 1.30247537e+00, 1.55975139e+00, 1.81702741e+00,\n",
       "        2.07430342e+00, 2.33157944e+00, 2.58885546e+00, 2.84613148e+00,\n",
       "        3.10340750e+00, 3.36068351e+00, 3.61795953e+00, 3.87523555e+00,\n",
       "        4.13251157e+00, 4.38978759e+00, 4.64706360e+00, 4.90433962e+00,\n",
       "        5.16161564e+00, 5.41889166e+00, 5.67616768e+00, 5.93344369e+00,\n",
       "        6.19071971e+00, 6.44799573e+00, 6.70527175e+00, 6.96254776e+00,\n",
       "        7.21982378e+00, 7.47709980e+00, 7.73437582e+00, 7.99165184e+00,\n",
       "        8.24892785e+00, 8.50620387e+00, 8.76347989e+00, 9.02075591e+00,\n",
       "        9.27803193e+00, 9.53530794e+00, 9.79258396e+00, 1.00498600e+01,\n",
       "        1.03071360e+01, 1.05644120e+01, 1.08216880e+01, 1.10789641e+01,\n",
       "        1.13362401e+01, 1.15935161e+01, 1.18507921e+01, 1.21080681e+01,\n",
       "        1.23653441e+01, 1.26226202e+01, 1.28798962e+01, 1.31371722e+01,\n",
       "        1.33944482e+01, 1.36517242e+01, 1.39090002e+01, 1.41662763e+01,\n",
       "        1.44235523e+01, 1.46808283e+01, 1.49381043e+01, 1.51953803e+01,\n",
       "        1.54526564e+01, 1.57099324e+01, 1.59672084e+01, 1.62244844e+01,\n",
       "        1.64817604e+01, 1.67390364e+01, 1.69963125e+01, 1.72535885e+01,\n",
       "        1.75108645e+01, 1.77681405e+01, 1.80254165e+01, 1.82826926e+01,\n",
       "        1.85399686e+01, 1.87972446e+01, 1.90545206e+01, 1.93117966e+01,\n",
       "        1.95690726e+01, 1.98263487e+01, 2.00836247e+01, 2.03409007e+01,\n",
       "        2.05981767e+01, 2.08554527e+01, 2.11127287e+01, 2.13700048e+01,\n",
       "        2.16272808e+01, 2.18845568e+01, 2.21418328e+01, 2.23991088e+01,\n",
       "        2.26563849e+01, 2.29136609e+01, 2.31709369e+01, 2.34282129e+01,\n",
       "        2.36854889e+01, 2.39427649e+01, 2.42000410e+01, 2.44573170e+01,\n",
       "        2.47145930e+01, 2.49718690e+01, 2.52291450e+01, 2.54864211e+01,\n",
       "        2.57436971e+01]),\n",
       " <BarContainer object of 100 artists>)"
      ]
     },
     "execution_count": 129,
     "metadata": {},
     "output_type": "execute_result"
    },
    {
     "data": {
      "image/png": "[encoded data removed]",
      "text/plain": [
       "<Figure size 432x288 with 1 Axes>"
      ]
     },
     "metadata": {
      "needs_background": "light"
     },
     "output_type": "display_data"
    }
   ],
   "source": [
    "plt.hist(prior_sigma, bins = 100)"
   ]
  }
 ],
 "metadata": {
  "kernelspec": {
   "display_name": "Python 3.9.13 ('stan')",
   "language": "python",
   "name": "python3"
  },
  "language_info": {
   "codemirror_mode": {
    "name": "ipython",
    "version": 3
   },
   "file_extension": ".py",
   "mimetype": "text/x-python",
   "name": "python",
   "nbconvert_exporter": "python",
   "pygments_lexer": "ipython3",
   "version": "3.9.13"
  },
  "vscode": {
   "interpreter": {
    "hash": "54fdb4e3fee2a4c661ec85328dd75a24dac4fcdd0b32ec24cbe51f2a711c2891"
   }
  }
 },
 "nbformat": 4,
 "nbformat_minor": 2
}
