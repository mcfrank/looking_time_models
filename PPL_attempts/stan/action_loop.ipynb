{
 "cells": [
  {
   "cell_type": "code",
   "execution_count": 1,
   "metadata": {},
   "outputs": [],
   "source": [
    "import pandas as pd\n",
    "import pickle\n",
    "import os\n",
    "import math\n",
    "import numpy as np\n",
    "import seaborn as sns\n",
    "import matplotlib.pyplot as plt\n",
    "import arviz\n",
    "import pystan\n",
    "import random\n",
    "from sklearn.neighbors import KernelDensity\n",
    "from sklearn.mixture import GaussianMixture\n",
    "\n",
    "from scipy.spatial import cKDTree as KDTree\n",
    "from scipy.stats import multivariate_normal, gaussian_kde, entropy, gamma\n",
    "from fastkde import fastKDE\n",
    "from entropy_estimators import continuous\n",
    "import seaborn as sns\n",
    "from tqdm.auto import tqdm\n",
    "import seaborn as sns"
   ]
  },
  {
   "cell_type": "markdown",
   "metadata": {},
   "source": [
    "# Helper functions    "
   ]
  },
  {
   "cell_type": "code",
   "execution_count": 2,
   "metadata": {},
   "outputs": [],
   "source": [
    "def KLdivergence(x, y):\n",
    "    # Check the dimensions are consistent\n",
    "    x = np.atleast_2d(x)\n",
    "    y = np.atleast_2d(y)\n",
    "\n",
    "    n,d = x.shape\n",
    "    m,dy = y.shape\n",
    "\n",
    "    assert(d == dy)\n",
    "\n",
    "    # Build a KD tree representation of the samples and find the nearest neighbour\n",
    "    # of each point in x.\n",
    "    xtree = KDTree(x)\n",
    "    ytree = KDTree(y)\n",
    "\n",
    "  # Get the first two nearest neighbours for x, since the closest one is the\n",
    "  # sample itself.\n",
    "    thresh = 1e-4\n",
    "    #r = xtree.query(x, k=100, eps=.01, p=2)[0]\n",
    "    #s = ytree.query(x, k=100, eps=.01, p=2)[0]\n",
    "\n",
    "    r = xtree.query(x, k=100, eps=.01, p=2)[0]\n",
    "    s = ytree.query(x, k=100, eps=.01, p=2)[0]\n",
    "\n",
    "    r = r[np.arange(r.shape[0]), np.argmax(r > thresh, axis=1)] \n",
    "    s = s[np.arange(s.shape[0]), np.argmax(s > thresh, axis=1)]\n",
    "    \n",
    "    if math.isinf(-np.log(r/s).sum() * d / n + np.log(m / (n - 1.))):\n",
    "        a = 0;\n",
    "\n",
    "    # There is a mistake in the paper. In Eq. 14, the right side misses a negative sign\n",
    "    # on the first term of the right hand side.\n",
    "    return -np.log(r/s).sum() * d / n + np.log(m / (n - 1.))\n",
    "\n",
    "def kl_mvn(m0, S0, m1, S1):\n",
    " \n",
    "  # store inv diag covariance of S1 and diff between means\n",
    "  N = m0.shape[0]\n",
    "  iS1 = np.linalg.inv(S1)\n",
    "  diff = m1 - m0\n",
    "\n",
    "  # kl is made of three terms\n",
    "  tr_term   = np.trace(iS1 @ S0)\n",
    "  det_term  = np.log(np.linalg.det(S1)/np.linalg.det(S0)) #np.sum(np.log(S1)) - np.sum(np.log(S0))\n",
    "  quad_term = diff.T @ np.linalg.inv(S1) @ diff #np.sum( (diff*diff) * iS1, axis=1)\n",
    "  #print(tr_term,det_term,quad_term)\n",
    "  return .5 * (tr_term + det_term + quad_term - N) \n",
    "\n",
    "def surprisal(dist, sample):\n",
    "    kde = gaussian_kde(dist)\n",
    "    prob = kde.evaluate(sample)\n",
    "    return -np.log(prob)\n",
    "\n",
    "\n",
    "def EIG(dist, grid, thinning_factor):\n",
    "        print(np.arange(-1.9, 2, 0.25))\n",
    "        \n",
    "        for hypothetical_obs in grid:\n",
    "            \n",
    "            data[\"z\"] = np.hstack(np.transpose(sample_data[0:total_samples,:]), hypothetical_obs)\n",
    "\n",
    "            # get posterior samples\n",
    "            fit = sm.sampling(data=data, iter=num_iter, chains=1, warmup = num_warmup,control=dict(adapt_delta=0.95));\n",
    "        \n",
    "            hyp_posterior = np.hstack((fit['mu'][0:len(fit['mu']):thinning_factor], \\\n",
    "                       fit['sigma'][0:len(fit['mu']):thinning_factor]))\n",
    "            \n",
    "            hyp_entropy_reduction = np.abs(continuous.get_h(posterior, k = 200) - continuous.get_h(hyp_posterior, k = 200))\n",
    "            \n",
    "            pp =  kde = gaussian_kde(dist)\n",
    "            prob = kde.evaluate(hypothetical_obs)\n",
    "            \n",
    "            EIG += pp * hyp_entropy_reduction\n",
    "        return EIG\n",
    "  \n",
    "  "
   ]
  },
  {
   "cell_type": "markdown",
   "metadata": {},
   "source": [
    "Build model"
   ]
  },
  {
   "cell_type": "code",
   "execution_count": 3,
   "metadata": {},
   "outputs": [],
   "source": [
    "# whether to recompile the stan program\n",
    "DO_COMPILE = False\n",
    "\n",
    "# simple noise or prior on noise\n",
    "SIMPLE_NOISE = True\n",
    "\n",
    "# stan program path\n",
    "if SIMPLE_NOISE:\n",
    "    stan_path = 'multi_feature_simple_noise.stan'\n",
    "    pkl_file = 'model_simple_noise.pkl'\n",
    "else:\n",
    "    stan_path = 'multi_feature.stan'\n",
    "    pkl_file = 'model.pkl'\n",
    "\n",
    "\n",
    "def build_model(path, pkl_file=None, do_compile=True):\n",
    "    if do_compile:\n",
    "        sm = pystan.StanModel(file=path)\n",
    "        if pkl_file is not None:\n",
    "            with open(pkl_file, 'wb') as f:\n",
    "                pickle.dump(sm, f)\n",
    "\n",
    "    # if the program hasn't been complied, check that the file already exists\n",
    "    else: \n",
    "        if os.path.isfile(pkl_file):\n",
    "            sm = pickle.load(open(pkl_file, 'rb'))\n",
    "        else:\n",
    "            raise FileNotFoundError\n",
    "    return sm\n",
    "\n",
    "\n",
    "sm = build_model(path = stan_path, pkl_file=pkl_file, do_compile=DO_COMPILE)"
   ]
  },
  {
   "cell_type": "markdown",
   "metadata": {},
   "source": [
    "Model parameters"
   ]
  },
  {
   "cell_type": "code",
   "execution_count": 85,
   "metadata": {},
   "outputs": [],
   "source": [
    "# mu\n",
    "mu_mean = 0\n",
    "mu_sd = 0.5\n",
    "\n",
    "# sd\n",
    "sigma_alpha = 2\n",
    "sigma_beta = 2\n",
    "\n",
    "\n",
    "# lower bound of sigma prior\n",
    "lower_sigma_bound = 0.1\n",
    "\n",
    "# noise SD prior\n",
    "epsilon_alpha = 1\n",
    "epsilon_beta = 1\n",
    "\n",
    "# for simple noise \n",
    "noise = 0.4\n",
    "\n",
    "# environmental EIG\n",
    "env_info = 0.01"
   ]
  },
  {
   "cell_type": "markdown",
   "metadata": {},
   "source": [
    "Create data"
   ]
  },
  {
   "cell_type": "code",
   "execution_count": 86,
   "metadata": {},
   "outputs": [],
   "source": [
    "# number of stimuli\n",
    "sequence_length = 6\n",
    "\n",
    "# number of features \n",
    "num_features = 1\n",
    "\n",
    "# number of samples (max)\n",
    "num_samples = 3000\n",
    "\n",
    "# allocation of samples to exemplars\n",
    "exemplar_idx = np.repeat(np.arange(1, sequence_length+1), num_samples/sequence_length)\n",
    "\n",
    "# background / deviant mean values\n",
    "background = np.repeat(1, num_features)\n",
    "deviant = np.repeat(3, num_features)\n",
    "\n",
    "# perceptual noise\n",
    "sig = np.identity(num_features) * 0.001;\n",
    "\n",
    "# deviant position\n",
    "deviant_pos = 6\n",
    "\n",
    "# stimulus means\n",
    "exemplar_means = np.tile(background, (sequence_length, 1))\n",
    "exemplar_means[deviant_pos-1] = deviant"
   ]
  },
  {
   "cell_type": "markdown",
   "metadata": {},
   "source": [
    "Simulation parameters"
   ]
  },
  {
   "cell_type": "code",
   "execution_count": 99,
   "metadata": {},
   "outputs": [],
   "source": [
    "# number of iterations and warmup per model run\n",
    "num_iter = 20000\n",
    "num_warmup = 4000\n",
    "\n",
    "# number of total model runs\n",
    "num_model_runs = 5\n",
    "\n",
    "# how much to thin posteriors (value determines how we \"retain every nth sample\")\n",
    "thinning_factor = 1"
   ]
  },
  {
   "cell_type": "markdown",
   "metadata": {},
   "source": [
    "Initialize flags, variables, iterators "
   ]
  },
  {
   "cell_type": "code",
   "execution_count": 102,
   "metadata": {},
   "outputs": [
    {
     "data": {
      "image/png": "[encoded data removed]",
      "text/plain": [
       "<Figure size 1296x864 with 1 Axes>"
      ]
     },
     "metadata": {
      "needs_background": "light"
     },
     "output_type": "display_data"
    }
   ],
   "source": [
    "# Flags \n",
    "sample = True\n",
    "policy = 'kl' # 'kl', 'surprisal', 'entropy' or 'eig'\n",
    "\n",
    "# Variables\n",
    "model_LT = np.zeros((num_model_runs, sequence_length))\n",
    "\n",
    "# prior parameters\n",
    "prior_mu = np.random.multivariate_normal(np.repeat(mu_mean, num_features), np.identity(num_features)*mu_sd, num_iter-num_warmup)\n",
    "\n",
    "prior_sigma = np.empty((num_iter-num_warmup, num_features))\n",
    "for i in np.arange(0, num_features):\n",
    "    \n",
    "    # compute truncated sigma prior\n",
    "    nrm=gamma.cdf(100, a = sigma_alpha, scale = 1/sigma_beta)- gamma.cdf(lower_sigma_bound, a = sigma_alpha, scale = 1/sigma_beta)\n",
    "    yr=np.random.rand(num_iter-num_warmup)*(nrm)+gamma.cdf(lower_sigma_bound,  a = sigma_alpha, scale = 1/sigma_beta)\n",
    "    prior_sigma[:,i] = gamma.ppf(yr, a = sigma_alpha, scale = 1/sigma_beta)\n",
    "    \n",
    "    \n",
    "prior_z_rep = np.empty((num_iter-num_warmup, num_features))\n",
    "for i in np.arange(0, num_iter-num_warmup):\n",
    "    prior_z_rep[i,:] = np.random.multivariate_normal(prior_mu[i,:], np.identity(num_features)*prior_sigma[i,:])\n",
    "\n",
    "prior = np.hstack((prior_mu[0:len(prior_mu):thinning_factor], prior_sigma[0:len(prior_sigma):thinning_factor]))\n",
    "\n",
    "data = {\"mu_mean\": mu_mean , \"mu_sd\": mu_sd, \"sigma_alpha\": sigma_alpha, \"sigma_beta\": sigma_beta, \n",
    "\"epsilon_alpha\": epsilon_alpha, \"epsilon_beta\": epsilon_beta, \"noise\": noise, \"F\": num_features}\n",
    "\n",
    "stim_info = np.empty((num_model_runs, num_samples))\n",
    "stim_info[:] = np.nan\n",
    "\n",
    "plt.hist(prior[:,[0]], bins = 30);\n",
    "plt.title('prior')\n",
    "plt.show()"
   ]
  },
  {
   "cell_type": "markdown",
   "metadata": {},
   "source": [
    "# Action loop"
   ]
  },
  {
   "cell_type": "code",
   "execution_count": 103,
   "metadata": {
    "scrolled": false
   },
   "outputs": [
    {
     "name": "stdout",
     "output_type": "stream",
     "text": [
      "model run:  0\n"
     ]
    },
    {
     "name": "stderr",
     "output_type": "stream",
     "text": [
      "WARNING:pystan:360 of 16000 iterations ended with a divergence (2.25 %).\n",
      "WARNING:pystan:Try running with adapt_delta larger than 0.95 to remove the divergences.\n"
     ]
    },
    {
     "name": "stdout",
     "output_type": "stream",
     "text": [
      "stimulus:  1\n",
      "sample:  1\n",
      "\n",
      "Gradient evaluation took 1.1e-05 seconds\n",
      "1000 transitions using 10 leapfrog steps per transition would take 0.11 seconds.\n",
      "Adjust your expectations accordingly!\n",
      "\n",
      "\n",
      "Iteration:     1 / 20000 [  0%]  (Warmup)\n",
      "Iteration:  2000 / 20000 [ 10%]  (Warmup)\n",
      "Iteration:  4000 / 20000 [ 20%]  (Warmup)\n",
      "Iteration:  4001 / 20000 [ 20%]  (Sampling)\n",
      "Iteration:  6000 / 20000 [ 30%]  (Sampling)\n",
      "Iteration:  8000 / 20000 [ 40%]  (Sampling)\n",
      "Iteration: 10000 / 20000 [ 50%]  (Sampling)\n",
      "Iteration: 12000 / 20000 [ 60%]  (Sampling)\n",
      "Iteration: 14000 / 20000 [ 70%]  (Sampling)\n",
      "Iteration: 16000 / 20000 [ 80%]  (Sampling)\n",
      "Iteration: 18000 / 20000 [ 90%]  (Sampling)\n",
      "Iteration: 20000 / 20000 [100%]  (Sampling)\n",
      "\n",
      " Elapsed Time: 0.088297 seconds (Warm-up)\n",
      "               0.271579 seconds (Sampling)\n",
      "               0.359876 seconds (Total)\n",
      "\n"
     ]
    },
    {
     "name": "stderr",
     "output_type": "stream",
     "text": [
      "/Users/galraz1/opt/miniconda3/envs/stan_env/lib/python3.7/site-packages/ipykernel_launcher.py:60: UserWarning: Legend does not support 'p' instances.\n",
      "A proxy artist may be used instead.\n",
      "See: https://matplotlib.org/users/legend_guide.html#creating-artists-specifically-for-adding-to-the-legend-aka-proxy-artists\n",
      "/Users/galraz1/opt/miniconda3/envs/stan_env/lib/python3.7/site-packages/ipykernel_launcher.py:60: UserWarning: Legend does not support 'r' instances.\n",
      "A proxy artist may be used instead.\n",
      "See: https://matplotlib.org/users/legend_guide.html#creating-artists-specifically-for-adding-to-the-legend-aka-proxy-artists\n",
      "/Users/galraz1/opt/miniconda3/envs/stan_env/lib/python3.7/site-packages/ipykernel_launcher.py:60: UserWarning: Legend does not support 'i' instances.\n",
      "A proxy artist may be used instead.\n",
      "See: https://matplotlib.org/users/legend_guide.html#creating-artists-specifically-for-adding-to-the-legend-aka-proxy-artists\n",
      "/Users/galraz1/opt/miniconda3/envs/stan_env/lib/python3.7/site-packages/ipykernel_launcher.py:60: UserWarning: Legend does not support 'o' instances.\n",
      "A proxy artist may be used instead.\n",
      "See: https://matplotlib.org/users/legend_guide.html#creating-artists-specifically-for-adding-to-the-legend-aka-proxy-artists\n",
      "/Users/galraz1/opt/miniconda3/envs/stan_env/lib/python3.7/site-packages/ipykernel_launcher.py:67: UserWarning: Legend does not support 'p' instances.\n",
      "A proxy artist may be used instead.\n",
      "See: https://matplotlib.org/users/legend_guide.html#creating-artists-specifically-for-adding-to-the-legend-aka-proxy-artists\n",
      "/Users/galraz1/opt/miniconda3/envs/stan_env/lib/python3.7/site-packages/ipykernel_launcher.py:67: UserWarning: Legend does not support 'r' instances.\n",
      "A proxy artist may be used instead.\n",
      "See: https://matplotlib.org/users/legend_guide.html#creating-artists-specifically-for-adding-to-the-legend-aka-proxy-artists\n",
      "/Users/galraz1/opt/miniconda3/envs/stan_env/lib/python3.7/site-packages/ipykernel_launcher.py:67: UserWarning: Legend does not support 'i' instances.\n",
      "A proxy artist may be used instead.\n",
      "See: https://matplotlib.org/users/legend_guide.html#creating-artists-specifically-for-adding-to-the-legend-aka-proxy-artists\n",
      "/Users/galraz1/opt/miniconda3/envs/stan_env/lib/python3.7/site-packages/ipykernel_launcher.py:67: UserWarning: Legend does not support 'o' instances.\n",
      "A proxy artist may be used instead.\n",
      "See: https://matplotlib.org/users/legend_guide.html#creating-artists-specifically-for-adding-to-the-legend-aka-proxy-artists\n"
     ]
    },
    {
     "name": "stdout",
     "output_type": "stream",
     "text": [
      "KL: 0.31328933873201015\n",
      "stimulus:  1\n",
      "sample:  2\n",
      "\n"
     ]
    },
    {
     "name": "stderr",
     "output_type": "stream",
     "text": [
      "WARNING:pystan:40 of 16000 iterations ended with a divergence (0.25 %).\n",
      "WARNING:pystan:Try running with adapt_delta larger than 0.95 to remove the divergences.\n"
     ]
    },
    {
     "name": "stdout",
     "output_type": "stream",
     "text": [
      "Gradient evaluation took 1.1e-05 seconds\n",
      "1000 transitions using 10 leapfrog steps per transition would take 0.11 seconds.\n",
      "Adjust your expectations accordingly!\n",
      "\n",
      "\n",
      "Iteration:     1 / 20000 [  0%]  (Warmup)\n",
      "Iteration:  2000 / 20000 [ 10%]  (Warmup)\n",
      "Iteration:  4000 / 20000 [ 20%]  (Warmup)\n",
      "Iteration:  4001 / 20000 [ 20%]  (Sampling)\n",
      "Iteration:  6000 / 20000 [ 30%]  (Sampling)\n",
      "Iteration:  8000 / 20000 [ 40%]  (Sampling)\n",
      "Iteration: 10000 / 20000 [ 50%]  (Sampling)\n",
      "Iteration: 12000 / 20000 [ 60%]  (Sampling)\n",
      "Iteration: 14000 / 20000 [ 70%]  (Sampling)\n",
      "Iteration: 16000 / 20000 [ 80%]  (Sampling)\n",
      "Iteration: 18000 / 20000 [ 90%]  (Sampling)\n",
      "Iteration: 20000 / 20000 [100%]  (Sampling)\n",
      "\n",
      " Elapsed Time: 0.328713 seconds (Warm-up)\n",
      "               0.697291 seconds (Sampling)\n",
      "               1.026 seconds (Total)\n",
      "\n"
     ]
    },
    {
     "name": "stderr",
     "output_type": "stream",
     "text": [
      "/Users/galraz1/opt/miniconda3/envs/stan_env/lib/python3.7/site-packages/ipykernel_launcher.py:60: UserWarning: Legend does not support 'p' instances.\n",
      "A proxy artist may be used instead.\n",
      "See: https://matplotlib.org/users/legend_guide.html#creating-artists-specifically-for-adding-to-the-legend-aka-proxy-artists\n",
      "/Users/galraz1/opt/miniconda3/envs/stan_env/lib/python3.7/site-packages/ipykernel_launcher.py:60: UserWarning: Legend does not support 'r' instances.\n",
      "A proxy artist may be used instead.\n",
      "See: https://matplotlib.org/users/legend_guide.html#creating-artists-specifically-for-adding-to-the-legend-aka-proxy-artists\n",
      "/Users/galraz1/opt/miniconda3/envs/stan_env/lib/python3.7/site-packages/ipykernel_launcher.py:60: UserWarning: Legend does not support 'i' instances.\n",
      "A proxy artist may be used instead.\n",
      "See: https://matplotlib.org/users/legend_guide.html#creating-artists-specifically-for-adding-to-the-legend-aka-proxy-artists\n",
      "/Users/galraz1/opt/miniconda3/envs/stan_env/lib/python3.7/site-packages/ipykernel_launcher.py:60: UserWarning: Legend does not support 'o' instances.\n",
      "A proxy artist may be used instead.\n",
      "See: https://matplotlib.org/users/legend_guide.html#creating-artists-specifically-for-adding-to-the-legend-aka-proxy-artists\n",
      "/Users/galraz1/opt/miniconda3/envs/stan_env/lib/python3.7/site-packages/ipykernel_launcher.py:67: UserWarning: Legend does not support 'p' instances.\n",
      "A proxy artist may be used instead.\n",
      "See: https://matplotlib.org/users/legend_guide.html#creating-artists-specifically-for-adding-to-the-legend-aka-proxy-artists\n",
      "/Users/galraz1/opt/miniconda3/envs/stan_env/lib/python3.7/site-packages/ipykernel_launcher.py:67: UserWarning: Legend does not support 'r' instances.\n",
      "A proxy artist may be used instead.\n",
      "See: https://matplotlib.org/users/legend_guide.html#creating-artists-specifically-for-adding-to-the-legend-aka-proxy-artists\n",
      "/Users/galraz1/opt/miniconda3/envs/stan_env/lib/python3.7/site-packages/ipykernel_launcher.py:67: UserWarning: Legend does not support 'i' instances.\n",
      "A proxy artist may be used instead.\n",
      "See: https://matplotlib.org/users/legend_guide.html#creating-artists-specifically-for-adding-to-the-legend-aka-proxy-artists\n",
      "/Users/galraz1/opt/miniconda3/envs/stan_env/lib/python3.7/site-packages/ipykernel_launcher.py:67: UserWarning: Legend does not support 'o' instances.\n",
      "A proxy artist may be used instead.\n",
      "See: https://matplotlib.org/users/legend_guide.html#creating-artists-specifically-for-adding-to-the-legend-aka-proxy-artists\n"
     ]
    },
    {
     "name": "stdout",
     "output_type": "stream",
     "text": [
      "KL: 0.021329688423671778\n",
      "stimulus:  1\n",
      "sample:  3\n"
     ]
    },
    {
     "name": "stderr",
     "output_type": "stream",
     "text": [
      "WARNING:pystan:28 of 16000 iterations ended with a divergence (0.175 %).\n",
      "WARNING:pystan:Try running with adapt_delta larger than 0.95 to remove the divergences.\n"
     ]
    },
    {
     "name": "stdout",
     "output_type": "stream",
     "text": [
      "\n",
      "Gradient evaluation took 1.1e-05 seconds\n",
      "1000 transitions using 10 leapfrog steps per transition would take 0.11 seconds.\n",
      "Adjust your expectations accordingly!\n",
      "\n",
      "\n",
      "Iteration:     1 / 20000 [  0%]  (Warmup)\n",
      "Iteration:  2000 / 20000 [ 10%]  (Warmup)\n",
      "Iteration:  4000 / 20000 [ 20%]  (Warmup)\n",
      "Iteration:  4001 / 20000 [ 20%]  (Sampling)\n",
      "Iteration:  6000 / 20000 [ 30%]  (Sampling)\n",
      "Iteration:  8000 / 20000 [ 40%]  (Sampling)\n",
      "Iteration: 10000 / 20000 [ 50%]  (Sampling)\n",
      "Iteration: 12000 / 20000 [ 60%]  (Sampling)\n",
      "Iteration: 14000 / 20000 [ 70%]  (Sampling)\n",
      "Iteration: 16000 / 20000 [ 80%]  (Sampling)\n",
      "Iteration: 18000 / 20000 [ 90%]  (Sampling)\n",
      "Iteration: 20000 / 20000 [100%]  (Sampling)\n",
      "\n",
      " Elapsed Time: 0.38333 seconds (Warm-up)\n",
      "               0.740789 seconds (Sampling)\n",
      "               1.12412 seconds (Total)\n",
      "\n"
     ]
    },
    {
     "name": "stderr",
     "output_type": "stream",
     "text": [
      "/Users/galraz1/opt/miniconda3/envs/stan_env/lib/python3.7/site-packages/ipykernel_launcher.py:60: UserWarning: Legend does not support 'p' instances.\n",
      "A proxy artist may be used instead.\n",
      "See: https://matplotlib.org/users/legend_guide.html#creating-artists-specifically-for-adding-to-the-legend-aka-proxy-artists\n",
      "/Users/galraz1/opt/miniconda3/envs/stan_env/lib/python3.7/site-packages/ipykernel_launcher.py:60: UserWarning: Legend does not support 'r' instances.\n",
      "A proxy artist may be used instead.\n",
      "See: https://matplotlib.org/users/legend_guide.html#creating-artists-specifically-for-adding-to-the-legend-aka-proxy-artists\n",
      "/Users/galraz1/opt/miniconda3/envs/stan_env/lib/python3.7/site-packages/ipykernel_launcher.py:60: UserWarning: Legend does not support 'i' instances.\n",
      "A proxy artist may be used instead.\n",
      "See: https://matplotlib.org/users/legend_guide.html#creating-artists-specifically-for-adding-to-the-legend-aka-proxy-artists\n",
      "/Users/galraz1/opt/miniconda3/envs/stan_env/lib/python3.7/site-packages/ipykernel_launcher.py:60: UserWarning: Legend does not support 'o' instances.\n",
      "A proxy artist may be used instead.\n",
      "See: https://matplotlib.org/users/legend_guide.html#creating-artists-specifically-for-adding-to-the-legend-aka-proxy-artists\n",
      "/Users/galraz1/opt/miniconda3/envs/stan_env/lib/python3.7/site-packages/ipykernel_launcher.py:67: UserWarning: Legend does not support 'p' instances.\n",
      "A proxy artist may be used instead.\n",
      "See: https://matplotlib.org/users/legend_guide.html#creating-artists-specifically-for-adding-to-the-legend-aka-proxy-artists\n",
      "/Users/galraz1/opt/miniconda3/envs/stan_env/lib/python3.7/site-packages/ipykernel_launcher.py:67: UserWarning: Legend does not support 'r' instances.\n",
      "A proxy artist may be used instead.\n",
      "See: https://matplotlib.org/users/legend_guide.html#creating-artists-specifically-for-adding-to-the-legend-aka-proxy-artists\n",
      "/Users/galraz1/opt/miniconda3/envs/stan_env/lib/python3.7/site-packages/ipykernel_launcher.py:67: UserWarning: Legend does not support 'i' instances.\n",
      "A proxy artist may be used instead.\n",
      "See: https://matplotlib.org/users/legend_guide.html#creating-artists-specifically-for-adding-to-the-legend-aka-proxy-artists\n",
      "/Users/galraz1/opt/miniconda3/envs/stan_env/lib/python3.7/site-packages/ipykernel_launcher.py:67: UserWarning: Legend does not support 'o' instances.\n",
      "A proxy artist may be used instead.\n",
      "See: https://matplotlib.org/users/legend_guide.html#creating-artists-specifically-for-adding-to-the-legend-aka-proxy-artists\n"
     ]
    },
    {
     "name": "stdout",
     "output_type": "stream",
     "text": [
      "KL: 0.003012690688237729\n",
      "stimulus:  2\n",
      "sample:  4\n"
     ]
    },
    {
     "name": "stderr",
     "output_type": "stream",
     "text": [
      "WARNING:pystan:107 of 16000 iterations ended with a divergence (0.669 %).\n",
      "WARNING:pystan:Try running with adapt_delta larger than 0.95 to remove the divergences.\n"
     ]
    },
    {
     "name": "stdout",
     "output_type": "stream",
     "text": [
      "\n",
      "Gradient evaluation took 2.4e-05 seconds\n",
      "1000 transitions using 10 leapfrog steps per transition would take 0.24 seconds.\n",
      "Adjust your expectations accordingly!\n",
      "\n",
      "\n",
      "Iteration:     1 / 20000 [  0%]  (Warmup)\n",
      "Iteration:  2000 / 20000 [ 10%]  (Warmup)\n",
      "Iteration:  4000 / 20000 [ 20%]  (Warmup)\n",
      "Iteration:  4001 / 20000 [ 20%]  (Sampling)\n",
      "Iteration:  6000 / 20000 [ 30%]  (Sampling)\n",
      "Iteration:  8000 / 20000 [ 40%]  (Sampling)\n",
      "Iteration: 10000 / 20000 [ 50%]  (Sampling)\n",
      "Iteration: 12000 / 20000 [ 60%]  (Sampling)\n",
      "Iteration: 14000 / 20000 [ 70%]  (Sampling)\n",
      "Iteration: 16000 / 20000 [ 80%]  (Sampling)\n",
      "Iteration: 18000 / 20000 [ 90%]  (Sampling)\n",
      "Iteration: 20000 / 20000 [100%]  (Sampling)\n",
      "\n",
      " Elapsed Time: 0.551792 seconds (Warm-up)\n",
      "               0.658756 seconds (Sampling)\n",
      "               1.21055 seconds (Total)\n",
      "\n"
     ]
    },
    {
     "name": "stderr",
     "output_type": "stream",
     "text": [
      "/Users/galraz1/opt/miniconda3/envs/stan_env/lib/python3.7/site-packages/ipykernel_launcher.py:60: UserWarning: Legend does not support 'p' instances.\n",
      "A proxy artist may be used instead.\n",
      "See: https://matplotlib.org/users/legend_guide.html#creating-artists-specifically-for-adding-to-the-legend-aka-proxy-artists\n",
      "/Users/galraz1/opt/miniconda3/envs/stan_env/lib/python3.7/site-packages/ipykernel_launcher.py:60: UserWarning: Legend does not support 'r' instances.\n",
      "A proxy artist may be used instead.\n",
      "See: https://matplotlib.org/users/legend_guide.html#creating-artists-specifically-for-adding-to-the-legend-aka-proxy-artists\n",
      "/Users/galraz1/opt/miniconda3/envs/stan_env/lib/python3.7/site-packages/ipykernel_launcher.py:60: UserWarning: Legend does not support 'i' instances.\n",
      "A proxy artist may be used instead.\n",
      "See: https://matplotlib.org/users/legend_guide.html#creating-artists-specifically-for-adding-to-the-legend-aka-proxy-artists\n",
      "/Users/galraz1/opt/miniconda3/envs/stan_env/lib/python3.7/site-packages/ipykernel_launcher.py:60: UserWarning: Legend does not support 'o' instances.\n",
      "A proxy artist may be used instead.\n",
      "See: https://matplotlib.org/users/legend_guide.html#creating-artists-specifically-for-adding-to-the-legend-aka-proxy-artists\n",
      "/Users/galraz1/opt/miniconda3/envs/stan_env/lib/python3.7/site-packages/ipykernel_launcher.py:67: UserWarning: Legend does not support 'p' instances.\n",
      "A proxy artist may be used instead.\n",
      "See: https://matplotlib.org/users/legend_guide.html#creating-artists-specifically-for-adding-to-the-legend-aka-proxy-artists\n",
      "/Users/galraz1/opt/miniconda3/envs/stan_env/lib/python3.7/site-packages/ipykernel_launcher.py:67: UserWarning: Legend does not support 'r' instances.\n",
      "A proxy artist may be used instead.\n",
      "See: https://matplotlib.org/users/legend_guide.html#creating-artists-specifically-for-adding-to-the-legend-aka-proxy-artists\n",
      "/Users/galraz1/opt/miniconda3/envs/stan_env/lib/python3.7/site-packages/ipykernel_launcher.py:67: UserWarning: Legend does not support 'i' instances.\n",
      "A proxy artist may be used instead.\n",
      "See: https://matplotlib.org/users/legend_guide.html#creating-artists-specifically-for-adding-to-the-legend-aka-proxy-artists\n",
      "/Users/galraz1/opt/miniconda3/envs/stan_env/lib/python3.7/site-packages/ipykernel_launcher.py:67: UserWarning: Legend does not support 'o' instances.\n",
      "A proxy artist may be used instead.\n",
      "See: https://matplotlib.org/users/legend_guide.html#creating-artists-specifically-for-adding-to-the-legend-aka-proxy-artists\n"
     ]
    },
    {
     "name": "stdout",
     "output_type": "stream",
     "text": [
      "KL: 0.1799183498363427\n",
      "stimulus:  2\n",
      "sample:  5\n"
     ]
    },
    {
     "name": "stderr",
     "output_type": "stream",
     "text": [
      "WARNING:pystan:118 of 16000 iterations ended with a divergence (0.738 %).\n",
      "WARNING:pystan:Try running with adapt_delta larger than 0.95 to remove the divergences.\n"
     ]
    },
    {
     "name": "stdout",
     "output_type": "stream",
     "text": [
      "\n",
      "Gradient evaluation took 3.6e-05 seconds\n",
      "1000 transitions using 10 leapfrog steps per transition would take 0.36 seconds.\n",
      "Adjust your expectations accordingly!\n",
      "\n",
      "\n",
      "Iteration:     1 / 20000 [  0%]  (Warmup)\n",
      "Iteration:  2000 / 20000 [ 10%]  (Warmup)\n",
      "Iteration:  4000 / 20000 [ 20%]  (Warmup)\n",
      "Iteration:  4001 / 20000 [ 20%]  (Sampling)\n",
      "Iteration:  6000 / 20000 [ 30%]  (Sampling)\n",
      "Iteration:  8000 / 20000 [ 40%]  (Sampling)\n",
      "Iteration: 10000 / 20000 [ 50%]  (Sampling)\n",
      "Iteration: 12000 / 20000 [ 60%]  (Sampling)\n",
      "Iteration: 14000 / 20000 [ 70%]  (Sampling)\n",
      "Iteration: 16000 / 20000 [ 80%]  (Sampling)\n",
      "Iteration: 18000 / 20000 [ 90%]  (Sampling)\n",
      "Iteration: 20000 / 20000 [100%]  (Sampling)\n",
      "\n",
      " Elapsed Time: 0.526049 seconds (Warm-up)\n",
      "               0.732926 seconds (Sampling)\n",
      "               1.25897 seconds (Total)\n",
      "\n"
     ]
    },
    {
     "name": "stderr",
     "output_type": "stream",
     "text": [
      "/Users/galraz1/opt/miniconda3/envs/stan_env/lib/python3.7/site-packages/ipykernel_launcher.py:60: UserWarning: Legend does not support 'p' instances.\n",
      "A proxy artist may be used instead.\n",
      "See: https://matplotlib.org/users/legend_guide.html#creating-artists-specifically-for-adding-to-the-legend-aka-proxy-artists\n",
      "/Users/galraz1/opt/miniconda3/envs/stan_env/lib/python3.7/site-packages/ipykernel_launcher.py:60: UserWarning: Legend does not support 'r' instances.\n",
      "A proxy artist may be used instead.\n",
      "See: https://matplotlib.org/users/legend_guide.html#creating-artists-specifically-for-adding-to-the-legend-aka-proxy-artists\n",
      "/Users/galraz1/opt/miniconda3/envs/stan_env/lib/python3.7/site-packages/ipykernel_launcher.py:60: UserWarning: Legend does not support 'i' instances.\n",
      "A proxy artist may be used instead.\n",
      "See: https://matplotlib.org/users/legend_guide.html#creating-artists-specifically-for-adding-to-the-legend-aka-proxy-artists\n",
      "/Users/galraz1/opt/miniconda3/envs/stan_env/lib/python3.7/site-packages/ipykernel_launcher.py:60: UserWarning: Legend does not support 'o' instances.\n",
      "A proxy artist may be used instead.\n",
      "See: https://matplotlib.org/users/legend_guide.html#creating-artists-specifically-for-adding-to-the-legend-aka-proxy-artists\n",
      "/Users/galraz1/opt/miniconda3/envs/stan_env/lib/python3.7/site-packages/ipykernel_launcher.py:67: UserWarning: Legend does not support 'p' instances.\n",
      "A proxy artist may be used instead.\n",
      "See: https://matplotlib.org/users/legend_guide.html#creating-artists-specifically-for-adding-to-the-legend-aka-proxy-artists\n",
      "/Users/galraz1/opt/miniconda3/envs/stan_env/lib/python3.7/site-packages/ipykernel_launcher.py:67: UserWarning: Legend does not support 'r' instances.\n",
      "A proxy artist may be used instead.\n",
      "See: https://matplotlib.org/users/legend_guide.html#creating-artists-specifically-for-adding-to-the-legend-aka-proxy-artists\n",
      "/Users/galraz1/opt/miniconda3/envs/stan_env/lib/python3.7/site-packages/ipykernel_launcher.py:67: UserWarning: Legend does not support 'i' instances.\n",
      "A proxy artist may be used instead.\n",
      "See: https://matplotlib.org/users/legend_guide.html#creating-artists-specifically-for-adding-to-the-legend-aka-proxy-artists\n",
      "/Users/galraz1/opt/miniconda3/envs/stan_env/lib/python3.7/site-packages/ipykernel_launcher.py:67: UserWarning: Legend does not support 'o' instances.\n",
      "A proxy artist may be used instead.\n",
      "See: https://matplotlib.org/users/legend_guide.html#creating-artists-specifically-for-adding-to-the-legend-aka-proxy-artists\n"
     ]
    },
    {
     "name": "stdout",
     "output_type": "stream",
     "text": [
      "KL: 0.005391577051269247\n",
      "stimulus:  3\n",
      "sample:  6\n"
     ]
    },
    {
     "name": "stderr",
     "output_type": "stream",
     "text": [
      "WARNING:pystan:360 of 16000 iterations ended with a divergence (2.25 %).\n",
      "WARNING:pystan:Try running with adapt_delta larger than 0.95 to remove the divergences.\n"
     ]
    },
    {
     "name": "stdout",
     "output_type": "stream",
     "text": [
      "\n",
      "Gradient evaluation took 3.5e-05 seconds\n",
      "1000 transitions using 10 leapfrog steps per transition would take 0.35 seconds.\n",
      "Adjust your expectations accordingly!\n",
      "\n",
      "\n",
      "Iteration:     1 / 20000 [  0%]  (Warmup)\n",
      "Iteration:  2000 / 20000 [ 10%]  (Warmup)\n",
      "Iteration:  4000 / 20000 [ 20%]  (Warmup)\n",
      "Iteration:  4001 / 20000 [ 20%]  (Sampling)\n",
      "Iteration:  6000 / 20000 [ 30%]  (Sampling)\n",
      "Iteration:  8000 / 20000 [ 40%]  (Sampling)\n",
      "Iteration: 10000 / 20000 [ 50%]  (Sampling)\n",
      "Iteration: 12000 / 20000 [ 60%]  (Sampling)\n",
      "Iteration: 14000 / 20000 [ 70%]  (Sampling)\n",
      "Iteration: 16000 / 20000 [ 80%]  (Sampling)\n",
      "Iteration: 18000 / 20000 [ 90%]  (Sampling)\n",
      "Iteration: 20000 / 20000 [100%]  (Sampling)\n",
      "\n",
      " Elapsed Time: 0.738362 seconds (Warm-up)\n",
      "               0.588527 seconds (Sampling)\n",
      "               1.32689 seconds (Total)\n",
      "\n"
     ]
    },
    {
     "name": "stderr",
     "output_type": "stream",
     "text": [
      "/Users/galraz1/opt/miniconda3/envs/stan_env/lib/python3.7/site-packages/ipykernel_launcher.py:60: UserWarning: Legend does not support 'p' instances.\n",
      "A proxy artist may be used instead.\n",
      "See: https://matplotlib.org/users/legend_guide.html#creating-artists-specifically-for-adding-to-the-legend-aka-proxy-artists\n",
      "/Users/galraz1/opt/miniconda3/envs/stan_env/lib/python3.7/site-packages/ipykernel_launcher.py:60: UserWarning: Legend does not support 'r' instances.\n",
      "A proxy artist may be used instead.\n",
      "See: https://matplotlib.org/users/legend_guide.html#creating-artists-specifically-for-adding-to-the-legend-aka-proxy-artists\n",
      "/Users/galraz1/opt/miniconda3/envs/stan_env/lib/python3.7/site-packages/ipykernel_launcher.py:60: UserWarning: Legend does not support 'i' instances.\n",
      "A proxy artist may be used instead.\n",
      "See: https://matplotlib.org/users/legend_guide.html#creating-artists-specifically-for-adding-to-the-legend-aka-proxy-artists\n",
      "/Users/galraz1/opt/miniconda3/envs/stan_env/lib/python3.7/site-packages/ipykernel_launcher.py:60: UserWarning: Legend does not support 'o' instances.\n",
      "A proxy artist may be used instead.\n",
      "See: https://matplotlib.org/users/legend_guide.html#creating-artists-specifically-for-adding-to-the-legend-aka-proxy-artists\n",
      "/Users/galraz1/opt/miniconda3/envs/stan_env/lib/python3.7/site-packages/ipykernel_launcher.py:67: UserWarning: Legend does not support 'p' instances.\n",
      "A proxy artist may be used instead.\n",
      "See: https://matplotlib.org/users/legend_guide.html#creating-artists-specifically-for-adding-to-the-legend-aka-proxy-artists\n",
      "/Users/galraz1/opt/miniconda3/envs/stan_env/lib/python3.7/site-packages/ipykernel_launcher.py:67: UserWarning: Legend does not support 'r' instances.\n",
      "A proxy artist may be used instead.\n",
      "See: https://matplotlib.org/users/legend_guide.html#creating-artists-specifically-for-adding-to-the-legend-aka-proxy-artists\n",
      "/Users/galraz1/opt/miniconda3/envs/stan_env/lib/python3.7/site-packages/ipykernel_launcher.py:67: UserWarning: Legend does not support 'i' instances.\n",
      "A proxy artist may be used instead.\n",
      "See: https://matplotlib.org/users/legend_guide.html#creating-artists-specifically-for-adding-to-the-legend-aka-proxy-artists\n",
      "/Users/galraz1/opt/miniconda3/envs/stan_env/lib/python3.7/site-packages/ipykernel_launcher.py:67: UserWarning: Legend does not support 'o' instances.\n",
      "A proxy artist may be used instead.\n",
      "See: https://matplotlib.org/users/legend_guide.html#creating-artists-specifically-for-adding-to-the-legend-aka-proxy-artists\n"
     ]
    },
    {
     "name": "stdout",
     "output_type": "stream",
     "text": [
      "KL: 0.15086205379432183\n",
      "stimulus:  3\n",
      "sample:  7\n"
     ]
    },
    {
     "name": "stderr",
     "output_type": "stream",
     "text": [
      "WARNING:pystan:78 of 16000 iterations ended with a divergence (0.487 %).\n",
      "WARNING:pystan:Try running with adapt_delta larger than 0.95 to remove the divergences.\n"
     ]
    },
    {
     "name": "stdout",
     "output_type": "stream",
     "text": [
      "\n",
      "Gradient evaluation took 3.8e-05 seconds\n",
      "1000 transitions using 10 leapfrog steps per transition would take 0.38 seconds.\n",
      "Adjust your expectations accordingly!\n",
      "\n",
      "\n",
      "Iteration:     1 / 20000 [  0%]  (Warmup)\n",
      "Iteration:  2000 / 20000 [ 10%]  (Warmup)\n",
      "Iteration:  4000 / 20000 [ 20%]  (Warmup)\n",
      "Iteration:  4001 / 20000 [ 20%]  (Sampling)\n",
      "Iteration:  6000 / 20000 [ 30%]  (Sampling)\n",
      "Iteration:  8000 / 20000 [ 40%]  (Sampling)\n",
      "Iteration: 10000 / 20000 [ 50%]  (Sampling)\n",
      "Iteration: 12000 / 20000 [ 60%]  (Sampling)\n",
      "Iteration: 14000 / 20000 [ 70%]  (Sampling)\n",
      "Iteration: 16000 / 20000 [ 80%]  (Sampling)\n",
      "Iteration: 18000 / 20000 [ 90%]  (Sampling)\n",
      "Iteration: 20000 / 20000 [100%]  (Sampling)\n",
      "\n",
      " Elapsed Time: 0.696295 seconds (Warm-up)\n",
      "               0.967368 seconds (Sampling)\n",
      "               1.66366 seconds (Total)\n",
      "\n"
     ]
    },
    {
     "name": "stderr",
     "output_type": "stream",
     "text": [
      "/Users/galraz1/opt/miniconda3/envs/stan_env/lib/python3.7/site-packages/ipykernel_launcher.py:60: UserWarning: Legend does not support 'p' instances.\n",
      "A proxy artist may be used instead.\n",
      "See: https://matplotlib.org/users/legend_guide.html#creating-artists-specifically-for-adding-to-the-legend-aka-proxy-artists\n",
      "/Users/galraz1/opt/miniconda3/envs/stan_env/lib/python3.7/site-packages/ipykernel_launcher.py:60: UserWarning: Legend does not support 'r' instances.\n",
      "A proxy artist may be used instead.\n",
      "See: https://matplotlib.org/users/legend_guide.html#creating-artists-specifically-for-adding-to-the-legend-aka-proxy-artists\n",
      "/Users/galraz1/opt/miniconda3/envs/stan_env/lib/python3.7/site-packages/ipykernel_launcher.py:60: UserWarning: Legend does not support 'i' instances.\n",
      "A proxy artist may be used instead.\n",
      "See: https://matplotlib.org/users/legend_guide.html#creating-artists-specifically-for-adding-to-the-legend-aka-proxy-artists\n",
      "/Users/galraz1/opt/miniconda3/envs/stan_env/lib/python3.7/site-packages/ipykernel_launcher.py:60: UserWarning: Legend does not support 'o' instances.\n",
      "A proxy artist may be used instead.\n",
      "See: https://matplotlib.org/users/legend_guide.html#creating-artists-specifically-for-adding-to-the-legend-aka-proxy-artists\n",
      "/Users/galraz1/opt/miniconda3/envs/stan_env/lib/python3.7/site-packages/ipykernel_launcher.py:67: UserWarning: Legend does not support 'p' instances.\n",
      "A proxy artist may be used instead.\n",
      "See: https://matplotlib.org/users/legend_guide.html#creating-artists-specifically-for-adding-to-the-legend-aka-proxy-artists\n",
      "/Users/galraz1/opt/miniconda3/envs/stan_env/lib/python3.7/site-packages/ipykernel_launcher.py:67: UserWarning: Legend does not support 'r' instances.\n",
      "A proxy artist may be used instead.\n",
      "See: https://matplotlib.org/users/legend_guide.html#creating-artists-specifically-for-adding-to-the-legend-aka-proxy-artists\n",
      "/Users/galraz1/opt/miniconda3/envs/stan_env/lib/python3.7/site-packages/ipykernel_launcher.py:67: UserWarning: Legend does not support 'i' instances.\n",
      "A proxy artist may be used instead.\n",
      "See: https://matplotlib.org/users/legend_guide.html#creating-artists-specifically-for-adding-to-the-legend-aka-proxy-artists\n",
      "/Users/galraz1/opt/miniconda3/envs/stan_env/lib/python3.7/site-packages/ipykernel_launcher.py:67: UserWarning: Legend does not support 'o' instances.\n",
      "A proxy artist may be used instead.\n",
      "See: https://matplotlib.org/users/legend_guide.html#creating-artists-specifically-for-adding-to-the-legend-aka-proxy-artists\n"
     ]
    },
    {
     "name": "stdout",
     "output_type": "stream",
     "text": [
      "KL: 0.025999886516035076\n",
      "stimulus:  3\n",
      "sample:  8\n"
     ]
    },
    {
     "name": "stderr",
     "output_type": "stream",
     "text": [
      "WARNING:pystan:364 of 16000 iterations ended with a divergence (2.27 %).\n",
      "WARNING:pystan:Try running with adapt_delta larger than 0.95 to remove the divergences.\n"
     ]
    },
    {
     "name": "stdout",
     "output_type": "stream",
     "text": [
      "\n",
      "Gradient evaluation took 3.8e-05 seconds\n",
      "1000 transitions using 10 leapfrog steps per transition would take 0.38 seconds.\n",
      "Adjust your expectations accordingly!\n",
      "\n",
      "\n",
      "Iteration:     1 / 20000 [  0%]  (Warmup)\n",
      "Iteration:  2000 / 20000 [ 10%]  (Warmup)\n",
      "Iteration:  4000 / 20000 [ 20%]  (Warmup)\n",
      "Iteration:  4001 / 20000 [ 20%]  (Sampling)\n",
      "Iteration:  6000 / 20000 [ 30%]  (Sampling)\n",
      "Iteration:  8000 / 20000 [ 40%]  (Sampling)\n",
      "Iteration: 10000 / 20000 [ 50%]  (Sampling)\n",
      "Iteration: 12000 / 20000 [ 60%]  (Sampling)\n",
      "Iteration: 14000 / 20000 [ 70%]  (Sampling)\n",
      "Iteration: 16000 / 20000 [ 80%]  (Sampling)\n",
      "Iteration: 18000 / 20000 [ 90%]  (Sampling)\n",
      "Iteration: 20000 / 20000 [100%]  (Sampling)\n",
      "\n",
      " Elapsed Time: 0.76371 seconds (Warm-up)\n",
      "               0.541376 seconds (Sampling)\n",
      "               1.30509 seconds (Total)\n",
      "\n"
     ]
    },
    {
     "name": "stderr",
     "output_type": "stream",
     "text": [
      "/Users/galraz1/opt/miniconda3/envs/stan_env/lib/python3.7/site-packages/ipykernel_launcher.py:60: UserWarning: Legend does not support 'p' instances.\n",
      "A proxy artist may be used instead.\n",
      "See: https://matplotlib.org/users/legend_guide.html#creating-artists-specifically-for-adding-to-the-legend-aka-proxy-artists\n",
      "/Users/galraz1/opt/miniconda3/envs/stan_env/lib/python3.7/site-packages/ipykernel_launcher.py:60: UserWarning: Legend does not support 'r' instances.\n",
      "A proxy artist may be used instead.\n",
      "See: https://matplotlib.org/users/legend_guide.html#creating-artists-specifically-for-adding-to-the-legend-aka-proxy-artists\n",
      "/Users/galraz1/opt/miniconda3/envs/stan_env/lib/python3.7/site-packages/ipykernel_launcher.py:60: UserWarning: Legend does not support 'i' instances.\n",
      "A proxy artist may be used instead.\n",
      "See: https://matplotlib.org/users/legend_guide.html#creating-artists-specifically-for-adding-to-the-legend-aka-proxy-artists\n",
      "/Users/galraz1/opt/miniconda3/envs/stan_env/lib/python3.7/site-packages/ipykernel_launcher.py:60: UserWarning: Legend does not support 'o' instances.\n",
      "A proxy artist may be used instead.\n",
      "See: https://matplotlib.org/users/legend_guide.html#creating-artists-specifically-for-adding-to-the-legend-aka-proxy-artists\n",
      "/Users/galraz1/opt/miniconda3/envs/stan_env/lib/python3.7/site-packages/ipykernel_launcher.py:67: UserWarning: Legend does not support 'p' instances.\n",
      "A proxy artist may be used instead.\n",
      "See: https://matplotlib.org/users/legend_guide.html#creating-artists-specifically-for-adding-to-the-legend-aka-proxy-artists\n",
      "/Users/galraz1/opt/miniconda3/envs/stan_env/lib/python3.7/site-packages/ipykernel_launcher.py:67: UserWarning: Legend does not support 'r' instances.\n",
      "A proxy artist may be used instead.\n",
      "See: https://matplotlib.org/users/legend_guide.html#creating-artists-specifically-for-adding-to-the-legend-aka-proxy-artists\n",
      "/Users/galraz1/opt/miniconda3/envs/stan_env/lib/python3.7/site-packages/ipykernel_launcher.py:67: UserWarning: Legend does not support 'i' instances.\n",
      "A proxy artist may be used instead.\n",
      "See: https://matplotlib.org/users/legend_guide.html#creating-artists-specifically-for-adding-to-the-legend-aka-proxy-artists\n",
      "/Users/galraz1/opt/miniconda3/envs/stan_env/lib/python3.7/site-packages/ipykernel_launcher.py:67: UserWarning: Legend does not support 'o' instances.\n",
      "A proxy artist may be used instead.\n",
      "See: https://matplotlib.org/users/legend_guide.html#creating-artists-specifically-for-adding-to-the-legend-aka-proxy-artists\n",
      "WARNING:pystan:631 of 16000 iterations ended with a divergence (3.94 %).\n",
      "WARNING:pystan:Try running with adapt_delta larger than 0.95 to remove the divergences.\n"
     ]
    },
    {
     "name": "stdout",
     "output_type": "stream",
     "text": [
      "KL: 0.0016783577105671244\n",
      "stimulus:  4\n",
      "sample:  9\n",
      "\n",
      "Gradient evaluation took 5.1e-05 seconds\n",
      "1000 transitions using 10 leapfrog steps per transition would take 0.51 seconds.\n",
      "Adjust your expectations accordingly!\n",
      "\n",
      "\n",
      "Iteration:     1 / 20000 [  0%]  (Warmup)\n",
      "Iteration:  2000 / 20000 [ 10%]  (Warmup)\n",
      "Iteration:  4000 / 20000 [ 20%]  (Warmup)\n",
      "Iteration:  4001 / 20000 [ 20%]  (Sampling)\n",
      "Iteration:  6000 / 20000 [ 30%]  (Sampling)\n",
      "Iteration:  8000 / 20000 [ 40%]  (Sampling)\n",
      "Iteration: 10000 / 20000 [ 50%]  (Sampling)\n",
      "Iteration: 12000 / 20000 [ 60%]  (Sampling)\n",
      "Iteration: 14000 / 20000 [ 70%]  (Sampling)\n",
      "Iteration: 16000 / 20000 [ 80%]  (Sampling)\n",
      "Iteration: 18000 / 20000 [ 90%]  (Sampling)\n",
      "Iteration: 20000 / 20000 [100%]  (Sampling)\n",
      "\n",
      " Elapsed Time: 0.789307 seconds (Warm-up)\n",
      "               0.631885 seconds (Sampling)\n",
      "               1.42119 seconds (Total)\n",
      "\n"
     ]
    },
    {
     "name": "stderr",
     "output_type": "stream",
     "text": [
      "/Users/galraz1/opt/miniconda3/envs/stan_env/lib/python3.7/site-packages/ipykernel_launcher.py:60: UserWarning: Legend does not support 'p' instances.\n",
      "A proxy artist may be used instead.\n",
      "See: https://matplotlib.org/users/legend_guide.html#creating-artists-specifically-for-adding-to-the-legend-aka-proxy-artists\n",
      "/Users/galraz1/opt/miniconda3/envs/stan_env/lib/python3.7/site-packages/ipykernel_launcher.py:60: UserWarning: Legend does not support 'r' instances.\n",
      "A proxy artist may be used instead.\n",
      "See: https://matplotlib.org/users/legend_guide.html#creating-artists-specifically-for-adding-to-the-legend-aka-proxy-artists\n",
      "/Users/galraz1/opt/miniconda3/envs/stan_env/lib/python3.7/site-packages/ipykernel_launcher.py:60: UserWarning: Legend does not support 'i' instances.\n",
      "A proxy artist may be used instead.\n",
      "See: https://matplotlib.org/users/legend_guide.html#creating-artists-specifically-for-adding-to-the-legend-aka-proxy-artists\n",
      "/Users/galraz1/opt/miniconda3/envs/stan_env/lib/python3.7/site-packages/ipykernel_launcher.py:60: UserWarning: Legend does not support 'o' instances.\n",
      "A proxy artist may be used instead.\n",
      "See: https://matplotlib.org/users/legend_guide.html#creating-artists-specifically-for-adding-to-the-legend-aka-proxy-artists\n",
      "/Users/galraz1/opt/miniconda3/envs/stan_env/lib/python3.7/site-packages/ipykernel_launcher.py:67: UserWarning: Legend does not support 'p' instances.\n",
      "A proxy artist may be used instead.\n",
      "See: https://matplotlib.org/users/legend_guide.html#creating-artists-specifically-for-adding-to-the-legend-aka-proxy-artists\n",
      "/Users/galraz1/opt/miniconda3/envs/stan_env/lib/python3.7/site-packages/ipykernel_launcher.py:67: UserWarning: Legend does not support 'r' instances.\n",
      "A proxy artist may be used instead.\n",
      "See: https://matplotlib.org/users/legend_guide.html#creating-artists-specifically-for-adding-to-the-legend-aka-proxy-artists\n",
      "/Users/galraz1/opt/miniconda3/envs/stan_env/lib/python3.7/site-packages/ipykernel_launcher.py:67: UserWarning: Legend does not support 'i' instances.\n",
      "A proxy artist may be used instead.\n",
      "See: https://matplotlib.org/users/legend_guide.html#creating-artists-specifically-for-adding-to-the-legend-aka-proxy-artists\n",
      "/Users/galraz1/opt/miniconda3/envs/stan_env/lib/python3.7/site-packages/ipykernel_launcher.py:67: UserWarning: Legend does not support 'o' instances.\n",
      "A proxy artist may be used instead.\n",
      "See: https://matplotlib.org/users/legend_guide.html#creating-artists-specifically-for-adding-to-the-legend-aka-proxy-artists\n",
      "WARNING:pystan:261 of 16000 iterations ended with a divergence (1.63 %).\n",
      "WARNING:pystan:Try running with adapt_delta larger than 0.95 to remove the divergences.\n"
     ]
    },
    {
     "name": "stdout",
     "output_type": "stream",
     "text": [
      "KL: 0.17882053498677916\n",
      "stimulus:  4\n",
      "sample:  10\n",
      "\n",
      "Gradient evaluation took 2.4e-05 seconds\n",
      "1000 transitions using 10 leapfrog steps per transition would take 0.24 seconds.\n",
      "Adjust your expectations accordingly!\n",
      "\n",
      "\n",
      "Iteration:     1 / 20000 [  0%]  (Warmup)\n",
      "Iteration:  2000 / 20000 [ 10%]  (Warmup)\n",
      "Iteration:  4000 / 20000 [ 20%]  (Warmup)\n",
      "Iteration:  4001 / 20000 [ 20%]  (Sampling)\n",
      "Iteration:  6000 / 20000 [ 30%]  (Sampling)\n",
      "Iteration:  8000 / 20000 [ 40%]  (Sampling)\n",
      "Iteration: 10000 / 20000 [ 50%]  (Sampling)\n",
      "Iteration: 12000 / 20000 [ 60%]  (Sampling)\n",
      "Iteration: 14000 / 20000 [ 70%]  (Sampling)\n",
      "Iteration: 16000 / 20000 [ 80%]  (Sampling)\n",
      "Iteration: 18000 / 20000 [ 90%]  (Sampling)\n",
      "Iteration: 20000 / 20000 [100%]  (Sampling)\n",
      "\n",
      " Elapsed Time: 0.805784 seconds (Warm-up)\n",
      "               0.728513 seconds (Sampling)\n",
      "               1.5343 seconds (Total)\n",
      "\n"
     ]
    },
    {
     "name": "stderr",
     "output_type": "stream",
     "text": [
      "/Users/galraz1/opt/miniconda3/envs/stan_env/lib/python3.7/site-packages/ipykernel_launcher.py:60: UserWarning: Legend does not support 'p' instances.\n",
      "A proxy artist may be used instead.\n",
      "See: https://matplotlib.org/users/legend_guide.html#creating-artists-specifically-for-adding-to-the-legend-aka-proxy-artists\n",
      "/Users/galraz1/opt/miniconda3/envs/stan_env/lib/python3.7/site-packages/ipykernel_launcher.py:60: UserWarning: Legend does not support 'r' instances.\n",
      "A proxy artist may be used instead.\n",
      "See: https://matplotlib.org/users/legend_guide.html#creating-artists-specifically-for-adding-to-the-legend-aka-proxy-artists\n",
      "/Users/galraz1/opt/miniconda3/envs/stan_env/lib/python3.7/site-packages/ipykernel_launcher.py:60: UserWarning: Legend does not support 'i' instances.\n",
      "A proxy artist may be used instead.\n",
      "See: https://matplotlib.org/users/legend_guide.html#creating-artists-specifically-for-adding-to-the-legend-aka-proxy-artists\n",
      "/Users/galraz1/opt/miniconda3/envs/stan_env/lib/python3.7/site-packages/ipykernel_launcher.py:60: UserWarning: Legend does not support 'o' instances.\n",
      "A proxy artist may be used instead.\n",
      "See: https://matplotlib.org/users/legend_guide.html#creating-artists-specifically-for-adding-to-the-legend-aka-proxy-artists\n",
      "/Users/galraz1/opt/miniconda3/envs/stan_env/lib/python3.7/site-packages/ipykernel_launcher.py:67: UserWarning: Legend does not support 'p' instances.\n",
      "A proxy artist may be used instead.\n",
      "See: https://matplotlib.org/users/legend_guide.html#creating-artists-specifically-for-adding-to-the-legend-aka-proxy-artists\n",
      "/Users/galraz1/opt/miniconda3/envs/stan_env/lib/python3.7/site-packages/ipykernel_launcher.py:67: UserWarning: Legend does not support 'r' instances.\n",
      "A proxy artist may be used instead.\n",
      "See: https://matplotlib.org/users/legend_guide.html#creating-artists-specifically-for-adding-to-the-legend-aka-proxy-artists\n",
      "/Users/galraz1/opt/miniconda3/envs/stan_env/lib/python3.7/site-packages/ipykernel_launcher.py:67: UserWarning: Legend does not support 'i' instances.\n",
      "A proxy artist may be used instead.\n",
      "See: https://matplotlib.org/users/legend_guide.html#creating-artists-specifically-for-adding-to-the-legend-aka-proxy-artists\n",
      "/Users/galraz1/opt/miniconda3/envs/stan_env/lib/python3.7/site-packages/ipykernel_launcher.py:67: UserWarning: Legend does not support 'o' instances.\n",
      "A proxy artist may be used instead.\n",
      "See: https://matplotlib.org/users/legend_guide.html#creating-artists-specifically-for-adding-to-the-legend-aka-proxy-artists\n"
     ]
    },
    {
     "name": "stdout",
     "output_type": "stream",
     "text": [
      "KL: 0.0069090227714604935\n",
      "stimulus:  5\n",
      "sample:  11\n",
      "\n"
     ]
    },
    {
     "name": "stderr",
     "output_type": "stream",
     "text": [
      "WARNING:pystan:264 of 16000 iterations ended with a divergence (1.65 %).\n",
      "WARNING:pystan:Try running with adapt_delta larger than 0.95 to remove the divergences.\n"
     ]
    },
    {
     "name": "stdout",
     "output_type": "stream",
     "text": [
      "Gradient evaluation took 1.2e-05 seconds\n",
      "1000 transitions using 10 leapfrog steps per transition would take 0.12 seconds.\n",
      "Adjust your expectations accordingly!\n",
      "\n",
      "\n",
      "Iteration:     1 / 20000 [  0%]  (Warmup)\n",
      "Iteration:  2000 / 20000 [ 10%]  (Warmup)\n",
      "Iteration:  4000 / 20000 [ 20%]  (Warmup)\n",
      "Iteration:  4001 / 20000 [ 20%]  (Sampling)\n",
      "Iteration:  6000 / 20000 [ 30%]  (Sampling)\n",
      "Iteration:  8000 / 20000 [ 40%]  (Sampling)\n",
      "Iteration: 10000 / 20000 [ 50%]  (Sampling)\n",
      "Iteration: 12000 / 20000 [ 60%]  (Sampling)\n",
      "Iteration: 14000 / 20000 [ 70%]  (Sampling)\n",
      "Iteration: 16000 / 20000 [ 80%]  (Sampling)\n",
      "Iteration: 18000 / 20000 [ 90%]  (Sampling)\n",
      "Iteration: 20000 / 20000 [100%]  (Sampling)\n",
      "\n",
      " Elapsed Time: 0.840679 seconds (Warm-up)\n",
      "               0.821458 seconds (Sampling)\n",
      "               1.66214 seconds (Total)\n",
      "\n"
     ]
    },
    {
     "name": "stderr",
     "output_type": "stream",
     "text": [
      "/Users/galraz1/opt/miniconda3/envs/stan_env/lib/python3.7/site-packages/ipykernel_launcher.py:60: UserWarning: Legend does not support 'p' instances.\n",
      "A proxy artist may be used instead.\n",
      "See: https://matplotlib.org/users/legend_guide.html#creating-artists-specifically-for-adding-to-the-legend-aka-proxy-artists\n",
      "/Users/galraz1/opt/miniconda3/envs/stan_env/lib/python3.7/site-packages/ipykernel_launcher.py:60: UserWarning: Legend does not support 'r' instances.\n",
      "A proxy artist may be used instead.\n",
      "See: https://matplotlib.org/users/legend_guide.html#creating-artists-specifically-for-adding-to-the-legend-aka-proxy-artists\n",
      "/Users/galraz1/opt/miniconda3/envs/stan_env/lib/python3.7/site-packages/ipykernel_launcher.py:60: UserWarning: Legend does not support 'i' instances.\n",
      "A proxy artist may be used instead.\n",
      "See: https://matplotlib.org/users/legend_guide.html#creating-artists-specifically-for-adding-to-the-legend-aka-proxy-artists\n",
      "/Users/galraz1/opt/miniconda3/envs/stan_env/lib/python3.7/site-packages/ipykernel_launcher.py:60: UserWarning: Legend does not support 'o' instances.\n",
      "A proxy artist may be used instead.\n",
      "See: https://matplotlib.org/users/legend_guide.html#creating-artists-specifically-for-adding-to-the-legend-aka-proxy-artists\n",
      "/Users/galraz1/opt/miniconda3/envs/stan_env/lib/python3.7/site-packages/ipykernel_launcher.py:67: UserWarning: Legend does not support 'p' instances.\n",
      "A proxy artist may be used instead.\n",
      "See: https://matplotlib.org/users/legend_guide.html#creating-artists-specifically-for-adding-to-the-legend-aka-proxy-artists\n",
      "/Users/galraz1/opt/miniconda3/envs/stan_env/lib/python3.7/site-packages/ipykernel_launcher.py:67: UserWarning: Legend does not support 'r' instances.\n",
      "A proxy artist may be used instead.\n",
      "See: https://matplotlib.org/users/legend_guide.html#creating-artists-specifically-for-adding-to-the-legend-aka-proxy-artists\n",
      "/Users/galraz1/opt/miniconda3/envs/stan_env/lib/python3.7/site-packages/ipykernel_launcher.py:67: UserWarning: Legend does not support 'i' instances.\n",
      "A proxy artist may be used instead.\n",
      "See: https://matplotlib.org/users/legend_guide.html#creating-artists-specifically-for-adding-to-the-legend-aka-proxy-artists\n",
      "/Users/galraz1/opt/miniconda3/envs/stan_env/lib/python3.7/site-packages/ipykernel_launcher.py:67: UserWarning: Legend does not support 'o' instances.\n",
      "A proxy artist may be used instead.\n",
      "See: https://matplotlib.org/users/legend_guide.html#creating-artists-specifically-for-adding-to-the-legend-aka-proxy-artists\n"
     ]
    },
    {
     "name": "stdout",
     "output_type": "stream",
     "text": [
      "KL: 0.07816112846265233\n",
      "stimulus:  5\n",
      "sample:  12\n"
     ]
    },
    {
     "name": "stderr",
     "output_type": "stream",
     "text": [
      "WARNING:pystan:436 of 16000 iterations ended with a divergence (2.73 %).\n",
      "WARNING:pystan:Try running with adapt_delta larger than 0.95 to remove the divergences.\n"
     ]
    },
    {
     "name": "stdout",
     "output_type": "stream",
     "text": [
      "\n",
      "Gradient evaluation took 3.6e-05 seconds\n",
      "1000 transitions using 10 leapfrog steps per transition would take 0.36 seconds.\n",
      "Adjust your expectations accordingly!\n",
      "\n",
      "\n",
      "Iteration:     1 / 20000 [  0%]  (Warmup)\n",
      "Iteration:  2000 / 20000 [ 10%]  (Warmup)\n",
      "Iteration:  4000 / 20000 [ 20%]  (Warmup)\n",
      "Iteration:  4001 / 20000 [ 20%]  (Sampling)\n",
      "Iteration:  6000 / 20000 [ 30%]  (Sampling)\n",
      "Iteration:  8000 / 20000 [ 40%]  (Sampling)\n",
      "Iteration: 10000 / 20000 [ 50%]  (Sampling)\n",
      "Iteration: 12000 / 20000 [ 60%]  (Sampling)\n",
      "Iteration: 14000 / 20000 [ 70%]  (Sampling)\n",
      "Iteration: 16000 / 20000 [ 80%]  (Sampling)\n",
      "Iteration: 18000 / 20000 [ 90%]  (Sampling)\n",
      "Iteration: 20000 / 20000 [100%]  (Sampling)\n",
      "\n",
      " Elapsed Time: 0.518079 seconds (Warm-up)\n",
      "               0.621354 seconds (Sampling)\n",
      "               1.13943 seconds (Total)\n",
      "\n"
     ]
    },
    {
     "name": "stderr",
     "output_type": "stream",
     "text": [
      "/Users/galraz1/opt/miniconda3/envs/stan_env/lib/python3.7/site-packages/ipykernel_launcher.py:60: UserWarning: Legend does not support 'p' instances.\n",
      "A proxy artist may be used instead.\n",
      "See: https://matplotlib.org/users/legend_guide.html#creating-artists-specifically-for-adding-to-the-legend-aka-proxy-artists\n",
      "/Users/galraz1/opt/miniconda3/envs/stan_env/lib/python3.7/site-packages/ipykernel_launcher.py:60: UserWarning: Legend does not support 'r' instances.\n",
      "A proxy artist may be used instead.\n",
      "See: https://matplotlib.org/users/legend_guide.html#creating-artists-specifically-for-adding-to-the-legend-aka-proxy-artists\n",
      "/Users/galraz1/opt/miniconda3/envs/stan_env/lib/python3.7/site-packages/ipykernel_launcher.py:60: UserWarning: Legend does not support 'i' instances.\n",
      "A proxy artist may be used instead.\n",
      "See: https://matplotlib.org/users/legend_guide.html#creating-artists-specifically-for-adding-to-the-legend-aka-proxy-artists\n",
      "/Users/galraz1/opt/miniconda3/envs/stan_env/lib/python3.7/site-packages/ipykernel_launcher.py:60: UserWarning: Legend does not support 'o' instances.\n",
      "A proxy artist may be used instead.\n",
      "See: https://matplotlib.org/users/legend_guide.html#creating-artists-specifically-for-adding-to-the-legend-aka-proxy-artists\n",
      "/Users/galraz1/opt/miniconda3/envs/stan_env/lib/python3.7/site-packages/ipykernel_launcher.py:67: UserWarning: Legend does not support 'p' instances.\n",
      "A proxy artist may be used instead.\n",
      "See: https://matplotlib.org/users/legend_guide.html#creating-artists-specifically-for-adding-to-the-legend-aka-proxy-artists\n",
      "/Users/galraz1/opt/miniconda3/envs/stan_env/lib/python3.7/site-packages/ipykernel_launcher.py:67: UserWarning: Legend does not support 'r' instances.\n",
      "A proxy artist may be used instead.\n",
      "See: https://matplotlib.org/users/legend_guide.html#creating-artists-specifically-for-adding-to-the-legend-aka-proxy-artists\n",
      "/Users/galraz1/opt/miniconda3/envs/stan_env/lib/python3.7/site-packages/ipykernel_launcher.py:67: UserWarning: Legend does not support 'i' instances.\n",
      "A proxy artist may be used instead.\n",
      "See: https://matplotlib.org/users/legend_guide.html#creating-artists-specifically-for-adding-to-the-legend-aka-proxy-artists\n",
      "/Users/galraz1/opt/miniconda3/envs/stan_env/lib/python3.7/site-packages/ipykernel_launcher.py:67: UserWarning: Legend does not support 'o' instances.\n",
      "A proxy artist may be used instead.\n",
      "See: https://matplotlib.org/users/legend_guide.html#creating-artists-specifically-for-adding-to-the-legend-aka-proxy-artists\n"
     ]
    },
    {
     "name": "stdout",
     "output_type": "stream",
     "text": [
      "KL: 0.006040536972896748\n",
      "stimulus:  6\n",
      "sample:  13\n"
     ]
    },
    {
     "name": "stderr",
     "output_type": "stream",
     "text": [
      "WARNING:pystan:97 of 16000 iterations ended with a divergence (0.606 %).\n",
      "WARNING:pystan:Try running with adapt_delta larger than 0.95 to remove the divergences.\n"
     ]
    },
    {
     "name": "stdout",
     "output_type": "stream",
     "text": [
      "\n",
      "Gradient evaluation took 4.9e-05 seconds\n",
      "1000 transitions using 10 leapfrog steps per transition would take 0.49 seconds.\n",
      "Adjust your expectations accordingly!\n",
      "\n",
      "\n",
      "Iteration:     1 / 20000 [  0%]  (Warmup)\n",
      "Iteration:  2000 / 20000 [ 10%]  (Warmup)\n",
      "Iteration:  4000 / 20000 [ 20%]  (Warmup)\n",
      "Iteration:  4001 / 20000 [ 20%]  (Sampling)\n",
      "Iteration:  6000 / 20000 [ 30%]  (Sampling)\n",
      "Iteration:  8000 / 20000 [ 40%]  (Sampling)\n",
      "Iteration: 10000 / 20000 [ 50%]  (Sampling)\n",
      "Iteration: 12000 / 20000 [ 60%]  (Sampling)\n",
      "Iteration: 14000 / 20000 [ 70%]  (Sampling)\n",
      "Iteration: 16000 / 20000 [ 80%]  (Sampling)\n",
      "Iteration: 18000 / 20000 [ 90%]  (Sampling)\n",
      "Iteration: 20000 / 20000 [100%]  (Sampling)\n",
      "\n",
      " Elapsed Time: 0.634345 seconds (Warm-up)\n",
      "               0.738531 seconds (Sampling)\n",
      "               1.37288 seconds (Total)\n",
      "\n"
     ]
    },
    {
     "name": "stderr",
     "output_type": "stream",
     "text": [
      "/Users/galraz1/opt/miniconda3/envs/stan_env/lib/python3.7/site-packages/ipykernel_launcher.py:60: UserWarning: Legend does not support 'p' instances.\n",
      "A proxy artist may be used instead.\n",
      "See: https://matplotlib.org/users/legend_guide.html#creating-artists-specifically-for-adding-to-the-legend-aka-proxy-artists\n",
      "/Users/galraz1/opt/miniconda3/envs/stan_env/lib/python3.7/site-packages/ipykernel_launcher.py:60: UserWarning: Legend does not support 'r' instances.\n",
      "A proxy artist may be used instead.\n",
      "See: https://matplotlib.org/users/legend_guide.html#creating-artists-specifically-for-adding-to-the-legend-aka-proxy-artists\n",
      "/Users/galraz1/opt/miniconda3/envs/stan_env/lib/python3.7/site-packages/ipykernel_launcher.py:60: UserWarning: Legend does not support 'i' instances.\n",
      "A proxy artist may be used instead.\n",
      "See: https://matplotlib.org/users/legend_guide.html#creating-artists-specifically-for-adding-to-the-legend-aka-proxy-artists\n",
      "/Users/galraz1/opt/miniconda3/envs/stan_env/lib/python3.7/site-packages/ipykernel_launcher.py:60: UserWarning: Legend does not support 'o' instances.\n",
      "A proxy artist may be used instead.\n",
      "See: https://matplotlib.org/users/legend_guide.html#creating-artists-specifically-for-adding-to-the-legend-aka-proxy-artists\n",
      "/Users/galraz1/opt/miniconda3/envs/stan_env/lib/python3.7/site-packages/ipykernel_launcher.py:67: UserWarning: Legend does not support 'p' instances.\n",
      "A proxy artist may be used instead.\n",
      "See: https://matplotlib.org/users/legend_guide.html#creating-artists-specifically-for-adding-to-the-legend-aka-proxy-artists\n",
      "/Users/galraz1/opt/miniconda3/envs/stan_env/lib/python3.7/site-packages/ipykernel_launcher.py:67: UserWarning: Legend does not support 'r' instances.\n",
      "A proxy artist may be used instead.\n",
      "See: https://matplotlib.org/users/legend_guide.html#creating-artists-specifically-for-adding-to-the-legend-aka-proxy-artists\n",
      "/Users/galraz1/opt/miniconda3/envs/stan_env/lib/python3.7/site-packages/ipykernel_launcher.py:67: UserWarning: Legend does not support 'i' instances.\n",
      "A proxy artist may be used instead.\n",
      "See: https://matplotlib.org/users/legend_guide.html#creating-artists-specifically-for-adding-to-the-legend-aka-proxy-artists\n",
      "/Users/galraz1/opt/miniconda3/envs/stan_env/lib/python3.7/site-packages/ipykernel_launcher.py:67: UserWarning: Legend does not support 'o' instances.\n",
      "A proxy artist may be used instead.\n",
      "See: https://matplotlib.org/users/legend_guide.html#creating-artists-specifically-for-adding-to-the-legend-aka-proxy-artists\n"
     ]
    },
    {
     "name": "stdout",
     "output_type": "stream",
     "text": [
      "KL: 2.8283325102543753\n",
      "stimulus:  6\n",
      "sample:  14\n",
      "\n",
      "Gradient evaluation took 2.3e-05 seconds\n",
      "1000 transitions using 10 leapfrog steps per transition would take 0.23 seconds.\n",
      "Adjust your expectations accordingly!\n",
      "\n",
      "\n",
      "Iteration:     1 / 20000 [  0%]  (Warmup)\n",
      "Iteration:  2000 / 20000 [ 10%]  (Warmup)\n",
      "Iteration:  4000 / 20000 [ 20%]  (Warmup)\n",
      "Iteration:  4001 / 20000 [ 20%]  (Sampling)\n",
      "Iteration:  6000 / 20000 [ 30%]  (Sampling)\n",
      "Iteration:  8000 / 20000 [ 40%]  (Sampling)\n",
      "Iteration: 10000 / 20000 [ 50%]  (Sampling)\n",
      "Iteration: 12000 / 20000 [ 60%]  (Sampling)\n",
      "Iteration: 14000 / 20000 [ 70%]  (Sampling)\n",
      "Iteration: 16000 / 20000 [ 80%]  (Sampling)\n",
      "Iteration: 18000 / 20000 [ 90%]  (Sampling)\n",
      "Iteration: 20000 / 20000 [100%]  (Sampling)\n",
      "\n",
      " Elapsed Time: 0.591401 seconds (Warm-up)\n",
      "               0.68303 seconds (Sampling)\n",
      "               1.27443 seconds (Total)\n",
      "\n"
     ]
    },
    {
     "name": "stderr",
     "output_type": "stream",
     "text": [
      "/Users/galraz1/opt/miniconda3/envs/stan_env/lib/python3.7/site-packages/ipykernel_launcher.py:60: UserWarning: Legend does not support 'p' instances.\n",
      "A proxy artist may be used instead.\n",
      "See: https://matplotlib.org/users/legend_guide.html#creating-artists-specifically-for-adding-to-the-legend-aka-proxy-artists\n",
      "/Users/galraz1/opt/miniconda3/envs/stan_env/lib/python3.7/site-packages/ipykernel_launcher.py:60: UserWarning: Legend does not support 'r' instances.\n",
      "A proxy artist may be used instead.\n",
      "See: https://matplotlib.org/users/legend_guide.html#creating-artists-specifically-for-adding-to-the-legend-aka-proxy-artists\n",
      "/Users/galraz1/opt/miniconda3/envs/stan_env/lib/python3.7/site-packages/ipykernel_launcher.py:60: UserWarning: Legend does not support 'i' instances.\n",
      "A proxy artist may be used instead.\n",
      "See: https://matplotlib.org/users/legend_guide.html#creating-artists-specifically-for-adding-to-the-legend-aka-proxy-artists\n",
      "/Users/galraz1/opt/miniconda3/envs/stan_env/lib/python3.7/site-packages/ipykernel_launcher.py:60: UserWarning: Legend does not support 'o' instances.\n",
      "A proxy artist may be used instead.\n",
      "See: https://matplotlib.org/users/legend_guide.html#creating-artists-specifically-for-adding-to-the-legend-aka-proxy-artists\n",
      "/Users/galraz1/opt/miniconda3/envs/stan_env/lib/python3.7/site-packages/ipykernel_launcher.py:67: UserWarning: Legend does not support 'p' instances.\n",
      "A proxy artist may be used instead.\n",
      "See: https://matplotlib.org/users/legend_guide.html#creating-artists-specifically-for-adding-to-the-legend-aka-proxy-artists\n",
      "/Users/galraz1/opt/miniconda3/envs/stan_env/lib/python3.7/site-packages/ipykernel_launcher.py:67: UserWarning: Legend does not support 'r' instances.\n",
      "A proxy artist may be used instead.\n",
      "See: https://matplotlib.org/users/legend_guide.html#creating-artists-specifically-for-adding-to-the-legend-aka-proxy-artists\n",
      "/Users/galraz1/opt/miniconda3/envs/stan_env/lib/python3.7/site-packages/ipykernel_launcher.py:67: UserWarning: Legend does not support 'i' instances.\n",
      "A proxy artist may be used instead.\n",
      "See: https://matplotlib.org/users/legend_guide.html#creating-artists-specifically-for-adding-to-the-legend-aka-proxy-artists\n",
      "/Users/galraz1/opt/miniconda3/envs/stan_env/lib/python3.7/site-packages/ipykernel_launcher.py:67: UserWarning: Legend does not support 'o' instances.\n",
      "A proxy artist may be used instead.\n",
      "See: https://matplotlib.org/users/legend_guide.html#creating-artists-specifically-for-adding-to-the-legend-aka-proxy-artists\n"
     ]
    },
    {
     "name": "stdout",
     "output_type": "stream",
     "text": [
      "KL: 0.11398704404317239\n",
      "stimulus:  6\n",
      "sample:  15\n",
      "\n",
      "Gradient evaluation took 1.3e-05 seconds\n",
      "1000 transitions using 10 leapfrog steps per transition would take 0.13 seconds.\n",
      "Adjust your expectations accordingly!\n",
      "\n",
      "\n",
      "Iteration:     1 / 20000 [  0%]  (Warmup)\n",
      "Iteration:  2000 / 20000 [ 10%]  (Warmup)\n",
      "Iteration:  4000 / 20000 [ 20%]  (Warmup)\n",
      "Iteration:  4001 / 20000 [ 20%]  (Sampling)\n",
      "Iteration:  6000 / 20000 [ 30%]  (Sampling)\n",
      "Iteration:  8000 / 20000 [ 40%]  (Sampling)\n",
      "Iteration: 10000 / 20000 [ 50%]  (Sampling)\n",
      "Iteration: 12000 / 20000 [ 60%]  (Sampling)\n",
      "Iteration: 14000 / 20000 [ 70%]  (Sampling)\n",
      "Iteration: 16000 / 20000 [ 80%]  (Sampling)\n",
      "Iteration: 18000 / 20000 [ 90%]  (Sampling)\n",
      "Iteration: 20000 / 20000 [100%]  (Sampling)\n",
      "\n",
      " Elapsed Time: 0.410843 seconds (Warm-up)\n",
      "               0.40085 seconds (Sampling)\n",
      "               0.811693 seconds (Total)\n",
      "\n"
     ]
    },
    {
     "name": "stderr",
     "output_type": "stream",
     "text": [
      "/Users/galraz1/opt/miniconda3/envs/stan_env/lib/python3.7/site-packages/ipykernel_launcher.py:60: UserWarning: Legend does not support 'p' instances.\n",
      "A proxy artist may be used instead.\n",
      "See: https://matplotlib.org/users/legend_guide.html#creating-artists-specifically-for-adding-to-the-legend-aka-proxy-artists\n",
      "/Users/galraz1/opt/miniconda3/envs/stan_env/lib/python3.7/site-packages/ipykernel_launcher.py:60: UserWarning: Legend does not support 'r' instances.\n",
      "A proxy artist may be used instead.\n",
      "See: https://matplotlib.org/users/legend_guide.html#creating-artists-specifically-for-adding-to-the-legend-aka-proxy-artists\n",
      "/Users/galraz1/opt/miniconda3/envs/stan_env/lib/python3.7/site-packages/ipykernel_launcher.py:60: UserWarning: Legend does not support 'i' instances.\n",
      "A proxy artist may be used instead.\n",
      "See: https://matplotlib.org/users/legend_guide.html#creating-artists-specifically-for-adding-to-the-legend-aka-proxy-artists\n",
      "/Users/galraz1/opt/miniconda3/envs/stan_env/lib/python3.7/site-packages/ipykernel_launcher.py:60: UserWarning: Legend does not support 'o' instances.\n",
      "A proxy artist may be used instead.\n",
      "See: https://matplotlib.org/users/legend_guide.html#creating-artists-specifically-for-adding-to-the-legend-aka-proxy-artists\n",
      "/Users/galraz1/opt/miniconda3/envs/stan_env/lib/python3.7/site-packages/ipykernel_launcher.py:67: UserWarning: Legend does not support 'p' instances.\n",
      "A proxy artist may be used instead.\n",
      "See: https://matplotlib.org/users/legend_guide.html#creating-artists-specifically-for-adding-to-the-legend-aka-proxy-artists\n",
      "/Users/galraz1/opt/miniconda3/envs/stan_env/lib/python3.7/site-packages/ipykernel_launcher.py:67: UserWarning: Legend does not support 'r' instances.\n",
      "A proxy artist may be used instead.\n",
      "See: https://matplotlib.org/users/legend_guide.html#creating-artists-specifically-for-adding-to-the-legend-aka-proxy-artists\n",
      "/Users/galraz1/opt/miniconda3/envs/stan_env/lib/python3.7/site-packages/ipykernel_launcher.py:67: UserWarning: Legend does not support 'i' instances.\n",
      "A proxy artist may be used instead.\n",
      "See: https://matplotlib.org/users/legend_guide.html#creating-artists-specifically-for-adding-to-the-legend-aka-proxy-artists\n",
      "/Users/galraz1/opt/miniconda3/envs/stan_env/lib/python3.7/site-packages/ipykernel_launcher.py:67: UserWarning: Legend does not support 'o' instances.\n",
      "A proxy artist may be used instead.\n",
      "See: https://matplotlib.org/users/legend_guide.html#creating-artists-specifically-for-adding-to-the-legend-aka-proxy-artists\n"
     ]
    },
    {
     "name": "stdout",
     "output_type": "stream",
     "text": [
      "KL: 0.0059900442494730255\n",
      "model run:  1\n",
      "stimulus:  1\n",
      "sample:  1\n",
      "\n",
      "Gradient evaluation took 1.1e-05 seconds\n",
      "1000 transitions using 10 leapfrog steps per transition would take 0.11 seconds.\n",
      "Adjust your expectations accordingly!\n",
      "\n",
      "\n"
     ]
    },
    {
     "name": "stderr",
     "output_type": "stream",
     "text": [
      "WARNING:pystan:115 of 16000 iterations ended with a divergence (0.719 %).\n",
      "WARNING:pystan:Try running with adapt_delta larger than 0.95 to remove the divergences.\n"
     ]
    },
    {
     "name": "stdout",
     "output_type": "stream",
     "text": [
      "Iteration:     1 / 20000 [  0%]  (Warmup)\n",
      "Iteration:  2000 / 20000 [ 10%]  (Warmup)\n",
      "Iteration:  4000 / 20000 [ 20%]  (Warmup)\n",
      "Iteration:  4001 / 20000 [ 20%]  (Sampling)\n",
      "Iteration:  6000 / 20000 [ 30%]  (Sampling)\n",
      "Iteration:  8000 / 20000 [ 40%]  (Sampling)\n",
      "Iteration: 10000 / 20000 [ 50%]  (Sampling)\n",
      "Iteration: 12000 / 20000 [ 60%]  (Sampling)\n",
      "Iteration: 14000 / 20000 [ 70%]  (Sampling)\n",
      "Iteration: 16000 / 20000 [ 80%]  (Sampling)\n",
      "Iteration: 18000 / 20000 [ 90%]  (Sampling)\n",
      "Iteration: 20000 / 20000 [100%]  (Sampling)\n",
      "\n",
      " Elapsed Time: 0.088403 seconds (Warm-up)\n",
      "               0.336914 seconds (Sampling)\n",
      "               0.425317 seconds (Total)\n",
      "\n"
     ]
    },
    {
     "name": "stderr",
     "output_type": "stream",
     "text": [
      "/Users/galraz1/opt/miniconda3/envs/stan_env/lib/python3.7/site-packages/ipykernel_launcher.py:60: UserWarning: Legend does not support 'p' instances.\n",
      "A proxy artist may be used instead.\n",
      "See: https://matplotlib.org/users/legend_guide.html#creating-artists-specifically-for-adding-to-the-legend-aka-proxy-artists\n",
      "/Users/galraz1/opt/miniconda3/envs/stan_env/lib/python3.7/site-packages/ipykernel_launcher.py:60: UserWarning: Legend does not support 'r' instances.\n",
      "A proxy artist may be used instead.\n",
      "See: https://matplotlib.org/users/legend_guide.html#creating-artists-specifically-for-adding-to-the-legend-aka-proxy-artists\n",
      "/Users/galraz1/opt/miniconda3/envs/stan_env/lib/python3.7/site-packages/ipykernel_launcher.py:60: UserWarning: Legend does not support 'i' instances.\n",
      "A proxy artist may be used instead.\n",
      "See: https://matplotlib.org/users/legend_guide.html#creating-artists-specifically-for-adding-to-the-legend-aka-proxy-artists\n",
      "/Users/galraz1/opt/miniconda3/envs/stan_env/lib/python3.7/site-packages/ipykernel_launcher.py:60: UserWarning: Legend does not support 'o' instances.\n",
      "A proxy artist may be used instead.\n",
      "See: https://matplotlib.org/users/legend_guide.html#creating-artists-specifically-for-adding-to-the-legend-aka-proxy-artists\n",
      "/Users/galraz1/opt/miniconda3/envs/stan_env/lib/python3.7/site-packages/ipykernel_launcher.py:67: UserWarning: Legend does not support 'p' instances.\n",
      "A proxy artist may be used instead.\n",
      "See: https://matplotlib.org/users/legend_guide.html#creating-artists-specifically-for-adding-to-the-legend-aka-proxy-artists\n",
      "/Users/galraz1/opt/miniconda3/envs/stan_env/lib/python3.7/site-packages/ipykernel_launcher.py:67: UserWarning: Legend does not support 'r' instances.\n",
      "A proxy artist may be used instead.\n",
      "See: https://matplotlib.org/users/legend_guide.html#creating-artists-specifically-for-adding-to-the-legend-aka-proxy-artists\n",
      "/Users/galraz1/opt/miniconda3/envs/stan_env/lib/python3.7/site-packages/ipykernel_launcher.py:67: UserWarning: Legend does not support 'i' instances.\n",
      "A proxy artist may be used instead.\n",
      "See: https://matplotlib.org/users/legend_guide.html#creating-artists-specifically-for-adding-to-the-legend-aka-proxy-artists\n",
      "/Users/galraz1/opt/miniconda3/envs/stan_env/lib/python3.7/site-packages/ipykernel_launcher.py:67: UserWarning: Legend does not support 'o' instances.\n",
      "A proxy artist may be used instead.\n",
      "See: https://matplotlib.org/users/legend_guide.html#creating-artists-specifically-for-adding-to-the-legend-aka-proxy-artists\n"
     ]
    },
    {
     "name": "stdout",
     "output_type": "stream",
     "text": [
      "KL: 2.034522596011532\n",
      "stimulus:  1\n",
      "sample:  2\n"
     ]
    },
    {
     "name": "stderr",
     "output_type": "stream",
     "text": [
      "WARNING:pystan:92 of 16000 iterations ended with a divergence (0.575 %).\n",
      "WARNING:pystan:Try running with adapt_delta larger than 0.95 to remove the divergences.\n"
     ]
    },
    {
     "name": "stdout",
     "output_type": "stream",
     "text": [
      "\n",
      "Gradient evaluation took 3.4e-05 seconds\n",
      "1000 transitions using 10 leapfrog steps per transition would take 0.34 seconds.\n",
      "Adjust your expectations accordingly!\n",
      "\n",
      "\n",
      "Iteration:     1 / 20000 [  0%]  (Warmup)\n",
      "Iteration:  2000 / 20000 [ 10%]  (Warmup)\n",
      "Iteration:  4000 / 20000 [ 20%]  (Warmup)\n",
      "Iteration:  4001 / 20000 [ 20%]  (Sampling)\n",
      "Iteration:  6000 / 20000 [ 30%]  (Sampling)\n",
      "Iteration:  8000 / 20000 [ 40%]  (Sampling)\n",
      "Iteration: 10000 / 20000 [ 50%]  (Sampling)\n",
      "Iteration: 12000 / 20000 [ 60%]  (Sampling)\n",
      "Iteration: 14000 / 20000 [ 70%]  (Sampling)\n",
      "Iteration: 16000 / 20000 [ 80%]  (Sampling)\n",
      "Iteration: 18000 / 20000 [ 90%]  (Sampling)\n",
      "Iteration: 20000 / 20000 [100%]  (Sampling)\n",
      "\n",
      " Elapsed Time: 0.369122 seconds (Warm-up)\n",
      "               0.620791 seconds (Sampling)\n",
      "               0.989913 seconds (Total)\n",
      "\n"
     ]
    },
    {
     "name": "stderr",
     "output_type": "stream",
     "text": [
      "/Users/galraz1/opt/miniconda3/envs/stan_env/lib/python3.7/site-packages/ipykernel_launcher.py:60: UserWarning: Legend does not support 'p' instances.\n",
      "A proxy artist may be used instead.\n",
      "See: https://matplotlib.org/users/legend_guide.html#creating-artists-specifically-for-adding-to-the-legend-aka-proxy-artists\n",
      "/Users/galraz1/opt/miniconda3/envs/stan_env/lib/python3.7/site-packages/ipykernel_launcher.py:60: UserWarning: Legend does not support 'r' instances.\n",
      "A proxy artist may be used instead.\n",
      "See: https://matplotlib.org/users/legend_guide.html#creating-artists-specifically-for-adding-to-the-legend-aka-proxy-artists\n",
      "/Users/galraz1/opt/miniconda3/envs/stan_env/lib/python3.7/site-packages/ipykernel_launcher.py:60: UserWarning: Legend does not support 'i' instances.\n",
      "A proxy artist may be used instead.\n",
      "See: https://matplotlib.org/users/legend_guide.html#creating-artists-specifically-for-adding-to-the-legend-aka-proxy-artists\n",
      "/Users/galraz1/opt/miniconda3/envs/stan_env/lib/python3.7/site-packages/ipykernel_launcher.py:60: UserWarning: Legend does not support 'o' instances.\n",
      "A proxy artist may be used instead.\n",
      "See: https://matplotlib.org/users/legend_guide.html#creating-artists-specifically-for-adding-to-the-legend-aka-proxy-artists\n",
      "/Users/galraz1/opt/miniconda3/envs/stan_env/lib/python3.7/site-packages/ipykernel_launcher.py:67: UserWarning: Legend does not support 'p' instances.\n",
      "A proxy artist may be used instead.\n",
      "See: https://matplotlib.org/users/legend_guide.html#creating-artists-specifically-for-adding-to-the-legend-aka-proxy-artists\n",
      "/Users/galraz1/opt/miniconda3/envs/stan_env/lib/python3.7/site-packages/ipykernel_launcher.py:67: UserWarning: Legend does not support 'r' instances.\n",
      "A proxy artist may be used instead.\n",
      "See: https://matplotlib.org/users/legend_guide.html#creating-artists-specifically-for-adding-to-the-legend-aka-proxy-artists\n",
      "/Users/galraz1/opt/miniconda3/envs/stan_env/lib/python3.7/site-packages/ipykernel_launcher.py:67: UserWarning: Legend does not support 'i' instances.\n",
      "A proxy artist may be used instead.\n",
      "See: https://matplotlib.org/users/legend_guide.html#creating-artists-specifically-for-adding-to-the-legend-aka-proxy-artists\n",
      "/Users/galraz1/opt/miniconda3/envs/stan_env/lib/python3.7/site-packages/ipykernel_launcher.py:67: UserWarning: Legend does not support 'o' instances.\n",
      "A proxy artist may be used instead.\n",
      "See: https://matplotlib.org/users/legend_guide.html#creating-artists-specifically-for-adding-to-the-legend-aka-proxy-artists\n"
     ]
    },
    {
     "name": "stdout",
     "output_type": "stream",
     "text": [
      "KL: 0.009071493191417757\n",
      "stimulus:  2\n",
      "sample:  3\n",
      "\n"
     ]
    },
    {
     "name": "stderr",
     "output_type": "stream",
     "text": [
      "WARNING:pystan:197 of 16000 iterations ended with a divergence (1.23 %).\n",
      "WARNING:pystan:Try running with adapt_delta larger than 0.95 to remove the divergences.\n"
     ]
    },
    {
     "name": "stdout",
     "output_type": "stream",
     "text": [
      "Gradient evaluation took 2.2e-05 seconds\n",
      "1000 transitions using 10 leapfrog steps per transition would take 0.22 seconds.\n",
      "Adjust your expectations accordingly!\n",
      "\n",
      "\n",
      "Iteration:     1 / 20000 [  0%]  (Warmup)\n",
      "Iteration:  2000 / 20000 [ 10%]  (Warmup)\n",
      "Iteration:  4000 / 20000 [ 20%]  (Warmup)\n",
      "Iteration:  4001 / 20000 [ 20%]  (Sampling)\n",
      "Iteration:  6000 / 20000 [ 30%]  (Sampling)\n",
      "Iteration:  8000 / 20000 [ 40%]  (Sampling)\n",
      "Iteration: 10000 / 20000 [ 50%]  (Sampling)\n",
      "Iteration: 12000 / 20000 [ 60%]  (Sampling)\n",
      "Iteration: 14000 / 20000 [ 70%]  (Sampling)\n",
      "Iteration: 16000 / 20000 [ 80%]  (Sampling)\n",
      "Iteration: 18000 / 20000 [ 90%]  (Sampling)\n",
      "Iteration: 20000 / 20000 [100%]  (Sampling)\n",
      "\n",
      " Elapsed Time: 0.528728 seconds (Warm-up)\n",
      "               0.618328 seconds (Sampling)\n",
      "               1.14706 seconds (Total)\n",
      "\n"
     ]
    },
    {
     "name": "stderr",
     "output_type": "stream",
     "text": [
      "/Users/galraz1/opt/miniconda3/envs/stan_env/lib/python3.7/site-packages/ipykernel_launcher.py:60: UserWarning: Legend does not support 'p' instances.\n",
      "A proxy artist may be used instead.\n",
      "See: https://matplotlib.org/users/legend_guide.html#creating-artists-specifically-for-adding-to-the-legend-aka-proxy-artists\n",
      "/Users/galraz1/opt/miniconda3/envs/stan_env/lib/python3.7/site-packages/ipykernel_launcher.py:60: UserWarning: Legend does not support 'r' instances.\n",
      "A proxy artist may be used instead.\n",
      "See: https://matplotlib.org/users/legend_guide.html#creating-artists-specifically-for-adding-to-the-legend-aka-proxy-artists\n",
      "/Users/galraz1/opt/miniconda3/envs/stan_env/lib/python3.7/site-packages/ipykernel_launcher.py:60: UserWarning: Legend does not support 'i' instances.\n",
      "A proxy artist may be used instead.\n",
      "See: https://matplotlib.org/users/legend_guide.html#creating-artists-specifically-for-adding-to-the-legend-aka-proxy-artists\n",
      "/Users/galraz1/opt/miniconda3/envs/stan_env/lib/python3.7/site-packages/ipykernel_launcher.py:60: UserWarning: Legend does not support 'o' instances.\n",
      "A proxy artist may be used instead.\n",
      "See: https://matplotlib.org/users/legend_guide.html#creating-artists-specifically-for-adding-to-the-legend-aka-proxy-artists\n",
      "/Users/galraz1/opt/miniconda3/envs/stan_env/lib/python3.7/site-packages/ipykernel_launcher.py:67: UserWarning: Legend does not support 'p' instances.\n",
      "A proxy artist may be used instead.\n",
      "See: https://matplotlib.org/users/legend_guide.html#creating-artists-specifically-for-adding-to-the-legend-aka-proxy-artists\n",
      "/Users/galraz1/opt/miniconda3/envs/stan_env/lib/python3.7/site-packages/ipykernel_launcher.py:67: UserWarning: Legend does not support 'r' instances.\n",
      "A proxy artist may be used instead.\n",
      "See: https://matplotlib.org/users/legend_guide.html#creating-artists-specifically-for-adding-to-the-legend-aka-proxy-artists\n",
      "/Users/galraz1/opt/miniconda3/envs/stan_env/lib/python3.7/site-packages/ipykernel_launcher.py:67: UserWarning: Legend does not support 'i' instances.\n",
      "A proxy artist may be used instead.\n",
      "See: https://matplotlib.org/users/legend_guide.html#creating-artists-specifically-for-adding-to-the-legend-aka-proxy-artists\n",
      "/Users/galraz1/opt/miniconda3/envs/stan_env/lib/python3.7/site-packages/ipykernel_launcher.py:67: UserWarning: Legend does not support 'o' instances.\n",
      "A proxy artist may be used instead.\n",
      "See: https://matplotlib.org/users/legend_guide.html#creating-artists-specifically-for-adding-to-the-legend-aka-proxy-artists\n"
     ]
    },
    {
     "name": "stdout",
     "output_type": "stream",
     "text": [
      "KL: 0.15909817884194688\n",
      "stimulus:  2\n",
      "sample:  4\n"
     ]
    },
    {
     "name": "stderr",
     "output_type": "stream",
     "text": [
      "WARNING:pystan:71 of 16000 iterations ended with a divergence (0.444 %).\n",
      "WARNING:pystan:Try running with adapt_delta larger than 0.95 to remove the divergences.\n"
     ]
    },
    {
     "name": "stdout",
     "output_type": "stream",
     "text": [
      "\n",
      "Gradient evaluation took 2.8e-05 seconds\n",
      "1000 transitions using 10 leapfrog steps per transition would take 0.28 seconds.\n",
      "Adjust your expectations accordingly!\n",
      "\n",
      "\n",
      "Iteration:     1 / 20000 [  0%]  (Warmup)\n",
      "Iteration:  2000 / 20000 [ 10%]  (Warmup)\n",
      "Iteration:  4000 / 20000 [ 20%]  (Warmup)\n",
      "Iteration:  4001 / 20000 [ 20%]  (Sampling)\n",
      "Iteration:  6000 / 20000 [ 30%]  (Sampling)\n",
      "Iteration:  8000 / 20000 [ 40%]  (Sampling)\n",
      "Iteration: 10000 / 20000 [ 50%]  (Sampling)\n",
      "Iteration: 12000 / 20000 [ 60%]  (Sampling)\n",
      "Iteration: 14000 / 20000 [ 70%]  (Sampling)\n",
      "Iteration: 16000 / 20000 [ 80%]  (Sampling)\n",
      "Iteration: 18000 / 20000 [ 90%]  (Sampling)\n",
      "Iteration: 20000 / 20000 [100%]  (Sampling)\n",
      "\n",
      " Elapsed Time: 0.604036 seconds (Warm-up)\n",
      "               0.760649 seconds (Sampling)\n",
      "               1.36469 seconds (Total)\n",
      "\n"
     ]
    },
    {
     "name": "stderr",
     "output_type": "stream",
     "text": [
      "/Users/galraz1/opt/miniconda3/envs/stan_env/lib/python3.7/site-packages/ipykernel_launcher.py:60: UserWarning: Legend does not support 'p' instances.\n",
      "A proxy artist may be used instead.\n",
      "See: https://matplotlib.org/users/legend_guide.html#creating-artists-specifically-for-adding-to-the-legend-aka-proxy-artists\n",
      "/Users/galraz1/opt/miniconda3/envs/stan_env/lib/python3.7/site-packages/ipykernel_launcher.py:60: UserWarning: Legend does not support 'r' instances.\n",
      "A proxy artist may be used instead.\n",
      "See: https://matplotlib.org/users/legend_guide.html#creating-artists-specifically-for-adding-to-the-legend-aka-proxy-artists\n",
      "/Users/galraz1/opt/miniconda3/envs/stan_env/lib/python3.7/site-packages/ipykernel_launcher.py:60: UserWarning: Legend does not support 'i' instances.\n",
      "A proxy artist may be used instead.\n",
      "See: https://matplotlib.org/users/legend_guide.html#creating-artists-specifically-for-adding-to-the-legend-aka-proxy-artists\n",
      "/Users/galraz1/opt/miniconda3/envs/stan_env/lib/python3.7/site-packages/ipykernel_launcher.py:60: UserWarning: Legend does not support 'o' instances.\n",
      "A proxy artist may be used instead.\n",
      "See: https://matplotlib.org/users/legend_guide.html#creating-artists-specifically-for-adding-to-the-legend-aka-proxy-artists\n",
      "/Users/galraz1/opt/miniconda3/envs/stan_env/lib/python3.7/site-packages/ipykernel_launcher.py:67: UserWarning: Legend does not support 'p' instances.\n",
      "A proxy artist may be used instead.\n",
      "See: https://matplotlib.org/users/legend_guide.html#creating-artists-specifically-for-adding-to-the-legend-aka-proxy-artists\n",
      "/Users/galraz1/opt/miniconda3/envs/stan_env/lib/python3.7/site-packages/ipykernel_launcher.py:67: UserWarning: Legend does not support 'r' instances.\n",
      "A proxy artist may be used instead.\n",
      "See: https://matplotlib.org/users/legend_guide.html#creating-artists-specifically-for-adding-to-the-legend-aka-proxy-artists\n",
      "/Users/galraz1/opt/miniconda3/envs/stan_env/lib/python3.7/site-packages/ipykernel_launcher.py:67: UserWarning: Legend does not support 'i' instances.\n",
      "A proxy artist may be used instead.\n",
      "See: https://matplotlib.org/users/legend_guide.html#creating-artists-specifically-for-adding-to-the-legend-aka-proxy-artists\n",
      "/Users/galraz1/opt/miniconda3/envs/stan_env/lib/python3.7/site-packages/ipykernel_launcher.py:67: UserWarning: Legend does not support 'o' instances.\n",
      "A proxy artist may be used instead.\n",
      "See: https://matplotlib.org/users/legend_guide.html#creating-artists-specifically-for-adding-to-the-legend-aka-proxy-artists\n"
     ]
    },
    {
     "name": "stdout",
     "output_type": "stream",
     "text": [
      "KL: 0.006579753938301791\n",
      "stimulus:  3\n",
      "sample:  5\n"
     ]
    },
    {
     "name": "stderr",
     "output_type": "stream",
     "text": [
      "WARNING:pystan:161 of 16000 iterations ended with a divergence (1.01 %).\n",
      "WARNING:pystan:Try running with adapt_delta larger than 0.95 to remove the divergences.\n",
      "/Users/galraz1/opt/miniconda3/envs/stan_env/lib/python3.7/site-packages/ipykernel_launcher.py:60: UserWarning: Legend does not support 'p' instances.\n",
      "A proxy artist may be used instead.\n",
      "See: https://matplotlib.org/users/legend_guide.html#creating-artists-specifically-for-adding-to-the-legend-aka-proxy-artists\n",
      "/Users/galraz1/opt/miniconda3/envs/stan_env/lib/python3.7/site-packages/ipykernel_launcher.py:60: UserWarning: Legend does not support 'r' instances.\n",
      "A proxy artist may be used instead.\n",
      "See: https://matplotlib.org/users/legend_guide.html#creating-artists-specifically-for-adding-to-the-legend-aka-proxy-artists\n",
      "/Users/galraz1/opt/miniconda3/envs/stan_env/lib/python3.7/site-packages/ipykernel_launcher.py:60: UserWarning: Legend does not support 'i' instances.\n",
      "A proxy artist may be used instead.\n",
      "See: https://matplotlib.org/users/legend_guide.html#creating-artists-specifically-for-adding-to-the-legend-aka-proxy-artists\n",
      "/Users/galraz1/opt/miniconda3/envs/stan_env/lib/python3.7/site-packages/ipykernel_launcher.py:60: UserWarning: Legend does not support 'o' instances.\n",
      "A proxy artist may be used instead.\n",
      "See: https://matplotlib.org/users/legend_guide.html#creating-artists-specifically-for-adding-to-the-legend-aka-proxy-artists\n",
      "/Users/galraz1/opt/miniconda3/envs/stan_env/lib/python3.7/site-packages/ipykernel_launcher.py:67: UserWarning: Legend does not support 'p' instances.\n",
      "A proxy artist may be used instead.\n",
      "See: https://matplotlib.org/users/legend_guide.html#creating-artists-specifically-for-adding-to-the-legend-aka-proxy-artists\n",
      "/Users/galraz1/opt/miniconda3/envs/stan_env/lib/python3.7/site-packages/ipykernel_launcher.py:67: UserWarning: Legend does not support 'r' instances.\n",
      "A proxy artist may be used instead.\n",
      "See: https://matplotlib.org/users/legend_guide.html#creating-artists-specifically-for-adding-to-the-legend-aka-proxy-artists\n",
      "/Users/galraz1/opt/miniconda3/envs/stan_env/lib/python3.7/site-packages/ipykernel_launcher.py:67: UserWarning: Legend does not support 'i' instances.\n",
      "A proxy artist may be used instead.\n",
      "See: https://matplotlib.org/users/legend_guide.html#creating-artists-specifically-for-adding-to-the-legend-aka-proxy-artists\n",
      "/Users/galraz1/opt/miniconda3/envs/stan_env/lib/python3.7/site-packages/ipykernel_launcher.py:67: UserWarning: Legend does not support 'o' instances.\n",
      "A proxy artist may be used instead.\n",
      "See: https://matplotlib.org/users/legend_guide.html#creating-artists-specifically-for-adding-to-the-legend-aka-proxy-artists\n"
     ]
    },
    {
     "name": "stdout",
     "output_type": "stream",
     "text": [
      "\n",
      "Gradient evaluation took 2.4e-05 seconds\n",
      "1000 transitions using 10 leapfrog steps per transition would take 0.24 seconds.\n",
      "Adjust your expectations accordingly!\n",
      "\n",
      "\n",
      "Iteration:     1 / 20000 [  0%]  (Warmup)\n",
      "Iteration:  2000 / 20000 [ 10%]  (Warmup)\n",
      "Iteration:  4000 / 20000 [ 20%]  (Warmup)\n",
      "Iteration:  4001 / 20000 [ 20%]  (Sampling)\n",
      "Iteration:  6000 / 20000 [ 30%]  (Sampling)\n",
      "Iteration:  8000 / 20000 [ 40%]  (Sampling)\n",
      "Iteration: 10000 / 20000 [ 50%]  (Sampling)\n",
      "Iteration: 12000 / 20000 [ 60%]  (Sampling)\n",
      "Iteration: 14000 / 20000 [ 70%]  (Sampling)\n",
      "Iteration: 16000 / 20000 [ 80%]  (Sampling)\n",
      "Iteration: 18000 / 20000 [ 90%]  (Sampling)\n",
      "Iteration: 20000 / 20000 [100%]  (Sampling)\n",
      "\n",
      " Elapsed Time: 0.682258 seconds (Warm-up)\n",
      "               0.830737 seconds (Sampling)\n",
      "               1.513 seconds (Total)\n",
      "\n",
      "KL: 0.1784319984997742\n",
      "stimulus:  3\n",
      "sample:  6\n",
      "\n"
     ]
    },
    {
     "name": "stderr",
     "output_type": "stream",
     "text": [
      "WARNING:pystan:304 of 16000 iterations ended with a divergence (1.9 %).\n",
      "WARNING:pystan:Try running with adapt_delta larger than 0.95 to remove the divergences.\n"
     ]
    },
    {
     "name": "stdout",
     "output_type": "stream",
     "text": [
      "Gradient evaluation took 3.5e-05 seconds\n",
      "1000 transitions using 10 leapfrog steps per transition would take 0.35 seconds.\n",
      "Adjust your expectations accordingly!\n",
      "\n",
      "\n",
      "Iteration:     1 / 20000 [  0%]  (Warmup)\n",
      "Iteration:  2000 / 20000 [ 10%]  (Warmup)\n",
      "Iteration:  4000 / 20000 [ 20%]  (Warmup)\n",
      "Iteration:  4001 / 20000 [ 20%]  (Sampling)\n",
      "Iteration:  6000 / 20000 [ 30%]  (Sampling)\n",
      "Iteration:  8000 / 20000 [ 40%]  (Sampling)\n",
      "Iteration: 10000 / 20000 [ 50%]  (Sampling)\n",
      "Iteration: 12000 / 20000 [ 60%]  (Sampling)\n",
      "Iteration: 14000 / 20000 [ 70%]  (Sampling)\n",
      "Iteration: 16000 / 20000 [ 80%]  (Sampling)\n",
      "Iteration: 18000 / 20000 [ 90%]  (Sampling)\n",
      "Iteration: 20000 / 20000 [100%]  (Sampling)\n",
      "\n",
      " Elapsed Time: 0.7671 seconds (Warm-up)\n",
      "               0.751365 seconds (Sampling)\n",
      "               1.51846 seconds (Total)\n",
      "\n"
     ]
    },
    {
     "name": "stderr",
     "output_type": "stream",
     "text": [
      "/Users/galraz1/opt/miniconda3/envs/stan_env/lib/python3.7/site-packages/ipykernel_launcher.py:60: UserWarning: Legend does not support 'p' instances.\n",
      "A proxy artist may be used instead.\n",
      "See: https://matplotlib.org/users/legend_guide.html#creating-artists-specifically-for-adding-to-the-legend-aka-proxy-artists\n",
      "/Users/galraz1/opt/miniconda3/envs/stan_env/lib/python3.7/site-packages/ipykernel_launcher.py:60: UserWarning: Legend does not support 'r' instances.\n",
      "A proxy artist may be used instead.\n",
      "See: https://matplotlib.org/users/legend_guide.html#creating-artists-specifically-for-adding-to-the-legend-aka-proxy-artists\n",
      "/Users/galraz1/opt/miniconda3/envs/stan_env/lib/python3.7/site-packages/ipykernel_launcher.py:60: UserWarning: Legend does not support 'i' instances.\n",
      "A proxy artist may be used instead.\n",
      "See: https://matplotlib.org/users/legend_guide.html#creating-artists-specifically-for-adding-to-the-legend-aka-proxy-artists\n",
      "/Users/galraz1/opt/miniconda3/envs/stan_env/lib/python3.7/site-packages/ipykernel_launcher.py:60: UserWarning: Legend does not support 'o' instances.\n",
      "A proxy artist may be used instead.\n",
      "See: https://matplotlib.org/users/legend_guide.html#creating-artists-specifically-for-adding-to-the-legend-aka-proxy-artists\n",
      "/Users/galraz1/opt/miniconda3/envs/stan_env/lib/python3.7/site-packages/ipykernel_launcher.py:67: UserWarning: Legend does not support 'p' instances.\n",
      "A proxy artist may be used instead.\n",
      "See: https://matplotlib.org/users/legend_guide.html#creating-artists-specifically-for-adding-to-the-legend-aka-proxy-artists\n",
      "/Users/galraz1/opt/miniconda3/envs/stan_env/lib/python3.7/site-packages/ipykernel_launcher.py:67: UserWarning: Legend does not support 'r' instances.\n",
      "A proxy artist may be used instead.\n",
      "See: https://matplotlib.org/users/legend_guide.html#creating-artists-specifically-for-adding-to-the-legend-aka-proxy-artists\n",
      "/Users/galraz1/opt/miniconda3/envs/stan_env/lib/python3.7/site-packages/ipykernel_launcher.py:67: UserWarning: Legend does not support 'i' instances.\n",
      "A proxy artist may be used instead.\n",
      "See: https://matplotlib.org/users/legend_guide.html#creating-artists-specifically-for-adding-to-the-legend-aka-proxy-artists\n",
      "/Users/galraz1/opt/miniconda3/envs/stan_env/lib/python3.7/site-packages/ipykernel_launcher.py:67: UserWarning: Legend does not support 'o' instances.\n",
      "A proxy artist may be used instead.\n",
      "See: https://matplotlib.org/users/legend_guide.html#creating-artists-specifically-for-adding-to-the-legend-aka-proxy-artists\n"
     ]
    },
    {
     "name": "stdout",
     "output_type": "stream",
     "text": [
      "KL: 0.008828715527200048\n",
      "stimulus:  4\n",
      "sample:  7\n"
     ]
    },
    {
     "name": "stderr",
     "output_type": "stream",
     "text": [
      "WARNING:pystan:396 of 16000 iterations ended with a divergence (2.48 %).\n",
      "WARNING:pystan:Try running with adapt_delta larger than 0.95 to remove the divergences.\n"
     ]
    },
    {
     "name": "stdout",
     "output_type": "stream",
     "text": [
      "\n",
      "Gradient evaluation took 1.1e-05 seconds\n",
      "1000 transitions using 10 leapfrog steps per transition would take 0.11 seconds.\n",
      "Adjust your expectations accordingly!\n",
      "\n",
      "\n",
      "Iteration:     1 / 20000 [  0%]  (Warmup)\n",
      "Iteration:  2000 / 20000 [ 10%]  (Warmup)\n",
      "Iteration:  4000 / 20000 [ 20%]  (Warmup)\n",
      "Iteration:  4001 / 20000 [ 20%]  (Sampling)\n",
      "Iteration:  6000 / 20000 [ 30%]  (Sampling)\n",
      "Iteration:  8000 / 20000 [ 40%]  (Sampling)\n",
      "Iteration: 10000 / 20000 [ 50%]  (Sampling)\n",
      "Iteration: 12000 / 20000 [ 60%]  (Sampling)\n",
      "Iteration: 14000 / 20000 [ 70%]  (Sampling)\n",
      "Iteration: 16000 / 20000 [ 80%]  (Sampling)\n",
      "Iteration: 18000 / 20000 [ 90%]  (Sampling)\n",
      "Iteration: 20000 / 20000 [100%]  (Sampling)\n",
      "\n",
      " Elapsed Time: 0.764505 seconds (Warm-up)\n",
      "               0.676871 seconds (Sampling)\n",
      "               1.44138 seconds (Total)\n",
      "\n"
     ]
    },
    {
     "name": "stderr",
     "output_type": "stream",
     "text": [
      "/Users/galraz1/opt/miniconda3/envs/stan_env/lib/python3.7/site-packages/ipykernel_launcher.py:60: UserWarning: Legend does not support 'p' instances.\n",
      "A proxy artist may be used instead.\n",
      "See: https://matplotlib.org/users/legend_guide.html#creating-artists-specifically-for-adding-to-the-legend-aka-proxy-artists\n",
      "/Users/galraz1/opt/miniconda3/envs/stan_env/lib/python3.7/site-packages/ipykernel_launcher.py:60: UserWarning: Legend does not support 'r' instances.\n",
      "A proxy artist may be used instead.\n",
      "See: https://matplotlib.org/users/legend_guide.html#creating-artists-specifically-for-adding-to-the-legend-aka-proxy-artists\n",
      "/Users/galraz1/opt/miniconda3/envs/stan_env/lib/python3.7/site-packages/ipykernel_launcher.py:60: UserWarning: Legend does not support 'i' instances.\n",
      "A proxy artist may be used instead.\n",
      "See: https://matplotlib.org/users/legend_guide.html#creating-artists-specifically-for-adding-to-the-legend-aka-proxy-artists\n",
      "/Users/galraz1/opt/miniconda3/envs/stan_env/lib/python3.7/site-packages/ipykernel_launcher.py:60: UserWarning: Legend does not support 'o' instances.\n",
      "A proxy artist may be used instead.\n",
      "See: https://matplotlib.org/users/legend_guide.html#creating-artists-specifically-for-adding-to-the-legend-aka-proxy-artists\n",
      "/Users/galraz1/opt/miniconda3/envs/stan_env/lib/python3.7/site-packages/ipykernel_launcher.py:67: UserWarning: Legend does not support 'p' instances.\n",
      "A proxy artist may be used instead.\n",
      "See: https://matplotlib.org/users/legend_guide.html#creating-artists-specifically-for-adding-to-the-legend-aka-proxy-artists\n",
      "/Users/galraz1/opt/miniconda3/envs/stan_env/lib/python3.7/site-packages/ipykernel_launcher.py:67: UserWarning: Legend does not support 'r' instances.\n",
      "A proxy artist may be used instead.\n",
      "See: https://matplotlib.org/users/legend_guide.html#creating-artists-specifically-for-adding-to-the-legend-aka-proxy-artists\n",
      "/Users/galraz1/opt/miniconda3/envs/stan_env/lib/python3.7/site-packages/ipykernel_launcher.py:67: UserWarning: Legend does not support 'i' instances.\n",
      "A proxy artist may be used instead.\n",
      "See: https://matplotlib.org/users/legend_guide.html#creating-artists-specifically-for-adding-to-the-legend-aka-proxy-artists\n",
      "/Users/galraz1/opt/miniconda3/envs/stan_env/lib/python3.7/site-packages/ipykernel_launcher.py:67: UserWarning: Legend does not support 'o' instances.\n",
      "A proxy artist may be used instead.\n",
      "See: https://matplotlib.org/users/legend_guide.html#creating-artists-specifically-for-adding-to-the-legend-aka-proxy-artists\n"
     ]
    },
    {
     "name": "stdout",
     "output_type": "stream",
     "text": [
      "KL: 0.1347829760040961\n",
      "stimulus:  4\n",
      "sample:  8\n",
      "\n"
     ]
    },
    {
     "name": "stderr",
     "output_type": "stream",
     "text": [
      "WARNING:pystan:369 of 16000 iterations ended with a divergence (2.31 %).\n",
      "WARNING:pystan:Try running with adapt_delta larger than 0.95 to remove the divergences.\n"
     ]
    },
    {
     "name": "stdout",
     "output_type": "stream",
     "text": [
      "Gradient evaluation took 5.1e-05 seconds\n",
      "1000 transitions using 10 leapfrog steps per transition would take 0.51 seconds.\n",
      "Adjust your expectations accordingly!\n",
      "\n",
      "\n",
      "Iteration:     1 / 20000 [  0%]  (Warmup)\n",
      "Iteration:  2000 / 20000 [ 10%]  (Warmup)\n",
      "Iteration:  4000 / 20000 [ 20%]  (Warmup)\n",
      "Iteration:  4001 / 20000 [ 20%]  (Sampling)\n",
      "Iteration:  6000 / 20000 [ 30%]  (Sampling)\n",
      "Iteration:  8000 / 20000 [ 40%]  (Sampling)\n",
      "Iteration: 10000 / 20000 [ 50%]  (Sampling)\n",
      "Iteration: 12000 / 20000 [ 60%]  (Sampling)\n",
      "Iteration: 14000 / 20000 [ 70%]  (Sampling)\n",
      "Iteration: 16000 / 20000 [ 80%]  (Sampling)\n",
      "Iteration: 18000 / 20000 [ 90%]  (Sampling)\n",
      "Iteration: 20000 / 20000 [100%]  (Sampling)\n",
      "\n",
      " Elapsed Time: 0.76148 seconds (Warm-up)\n",
      "               0.730065 seconds (Sampling)\n",
      "               1.49154 seconds (Total)\n",
      "\n"
     ]
    },
    {
     "name": "stderr",
     "output_type": "stream",
     "text": [
      "/Users/galraz1/opt/miniconda3/envs/stan_env/lib/python3.7/site-packages/ipykernel_launcher.py:60: UserWarning: Legend does not support 'p' instances.\n",
      "A proxy artist may be used instead.\n",
      "See: https://matplotlib.org/users/legend_guide.html#creating-artists-specifically-for-adding-to-the-legend-aka-proxy-artists\n",
      "/Users/galraz1/opt/miniconda3/envs/stan_env/lib/python3.7/site-packages/ipykernel_launcher.py:60: UserWarning: Legend does not support 'r' instances.\n",
      "A proxy artist may be used instead.\n",
      "See: https://matplotlib.org/users/legend_guide.html#creating-artists-specifically-for-adding-to-the-legend-aka-proxy-artists\n",
      "/Users/galraz1/opt/miniconda3/envs/stan_env/lib/python3.7/site-packages/ipykernel_launcher.py:60: UserWarning: Legend does not support 'i' instances.\n",
      "A proxy artist may be used instead.\n",
      "See: https://matplotlib.org/users/legend_guide.html#creating-artists-specifically-for-adding-to-the-legend-aka-proxy-artists\n",
      "/Users/galraz1/opt/miniconda3/envs/stan_env/lib/python3.7/site-packages/ipykernel_launcher.py:60: UserWarning: Legend does not support 'o' instances.\n",
      "A proxy artist may be used instead.\n",
      "See: https://matplotlib.org/users/legend_guide.html#creating-artists-specifically-for-adding-to-the-legend-aka-proxy-artists\n",
      "/Users/galraz1/opt/miniconda3/envs/stan_env/lib/python3.7/site-packages/ipykernel_launcher.py:67: UserWarning: Legend does not support 'p' instances.\n",
      "A proxy artist may be used instead.\n",
      "See: https://matplotlib.org/users/legend_guide.html#creating-artists-specifically-for-adding-to-the-legend-aka-proxy-artists\n",
      "/Users/galraz1/opt/miniconda3/envs/stan_env/lib/python3.7/site-packages/ipykernel_launcher.py:67: UserWarning: Legend does not support 'r' instances.\n",
      "A proxy artist may be used instead.\n",
      "See: https://matplotlib.org/users/legend_guide.html#creating-artists-specifically-for-adding-to-the-legend-aka-proxy-artists\n",
      "/Users/galraz1/opt/miniconda3/envs/stan_env/lib/python3.7/site-packages/ipykernel_launcher.py:67: UserWarning: Legend does not support 'i' instances.\n",
      "A proxy artist may be used instead.\n",
      "See: https://matplotlib.org/users/legend_guide.html#creating-artists-specifically-for-adding-to-the-legend-aka-proxy-artists\n",
      "/Users/galraz1/opt/miniconda3/envs/stan_env/lib/python3.7/site-packages/ipykernel_launcher.py:67: UserWarning: Legend does not support 'o' instances.\n",
      "A proxy artist may be used instead.\n",
      "See: https://matplotlib.org/users/legend_guide.html#creating-artists-specifically-for-adding-to-the-legend-aka-proxy-artists\n"
     ]
    },
    {
     "name": "stdout",
     "output_type": "stream",
     "text": [
      "KL: 0.00851847657688351\n",
      "stimulus:  5\n",
      "sample:  9\n"
     ]
    },
    {
     "name": "stderr",
     "output_type": "stream",
     "text": [
      "WARNING:pystan:139 of 16000 iterations ended with a divergence (0.869 %).\n",
      "WARNING:pystan:Try running with adapt_delta larger than 0.95 to remove the divergences.\n"
     ]
    },
    {
     "name": "stdout",
     "output_type": "stream",
     "text": [
      "\n",
      "Gradient evaluation took 5.6e-05 seconds\n",
      "1000 transitions using 10 leapfrog steps per transition would take 0.56 seconds.\n",
      "Adjust your expectations accordingly!\n",
      "\n",
      "\n",
      "Iteration:     1 / 20000 [  0%]  (Warmup)\n",
      "Iteration:  2000 / 20000 [ 10%]  (Warmup)\n",
      "Iteration:  4000 / 20000 [ 20%]  (Warmup)\n",
      "Iteration:  4001 / 20000 [ 20%]  (Sampling)\n",
      "Iteration:  6000 / 20000 [ 30%]  (Sampling)\n",
      "Iteration:  8000 / 20000 [ 40%]  (Sampling)\n",
      "Iteration: 10000 / 20000 [ 50%]  (Sampling)\n",
      "Iteration: 12000 / 20000 [ 60%]  (Sampling)\n",
      "Iteration: 14000 / 20000 [ 70%]  (Sampling)\n",
      "Iteration: 16000 / 20000 [ 80%]  (Sampling)\n",
      "Iteration: 18000 / 20000 [ 90%]  (Sampling)\n",
      "Iteration: 20000 / 20000 [100%]  (Sampling)\n",
      "\n",
      " Elapsed Time: 0.855215 seconds (Warm-up)\n",
      "               1.21189 seconds (Sampling)\n",
      "               2.06711 seconds (Total)\n",
      "\n"
     ]
    },
    {
     "name": "stderr",
     "output_type": "stream",
     "text": [
      "/Users/galraz1/opt/miniconda3/envs/stan_env/lib/python3.7/site-packages/ipykernel_launcher.py:60: UserWarning: Legend does not support 'p' instances.\n",
      "A proxy artist may be used instead.\n",
      "See: https://matplotlib.org/users/legend_guide.html#creating-artists-specifically-for-adding-to-the-legend-aka-proxy-artists\n",
      "/Users/galraz1/opt/miniconda3/envs/stan_env/lib/python3.7/site-packages/ipykernel_launcher.py:60: UserWarning: Legend does not support 'r' instances.\n",
      "A proxy artist may be used instead.\n",
      "See: https://matplotlib.org/users/legend_guide.html#creating-artists-specifically-for-adding-to-the-legend-aka-proxy-artists\n",
      "/Users/galraz1/opt/miniconda3/envs/stan_env/lib/python3.7/site-packages/ipykernel_launcher.py:60: UserWarning: Legend does not support 'i' instances.\n",
      "A proxy artist may be used instead.\n",
      "See: https://matplotlib.org/users/legend_guide.html#creating-artists-specifically-for-adding-to-the-legend-aka-proxy-artists\n",
      "/Users/galraz1/opt/miniconda3/envs/stan_env/lib/python3.7/site-packages/ipykernel_launcher.py:60: UserWarning: Legend does not support 'o' instances.\n",
      "A proxy artist may be used instead.\n",
      "See: https://matplotlib.org/users/legend_guide.html#creating-artists-specifically-for-adding-to-the-legend-aka-proxy-artists\n",
      "/Users/galraz1/opt/miniconda3/envs/stan_env/lib/python3.7/site-packages/ipykernel_launcher.py:67: UserWarning: Legend does not support 'p' instances.\n",
      "A proxy artist may be used instead.\n",
      "See: https://matplotlib.org/users/legend_guide.html#creating-artists-specifically-for-adding-to-the-legend-aka-proxy-artists\n",
      "/Users/galraz1/opt/miniconda3/envs/stan_env/lib/python3.7/site-packages/ipykernel_launcher.py:67: UserWarning: Legend does not support 'r' instances.\n",
      "A proxy artist may be used instead.\n",
      "See: https://matplotlib.org/users/legend_guide.html#creating-artists-specifically-for-adding-to-the-legend-aka-proxy-artists\n",
      "/Users/galraz1/opt/miniconda3/envs/stan_env/lib/python3.7/site-packages/ipykernel_launcher.py:67: UserWarning: Legend does not support 'i' instances.\n",
      "A proxy artist may be used instead.\n",
      "See: https://matplotlib.org/users/legend_guide.html#creating-artists-specifically-for-adding-to-the-legend-aka-proxy-artists\n",
      "/Users/galraz1/opt/miniconda3/envs/stan_env/lib/python3.7/site-packages/ipykernel_launcher.py:67: UserWarning: Legend does not support 'o' instances.\n",
      "A proxy artist may be used instead.\n",
      "See: https://matplotlib.org/users/legend_guide.html#creating-artists-specifically-for-adding-to-the-legend-aka-proxy-artists\n"
     ]
    },
    {
     "name": "stdout",
     "output_type": "stream",
     "text": [
      "KL: 0.07690483708196527\n",
      "stimulus:  5\n",
      "sample:  10\n"
     ]
    },
    {
     "name": "stderr",
     "output_type": "stream",
     "text": [
      "WARNING:pystan:219 of 16000 iterations ended with a divergence (1.37 %).\n",
      "WARNING:pystan:Try running with adapt_delta larger than 0.95 to remove the divergences.\n"
     ]
    },
    {
     "name": "stdout",
     "output_type": "stream",
     "text": [
      "\n",
      "Gradient evaluation took 4e-05 seconds\n",
      "1000 transitions using 10 leapfrog steps per transition would take 0.4 seconds.\n",
      "Adjust your expectations accordingly!\n",
      "\n",
      "\n",
      "Iteration:     1 / 20000 [  0%]  (Warmup)\n",
      "Iteration:  2000 / 20000 [ 10%]  (Warmup)\n",
      "Iteration:  4000 / 20000 [ 20%]  (Warmup)\n",
      "Iteration:  4001 / 20000 [ 20%]  (Sampling)\n",
      "Iteration:  6000 / 20000 [ 30%]  (Sampling)\n",
      "Iteration:  8000 / 20000 [ 40%]  (Sampling)\n",
      "Iteration: 10000 / 20000 [ 50%]  (Sampling)\n",
      "Iteration: 12000 / 20000 [ 60%]  (Sampling)\n",
      "Iteration: 14000 / 20000 [ 70%]  (Sampling)\n",
      "Iteration: 16000 / 20000 [ 80%]  (Sampling)\n",
      "Iteration: 18000 / 20000 [ 90%]  (Sampling)\n",
      "Iteration: 20000 / 20000 [100%]  (Sampling)\n",
      "\n",
      " Elapsed Time: 0.882397 seconds (Warm-up)\n",
      "               0.98681 seconds (Sampling)\n",
      "               1.86921 seconds (Total)\n",
      "\n"
     ]
    },
    {
     "name": "stderr",
     "output_type": "stream",
     "text": [
      "/Users/galraz1/opt/miniconda3/envs/stan_env/lib/python3.7/site-packages/ipykernel_launcher.py:60: UserWarning: Legend does not support 'p' instances.\n",
      "A proxy artist may be used instead.\n",
      "See: https://matplotlib.org/users/legend_guide.html#creating-artists-specifically-for-adding-to-the-legend-aka-proxy-artists\n",
      "/Users/galraz1/opt/miniconda3/envs/stan_env/lib/python3.7/site-packages/ipykernel_launcher.py:60: UserWarning: Legend does not support 'r' instances.\n",
      "A proxy artist may be used instead.\n",
      "See: https://matplotlib.org/users/legend_guide.html#creating-artists-specifically-for-adding-to-the-legend-aka-proxy-artists\n",
      "/Users/galraz1/opt/miniconda3/envs/stan_env/lib/python3.7/site-packages/ipykernel_launcher.py:60: UserWarning: Legend does not support 'i' instances.\n",
      "A proxy artist may be used instead.\n",
      "See: https://matplotlib.org/users/legend_guide.html#creating-artists-specifically-for-adding-to-the-legend-aka-proxy-artists\n",
      "/Users/galraz1/opt/miniconda3/envs/stan_env/lib/python3.7/site-packages/ipykernel_launcher.py:60: UserWarning: Legend does not support 'o' instances.\n",
      "A proxy artist may be used instead.\n",
      "See: https://matplotlib.org/users/legend_guide.html#creating-artists-specifically-for-adding-to-the-legend-aka-proxy-artists\n",
      "/Users/galraz1/opt/miniconda3/envs/stan_env/lib/python3.7/site-packages/ipykernel_launcher.py:67: UserWarning: Legend does not support 'p' instances.\n",
      "A proxy artist may be used instead.\n",
      "See: https://matplotlib.org/users/legend_guide.html#creating-artists-specifically-for-adding-to-the-legend-aka-proxy-artists\n",
      "/Users/galraz1/opt/miniconda3/envs/stan_env/lib/python3.7/site-packages/ipykernel_launcher.py:67: UserWarning: Legend does not support 'r' instances.\n",
      "A proxy artist may be used instead.\n",
      "See: https://matplotlib.org/users/legend_guide.html#creating-artists-specifically-for-adding-to-the-legend-aka-proxy-artists\n",
      "/Users/galraz1/opt/miniconda3/envs/stan_env/lib/python3.7/site-packages/ipykernel_launcher.py:67: UserWarning: Legend does not support 'i' instances.\n",
      "A proxy artist may be used instead.\n",
      "See: https://matplotlib.org/users/legend_guide.html#creating-artists-specifically-for-adding-to-the-legend-aka-proxy-artists\n",
      "/Users/galraz1/opt/miniconda3/envs/stan_env/lib/python3.7/site-packages/ipykernel_launcher.py:67: UserWarning: Legend does not support 'o' instances.\n",
      "A proxy artist may be used instead.\n",
      "See: https://matplotlib.org/users/legend_guide.html#creating-artists-specifically-for-adding-to-the-legend-aka-proxy-artists\n"
     ]
    },
    {
     "name": "stdout",
     "output_type": "stream",
     "text": [
      "KL: 0.013496836687627911\n",
      "stimulus:  5\n",
      "sample:  11\n",
      "\n"
     ]
    },
    {
     "name": "stderr",
     "output_type": "stream",
     "text": [
      "WARNING:pystan:253 of 16000 iterations ended with a divergence (1.58 %).\n",
      "WARNING:pystan:Try running with adapt_delta larger than 0.95 to remove the divergences.\n",
      "/Users/galraz1/opt/miniconda3/envs/stan_env/lib/python3.7/site-packages/ipykernel_launcher.py:60: UserWarning: Legend does not support 'p' instances.\n",
      "A proxy artist may be used instead.\n",
      "See: https://matplotlib.org/users/legend_guide.html#creating-artists-specifically-for-adding-to-the-legend-aka-proxy-artists\n",
      "/Users/galraz1/opt/miniconda3/envs/stan_env/lib/python3.7/site-packages/ipykernel_launcher.py:60: UserWarning: Legend does not support 'r' instances.\n",
      "A proxy artist may be used instead.\n",
      "See: https://matplotlib.org/users/legend_guide.html#creating-artists-specifically-for-adding-to-the-legend-aka-proxy-artists\n",
      "/Users/galraz1/opt/miniconda3/envs/stan_env/lib/python3.7/site-packages/ipykernel_launcher.py:60: UserWarning: Legend does not support 'i' instances.\n",
      "A proxy artist may be used instead.\n",
      "See: https://matplotlib.org/users/legend_guide.html#creating-artists-specifically-for-adding-to-the-legend-aka-proxy-artists\n",
      "/Users/galraz1/opt/miniconda3/envs/stan_env/lib/python3.7/site-packages/ipykernel_launcher.py:60: UserWarning: Legend does not support 'o' instances.\n",
      "A proxy artist may be used instead.\n",
      "See: https://matplotlib.org/users/legend_guide.html#creating-artists-specifically-for-adding-to-the-legend-aka-proxy-artists\n",
      "/Users/galraz1/opt/miniconda3/envs/stan_env/lib/python3.7/site-packages/ipykernel_launcher.py:67: UserWarning: Legend does not support 'p' instances.\n",
      "A proxy artist may be used instead.\n",
      "See: https://matplotlib.org/users/legend_guide.html#creating-artists-specifically-for-adding-to-the-legend-aka-proxy-artists\n",
      "/Users/galraz1/opt/miniconda3/envs/stan_env/lib/python3.7/site-packages/ipykernel_launcher.py:67: UserWarning: Legend does not support 'r' instances.\n",
      "A proxy artist may be used instead.\n",
      "See: https://matplotlib.org/users/legend_guide.html#creating-artists-specifically-for-adding-to-the-legend-aka-proxy-artists\n",
      "/Users/galraz1/opt/miniconda3/envs/stan_env/lib/python3.7/site-packages/ipykernel_launcher.py:67: UserWarning: Legend does not support 'i' instances.\n",
      "A proxy artist may be used instead.\n",
      "See: https://matplotlib.org/users/legend_guide.html#creating-artists-specifically-for-adding-to-the-legend-aka-proxy-artists\n",
      "/Users/galraz1/opt/miniconda3/envs/stan_env/lib/python3.7/site-packages/ipykernel_launcher.py:67: UserWarning: Legend does not support 'o' instances.\n",
      "A proxy artist may be used instead.\n",
      "See: https://matplotlib.org/users/legend_guide.html#creating-artists-specifically-for-adding-to-the-legend-aka-proxy-artists\n"
     ]
    },
    {
     "name": "stdout",
     "output_type": "stream",
     "text": [
      "Gradient evaluation took 5e-05 seconds\n",
      "1000 transitions using 10 leapfrog steps per transition would take 0.5 seconds.\n",
      "Adjust your expectations accordingly!\n",
      "\n",
      "\n",
      "Iteration:     1 / 20000 [  0%]  (Warmup)\n",
      "Iteration:  2000 / 20000 [ 10%]  (Warmup)\n",
      "Iteration:  4000 / 20000 [ 20%]  (Warmup)\n",
      "Iteration:  4001 / 20000 [ 20%]  (Sampling)\n",
      "Iteration:  6000 / 20000 [ 30%]  (Sampling)\n",
      "Iteration:  8000 / 20000 [ 40%]  (Sampling)\n",
      "Iteration: 10000 / 20000 [ 50%]  (Sampling)\n",
      "Iteration: 12000 / 20000 [ 60%]  (Sampling)\n",
      "Iteration: 14000 / 20000 [ 70%]  (Sampling)\n",
      "Iteration: 16000 / 20000 [ 80%]  (Sampling)\n",
      "Iteration: 18000 / 20000 [ 90%]  (Sampling)\n",
      "Iteration: 20000 / 20000 [100%]  (Sampling)\n",
      "\n",
      " Elapsed Time: 0.854838 seconds (Warm-up)\n",
      "               0.644066 seconds (Sampling)\n",
      "               1.4989 seconds (Total)\n",
      "\n",
      "KL: 0.0042999201102330575\n",
      "stimulus:  6\n",
      "sample:  12\n",
      "\n"
     ]
    },
    {
     "name": "stderr",
     "output_type": "stream",
     "text": [
      "WARNING:pystan:2 of 16000 iterations ended with a divergence (0.0125 %).\n",
      "WARNING:pystan:Try running with adapt_delta larger than 0.95 to remove the divergences.\n",
      "/Users/galraz1/opt/miniconda3/envs/stan_env/lib/python3.7/site-packages/ipykernel_launcher.py:60: UserWarning: Legend does not support 'p' instances.\n",
      "A proxy artist may be used instead.\n",
      "See: https://matplotlib.org/users/legend_guide.html#creating-artists-specifically-for-adding-to-the-legend-aka-proxy-artists\n",
      "/Users/galraz1/opt/miniconda3/envs/stan_env/lib/python3.7/site-packages/ipykernel_launcher.py:60: UserWarning: Legend does not support 'r' instances.\n",
      "A proxy artist may be used instead.\n",
      "See: https://matplotlib.org/users/legend_guide.html#creating-artists-specifically-for-adding-to-the-legend-aka-proxy-artists\n",
      "/Users/galraz1/opt/miniconda3/envs/stan_env/lib/python3.7/site-packages/ipykernel_launcher.py:60: UserWarning: Legend does not support 'i' instances.\n",
      "A proxy artist may be used instead.\n",
      "See: https://matplotlib.org/users/legend_guide.html#creating-artists-specifically-for-adding-to-the-legend-aka-proxy-artists\n",
      "/Users/galraz1/opt/miniconda3/envs/stan_env/lib/python3.7/site-packages/ipykernel_launcher.py:60: UserWarning: Legend does not support 'o' instances.\n",
      "A proxy artist may be used instead.\n",
      "See: https://matplotlib.org/users/legend_guide.html#creating-artists-specifically-for-adding-to-the-legend-aka-proxy-artists\n",
      "/Users/galraz1/opt/miniconda3/envs/stan_env/lib/python3.7/site-packages/ipykernel_launcher.py:67: UserWarning: Legend does not support 'p' instances.\n",
      "A proxy artist may be used instead.\n",
      "See: https://matplotlib.org/users/legend_guide.html#creating-artists-specifically-for-adding-to-the-legend-aka-proxy-artists\n",
      "/Users/galraz1/opt/miniconda3/envs/stan_env/lib/python3.7/site-packages/ipykernel_launcher.py:67: UserWarning: Legend does not support 'r' instances.\n",
      "A proxy artist may be used instead.\n",
      "See: https://matplotlib.org/users/legend_guide.html#creating-artists-specifically-for-adding-to-the-legend-aka-proxy-artists\n",
      "/Users/galraz1/opt/miniconda3/envs/stan_env/lib/python3.7/site-packages/ipykernel_launcher.py:67: UserWarning: Legend does not support 'i' instances.\n",
      "A proxy artist may be used instead.\n",
      "See: https://matplotlib.org/users/legend_guide.html#creating-artists-specifically-for-adding-to-the-legend-aka-proxy-artists\n",
      "/Users/galraz1/opt/miniconda3/envs/stan_env/lib/python3.7/site-packages/ipykernel_launcher.py:67: UserWarning: Legend does not support 'o' instances.\n",
      "A proxy artist may be used instead.\n",
      "See: https://matplotlib.org/users/legend_guide.html#creating-artists-specifically-for-adding-to-the-legend-aka-proxy-artists\n"
     ]
    },
    {
     "name": "stdout",
     "output_type": "stream",
     "text": [
      "Gradient evaluation took 3.5e-05 seconds\n",
      "1000 transitions using 10 leapfrog steps per transition would take 0.35 seconds.\n",
      "Adjust your expectations accordingly!\n",
      "\n",
      "\n",
      "Iteration:     1 / 20000 [  0%]  (Warmup)\n",
      "Iteration:  2000 / 20000 [ 10%]  (Warmup)\n",
      "Iteration:  4000 / 20000 [ 20%]  (Warmup)\n",
      "Iteration:  4001 / 20000 [ 20%]  (Sampling)\n",
      "Iteration:  6000 / 20000 [ 30%]  (Sampling)\n",
      "Iteration:  8000 / 20000 [ 40%]  (Sampling)\n",
      "Iteration: 10000 / 20000 [ 50%]  (Sampling)\n",
      "Iteration: 12000 / 20000 [ 60%]  (Sampling)\n",
      "Iteration: 14000 / 20000 [ 70%]  (Sampling)\n",
      "Iteration: 16000 / 20000 [ 80%]  (Sampling)\n",
      "Iteration: 18000 / 20000 [ 90%]  (Sampling)\n",
      "Iteration: 20000 / 20000 [100%]  (Sampling)\n",
      "\n",
      " Elapsed Time: 0.719268 seconds (Warm-up)\n",
      "               0.679281 seconds (Sampling)\n",
      "               1.39855 seconds (Total)\n",
      "\n",
      "KL: 2.9139445028159896\n",
      "stimulus:  6\n",
      "sample:  13\n",
      "\n",
      "Gradient evaluation took 2.3e-05 seconds\n",
      "1000 transitions using 10 leapfrog steps per transition would take 0.23 seconds.\n",
      "Adjust your expectations accordingly!\n",
      "\n",
      "\n",
      "Iteration:     1 / 20000 [  0%]  (Warmup)\n",
      "Iteration:  2000 / 20000 [ 10%]  (Warmup)\n",
      "Iteration:  4000 / 20000 [ 20%]  (Warmup)\n",
      "Iteration:  4001 / 20000 [ 20%]  (Sampling)\n",
      "Iteration:  6000 / 20000 [ 30%]  (Sampling)\n",
      "Iteration:  8000 / 20000 [ 40%]  (Sampling)\n",
      "Iteration: 10000 / 20000 [ 50%]  (Sampling)\n",
      "Iteration: 12000 / 20000 [ 60%]  (Sampling)\n",
      "Iteration: 14000 / 20000 [ 70%]  (Sampling)\n",
      "Iteration: 16000 / 20000 [ 80%]  (Sampling)\n",
      "Iteration: 18000 / 20000 [ 90%]  (Sampling)\n",
      "Iteration: 20000 / 20000 [100%]  (Sampling)\n",
      "\n",
      " Elapsed Time: 0.59528 seconds (Warm-up)\n",
      "               0.700946 seconds (Sampling)\n",
      "               1.29623 seconds (Total)\n",
      "\n"
     ]
    },
    {
     "name": "stderr",
     "output_type": "stream",
     "text": [
      "/Users/galraz1/opt/miniconda3/envs/stan_env/lib/python3.7/site-packages/ipykernel_launcher.py:60: UserWarning: Legend does not support 'p' instances.\n",
      "A proxy artist may be used instead.\n",
      "See: https://matplotlib.org/users/legend_guide.html#creating-artists-specifically-for-adding-to-the-legend-aka-proxy-artists\n",
      "/Users/galraz1/opt/miniconda3/envs/stan_env/lib/python3.7/site-packages/ipykernel_launcher.py:60: UserWarning: Legend does not support 'r' instances.\n",
      "A proxy artist may be used instead.\n",
      "See: https://matplotlib.org/users/legend_guide.html#creating-artists-specifically-for-adding-to-the-legend-aka-proxy-artists\n",
      "/Users/galraz1/opt/miniconda3/envs/stan_env/lib/python3.7/site-packages/ipykernel_launcher.py:60: UserWarning: Legend does not support 'i' instances.\n",
      "A proxy artist may be used instead.\n",
      "See: https://matplotlib.org/users/legend_guide.html#creating-artists-specifically-for-adding-to-the-legend-aka-proxy-artists\n",
      "/Users/galraz1/opt/miniconda3/envs/stan_env/lib/python3.7/site-packages/ipykernel_launcher.py:60: UserWarning: Legend does not support 'o' instances.\n",
      "A proxy artist may be used instead.\n",
      "See: https://matplotlib.org/users/legend_guide.html#creating-artists-specifically-for-adding-to-the-legend-aka-proxy-artists\n",
      "/Users/galraz1/opt/miniconda3/envs/stan_env/lib/python3.7/site-packages/ipykernel_launcher.py:67: UserWarning: Legend does not support 'p' instances.\n",
      "A proxy artist may be used instead.\n",
      "See: https://matplotlib.org/users/legend_guide.html#creating-artists-specifically-for-adding-to-the-legend-aka-proxy-artists\n",
      "/Users/galraz1/opt/miniconda3/envs/stan_env/lib/python3.7/site-packages/ipykernel_launcher.py:67: UserWarning: Legend does not support 'r' instances.\n",
      "A proxy artist may be used instead.\n",
      "See: https://matplotlib.org/users/legend_guide.html#creating-artists-specifically-for-adding-to-the-legend-aka-proxy-artists\n",
      "/Users/galraz1/opt/miniconda3/envs/stan_env/lib/python3.7/site-packages/ipykernel_launcher.py:67: UserWarning: Legend does not support 'i' instances.\n",
      "A proxy artist may be used instead.\n",
      "See: https://matplotlib.org/users/legend_guide.html#creating-artists-specifically-for-adding-to-the-legend-aka-proxy-artists\n",
      "/Users/galraz1/opt/miniconda3/envs/stan_env/lib/python3.7/site-packages/ipykernel_launcher.py:67: UserWarning: Legend does not support 'o' instances.\n",
      "A proxy artist may be used instead.\n",
      "See: https://matplotlib.org/users/legend_guide.html#creating-artists-specifically-for-adding-to-the-legend-aka-proxy-artists\n"
     ]
    },
    {
     "name": "stdout",
     "output_type": "stream",
     "text": [
      "KL: 0.06656804906373925\n",
      "stimulus:  6\n",
      "sample:  14\n",
      "\n",
      "Gradient evaluation took 1.2e-05 seconds\n",
      "1000 transitions using 10 leapfrog steps per transition would take 0.12 seconds.\n",
      "Adjust your expectations accordingly!\n",
      "\n",
      "\n",
      "Iteration:     1 / 20000 [  0%]  (Warmup)\n",
      "Iteration:  2000 / 20000 [ 10%]  (Warmup)\n",
      "Iteration:  4000 / 20000 [ 20%]  (Warmup)\n",
      "Iteration:  4001 / 20000 [ 20%]  (Sampling)\n",
      "Iteration:  6000 / 20000 [ 30%]  (Sampling)\n",
      "Iteration:  8000 / 20000 [ 40%]  (Sampling)\n",
      "Iteration: 10000 / 20000 [ 50%]  (Sampling)\n",
      "Iteration: 12000 / 20000 [ 60%]  (Sampling)\n",
      "Iteration: 14000 / 20000 [ 70%]  (Sampling)\n",
      "Iteration: 16000 / 20000 [ 80%]  (Sampling)\n",
      "Iteration: 18000 / 20000 [ 90%]  (Sampling)\n",
      "Iteration: 20000 / 20000 [100%]  (Sampling)\n",
      "\n",
      " Elapsed Time: 0.389229 seconds (Warm-up)\n",
      "               0.610098 seconds (Sampling)\n",
      "               0.999327 seconds (Total)\n",
      "\n"
     ]
    },
    {
     "name": "stderr",
     "output_type": "stream",
     "text": [
      "/Users/galraz1/opt/miniconda3/envs/stan_env/lib/python3.7/site-packages/ipykernel_launcher.py:60: UserWarning: Legend does not support 'p' instances.\n",
      "A proxy artist may be used instead.\n",
      "See: https://matplotlib.org/users/legend_guide.html#creating-artists-specifically-for-adding-to-the-legend-aka-proxy-artists\n",
      "/Users/galraz1/opt/miniconda3/envs/stan_env/lib/python3.7/site-packages/ipykernel_launcher.py:60: UserWarning: Legend does not support 'r' instances.\n",
      "A proxy artist may be used instead.\n",
      "See: https://matplotlib.org/users/legend_guide.html#creating-artists-specifically-for-adding-to-the-legend-aka-proxy-artists\n",
      "/Users/galraz1/opt/miniconda3/envs/stan_env/lib/python3.7/site-packages/ipykernel_launcher.py:60: UserWarning: Legend does not support 'i' instances.\n",
      "A proxy artist may be used instead.\n",
      "See: https://matplotlib.org/users/legend_guide.html#creating-artists-specifically-for-adding-to-the-legend-aka-proxy-artists\n",
      "/Users/galraz1/opt/miniconda3/envs/stan_env/lib/python3.7/site-packages/ipykernel_launcher.py:60: UserWarning: Legend does not support 'o' instances.\n",
      "A proxy artist may be used instead.\n",
      "See: https://matplotlib.org/users/legend_guide.html#creating-artists-specifically-for-adding-to-the-legend-aka-proxy-artists\n",
      "/Users/galraz1/opt/miniconda3/envs/stan_env/lib/python3.7/site-packages/ipykernel_launcher.py:67: UserWarning: Legend does not support 'p' instances.\n",
      "A proxy artist may be used instead.\n",
      "See: https://matplotlib.org/users/legend_guide.html#creating-artists-specifically-for-adding-to-the-legend-aka-proxy-artists\n",
      "/Users/galraz1/opt/miniconda3/envs/stan_env/lib/python3.7/site-packages/ipykernel_launcher.py:67: UserWarning: Legend does not support 'r' instances.\n",
      "A proxy artist may be used instead.\n",
      "See: https://matplotlib.org/users/legend_guide.html#creating-artists-specifically-for-adding-to-the-legend-aka-proxy-artists\n",
      "/Users/galraz1/opt/miniconda3/envs/stan_env/lib/python3.7/site-packages/ipykernel_launcher.py:67: UserWarning: Legend does not support 'i' instances.\n",
      "A proxy artist may be used instead.\n",
      "See: https://matplotlib.org/users/legend_guide.html#creating-artists-specifically-for-adding-to-the-legend-aka-proxy-artists\n",
      "/Users/galraz1/opt/miniconda3/envs/stan_env/lib/python3.7/site-packages/ipykernel_launcher.py:67: UserWarning: Legend does not support 'o' instances.\n",
      "A proxy artist may be used instead.\n",
      "See: https://matplotlib.org/users/legend_guide.html#creating-artists-specifically-for-adding-to-the-legend-aka-proxy-artists\n"
     ]
    },
    {
     "name": "stdout",
     "output_type": "stream",
     "text": [
      "KL: 0.0077557196786484095\n",
      "model run:  2\n"
     ]
    },
    {
     "name": "stderr",
     "output_type": "stream",
     "text": [
      "WARNING:pystan:53 of 16000 iterations ended with a divergence (0.331 %).\n",
      "WARNING:pystan:Try running with adapt_delta larger than 0.95 to remove the divergences.\n"
     ]
    },
    {
     "name": "stdout",
     "output_type": "stream",
     "text": [
      "stimulus:  1\n",
      "sample:  1\n",
      "\n",
      "Gradient evaluation took 1.1e-05 seconds\n",
      "1000 transitions using 10 leapfrog steps per transition would take 0.11 seconds.\n",
      "Adjust your expectations accordingly!\n",
      "\n",
      "\n",
      "Iteration:     1 / 20000 [  0%]  (Warmup)\n",
      "Iteration:  2000 / 20000 [ 10%]  (Warmup)\n",
      "Iteration:  4000 / 20000 [ 20%]  (Warmup)\n",
      "Iteration:  4001 / 20000 [ 20%]  (Sampling)\n",
      "Iteration:  6000 / 20000 [ 30%]  (Sampling)\n",
      "Iteration:  8000 / 20000 [ 40%]  (Sampling)\n",
      "Iteration: 10000 / 20000 [ 50%]  (Sampling)\n",
      "Iteration: 12000 / 20000 [ 60%]  (Sampling)\n",
      "Iteration: 14000 / 20000 [ 70%]  (Sampling)\n",
      "Iteration: 16000 / 20000 [ 80%]  (Sampling)\n",
      "Iteration: 18000 / 20000 [ 90%]  (Sampling)\n",
      "Iteration: 20000 / 20000 [100%]  (Sampling)\n",
      "\n",
      " Elapsed Time: 0.096682 seconds (Warm-up)\n",
      "               0.453216 seconds (Sampling)\n",
      "               0.549898 seconds (Total)\n",
      "\n"
     ]
    },
    {
     "name": "stderr",
     "output_type": "stream",
     "text": [
      "/Users/galraz1/opt/miniconda3/envs/stan_env/lib/python3.7/site-packages/ipykernel_launcher.py:60: UserWarning: Legend does not support 'p' instances.\n",
      "A proxy artist may be used instead.\n",
      "See: https://matplotlib.org/users/legend_guide.html#creating-artists-specifically-for-adding-to-the-legend-aka-proxy-artists\n",
      "/Users/galraz1/opt/miniconda3/envs/stan_env/lib/python3.7/site-packages/ipykernel_launcher.py:60: UserWarning: Legend does not support 'r' instances.\n",
      "A proxy artist may be used instead.\n",
      "See: https://matplotlib.org/users/legend_guide.html#creating-artists-specifically-for-adding-to-the-legend-aka-proxy-artists\n",
      "/Users/galraz1/opt/miniconda3/envs/stan_env/lib/python3.7/site-packages/ipykernel_launcher.py:60: UserWarning: Legend does not support 'i' instances.\n",
      "A proxy artist may be used instead.\n",
      "See: https://matplotlib.org/users/legend_guide.html#creating-artists-specifically-for-adding-to-the-legend-aka-proxy-artists\n",
      "/Users/galraz1/opt/miniconda3/envs/stan_env/lib/python3.7/site-packages/ipykernel_launcher.py:60: UserWarning: Legend does not support 'o' instances.\n",
      "A proxy artist may be used instead.\n",
      "See: https://matplotlib.org/users/legend_guide.html#creating-artists-specifically-for-adding-to-the-legend-aka-proxy-artists\n",
      "/Users/galraz1/opt/miniconda3/envs/stan_env/lib/python3.7/site-packages/ipykernel_launcher.py:67: UserWarning: Legend does not support 'p' instances.\n",
      "A proxy artist may be used instead.\n",
      "See: https://matplotlib.org/users/legend_guide.html#creating-artists-specifically-for-adding-to-the-legend-aka-proxy-artists\n",
      "/Users/galraz1/opt/miniconda3/envs/stan_env/lib/python3.7/site-packages/ipykernel_launcher.py:67: UserWarning: Legend does not support 'r' instances.\n",
      "A proxy artist may be used instead.\n",
      "See: https://matplotlib.org/users/legend_guide.html#creating-artists-specifically-for-adding-to-the-legend-aka-proxy-artists\n",
      "/Users/galraz1/opt/miniconda3/envs/stan_env/lib/python3.7/site-packages/ipykernel_launcher.py:67: UserWarning: Legend does not support 'i' instances.\n",
      "A proxy artist may be used instead.\n",
      "See: https://matplotlib.org/users/legend_guide.html#creating-artists-specifically-for-adding-to-the-legend-aka-proxy-artists\n",
      "/Users/galraz1/opt/miniconda3/envs/stan_env/lib/python3.7/site-packages/ipykernel_launcher.py:67: UserWarning: Legend does not support 'o' instances.\n",
      "A proxy artist may be used instead.\n",
      "See: https://matplotlib.org/users/legend_guide.html#creating-artists-specifically-for-adding-to-the-legend-aka-proxy-artists\n"
     ]
    },
    {
     "name": "stdout",
     "output_type": "stream",
     "text": [
      "KL: 1.9631767141794063\n",
      "stimulus:  1\n",
      "sample:  2\n",
      "\n"
     ]
    },
    {
     "name": "stderr",
     "output_type": "stream",
     "text": [
      "WARNING:pystan:16 of 16000 iterations ended with a divergence (0.1 %).\n",
      "WARNING:pystan:Try running with adapt_delta larger than 0.95 to remove the divergences.\n"
     ]
    },
    {
     "name": "stdout",
     "output_type": "stream",
     "text": [
      "Gradient evaluation took 3.5e-05 seconds\n",
      "1000 transitions using 10 leapfrog steps per transition would take 0.35 seconds.\n",
      "Adjust your expectations accordingly!\n",
      "\n",
      "\n",
      "Iteration:     1 / 20000 [  0%]  (Warmup)\n",
      "Iteration:  2000 / 20000 [ 10%]  (Warmup)\n",
      "Iteration:  4000 / 20000 [ 20%]  (Warmup)\n",
      "Iteration:  4001 / 20000 [ 20%]  (Sampling)\n",
      "Iteration:  6000 / 20000 [ 30%]  (Sampling)\n",
      "Iteration:  8000 / 20000 [ 40%]  (Sampling)\n",
      "Iteration: 10000 / 20000 [ 50%]  (Sampling)\n",
      "Iteration: 12000 / 20000 [ 60%]  (Sampling)\n",
      "Iteration: 14000 / 20000 [ 70%]  (Sampling)\n",
      "Iteration: 16000 / 20000 [ 80%]  (Sampling)\n",
      "Iteration: 18000 / 20000 [ 90%]  (Sampling)\n",
      "Iteration: 20000 / 20000 [100%]  (Sampling)\n",
      "\n",
      " Elapsed Time: 0.347355 seconds (Warm-up)\n",
      "               0.939264 seconds (Sampling)\n",
      "               1.28662 seconds (Total)\n",
      "\n"
     ]
    },
    {
     "name": "stderr",
     "output_type": "stream",
     "text": [
      "/Users/galraz1/opt/miniconda3/envs/stan_env/lib/python3.7/site-packages/ipykernel_launcher.py:60: UserWarning: Legend does not support 'p' instances.\n",
      "A proxy artist may be used instead.\n",
      "See: https://matplotlib.org/users/legend_guide.html#creating-artists-specifically-for-adding-to-the-legend-aka-proxy-artists\n",
      "/Users/galraz1/opt/miniconda3/envs/stan_env/lib/python3.7/site-packages/ipykernel_launcher.py:60: UserWarning: Legend does not support 'r' instances.\n",
      "A proxy artist may be used instead.\n",
      "See: https://matplotlib.org/users/legend_guide.html#creating-artists-specifically-for-adding-to-the-legend-aka-proxy-artists\n",
      "/Users/galraz1/opt/miniconda3/envs/stan_env/lib/python3.7/site-packages/ipykernel_launcher.py:60: UserWarning: Legend does not support 'i' instances.\n",
      "A proxy artist may be used instead.\n",
      "See: https://matplotlib.org/users/legend_guide.html#creating-artists-specifically-for-adding-to-the-legend-aka-proxy-artists\n",
      "/Users/galraz1/opt/miniconda3/envs/stan_env/lib/python3.7/site-packages/ipykernel_launcher.py:60: UserWarning: Legend does not support 'o' instances.\n",
      "A proxy artist may be used instead.\n",
      "See: https://matplotlib.org/users/legend_guide.html#creating-artists-specifically-for-adding-to-the-legend-aka-proxy-artists\n",
      "/Users/galraz1/opt/miniconda3/envs/stan_env/lib/python3.7/site-packages/ipykernel_launcher.py:67: UserWarning: Legend does not support 'p' instances.\n",
      "A proxy artist may be used instead.\n",
      "See: https://matplotlib.org/users/legend_guide.html#creating-artists-specifically-for-adding-to-the-legend-aka-proxy-artists\n",
      "/Users/galraz1/opt/miniconda3/envs/stan_env/lib/python3.7/site-packages/ipykernel_launcher.py:67: UserWarning: Legend does not support 'r' instances.\n",
      "A proxy artist may be used instead.\n",
      "See: https://matplotlib.org/users/legend_guide.html#creating-artists-specifically-for-adding-to-the-legend-aka-proxy-artists\n",
      "/Users/galraz1/opt/miniconda3/envs/stan_env/lib/python3.7/site-packages/ipykernel_launcher.py:67: UserWarning: Legend does not support 'i' instances.\n",
      "A proxy artist may be used instead.\n",
      "See: https://matplotlib.org/users/legend_guide.html#creating-artists-specifically-for-adding-to-the-legend-aka-proxy-artists\n",
      "/Users/galraz1/opt/miniconda3/envs/stan_env/lib/python3.7/site-packages/ipykernel_launcher.py:67: UserWarning: Legend does not support 'o' instances.\n",
      "A proxy artist may be used instead.\n",
      "See: https://matplotlib.org/users/legend_guide.html#creating-artists-specifically-for-adding-to-the-legend-aka-proxy-artists\n"
     ]
    },
    {
     "name": "stdout",
     "output_type": "stream",
     "text": [
      "KL: 0.00982722251755197\n",
      "stimulus:  2\n",
      "sample:  3\n",
      "\n"
     ]
    },
    {
     "name": "stderr",
     "output_type": "stream",
     "text": [
      "WARNING:pystan:306 of 16000 iterations ended with a divergence (1.91 %).\n",
      "WARNING:pystan:Try running with adapt_delta larger than 0.95 to remove the divergences.\n"
     ]
    },
    {
     "name": "stdout",
     "output_type": "stream",
     "text": [
      "Gradient evaluation took 4e-05 seconds\n",
      "1000 transitions using 10 leapfrog steps per transition would take 0.4 seconds.\n",
      "Adjust your expectations accordingly!\n",
      "\n",
      "\n",
      "Iteration:     1 / 20000 [  0%]  (Warmup)\n",
      "Iteration:  2000 / 20000 [ 10%]  (Warmup)\n",
      "Iteration:  4000 / 20000 [ 20%]  (Warmup)\n",
      "Iteration:  4001 / 20000 [ 20%]  (Sampling)\n",
      "Iteration:  6000 / 20000 [ 30%]  (Sampling)\n",
      "Iteration:  8000 / 20000 [ 40%]  (Sampling)\n",
      "Iteration: 10000 / 20000 [ 50%]  (Sampling)\n",
      "Iteration: 12000 / 20000 [ 60%]  (Sampling)\n",
      "Iteration: 14000 / 20000 [ 70%]  (Sampling)\n",
      "Iteration: 16000 / 20000 [ 80%]  (Sampling)\n",
      "Iteration: 18000 / 20000 [ 90%]  (Sampling)\n",
      "Iteration: 20000 / 20000 [100%]  (Sampling)\n",
      "\n",
      " Elapsed Time: 0.549623 seconds (Warm-up)\n",
      "               0.601746 seconds (Sampling)\n",
      "               1.15137 seconds (Total)\n",
      "\n"
     ]
    },
    {
     "name": "stderr",
     "output_type": "stream",
     "text": [
      "/Users/galraz1/opt/miniconda3/envs/stan_env/lib/python3.7/site-packages/ipykernel_launcher.py:60: UserWarning: Legend does not support 'p' instances.\n",
      "A proxy artist may be used instead.\n",
      "See: https://matplotlib.org/users/legend_guide.html#creating-artists-specifically-for-adding-to-the-legend-aka-proxy-artists\n",
      "/Users/galraz1/opt/miniconda3/envs/stan_env/lib/python3.7/site-packages/ipykernel_launcher.py:60: UserWarning: Legend does not support 'r' instances.\n",
      "A proxy artist may be used instead.\n",
      "See: https://matplotlib.org/users/legend_guide.html#creating-artists-specifically-for-adding-to-the-legend-aka-proxy-artists\n",
      "/Users/galraz1/opt/miniconda3/envs/stan_env/lib/python3.7/site-packages/ipykernel_launcher.py:60: UserWarning: Legend does not support 'i' instances.\n",
      "A proxy artist may be used instead.\n",
      "See: https://matplotlib.org/users/legend_guide.html#creating-artists-specifically-for-adding-to-the-legend-aka-proxy-artists\n",
      "/Users/galraz1/opt/miniconda3/envs/stan_env/lib/python3.7/site-packages/ipykernel_launcher.py:60: UserWarning: Legend does not support 'o' instances.\n",
      "A proxy artist may be used instead.\n",
      "See: https://matplotlib.org/users/legend_guide.html#creating-artists-specifically-for-adding-to-the-legend-aka-proxy-artists\n",
      "/Users/galraz1/opt/miniconda3/envs/stan_env/lib/python3.7/site-packages/ipykernel_launcher.py:67: UserWarning: Legend does not support 'p' instances.\n",
      "A proxy artist may be used instead.\n",
      "See: https://matplotlib.org/users/legend_guide.html#creating-artists-specifically-for-adding-to-the-legend-aka-proxy-artists\n",
      "/Users/galraz1/opt/miniconda3/envs/stan_env/lib/python3.7/site-packages/ipykernel_launcher.py:67: UserWarning: Legend does not support 'r' instances.\n",
      "A proxy artist may be used instead.\n",
      "See: https://matplotlib.org/users/legend_guide.html#creating-artists-specifically-for-adding-to-the-legend-aka-proxy-artists\n",
      "/Users/galraz1/opt/miniconda3/envs/stan_env/lib/python3.7/site-packages/ipykernel_launcher.py:67: UserWarning: Legend does not support 'i' instances.\n",
      "A proxy artist may be used instead.\n",
      "See: https://matplotlib.org/users/legend_guide.html#creating-artists-specifically-for-adding-to-the-legend-aka-proxy-artists\n",
      "/Users/galraz1/opt/miniconda3/envs/stan_env/lib/python3.7/site-packages/ipykernel_launcher.py:67: UserWarning: Legend does not support 'o' instances.\n",
      "A proxy artist may be used instead.\n",
      "See: https://matplotlib.org/users/legend_guide.html#creating-artists-specifically-for-adding-to-the-legend-aka-proxy-artists\n"
     ]
    },
    {
     "name": "stdout",
     "output_type": "stream",
     "text": [
      "KL: 0.18392487552342796\n",
      "stimulus:  2\n",
      "sample:  4\n",
      "\n",
      "Gradient evaluation took 1.2e-05 seconds\n",
      "1000 transitions using 10 leapfrog steps per transition would take 0.12 seconds.\n"
     ]
    },
    {
     "name": "stderr",
     "output_type": "stream",
     "text": [
      "WARNING:pystan:198 of 16000 iterations ended with a divergence (1.24 %).\n",
      "WARNING:pystan:Try running with adapt_delta larger than 0.95 to remove the divergences.\n"
     ]
    },
    {
     "name": "stdout",
     "output_type": "stream",
     "text": [
      "Adjust your expectations accordingly!\n",
      "\n",
      "\n",
      "Iteration:     1 / 20000 [  0%]  (Warmup)\n",
      "Iteration:  2000 / 20000 [ 10%]  (Warmup)\n",
      "Iteration:  4000 / 20000 [ 20%]  (Warmup)\n",
      "Iteration:  4001 / 20000 [ 20%]  (Sampling)\n",
      "Iteration:  6000 / 20000 [ 30%]  (Sampling)\n",
      "Iteration:  8000 / 20000 [ 40%]  (Sampling)\n",
      "Iteration: 10000 / 20000 [ 50%]  (Sampling)\n",
      "Iteration: 12000 / 20000 [ 60%]  (Sampling)\n",
      "Iteration: 14000 / 20000 [ 70%]  (Sampling)\n",
      "Iteration: 16000 / 20000 [ 80%]  (Sampling)\n",
      "Iteration: 18000 / 20000 [ 90%]  (Sampling)\n",
      "Iteration: 20000 / 20000 [100%]  (Sampling)\n",
      "\n",
      " Elapsed Time: 0.574928 seconds (Warm-up)\n",
      "               0.632479 seconds (Sampling)\n",
      "               1.20741 seconds (Total)\n",
      "\n"
     ]
    },
    {
     "name": "stderr",
     "output_type": "stream",
     "text": [
      "/Users/galraz1/opt/miniconda3/envs/stan_env/lib/python3.7/site-packages/ipykernel_launcher.py:60: UserWarning: Legend does not support 'p' instances.\n",
      "A proxy artist may be used instead.\n",
      "See: https://matplotlib.org/users/legend_guide.html#creating-artists-specifically-for-adding-to-the-legend-aka-proxy-artists\n",
      "/Users/galraz1/opt/miniconda3/envs/stan_env/lib/python3.7/site-packages/ipykernel_launcher.py:60: UserWarning: Legend does not support 'r' instances.\n",
      "A proxy artist may be used instead.\n",
      "See: https://matplotlib.org/users/legend_guide.html#creating-artists-specifically-for-adding-to-the-legend-aka-proxy-artists\n",
      "/Users/galraz1/opt/miniconda3/envs/stan_env/lib/python3.7/site-packages/ipykernel_launcher.py:60: UserWarning: Legend does not support 'i' instances.\n",
      "A proxy artist may be used instead.\n",
      "See: https://matplotlib.org/users/legend_guide.html#creating-artists-specifically-for-adding-to-the-legend-aka-proxy-artists\n",
      "/Users/galraz1/opt/miniconda3/envs/stan_env/lib/python3.7/site-packages/ipykernel_launcher.py:60: UserWarning: Legend does not support 'o' instances.\n",
      "A proxy artist may be used instead.\n",
      "See: https://matplotlib.org/users/legend_guide.html#creating-artists-specifically-for-adding-to-the-legend-aka-proxy-artists\n",
      "/Users/galraz1/opt/miniconda3/envs/stan_env/lib/python3.7/site-packages/ipykernel_launcher.py:67: UserWarning: Legend does not support 'p' instances.\n",
      "A proxy artist may be used instead.\n",
      "See: https://matplotlib.org/users/legend_guide.html#creating-artists-specifically-for-adding-to-the-legend-aka-proxy-artists\n",
      "/Users/galraz1/opt/miniconda3/envs/stan_env/lib/python3.7/site-packages/ipykernel_launcher.py:67: UserWarning: Legend does not support 'r' instances.\n",
      "A proxy artist may be used instead.\n",
      "See: https://matplotlib.org/users/legend_guide.html#creating-artists-specifically-for-adding-to-the-legend-aka-proxy-artists\n",
      "/Users/galraz1/opt/miniconda3/envs/stan_env/lib/python3.7/site-packages/ipykernel_launcher.py:67: UserWarning: Legend does not support 'i' instances.\n",
      "A proxy artist may be used instead.\n",
      "See: https://matplotlib.org/users/legend_guide.html#creating-artists-specifically-for-adding-to-the-legend-aka-proxy-artists\n",
      "/Users/galraz1/opt/miniconda3/envs/stan_env/lib/python3.7/site-packages/ipykernel_launcher.py:67: UserWarning: Legend does not support 'o' instances.\n",
      "A proxy artist may be used instead.\n",
      "See: https://matplotlib.org/users/legend_guide.html#creating-artists-specifically-for-adding-to-the-legend-aka-proxy-artists\n"
     ]
    },
    {
     "name": "stdout",
     "output_type": "stream",
     "text": [
      "KL: 0.0029526199524612107\n",
      "stimulus:  3\n",
      "sample:  5\n"
     ]
    },
    {
     "name": "stderr",
     "output_type": "stream",
     "text": [
      "WARNING:pystan:344 of 16000 iterations ended with a divergence (2.15 %).\n",
      "WARNING:pystan:Try running with adapt_delta larger than 0.95 to remove the divergences.\n",
      "/Users/galraz1/opt/miniconda3/envs/stan_env/lib/python3.7/site-packages/ipykernel_launcher.py:60: UserWarning: Legend does not support 'p' instances.\n",
      "A proxy artist may be used instead.\n",
      "See: https://matplotlib.org/users/legend_guide.html#creating-artists-specifically-for-adding-to-the-legend-aka-proxy-artists\n",
      "/Users/galraz1/opt/miniconda3/envs/stan_env/lib/python3.7/site-packages/ipykernel_launcher.py:60: UserWarning: Legend does not support 'r' instances.\n",
      "A proxy artist may be used instead.\n",
      "See: https://matplotlib.org/users/legend_guide.html#creating-artists-specifically-for-adding-to-the-legend-aka-proxy-artists\n",
      "/Users/galraz1/opt/miniconda3/envs/stan_env/lib/python3.7/site-packages/ipykernel_launcher.py:60: UserWarning: Legend does not support 'i' instances.\n",
      "A proxy artist may be used instead.\n",
      "See: https://matplotlib.org/users/legend_guide.html#creating-artists-specifically-for-adding-to-the-legend-aka-proxy-artists\n",
      "/Users/galraz1/opt/miniconda3/envs/stan_env/lib/python3.7/site-packages/ipykernel_launcher.py:60: UserWarning: Legend does not support 'o' instances.\n",
      "A proxy artist may be used instead.\n",
      "See: https://matplotlib.org/users/legend_guide.html#creating-artists-specifically-for-adding-to-the-legend-aka-proxy-artists\n",
      "/Users/galraz1/opt/miniconda3/envs/stan_env/lib/python3.7/site-packages/ipykernel_launcher.py:67: UserWarning: Legend does not support 'p' instances.\n",
      "A proxy artist may be used instead.\n",
      "See: https://matplotlib.org/users/legend_guide.html#creating-artists-specifically-for-adding-to-the-legend-aka-proxy-artists\n",
      "/Users/galraz1/opt/miniconda3/envs/stan_env/lib/python3.7/site-packages/ipykernel_launcher.py:67: UserWarning: Legend does not support 'r' instances.\n",
      "A proxy artist may be used instead.\n",
      "See: https://matplotlib.org/users/legend_guide.html#creating-artists-specifically-for-adding-to-the-legend-aka-proxy-artists\n",
      "/Users/galraz1/opt/miniconda3/envs/stan_env/lib/python3.7/site-packages/ipykernel_launcher.py:67: UserWarning: Legend does not support 'i' instances.\n",
      "A proxy artist may be used instead.\n",
      "See: https://matplotlib.org/users/legend_guide.html#creating-artists-specifically-for-adding-to-the-legend-aka-proxy-artists\n",
      "/Users/galraz1/opt/miniconda3/envs/stan_env/lib/python3.7/site-packages/ipykernel_launcher.py:67: UserWarning: Legend does not support 'o' instances.\n",
      "A proxy artist may be used instead.\n",
      "See: https://matplotlib.org/users/legend_guide.html#creating-artists-specifically-for-adding-to-the-legend-aka-proxy-artists\n"
     ]
    },
    {
     "name": "stdout",
     "output_type": "stream",
     "text": [
      "\n",
      "Gradient evaluation took 3.6e-05 seconds\n",
      "1000 transitions using 10 leapfrog steps per transition would take 0.36 seconds.\n",
      "Adjust your expectations accordingly!\n",
      "\n",
      "\n",
      "Iteration:     1 / 20000 [  0%]  (Warmup)\n",
      "Iteration:  2000 / 20000 [ 10%]  (Warmup)\n",
      "Iteration:  4000 / 20000 [ 20%]  (Warmup)\n",
      "Iteration:  4001 / 20000 [ 20%]  (Sampling)\n",
      "Iteration:  6000 / 20000 [ 30%]  (Sampling)\n",
      "Iteration:  8000 / 20000 [ 40%]  (Sampling)\n",
      "Iteration: 10000 / 20000 [ 50%]  (Sampling)\n",
      "Iteration: 12000 / 20000 [ 60%]  (Sampling)\n",
      "Iteration: 14000 / 20000 [ 70%]  (Sampling)\n",
      "Iteration: 16000 / 20000 [ 80%]  (Sampling)\n",
      "Iteration: 18000 / 20000 [ 90%]  (Sampling)\n",
      "Iteration: 20000 / 20000 [100%]  (Sampling)\n",
      "\n",
      " Elapsed Time: 0.718923 seconds (Warm-up)\n",
      "               0.783714 seconds (Sampling)\n",
      "               1.50264 seconds (Total)\n",
      "\n",
      "KL: 0.18648158173760626\n",
      "stimulus:  3\n",
      "sample:  6\n",
      "\n"
     ]
    },
    {
     "name": "stderr",
     "output_type": "stream",
     "text": [
      "WARNING:pystan:104 of 16000 iterations ended with a divergence (0.65 %).\n",
      "WARNING:pystan:Try running with adapt_delta larger than 0.95 to remove the divergences.\n"
     ]
    },
    {
     "name": "stdout",
     "output_type": "stream",
     "text": [
      "Gradient evaluation took 3.7e-05 seconds\n",
      "1000 transitions using 10 leapfrog steps per transition would take 0.37 seconds.\n",
      "Adjust your expectations accordingly!\n",
      "\n",
      "\n",
      "Iteration:     1 / 20000 [  0%]  (Warmup)\n",
      "Iteration:  2000 / 20000 [ 10%]  (Warmup)\n",
      "Iteration:  4000 / 20000 [ 20%]  (Warmup)\n",
      "Iteration:  4001 / 20000 [ 20%]  (Sampling)\n",
      "Iteration:  6000 / 20000 [ 30%]  (Sampling)\n",
      "Iteration:  8000 / 20000 [ 40%]  (Sampling)\n",
      "Iteration: 10000 / 20000 [ 50%]  (Sampling)\n",
      "Iteration: 12000 / 20000 [ 60%]  (Sampling)\n",
      "Iteration: 14000 / 20000 [ 70%]  (Sampling)\n",
      "Iteration: 16000 / 20000 [ 80%]  (Sampling)\n",
      "Iteration: 18000 / 20000 [ 90%]  (Sampling)\n",
      "Iteration: 20000 / 20000 [100%]  (Sampling)\n",
      "\n",
      " Elapsed Time: 0.763095 seconds (Warm-up)\n",
      "               0.786922 seconds (Sampling)\n",
      "               1.55002 seconds (Total)\n",
      "\n"
     ]
    },
    {
     "name": "stderr",
     "output_type": "stream",
     "text": [
      "/Users/galraz1/opt/miniconda3/envs/stan_env/lib/python3.7/site-packages/ipykernel_launcher.py:60: UserWarning: Legend does not support 'p' instances.\n",
      "A proxy artist may be used instead.\n",
      "See: https://matplotlib.org/users/legend_guide.html#creating-artists-specifically-for-adding-to-the-legend-aka-proxy-artists\n",
      "/Users/galraz1/opt/miniconda3/envs/stan_env/lib/python3.7/site-packages/ipykernel_launcher.py:60: UserWarning: Legend does not support 'r' instances.\n",
      "A proxy artist may be used instead.\n",
      "See: https://matplotlib.org/users/legend_guide.html#creating-artists-specifically-for-adding-to-the-legend-aka-proxy-artists\n",
      "/Users/galraz1/opt/miniconda3/envs/stan_env/lib/python3.7/site-packages/ipykernel_launcher.py:60: UserWarning: Legend does not support 'i' instances.\n",
      "A proxy artist may be used instead.\n",
      "See: https://matplotlib.org/users/legend_guide.html#creating-artists-specifically-for-adding-to-the-legend-aka-proxy-artists\n",
      "/Users/galraz1/opt/miniconda3/envs/stan_env/lib/python3.7/site-packages/ipykernel_launcher.py:60: UserWarning: Legend does not support 'o' instances.\n",
      "A proxy artist may be used instead.\n",
      "See: https://matplotlib.org/users/legend_guide.html#creating-artists-specifically-for-adding-to-the-legend-aka-proxy-artists\n",
      "/Users/galraz1/opt/miniconda3/envs/stan_env/lib/python3.7/site-packages/ipykernel_launcher.py:67: UserWarning: Legend does not support 'p' instances.\n",
      "A proxy artist may be used instead.\n",
      "See: https://matplotlib.org/users/legend_guide.html#creating-artists-specifically-for-adding-to-the-legend-aka-proxy-artists\n",
      "/Users/galraz1/opt/miniconda3/envs/stan_env/lib/python3.7/site-packages/ipykernel_launcher.py:67: UserWarning: Legend does not support 'r' instances.\n",
      "A proxy artist may be used instead.\n",
      "See: https://matplotlib.org/users/legend_guide.html#creating-artists-specifically-for-adding-to-the-legend-aka-proxy-artists\n",
      "/Users/galraz1/opt/miniconda3/envs/stan_env/lib/python3.7/site-packages/ipykernel_launcher.py:67: UserWarning: Legend does not support 'i' instances.\n",
      "A proxy artist may be used instead.\n",
      "See: https://matplotlib.org/users/legend_guide.html#creating-artists-specifically-for-adding-to-the-legend-aka-proxy-artists\n",
      "/Users/galraz1/opt/miniconda3/envs/stan_env/lib/python3.7/site-packages/ipykernel_launcher.py:67: UserWarning: Legend does not support 'o' instances.\n",
      "A proxy artist may be used instead.\n",
      "See: https://matplotlib.org/users/legend_guide.html#creating-artists-specifically-for-adding-to-the-legend-aka-proxy-artists\n"
     ]
    },
    {
     "name": "stdout",
     "output_type": "stream",
     "text": [
      "KL: 0.008235360991879048\n",
      "stimulus:  4\n",
      "sample:  7\n"
     ]
    },
    {
     "name": "stderr",
     "output_type": "stream",
     "text": [
      "WARNING:pystan:350 of 16000 iterations ended with a divergence (2.19 %).\n",
      "WARNING:pystan:Try running with adapt_delta larger than 0.95 to remove the divergences.\n"
     ]
    },
    {
     "name": "stdout",
     "output_type": "stream",
     "text": [
      "\n",
      "Gradient evaluation took 2.3e-05 seconds\n",
      "1000 transitions using 10 leapfrog steps per transition would take 0.23 seconds.\n",
      "Adjust your expectations accordingly!\n",
      "\n",
      "\n",
      "Iteration:     1 / 20000 [  0%]  (Warmup)\n",
      "Iteration:  2000 / 20000 [ 10%]  (Warmup)\n",
      "Iteration:  4000 / 20000 [ 20%]  (Warmup)\n",
      "Iteration:  4001 / 20000 [ 20%]  (Sampling)\n",
      "Iteration:  6000 / 20000 [ 30%]  (Sampling)\n",
      "Iteration:  8000 / 20000 [ 40%]  (Sampling)\n",
      "Iteration: 10000 / 20000 [ 50%]  (Sampling)\n",
      "Iteration: 12000 / 20000 [ 60%]  (Sampling)\n",
      "Iteration: 14000 / 20000 [ 70%]  (Sampling)\n",
      "Iteration: 16000 / 20000 [ 80%]  (Sampling)\n",
      "Iteration: 18000 / 20000 [ 90%]  (Sampling)\n",
      "Iteration: 20000 / 20000 [100%]  (Sampling)\n",
      "\n",
      " Elapsed Time: 0.784803 seconds (Warm-up)\n",
      "               0.565337 seconds (Sampling)\n",
      "               1.35014 seconds (Total)\n",
      "\n"
     ]
    },
    {
     "name": "stderr",
     "output_type": "stream",
     "text": [
      "/Users/galraz1/opt/miniconda3/envs/stan_env/lib/python3.7/site-packages/ipykernel_launcher.py:60: UserWarning: Legend does not support 'p' instances.\n",
      "A proxy artist may be used instead.\n",
      "See: https://matplotlib.org/users/legend_guide.html#creating-artists-specifically-for-adding-to-the-legend-aka-proxy-artists\n",
      "/Users/galraz1/opt/miniconda3/envs/stan_env/lib/python3.7/site-packages/ipykernel_launcher.py:60: UserWarning: Legend does not support 'r' instances.\n",
      "A proxy artist may be used instead.\n",
      "See: https://matplotlib.org/users/legend_guide.html#creating-artists-specifically-for-adding-to-the-legend-aka-proxy-artists\n",
      "/Users/galraz1/opt/miniconda3/envs/stan_env/lib/python3.7/site-packages/ipykernel_launcher.py:60: UserWarning: Legend does not support 'i' instances.\n",
      "A proxy artist may be used instead.\n",
      "See: https://matplotlib.org/users/legend_guide.html#creating-artists-specifically-for-adding-to-the-legend-aka-proxy-artists\n",
      "/Users/galraz1/opt/miniconda3/envs/stan_env/lib/python3.7/site-packages/ipykernel_launcher.py:60: UserWarning: Legend does not support 'o' instances.\n",
      "A proxy artist may be used instead.\n",
      "See: https://matplotlib.org/users/legend_guide.html#creating-artists-specifically-for-adding-to-the-legend-aka-proxy-artists\n",
      "/Users/galraz1/opt/miniconda3/envs/stan_env/lib/python3.7/site-packages/ipykernel_launcher.py:67: UserWarning: Legend does not support 'p' instances.\n",
      "A proxy artist may be used instead.\n",
      "See: https://matplotlib.org/users/legend_guide.html#creating-artists-specifically-for-adding-to-the-legend-aka-proxy-artists\n",
      "/Users/galraz1/opt/miniconda3/envs/stan_env/lib/python3.7/site-packages/ipykernel_launcher.py:67: UserWarning: Legend does not support 'r' instances.\n",
      "A proxy artist may be used instead.\n",
      "See: https://matplotlib.org/users/legend_guide.html#creating-artists-specifically-for-adding-to-the-legend-aka-proxy-artists\n",
      "/Users/galraz1/opt/miniconda3/envs/stan_env/lib/python3.7/site-packages/ipykernel_launcher.py:67: UserWarning: Legend does not support 'i' instances.\n",
      "A proxy artist may be used instead.\n",
      "See: https://matplotlib.org/users/legend_guide.html#creating-artists-specifically-for-adding-to-the-legend-aka-proxy-artists\n",
      "/Users/galraz1/opt/miniconda3/envs/stan_env/lib/python3.7/site-packages/ipykernel_launcher.py:67: UserWarning: Legend does not support 'o' instances.\n",
      "A proxy artist may be used instead.\n",
      "See: https://matplotlib.org/users/legend_guide.html#creating-artists-specifically-for-adding-to-the-legend-aka-proxy-artists\n"
     ]
    },
    {
     "name": "stdout",
     "output_type": "stream",
     "text": [
      "KL: 0.1293521693905058\n",
      "stimulus:  4\n",
      "sample:  8\n"
     ]
    },
    {
     "name": "stderr",
     "output_type": "stream",
     "text": [
      "WARNING:pystan:374 of 16000 iterations ended with a divergence (2.34 %).\n",
      "WARNING:pystan:Try running with adapt_delta larger than 0.95 to remove the divergences.\n"
     ]
    },
    {
     "name": "stdout",
     "output_type": "stream",
     "text": [
      "\n",
      "Gradient evaluation took 3.5e-05 seconds\n",
      "1000 transitions using 10 leapfrog steps per transition would take 0.35 seconds.\n",
      "Adjust your expectations accordingly!\n",
      "\n",
      "\n",
      "Iteration:     1 / 20000 [  0%]  (Warmup)\n",
      "Iteration:  2000 / 20000 [ 10%]  (Warmup)\n",
      "Iteration:  4000 / 20000 [ 20%]  (Warmup)\n",
      "Iteration:  4001 / 20000 [ 20%]  (Sampling)\n",
      "Iteration:  6000 / 20000 [ 30%]  (Sampling)\n",
      "Iteration:  8000 / 20000 [ 40%]  (Sampling)\n",
      "Iteration: 10000 / 20000 [ 50%]  (Sampling)\n",
      "Iteration: 12000 / 20000 [ 60%]  (Sampling)\n",
      "Iteration: 14000 / 20000 [ 70%]  (Sampling)\n",
      "Iteration: 16000 / 20000 [ 80%]  (Sampling)\n",
      "Iteration: 18000 / 20000 [ 90%]  (Sampling)\n",
      "Iteration: 20000 / 20000 [100%]  (Sampling)\n",
      "\n",
      " Elapsed Time: 0.786185 seconds (Warm-up)\n",
      "               0.662295 seconds (Sampling)\n",
      "               1.44848 seconds (Total)\n",
      "\n"
     ]
    },
    {
     "name": "stderr",
     "output_type": "stream",
     "text": [
      "/Users/galraz1/opt/miniconda3/envs/stan_env/lib/python3.7/site-packages/ipykernel_launcher.py:60: UserWarning: Legend does not support 'p' instances.\n",
      "A proxy artist may be used instead.\n",
      "See: https://matplotlib.org/users/legend_guide.html#creating-artists-specifically-for-adding-to-the-legend-aka-proxy-artists\n",
      "/Users/galraz1/opt/miniconda3/envs/stan_env/lib/python3.7/site-packages/ipykernel_launcher.py:60: UserWarning: Legend does not support 'r' instances.\n",
      "A proxy artist may be used instead.\n",
      "See: https://matplotlib.org/users/legend_guide.html#creating-artists-specifically-for-adding-to-the-legend-aka-proxy-artists\n",
      "/Users/galraz1/opt/miniconda3/envs/stan_env/lib/python3.7/site-packages/ipykernel_launcher.py:60: UserWarning: Legend does not support 'i' instances.\n",
      "A proxy artist may be used instead.\n",
      "See: https://matplotlib.org/users/legend_guide.html#creating-artists-specifically-for-adding-to-the-legend-aka-proxy-artists\n",
      "/Users/galraz1/opt/miniconda3/envs/stan_env/lib/python3.7/site-packages/ipykernel_launcher.py:60: UserWarning: Legend does not support 'o' instances.\n",
      "A proxy artist may be used instead.\n",
      "See: https://matplotlib.org/users/legend_guide.html#creating-artists-specifically-for-adding-to-the-legend-aka-proxy-artists\n",
      "/Users/galraz1/opt/miniconda3/envs/stan_env/lib/python3.7/site-packages/ipykernel_launcher.py:67: UserWarning: Legend does not support 'p' instances.\n",
      "A proxy artist may be used instead.\n",
      "See: https://matplotlib.org/users/legend_guide.html#creating-artists-specifically-for-adding-to-the-legend-aka-proxy-artists\n",
      "/Users/galraz1/opt/miniconda3/envs/stan_env/lib/python3.7/site-packages/ipykernel_launcher.py:67: UserWarning: Legend does not support 'r' instances.\n",
      "A proxy artist may be used instead.\n",
      "See: https://matplotlib.org/users/legend_guide.html#creating-artists-specifically-for-adding-to-the-legend-aka-proxy-artists\n",
      "/Users/galraz1/opt/miniconda3/envs/stan_env/lib/python3.7/site-packages/ipykernel_launcher.py:67: UserWarning: Legend does not support 'i' instances.\n",
      "A proxy artist may be used instead.\n",
      "See: https://matplotlib.org/users/legend_guide.html#creating-artists-specifically-for-adding-to-the-legend-aka-proxy-artists\n",
      "/Users/galraz1/opt/miniconda3/envs/stan_env/lib/python3.7/site-packages/ipykernel_launcher.py:67: UserWarning: Legend does not support 'o' instances.\n",
      "A proxy artist may be used instead.\n",
      "See: https://matplotlib.org/users/legend_guide.html#creating-artists-specifically-for-adding-to-the-legend-aka-proxy-artists\n",
      "WARNING:pystan:918 of 16000 iterations ended with a divergence (5.74 %).\n",
      "WARNING:pystan:Try running with adapt_delta larger than 0.95 to remove the divergences.\n"
     ]
    },
    {
     "name": "stdout",
     "output_type": "stream",
     "text": [
      "KL: 0.010131136011333003\n",
      "stimulus:  4\n",
      "sample:  9\n",
      "\n",
      "Gradient evaluation took 3.3e-05 seconds\n",
      "1000 transitions using 10 leapfrog steps per transition would take 0.33 seconds.\n",
      "Adjust your expectations accordingly!\n",
      "\n",
      "\n",
      "Iteration:     1 / 20000 [  0%]  (Warmup)\n",
      "Iteration:  2000 / 20000 [ 10%]  (Warmup)\n",
      "Iteration:  4000 / 20000 [ 20%]  (Warmup)\n",
      "Iteration:  4001 / 20000 [ 20%]  (Sampling)\n",
      "Iteration:  6000 / 20000 [ 30%]  (Sampling)\n",
      "Iteration:  8000 / 20000 [ 40%]  (Sampling)\n",
      "Iteration: 10000 / 20000 [ 50%]  (Sampling)\n",
      "Iteration: 12000 / 20000 [ 60%]  (Sampling)\n",
      "Iteration: 14000 / 20000 [ 70%]  (Sampling)\n",
      "Iteration: 16000 / 20000 [ 80%]  (Sampling)\n",
      "Iteration: 18000 / 20000 [ 90%]  (Sampling)\n",
      "Iteration: 20000 / 20000 [100%]  (Sampling)\n",
      "\n",
      " Elapsed Time: 0.794674 seconds (Warm-up)\n",
      "               0.644727 seconds (Sampling)\n",
      "               1.4394 seconds (Total)\n",
      "\n"
     ]
    },
    {
     "name": "stderr",
     "output_type": "stream",
     "text": [
      "/Users/galraz1/opt/miniconda3/envs/stan_env/lib/python3.7/site-packages/ipykernel_launcher.py:60: UserWarning: Legend does not support 'p' instances.\n",
      "A proxy artist may be used instead.\n",
      "See: https://matplotlib.org/users/legend_guide.html#creating-artists-specifically-for-adding-to-the-legend-aka-proxy-artists\n",
      "/Users/galraz1/opt/miniconda3/envs/stan_env/lib/python3.7/site-packages/ipykernel_launcher.py:60: UserWarning: Legend does not support 'r' instances.\n",
      "A proxy artist may be used instead.\n",
      "See: https://matplotlib.org/users/legend_guide.html#creating-artists-specifically-for-adding-to-the-legend-aka-proxy-artists\n",
      "/Users/galraz1/opt/miniconda3/envs/stan_env/lib/python3.7/site-packages/ipykernel_launcher.py:60: UserWarning: Legend does not support 'i' instances.\n",
      "A proxy artist may be used instead.\n",
      "See: https://matplotlib.org/users/legend_guide.html#creating-artists-specifically-for-adding-to-the-legend-aka-proxy-artists\n",
      "/Users/galraz1/opt/miniconda3/envs/stan_env/lib/python3.7/site-packages/ipykernel_launcher.py:60: UserWarning: Legend does not support 'o' instances.\n",
      "A proxy artist may be used instead.\n",
      "See: https://matplotlib.org/users/legend_guide.html#creating-artists-specifically-for-adding-to-the-legend-aka-proxy-artists\n",
      "/Users/galraz1/opt/miniconda3/envs/stan_env/lib/python3.7/site-packages/ipykernel_launcher.py:67: UserWarning: Legend does not support 'p' instances.\n",
      "A proxy artist may be used instead.\n",
      "See: https://matplotlib.org/users/legend_guide.html#creating-artists-specifically-for-adding-to-the-legend-aka-proxy-artists\n",
      "/Users/galraz1/opt/miniconda3/envs/stan_env/lib/python3.7/site-packages/ipykernel_launcher.py:67: UserWarning: Legend does not support 'r' instances.\n",
      "A proxy artist may be used instead.\n",
      "See: https://matplotlib.org/users/legend_guide.html#creating-artists-specifically-for-adding-to-the-legend-aka-proxy-artists\n",
      "/Users/galraz1/opt/miniconda3/envs/stan_env/lib/python3.7/site-packages/ipykernel_launcher.py:67: UserWarning: Legend does not support 'i' instances.\n",
      "A proxy artist may be used instead.\n",
      "See: https://matplotlib.org/users/legend_guide.html#creating-artists-specifically-for-adding-to-the-legend-aka-proxy-artists\n",
      "/Users/galraz1/opt/miniconda3/envs/stan_env/lib/python3.7/site-packages/ipykernel_launcher.py:67: UserWarning: Legend does not support 'o' instances.\n",
      "A proxy artist may be used instead.\n",
      "See: https://matplotlib.org/users/legend_guide.html#creating-artists-specifically-for-adding-to-the-legend-aka-proxy-artists\n"
     ]
    },
    {
     "name": "stdout",
     "output_type": "stream",
     "text": [
      "KL: 0.05925554617581419\n",
      "stimulus:  4\n",
      "sample:  10\n"
     ]
    },
    {
     "name": "stderr",
     "output_type": "stream",
     "text": [
      "WARNING:pystan:53 of 16000 iterations ended with a divergence (0.331 %).\n",
      "WARNING:pystan:Try running with adapt_delta larger than 0.95 to remove the divergences.\n"
     ]
    },
    {
     "name": "stdout",
     "output_type": "stream",
     "text": [
      "\n",
      "Gradient evaluation took 2.4e-05 seconds\n",
      "1000 transitions using 10 leapfrog steps per transition would take 0.24 seconds.\n",
      "Adjust your expectations accordingly!\n",
      "\n",
      "\n",
      "Iteration:     1 / 20000 [  0%]  (Warmup)\n",
      "Iteration:  2000 / 20000 [ 10%]  (Warmup)\n",
      "Iteration:  4000 / 20000 [ 20%]  (Warmup)\n",
      "Iteration:  4001 / 20000 [ 20%]  (Sampling)\n",
      "Iteration:  6000 / 20000 [ 30%]  (Sampling)\n",
      "Iteration:  8000 / 20000 [ 40%]  (Sampling)\n",
      "Iteration: 10000 / 20000 [ 50%]  (Sampling)\n",
      "Iteration: 12000 / 20000 [ 60%]  (Sampling)\n",
      "Iteration: 14000 / 20000 [ 70%]  (Sampling)\n",
      "Iteration: 16000 / 20000 [ 80%]  (Sampling)\n",
      "Iteration: 18000 / 20000 [ 90%]  (Sampling)\n",
      "Iteration: 20000 / 20000 [100%]  (Sampling)\n",
      "\n",
      " Elapsed Time: 0.817617 seconds (Warm-up)\n",
      "               1.43366 seconds (Sampling)\n",
      "               2.25127 seconds (Total)\n",
      "\n"
     ]
    },
    {
     "name": "stderr",
     "output_type": "stream",
     "text": [
      "/Users/galraz1/opt/miniconda3/envs/stan_env/lib/python3.7/site-packages/ipykernel_launcher.py:60: UserWarning: Legend does not support 'p' instances.\n",
      "A proxy artist may be used instead.\n",
      "See: https://matplotlib.org/users/legend_guide.html#creating-artists-specifically-for-adding-to-the-legend-aka-proxy-artists\n",
      "/Users/galraz1/opt/miniconda3/envs/stan_env/lib/python3.7/site-packages/ipykernel_launcher.py:60: UserWarning: Legend does not support 'r' instances.\n",
      "A proxy artist may be used instead.\n",
      "See: https://matplotlib.org/users/legend_guide.html#creating-artists-specifically-for-adding-to-the-legend-aka-proxy-artists\n",
      "/Users/galraz1/opt/miniconda3/envs/stan_env/lib/python3.7/site-packages/ipykernel_launcher.py:60: UserWarning: Legend does not support 'i' instances.\n",
      "A proxy artist may be used instead.\n",
      "See: https://matplotlib.org/users/legend_guide.html#creating-artists-specifically-for-adding-to-the-legend-aka-proxy-artists\n",
      "/Users/galraz1/opt/miniconda3/envs/stan_env/lib/python3.7/site-packages/ipykernel_launcher.py:60: UserWarning: Legend does not support 'o' instances.\n",
      "A proxy artist may be used instead.\n",
      "See: https://matplotlib.org/users/legend_guide.html#creating-artists-specifically-for-adding-to-the-legend-aka-proxy-artists\n",
      "/Users/galraz1/opt/miniconda3/envs/stan_env/lib/python3.7/site-packages/ipykernel_launcher.py:67: UserWarning: Legend does not support 'p' instances.\n",
      "A proxy artist may be used instead.\n",
      "See: https://matplotlib.org/users/legend_guide.html#creating-artists-specifically-for-adding-to-the-legend-aka-proxy-artists\n",
      "/Users/galraz1/opt/miniconda3/envs/stan_env/lib/python3.7/site-packages/ipykernel_launcher.py:67: UserWarning: Legend does not support 'r' instances.\n",
      "A proxy artist may be used instead.\n",
      "See: https://matplotlib.org/users/legend_guide.html#creating-artists-specifically-for-adding-to-the-legend-aka-proxy-artists\n",
      "/Users/galraz1/opt/miniconda3/envs/stan_env/lib/python3.7/site-packages/ipykernel_launcher.py:67: UserWarning: Legend does not support 'i' instances.\n",
      "A proxy artist may be used instead.\n",
      "See: https://matplotlib.org/users/legend_guide.html#creating-artists-specifically-for-adding-to-the-legend-aka-proxy-artists\n",
      "/Users/galraz1/opt/miniconda3/envs/stan_env/lib/python3.7/site-packages/ipykernel_launcher.py:67: UserWarning: Legend does not support 'o' instances.\n",
      "A proxy artist may be used instead.\n",
      "See: https://matplotlib.org/users/legend_guide.html#creating-artists-specifically-for-adding-to-the-legend-aka-proxy-artists\n"
     ]
    },
    {
     "name": "stdout",
     "output_type": "stream",
     "text": [
      "KL: 0.02335808107562748\n",
      "stimulus:  4\n",
      "sample:  11\n",
      "\n"
     ]
    },
    {
     "name": "stderr",
     "output_type": "stream",
     "text": [
      "WARNING:pystan:151 of 16000 iterations ended with a divergence (0.944 %).\n",
      "WARNING:pystan:Try running with adapt_delta larger than 0.95 to remove the divergences.\n"
     ]
    },
    {
     "name": "stdout",
     "output_type": "stream",
     "text": [
      "Gradient evaluation took 3.5e-05 seconds\n",
      "1000 transitions using 10 leapfrog steps per transition would take 0.35 seconds.\n",
      "Adjust your expectations accordingly!\n",
      "\n",
      "\n",
      "Iteration:     1 / 20000 [  0%]  (Warmup)\n",
      "Iteration:  2000 / 20000 [ 10%]  (Warmup)\n",
      "Iteration:  4000 / 20000 [ 20%]  (Warmup)\n",
      "Iteration:  4001 / 20000 [ 20%]  (Sampling)\n",
      "Iteration:  6000 / 20000 [ 30%]  (Sampling)\n",
      "Iteration:  8000 / 20000 [ 40%]  (Sampling)\n",
      "Iteration: 10000 / 20000 [ 50%]  (Sampling)\n",
      "Iteration: 12000 / 20000 [ 60%]  (Sampling)\n",
      "Iteration: 14000 / 20000 [ 70%]  (Sampling)\n",
      "Iteration: 16000 / 20000 [ 80%]  (Sampling)\n",
      "Iteration: 18000 / 20000 [ 90%]  (Sampling)\n",
      "Iteration: 20000 / 20000 [100%]  (Sampling)\n",
      "\n",
      " Elapsed Time: 0.808656 seconds (Warm-up)\n",
      "               1.22514 seconds (Sampling)\n",
      "               2.03379 seconds (Total)\n",
      "\n"
     ]
    },
    {
     "name": "stderr",
     "output_type": "stream",
     "text": [
      "/Users/galraz1/opt/miniconda3/envs/stan_env/lib/python3.7/site-packages/ipykernel_launcher.py:60: UserWarning: Legend does not support 'p' instances.\n",
      "A proxy artist may be used instead.\n",
      "See: https://matplotlib.org/users/legend_guide.html#creating-artists-specifically-for-adding-to-the-legend-aka-proxy-artists\n",
      "/Users/galraz1/opt/miniconda3/envs/stan_env/lib/python3.7/site-packages/ipykernel_launcher.py:60: UserWarning: Legend does not support 'r' instances.\n",
      "A proxy artist may be used instead.\n",
      "See: https://matplotlib.org/users/legend_guide.html#creating-artists-specifically-for-adding-to-the-legend-aka-proxy-artists\n",
      "/Users/galraz1/opt/miniconda3/envs/stan_env/lib/python3.7/site-packages/ipykernel_launcher.py:60: UserWarning: Legend does not support 'i' instances.\n",
      "A proxy artist may be used instead.\n",
      "See: https://matplotlib.org/users/legend_guide.html#creating-artists-specifically-for-adding-to-the-legend-aka-proxy-artists\n",
      "/Users/galraz1/opt/miniconda3/envs/stan_env/lib/python3.7/site-packages/ipykernel_launcher.py:60: UserWarning: Legend does not support 'o' instances.\n",
      "A proxy artist may be used instead.\n",
      "See: https://matplotlib.org/users/legend_guide.html#creating-artists-specifically-for-adding-to-the-legend-aka-proxy-artists\n",
      "/Users/galraz1/opt/miniconda3/envs/stan_env/lib/python3.7/site-packages/ipykernel_launcher.py:67: UserWarning: Legend does not support 'p' instances.\n",
      "A proxy artist may be used instead.\n",
      "See: https://matplotlib.org/users/legend_guide.html#creating-artists-specifically-for-adding-to-the-legend-aka-proxy-artists\n",
      "/Users/galraz1/opt/miniconda3/envs/stan_env/lib/python3.7/site-packages/ipykernel_launcher.py:67: UserWarning: Legend does not support 'r' instances.\n",
      "A proxy artist may be used instead.\n",
      "See: https://matplotlib.org/users/legend_guide.html#creating-artists-specifically-for-adding-to-the-legend-aka-proxy-artists\n",
      "/Users/galraz1/opt/miniconda3/envs/stan_env/lib/python3.7/site-packages/ipykernel_launcher.py:67: UserWarning: Legend does not support 'i' instances.\n",
      "A proxy artist may be used instead.\n",
      "See: https://matplotlib.org/users/legend_guide.html#creating-artists-specifically-for-adding-to-the-legend-aka-proxy-artists\n",
      "/Users/galraz1/opt/miniconda3/envs/stan_env/lib/python3.7/site-packages/ipykernel_launcher.py:67: UserWarning: Legend does not support 'o' instances.\n",
      "A proxy artist may be used instead.\n",
      "See: https://matplotlib.org/users/legend_guide.html#creating-artists-specifically-for-adding-to-the-legend-aka-proxy-artists\n"
     ]
    },
    {
     "name": "stdout",
     "output_type": "stream",
     "text": [
      "KL: 0.0013925247894126525\n",
      "stimulus:  5\n",
      "sample:  12\n",
      "\n"
     ]
    },
    {
     "name": "stderr",
     "output_type": "stream",
     "text": [
      "WARNING:pystan:269 of 16000 iterations ended with a divergence (1.68 %).\n",
      "WARNING:pystan:Try running with adapt_delta larger than 0.95 to remove the divergences.\n",
      "/Users/galraz1/opt/miniconda3/envs/stan_env/lib/python3.7/site-packages/ipykernel_launcher.py:60: UserWarning: Legend does not support 'p' instances.\n",
      "A proxy artist may be used instead.\n",
      "See: https://matplotlib.org/users/legend_guide.html#creating-artists-specifically-for-adding-to-the-legend-aka-proxy-artists\n",
      "/Users/galraz1/opt/miniconda3/envs/stan_env/lib/python3.7/site-packages/ipykernel_launcher.py:60: UserWarning: Legend does not support 'r' instances.\n",
      "A proxy artist may be used instead.\n",
      "See: https://matplotlib.org/users/legend_guide.html#creating-artists-specifically-for-adding-to-the-legend-aka-proxy-artists\n",
      "/Users/galraz1/opt/miniconda3/envs/stan_env/lib/python3.7/site-packages/ipykernel_launcher.py:60: UserWarning: Legend does not support 'i' instances.\n",
      "A proxy artist may be used instead.\n",
      "See: https://matplotlib.org/users/legend_guide.html#creating-artists-specifically-for-adding-to-the-legend-aka-proxy-artists\n",
      "/Users/galraz1/opt/miniconda3/envs/stan_env/lib/python3.7/site-packages/ipykernel_launcher.py:60: UserWarning: Legend does not support 'o' instances.\n",
      "A proxy artist may be used instead.\n",
      "See: https://matplotlib.org/users/legend_guide.html#creating-artists-specifically-for-adding-to-the-legend-aka-proxy-artists\n",
      "/Users/galraz1/opt/miniconda3/envs/stan_env/lib/python3.7/site-packages/ipykernel_launcher.py:67: UserWarning: Legend does not support 'p' instances.\n",
      "A proxy artist may be used instead.\n",
      "See: https://matplotlib.org/users/legend_guide.html#creating-artists-specifically-for-adding-to-the-legend-aka-proxy-artists\n",
      "/Users/galraz1/opt/miniconda3/envs/stan_env/lib/python3.7/site-packages/ipykernel_launcher.py:67: UserWarning: Legend does not support 'r' instances.\n",
      "A proxy artist may be used instead.\n",
      "See: https://matplotlib.org/users/legend_guide.html#creating-artists-specifically-for-adding-to-the-legend-aka-proxy-artists\n",
      "/Users/galraz1/opt/miniconda3/envs/stan_env/lib/python3.7/site-packages/ipykernel_launcher.py:67: UserWarning: Legend does not support 'i' instances.\n",
      "A proxy artist may be used instead.\n",
      "See: https://matplotlib.org/users/legend_guide.html#creating-artists-specifically-for-adding-to-the-legend-aka-proxy-artists\n",
      "/Users/galraz1/opt/miniconda3/envs/stan_env/lib/python3.7/site-packages/ipykernel_launcher.py:67: UserWarning: Legend does not support 'o' instances.\n",
      "A proxy artist may be used instead.\n",
      "See: https://matplotlib.org/users/legend_guide.html#creating-artists-specifically-for-adding-to-the-legend-aka-proxy-artists\n"
     ]
    },
    {
     "name": "stdout",
     "output_type": "stream",
     "text": [
      "Gradient evaluation took 1.1e-05 seconds\n",
      "1000 transitions using 10 leapfrog steps per transition would take 0.11 seconds.\n",
      "Adjust your expectations accordingly!\n",
      "\n",
      "\n",
      "Iteration:     1 / 20000 [  0%]  (Warmup)\n",
      "Iteration:  2000 / 20000 [ 10%]  (Warmup)\n",
      "Iteration:  4000 / 20000 [ 20%]  (Warmup)\n",
      "Iteration:  4001 / 20000 [ 20%]  (Sampling)\n",
      "Iteration:  6000 / 20000 [ 30%]  (Sampling)\n",
      "Iteration:  8000 / 20000 [ 40%]  (Sampling)\n",
      "Iteration: 10000 / 20000 [ 50%]  (Sampling)\n",
      "Iteration: 12000 / 20000 [ 60%]  (Sampling)\n",
      "Iteration: 14000 / 20000 [ 70%]  (Sampling)\n",
      "Iteration: 16000 / 20000 [ 80%]  (Sampling)\n",
      "Iteration: 18000 / 20000 [ 90%]  (Sampling)\n",
      "Iteration: 20000 / 20000 [100%]  (Sampling)\n",
      "\n",
      " Elapsed Time: 0.849268 seconds (Warm-up)\n",
      "               0.906914 seconds (Sampling)\n",
      "               1.75618 seconds (Total)\n",
      "\n",
      "KL: 0.07907984994865436\n",
      "stimulus:  5\n",
      "sample:  13\n",
      "\n"
     ]
    },
    {
     "name": "stderr",
     "output_type": "stream",
     "text": [
      "WARNING:pystan:359 of 16000 iterations ended with a divergence (2.24 %).\n",
      "WARNING:pystan:Try running with adapt_delta larger than 0.95 to remove the divergences.\n"
     ]
    },
    {
     "name": "stdout",
     "output_type": "stream",
     "text": [
      "Gradient evaluation took 5.6e-05 seconds\n",
      "1000 transitions using 10 leapfrog steps per transition would take 0.56 seconds.\n",
      "Adjust your expectations accordingly!\n",
      "\n",
      "\n",
      "Iteration:     1 / 20000 [  0%]  (Warmup)\n",
      "Iteration:  2000 / 20000 [ 10%]  (Warmup)\n",
      "Iteration:  4000 / 20000 [ 20%]  (Warmup)\n",
      "Iteration:  4001 / 20000 [ 20%]  (Sampling)\n",
      "Iteration:  6000 / 20000 [ 30%]  (Sampling)\n",
      "Iteration:  8000 / 20000 [ 40%]  (Sampling)\n",
      "Iteration: 10000 / 20000 [ 50%]  (Sampling)\n",
      "Iteration: 12000 / 20000 [ 60%]  (Sampling)\n",
      "Iteration: 14000 / 20000 [ 70%]  (Sampling)\n",
      "Iteration: 16000 / 20000 [ 80%]  (Sampling)\n",
      "Iteration: 18000 / 20000 [ 90%]  (Sampling)\n",
      "Iteration: 20000 / 20000 [100%]  (Sampling)\n",
      "\n",
      " Elapsed Time: 0.837753 seconds (Warm-up)\n",
      "               0.764762 seconds (Sampling)\n",
      "               1.60251 seconds (Total)\n",
      "\n"
     ]
    },
    {
     "name": "stderr",
     "output_type": "stream",
     "text": [
      "/Users/galraz1/opt/miniconda3/envs/stan_env/lib/python3.7/site-packages/ipykernel_launcher.py:60: UserWarning: Legend does not support 'p' instances.\n",
      "A proxy artist may be used instead.\n",
      "See: https://matplotlib.org/users/legend_guide.html#creating-artists-specifically-for-adding-to-the-legend-aka-proxy-artists\n",
      "/Users/galraz1/opt/miniconda3/envs/stan_env/lib/python3.7/site-packages/ipykernel_launcher.py:60: UserWarning: Legend does not support 'r' instances.\n",
      "A proxy artist may be used instead.\n",
      "See: https://matplotlib.org/users/legend_guide.html#creating-artists-specifically-for-adding-to-the-legend-aka-proxy-artists\n",
      "/Users/galraz1/opt/miniconda3/envs/stan_env/lib/python3.7/site-packages/ipykernel_launcher.py:60: UserWarning: Legend does not support 'i' instances.\n",
      "A proxy artist may be used instead.\n",
      "See: https://matplotlib.org/users/legend_guide.html#creating-artists-specifically-for-adding-to-the-legend-aka-proxy-artists\n",
      "/Users/galraz1/opt/miniconda3/envs/stan_env/lib/python3.7/site-packages/ipykernel_launcher.py:60: UserWarning: Legend does not support 'o' instances.\n",
      "A proxy artist may be used instead.\n",
      "See: https://matplotlib.org/users/legend_guide.html#creating-artists-specifically-for-adding-to-the-legend-aka-proxy-artists\n",
      "/Users/galraz1/opt/miniconda3/envs/stan_env/lib/python3.7/site-packages/ipykernel_launcher.py:67: UserWarning: Legend does not support 'p' instances.\n",
      "A proxy artist may be used instead.\n",
      "See: https://matplotlib.org/users/legend_guide.html#creating-artists-specifically-for-adding-to-the-legend-aka-proxy-artists\n",
      "/Users/galraz1/opt/miniconda3/envs/stan_env/lib/python3.7/site-packages/ipykernel_launcher.py:67: UserWarning: Legend does not support 'r' instances.\n",
      "A proxy artist may be used instead.\n",
      "See: https://matplotlib.org/users/legend_guide.html#creating-artists-specifically-for-adding-to-the-legend-aka-proxy-artists\n",
      "/Users/galraz1/opt/miniconda3/envs/stan_env/lib/python3.7/site-packages/ipykernel_launcher.py:67: UserWarning: Legend does not support 'i' instances.\n",
      "A proxy artist may be used instead.\n",
      "See: https://matplotlib.org/users/legend_guide.html#creating-artists-specifically-for-adding-to-the-legend-aka-proxy-artists\n",
      "/Users/galraz1/opt/miniconda3/envs/stan_env/lib/python3.7/site-packages/ipykernel_launcher.py:67: UserWarning: Legend does not support 'o' instances.\n",
      "A proxy artist may be used instead.\n",
      "See: https://matplotlib.org/users/legend_guide.html#creating-artists-specifically-for-adding-to-the-legend-aka-proxy-artists\n"
     ]
    },
    {
     "name": "stdout",
     "output_type": "stream",
     "text": [
      "KL: 0.01925982637621404\n",
      "stimulus:  5\n",
      "sample:  14\n",
      "\n",
      "Gradient evaluation took 4.5e-05 seconds\n"
     ]
    },
    {
     "name": "stderr",
     "output_type": "stream",
     "text": [
      "WARNING:pystan:58 of 16000 iterations ended with a divergence (0.362 %).\n",
      "WARNING:pystan:Try running with adapt_delta larger than 0.95 to remove the divergences.\n"
     ]
    },
    {
     "name": "stdout",
     "output_type": "stream",
     "text": [
      "1000 transitions using 10 leapfrog steps per transition would take 0.45 seconds.\n",
      "Adjust your expectations accordingly!\n",
      "\n",
      "\n",
      "Iteration:     1 / 20000 [  0%]  (Warmup)\n",
      "Iteration:  2000 / 20000 [ 10%]  (Warmup)\n",
      "Iteration:  4000 / 20000 [ 20%]  (Warmup)\n",
      "Iteration:  4001 / 20000 [ 20%]  (Sampling)\n",
      "Iteration:  6000 / 20000 [ 30%]  (Sampling)\n",
      "Iteration:  8000 / 20000 [ 40%]  (Sampling)\n",
      "Iteration: 10000 / 20000 [ 50%]  (Sampling)\n",
      "Iteration: 12000 / 20000 [ 60%]  (Sampling)\n",
      "Iteration: 14000 / 20000 [ 70%]  (Sampling)\n",
      "Iteration: 16000 / 20000 [ 80%]  (Sampling)\n",
      "Iteration: 18000 / 20000 [ 90%]  (Sampling)\n",
      "Iteration: 20000 / 20000 [100%]  (Sampling)\n",
      "\n",
      " Elapsed Time: 0.462913 seconds (Warm-up)\n",
      "               1.45534 seconds (Sampling)\n",
      "               1.91825 seconds (Total)\n",
      "\n"
     ]
    },
    {
     "name": "stderr",
     "output_type": "stream",
     "text": [
      "/Users/galraz1/opt/miniconda3/envs/stan_env/lib/python3.7/site-packages/ipykernel_launcher.py:60: UserWarning: Legend does not support 'p' instances.\n",
      "A proxy artist may be used instead.\n",
      "See: https://matplotlib.org/users/legend_guide.html#creating-artists-specifically-for-adding-to-the-legend-aka-proxy-artists\n",
      "/Users/galraz1/opt/miniconda3/envs/stan_env/lib/python3.7/site-packages/ipykernel_launcher.py:60: UserWarning: Legend does not support 'r' instances.\n",
      "A proxy artist may be used instead.\n",
      "See: https://matplotlib.org/users/legend_guide.html#creating-artists-specifically-for-adding-to-the-legend-aka-proxy-artists\n",
      "/Users/galraz1/opt/miniconda3/envs/stan_env/lib/python3.7/site-packages/ipykernel_launcher.py:60: UserWarning: Legend does not support 'i' instances.\n",
      "A proxy artist may be used instead.\n",
      "See: https://matplotlib.org/users/legend_guide.html#creating-artists-specifically-for-adding-to-the-legend-aka-proxy-artists\n",
      "/Users/galraz1/opt/miniconda3/envs/stan_env/lib/python3.7/site-packages/ipykernel_launcher.py:60: UserWarning: Legend does not support 'o' instances.\n",
      "A proxy artist may be used instead.\n",
      "See: https://matplotlib.org/users/legend_guide.html#creating-artists-specifically-for-adding-to-the-legend-aka-proxy-artists\n",
      "/Users/galraz1/opt/miniconda3/envs/stan_env/lib/python3.7/site-packages/ipykernel_launcher.py:67: UserWarning: Legend does not support 'p' instances.\n",
      "A proxy artist may be used instead.\n",
      "See: https://matplotlib.org/users/legend_guide.html#creating-artists-specifically-for-adding-to-the-legend-aka-proxy-artists\n",
      "/Users/galraz1/opt/miniconda3/envs/stan_env/lib/python3.7/site-packages/ipykernel_launcher.py:67: UserWarning: Legend does not support 'r' instances.\n",
      "A proxy artist may be used instead.\n",
      "See: https://matplotlib.org/users/legend_guide.html#creating-artists-specifically-for-adding-to-the-legend-aka-proxy-artists\n",
      "/Users/galraz1/opt/miniconda3/envs/stan_env/lib/python3.7/site-packages/ipykernel_launcher.py:67: UserWarning: Legend does not support 'i' instances.\n",
      "A proxy artist may be used instead.\n",
      "See: https://matplotlib.org/users/legend_guide.html#creating-artists-specifically-for-adding-to-the-legend-aka-proxy-artists\n",
      "/Users/galraz1/opt/miniconda3/envs/stan_env/lib/python3.7/site-packages/ipykernel_launcher.py:67: UserWarning: Legend does not support 'o' instances.\n",
      "A proxy artist may be used instead.\n",
      "See: https://matplotlib.org/users/legend_guide.html#creating-artists-specifically-for-adding-to-the-legend-aka-proxy-artists\n",
      "WARNING:pystan:3 of 16000 iterations ended with a divergence (0.0187 %).\n",
      "WARNING:pystan:Try running with adapt_delta larger than 0.95 to remove the divergences.\n"
     ]
    },
    {
     "name": "stdout",
     "output_type": "stream",
     "text": [
      "KL: 0.007134173819460465\n",
      "stimulus:  6\n",
      "sample:  15\n",
      "\n",
      "Gradient evaluation took 1.7e-05 seconds\n",
      "1000 transitions using 10 leapfrog steps per transition would take 0.17 seconds.\n",
      "Adjust your expectations accordingly!\n",
      "\n",
      "\n",
      "Iteration:     1 / 20000 [  0%]  (Warmup)\n",
      "Iteration:  2000 / 20000 [ 10%]  (Warmup)\n",
      "Iteration:  4000 / 20000 [ 20%]  (Warmup)\n",
      "Iteration:  4001 / 20000 [ 20%]  (Sampling)\n",
      "Iteration:  6000 / 20000 [ 30%]  (Sampling)\n",
      "Iteration:  8000 / 20000 [ 40%]  (Sampling)\n",
      "Iteration: 10000 / 20000 [ 50%]  (Sampling)\n",
      "Iteration: 12000 / 20000 [ 60%]  (Sampling)\n",
      "Iteration: 14000 / 20000 [ 70%]  (Sampling)\n",
      "Iteration: 16000 / 20000 [ 80%]  (Sampling)\n",
      "Iteration: 18000 / 20000 [ 90%]  (Sampling)\n",
      "Iteration: 20000 / 20000 [100%]  (Sampling)\n",
      "\n",
      " Elapsed Time: 0.588164 seconds (Warm-up)\n",
      "               0.838263 seconds (Sampling)\n",
      "               1.42643 seconds (Total)\n",
      "\n"
     ]
    },
    {
     "name": "stderr",
     "output_type": "stream",
     "text": [
      "/Users/galraz1/opt/miniconda3/envs/stan_env/lib/python3.7/site-packages/ipykernel_launcher.py:60: UserWarning: Legend does not support 'p' instances.\n",
      "A proxy artist may be used instead.\n",
      "See: https://matplotlib.org/users/legend_guide.html#creating-artists-specifically-for-adding-to-the-legend-aka-proxy-artists\n",
      "/Users/galraz1/opt/miniconda3/envs/stan_env/lib/python3.7/site-packages/ipykernel_launcher.py:60: UserWarning: Legend does not support 'r' instances.\n",
      "A proxy artist may be used instead.\n",
      "See: https://matplotlib.org/users/legend_guide.html#creating-artists-specifically-for-adding-to-the-legend-aka-proxy-artists\n",
      "/Users/galraz1/opt/miniconda3/envs/stan_env/lib/python3.7/site-packages/ipykernel_launcher.py:60: UserWarning: Legend does not support 'i' instances.\n",
      "A proxy artist may be used instead.\n",
      "See: https://matplotlib.org/users/legend_guide.html#creating-artists-specifically-for-adding-to-the-legend-aka-proxy-artists\n",
      "/Users/galraz1/opt/miniconda3/envs/stan_env/lib/python3.7/site-packages/ipykernel_launcher.py:60: UserWarning: Legend does not support 'o' instances.\n",
      "A proxy artist may be used instead.\n",
      "See: https://matplotlib.org/users/legend_guide.html#creating-artists-specifically-for-adding-to-the-legend-aka-proxy-artists\n",
      "/Users/galraz1/opt/miniconda3/envs/stan_env/lib/python3.7/site-packages/ipykernel_launcher.py:67: UserWarning: Legend does not support 'p' instances.\n",
      "A proxy artist may be used instead.\n",
      "See: https://matplotlib.org/users/legend_guide.html#creating-artists-specifically-for-adding-to-the-legend-aka-proxy-artists\n",
      "/Users/galraz1/opt/miniconda3/envs/stan_env/lib/python3.7/site-packages/ipykernel_launcher.py:67: UserWarning: Legend does not support 'r' instances.\n",
      "A proxy artist may be used instead.\n",
      "See: https://matplotlib.org/users/legend_guide.html#creating-artists-specifically-for-adding-to-the-legend-aka-proxy-artists\n",
      "/Users/galraz1/opt/miniconda3/envs/stan_env/lib/python3.7/site-packages/ipykernel_launcher.py:67: UserWarning: Legend does not support 'i' instances.\n",
      "A proxy artist may be used instead.\n",
      "See: https://matplotlib.org/users/legend_guide.html#creating-artists-specifically-for-adding-to-the-legend-aka-proxy-artists\n",
      "/Users/galraz1/opt/miniconda3/envs/stan_env/lib/python3.7/site-packages/ipykernel_launcher.py:67: UserWarning: Legend does not support 'o' instances.\n",
      "A proxy artist may be used instead.\n",
      "See: https://matplotlib.org/users/legend_guide.html#creating-artists-specifically-for-adding-to-the-legend-aka-proxy-artists\n"
     ]
    },
    {
     "name": "stdout",
     "output_type": "stream",
     "text": [
      "KL: 3.2258547241058912\n",
      "stimulus:  6\n",
      "sample:  16\n",
      "\n",
      "Gradient evaluation took 2.5e-05 seconds\n",
      "1000 transitions using 10 leapfrog steps per transition would take 0.25 seconds.\n",
      "Adjust your expectations accordingly!\n",
      "\n",
      "\n",
      "Iteration:     1 / 20000 [  0%]  (Warmup)\n",
      "Iteration:  2000 / 20000 [ 10%]  (Warmup)\n",
      "Iteration:  4000 / 20000 [ 20%]  (Warmup)\n",
      "Iteration:  4001 / 20000 [ 20%]  (Sampling)\n",
      "Iteration:  6000 / 20000 [ 30%]  (Sampling)\n",
      "Iteration:  8000 / 20000 [ 40%]  (Sampling)\n",
      "Iteration: 10000 / 20000 [ 50%]  (Sampling)\n",
      "Iteration: 12000 / 20000 [ 60%]  (Sampling)\n",
      "Iteration: 14000 / 20000 [ 70%]  (Sampling)\n",
      "Iteration: 16000 / 20000 [ 80%]  (Sampling)\n",
      "Iteration: 18000 / 20000 [ 90%]  (Sampling)\n",
      "Iteration: 20000 / 20000 [100%]  (Sampling)\n",
      "\n",
      " Elapsed Time: 0.603507 seconds (Warm-up)\n",
      "               0.781052 seconds (Sampling)\n",
      "               1.38456 seconds (Total)\n",
      "\n"
     ]
    },
    {
     "name": "stderr",
     "output_type": "stream",
     "text": [
      "/Users/galraz1/opt/miniconda3/envs/stan_env/lib/python3.7/site-packages/ipykernel_launcher.py:60: UserWarning: Legend does not support 'p' instances.\n",
      "A proxy artist may be used instead.\n",
      "See: https://matplotlib.org/users/legend_guide.html#creating-artists-specifically-for-adding-to-the-legend-aka-proxy-artists\n",
      "/Users/galraz1/opt/miniconda3/envs/stan_env/lib/python3.7/site-packages/ipykernel_launcher.py:60: UserWarning: Legend does not support 'r' instances.\n",
      "A proxy artist may be used instead.\n",
      "See: https://matplotlib.org/users/legend_guide.html#creating-artists-specifically-for-adding-to-the-legend-aka-proxy-artists\n",
      "/Users/galraz1/opt/miniconda3/envs/stan_env/lib/python3.7/site-packages/ipykernel_launcher.py:60: UserWarning: Legend does not support 'i' instances.\n",
      "A proxy artist may be used instead.\n",
      "See: https://matplotlib.org/users/legend_guide.html#creating-artists-specifically-for-adding-to-the-legend-aka-proxy-artists\n",
      "/Users/galraz1/opt/miniconda3/envs/stan_env/lib/python3.7/site-packages/ipykernel_launcher.py:60: UserWarning: Legend does not support 'o' instances.\n",
      "A proxy artist may be used instead.\n",
      "See: https://matplotlib.org/users/legend_guide.html#creating-artists-specifically-for-adding-to-the-legend-aka-proxy-artists\n",
      "/Users/galraz1/opt/miniconda3/envs/stan_env/lib/python3.7/site-packages/ipykernel_launcher.py:67: UserWarning: Legend does not support 'p' instances.\n",
      "A proxy artist may be used instead.\n",
      "See: https://matplotlib.org/users/legend_guide.html#creating-artists-specifically-for-adding-to-the-legend-aka-proxy-artists\n",
      "/Users/galraz1/opt/miniconda3/envs/stan_env/lib/python3.7/site-packages/ipykernel_launcher.py:67: UserWarning: Legend does not support 'r' instances.\n",
      "A proxy artist may be used instead.\n",
      "See: https://matplotlib.org/users/legend_guide.html#creating-artists-specifically-for-adding-to-the-legend-aka-proxy-artists\n",
      "/Users/galraz1/opt/miniconda3/envs/stan_env/lib/python3.7/site-packages/ipykernel_launcher.py:67: UserWarning: Legend does not support 'i' instances.\n",
      "A proxy artist may be used instead.\n",
      "See: https://matplotlib.org/users/legend_guide.html#creating-artists-specifically-for-adding-to-the-legend-aka-proxy-artists\n",
      "/Users/galraz1/opt/miniconda3/envs/stan_env/lib/python3.7/site-packages/ipykernel_launcher.py:67: UserWarning: Legend does not support 'o' instances.\n",
      "A proxy artist may be used instead.\n",
      "See: https://matplotlib.org/users/legend_guide.html#creating-artists-specifically-for-adding-to-the-legend-aka-proxy-artists\n"
     ]
    },
    {
     "name": "stdout",
     "output_type": "stream",
     "text": [
      "KL: 0.08759717098893516\n",
      "stimulus:  6\n",
      "sample:  17\n",
      "\n",
      "Gradient evaluation took 3.7e-05 seconds\n",
      "1000 transitions using 10 leapfrog steps per transition would take 0.37 seconds.\n",
      "Adjust your expectations accordingly!\n",
      "\n",
      "\n",
      "Iteration:     1 / 20000 [  0%]  (Warmup)\n",
      "Iteration:  2000 / 20000 [ 10%]  (Warmup)\n",
      "Iteration:  4000 / 20000 [ 20%]  (Warmup)\n",
      "Iteration:  4001 / 20000 [ 20%]  (Sampling)\n",
      "Iteration:  6000 / 20000 [ 30%]  (Sampling)\n",
      "Iteration:  8000 / 20000 [ 40%]  (Sampling)\n",
      "Iteration: 10000 / 20000 [ 50%]  (Sampling)\n",
      "Iteration: 12000 / 20000 [ 60%]  (Sampling)\n",
      "Iteration: 14000 / 20000 [ 70%]  (Sampling)\n",
      "Iteration: 16000 / 20000 [ 80%]  (Sampling)\n",
      "Iteration: 18000 / 20000 [ 90%]  (Sampling)\n",
      "Iteration: 20000 / 20000 [100%]  (Sampling)\n",
      "\n",
      " Elapsed Time: 0.626842 seconds (Warm-up)\n",
      "               0.729055 seconds (Sampling)\n",
      "               1.3559 seconds (Total)\n",
      "\n"
     ]
    },
    {
     "name": "stderr",
     "output_type": "stream",
     "text": [
      "/Users/galraz1/opt/miniconda3/envs/stan_env/lib/python3.7/site-packages/ipykernel_launcher.py:60: UserWarning: Legend does not support 'p' instances.\n",
      "A proxy artist may be used instead.\n",
      "See: https://matplotlib.org/users/legend_guide.html#creating-artists-specifically-for-adding-to-the-legend-aka-proxy-artists\n",
      "/Users/galraz1/opt/miniconda3/envs/stan_env/lib/python3.7/site-packages/ipykernel_launcher.py:60: UserWarning: Legend does not support 'r' instances.\n",
      "A proxy artist may be used instead.\n",
      "See: https://matplotlib.org/users/legend_guide.html#creating-artists-specifically-for-adding-to-the-legend-aka-proxy-artists\n",
      "/Users/galraz1/opt/miniconda3/envs/stan_env/lib/python3.7/site-packages/ipykernel_launcher.py:60: UserWarning: Legend does not support 'i' instances.\n",
      "A proxy artist may be used instead.\n",
      "See: https://matplotlib.org/users/legend_guide.html#creating-artists-specifically-for-adding-to-the-legend-aka-proxy-artists\n",
      "/Users/galraz1/opt/miniconda3/envs/stan_env/lib/python3.7/site-packages/ipykernel_launcher.py:60: UserWarning: Legend does not support 'o' instances.\n",
      "A proxy artist may be used instead.\n",
      "See: https://matplotlib.org/users/legend_guide.html#creating-artists-specifically-for-adding-to-the-legend-aka-proxy-artists\n",
      "/Users/galraz1/opt/miniconda3/envs/stan_env/lib/python3.7/site-packages/ipykernel_launcher.py:67: UserWarning: Legend does not support 'p' instances.\n",
      "A proxy artist may be used instead.\n",
      "See: https://matplotlib.org/users/legend_guide.html#creating-artists-specifically-for-adding-to-the-legend-aka-proxy-artists\n",
      "/Users/galraz1/opt/miniconda3/envs/stan_env/lib/python3.7/site-packages/ipykernel_launcher.py:67: UserWarning: Legend does not support 'r' instances.\n",
      "A proxy artist may be used instead.\n",
      "See: https://matplotlib.org/users/legend_guide.html#creating-artists-specifically-for-adding-to-the-legend-aka-proxy-artists\n",
      "/Users/galraz1/opt/miniconda3/envs/stan_env/lib/python3.7/site-packages/ipykernel_launcher.py:67: UserWarning: Legend does not support 'i' instances.\n",
      "A proxy artist may be used instead.\n",
      "See: https://matplotlib.org/users/legend_guide.html#creating-artists-specifically-for-adding-to-the-legend-aka-proxy-artists\n",
      "/Users/galraz1/opt/miniconda3/envs/stan_env/lib/python3.7/site-packages/ipykernel_launcher.py:67: UserWarning: Legend does not support 'o' instances.\n",
      "A proxy artist may be used instead.\n",
      "See: https://matplotlib.org/users/legend_guide.html#creating-artists-specifically-for-adding-to-the-legend-aka-proxy-artists\n"
     ]
    },
    {
     "name": "stdout",
     "output_type": "stream",
     "text": [
      "KL: 0.008886311717924533\n",
      "model run:  3\n",
      "stimulus:  1\n",
      "sample:  1\n"
     ]
    },
    {
     "name": "stderr",
     "output_type": "stream",
     "text": [
      "WARNING:pystan:77 of 16000 iterations ended with a divergence (0.481 %).\n",
      "WARNING:pystan:Try running with adapt_delta larger than 0.95 to remove the divergences.\n"
     ]
    },
    {
     "name": "stdout",
     "output_type": "stream",
     "text": [
      "\n",
      "Gradient evaluation took 1.3e-05 seconds\n",
      "1000 transitions using 10 leapfrog steps per transition would take 0.13 seconds.\n",
      "Adjust your expectations accordingly!\n",
      "\n",
      "\n",
      "Iteration:     1 / 20000 [  0%]  (Warmup)\n",
      "Iteration:  2000 / 20000 [ 10%]  (Warmup)\n",
      "Iteration:  4000 / 20000 [ 20%]  (Warmup)\n",
      "Iteration:  4001 / 20000 [ 20%]  (Sampling)\n",
      "Iteration:  6000 / 20000 [ 30%]  (Sampling)\n",
      "Iteration:  8000 / 20000 [ 40%]  (Sampling)\n",
      "Iteration: 10000 / 20000 [ 50%]  (Sampling)\n",
      "Iteration: 12000 / 20000 [ 60%]  (Sampling)\n",
      "Iteration: 14000 / 20000 [ 70%]  (Sampling)\n",
      "Iteration: 16000 / 20000 [ 80%]  (Sampling)\n",
      "Iteration: 18000 / 20000 [ 90%]  (Sampling)\n",
      "Iteration: 20000 / 20000 [100%]  (Sampling)\n",
      "\n",
      " Elapsed Time: 0.128049 seconds (Warm-up)\n",
      "               0.417901 seconds (Sampling)\n",
      "               0.54595 seconds (Total)\n",
      "\n"
     ]
    },
    {
     "name": "stderr",
     "output_type": "stream",
     "text": [
      "/Users/galraz1/opt/miniconda3/envs/stan_env/lib/python3.7/site-packages/ipykernel_launcher.py:60: UserWarning: Legend does not support 'p' instances.\n",
      "A proxy artist may be used instead.\n",
      "See: https://matplotlib.org/users/legend_guide.html#creating-artists-specifically-for-adding-to-the-legend-aka-proxy-artists\n",
      "/Users/galraz1/opt/miniconda3/envs/stan_env/lib/python3.7/site-packages/ipykernel_launcher.py:60: UserWarning: Legend does not support 'r' instances.\n",
      "A proxy artist may be used instead.\n",
      "See: https://matplotlib.org/users/legend_guide.html#creating-artists-specifically-for-adding-to-the-legend-aka-proxy-artists\n",
      "/Users/galraz1/opt/miniconda3/envs/stan_env/lib/python3.7/site-packages/ipykernel_launcher.py:60: UserWarning: Legend does not support 'i' instances.\n",
      "A proxy artist may be used instead.\n",
      "See: https://matplotlib.org/users/legend_guide.html#creating-artists-specifically-for-adding-to-the-legend-aka-proxy-artists\n",
      "/Users/galraz1/opt/miniconda3/envs/stan_env/lib/python3.7/site-packages/ipykernel_launcher.py:60: UserWarning: Legend does not support 'o' instances.\n",
      "A proxy artist may be used instead.\n",
      "See: https://matplotlib.org/users/legend_guide.html#creating-artists-specifically-for-adding-to-the-legend-aka-proxy-artists\n",
      "/Users/galraz1/opt/miniconda3/envs/stan_env/lib/python3.7/site-packages/ipykernel_launcher.py:67: UserWarning: Legend does not support 'p' instances.\n",
      "A proxy artist may be used instead.\n",
      "See: https://matplotlib.org/users/legend_guide.html#creating-artists-specifically-for-adding-to-the-legend-aka-proxy-artists\n",
      "/Users/galraz1/opt/miniconda3/envs/stan_env/lib/python3.7/site-packages/ipykernel_launcher.py:67: UserWarning: Legend does not support 'r' instances.\n",
      "A proxy artist may be used instead.\n",
      "See: https://matplotlib.org/users/legend_guide.html#creating-artists-specifically-for-adding-to-the-legend-aka-proxy-artists\n",
      "/Users/galraz1/opt/miniconda3/envs/stan_env/lib/python3.7/site-packages/ipykernel_launcher.py:67: UserWarning: Legend does not support 'i' instances.\n",
      "A proxy artist may be used instead.\n",
      "See: https://matplotlib.org/users/legend_guide.html#creating-artists-specifically-for-adding-to-the-legend-aka-proxy-artists\n",
      "/Users/galraz1/opt/miniconda3/envs/stan_env/lib/python3.7/site-packages/ipykernel_launcher.py:67: UserWarning: Legend does not support 'o' instances.\n",
      "A proxy artist may be used instead.\n",
      "See: https://matplotlib.org/users/legend_guide.html#creating-artists-specifically-for-adding-to-the-legend-aka-proxy-artists\n"
     ]
    },
    {
     "name": "stdout",
     "output_type": "stream",
     "text": [
      "KL: 2.171901621819562\n",
      "stimulus:  1\n",
      "sample:  2\n",
      "\n"
     ]
    },
    {
     "name": "stderr",
     "output_type": "stream",
     "text": [
      "WARNING:pystan:119 of 16000 iterations ended with a divergence (0.744 %).\n",
      "WARNING:pystan:Try running with adapt_delta larger than 0.95 to remove the divergences.\n",
      "/Users/galraz1/opt/miniconda3/envs/stan_env/lib/python3.7/site-packages/ipykernel_launcher.py:60: UserWarning: Legend does not support 'p' instances.\n",
      "A proxy artist may be used instead.\n",
      "See: https://matplotlib.org/users/legend_guide.html#creating-artists-specifically-for-adding-to-the-legend-aka-proxy-artists\n",
      "/Users/galraz1/opt/miniconda3/envs/stan_env/lib/python3.7/site-packages/ipykernel_launcher.py:60: UserWarning: Legend does not support 'r' instances.\n",
      "A proxy artist may be used instead.\n",
      "See: https://matplotlib.org/users/legend_guide.html#creating-artists-specifically-for-adding-to-the-legend-aka-proxy-artists\n",
      "/Users/galraz1/opt/miniconda3/envs/stan_env/lib/python3.7/site-packages/ipykernel_launcher.py:60: UserWarning: Legend does not support 'i' instances.\n",
      "A proxy artist may be used instead.\n",
      "See: https://matplotlib.org/users/legend_guide.html#creating-artists-specifically-for-adding-to-the-legend-aka-proxy-artists\n",
      "/Users/galraz1/opt/miniconda3/envs/stan_env/lib/python3.7/site-packages/ipykernel_launcher.py:60: UserWarning: Legend does not support 'o' instances.\n",
      "A proxy artist may be used instead.\n",
      "See: https://matplotlib.org/users/legend_guide.html#creating-artists-specifically-for-adding-to-the-legend-aka-proxy-artists\n",
      "/Users/galraz1/opt/miniconda3/envs/stan_env/lib/python3.7/site-packages/ipykernel_launcher.py:67: UserWarning: Legend does not support 'p' instances.\n",
      "A proxy artist may be used instead.\n",
      "See: https://matplotlib.org/users/legend_guide.html#creating-artists-specifically-for-adding-to-the-legend-aka-proxy-artists\n",
      "/Users/galraz1/opt/miniconda3/envs/stan_env/lib/python3.7/site-packages/ipykernel_launcher.py:67: UserWarning: Legend does not support 'r' instances.\n",
      "A proxy artist may be used instead.\n",
      "See: https://matplotlib.org/users/legend_guide.html#creating-artists-specifically-for-adding-to-the-legend-aka-proxy-artists\n",
      "/Users/galraz1/opt/miniconda3/envs/stan_env/lib/python3.7/site-packages/ipykernel_launcher.py:67: UserWarning: Legend does not support 'i' instances.\n",
      "A proxy artist may be used instead.\n",
      "See: https://matplotlib.org/users/legend_guide.html#creating-artists-specifically-for-adding-to-the-legend-aka-proxy-artists\n",
      "/Users/galraz1/opt/miniconda3/envs/stan_env/lib/python3.7/site-packages/ipykernel_launcher.py:67: UserWarning: Legend does not support 'o' instances.\n",
      "A proxy artist may be used instead.\n",
      "See: https://matplotlib.org/users/legend_guide.html#creating-artists-specifically-for-adding-to-the-legend-aka-proxy-artists\n"
     ]
    },
    {
     "name": "stdout",
     "output_type": "stream",
     "text": [
      "Gradient evaluation took 2.7e-05 seconds\n",
      "1000 transitions using 10 leapfrog steps per transition would take 0.27 seconds.\n",
      "Adjust your expectations accordingly!\n",
      "\n",
      "\n",
      "Iteration:     1 / 20000 [  0%]  (Warmup)\n",
      "Iteration:  2000 / 20000 [ 10%]  (Warmup)\n",
      "Iteration:  4000 / 20000 [ 20%]  (Warmup)\n",
      "Iteration:  4001 / 20000 [ 20%]  (Sampling)\n",
      "Iteration:  6000 / 20000 [ 30%]  (Sampling)\n",
      "Iteration:  8000 / 20000 [ 40%]  (Sampling)\n",
      "Iteration: 10000 / 20000 [ 50%]  (Sampling)\n",
      "Iteration: 12000 / 20000 [ 60%]  (Sampling)\n",
      "Iteration: 14000 / 20000 [ 70%]  (Sampling)\n",
      "Iteration: 16000 / 20000 [ 80%]  (Sampling)\n",
      "Iteration: 18000 / 20000 [ 90%]  (Sampling)\n",
      "Iteration: 20000 / 20000 [100%]  (Sampling)\n",
      "\n",
      " Elapsed Time: 0.41289 seconds (Warm-up)\n",
      "               0.581833 seconds (Sampling)\n",
      "               0.994723 seconds (Total)\n",
      "\n",
      "KL: 0.00911289194173226\n",
      "stimulus:  2\n",
      "sample:  3\n",
      "\n"
     ]
    },
    {
     "name": "stderr",
     "output_type": "stream",
     "text": [
      "WARNING:pystan:317 of 16000 iterations ended with a divergence (1.98 %).\n",
      "WARNING:pystan:Try running with adapt_delta larger than 0.95 to remove the divergences.\n",
      "/Users/galraz1/opt/miniconda3/envs/stan_env/lib/python3.7/site-packages/ipykernel_launcher.py:60: UserWarning: Legend does not support 'p' instances.\n",
      "A proxy artist may be used instead.\n",
      "See: https://matplotlib.org/users/legend_guide.html#creating-artists-specifically-for-adding-to-the-legend-aka-proxy-artists\n",
      "/Users/galraz1/opt/miniconda3/envs/stan_env/lib/python3.7/site-packages/ipykernel_launcher.py:60: UserWarning: Legend does not support 'r' instances.\n",
      "A proxy artist may be used instead.\n",
      "See: https://matplotlib.org/users/legend_guide.html#creating-artists-specifically-for-adding-to-the-legend-aka-proxy-artists\n",
      "/Users/galraz1/opt/miniconda3/envs/stan_env/lib/python3.7/site-packages/ipykernel_launcher.py:60: UserWarning: Legend does not support 'i' instances.\n",
      "A proxy artist may be used instead.\n",
      "See: https://matplotlib.org/users/legend_guide.html#creating-artists-specifically-for-adding-to-the-legend-aka-proxy-artists\n",
      "/Users/galraz1/opt/miniconda3/envs/stan_env/lib/python3.7/site-packages/ipykernel_launcher.py:60: UserWarning: Legend does not support 'o' instances.\n",
      "A proxy artist may be used instead.\n",
      "See: https://matplotlib.org/users/legend_guide.html#creating-artists-specifically-for-adding-to-the-legend-aka-proxy-artists\n",
      "/Users/galraz1/opt/miniconda3/envs/stan_env/lib/python3.7/site-packages/ipykernel_launcher.py:67: UserWarning: Legend does not support 'p' instances.\n",
      "A proxy artist may be used instead.\n",
      "See: https://matplotlib.org/users/legend_guide.html#creating-artists-specifically-for-adding-to-the-legend-aka-proxy-artists\n",
      "/Users/galraz1/opt/miniconda3/envs/stan_env/lib/python3.7/site-packages/ipykernel_launcher.py:67: UserWarning: Legend does not support 'r' instances.\n",
      "A proxy artist may be used instead.\n",
      "See: https://matplotlib.org/users/legend_guide.html#creating-artists-specifically-for-adding-to-the-legend-aka-proxy-artists\n",
      "/Users/galraz1/opt/miniconda3/envs/stan_env/lib/python3.7/site-packages/ipykernel_launcher.py:67: UserWarning: Legend does not support 'i' instances.\n",
      "A proxy artist may be used instead.\n",
      "See: https://matplotlib.org/users/legend_guide.html#creating-artists-specifically-for-adding-to-the-legend-aka-proxy-artists\n",
      "/Users/galraz1/opt/miniconda3/envs/stan_env/lib/python3.7/site-packages/ipykernel_launcher.py:67: UserWarning: Legend does not support 'o' instances.\n",
      "A proxy artist may be used instead.\n",
      "See: https://matplotlib.org/users/legend_guide.html#creating-artists-specifically-for-adding-to-the-legend-aka-proxy-artists\n"
     ]
    },
    {
     "name": "stdout",
     "output_type": "stream",
     "text": [
      "Gradient evaluation took 5.2e-05 seconds\n",
      "1000 transitions using 10 leapfrog steps per transition would take 0.52 seconds.\n",
      "Adjust your expectations accordingly!\n",
      "\n",
      "\n",
      "Iteration:     1 / 20000 [  0%]  (Warmup)\n",
      "Iteration:  2000 / 20000 [ 10%]  (Warmup)\n",
      "Iteration:  4000 / 20000 [ 20%]  (Warmup)\n",
      "Iteration:  4001 / 20000 [ 20%]  (Sampling)\n",
      "Iteration:  6000 / 20000 [ 30%]  (Sampling)\n",
      "Iteration:  8000 / 20000 [ 40%]  (Sampling)\n",
      "Iteration: 10000 / 20000 [ 50%]  (Sampling)\n",
      "Iteration: 12000 / 20000 [ 60%]  (Sampling)\n",
      "Iteration: 14000 / 20000 [ 70%]  (Sampling)\n",
      "Iteration: 16000 / 20000 [ 80%]  (Sampling)\n",
      "Iteration: 18000 / 20000 [ 90%]  (Sampling)\n",
      "Iteration: 20000 / 20000 [100%]  (Sampling)\n",
      "\n",
      " Elapsed Time: 0.537212 seconds (Warm-up)\n",
      "               0.438389 seconds (Sampling)\n",
      "               0.975601 seconds (Total)\n",
      "\n",
      "KL: 0.17198429946566052\n",
      "stimulus:  2\n",
      "sample:  4\n"
     ]
    },
    {
     "name": "stderr",
     "output_type": "stream",
     "text": [
      "WARNING:pystan:277 of 16000 iterations ended with a divergence (1.73 %).\n",
      "WARNING:pystan:Try running with adapt_delta larger than 0.95 to remove the divergences.\n"
     ]
    },
    {
     "name": "stdout",
     "output_type": "stream",
     "text": [
      "\n",
      "Gradient evaluation took 3.4e-05 seconds\n",
      "1000 transitions using 10 leapfrog steps per transition would take 0.34 seconds.\n",
      "Adjust your expectations accordingly!\n",
      "\n",
      "\n",
      "Iteration:     1 / 20000 [  0%]  (Warmup)\n",
      "Iteration:  2000 / 20000 [ 10%]  (Warmup)\n",
      "Iteration:  4000 / 20000 [ 20%]  (Warmup)\n",
      "Iteration:  4001 / 20000 [ 20%]  (Sampling)\n",
      "Iteration:  6000 / 20000 [ 30%]  (Sampling)\n",
      "Iteration:  8000 / 20000 [ 40%]  (Sampling)\n",
      "Iteration: 10000 / 20000 [ 50%]  (Sampling)\n",
      "Iteration: 12000 / 20000 [ 60%]  (Sampling)\n",
      "Iteration: 14000 / 20000 [ 70%]  (Sampling)\n",
      "Iteration: 16000 / 20000 [ 80%]  (Sampling)\n",
      "Iteration: 18000 / 20000 [ 90%]  (Sampling)\n",
      "Iteration: 20000 / 20000 [100%]  (Sampling)\n",
      "\n",
      " Elapsed Time: 0.709857 seconds (Warm-up)\n",
      "               0.604434 seconds (Sampling)\n",
      "               1.31429 seconds (Total)\n",
      "\n"
     ]
    },
    {
     "name": "stderr",
     "output_type": "stream",
     "text": [
      "/Users/galraz1/opt/miniconda3/envs/stan_env/lib/python3.7/site-packages/ipykernel_launcher.py:60: UserWarning: Legend does not support 'p' instances.\n",
      "A proxy artist may be used instead.\n",
      "See: https://matplotlib.org/users/legend_guide.html#creating-artists-specifically-for-adding-to-the-legend-aka-proxy-artists\n",
      "/Users/galraz1/opt/miniconda3/envs/stan_env/lib/python3.7/site-packages/ipykernel_launcher.py:60: UserWarning: Legend does not support 'r' instances.\n",
      "A proxy artist may be used instead.\n",
      "See: https://matplotlib.org/users/legend_guide.html#creating-artists-specifically-for-adding-to-the-legend-aka-proxy-artists\n",
      "/Users/galraz1/opt/miniconda3/envs/stan_env/lib/python3.7/site-packages/ipykernel_launcher.py:60: UserWarning: Legend does not support 'i' instances.\n",
      "A proxy artist may be used instead.\n",
      "See: https://matplotlib.org/users/legend_guide.html#creating-artists-specifically-for-adding-to-the-legend-aka-proxy-artists\n",
      "/Users/galraz1/opt/miniconda3/envs/stan_env/lib/python3.7/site-packages/ipykernel_launcher.py:60: UserWarning: Legend does not support 'o' instances.\n",
      "A proxy artist may be used instead.\n",
      "See: https://matplotlib.org/users/legend_guide.html#creating-artists-specifically-for-adding-to-the-legend-aka-proxy-artists\n",
      "/Users/galraz1/opt/miniconda3/envs/stan_env/lib/python3.7/site-packages/ipykernel_launcher.py:67: UserWarning: Legend does not support 'p' instances.\n",
      "A proxy artist may be used instead.\n",
      "See: https://matplotlib.org/users/legend_guide.html#creating-artists-specifically-for-adding-to-the-legend-aka-proxy-artists\n",
      "/Users/galraz1/opt/miniconda3/envs/stan_env/lib/python3.7/site-packages/ipykernel_launcher.py:67: UserWarning: Legend does not support 'r' instances.\n",
      "A proxy artist may be used instead.\n",
      "See: https://matplotlib.org/users/legend_guide.html#creating-artists-specifically-for-adding-to-the-legend-aka-proxy-artists\n",
      "/Users/galraz1/opt/miniconda3/envs/stan_env/lib/python3.7/site-packages/ipykernel_launcher.py:67: UserWarning: Legend does not support 'i' instances.\n",
      "A proxy artist may be used instead.\n",
      "See: https://matplotlib.org/users/legend_guide.html#creating-artists-specifically-for-adding-to-the-legend-aka-proxy-artists\n",
      "/Users/galraz1/opt/miniconda3/envs/stan_env/lib/python3.7/site-packages/ipykernel_launcher.py:67: UserWarning: Legend does not support 'o' instances.\n",
      "A proxy artist may be used instead.\n",
      "See: https://matplotlib.org/users/legend_guide.html#creating-artists-specifically-for-adding-to-the-legend-aka-proxy-artists\n"
     ]
    },
    {
     "name": "stdout",
     "output_type": "stream",
     "text": [
      "KL: 0.010546650608762365\n",
      "stimulus:  2\n",
      "sample:  5\n",
      "\n"
     ]
    },
    {
     "name": "stderr",
     "output_type": "stream",
     "text": [
      "WARNING:pystan:443 of 16000 iterations ended with a divergence (2.77 %).\n",
      "WARNING:pystan:Try running with adapt_delta larger than 0.95 to remove the divergences.\n"
     ]
    },
    {
     "name": "stdout",
     "output_type": "stream",
     "text": [
      "Gradient evaluation took 1.1e-05 seconds\n",
      "1000 transitions using 10 leapfrog steps per transition would take 0.11 seconds.\n",
      "Adjust your expectations accordingly!\n",
      "\n",
      "\n",
      "Iteration:     1 / 20000 [  0%]  (Warmup)\n",
      "Iteration:  2000 / 20000 [ 10%]  (Warmup)\n",
      "Iteration:  4000 / 20000 [ 20%]  (Warmup)\n",
      "Iteration:  4001 / 20000 [ 20%]  (Sampling)\n",
      "Iteration:  6000 / 20000 [ 30%]  (Sampling)\n",
      "Iteration:  8000 / 20000 [ 40%]  (Sampling)\n",
      "Iteration: 10000 / 20000 [ 50%]  (Sampling)\n",
      "Iteration: 12000 / 20000 [ 60%]  (Sampling)\n",
      "Iteration: 14000 / 20000 [ 70%]  (Sampling)\n",
      "Iteration: 16000 / 20000 [ 80%]  (Sampling)\n",
      "Iteration: 18000 / 20000 [ 90%]  (Sampling)\n",
      "Iteration: 20000 / 20000 [100%]  (Sampling)\n",
      "\n",
      " Elapsed Time: 0.684709 seconds (Warm-up)\n",
      "               0.424743 seconds (Sampling)\n",
      "               1.10945 seconds (Total)\n",
      "\n"
     ]
    },
    {
     "name": "stderr",
     "output_type": "stream",
     "text": [
      "/Users/galraz1/opt/miniconda3/envs/stan_env/lib/python3.7/site-packages/ipykernel_launcher.py:60: UserWarning: Legend does not support 'p' instances.\n",
      "A proxy artist may be used instead.\n",
      "See: https://matplotlib.org/users/legend_guide.html#creating-artists-specifically-for-adding-to-the-legend-aka-proxy-artists\n",
      "/Users/galraz1/opt/miniconda3/envs/stan_env/lib/python3.7/site-packages/ipykernel_launcher.py:60: UserWarning: Legend does not support 'r' instances.\n",
      "A proxy artist may be used instead.\n",
      "See: https://matplotlib.org/users/legend_guide.html#creating-artists-specifically-for-adding-to-the-legend-aka-proxy-artists\n",
      "/Users/galraz1/opt/miniconda3/envs/stan_env/lib/python3.7/site-packages/ipykernel_launcher.py:60: UserWarning: Legend does not support 'i' instances.\n",
      "A proxy artist may be used instead.\n",
      "See: https://matplotlib.org/users/legend_guide.html#creating-artists-specifically-for-adding-to-the-legend-aka-proxy-artists\n",
      "/Users/galraz1/opt/miniconda3/envs/stan_env/lib/python3.7/site-packages/ipykernel_launcher.py:60: UserWarning: Legend does not support 'o' instances.\n",
      "A proxy artist may be used instead.\n",
      "See: https://matplotlib.org/users/legend_guide.html#creating-artists-specifically-for-adding-to-the-legend-aka-proxy-artists\n",
      "/Users/galraz1/opt/miniconda3/envs/stan_env/lib/python3.7/site-packages/ipykernel_launcher.py:67: UserWarning: Legend does not support 'p' instances.\n",
      "A proxy artist may be used instead.\n",
      "See: https://matplotlib.org/users/legend_guide.html#creating-artists-specifically-for-adding-to-the-legend-aka-proxy-artists\n",
      "/Users/galraz1/opt/miniconda3/envs/stan_env/lib/python3.7/site-packages/ipykernel_launcher.py:67: UserWarning: Legend does not support 'r' instances.\n",
      "A proxy artist may be used instead.\n",
      "See: https://matplotlib.org/users/legend_guide.html#creating-artists-specifically-for-adding-to-the-legend-aka-proxy-artists\n",
      "/Users/galraz1/opt/miniconda3/envs/stan_env/lib/python3.7/site-packages/ipykernel_launcher.py:67: UserWarning: Legend does not support 'i' instances.\n",
      "A proxy artist may be used instead.\n",
      "See: https://matplotlib.org/users/legend_guide.html#creating-artists-specifically-for-adding-to-the-legend-aka-proxy-artists\n",
      "/Users/galraz1/opt/miniconda3/envs/stan_env/lib/python3.7/site-packages/ipykernel_launcher.py:67: UserWarning: Legend does not support 'o' instances.\n",
      "A proxy artist may be used instead.\n",
      "See: https://matplotlib.org/users/legend_guide.html#creating-artists-specifically-for-adding-to-the-legend-aka-proxy-artists\n"
     ]
    },
    {
     "name": "stdout",
     "output_type": "stream",
     "text": [
      "KL: 0.0018201486842165382\n",
      "stimulus:  3\n",
      "sample:  6\n",
      "\n"
     ]
    },
    {
     "name": "stderr",
     "output_type": "stream",
     "text": [
      "WARNING:pystan:374 of 16000 iterations ended with a divergence (2.34 %).\n",
      "WARNING:pystan:Try running with adapt_delta larger than 0.95 to remove the divergences.\n",
      "/Users/galraz1/opt/miniconda3/envs/stan_env/lib/python3.7/site-packages/ipykernel_launcher.py:60: UserWarning: Legend does not support 'p' instances.\n",
      "A proxy artist may be used instead.\n",
      "See: https://matplotlib.org/users/legend_guide.html#creating-artists-specifically-for-adding-to-the-legend-aka-proxy-artists\n",
      "/Users/galraz1/opt/miniconda3/envs/stan_env/lib/python3.7/site-packages/ipykernel_launcher.py:60: UserWarning: Legend does not support 'r' instances.\n",
      "A proxy artist may be used instead.\n",
      "See: https://matplotlib.org/users/legend_guide.html#creating-artists-specifically-for-adding-to-the-legend-aka-proxy-artists\n",
      "/Users/galraz1/opt/miniconda3/envs/stan_env/lib/python3.7/site-packages/ipykernel_launcher.py:60: UserWarning: Legend does not support 'i' instances.\n",
      "A proxy artist may be used instead.\n",
      "See: https://matplotlib.org/users/legend_guide.html#creating-artists-specifically-for-adding-to-the-legend-aka-proxy-artists\n",
      "/Users/galraz1/opt/miniconda3/envs/stan_env/lib/python3.7/site-packages/ipykernel_launcher.py:60: UserWarning: Legend does not support 'o' instances.\n",
      "A proxy artist may be used instead.\n",
      "See: https://matplotlib.org/users/legend_guide.html#creating-artists-specifically-for-adding-to-the-legend-aka-proxy-artists\n",
      "/Users/galraz1/opt/miniconda3/envs/stan_env/lib/python3.7/site-packages/ipykernel_launcher.py:67: UserWarning: Legend does not support 'p' instances.\n",
      "A proxy artist may be used instead.\n",
      "See: https://matplotlib.org/users/legend_guide.html#creating-artists-specifically-for-adding-to-the-legend-aka-proxy-artists\n",
      "/Users/galraz1/opt/miniconda3/envs/stan_env/lib/python3.7/site-packages/ipykernel_launcher.py:67: UserWarning: Legend does not support 'r' instances.\n",
      "A proxy artist may be used instead.\n",
      "See: https://matplotlib.org/users/legend_guide.html#creating-artists-specifically-for-adding-to-the-legend-aka-proxy-artists\n",
      "/Users/galraz1/opt/miniconda3/envs/stan_env/lib/python3.7/site-packages/ipykernel_launcher.py:67: UserWarning: Legend does not support 'i' instances.\n",
      "A proxy artist may be used instead.\n",
      "See: https://matplotlib.org/users/legend_guide.html#creating-artists-specifically-for-adding-to-the-legend-aka-proxy-artists\n",
      "/Users/galraz1/opt/miniconda3/envs/stan_env/lib/python3.7/site-packages/ipykernel_launcher.py:67: UserWarning: Legend does not support 'o' instances.\n",
      "A proxy artist may be used instead.\n",
      "See: https://matplotlib.org/users/legend_guide.html#creating-artists-specifically-for-adding-to-the-legend-aka-proxy-artists\n"
     ]
    },
    {
     "name": "stdout",
     "output_type": "stream",
     "text": [
      "Gradient evaluation took 9.6e-05 seconds\n",
      "1000 transitions using 10 leapfrog steps per transition would take 0.96 seconds.\n",
      "Adjust your expectations accordingly!\n",
      "\n",
      "\n",
      "Iteration:     1 / 20000 [  0%]  (Warmup)\n",
      "Iteration:  2000 / 20000 [ 10%]  (Warmup)\n",
      "Iteration:  4000 / 20000 [ 20%]  (Warmup)\n",
      "Iteration:  4001 / 20000 [ 20%]  (Sampling)\n",
      "Iteration:  6000 / 20000 [ 30%]  (Sampling)\n",
      "Iteration:  8000 / 20000 [ 40%]  (Sampling)\n",
      "Iteration: 10000 / 20000 [ 50%]  (Sampling)\n",
      "Iteration: 12000 / 20000 [ 60%]  (Sampling)\n",
      "Iteration: 14000 / 20000 [ 70%]  (Sampling)\n",
      "Iteration: 16000 / 20000 [ 80%]  (Sampling)\n",
      "Iteration: 18000 / 20000 [ 90%]  (Sampling)\n",
      "Iteration: 20000 / 20000 [100%]  (Sampling)\n",
      "\n",
      " Elapsed Time: 0.773093 seconds (Warm-up)\n",
      "               0.53383 seconds (Sampling)\n",
      "               1.30692 seconds (Total)\n",
      "\n",
      "KL: 0.17716508249947538\n",
      "stimulus:  3\n",
      "sample:  7\n",
      "\n"
     ]
    },
    {
     "name": "stderr",
     "output_type": "stream",
     "text": [
      "WARNING:pystan:158 of 16000 iterations ended with a divergence (0.988 %).\n",
      "WARNING:pystan:Try running with adapt_delta larger than 0.95 to remove the divergences.\n",
      "/Users/galraz1/opt/miniconda3/envs/stan_env/lib/python3.7/site-packages/ipykernel_launcher.py:60: UserWarning: Legend does not support 'p' instances.\n",
      "A proxy artist may be used instead.\n",
      "See: https://matplotlib.org/users/legend_guide.html#creating-artists-specifically-for-adding-to-the-legend-aka-proxy-artists\n",
      "/Users/galraz1/opt/miniconda3/envs/stan_env/lib/python3.7/site-packages/ipykernel_launcher.py:60: UserWarning: Legend does not support 'r' instances.\n",
      "A proxy artist may be used instead.\n",
      "See: https://matplotlib.org/users/legend_guide.html#creating-artists-specifically-for-adding-to-the-legend-aka-proxy-artists\n",
      "/Users/galraz1/opt/miniconda3/envs/stan_env/lib/python3.7/site-packages/ipykernel_launcher.py:60: UserWarning: Legend does not support 'i' instances.\n",
      "A proxy artist may be used instead.\n",
      "See: https://matplotlib.org/users/legend_guide.html#creating-artists-specifically-for-adding-to-the-legend-aka-proxy-artists\n",
      "/Users/galraz1/opt/miniconda3/envs/stan_env/lib/python3.7/site-packages/ipykernel_launcher.py:60: UserWarning: Legend does not support 'o' instances.\n",
      "A proxy artist may be used instead.\n",
      "See: https://matplotlib.org/users/legend_guide.html#creating-artists-specifically-for-adding-to-the-legend-aka-proxy-artists\n",
      "/Users/galraz1/opt/miniconda3/envs/stan_env/lib/python3.7/site-packages/ipykernel_launcher.py:67: UserWarning: Legend does not support 'p' instances.\n",
      "A proxy artist may be used instead.\n",
      "See: https://matplotlib.org/users/legend_guide.html#creating-artists-specifically-for-adding-to-the-legend-aka-proxy-artists\n",
      "/Users/galraz1/opt/miniconda3/envs/stan_env/lib/python3.7/site-packages/ipykernel_launcher.py:67: UserWarning: Legend does not support 'r' instances.\n",
      "A proxy artist may be used instead.\n",
      "See: https://matplotlib.org/users/legend_guide.html#creating-artists-specifically-for-adding-to-the-legend-aka-proxy-artists\n",
      "/Users/galraz1/opt/miniconda3/envs/stan_env/lib/python3.7/site-packages/ipykernel_launcher.py:67: UserWarning: Legend does not support 'i' instances.\n",
      "A proxy artist may be used instead.\n",
      "See: https://matplotlib.org/users/legend_guide.html#creating-artists-specifically-for-adding-to-the-legend-aka-proxy-artists\n",
      "/Users/galraz1/opt/miniconda3/envs/stan_env/lib/python3.7/site-packages/ipykernel_launcher.py:67: UserWarning: Legend does not support 'o' instances.\n",
      "A proxy artist may be used instead.\n",
      "See: https://matplotlib.org/users/legend_guide.html#creating-artists-specifically-for-adding-to-the-legend-aka-proxy-artists\n"
     ]
    },
    {
     "name": "stdout",
     "output_type": "stream",
     "text": [
      "Gradient evaluation took 4.2e-05 seconds\n",
      "1000 transitions using 10 leapfrog steps per transition would take 0.42 seconds.\n",
      "Adjust your expectations accordingly!\n",
      "\n",
      "\n",
      "Iteration:     1 / 20000 [  0%]  (Warmup)\n",
      "Iteration:  2000 / 20000 [ 10%]  (Warmup)\n",
      "Iteration:  4000 / 20000 [ 20%]  (Warmup)\n",
      "Iteration:  4001 / 20000 [ 20%]  (Sampling)\n",
      "Iteration:  6000 / 20000 [ 30%]  (Sampling)\n",
      "Iteration:  8000 / 20000 [ 40%]  (Sampling)\n",
      "Iteration: 10000 / 20000 [ 50%]  (Sampling)\n",
      "Iteration: 12000 / 20000 [ 60%]  (Sampling)\n",
      "Iteration: 14000 / 20000 [ 70%]  (Sampling)\n",
      "Iteration: 16000 / 20000 [ 80%]  (Sampling)\n",
      "Iteration: 18000 / 20000 [ 90%]  (Sampling)\n",
      "Iteration: 20000 / 20000 [100%]  (Sampling)\n",
      "\n",
      " Elapsed Time: 0.702147 seconds (Warm-up)\n",
      "               0.723712 seconds (Sampling)\n",
      "               1.42586 seconds (Total)\n",
      "\n",
      "KL: 0.007543942663662984\n",
      "stimulus:  4\n",
      "sample:  8\n"
     ]
    },
    {
     "name": "stderr",
     "output_type": "stream",
     "text": [
      "WARNING:pystan:1284 of 16000 iterations ended with a divergence (8.03 %).\n",
      "WARNING:pystan:Try running with adapt_delta larger than 0.95 to remove the divergences.\n"
     ]
    },
    {
     "name": "stdout",
     "output_type": "stream",
     "text": [
      "\n",
      "Gradient evaluation took 3.8e-05 seconds\n",
      "1000 transitions using 10 leapfrog steps per transition would take 0.38 seconds.\n",
      "Adjust your expectations accordingly!\n",
      "\n",
      "\n",
      "Iteration:     1 / 20000 [  0%]  (Warmup)\n",
      "Iteration:  2000 / 20000 [ 10%]  (Warmup)\n",
      "Iteration:  4000 / 20000 [ 20%]  (Warmup)\n",
      "Iteration:  4001 / 20000 [ 20%]  (Sampling)\n",
      "Iteration:  6000 / 20000 [ 30%]  (Sampling)\n",
      "Iteration:  8000 / 20000 [ 40%]  (Sampling)\n",
      "Iteration: 10000 / 20000 [ 50%]  (Sampling)\n",
      "Iteration: 12000 / 20000 [ 60%]  (Sampling)\n",
      "Iteration: 14000 / 20000 [ 70%]  (Sampling)\n",
      "Iteration: 16000 / 20000 [ 80%]  (Sampling)\n",
      "Iteration: 18000 / 20000 [ 90%]  (Sampling)\n",
      "Iteration: 20000 / 20000 [100%]  (Sampling)\n",
      "\n",
      " Elapsed Time: 0.792121 seconds (Warm-up)\n",
      "               0.850578 seconds (Sampling)\n",
      "               1.6427 seconds (Total)\n",
      "\n"
     ]
    },
    {
     "name": "stderr",
     "output_type": "stream",
     "text": [
      "/Users/galraz1/opt/miniconda3/envs/stan_env/lib/python3.7/site-packages/ipykernel_launcher.py:60: UserWarning: Legend does not support 'p' instances.\n",
      "A proxy artist may be used instead.\n",
      "See: https://matplotlib.org/users/legend_guide.html#creating-artists-specifically-for-adding-to-the-legend-aka-proxy-artists\n",
      "/Users/galraz1/opt/miniconda3/envs/stan_env/lib/python3.7/site-packages/ipykernel_launcher.py:60: UserWarning: Legend does not support 'r' instances.\n",
      "A proxy artist may be used instead.\n",
      "See: https://matplotlib.org/users/legend_guide.html#creating-artists-specifically-for-adding-to-the-legend-aka-proxy-artists\n",
      "/Users/galraz1/opt/miniconda3/envs/stan_env/lib/python3.7/site-packages/ipykernel_launcher.py:60: UserWarning: Legend does not support 'i' instances.\n",
      "A proxy artist may be used instead.\n",
      "See: https://matplotlib.org/users/legend_guide.html#creating-artists-specifically-for-adding-to-the-legend-aka-proxy-artists\n",
      "/Users/galraz1/opt/miniconda3/envs/stan_env/lib/python3.7/site-packages/ipykernel_launcher.py:60: UserWarning: Legend does not support 'o' instances.\n",
      "A proxy artist may be used instead.\n",
      "See: https://matplotlib.org/users/legend_guide.html#creating-artists-specifically-for-adding-to-the-legend-aka-proxy-artists\n",
      "/Users/galraz1/opt/miniconda3/envs/stan_env/lib/python3.7/site-packages/ipykernel_launcher.py:67: UserWarning: Legend does not support 'p' instances.\n",
      "A proxy artist may be used instead.\n",
      "See: https://matplotlib.org/users/legend_guide.html#creating-artists-specifically-for-adding-to-the-legend-aka-proxy-artists\n",
      "/Users/galraz1/opt/miniconda3/envs/stan_env/lib/python3.7/site-packages/ipykernel_launcher.py:67: UserWarning: Legend does not support 'r' instances.\n",
      "A proxy artist may be used instead.\n",
      "See: https://matplotlib.org/users/legend_guide.html#creating-artists-specifically-for-adding-to-the-legend-aka-proxy-artists\n",
      "/Users/galraz1/opt/miniconda3/envs/stan_env/lib/python3.7/site-packages/ipykernel_launcher.py:67: UserWarning: Legend does not support 'i' instances.\n",
      "A proxy artist may be used instead.\n",
      "See: https://matplotlib.org/users/legend_guide.html#creating-artists-specifically-for-adding-to-the-legend-aka-proxy-artists\n",
      "/Users/galraz1/opt/miniconda3/envs/stan_env/lib/python3.7/site-packages/ipykernel_launcher.py:67: UserWarning: Legend does not support 'o' instances.\n",
      "A proxy artist may be used instead.\n",
      "See: https://matplotlib.org/users/legend_guide.html#creating-artists-specifically-for-adding-to-the-legend-aka-proxy-artists\n"
     ]
    },
    {
     "name": "stdout",
     "output_type": "stream",
     "text": [
      "KL: 0.19191189310014972\n",
      "stimulus:  4\n",
      "sample:  9\n",
      "\n"
     ]
    },
    {
     "name": "stderr",
     "output_type": "stream",
     "text": [
      "WARNING:pystan:436 of 16000 iterations ended with a divergence (2.73 %).\n",
      "WARNING:pystan:Try running with adapt_delta larger than 0.95 to remove the divergences.\n"
     ]
    },
    {
     "name": "stdout",
     "output_type": "stream",
     "text": [
      "Gradient evaluation took 2.7e-05 seconds\n",
      "1000 transitions using 10 leapfrog steps per transition would take 0.27 seconds.\n",
      "Adjust your expectations accordingly!\n",
      "\n",
      "\n",
      "Iteration:     1 / 20000 [  0%]  (Warmup)\n",
      "Iteration:  2000 / 20000 [ 10%]  (Warmup)\n",
      "Iteration:  4000 / 20000 [ 20%]  (Warmup)\n",
      "Iteration:  4001 / 20000 [ 20%]  (Sampling)\n",
      "Iteration:  6000 / 20000 [ 30%]  (Sampling)\n",
      "Iteration:  8000 / 20000 [ 40%]  (Sampling)\n",
      "Iteration: 10000 / 20000 [ 50%]  (Sampling)\n",
      "Iteration: 12000 / 20000 [ 60%]  (Sampling)\n",
      "Iteration: 14000 / 20000 [ 70%]  (Sampling)\n",
      "Iteration: 16000 / 20000 [ 80%]  (Sampling)\n",
      "Iteration: 18000 / 20000 [ 90%]  (Sampling)\n",
      "Iteration: 20000 / 20000 [100%]  (Sampling)\n",
      "\n",
      " Elapsed Time: 0.816292 seconds (Warm-up)\n",
      "               0.528246 seconds (Sampling)\n",
      "               1.34454 seconds (Total)\n",
      "\n"
     ]
    },
    {
     "name": "stderr",
     "output_type": "stream",
     "text": [
      "/Users/galraz1/opt/miniconda3/envs/stan_env/lib/python3.7/site-packages/ipykernel_launcher.py:60: UserWarning: Legend does not support 'p' instances.\n",
      "A proxy artist may be used instead.\n",
      "See: https://matplotlib.org/users/legend_guide.html#creating-artists-specifically-for-adding-to-the-legend-aka-proxy-artists\n",
      "/Users/galraz1/opt/miniconda3/envs/stan_env/lib/python3.7/site-packages/ipykernel_launcher.py:60: UserWarning: Legend does not support 'r' instances.\n",
      "A proxy artist may be used instead.\n",
      "See: https://matplotlib.org/users/legend_guide.html#creating-artists-specifically-for-adding-to-the-legend-aka-proxy-artists\n",
      "/Users/galraz1/opt/miniconda3/envs/stan_env/lib/python3.7/site-packages/ipykernel_launcher.py:60: UserWarning: Legend does not support 'i' instances.\n",
      "A proxy artist may be used instead.\n",
      "See: https://matplotlib.org/users/legend_guide.html#creating-artists-specifically-for-adding-to-the-legend-aka-proxy-artists\n",
      "/Users/galraz1/opt/miniconda3/envs/stan_env/lib/python3.7/site-packages/ipykernel_launcher.py:60: UserWarning: Legend does not support 'o' instances.\n",
      "A proxy artist may be used instead.\n",
      "See: https://matplotlib.org/users/legend_guide.html#creating-artists-specifically-for-adding-to-the-legend-aka-proxy-artists\n",
      "/Users/galraz1/opt/miniconda3/envs/stan_env/lib/python3.7/site-packages/ipykernel_launcher.py:67: UserWarning: Legend does not support 'p' instances.\n",
      "A proxy artist may be used instead.\n",
      "See: https://matplotlib.org/users/legend_guide.html#creating-artists-specifically-for-adding-to-the-legend-aka-proxy-artists\n",
      "/Users/galraz1/opt/miniconda3/envs/stan_env/lib/python3.7/site-packages/ipykernel_launcher.py:67: UserWarning: Legend does not support 'r' instances.\n",
      "A proxy artist may be used instead.\n",
      "See: https://matplotlib.org/users/legend_guide.html#creating-artists-specifically-for-adding-to-the-legend-aka-proxy-artists\n",
      "/Users/galraz1/opt/miniconda3/envs/stan_env/lib/python3.7/site-packages/ipykernel_launcher.py:67: UserWarning: Legend does not support 'i' instances.\n",
      "A proxy artist may be used instead.\n",
      "See: https://matplotlib.org/users/legend_guide.html#creating-artists-specifically-for-adding-to-the-legend-aka-proxy-artists\n",
      "/Users/galraz1/opt/miniconda3/envs/stan_env/lib/python3.7/site-packages/ipykernel_launcher.py:67: UserWarning: Legend does not support 'o' instances.\n",
      "A proxy artist may be used instead.\n",
      "See: https://matplotlib.org/users/legend_guide.html#creating-artists-specifically-for-adding-to-the-legend-aka-proxy-artists\n"
     ]
    },
    {
     "name": "stdout",
     "output_type": "stream",
     "text": [
      "KL: 0.06020500287694988\n",
      "stimulus:  4\n",
      "sample:  10\n"
     ]
    },
    {
     "name": "stderr",
     "output_type": "stream",
     "text": [
      "WARNING:pystan:168 of 16000 iterations ended with a divergence (1.05 %).\n",
      "WARNING:pystan:Try running with adapt_delta larger than 0.95 to remove the divergences.\n"
     ]
    },
    {
     "name": "stdout",
     "output_type": "stream",
     "text": [
      "\n",
      "Gradient evaluation took 3.8e-05 seconds\n",
      "1000 transitions using 10 leapfrog steps per transition would take 0.38 seconds.\n",
      "Adjust your expectations accordingly!\n",
      "\n",
      "\n",
      "Iteration:     1 / 20000 [  0%]  (Warmup)\n",
      "Iteration:  2000 / 20000 [ 10%]  (Warmup)\n",
      "Iteration:  4000 / 20000 [ 20%]  (Warmup)\n",
      "Iteration:  4001 / 20000 [ 20%]  (Sampling)\n",
      "Iteration:  6000 / 20000 [ 30%]  (Sampling)\n",
      "Iteration:  8000 / 20000 [ 40%]  (Sampling)\n",
      "Iteration: 10000 / 20000 [ 50%]  (Sampling)\n",
      "Iteration: 12000 / 20000 [ 60%]  (Sampling)\n",
      "Iteration: 14000 / 20000 [ 70%]  (Sampling)\n",
      "Iteration: 16000 / 20000 [ 80%]  (Sampling)\n",
      "Iteration: 18000 / 20000 [ 90%]  (Sampling)\n",
      "Iteration: 20000 / 20000 [100%]  (Sampling)\n",
      "\n",
      " Elapsed Time: 0.806479 seconds (Warm-up)\n",
      "               0.792219 seconds (Sampling)\n",
      "               1.5987 seconds (Total)\n",
      "\n"
     ]
    },
    {
     "name": "stderr",
     "output_type": "stream",
     "text": [
      "/Users/galraz1/opt/miniconda3/envs/stan_env/lib/python3.7/site-packages/ipykernel_launcher.py:60: UserWarning: Legend does not support 'p' instances.\n",
      "A proxy artist may be used instead.\n",
      "See: https://matplotlib.org/users/legend_guide.html#creating-artists-specifically-for-adding-to-the-legend-aka-proxy-artists\n",
      "/Users/galraz1/opt/miniconda3/envs/stan_env/lib/python3.7/site-packages/ipykernel_launcher.py:60: UserWarning: Legend does not support 'r' instances.\n",
      "A proxy artist may be used instead.\n",
      "See: https://matplotlib.org/users/legend_guide.html#creating-artists-specifically-for-adding-to-the-legend-aka-proxy-artists\n",
      "/Users/galraz1/opt/miniconda3/envs/stan_env/lib/python3.7/site-packages/ipykernel_launcher.py:60: UserWarning: Legend does not support 'i' instances.\n",
      "A proxy artist may be used instead.\n",
      "See: https://matplotlib.org/users/legend_guide.html#creating-artists-specifically-for-adding-to-the-legend-aka-proxy-artists\n",
      "/Users/galraz1/opt/miniconda3/envs/stan_env/lib/python3.7/site-packages/ipykernel_launcher.py:60: UserWarning: Legend does not support 'o' instances.\n",
      "A proxy artist may be used instead.\n",
      "See: https://matplotlib.org/users/legend_guide.html#creating-artists-specifically-for-adding-to-the-legend-aka-proxy-artists\n",
      "/Users/galraz1/opt/miniconda3/envs/stan_env/lib/python3.7/site-packages/ipykernel_launcher.py:67: UserWarning: Legend does not support 'p' instances.\n",
      "A proxy artist may be used instead.\n",
      "See: https://matplotlib.org/users/legend_guide.html#creating-artists-specifically-for-adding-to-the-legend-aka-proxy-artists\n",
      "/Users/galraz1/opt/miniconda3/envs/stan_env/lib/python3.7/site-packages/ipykernel_launcher.py:67: UserWarning: Legend does not support 'r' instances.\n",
      "A proxy artist may be used instead.\n",
      "See: https://matplotlib.org/users/legend_guide.html#creating-artists-specifically-for-adding-to-the-legend-aka-proxy-artists\n",
      "/Users/galraz1/opt/miniconda3/envs/stan_env/lib/python3.7/site-packages/ipykernel_launcher.py:67: UserWarning: Legend does not support 'i' instances.\n",
      "A proxy artist may be used instead.\n",
      "See: https://matplotlib.org/users/legend_guide.html#creating-artists-specifically-for-adding-to-the-legend-aka-proxy-artists\n",
      "/Users/galraz1/opt/miniconda3/envs/stan_env/lib/python3.7/site-packages/ipykernel_launcher.py:67: UserWarning: Legend does not support 'o' instances.\n",
      "A proxy artist may be used instead.\n",
      "See: https://matplotlib.org/users/legend_guide.html#creating-artists-specifically-for-adding-to-the-legend-aka-proxy-artists\n"
     ]
    },
    {
     "name": "stdout",
     "output_type": "stream",
     "text": [
      "KL: 0.006981073248667979\n",
      "stimulus:  5\n",
      "sample:  11\n"
     ]
    },
    {
     "name": "stderr",
     "output_type": "stream",
     "text": [
      "WARNING:pystan:377 of 16000 iterations ended with a divergence (2.36 %).\n",
      "WARNING:pystan:Try running with adapt_delta larger than 0.95 to remove the divergences.\n"
     ]
    },
    {
     "name": "stdout",
     "output_type": "stream",
     "text": [
      "\n",
      "Gradient evaluation took 3.6e-05 seconds\n",
      "1000 transitions using 10 leapfrog steps per transition would take 0.36 seconds.\n",
      "Adjust your expectations accordingly!\n",
      "\n",
      "\n",
      "Iteration:     1 / 20000 [  0%]  (Warmup)\n",
      "Iteration:  2000 / 20000 [ 10%]  (Warmup)\n",
      "Iteration:  4000 / 20000 [ 20%]  (Warmup)\n",
      "Iteration:  4001 / 20000 [ 20%]  (Sampling)\n",
      "Iteration:  6000 / 20000 [ 30%]  (Sampling)\n",
      "Iteration:  8000 / 20000 [ 40%]  (Sampling)\n",
      "Iteration: 10000 / 20000 [ 50%]  (Sampling)\n",
      "Iteration: 12000 / 20000 [ 60%]  (Sampling)\n",
      "Iteration: 14000 / 20000 [ 70%]  (Sampling)\n",
      "Iteration: 16000 / 20000 [ 80%]  (Sampling)\n",
      "Iteration: 18000 / 20000 [ 90%]  (Sampling)\n",
      "Iteration: 20000 / 20000 [100%]  (Sampling)\n",
      "\n",
      " Elapsed Time: 0.619338 seconds (Warm-up)\n",
      "               0.688896 seconds (Sampling)\n",
      "               1.30823 seconds (Total)\n",
      "\n"
     ]
    },
    {
     "name": "stderr",
     "output_type": "stream",
     "text": [
      "/Users/galraz1/opt/miniconda3/envs/stan_env/lib/python3.7/site-packages/ipykernel_launcher.py:60: UserWarning: Legend does not support 'p' instances.\n",
      "A proxy artist may be used instead.\n",
      "See: https://matplotlib.org/users/legend_guide.html#creating-artists-specifically-for-adding-to-the-legend-aka-proxy-artists\n",
      "/Users/galraz1/opt/miniconda3/envs/stan_env/lib/python3.7/site-packages/ipykernel_launcher.py:60: UserWarning: Legend does not support 'r' instances.\n",
      "A proxy artist may be used instead.\n",
      "See: https://matplotlib.org/users/legend_guide.html#creating-artists-specifically-for-adding-to-the-legend-aka-proxy-artists\n",
      "/Users/galraz1/opt/miniconda3/envs/stan_env/lib/python3.7/site-packages/ipykernel_launcher.py:60: UserWarning: Legend does not support 'i' instances.\n",
      "A proxy artist may be used instead.\n",
      "See: https://matplotlib.org/users/legend_guide.html#creating-artists-specifically-for-adding-to-the-legend-aka-proxy-artists\n",
      "/Users/galraz1/opt/miniconda3/envs/stan_env/lib/python3.7/site-packages/ipykernel_launcher.py:60: UserWarning: Legend does not support 'o' instances.\n",
      "A proxy artist may be used instead.\n",
      "See: https://matplotlib.org/users/legend_guide.html#creating-artists-specifically-for-adding-to-the-legend-aka-proxy-artists\n",
      "/Users/galraz1/opt/miniconda3/envs/stan_env/lib/python3.7/site-packages/ipykernel_launcher.py:67: UserWarning: Legend does not support 'p' instances.\n",
      "A proxy artist may be used instead.\n",
      "See: https://matplotlib.org/users/legend_guide.html#creating-artists-specifically-for-adding-to-the-legend-aka-proxy-artists\n",
      "/Users/galraz1/opt/miniconda3/envs/stan_env/lib/python3.7/site-packages/ipykernel_launcher.py:67: UserWarning: Legend does not support 'r' instances.\n",
      "A proxy artist may be used instead.\n",
      "See: https://matplotlib.org/users/legend_guide.html#creating-artists-specifically-for-adding-to-the-legend-aka-proxy-artists\n",
      "/Users/galraz1/opt/miniconda3/envs/stan_env/lib/python3.7/site-packages/ipykernel_launcher.py:67: UserWarning: Legend does not support 'i' instances.\n",
      "A proxy artist may be used instead.\n",
      "See: https://matplotlib.org/users/legend_guide.html#creating-artists-specifically-for-adding-to-the-legend-aka-proxy-artists\n",
      "/Users/galraz1/opt/miniconda3/envs/stan_env/lib/python3.7/site-packages/ipykernel_launcher.py:67: UserWarning: Legend does not support 'o' instances.\n",
      "A proxy artist may be used instead.\n",
      "See: https://matplotlib.org/users/legend_guide.html#creating-artists-specifically-for-adding-to-the-legend-aka-proxy-artists\n"
     ]
    },
    {
     "name": "stdout",
     "output_type": "stream",
     "text": [
      "KL: 0.0686812689955083\n",
      "stimulus:  5\n",
      "sample:  12\n",
      "\n"
     ]
    },
    {
     "name": "stderr",
     "output_type": "stream",
     "text": [
      "WARNING:pystan:164 of 16000 iterations ended with a divergence (1.02 %).\n",
      "WARNING:pystan:Try running with adapt_delta larger than 0.95 to remove the divergences.\n"
     ]
    },
    {
     "name": "stdout",
     "output_type": "stream",
     "text": [
      "Gradient evaluation took 3.4e-05 seconds\n",
      "1000 transitions using 10 leapfrog steps per transition would take 0.34 seconds.\n",
      "Adjust your expectations accordingly!\n",
      "\n",
      "\n",
      "Iteration:     1 / 20000 [  0%]  (Warmup)\n",
      "Iteration:  2000 / 20000 [ 10%]  (Warmup)\n",
      "Iteration:  4000 / 20000 [ 20%]  (Warmup)\n",
      "Iteration:  4001 / 20000 [ 20%]  (Sampling)\n",
      "Iteration:  6000 / 20000 [ 30%]  (Sampling)\n",
      "Iteration:  8000 / 20000 [ 40%]  (Sampling)\n",
      "Iteration: 10000 / 20000 [ 50%]  (Sampling)\n",
      "Iteration: 12000 / 20000 [ 60%]  (Sampling)\n",
      "Iteration: 14000 / 20000 [ 70%]  (Sampling)\n",
      "Iteration: 16000 / 20000 [ 80%]  (Sampling)\n",
      "Iteration: 18000 / 20000 [ 90%]  (Sampling)\n",
      "Iteration: 20000 / 20000 [100%]  (Sampling)\n",
      "\n",
      " Elapsed Time: 0.833152 seconds (Warm-up)\n",
      "               0.857705 seconds (Sampling)\n",
      "               1.69086 seconds (Total)\n",
      "\n"
     ]
    },
    {
     "name": "stderr",
     "output_type": "stream",
     "text": [
      "/Users/galraz1/opt/miniconda3/envs/stan_env/lib/python3.7/site-packages/ipykernel_launcher.py:60: UserWarning: Legend does not support 'p' instances.\n",
      "A proxy artist may be used instead.\n",
      "See: https://matplotlib.org/users/legend_guide.html#creating-artists-specifically-for-adding-to-the-legend-aka-proxy-artists\n",
      "/Users/galraz1/opt/miniconda3/envs/stan_env/lib/python3.7/site-packages/ipykernel_launcher.py:60: UserWarning: Legend does not support 'r' instances.\n",
      "A proxy artist may be used instead.\n",
      "See: https://matplotlib.org/users/legend_guide.html#creating-artists-specifically-for-adding-to-the-legend-aka-proxy-artists\n",
      "/Users/galraz1/opt/miniconda3/envs/stan_env/lib/python3.7/site-packages/ipykernel_launcher.py:60: UserWarning: Legend does not support 'i' instances.\n",
      "A proxy artist may be used instead.\n",
      "See: https://matplotlib.org/users/legend_guide.html#creating-artists-specifically-for-adding-to-the-legend-aka-proxy-artists\n",
      "/Users/galraz1/opt/miniconda3/envs/stan_env/lib/python3.7/site-packages/ipykernel_launcher.py:60: UserWarning: Legend does not support 'o' instances.\n",
      "A proxy artist may be used instead.\n",
      "See: https://matplotlib.org/users/legend_guide.html#creating-artists-specifically-for-adding-to-the-legend-aka-proxy-artists\n",
      "/Users/galraz1/opt/miniconda3/envs/stan_env/lib/python3.7/site-packages/ipykernel_launcher.py:67: UserWarning: Legend does not support 'p' instances.\n",
      "A proxy artist may be used instead.\n",
      "See: https://matplotlib.org/users/legend_guide.html#creating-artists-specifically-for-adding-to-the-legend-aka-proxy-artists\n",
      "/Users/galraz1/opt/miniconda3/envs/stan_env/lib/python3.7/site-packages/ipykernel_launcher.py:67: UserWarning: Legend does not support 'r' instances.\n",
      "A proxy artist may be used instead.\n",
      "See: https://matplotlib.org/users/legend_guide.html#creating-artists-specifically-for-adding-to-the-legend-aka-proxy-artists\n",
      "/Users/galraz1/opt/miniconda3/envs/stan_env/lib/python3.7/site-packages/ipykernel_launcher.py:67: UserWarning: Legend does not support 'i' instances.\n",
      "A proxy artist may be used instead.\n",
      "See: https://matplotlib.org/users/legend_guide.html#creating-artists-specifically-for-adding-to-the-legend-aka-proxy-artists\n",
      "/Users/galraz1/opt/miniconda3/envs/stan_env/lib/python3.7/site-packages/ipykernel_launcher.py:67: UserWarning: Legend does not support 'o' instances.\n",
      "A proxy artist may be used instead.\n",
      "See: https://matplotlib.org/users/legend_guide.html#creating-artists-specifically-for-adding-to-the-legend-aka-proxy-artists\n"
     ]
    },
    {
     "name": "stdout",
     "output_type": "stream",
     "text": [
      "KL: 0.006282545651018601\n",
      "stimulus:  6\n",
      "sample:  13\n",
      "\n"
     ]
    },
    {
     "name": "stderr",
     "output_type": "stream",
     "text": [
      "WARNING:pystan:2 of 16000 iterations ended with a divergence (0.0125 %).\n",
      "WARNING:pystan:Try running with adapt_delta larger than 0.95 to remove the divergences.\n",
      "/Users/galraz1/opt/miniconda3/envs/stan_env/lib/python3.7/site-packages/ipykernel_launcher.py:60: UserWarning: Legend does not support 'p' instances.\n",
      "A proxy artist may be used instead.\n",
      "See: https://matplotlib.org/users/legend_guide.html#creating-artists-specifically-for-adding-to-the-legend-aka-proxy-artists\n",
      "/Users/galraz1/opt/miniconda3/envs/stan_env/lib/python3.7/site-packages/ipykernel_launcher.py:60: UserWarning: Legend does not support 'r' instances.\n",
      "A proxy artist may be used instead.\n",
      "See: https://matplotlib.org/users/legend_guide.html#creating-artists-specifically-for-adding-to-the-legend-aka-proxy-artists\n",
      "/Users/galraz1/opt/miniconda3/envs/stan_env/lib/python3.7/site-packages/ipykernel_launcher.py:60: UserWarning: Legend does not support 'i' instances.\n",
      "A proxy artist may be used instead.\n",
      "See: https://matplotlib.org/users/legend_guide.html#creating-artists-specifically-for-adding-to-the-legend-aka-proxy-artists\n",
      "/Users/galraz1/opt/miniconda3/envs/stan_env/lib/python3.7/site-packages/ipykernel_launcher.py:60: UserWarning: Legend does not support 'o' instances.\n",
      "A proxy artist may be used instead.\n",
      "See: https://matplotlib.org/users/legend_guide.html#creating-artists-specifically-for-adding-to-the-legend-aka-proxy-artists\n",
      "/Users/galraz1/opt/miniconda3/envs/stan_env/lib/python3.7/site-packages/ipykernel_launcher.py:67: UserWarning: Legend does not support 'p' instances.\n",
      "A proxy artist may be used instead.\n",
      "See: https://matplotlib.org/users/legend_guide.html#creating-artists-specifically-for-adding-to-the-legend-aka-proxy-artists\n",
      "/Users/galraz1/opt/miniconda3/envs/stan_env/lib/python3.7/site-packages/ipykernel_launcher.py:67: UserWarning: Legend does not support 'r' instances.\n",
      "A proxy artist may be used instead.\n",
      "See: https://matplotlib.org/users/legend_guide.html#creating-artists-specifically-for-adding-to-the-legend-aka-proxy-artists\n",
      "/Users/galraz1/opt/miniconda3/envs/stan_env/lib/python3.7/site-packages/ipykernel_launcher.py:67: UserWarning: Legend does not support 'i' instances.\n",
      "A proxy artist may be used instead.\n",
      "See: https://matplotlib.org/users/legend_guide.html#creating-artists-specifically-for-adding-to-the-legend-aka-proxy-artists\n",
      "/Users/galraz1/opt/miniconda3/envs/stan_env/lib/python3.7/site-packages/ipykernel_launcher.py:67: UserWarning: Legend does not support 'o' instances.\n",
      "A proxy artist may be used instead.\n",
      "See: https://matplotlib.org/users/legend_guide.html#creating-artists-specifically-for-adding-to-the-legend-aka-proxy-artists\n"
     ]
    },
    {
     "name": "stdout",
     "output_type": "stream",
     "text": [
      "Gradient evaluation took 4.2e-05 seconds\n",
      "1000 transitions using 10 leapfrog steps per transition would take 0.42 seconds.\n",
      "Adjust your expectations accordingly!\n",
      "\n",
      "\n",
      "Iteration:     1 / 20000 [  0%]  (Warmup)\n",
      "Iteration:  2000 / 20000 [ 10%]  (Warmup)\n",
      "Iteration:  4000 / 20000 [ 20%]  (Warmup)\n",
      "Iteration:  4001 / 20000 [ 20%]  (Sampling)\n",
      "Iteration:  6000 / 20000 [ 30%]  (Sampling)\n",
      "Iteration:  8000 / 20000 [ 40%]  (Sampling)\n",
      "Iteration: 10000 / 20000 [ 50%]  (Sampling)\n",
      "Iteration: 12000 / 20000 [ 60%]  (Sampling)\n",
      "Iteration: 14000 / 20000 [ 70%]  (Sampling)\n",
      "Iteration: 16000 / 20000 [ 80%]  (Sampling)\n",
      "Iteration: 18000 / 20000 [ 90%]  (Sampling)\n",
      "Iteration: 20000 / 20000 [100%]  (Sampling)\n",
      "\n",
      " Elapsed Time: 0.717588 seconds (Warm-up)\n",
      "               0.989295 seconds (Sampling)\n",
      "               1.70688 seconds (Total)\n",
      "\n",
      "KL: 2.939783367919323\n",
      "stimulus:  6\n",
      "sample:  14\n",
      "\n",
      "Gradient evaluation took 5.9e-05 seconds\n",
      "1000 transitions using 10 leapfrog steps per transition would take 0.59 seconds.\n",
      "Adjust your expectations accordingly!\n",
      "\n",
      "\n",
      "Iteration:     1 / 20000 [  0%]  (Warmup)\n",
      "Iteration:  2000 / 20000 [ 10%]  (Warmup)\n",
      "Iteration:  4000 / 20000 [ 20%]  (Warmup)\n",
      "Iteration:  4001 / 20000 [ 20%]  (Sampling)\n",
      "Iteration:  6000 / 20000 [ 30%]  (Sampling)\n",
      "Iteration:  8000 / 20000 [ 40%]  (Sampling)\n",
      "Iteration: 10000 / 20000 [ 50%]  (Sampling)\n",
      "Iteration: 12000 / 20000 [ 60%]  (Sampling)\n",
      "Iteration: 14000 / 20000 [ 70%]  (Sampling)\n",
      "Iteration: 16000 / 20000 [ 80%]  (Sampling)\n",
      "Iteration: 18000 / 20000 [ 90%]  (Sampling)\n",
      "Iteration: 20000 / 20000 [100%]  (Sampling)\n",
      "\n",
      " Elapsed Time: 0.691113 seconds (Warm-up)\n",
      "               0.872268 seconds (Sampling)\n",
      "               1.56338 seconds (Total)\n",
      "\n"
     ]
    },
    {
     "name": "stderr",
     "output_type": "stream",
     "text": [
      "/Users/galraz1/opt/miniconda3/envs/stan_env/lib/python3.7/site-packages/ipykernel_launcher.py:60: UserWarning: Legend does not support 'p' instances.\n",
      "A proxy artist may be used instead.\n",
      "See: https://matplotlib.org/users/legend_guide.html#creating-artists-specifically-for-adding-to-the-legend-aka-proxy-artists\n",
      "/Users/galraz1/opt/miniconda3/envs/stan_env/lib/python3.7/site-packages/ipykernel_launcher.py:60: UserWarning: Legend does not support 'r' instances.\n",
      "A proxy artist may be used instead.\n",
      "See: https://matplotlib.org/users/legend_guide.html#creating-artists-specifically-for-adding-to-the-legend-aka-proxy-artists\n",
      "/Users/galraz1/opt/miniconda3/envs/stan_env/lib/python3.7/site-packages/ipykernel_launcher.py:60: UserWarning: Legend does not support 'i' instances.\n",
      "A proxy artist may be used instead.\n",
      "See: https://matplotlib.org/users/legend_guide.html#creating-artists-specifically-for-adding-to-the-legend-aka-proxy-artists\n",
      "/Users/galraz1/opt/miniconda3/envs/stan_env/lib/python3.7/site-packages/ipykernel_launcher.py:60: UserWarning: Legend does not support 'o' instances.\n",
      "A proxy artist may be used instead.\n",
      "See: https://matplotlib.org/users/legend_guide.html#creating-artists-specifically-for-adding-to-the-legend-aka-proxy-artists\n",
      "/Users/galraz1/opt/miniconda3/envs/stan_env/lib/python3.7/site-packages/ipykernel_launcher.py:67: UserWarning: Legend does not support 'p' instances.\n",
      "A proxy artist may be used instead.\n",
      "See: https://matplotlib.org/users/legend_guide.html#creating-artists-specifically-for-adding-to-the-legend-aka-proxy-artists\n",
      "/Users/galraz1/opt/miniconda3/envs/stan_env/lib/python3.7/site-packages/ipykernel_launcher.py:67: UserWarning: Legend does not support 'r' instances.\n",
      "A proxy artist may be used instead.\n",
      "See: https://matplotlib.org/users/legend_guide.html#creating-artists-specifically-for-adding-to-the-legend-aka-proxy-artists\n",
      "/Users/galraz1/opt/miniconda3/envs/stan_env/lib/python3.7/site-packages/ipykernel_launcher.py:67: UserWarning: Legend does not support 'i' instances.\n",
      "A proxy artist may be used instead.\n",
      "See: https://matplotlib.org/users/legend_guide.html#creating-artists-specifically-for-adding-to-the-legend-aka-proxy-artists\n",
      "/Users/galraz1/opt/miniconda3/envs/stan_env/lib/python3.7/site-packages/ipykernel_launcher.py:67: UserWarning: Legend does not support 'o' instances.\n",
      "A proxy artist may be used instead.\n",
      "See: https://matplotlib.org/users/legend_guide.html#creating-artists-specifically-for-adding-to-the-legend-aka-proxy-artists\n"
     ]
    },
    {
     "name": "stdout",
     "output_type": "stream",
     "text": [
      "KL: 0.08128362762852626\n",
      "stimulus:  6\n",
      "sample:  15\n",
      "\n",
      "Gradient evaluation took 6.2e-05 seconds\n",
      "1000 transitions using 10 leapfrog steps per transition would take 0.62 seconds.\n",
      "Adjust your expectations accordingly!\n",
      "\n",
      "\n",
      "Iteration:     1 / 20000 [  0%]  (Warmup)\n",
      "Iteration:  2000 / 20000 [ 10%]  (Warmup)\n",
      "Iteration:  4000 / 20000 [ 20%]  (Warmup)\n",
      "Iteration:  4001 / 20000 [ 20%]  (Sampling)\n",
      "Iteration:  6000 / 20000 [ 30%]  (Sampling)\n",
      "Iteration:  8000 / 20000 [ 40%]  (Sampling)\n",
      "Iteration: 10000 / 20000 [ 50%]  (Sampling)\n",
      "Iteration: 12000 / 20000 [ 60%]  (Sampling)\n",
      "Iteration: 14000 / 20000 [ 70%]  (Sampling)\n",
      "Iteration: 16000 / 20000 [ 80%]  (Sampling)\n",
      "Iteration: 18000 / 20000 [ 90%]  (Sampling)\n",
      "Iteration: 20000 / 20000 [100%]  (Sampling)\n",
      "\n",
      " Elapsed Time: 0.345617 seconds (Warm-up)\n",
      "               0.719225 seconds (Sampling)\n",
      "               1.06484 seconds (Total)\n",
      "\n"
     ]
    },
    {
     "name": "stderr",
     "output_type": "stream",
     "text": [
      "/Users/galraz1/opt/miniconda3/envs/stan_env/lib/python3.7/site-packages/ipykernel_launcher.py:60: UserWarning: Legend does not support 'p' instances.\n",
      "A proxy artist may be used instead.\n",
      "See: https://matplotlib.org/users/legend_guide.html#creating-artists-specifically-for-adding-to-the-legend-aka-proxy-artists\n",
      "/Users/galraz1/opt/miniconda3/envs/stan_env/lib/python3.7/site-packages/ipykernel_launcher.py:60: UserWarning: Legend does not support 'r' instances.\n",
      "A proxy artist may be used instead.\n",
      "See: https://matplotlib.org/users/legend_guide.html#creating-artists-specifically-for-adding-to-the-legend-aka-proxy-artists\n",
      "/Users/galraz1/opt/miniconda3/envs/stan_env/lib/python3.7/site-packages/ipykernel_launcher.py:60: UserWarning: Legend does not support 'i' instances.\n",
      "A proxy artist may be used instead.\n",
      "See: https://matplotlib.org/users/legend_guide.html#creating-artists-specifically-for-adding-to-the-legend-aka-proxy-artists\n",
      "/Users/galraz1/opt/miniconda3/envs/stan_env/lib/python3.7/site-packages/ipykernel_launcher.py:60: UserWarning: Legend does not support 'o' instances.\n",
      "A proxy artist may be used instead.\n",
      "See: https://matplotlib.org/users/legend_guide.html#creating-artists-specifically-for-adding-to-the-legend-aka-proxy-artists\n",
      "/Users/galraz1/opt/miniconda3/envs/stan_env/lib/python3.7/site-packages/ipykernel_launcher.py:67: UserWarning: Legend does not support 'p' instances.\n",
      "A proxy artist may be used instead.\n",
      "See: https://matplotlib.org/users/legend_guide.html#creating-artists-specifically-for-adding-to-the-legend-aka-proxy-artists\n",
      "/Users/galraz1/opt/miniconda3/envs/stan_env/lib/python3.7/site-packages/ipykernel_launcher.py:67: UserWarning: Legend does not support 'r' instances.\n",
      "A proxy artist may be used instead.\n",
      "See: https://matplotlib.org/users/legend_guide.html#creating-artists-specifically-for-adding-to-the-legend-aka-proxy-artists\n",
      "/Users/galraz1/opt/miniconda3/envs/stan_env/lib/python3.7/site-packages/ipykernel_launcher.py:67: UserWarning: Legend does not support 'i' instances.\n",
      "A proxy artist may be used instead.\n",
      "See: https://matplotlib.org/users/legend_guide.html#creating-artists-specifically-for-adding-to-the-legend-aka-proxy-artists\n",
      "/Users/galraz1/opt/miniconda3/envs/stan_env/lib/python3.7/site-packages/ipykernel_launcher.py:67: UserWarning: Legend does not support 'o' instances.\n",
      "A proxy artist may be used instead.\n",
      "See: https://matplotlib.org/users/legend_guide.html#creating-artists-specifically-for-adding-to-the-legend-aka-proxy-artists\n"
     ]
    },
    {
     "name": "stdout",
     "output_type": "stream",
     "text": [
      "KL: 0.013968945754560314\n",
      "stimulus:  6\n",
      "sample:  16\n",
      "\n",
      "Gradient evaluation took 6.2e-05 seconds\n",
      "1000 transitions using 10 leapfrog steps per transition would take 0.62 seconds.\n",
      "Adjust your expectations accordingly!\n",
      "\n",
      "\n",
      "Iteration:     1 / 20000 [  0%]  (Warmup)\n",
      "Iteration:  2000 / 20000 [ 10%]  (Warmup)\n",
      "Iteration:  4000 / 20000 [ 20%]  (Warmup)\n",
      "Iteration:  4001 / 20000 [ 20%]  (Sampling)\n",
      "Iteration:  6000 / 20000 [ 30%]  (Sampling)\n",
      "Iteration:  8000 / 20000 [ 40%]  (Sampling)\n",
      "Iteration: 10000 / 20000 [ 50%]  (Sampling)\n",
      "Iteration: 12000 / 20000 [ 60%]  (Sampling)\n",
      "Iteration: 14000 / 20000 [ 70%]  (Sampling)\n",
      "Iteration: 16000 / 20000 [ 80%]  (Sampling)\n",
      "Iteration: 18000 / 20000 [ 90%]  (Sampling)\n",
      "Iteration: 20000 / 20000 [100%]  (Sampling)\n",
      "\n",
      " Elapsed Time: 0.49608 seconds (Warm-up)\n",
      "               0.591617 seconds (Sampling)\n",
      "               1.0877 seconds (Total)\n",
      "\n"
     ]
    },
    {
     "name": "stderr",
     "output_type": "stream",
     "text": [
      "/Users/galraz1/opt/miniconda3/envs/stan_env/lib/python3.7/site-packages/ipykernel_launcher.py:60: UserWarning: Legend does not support 'p' instances.\n",
      "A proxy artist may be used instead.\n",
      "See: https://matplotlib.org/users/legend_guide.html#creating-artists-specifically-for-adding-to-the-legend-aka-proxy-artists\n",
      "/Users/galraz1/opt/miniconda3/envs/stan_env/lib/python3.7/site-packages/ipykernel_launcher.py:60: UserWarning: Legend does not support 'r' instances.\n",
      "A proxy artist may be used instead.\n",
      "See: https://matplotlib.org/users/legend_guide.html#creating-artists-specifically-for-adding-to-the-legend-aka-proxy-artists\n",
      "/Users/galraz1/opt/miniconda3/envs/stan_env/lib/python3.7/site-packages/ipykernel_launcher.py:60: UserWarning: Legend does not support 'i' instances.\n",
      "A proxy artist may be used instead.\n",
      "See: https://matplotlib.org/users/legend_guide.html#creating-artists-specifically-for-adding-to-the-legend-aka-proxy-artists\n",
      "/Users/galraz1/opt/miniconda3/envs/stan_env/lib/python3.7/site-packages/ipykernel_launcher.py:60: UserWarning: Legend does not support 'o' instances.\n",
      "A proxy artist may be used instead.\n",
      "See: https://matplotlib.org/users/legend_guide.html#creating-artists-specifically-for-adding-to-the-legend-aka-proxy-artists\n",
      "/Users/galraz1/opt/miniconda3/envs/stan_env/lib/python3.7/site-packages/ipykernel_launcher.py:67: UserWarning: Legend does not support 'p' instances.\n",
      "A proxy artist may be used instead.\n",
      "See: https://matplotlib.org/users/legend_guide.html#creating-artists-specifically-for-adding-to-the-legend-aka-proxy-artists\n",
      "/Users/galraz1/opt/miniconda3/envs/stan_env/lib/python3.7/site-packages/ipykernel_launcher.py:67: UserWarning: Legend does not support 'r' instances.\n",
      "A proxy artist may be used instead.\n",
      "See: https://matplotlib.org/users/legend_guide.html#creating-artists-specifically-for-adding-to-the-legend-aka-proxy-artists\n",
      "/Users/galraz1/opt/miniconda3/envs/stan_env/lib/python3.7/site-packages/ipykernel_launcher.py:67: UserWarning: Legend does not support 'i' instances.\n",
      "A proxy artist may be used instead.\n",
      "See: https://matplotlib.org/users/legend_guide.html#creating-artists-specifically-for-adding-to-the-legend-aka-proxy-artists\n",
      "/Users/galraz1/opt/miniconda3/envs/stan_env/lib/python3.7/site-packages/ipykernel_launcher.py:67: UserWarning: Legend does not support 'o' instances.\n",
      "A proxy artist may be used instead.\n",
      "See: https://matplotlib.org/users/legend_guide.html#creating-artists-specifically-for-adding-to-the-legend-aka-proxy-artists\n"
     ]
    },
    {
     "name": "stdout",
     "output_type": "stream",
     "text": [
      "KL: 0.004936030694255522\n",
      "model run:  4\n"
     ]
    },
    {
     "name": "stderr",
     "output_type": "stream",
     "text": [
      "WARNING:pystan:57 of 16000 iterations ended with a divergence (0.356 %).\n",
      "WARNING:pystan:Try running with adapt_delta larger than 0.95 to remove the divergences.\n"
     ]
    },
    {
     "name": "stdout",
     "output_type": "stream",
     "text": [
      "stimulus:  1\n",
      "sample:  1\n",
      "\n",
      "Gradient evaluation took 1e-05 seconds\n",
      "1000 transitions using 10 leapfrog steps per transition would take 0.1 seconds.\n",
      "Adjust your expectations accordingly!\n",
      "\n",
      "\n",
      "Iteration:     1 / 20000 [  0%]  (Warmup)\n",
      "Iteration:  2000 / 20000 [ 10%]  (Warmup)\n",
      "Iteration:  4000 / 20000 [ 20%]  (Warmup)\n",
      "Iteration:  4001 / 20000 [ 20%]  (Sampling)\n",
      "Iteration:  6000 / 20000 [ 30%]  (Sampling)\n",
      "Iteration:  8000 / 20000 [ 40%]  (Sampling)\n",
      "Iteration: 10000 / 20000 [ 50%]  (Sampling)\n",
      "Iteration: 12000 / 20000 [ 60%]  (Sampling)\n",
      "Iteration: 14000 / 20000 [ 70%]  (Sampling)\n",
      "Iteration: 16000 / 20000 [ 80%]  (Sampling)\n",
      "Iteration: 18000 / 20000 [ 90%]  (Sampling)\n",
      "Iteration: 20000 / 20000 [100%]  (Sampling)\n",
      "\n",
      " Elapsed Time: 0.08983 seconds (Warm-up)\n",
      "               0.41898 seconds (Sampling)\n",
      "               0.50881 seconds (Total)\n",
      "\n"
     ]
    },
    {
     "name": "stderr",
     "output_type": "stream",
     "text": [
      "/Users/galraz1/opt/miniconda3/envs/stan_env/lib/python3.7/site-packages/ipykernel_launcher.py:60: UserWarning: Legend does not support 'p' instances.\n",
      "A proxy artist may be used instead.\n",
      "See: https://matplotlib.org/users/legend_guide.html#creating-artists-specifically-for-adding-to-the-legend-aka-proxy-artists\n",
      "/Users/galraz1/opt/miniconda3/envs/stan_env/lib/python3.7/site-packages/ipykernel_launcher.py:60: UserWarning: Legend does not support 'r' instances.\n",
      "A proxy artist may be used instead.\n",
      "See: https://matplotlib.org/users/legend_guide.html#creating-artists-specifically-for-adding-to-the-legend-aka-proxy-artists\n",
      "/Users/galraz1/opt/miniconda3/envs/stan_env/lib/python3.7/site-packages/ipykernel_launcher.py:60: UserWarning: Legend does not support 'i' instances.\n",
      "A proxy artist may be used instead.\n",
      "See: https://matplotlib.org/users/legend_guide.html#creating-artists-specifically-for-adding-to-the-legend-aka-proxy-artists\n",
      "/Users/galraz1/opt/miniconda3/envs/stan_env/lib/python3.7/site-packages/ipykernel_launcher.py:60: UserWarning: Legend does not support 'o' instances.\n",
      "A proxy artist may be used instead.\n",
      "See: https://matplotlib.org/users/legend_guide.html#creating-artists-specifically-for-adding-to-the-legend-aka-proxy-artists\n",
      "/Users/galraz1/opt/miniconda3/envs/stan_env/lib/python3.7/site-packages/ipykernel_launcher.py:67: UserWarning: Legend does not support 'p' instances.\n",
      "A proxy artist may be used instead.\n",
      "See: https://matplotlib.org/users/legend_guide.html#creating-artists-specifically-for-adding-to-the-legend-aka-proxy-artists\n",
      "/Users/galraz1/opt/miniconda3/envs/stan_env/lib/python3.7/site-packages/ipykernel_launcher.py:67: UserWarning: Legend does not support 'r' instances.\n",
      "A proxy artist may be used instead.\n",
      "See: https://matplotlib.org/users/legend_guide.html#creating-artists-specifically-for-adding-to-the-legend-aka-proxy-artists\n",
      "/Users/galraz1/opt/miniconda3/envs/stan_env/lib/python3.7/site-packages/ipykernel_launcher.py:67: UserWarning: Legend does not support 'i' instances.\n",
      "A proxy artist may be used instead.\n",
      "See: https://matplotlib.org/users/legend_guide.html#creating-artists-specifically-for-adding-to-the-legend-aka-proxy-artists\n",
      "/Users/galraz1/opt/miniconda3/envs/stan_env/lib/python3.7/site-packages/ipykernel_launcher.py:67: UserWarning: Legend does not support 'o' instances.\n",
      "A proxy artist may be used instead.\n",
      "See: https://matplotlib.org/users/legend_guide.html#creating-artists-specifically-for-adding-to-the-legend-aka-proxy-artists\n"
     ]
    },
    {
     "name": "stdout",
     "output_type": "stream",
     "text": [
      "KL: 2.031472601941397\n",
      "stimulus:  1\n",
      "sample:  2\n",
      "\n"
     ]
    },
    {
     "name": "stderr",
     "output_type": "stream",
     "text": [
      "WARNING:pystan:138 of 16000 iterations ended with a divergence (0.863 %).\n",
      "WARNING:pystan:Try running with adapt_delta larger than 0.95 to remove the divergences.\n"
     ]
    },
    {
     "name": "stdout",
     "output_type": "stream",
     "text": [
      "Gradient evaluation took 2.3e-05 seconds\n",
      "1000 transitions using 10 leapfrog steps per transition would take 0.23 seconds.\n",
      "Adjust your expectations accordingly!\n",
      "\n",
      "\n",
      "Iteration:     1 / 20000 [  0%]  (Warmup)\n",
      "Iteration:  2000 / 20000 [ 10%]  (Warmup)\n",
      "Iteration:  4000 / 20000 [ 20%]  (Warmup)\n",
      "Iteration:  4001 / 20000 [ 20%]  (Sampling)\n",
      "Iteration:  6000 / 20000 [ 30%]  (Sampling)\n",
      "Iteration:  8000 / 20000 [ 40%]  (Sampling)\n",
      "Iteration: 10000 / 20000 [ 50%]  (Sampling)\n",
      "Iteration: 12000 / 20000 [ 60%]  (Sampling)\n",
      "Iteration: 14000 / 20000 [ 70%]  (Sampling)\n",
      "Iteration: 16000 / 20000 [ 80%]  (Sampling)\n",
      "Iteration: 18000 / 20000 [ 90%]  (Sampling)\n",
      "Iteration: 20000 / 20000 [100%]  (Sampling)\n",
      "\n",
      " Elapsed Time: 0.38352 seconds (Warm-up)\n",
      "               0.585544 seconds (Sampling)\n",
      "               0.969064 seconds (Total)\n",
      "\n"
     ]
    },
    {
     "name": "stderr",
     "output_type": "stream",
     "text": [
      "/Users/galraz1/opt/miniconda3/envs/stan_env/lib/python3.7/site-packages/ipykernel_launcher.py:60: UserWarning: Legend does not support 'p' instances.\n",
      "A proxy artist may be used instead.\n",
      "See: https://matplotlib.org/users/legend_guide.html#creating-artists-specifically-for-adding-to-the-legend-aka-proxy-artists\n",
      "/Users/galraz1/opt/miniconda3/envs/stan_env/lib/python3.7/site-packages/ipykernel_launcher.py:60: UserWarning: Legend does not support 'r' instances.\n",
      "A proxy artist may be used instead.\n",
      "See: https://matplotlib.org/users/legend_guide.html#creating-artists-specifically-for-adding-to-the-legend-aka-proxy-artists\n",
      "/Users/galraz1/opt/miniconda3/envs/stan_env/lib/python3.7/site-packages/ipykernel_launcher.py:60: UserWarning: Legend does not support 'i' instances.\n",
      "A proxy artist may be used instead.\n",
      "See: https://matplotlib.org/users/legend_guide.html#creating-artists-specifically-for-adding-to-the-legend-aka-proxy-artists\n",
      "/Users/galraz1/opt/miniconda3/envs/stan_env/lib/python3.7/site-packages/ipykernel_launcher.py:60: UserWarning: Legend does not support 'o' instances.\n",
      "A proxy artist may be used instead.\n",
      "See: https://matplotlib.org/users/legend_guide.html#creating-artists-specifically-for-adding-to-the-legend-aka-proxy-artists\n",
      "/Users/galraz1/opt/miniconda3/envs/stan_env/lib/python3.7/site-packages/ipykernel_launcher.py:67: UserWarning: Legend does not support 'p' instances.\n",
      "A proxy artist may be used instead.\n",
      "See: https://matplotlib.org/users/legend_guide.html#creating-artists-specifically-for-adding-to-the-legend-aka-proxy-artists\n",
      "/Users/galraz1/opt/miniconda3/envs/stan_env/lib/python3.7/site-packages/ipykernel_launcher.py:67: UserWarning: Legend does not support 'r' instances.\n",
      "A proxy artist may be used instead.\n",
      "See: https://matplotlib.org/users/legend_guide.html#creating-artists-specifically-for-adding-to-the-legend-aka-proxy-artists\n",
      "/Users/galraz1/opt/miniconda3/envs/stan_env/lib/python3.7/site-packages/ipykernel_launcher.py:67: UserWarning: Legend does not support 'i' instances.\n",
      "A proxy artist may be used instead.\n",
      "See: https://matplotlib.org/users/legend_guide.html#creating-artists-specifically-for-adding-to-the-legend-aka-proxy-artists\n",
      "/Users/galraz1/opt/miniconda3/envs/stan_env/lib/python3.7/site-packages/ipykernel_launcher.py:67: UserWarning: Legend does not support 'o' instances.\n",
      "A proxy artist may be used instead.\n",
      "See: https://matplotlib.org/users/legend_guide.html#creating-artists-specifically-for-adding-to-the-legend-aka-proxy-artists\n"
     ]
    },
    {
     "name": "stdout",
     "output_type": "stream",
     "text": [
      "KL: 0.011249084819461519\n",
      "stimulus:  1\n",
      "sample:  3\n"
     ]
    },
    {
     "name": "stderr",
     "output_type": "stream",
     "text": [
      "WARNING:pystan:56 of 16000 iterations ended with a divergence (0.35 %).\n",
      "WARNING:pystan:Try running with adapt_delta larger than 0.95 to remove the divergences.\n"
     ]
    },
    {
     "name": "stdout",
     "output_type": "stream",
     "text": [
      "\n",
      "Gradient evaluation took 4.6e-05 seconds\n",
      "1000 transitions using 10 leapfrog steps per transition would take 0.46 seconds.\n",
      "Adjust your expectations accordingly!\n",
      "\n",
      "\n",
      "Iteration:     1 / 20000 [  0%]  (Warmup)\n",
      "Iteration:  2000 / 20000 [ 10%]  (Warmup)\n",
      "Iteration:  4000 / 20000 [ 20%]  (Warmup)\n",
      "Iteration:  4001 / 20000 [ 20%]  (Sampling)\n",
      "Iteration:  6000 / 20000 [ 30%]  (Sampling)\n",
      "Iteration:  8000 / 20000 [ 40%]  (Sampling)\n",
      "Iteration: 10000 / 20000 [ 50%]  (Sampling)\n",
      "Iteration: 12000 / 20000 [ 60%]  (Sampling)\n",
      "Iteration: 14000 / 20000 [ 70%]  (Sampling)\n",
      "Iteration: 16000 / 20000 [ 80%]  (Sampling)\n",
      "Iteration: 18000 / 20000 [ 90%]  (Sampling)\n",
      "Iteration: 20000 / 20000 [100%]  (Sampling)\n",
      "\n",
      " Elapsed Time: 0.357056 seconds (Warm-up)\n",
      "               0.677379 seconds (Sampling)\n",
      "               1.03443 seconds (Total)\n",
      "\n"
     ]
    },
    {
     "name": "stderr",
     "output_type": "stream",
     "text": [
      "/Users/galraz1/opt/miniconda3/envs/stan_env/lib/python3.7/site-packages/ipykernel_launcher.py:60: UserWarning: Legend does not support 'p' instances.\n",
      "A proxy artist may be used instead.\n",
      "See: https://matplotlib.org/users/legend_guide.html#creating-artists-specifically-for-adding-to-the-legend-aka-proxy-artists\n",
      "/Users/galraz1/opt/miniconda3/envs/stan_env/lib/python3.7/site-packages/ipykernel_launcher.py:60: UserWarning: Legend does not support 'r' instances.\n",
      "A proxy artist may be used instead.\n",
      "See: https://matplotlib.org/users/legend_guide.html#creating-artists-specifically-for-adding-to-the-legend-aka-proxy-artists\n",
      "/Users/galraz1/opt/miniconda3/envs/stan_env/lib/python3.7/site-packages/ipykernel_launcher.py:60: UserWarning: Legend does not support 'i' instances.\n",
      "A proxy artist may be used instead.\n",
      "See: https://matplotlib.org/users/legend_guide.html#creating-artists-specifically-for-adding-to-the-legend-aka-proxy-artists\n",
      "/Users/galraz1/opt/miniconda3/envs/stan_env/lib/python3.7/site-packages/ipykernel_launcher.py:60: UserWarning: Legend does not support 'o' instances.\n",
      "A proxy artist may be used instead.\n",
      "See: https://matplotlib.org/users/legend_guide.html#creating-artists-specifically-for-adding-to-the-legend-aka-proxy-artists\n",
      "/Users/galraz1/opt/miniconda3/envs/stan_env/lib/python3.7/site-packages/ipykernel_launcher.py:67: UserWarning: Legend does not support 'p' instances.\n",
      "A proxy artist may be used instead.\n",
      "See: https://matplotlib.org/users/legend_guide.html#creating-artists-specifically-for-adding-to-the-legend-aka-proxy-artists\n",
      "/Users/galraz1/opt/miniconda3/envs/stan_env/lib/python3.7/site-packages/ipykernel_launcher.py:67: UserWarning: Legend does not support 'r' instances.\n",
      "A proxy artist may be used instead.\n",
      "See: https://matplotlib.org/users/legend_guide.html#creating-artists-specifically-for-adding-to-the-legend-aka-proxy-artists\n",
      "/Users/galraz1/opt/miniconda3/envs/stan_env/lib/python3.7/site-packages/ipykernel_launcher.py:67: UserWarning: Legend does not support 'i' instances.\n",
      "A proxy artist may be used instead.\n",
      "See: https://matplotlib.org/users/legend_guide.html#creating-artists-specifically-for-adding-to-the-legend-aka-proxy-artists\n",
      "/Users/galraz1/opt/miniconda3/envs/stan_env/lib/python3.7/site-packages/ipykernel_launcher.py:67: UserWarning: Legend does not support 'o' instances.\n",
      "A proxy artist may be used instead.\n",
      "See: https://matplotlib.org/users/legend_guide.html#creating-artists-specifically-for-adding-to-the-legend-aka-proxy-artists\n"
     ]
    },
    {
     "name": "stdout",
     "output_type": "stream",
     "text": [
      "KL: 0.004340669298033006\n",
      "stimulus:  2\n",
      "sample:  4\n",
      "\n",
      "Gradient evaluation took 2.9e-05 seconds\n"
     ]
    },
    {
     "name": "stderr",
     "output_type": "stream",
     "text": [
      "WARNING:pystan:152 of 16000 iterations ended with a divergence (0.95 %).\n",
      "WARNING:pystan:Try running with adapt_delta larger than 0.95 to remove the divergences.\n"
     ]
    },
    {
     "name": "stdout",
     "output_type": "stream",
     "text": [
      "1000 transitions using 10 leapfrog steps per transition would take 0.29 seconds.\n",
      "Adjust your expectations accordingly!\n",
      "\n",
      "\n",
      "Iteration:     1 / 20000 [  0%]  (Warmup)\n",
      "Iteration:  2000 / 20000 [ 10%]  (Warmup)\n",
      "Iteration:  4000 / 20000 [ 20%]  (Warmup)\n",
      "Iteration:  4001 / 20000 [ 20%]  (Sampling)\n",
      "Iteration:  6000 / 20000 [ 30%]  (Sampling)\n",
      "Iteration:  8000 / 20000 [ 40%]  (Sampling)\n",
      "Iteration: 10000 / 20000 [ 50%]  (Sampling)\n",
      "Iteration: 12000 / 20000 [ 60%]  (Sampling)\n",
      "Iteration: 14000 / 20000 [ 70%]  (Sampling)\n",
      "Iteration: 16000 / 20000 [ 80%]  (Sampling)\n",
      "Iteration: 18000 / 20000 [ 90%]  (Sampling)\n",
      "Iteration: 20000 / 20000 [100%]  (Sampling)\n",
      "\n",
      " Elapsed Time: 0.545582 seconds (Warm-up)\n",
      "               0.823763 seconds (Sampling)\n",
      "               1.36935 seconds (Total)\n",
      "\n"
     ]
    },
    {
     "name": "stderr",
     "output_type": "stream",
     "text": [
      "/Users/galraz1/opt/miniconda3/envs/stan_env/lib/python3.7/site-packages/ipykernel_launcher.py:60: UserWarning: Legend does not support 'p' instances.\n",
      "A proxy artist may be used instead.\n",
      "See: https://matplotlib.org/users/legend_guide.html#creating-artists-specifically-for-adding-to-the-legend-aka-proxy-artists\n",
      "/Users/galraz1/opt/miniconda3/envs/stan_env/lib/python3.7/site-packages/ipykernel_launcher.py:60: UserWarning: Legend does not support 'r' instances.\n",
      "A proxy artist may be used instead.\n",
      "See: https://matplotlib.org/users/legend_guide.html#creating-artists-specifically-for-adding-to-the-legend-aka-proxy-artists\n",
      "/Users/galraz1/opt/miniconda3/envs/stan_env/lib/python3.7/site-packages/ipykernel_launcher.py:60: UserWarning: Legend does not support 'i' instances.\n",
      "A proxy artist may be used instead.\n",
      "See: https://matplotlib.org/users/legend_guide.html#creating-artists-specifically-for-adding-to-the-legend-aka-proxy-artists\n",
      "/Users/galraz1/opt/miniconda3/envs/stan_env/lib/python3.7/site-packages/ipykernel_launcher.py:60: UserWarning: Legend does not support 'o' instances.\n",
      "A proxy artist may be used instead.\n",
      "See: https://matplotlib.org/users/legend_guide.html#creating-artists-specifically-for-adding-to-the-legend-aka-proxy-artists\n",
      "/Users/galraz1/opt/miniconda3/envs/stan_env/lib/python3.7/site-packages/ipykernel_launcher.py:67: UserWarning: Legend does not support 'p' instances.\n",
      "A proxy artist may be used instead.\n",
      "See: https://matplotlib.org/users/legend_guide.html#creating-artists-specifically-for-adding-to-the-legend-aka-proxy-artists\n",
      "/Users/galraz1/opt/miniconda3/envs/stan_env/lib/python3.7/site-packages/ipykernel_launcher.py:67: UserWarning: Legend does not support 'r' instances.\n",
      "A proxy artist may be used instead.\n",
      "See: https://matplotlib.org/users/legend_guide.html#creating-artists-specifically-for-adding-to-the-legend-aka-proxy-artists\n",
      "/Users/galraz1/opt/miniconda3/envs/stan_env/lib/python3.7/site-packages/ipykernel_launcher.py:67: UserWarning: Legend does not support 'i' instances.\n",
      "A proxy artist may be used instead.\n",
      "See: https://matplotlib.org/users/legend_guide.html#creating-artists-specifically-for-adding-to-the-legend-aka-proxy-artists\n",
      "/Users/galraz1/opt/miniconda3/envs/stan_env/lib/python3.7/site-packages/ipykernel_launcher.py:67: UserWarning: Legend does not support 'o' instances.\n",
      "A proxy artist may be used instead.\n",
      "See: https://matplotlib.org/users/legend_guide.html#creating-artists-specifically-for-adding-to-the-legend-aka-proxy-artists\n"
     ]
    },
    {
     "name": "stdout",
     "output_type": "stream",
     "text": [
      "KL: 0.17907759007208168\n",
      "stimulus:  2\n",
      "sample:  5\n",
      "\n",
      "Gradient evaluation took 1.1e-05 seconds\n",
      "1000 transitions using 10 leapfrog steps per transition would take 0.11 seconds.\n",
      "Adjust your expectations accordingly!\n",
      "\n",
      "\n",
      "Iteration:     1 / 20000 [  0%]  (Warmup)\n"
     ]
    },
    {
     "name": "stderr",
     "output_type": "stream",
     "text": [
      "WARNING:pystan:219 of 16000 iterations ended with a divergence (1.37 %).\n",
      "WARNING:pystan:Try running with adapt_delta larger than 0.95 to remove the divergences.\n"
     ]
    },
    {
     "name": "stdout",
     "output_type": "stream",
     "text": [
      "Iteration:  2000 / 20000 [ 10%]  (Warmup)\n",
      "Iteration:  4000 / 20000 [ 20%]  (Warmup)\n",
      "Iteration:  4001 / 20000 [ 20%]  (Sampling)\n",
      "Iteration:  6000 / 20000 [ 30%]  (Sampling)\n",
      "Iteration:  8000 / 20000 [ 40%]  (Sampling)\n",
      "Iteration: 10000 / 20000 [ 50%]  (Sampling)\n",
      "Iteration: 12000 / 20000 [ 60%]  (Sampling)\n",
      "Iteration: 14000 / 20000 [ 70%]  (Sampling)\n",
      "Iteration: 16000 / 20000 [ 80%]  (Sampling)\n",
      "Iteration: 18000 / 20000 [ 90%]  (Sampling)\n",
      "Iteration: 20000 / 20000 [100%]  (Sampling)\n",
      "\n",
      " Elapsed Time: 0.695063 seconds (Warm-up)\n",
      "               0.500349 seconds (Sampling)\n",
      "               1.19541 seconds (Total)\n",
      "\n"
     ]
    },
    {
     "name": "stderr",
     "output_type": "stream",
     "text": [
      "/Users/galraz1/opt/miniconda3/envs/stan_env/lib/python3.7/site-packages/ipykernel_launcher.py:60: UserWarning: Legend does not support 'p' instances.\n",
      "A proxy artist may be used instead.\n",
      "See: https://matplotlib.org/users/legend_guide.html#creating-artists-specifically-for-adding-to-the-legend-aka-proxy-artists\n",
      "/Users/galraz1/opt/miniconda3/envs/stan_env/lib/python3.7/site-packages/ipykernel_launcher.py:60: UserWarning: Legend does not support 'r' instances.\n",
      "A proxy artist may be used instead.\n",
      "See: https://matplotlib.org/users/legend_guide.html#creating-artists-specifically-for-adding-to-the-legend-aka-proxy-artists\n",
      "/Users/galraz1/opt/miniconda3/envs/stan_env/lib/python3.7/site-packages/ipykernel_launcher.py:60: UserWarning: Legend does not support 'i' instances.\n",
      "A proxy artist may be used instead.\n",
      "See: https://matplotlib.org/users/legend_guide.html#creating-artists-specifically-for-adding-to-the-legend-aka-proxy-artists\n",
      "/Users/galraz1/opt/miniconda3/envs/stan_env/lib/python3.7/site-packages/ipykernel_launcher.py:60: UserWarning: Legend does not support 'o' instances.\n",
      "A proxy artist may be used instead.\n",
      "See: https://matplotlib.org/users/legend_guide.html#creating-artists-specifically-for-adding-to-the-legend-aka-proxy-artists\n",
      "/Users/galraz1/opt/miniconda3/envs/stan_env/lib/python3.7/site-packages/ipykernel_launcher.py:67: UserWarning: Legend does not support 'p' instances.\n",
      "A proxy artist may be used instead.\n",
      "See: https://matplotlib.org/users/legend_guide.html#creating-artists-specifically-for-adding-to-the-legend-aka-proxy-artists\n",
      "/Users/galraz1/opt/miniconda3/envs/stan_env/lib/python3.7/site-packages/ipykernel_launcher.py:67: UserWarning: Legend does not support 'r' instances.\n",
      "A proxy artist may be used instead.\n",
      "See: https://matplotlib.org/users/legend_guide.html#creating-artists-specifically-for-adding-to-the-legend-aka-proxy-artists\n",
      "/Users/galraz1/opt/miniconda3/envs/stan_env/lib/python3.7/site-packages/ipykernel_launcher.py:67: UserWarning: Legend does not support 'i' instances.\n",
      "A proxy artist may be used instead.\n",
      "See: https://matplotlib.org/users/legend_guide.html#creating-artists-specifically-for-adding-to-the-legend-aka-proxy-artists\n",
      "/Users/galraz1/opt/miniconda3/envs/stan_env/lib/python3.7/site-packages/ipykernel_launcher.py:67: UserWarning: Legend does not support 'o' instances.\n",
      "A proxy artist may be used instead.\n",
      "See: https://matplotlib.org/users/legend_guide.html#creating-artists-specifically-for-adding-to-the-legend-aka-proxy-artists\n"
     ]
    },
    {
     "name": "stdout",
     "output_type": "stream",
     "text": [
      "KL: 0.006951761512388743\n",
      "stimulus:  3\n",
      "sample:  6\n"
     ]
    },
    {
     "name": "stderr",
     "output_type": "stream",
     "text": [
      "WARNING:pystan:352 of 16000 iterations ended with a divergence (2.2 %).\n",
      "WARNING:pystan:Try running with adapt_delta larger than 0.95 to remove the divergences.\n"
     ]
    },
    {
     "name": "stdout",
     "output_type": "stream",
     "text": [
      "\n",
      "Gradient evaluation took 2.4e-05 seconds\n",
      "1000 transitions using 10 leapfrog steps per transition would take 0.24 seconds.\n",
      "Adjust your expectations accordingly!\n",
      "\n",
      "\n",
      "Iteration:     1 / 20000 [  0%]  (Warmup)\n",
      "Iteration:  2000 / 20000 [ 10%]  (Warmup)\n",
      "Iteration:  4000 / 20000 [ 20%]  (Warmup)\n",
      "Iteration:  4001 / 20000 [ 20%]  (Sampling)\n",
      "Iteration:  6000 / 20000 [ 30%]  (Sampling)\n",
      "Iteration:  8000 / 20000 [ 40%]  (Sampling)\n",
      "Iteration: 10000 / 20000 [ 50%]  (Sampling)\n",
      "Iteration: 12000 / 20000 [ 60%]  (Sampling)\n",
      "Iteration: 14000 / 20000 [ 70%]  (Sampling)\n",
      "Iteration: 16000 / 20000 [ 80%]  (Sampling)\n",
      "Iteration: 18000 / 20000 [ 90%]  (Sampling)\n",
      "Iteration: 20000 / 20000 [100%]  (Sampling)\n",
      "\n",
      " Elapsed Time: 0.464503 seconds (Warm-up)\n",
      "               0.776983 seconds (Sampling)\n",
      "               1.24149 seconds (Total)\n",
      "\n"
     ]
    },
    {
     "name": "stderr",
     "output_type": "stream",
     "text": [
      "/Users/galraz1/opt/miniconda3/envs/stan_env/lib/python3.7/site-packages/ipykernel_launcher.py:60: UserWarning: Legend does not support 'p' instances.\n",
      "A proxy artist may be used instead.\n",
      "See: https://matplotlib.org/users/legend_guide.html#creating-artists-specifically-for-adding-to-the-legend-aka-proxy-artists\n",
      "/Users/galraz1/opt/miniconda3/envs/stan_env/lib/python3.7/site-packages/ipykernel_launcher.py:60: UserWarning: Legend does not support 'r' instances.\n",
      "A proxy artist may be used instead.\n",
      "See: https://matplotlib.org/users/legend_guide.html#creating-artists-specifically-for-adding-to-the-legend-aka-proxy-artists\n",
      "/Users/galraz1/opt/miniconda3/envs/stan_env/lib/python3.7/site-packages/ipykernel_launcher.py:60: UserWarning: Legend does not support 'i' instances.\n",
      "A proxy artist may be used instead.\n",
      "See: https://matplotlib.org/users/legend_guide.html#creating-artists-specifically-for-adding-to-the-legend-aka-proxy-artists\n",
      "/Users/galraz1/opt/miniconda3/envs/stan_env/lib/python3.7/site-packages/ipykernel_launcher.py:60: UserWarning: Legend does not support 'o' instances.\n",
      "A proxy artist may be used instead.\n",
      "See: https://matplotlib.org/users/legend_guide.html#creating-artists-specifically-for-adding-to-the-legend-aka-proxy-artists\n",
      "/Users/galraz1/opt/miniconda3/envs/stan_env/lib/python3.7/site-packages/ipykernel_launcher.py:67: UserWarning: Legend does not support 'p' instances.\n",
      "A proxy artist may be used instead.\n",
      "See: https://matplotlib.org/users/legend_guide.html#creating-artists-specifically-for-adding-to-the-legend-aka-proxy-artists\n",
      "/Users/galraz1/opt/miniconda3/envs/stan_env/lib/python3.7/site-packages/ipykernel_launcher.py:67: UserWarning: Legend does not support 'r' instances.\n",
      "A proxy artist may be used instead.\n",
      "See: https://matplotlib.org/users/legend_guide.html#creating-artists-specifically-for-adding-to-the-legend-aka-proxy-artists\n",
      "/Users/galraz1/opt/miniconda3/envs/stan_env/lib/python3.7/site-packages/ipykernel_launcher.py:67: UserWarning: Legend does not support 'i' instances.\n",
      "A proxy artist may be used instead.\n",
      "See: https://matplotlib.org/users/legend_guide.html#creating-artists-specifically-for-adding-to-the-legend-aka-proxy-artists\n",
      "/Users/galraz1/opt/miniconda3/envs/stan_env/lib/python3.7/site-packages/ipykernel_launcher.py:67: UserWarning: Legend does not support 'o' instances.\n",
      "A proxy artist may be used instead.\n",
      "See: https://matplotlib.org/users/legend_guide.html#creating-artists-specifically-for-adding-to-the-legend-aka-proxy-artists\n"
     ]
    },
    {
     "name": "stdout",
     "output_type": "stream",
     "text": [
      "KL: 0.18927494657509697\n",
      "stimulus:  3\n",
      "sample:  7\n"
     ]
    },
    {
     "name": "stderr",
     "output_type": "stream",
     "text": [
      "WARNING:pystan:170 of 16000 iterations ended with a divergence (1.06 %).\n",
      "WARNING:pystan:Try running with adapt_delta larger than 0.95 to remove the divergences.\n"
     ]
    },
    {
     "name": "stdout",
     "output_type": "stream",
     "text": [
      "\n",
      "Gradient evaluation took 1.5e-05 seconds\n",
      "1000 transitions using 10 leapfrog steps per transition would take 0.15 seconds.\n",
      "Adjust your expectations accordingly!\n",
      "\n",
      "\n",
      "Iteration:     1 / 20000 [  0%]  (Warmup)\n",
      "Iteration:  2000 / 20000 [ 10%]  (Warmup)\n",
      "Iteration:  4000 / 20000 [ 20%]  (Warmup)\n",
      "Iteration:  4001 / 20000 [ 20%]  (Sampling)\n",
      "Iteration:  6000 / 20000 [ 30%]  (Sampling)\n",
      "Iteration:  8000 / 20000 [ 40%]  (Sampling)\n",
      "Iteration: 10000 / 20000 [ 50%]  (Sampling)\n",
      "Iteration: 12000 / 20000 [ 60%]  (Sampling)\n",
      "Iteration: 14000 / 20000 [ 70%]  (Sampling)\n",
      "Iteration: 16000 / 20000 [ 80%]  (Sampling)\n",
      "Iteration: 18000 / 20000 [ 90%]  (Sampling)\n",
      "Iteration: 20000 / 20000 [100%]  (Sampling)\n",
      "\n",
      " Elapsed Time: 0.736871 seconds (Warm-up)\n",
      "               0.88068 seconds (Sampling)\n",
      "               1.61755 seconds (Total)\n",
      "\n"
     ]
    },
    {
     "name": "stderr",
     "output_type": "stream",
     "text": [
      "/Users/galraz1/opt/miniconda3/envs/stan_env/lib/python3.7/site-packages/ipykernel_launcher.py:60: UserWarning: Legend does not support 'p' instances.\n",
      "A proxy artist may be used instead.\n",
      "See: https://matplotlib.org/users/legend_guide.html#creating-artists-specifically-for-adding-to-the-legend-aka-proxy-artists\n",
      "/Users/galraz1/opt/miniconda3/envs/stan_env/lib/python3.7/site-packages/ipykernel_launcher.py:60: UserWarning: Legend does not support 'r' instances.\n",
      "A proxy artist may be used instead.\n",
      "See: https://matplotlib.org/users/legend_guide.html#creating-artists-specifically-for-adding-to-the-legend-aka-proxy-artists\n",
      "/Users/galraz1/opt/miniconda3/envs/stan_env/lib/python3.7/site-packages/ipykernel_launcher.py:60: UserWarning: Legend does not support 'i' instances.\n",
      "A proxy artist may be used instead.\n",
      "See: https://matplotlib.org/users/legend_guide.html#creating-artists-specifically-for-adding-to-the-legend-aka-proxy-artists\n",
      "/Users/galraz1/opt/miniconda3/envs/stan_env/lib/python3.7/site-packages/ipykernel_launcher.py:60: UserWarning: Legend does not support 'o' instances.\n",
      "A proxy artist may be used instead.\n",
      "See: https://matplotlib.org/users/legend_guide.html#creating-artists-specifically-for-adding-to-the-legend-aka-proxy-artists\n",
      "/Users/galraz1/opt/miniconda3/envs/stan_env/lib/python3.7/site-packages/ipykernel_launcher.py:67: UserWarning: Legend does not support 'p' instances.\n",
      "A proxy artist may be used instead.\n",
      "See: https://matplotlib.org/users/legend_guide.html#creating-artists-specifically-for-adding-to-the-legend-aka-proxy-artists\n",
      "/Users/galraz1/opt/miniconda3/envs/stan_env/lib/python3.7/site-packages/ipykernel_launcher.py:67: UserWarning: Legend does not support 'r' instances.\n",
      "A proxy artist may be used instead.\n",
      "See: https://matplotlib.org/users/legend_guide.html#creating-artists-specifically-for-adding-to-the-legend-aka-proxy-artists\n",
      "/Users/galraz1/opt/miniconda3/envs/stan_env/lib/python3.7/site-packages/ipykernel_launcher.py:67: UserWarning: Legend does not support 'i' instances.\n",
      "A proxy artist may be used instead.\n",
      "See: https://matplotlib.org/users/legend_guide.html#creating-artists-specifically-for-adding-to-the-legend-aka-proxy-artists\n",
      "/Users/galraz1/opt/miniconda3/envs/stan_env/lib/python3.7/site-packages/ipykernel_launcher.py:67: UserWarning: Legend does not support 'o' instances.\n",
      "A proxy artist may be used instead.\n",
      "See: https://matplotlib.org/users/legend_guide.html#creating-artists-specifically-for-adding-to-the-legend-aka-proxy-artists\n"
     ]
    },
    {
     "name": "stdout",
     "output_type": "stream",
     "text": [
      "KL: 0.008151628321400706\n",
      "stimulus:  4\n",
      "sample:  8\n"
     ]
    },
    {
     "name": "stderr",
     "output_type": "stream",
     "text": [
      "WARNING:pystan:183 of 16000 iterations ended with a divergence (1.14 %).\n",
      "WARNING:pystan:Try running with adapt_delta larger than 0.95 to remove the divergences.\n"
     ]
    },
    {
     "name": "stdout",
     "output_type": "stream",
     "text": [
      "\n",
      "Gradient evaluation took 2.7e-05 seconds\n",
      "1000 transitions using 10 leapfrog steps per transition would take 0.27 seconds.\n",
      "Adjust your expectations accordingly!\n",
      "\n",
      "\n",
      "Iteration:     1 / 20000 [  0%]  (Warmup)\n",
      "Iteration:  2000 / 20000 [ 10%]  (Warmup)\n",
      "Iteration:  4000 / 20000 [ 20%]  (Warmup)\n",
      "Iteration:  4001 / 20000 [ 20%]  (Sampling)\n",
      "Iteration:  6000 / 20000 [ 30%]  (Sampling)\n",
      "Iteration:  8000 / 20000 [ 40%]  (Sampling)\n",
      "Iteration: 10000 / 20000 [ 50%]  (Sampling)\n",
      "Iteration: 12000 / 20000 [ 60%]  (Sampling)\n",
      "Iteration: 14000 / 20000 [ 70%]  (Sampling)\n",
      "Iteration: 16000 / 20000 [ 80%]  (Sampling)\n",
      "Iteration: 18000 / 20000 [ 90%]  (Sampling)\n",
      "Iteration: 20000 / 20000 [100%]  (Sampling)\n",
      "\n",
      " Elapsed Time: 0.761093 seconds (Warm-up)\n",
      "               0.999055 seconds (Sampling)\n",
      "               1.76015 seconds (Total)\n",
      "\n"
     ]
    },
    {
     "name": "stderr",
     "output_type": "stream",
     "text": [
      "/Users/galraz1/opt/miniconda3/envs/stan_env/lib/python3.7/site-packages/ipykernel_launcher.py:60: UserWarning: Legend does not support 'p' instances.\n",
      "A proxy artist may be used instead.\n",
      "See: https://matplotlib.org/users/legend_guide.html#creating-artists-specifically-for-adding-to-the-legend-aka-proxy-artists\n",
      "/Users/galraz1/opt/miniconda3/envs/stan_env/lib/python3.7/site-packages/ipykernel_launcher.py:60: UserWarning: Legend does not support 'r' instances.\n",
      "A proxy artist may be used instead.\n",
      "See: https://matplotlib.org/users/legend_guide.html#creating-artists-specifically-for-adding-to-the-legend-aka-proxy-artists\n",
      "/Users/galraz1/opt/miniconda3/envs/stan_env/lib/python3.7/site-packages/ipykernel_launcher.py:60: UserWarning: Legend does not support 'i' instances.\n",
      "A proxy artist may be used instead.\n",
      "See: https://matplotlib.org/users/legend_guide.html#creating-artists-specifically-for-adding-to-the-legend-aka-proxy-artists\n",
      "/Users/galraz1/opt/miniconda3/envs/stan_env/lib/python3.7/site-packages/ipykernel_launcher.py:60: UserWarning: Legend does not support 'o' instances.\n",
      "A proxy artist may be used instead.\n",
      "See: https://matplotlib.org/users/legend_guide.html#creating-artists-specifically-for-adding-to-the-legend-aka-proxy-artists\n",
      "/Users/galraz1/opt/miniconda3/envs/stan_env/lib/python3.7/site-packages/ipykernel_launcher.py:67: UserWarning: Legend does not support 'p' instances.\n",
      "A proxy artist may be used instead.\n",
      "See: https://matplotlib.org/users/legend_guide.html#creating-artists-specifically-for-adding-to-the-legend-aka-proxy-artists\n",
      "/Users/galraz1/opt/miniconda3/envs/stan_env/lib/python3.7/site-packages/ipykernel_launcher.py:67: UserWarning: Legend does not support 'r' instances.\n",
      "A proxy artist may be used instead.\n",
      "See: https://matplotlib.org/users/legend_guide.html#creating-artists-specifically-for-adding-to-the-legend-aka-proxy-artists\n",
      "/Users/galraz1/opt/miniconda3/envs/stan_env/lib/python3.7/site-packages/ipykernel_launcher.py:67: UserWarning: Legend does not support 'i' instances.\n",
      "A proxy artist may be used instead.\n",
      "See: https://matplotlib.org/users/legend_guide.html#creating-artists-specifically-for-adding-to-the-legend-aka-proxy-artists\n",
      "/Users/galraz1/opt/miniconda3/envs/stan_env/lib/python3.7/site-packages/ipykernel_launcher.py:67: UserWarning: Legend does not support 'o' instances.\n",
      "A proxy artist may be used instead.\n",
      "See: https://matplotlib.org/users/legend_guide.html#creating-artists-specifically-for-adding-to-the-legend-aka-proxy-artists\n"
     ]
    },
    {
     "name": "stdout",
     "output_type": "stream",
     "text": [
      "KL: 0.14695788471584442\n",
      "stimulus:  4\n",
      "sample:  9\n"
     ]
    },
    {
     "name": "stderr",
     "output_type": "stream",
     "text": [
      "WARNING:pystan:462 of 16000 iterations ended with a divergence (2.89 %).\n",
      "WARNING:pystan:Try running with adapt_delta larger than 0.95 to remove the divergences.\n"
     ]
    },
    {
     "name": "stdout",
     "output_type": "stream",
     "text": [
      "\n",
      "Gradient evaluation took 2.6e-05 seconds\n",
      "1000 transitions using 10 leapfrog steps per transition would take 0.26 seconds.\n",
      "Adjust your expectations accordingly!\n",
      "\n",
      "\n",
      "Iteration:     1 / 20000 [  0%]  (Warmup)\n",
      "Iteration:  2000 / 20000 [ 10%]  (Warmup)\n",
      "Iteration:  4000 / 20000 [ 20%]  (Warmup)\n",
      "Iteration:  4001 / 20000 [ 20%]  (Sampling)\n",
      "Iteration:  6000 / 20000 [ 30%]  (Sampling)\n",
      "Iteration:  8000 / 20000 [ 40%]  (Sampling)\n",
      "Iteration: 10000 / 20000 [ 50%]  (Sampling)\n",
      "Iteration: 12000 / 20000 [ 60%]  (Sampling)\n",
      "Iteration: 14000 / 20000 [ 70%]  (Sampling)\n",
      "Iteration: 16000 / 20000 [ 80%]  (Sampling)\n",
      "Iteration: 18000 / 20000 [ 90%]  (Sampling)\n",
      "Iteration: 20000 / 20000 [100%]  (Sampling)\n",
      "\n",
      " Elapsed Time: 0.778485 seconds (Warm-up)\n",
      "               0.759707 seconds (Sampling)\n",
      "               1.53819 seconds (Total)\n",
      "\n"
     ]
    },
    {
     "name": "stderr",
     "output_type": "stream",
     "text": [
      "/Users/galraz1/opt/miniconda3/envs/stan_env/lib/python3.7/site-packages/ipykernel_launcher.py:60: UserWarning: Legend does not support 'p' instances.\n",
      "A proxy artist may be used instead.\n",
      "See: https://matplotlib.org/users/legend_guide.html#creating-artists-specifically-for-adding-to-the-legend-aka-proxy-artists\n",
      "/Users/galraz1/opt/miniconda3/envs/stan_env/lib/python3.7/site-packages/ipykernel_launcher.py:60: UserWarning: Legend does not support 'r' instances.\n",
      "A proxy artist may be used instead.\n",
      "See: https://matplotlib.org/users/legend_guide.html#creating-artists-specifically-for-adding-to-the-legend-aka-proxy-artists\n",
      "/Users/galraz1/opt/miniconda3/envs/stan_env/lib/python3.7/site-packages/ipykernel_launcher.py:60: UserWarning: Legend does not support 'i' instances.\n",
      "A proxy artist may be used instead.\n",
      "See: https://matplotlib.org/users/legend_guide.html#creating-artists-specifically-for-adding-to-the-legend-aka-proxy-artists\n",
      "/Users/galraz1/opt/miniconda3/envs/stan_env/lib/python3.7/site-packages/ipykernel_launcher.py:60: UserWarning: Legend does not support 'o' instances.\n",
      "A proxy artist may be used instead.\n",
      "See: https://matplotlib.org/users/legend_guide.html#creating-artists-specifically-for-adding-to-the-legend-aka-proxy-artists\n",
      "/Users/galraz1/opt/miniconda3/envs/stan_env/lib/python3.7/site-packages/ipykernel_launcher.py:67: UserWarning: Legend does not support 'p' instances.\n",
      "A proxy artist may be used instead.\n",
      "See: https://matplotlib.org/users/legend_guide.html#creating-artists-specifically-for-adding-to-the-legend-aka-proxy-artists\n",
      "/Users/galraz1/opt/miniconda3/envs/stan_env/lib/python3.7/site-packages/ipykernel_launcher.py:67: UserWarning: Legend does not support 'r' instances.\n",
      "A proxy artist may be used instead.\n",
      "See: https://matplotlib.org/users/legend_guide.html#creating-artists-specifically-for-adding-to-the-legend-aka-proxy-artists\n",
      "/Users/galraz1/opt/miniconda3/envs/stan_env/lib/python3.7/site-packages/ipykernel_launcher.py:67: UserWarning: Legend does not support 'i' instances.\n",
      "A proxy artist may be used instead.\n",
      "See: https://matplotlib.org/users/legend_guide.html#creating-artists-specifically-for-adding-to-the-legend-aka-proxy-artists\n",
      "/Users/galraz1/opt/miniconda3/envs/stan_env/lib/python3.7/site-packages/ipykernel_launcher.py:67: UserWarning: Legend does not support 'o' instances.\n",
      "A proxy artist may be used instead.\n",
      "See: https://matplotlib.org/users/legend_guide.html#creating-artists-specifically-for-adding-to-the-legend-aka-proxy-artists\n"
     ]
    },
    {
     "name": "stdout",
     "output_type": "stream",
     "text": [
      "KL: 0.01454570195954863\n",
      "stimulus:  4\n",
      "sample:  10\n"
     ]
    },
    {
     "name": "stderr",
     "output_type": "stream",
     "text": [
      "WARNING:pystan:226 of 16000 iterations ended with a divergence (1.41 %).\n",
      "WARNING:pystan:Try running with adapt_delta larger than 0.95 to remove the divergences.\n"
     ]
    },
    {
     "name": "stdout",
     "output_type": "stream",
     "text": [
      "\n",
      "Gradient evaluation took 1.4e-05 seconds\n",
      "1000 transitions using 10 leapfrog steps per transition would take 0.14 seconds.\n",
      "Adjust your expectations accordingly!\n",
      "\n",
      "\n",
      "Iteration:     1 / 20000 [  0%]  (Warmup)\n",
      "Iteration:  2000 / 20000 [ 10%]  (Warmup)\n",
      "Iteration:  4000 / 20000 [ 20%]  (Warmup)\n",
      "Iteration:  4001 / 20000 [ 20%]  (Sampling)\n",
      "Iteration:  6000 / 20000 [ 30%]  (Sampling)\n",
      "Iteration:  8000 / 20000 [ 40%]  (Sampling)\n",
      "Iteration: 10000 / 20000 [ 50%]  (Sampling)\n",
      "Iteration: 12000 / 20000 [ 60%]  (Sampling)\n",
      "Iteration: 14000 / 20000 [ 70%]  (Sampling)\n",
      "Iteration: 16000 / 20000 [ 80%]  (Sampling)\n",
      "Iteration: 18000 / 20000 [ 90%]  (Sampling)\n",
      "Iteration: 20000 / 20000 [100%]  (Sampling)\n",
      "\n",
      " Elapsed Time: 0.77914 seconds (Warm-up)\n",
      "               1.01279 seconds (Sampling)\n",
      "               1.79192 seconds (Total)\n",
      "\n"
     ]
    },
    {
     "name": "stderr",
     "output_type": "stream",
     "text": [
      "/Users/galraz1/opt/miniconda3/envs/stan_env/lib/python3.7/site-packages/ipykernel_launcher.py:60: UserWarning: Legend does not support 'p' instances.\n",
      "A proxy artist may be used instead.\n",
      "See: https://matplotlib.org/users/legend_guide.html#creating-artists-specifically-for-adding-to-the-legend-aka-proxy-artists\n",
      "/Users/galraz1/opt/miniconda3/envs/stan_env/lib/python3.7/site-packages/ipykernel_launcher.py:60: UserWarning: Legend does not support 'r' instances.\n",
      "A proxy artist may be used instead.\n",
      "See: https://matplotlib.org/users/legend_guide.html#creating-artists-specifically-for-adding-to-the-legend-aka-proxy-artists\n",
      "/Users/galraz1/opt/miniconda3/envs/stan_env/lib/python3.7/site-packages/ipykernel_launcher.py:60: UserWarning: Legend does not support 'i' instances.\n",
      "A proxy artist may be used instead.\n",
      "See: https://matplotlib.org/users/legend_guide.html#creating-artists-specifically-for-adding-to-the-legend-aka-proxy-artists\n",
      "/Users/galraz1/opt/miniconda3/envs/stan_env/lib/python3.7/site-packages/ipykernel_launcher.py:60: UserWarning: Legend does not support 'o' instances.\n",
      "A proxy artist may be used instead.\n",
      "See: https://matplotlib.org/users/legend_guide.html#creating-artists-specifically-for-adding-to-the-legend-aka-proxy-artists\n",
      "/Users/galraz1/opt/miniconda3/envs/stan_env/lib/python3.7/site-packages/ipykernel_launcher.py:67: UserWarning: Legend does not support 'p' instances.\n",
      "A proxy artist may be used instead.\n",
      "See: https://matplotlib.org/users/legend_guide.html#creating-artists-specifically-for-adding-to-the-legend-aka-proxy-artists\n",
      "/Users/galraz1/opt/miniconda3/envs/stan_env/lib/python3.7/site-packages/ipykernel_launcher.py:67: UserWarning: Legend does not support 'r' instances.\n",
      "A proxy artist may be used instead.\n",
      "See: https://matplotlib.org/users/legend_guide.html#creating-artists-specifically-for-adding-to-the-legend-aka-proxy-artists\n",
      "/Users/galraz1/opt/miniconda3/envs/stan_env/lib/python3.7/site-packages/ipykernel_launcher.py:67: UserWarning: Legend does not support 'i' instances.\n",
      "A proxy artist may be used instead.\n",
      "See: https://matplotlib.org/users/legend_guide.html#creating-artists-specifically-for-adding-to-the-legend-aka-proxy-artists\n",
      "/Users/galraz1/opt/miniconda3/envs/stan_env/lib/python3.7/site-packages/ipykernel_launcher.py:67: UserWarning: Legend does not support 'o' instances.\n",
      "A proxy artist may be used instead.\n",
      "See: https://matplotlib.org/users/legend_guide.html#creating-artists-specifically-for-adding-to-the-legend-aka-proxy-artists\n"
     ]
    },
    {
     "name": "stdout",
     "output_type": "stream",
     "text": [
      "KL: 0.009452137077993639\n",
      "stimulus:  5\n",
      "sample:  11\n"
     ]
    },
    {
     "name": "stderr",
     "output_type": "stream",
     "text": [
      "WARNING:pystan:384 of 16000 iterations ended with a divergence (2.4 %).\n",
      "WARNING:pystan:Try running with adapt_delta larger than 0.95 to remove the divergences.\n"
     ]
    },
    {
     "name": "stdout",
     "output_type": "stream",
     "text": [
      "\n",
      "Gradient evaluation took 1.7e-05 seconds\n",
      "1000 transitions using 10 leapfrog steps per transition would take 0.17 seconds.\n",
      "Adjust your expectations accordingly!\n",
      "\n",
      "\n",
      "Iteration:     1 / 20000 [  0%]  (Warmup)\n",
      "Iteration:  2000 / 20000 [ 10%]  (Warmup)\n",
      "Iteration:  4000 / 20000 [ 20%]  (Warmup)\n",
      "Iteration:  4001 / 20000 [ 20%]  (Sampling)\n",
      "Iteration:  6000 / 20000 [ 30%]  (Sampling)\n",
      "Iteration:  8000 / 20000 [ 40%]  (Sampling)\n",
      "Iteration: 10000 / 20000 [ 50%]  (Sampling)\n",
      "Iteration: 12000 / 20000 [ 60%]  (Sampling)\n",
      "Iteration: 14000 / 20000 [ 70%]  (Sampling)\n",
      "Iteration: 16000 / 20000 [ 80%]  (Sampling)\n",
      "Iteration: 18000 / 20000 [ 90%]  (Sampling)\n",
      "Iteration: 20000 / 20000 [100%]  (Sampling)\n",
      "\n",
      " Elapsed Time: 0.673882 seconds (Warm-up)\n",
      "               0.85892 seconds (Sampling)\n",
      "               1.5328 seconds (Total)\n",
      "\n"
     ]
    },
    {
     "name": "stderr",
     "output_type": "stream",
     "text": [
      "/Users/galraz1/opt/miniconda3/envs/stan_env/lib/python3.7/site-packages/ipykernel_launcher.py:60: UserWarning: Legend does not support 'p' instances.\n",
      "A proxy artist may be used instead.\n",
      "See: https://matplotlib.org/users/legend_guide.html#creating-artists-specifically-for-adding-to-the-legend-aka-proxy-artists\n",
      "/Users/galraz1/opt/miniconda3/envs/stan_env/lib/python3.7/site-packages/ipykernel_launcher.py:60: UserWarning: Legend does not support 'r' instances.\n",
      "A proxy artist may be used instead.\n",
      "See: https://matplotlib.org/users/legend_guide.html#creating-artists-specifically-for-adding-to-the-legend-aka-proxy-artists\n",
      "/Users/galraz1/opt/miniconda3/envs/stan_env/lib/python3.7/site-packages/ipykernel_launcher.py:60: UserWarning: Legend does not support 'i' instances.\n",
      "A proxy artist may be used instead.\n",
      "See: https://matplotlib.org/users/legend_guide.html#creating-artists-specifically-for-adding-to-the-legend-aka-proxy-artists\n",
      "/Users/galraz1/opt/miniconda3/envs/stan_env/lib/python3.7/site-packages/ipykernel_launcher.py:60: UserWarning: Legend does not support 'o' instances.\n",
      "A proxy artist may be used instead.\n",
      "See: https://matplotlib.org/users/legend_guide.html#creating-artists-specifically-for-adding-to-the-legend-aka-proxy-artists\n",
      "/Users/galraz1/opt/miniconda3/envs/stan_env/lib/python3.7/site-packages/ipykernel_launcher.py:67: UserWarning: Legend does not support 'p' instances.\n",
      "A proxy artist may be used instead.\n",
      "See: https://matplotlib.org/users/legend_guide.html#creating-artists-specifically-for-adding-to-the-legend-aka-proxy-artists\n",
      "/Users/galraz1/opt/miniconda3/envs/stan_env/lib/python3.7/site-packages/ipykernel_launcher.py:67: UserWarning: Legend does not support 'r' instances.\n",
      "A proxy artist may be used instead.\n",
      "See: https://matplotlib.org/users/legend_guide.html#creating-artists-specifically-for-adding-to-the-legend-aka-proxy-artists\n",
      "/Users/galraz1/opt/miniconda3/envs/stan_env/lib/python3.7/site-packages/ipykernel_launcher.py:67: UserWarning: Legend does not support 'i' instances.\n",
      "A proxy artist may be used instead.\n",
      "See: https://matplotlib.org/users/legend_guide.html#creating-artists-specifically-for-adding-to-the-legend-aka-proxy-artists\n",
      "/Users/galraz1/opt/miniconda3/envs/stan_env/lib/python3.7/site-packages/ipykernel_launcher.py:67: UserWarning: Legend does not support 'o' instances.\n",
      "A proxy artist may be used instead.\n",
      "See: https://matplotlib.org/users/legend_guide.html#creating-artists-specifically-for-adding-to-the-legend-aka-proxy-artists\n"
     ]
    },
    {
     "name": "stdout",
     "output_type": "stream",
     "text": [
      "KL: 0.06683699417157885\n",
      "stimulus:  5\n",
      "sample:  12\n"
     ]
    },
    {
     "name": "stderr",
     "output_type": "stream",
     "text": [
      "WARNING:pystan:264 of 16000 iterations ended with a divergence (1.65 %).\n",
      "WARNING:pystan:Try running with adapt_delta larger than 0.95 to remove the divergences.\n"
     ]
    },
    {
     "name": "stdout",
     "output_type": "stream",
     "text": [
      "\n",
      "Gradient evaluation took 1.4e-05 seconds\n",
      "1000 transitions using 10 leapfrog steps per transition would take 0.14 seconds.\n",
      "Adjust your expectations accordingly!\n",
      "\n",
      "\n",
      "Iteration:     1 / 20000 [  0%]  (Warmup)\n",
      "Iteration:  2000 / 20000 [ 10%]  (Warmup)\n",
      "Iteration:  4000 / 20000 [ 20%]  (Warmup)\n",
      "Iteration:  4001 / 20000 [ 20%]  (Sampling)\n",
      "Iteration:  6000 / 20000 [ 30%]  (Sampling)\n",
      "Iteration:  8000 / 20000 [ 40%]  (Sampling)\n",
      "Iteration: 10000 / 20000 [ 50%]  (Sampling)\n",
      "Iteration: 12000 / 20000 [ 60%]  (Sampling)\n",
      "Iteration: 14000 / 20000 [ 70%]  (Sampling)\n",
      "Iteration: 16000 / 20000 [ 80%]  (Sampling)\n",
      "Iteration: 18000 / 20000 [ 90%]  (Sampling)\n",
      "Iteration: 20000 / 20000 [100%]  (Sampling)\n",
      "\n",
      " Elapsed Time: 0.768514 seconds (Warm-up)\n",
      "               1.0495 seconds (Sampling)\n",
      "               1.81801 seconds (Total)\n",
      "\n"
     ]
    },
    {
     "name": "stderr",
     "output_type": "stream",
     "text": [
      "/Users/galraz1/opt/miniconda3/envs/stan_env/lib/python3.7/site-packages/ipykernel_launcher.py:60: UserWarning: Legend does not support 'p' instances.\n",
      "A proxy artist may be used instead.\n",
      "See: https://matplotlib.org/users/legend_guide.html#creating-artists-specifically-for-adding-to-the-legend-aka-proxy-artists\n",
      "/Users/galraz1/opt/miniconda3/envs/stan_env/lib/python3.7/site-packages/ipykernel_launcher.py:60: UserWarning: Legend does not support 'r' instances.\n",
      "A proxy artist may be used instead.\n",
      "See: https://matplotlib.org/users/legend_guide.html#creating-artists-specifically-for-adding-to-the-legend-aka-proxy-artists\n",
      "/Users/galraz1/opt/miniconda3/envs/stan_env/lib/python3.7/site-packages/ipykernel_launcher.py:60: UserWarning: Legend does not support 'i' instances.\n",
      "A proxy artist may be used instead.\n",
      "See: https://matplotlib.org/users/legend_guide.html#creating-artists-specifically-for-adding-to-the-legend-aka-proxy-artists\n",
      "/Users/galraz1/opt/miniconda3/envs/stan_env/lib/python3.7/site-packages/ipykernel_launcher.py:60: UserWarning: Legend does not support 'o' instances.\n",
      "A proxy artist may be used instead.\n",
      "See: https://matplotlib.org/users/legend_guide.html#creating-artists-specifically-for-adding-to-the-legend-aka-proxy-artists\n",
      "/Users/galraz1/opt/miniconda3/envs/stan_env/lib/python3.7/site-packages/ipykernel_launcher.py:67: UserWarning: Legend does not support 'p' instances.\n",
      "A proxy artist may be used instead.\n",
      "See: https://matplotlib.org/users/legend_guide.html#creating-artists-specifically-for-adding-to-the-legend-aka-proxy-artists\n",
      "/Users/galraz1/opt/miniconda3/envs/stan_env/lib/python3.7/site-packages/ipykernel_launcher.py:67: UserWarning: Legend does not support 'r' instances.\n",
      "A proxy artist may be used instead.\n",
      "See: https://matplotlib.org/users/legend_guide.html#creating-artists-specifically-for-adding-to-the-legend-aka-proxy-artists\n",
      "/Users/galraz1/opt/miniconda3/envs/stan_env/lib/python3.7/site-packages/ipykernel_launcher.py:67: UserWarning: Legend does not support 'i' instances.\n",
      "A proxy artist may be used instead.\n",
      "See: https://matplotlib.org/users/legend_guide.html#creating-artists-specifically-for-adding-to-the-legend-aka-proxy-artists\n",
      "/Users/galraz1/opt/miniconda3/envs/stan_env/lib/python3.7/site-packages/ipykernel_launcher.py:67: UserWarning: Legend does not support 'o' instances.\n",
      "A proxy artist may be used instead.\n",
      "See: https://matplotlib.org/users/legend_guide.html#creating-artists-specifically-for-adding-to-the-legend-aka-proxy-artists\n"
     ]
    },
    {
     "name": "stdout",
     "output_type": "stream",
     "text": [
      "KL: 0.02200079354606721\n",
      "stimulus:  5\n",
      "sample:  13\n",
      "\n"
     ]
    },
    {
     "name": "stderr",
     "output_type": "stream",
     "text": [
      "WARNING:pystan:218 of 16000 iterations ended with a divergence (1.36 %).\n",
      "WARNING:pystan:Try running with adapt_delta larger than 0.95 to remove the divergences.\n"
     ]
    },
    {
     "name": "stdout",
     "output_type": "stream",
     "text": [
      "Gradient evaluation took 3.2e-05 seconds\n",
      "1000 transitions using 10 leapfrog steps per transition would take 0.32 seconds.\n",
      "Adjust your expectations accordingly!\n",
      "\n",
      "\n",
      "Iteration:     1 / 20000 [  0%]  (Warmup)\n",
      "Iteration:  2000 / 20000 [ 10%]  (Warmup)\n",
      "Iteration:  4000 / 20000 [ 20%]  (Warmup)\n",
      "Iteration:  4001 / 20000 [ 20%]  (Sampling)\n",
      "Iteration:  6000 / 20000 [ 30%]  (Sampling)\n",
      "Iteration:  8000 / 20000 [ 40%]  (Sampling)\n",
      "Iteration: 10000 / 20000 [ 50%]  (Sampling)\n",
      "Iteration: 12000 / 20000 [ 60%]  (Sampling)\n",
      "Iteration: 14000 / 20000 [ 70%]  (Sampling)\n",
      "Iteration: 16000 / 20000 [ 80%]  (Sampling)\n",
      "Iteration: 18000 / 20000 [ 90%]  (Sampling)\n",
      "Iteration: 20000 / 20000 [100%]  (Sampling)\n",
      "\n",
      " Elapsed Time: 0.778932 seconds (Warm-up)\n",
      "               1.21104 seconds (Sampling)\n",
      "               1.98997 seconds (Total)\n",
      "\n"
     ]
    },
    {
     "name": "stderr",
     "output_type": "stream",
     "text": [
      "/Users/galraz1/opt/miniconda3/envs/stan_env/lib/python3.7/site-packages/ipykernel_launcher.py:60: UserWarning: Legend does not support 'p' instances.\n",
      "A proxy artist may be used instead.\n",
      "See: https://matplotlib.org/users/legend_guide.html#creating-artists-specifically-for-adding-to-the-legend-aka-proxy-artists\n",
      "/Users/galraz1/opt/miniconda3/envs/stan_env/lib/python3.7/site-packages/ipykernel_launcher.py:60: UserWarning: Legend does not support 'r' instances.\n",
      "A proxy artist may be used instead.\n",
      "See: https://matplotlib.org/users/legend_guide.html#creating-artists-specifically-for-adding-to-the-legend-aka-proxy-artists\n",
      "/Users/galraz1/opt/miniconda3/envs/stan_env/lib/python3.7/site-packages/ipykernel_launcher.py:60: UserWarning: Legend does not support 'i' instances.\n",
      "A proxy artist may be used instead.\n",
      "See: https://matplotlib.org/users/legend_guide.html#creating-artists-specifically-for-adding-to-the-legend-aka-proxy-artists\n",
      "/Users/galraz1/opt/miniconda3/envs/stan_env/lib/python3.7/site-packages/ipykernel_launcher.py:60: UserWarning: Legend does not support 'o' instances.\n",
      "A proxy artist may be used instead.\n",
      "See: https://matplotlib.org/users/legend_guide.html#creating-artists-specifically-for-adding-to-the-legend-aka-proxy-artists\n",
      "/Users/galraz1/opt/miniconda3/envs/stan_env/lib/python3.7/site-packages/ipykernel_launcher.py:67: UserWarning: Legend does not support 'p' instances.\n",
      "A proxy artist may be used instead.\n",
      "See: https://matplotlib.org/users/legend_guide.html#creating-artists-specifically-for-adding-to-the-legend-aka-proxy-artists\n",
      "/Users/galraz1/opt/miniconda3/envs/stan_env/lib/python3.7/site-packages/ipykernel_launcher.py:67: UserWarning: Legend does not support 'r' instances.\n",
      "A proxy artist may be used instead.\n",
      "See: https://matplotlib.org/users/legend_guide.html#creating-artists-specifically-for-adding-to-the-legend-aka-proxy-artists\n",
      "/Users/galraz1/opt/miniconda3/envs/stan_env/lib/python3.7/site-packages/ipykernel_launcher.py:67: UserWarning: Legend does not support 'i' instances.\n",
      "A proxy artist may be used instead.\n",
      "See: https://matplotlib.org/users/legend_guide.html#creating-artists-specifically-for-adding-to-the-legend-aka-proxy-artists\n",
      "/Users/galraz1/opt/miniconda3/envs/stan_env/lib/python3.7/site-packages/ipykernel_launcher.py:67: UserWarning: Legend does not support 'o' instances.\n",
      "A proxy artist may be used instead.\n",
      "See: https://matplotlib.org/users/legend_guide.html#creating-artists-specifically-for-adding-to-the-legend-aka-proxy-artists\n"
     ]
    },
    {
     "name": "stdout",
     "output_type": "stream",
     "text": [
      "KL: 0.007299402574888925\n",
      "stimulus:  6\n",
      "sample:  14\n"
     ]
    },
    {
     "name": "stderr",
     "output_type": "stream",
     "text": [
      "WARNING:pystan:12 of 16000 iterations ended with a divergence (0.075 %).\n",
      "WARNING:pystan:Try running with adapt_delta larger than 0.95 to remove the divergences.\n"
     ]
    },
    {
     "name": "stdout",
     "output_type": "stream",
     "text": [
      "\n",
      "Gradient evaluation took 4.1e-05 seconds\n",
      "1000 transitions using 10 leapfrog steps per transition would take 0.41 seconds.\n",
      "Adjust your expectations accordingly!\n",
      "\n",
      "\n",
      "Iteration:     1 / 20000 [  0%]  (Warmup)\n",
      "Iteration:  2000 / 20000 [ 10%]  (Warmup)\n",
      "Iteration:  4000 / 20000 [ 20%]  (Warmup)\n",
      "Iteration:  4001 / 20000 [ 20%]  (Sampling)\n",
      "Iteration:  6000 / 20000 [ 30%]  (Sampling)\n",
      "Iteration:  8000 / 20000 [ 40%]  (Sampling)\n",
      "Iteration: 10000 / 20000 [ 50%]  (Sampling)\n",
      "Iteration: 12000 / 20000 [ 60%]  (Sampling)\n",
      "Iteration: 14000 / 20000 [ 70%]  (Sampling)\n",
      "Iteration: 16000 / 20000 [ 80%]  (Sampling)\n",
      "Iteration: 18000 / 20000 [ 90%]  (Sampling)\n",
      "Iteration: 20000 / 20000 [100%]  (Sampling)\n",
      "\n",
      " Elapsed Time: 0.72461 seconds (Warm-up)\n",
      "               0.768762 seconds (Sampling)\n",
      "               1.49337 seconds (Total)\n",
      "\n"
     ]
    },
    {
     "name": "stderr",
     "output_type": "stream",
     "text": [
      "/Users/galraz1/opt/miniconda3/envs/stan_env/lib/python3.7/site-packages/ipykernel_launcher.py:60: UserWarning: Legend does not support 'p' instances.\n",
      "A proxy artist may be used instead.\n",
      "See: https://matplotlib.org/users/legend_guide.html#creating-artists-specifically-for-adding-to-the-legend-aka-proxy-artists\n",
      "/Users/galraz1/opt/miniconda3/envs/stan_env/lib/python3.7/site-packages/ipykernel_launcher.py:60: UserWarning: Legend does not support 'r' instances.\n",
      "A proxy artist may be used instead.\n",
      "See: https://matplotlib.org/users/legend_guide.html#creating-artists-specifically-for-adding-to-the-legend-aka-proxy-artists\n",
      "/Users/galraz1/opt/miniconda3/envs/stan_env/lib/python3.7/site-packages/ipykernel_launcher.py:60: UserWarning: Legend does not support 'i' instances.\n",
      "A proxy artist may be used instead.\n",
      "See: https://matplotlib.org/users/legend_guide.html#creating-artists-specifically-for-adding-to-the-legend-aka-proxy-artists\n",
      "/Users/galraz1/opt/miniconda3/envs/stan_env/lib/python3.7/site-packages/ipykernel_launcher.py:60: UserWarning: Legend does not support 'o' instances.\n",
      "A proxy artist may be used instead.\n",
      "See: https://matplotlib.org/users/legend_guide.html#creating-artists-specifically-for-adding-to-the-legend-aka-proxy-artists\n",
      "/Users/galraz1/opt/miniconda3/envs/stan_env/lib/python3.7/site-packages/ipykernel_launcher.py:67: UserWarning: Legend does not support 'p' instances.\n",
      "A proxy artist may be used instead.\n",
      "See: https://matplotlib.org/users/legend_guide.html#creating-artists-specifically-for-adding-to-the-legend-aka-proxy-artists\n",
      "/Users/galraz1/opt/miniconda3/envs/stan_env/lib/python3.7/site-packages/ipykernel_launcher.py:67: UserWarning: Legend does not support 'r' instances.\n",
      "A proxy artist may be used instead.\n",
      "See: https://matplotlib.org/users/legend_guide.html#creating-artists-specifically-for-adding-to-the-legend-aka-proxy-artists\n",
      "/Users/galraz1/opt/miniconda3/envs/stan_env/lib/python3.7/site-packages/ipykernel_launcher.py:67: UserWarning: Legend does not support 'i' instances.\n",
      "A proxy artist may be used instead.\n",
      "See: https://matplotlib.org/users/legend_guide.html#creating-artists-specifically-for-adding-to-the-legend-aka-proxy-artists\n",
      "/Users/galraz1/opt/miniconda3/envs/stan_env/lib/python3.7/site-packages/ipykernel_launcher.py:67: UserWarning: Legend does not support 'o' instances.\n",
      "A proxy artist may be used instead.\n",
      "See: https://matplotlib.org/users/legend_guide.html#creating-artists-specifically-for-adding-to-the-legend-aka-proxy-artists\n"
     ]
    },
    {
     "name": "stdout",
     "output_type": "stream",
     "text": [
      "KL: 3.1388981436392878\n",
      "stimulus:  6\n",
      "sample:  15\n",
      "\n",
      "Gradient evaluation took 2.3e-05 seconds\n",
      "1000 transitions using 10 leapfrog steps per transition would take 0.23 seconds.\n",
      "Adjust your expectations accordingly!\n",
      "\n",
      "\n",
      "Iteration:     1 / 20000 [  0%]  (Warmup)\n",
      "Iteration:  2000 / 20000 [ 10%]  (Warmup)\n",
      "Iteration:  4000 / 20000 [ 20%]  (Warmup)\n",
      "Iteration:  4001 / 20000 [ 20%]  (Sampling)\n",
      "Iteration:  6000 / 20000 [ 30%]  (Sampling)\n",
      "Iteration:  8000 / 20000 [ 40%]  (Sampling)\n",
      "Iteration: 10000 / 20000 [ 50%]  (Sampling)\n",
      "Iteration: 12000 / 20000 [ 60%]  (Sampling)\n",
      "Iteration: 14000 / 20000 [ 70%]  (Sampling)\n",
      "Iteration: 16000 / 20000 [ 80%]  (Sampling)\n",
      "Iteration: 18000 / 20000 [ 90%]  (Sampling)\n",
      "Iteration: 20000 / 20000 [100%]  (Sampling)\n",
      "\n",
      " Elapsed Time: 0.623819 seconds (Warm-up)\n",
      "               0.679874 seconds (Sampling)\n",
      "               1.30369 seconds (Total)\n",
      "\n"
     ]
    },
    {
     "name": "stderr",
     "output_type": "stream",
     "text": [
      "/Users/galraz1/opt/miniconda3/envs/stan_env/lib/python3.7/site-packages/ipykernel_launcher.py:60: UserWarning: Legend does not support 'p' instances.\n",
      "A proxy artist may be used instead.\n",
      "See: https://matplotlib.org/users/legend_guide.html#creating-artists-specifically-for-adding-to-the-legend-aka-proxy-artists\n",
      "/Users/galraz1/opt/miniconda3/envs/stan_env/lib/python3.7/site-packages/ipykernel_launcher.py:60: UserWarning: Legend does not support 'r' instances.\n",
      "A proxy artist may be used instead.\n",
      "See: https://matplotlib.org/users/legend_guide.html#creating-artists-specifically-for-adding-to-the-legend-aka-proxy-artists\n",
      "/Users/galraz1/opt/miniconda3/envs/stan_env/lib/python3.7/site-packages/ipykernel_launcher.py:60: UserWarning: Legend does not support 'i' instances.\n",
      "A proxy artist may be used instead.\n",
      "See: https://matplotlib.org/users/legend_guide.html#creating-artists-specifically-for-adding-to-the-legend-aka-proxy-artists\n",
      "/Users/galraz1/opt/miniconda3/envs/stan_env/lib/python3.7/site-packages/ipykernel_launcher.py:60: UserWarning: Legend does not support 'o' instances.\n",
      "A proxy artist may be used instead.\n",
      "See: https://matplotlib.org/users/legend_guide.html#creating-artists-specifically-for-adding-to-the-legend-aka-proxy-artists\n",
      "/Users/galraz1/opt/miniconda3/envs/stan_env/lib/python3.7/site-packages/ipykernel_launcher.py:67: UserWarning: Legend does not support 'p' instances.\n",
      "A proxy artist may be used instead.\n",
      "See: https://matplotlib.org/users/legend_guide.html#creating-artists-specifically-for-adding-to-the-legend-aka-proxy-artists\n",
      "/Users/galraz1/opt/miniconda3/envs/stan_env/lib/python3.7/site-packages/ipykernel_launcher.py:67: UserWarning: Legend does not support 'r' instances.\n",
      "A proxy artist may be used instead.\n",
      "See: https://matplotlib.org/users/legend_guide.html#creating-artists-specifically-for-adding-to-the-legend-aka-proxy-artists\n",
      "/Users/galraz1/opt/miniconda3/envs/stan_env/lib/python3.7/site-packages/ipykernel_launcher.py:67: UserWarning: Legend does not support 'i' instances.\n",
      "A proxy artist may be used instead.\n",
      "See: https://matplotlib.org/users/legend_guide.html#creating-artists-specifically-for-adding-to-the-legend-aka-proxy-artists\n",
      "/Users/galraz1/opt/miniconda3/envs/stan_env/lib/python3.7/site-packages/ipykernel_launcher.py:67: UserWarning: Legend does not support 'o' instances.\n",
      "A proxy artist may be used instead.\n",
      "See: https://matplotlib.org/users/legend_guide.html#creating-artists-specifically-for-adding-to-the-legend-aka-proxy-artists\n"
     ]
    },
    {
     "name": "stdout",
     "output_type": "stream",
     "text": [
      "KL: 0.10861634537045572\n",
      "stimulus:  6\n",
      "sample:  16\n",
      "\n",
      "Gradient evaluation took 2.4e-05 seconds\n",
      "1000 transitions using 10 leapfrog steps per transition would take 0.24 seconds.\n",
      "Adjust your expectations accordingly!\n",
      "\n",
      "\n",
      "Iteration:     1 / 20000 [  0%]  (Warmup)\n",
      "Iteration:  2000 / 20000 [ 10%]  (Warmup)\n",
      "Iteration:  4000 / 20000 [ 20%]  (Warmup)\n",
      "Iteration:  4001 / 20000 [ 20%]  (Sampling)\n",
      "Iteration:  6000 / 20000 [ 30%]  (Sampling)\n",
      "Iteration:  8000 / 20000 [ 40%]  (Sampling)\n",
      "Iteration: 10000 / 20000 [ 50%]  (Sampling)\n",
      "Iteration: 12000 / 20000 [ 60%]  (Sampling)\n",
      "Iteration: 14000 / 20000 [ 70%]  (Sampling)\n",
      "Iteration: 16000 / 20000 [ 80%]  (Sampling)\n",
      "Iteration: 18000 / 20000 [ 90%]  (Sampling)\n",
      "Iteration: 20000 / 20000 [100%]  (Sampling)\n",
      "\n",
      " Elapsed Time: 0.514365 seconds (Warm-up)\n",
      "               0.748571 seconds (Sampling)\n",
      "               1.26294 seconds (Total)\n",
      "\n"
     ]
    },
    {
     "name": "stderr",
     "output_type": "stream",
     "text": [
      "/Users/galraz1/opt/miniconda3/envs/stan_env/lib/python3.7/site-packages/ipykernel_launcher.py:60: UserWarning: Legend does not support 'p' instances.\n",
      "A proxy artist may be used instead.\n",
      "See: https://matplotlib.org/users/legend_guide.html#creating-artists-specifically-for-adding-to-the-legend-aka-proxy-artists\n",
      "/Users/galraz1/opt/miniconda3/envs/stan_env/lib/python3.7/site-packages/ipykernel_launcher.py:60: UserWarning: Legend does not support 'r' instances.\n",
      "A proxy artist may be used instead.\n",
      "See: https://matplotlib.org/users/legend_guide.html#creating-artists-specifically-for-adding-to-the-legend-aka-proxy-artists\n",
      "/Users/galraz1/opt/miniconda3/envs/stan_env/lib/python3.7/site-packages/ipykernel_launcher.py:60: UserWarning: Legend does not support 'i' instances.\n",
      "A proxy artist may be used instead.\n",
      "See: https://matplotlib.org/users/legend_guide.html#creating-artists-specifically-for-adding-to-the-legend-aka-proxy-artists\n",
      "/Users/galraz1/opt/miniconda3/envs/stan_env/lib/python3.7/site-packages/ipykernel_launcher.py:60: UserWarning: Legend does not support 'o' instances.\n",
      "A proxy artist may be used instead.\n",
      "See: https://matplotlib.org/users/legend_guide.html#creating-artists-specifically-for-adding-to-the-legend-aka-proxy-artists\n",
      "/Users/galraz1/opt/miniconda3/envs/stan_env/lib/python3.7/site-packages/ipykernel_launcher.py:67: UserWarning: Legend does not support 'p' instances.\n",
      "A proxy artist may be used instead.\n",
      "See: https://matplotlib.org/users/legend_guide.html#creating-artists-specifically-for-adding-to-the-legend-aka-proxy-artists\n",
      "/Users/galraz1/opt/miniconda3/envs/stan_env/lib/python3.7/site-packages/ipykernel_launcher.py:67: UserWarning: Legend does not support 'r' instances.\n",
      "A proxy artist may be used instead.\n",
      "See: https://matplotlib.org/users/legend_guide.html#creating-artists-specifically-for-adding-to-the-legend-aka-proxy-artists\n",
      "/Users/galraz1/opt/miniconda3/envs/stan_env/lib/python3.7/site-packages/ipykernel_launcher.py:67: UserWarning: Legend does not support 'i' instances.\n",
      "A proxy artist may be used instead.\n",
      "See: https://matplotlib.org/users/legend_guide.html#creating-artists-specifically-for-adding-to-the-legend-aka-proxy-artists\n",
      "/Users/galraz1/opt/miniconda3/envs/stan_env/lib/python3.7/site-packages/ipykernel_launcher.py:67: UserWarning: Legend does not support 'o' instances.\n",
      "A proxy artist may be used instead.\n",
      "See: https://matplotlib.org/users/legend_guide.html#creating-artists-specifically-for-adding-to-the-legend-aka-proxy-artists\n"
     ]
    },
    {
     "name": "stdout",
     "output_type": "stream",
     "text": [
      "KL: 0.006543136934700211\n"
     ]
    },
    {
     "data": {
      "image/png": "[encoded data removed]",
      "text/plain": [
       "<Figure size 1296x864 with 17 Axes>"
      ]
     },
     "metadata": {
      "needs_background": "light"
     },
     "output_type": "display_data"
    },
    {
     "data": {
      "image/png": "[encoded data removed]",
      "text/plain": [
       "<Figure size 1296x864 with 17 Axes>"
      ]
     },
     "metadata": {
      "needs_background": "light"
     },
     "output_type": "display_data"
    },
    {
     "data": {
      "image/png": "[encoded data removed]",
      "text/plain": [
       "<Figure size 1296x864 with 1 Axes>"
      ]
     },
     "metadata": {
      "needs_background": "light"
     },
     "output_type": "display_data"
    },
    {
     "data": {
      "image/png": "[encoded data removed]",
      "text/plain": [
       "<Figure size 1296x864 with 1 Axes>"
      ]
     },
     "metadata": {
      "needs_background": "light"
     },
     "output_type": "display_data"
    }
   ],
   "source": [
    "for run in np.arange(0, num_model_runs):\n",
    "    \n",
    "    print('model run: ', run)\n",
    "\n",
    "    # generate the data\n",
    "    sim_data = [np.random.multivariate_normal(exemplar_means[idx-1], sig) for idx in exemplar_idx] \n",
    "    sim_data = np.asmatrix(sim_data)\n",
    "\n",
    "    # Iterators\n",
    "    samples_from_current_stim = 1\n",
    "    total_samples = 1\n",
    "    exemplar_num = 1\n",
    "\n",
    "    # initialize data\n",
    "    sample_data = np.empty((num_samples,num_features))\n",
    "    sample_data[:] = np.nan\n",
    "\n",
    "    exemplar_labels = np.empty((num_samples,))\n",
    "    exemplar_labels[:] = np.nan\n",
    "\n",
    "    while sample or samples_from_current_stim > 1:\n",
    "        \n",
    "        print('stimulus: ', exemplar_num)\n",
    "        \n",
    "        print('sample: ', total_samples)\n",
    "\n",
    "        \n",
    "        # sample number\n",
    "        data[\"M\"] = total_samples\n",
    "\n",
    "        # exemplar number \n",
    "        data[\"K\"] = exemplar_num\n",
    "\n",
    "        # add sim data\n",
    "        sample_data[total_samples-1] = sim_data[exemplar_idx == exemplar_num][samples_from_current_stim-1]\n",
    "        data[\"z\"] = np.transpose(sample_data[0:total_samples,:])\n",
    "\n",
    "        # add exemplar for each id\n",
    "        exemplar_labels[total_samples-1] = int(exemplar_num)\n",
    "        data[\"exemplar_idx\"] = [int(x) for x in exemplar_labels[~np.isnan(exemplar_labels)]]\n",
    "\n",
    "        # get posterior samples\n",
    "        fit = sm.sampling(data=data, iter=num_iter, chains=1, warmup = num_warmup,control=dict(adapt_delta=0.95));\n",
    "        \n",
    "        \n",
    "        posterior = np.hstack((fit['mu'][0:len(fit['mu']):thinning_factor], \\\n",
    "                               fit['sigma'][0:len(fit['mu']):thinning_factor]))\n",
    "        \n",
    "        # fit gmms\n",
    "        gmm_p = GaussianMixture(n_components=2, random_state=0).fit(posterior)\n",
    "        gmm_q = GaussianMixture(n_components=2, random_state=0).fit(prior)\n",
    "\n",
    "        if total_samples < 30:\n",
    "            \n",
    "            plt.figure(1)\n",
    "            plt.rcParams['figure.figsize'] = [18, 12]\n",
    "            plt.subplot(4,5,total_samples)\n",
    "            plt.hist(np.hstack((prior[:,[0]],posterior[:,[0]])), bins = 100);\n",
    "            plt.title(str(total_samples) + \" , \" + str(exemplar_num))\n",
    "            plt.legend('prior', 'posterior')\n",
    "            \n",
    "            plt.figure(2)\n",
    "            plt.rcParams['figure.figsize'] = [18, 12]\n",
    "            plt.subplot(4,5,total_samples)\n",
    "            plt.hist(np.hstack((prior[:,[1]],posterior[:,[1]])), bins = 100);\n",
    "            plt.title(str(total_samples) + \" , \" + str(exemplar_num))\n",
    "            plt.legend('prior', 'posterior')\n",
    "           \n",
    "           \n",
    "        else: \n",
    "            plt.show()\n",
    "            break;\n",
    "            \n",
    "        if policy is 'kl':\n",
    "\n",
    "            X = gmm_p.sample(posterior.shape[0])\n",
    "\n",
    "            log_p_X = gmm_p.score_samples(X[0])\n",
    "            log_q_X = gmm_q.score_samples(X[0])\n",
    "\n",
    "            # KL divergence between prior and posterior\n",
    "            stim_info[run, total_samples-1] = log_p_X.mean() - log_q_X.mean()\n",
    "\n",
    "            \n",
    "            #\n",
    "            \n",
    "            print('KL:',  stim_info[run,total_samples-1])\n",
    "\n",
    "        elif policy is 'entropy':\n",
    "            # reduction of entropy\n",
    "            stim_info[run,total_samples-1] = np.abs(continuous.get_h(prior, k= 250) - continuous.get_h(posterior, k = 250))\n",
    "            \n",
    "            print('entropy change:',  stim_info[run,total_samples-1])\n",
    "            \n",
    "        elif policy is 'surprisal':   \n",
    "                            \n",
    "            # surprisal of current observation given prior\n",
    "            stim_info[run, total_samples-1] = surprisal(np.squeeze(fit['z_rep'], axis = 1), sample_data[total_samples-1])\n",
    "            \n",
    "            print('surprisal:',  stim_info[run,total_samples-1])\n",
    "\n",
    "        elif policy is 'EIG':\n",
    "            \n",
    "            hypothethical_grid = np.arange(-2, 2, 0.1)\n",
    "            \n",
    "            stim_info[run,total_samples-1] = EIG(posterior)\n",
    "\n",
    "        # decision rule\n",
    "        if stim_info[run,total_samples-1] < env_info:\n",
    "            model_LT[run, exemplar_num-1] = samples_from_current_stim\n",
    "\n",
    "            # reset/increment counters\n",
    "            samples_from_current_stim = 1\n",
    "            exemplar_num += 1\n",
    "\n",
    "            if exemplar_num > sequence_length:\n",
    "                sample = False\n",
    "\n",
    "        else:\n",
    "            samples_from_current_stim += 1 \n",
    "\n",
    "        if policy is 'kl' or policy is 'surprisal' or policy is 'entropy':\n",
    "            prior = posterior\n",
    "        \n",
    "        total_samples += 1\n",
    "\n",
    "    # start sampling for next model run\n",
    "    sample = True\n",
    "\n",
    "    \n",
    "plt.show()\n",
    "\n",
    "\n",
    "font = {'family' : 'normal',\n",
    "        'weight' : 'bold',\n",
    "        'size'   : 22}\n",
    "\n",
    "plt.rc('font', **font)\n",
    "\n",
    "plt.plot(np.arange(1,sequence_length+1), np.mean(model_LT, axis = 0).squeeze(), 'k*')\n",
    "\n",
    "plt.xlabel(\"stim index\")\n",
    "plt.ylabel(\"model samples\")\n",
    "plt.title(\"\")\n",
    "\n",
    "plt.show()\n",
    "\n",
    "\n",
    "plt.plot(np.arange(1,total_samples+1),np.mean(stim_info, axis = 0)[0:total_samples].squeeze(), markersize = 20)\n",
    "\n",
    "plt.xlabel(\"sample index\")\n",
    "plt.ylabel(\"stim info\")\n",
    "plt.title(\"\")\n",
    "plt.show()"
   ]
  },
  {
   "cell_type": "code",
   "execution_count": 71,
   "metadata": {},
   "outputs": [
    {
     "data": {
      "image/png": "[encoded data removed]",
      "text/plain": [
       "<Figure size 1296x864 with 1 Axes>"
      ]
     },
     "metadata": {
      "needs_background": "light"
     },
     "output_type": "display_data"
    },
    {
     "name": "stdout",
     "output_type": "stream",
     "text": [
      "kl div: 1.9389252800833203\n",
      "means\n",
      "[0.0029953  1.02672432]\n",
      "[0.77125344 0.41720897]\n",
      "SD\n"
     ]
    },
    {
     "ename": "NameError",
     "evalue": "name 'sd_prior' is not defined",
     "output_type": "error",
     "traceback": [
      "\u001b[0;31m---------------------------------------------------------------------------\u001b[0m",
      "\u001b[0;31mNameError\u001b[0m                                 Traceback (most recent call last)",
      "\u001b[0;32m/var/folders/ll/vmwcshdn1xd84d7z8myb9w7m0000gp/T/ipykernel_70430/482501822.py\u001b[0m in \u001b[0;36m<module>\u001b[0;34m\u001b[0m\n\u001b[1;32m     38\u001b[0m \u001b[0;34m\u001b[0m\u001b[0m\n\u001b[1;32m     39\u001b[0m \u001b[0mprint\u001b[0m\u001b[0;34m(\u001b[0m\u001b[0;34m\"SD\"\u001b[0m\u001b[0;34m)\u001b[0m\u001b[0;34m\u001b[0m\u001b[0;34m\u001b[0m\u001b[0m\n\u001b[0;32m---> 40\u001b[0;31m \u001b[0mprint\u001b[0m\u001b[0;34m(\u001b[0m\u001b[0msd_prior\u001b[0m\u001b[0;34m)\u001b[0m\u001b[0;34m\u001b[0m\u001b[0;34m\u001b[0m\u001b[0m\n\u001b[0m\u001b[1;32m     41\u001b[0m \u001b[0mprint\u001b[0m\u001b[0;34m(\u001b[0m\u001b[0msd_posterior\u001b[0m\u001b[0;34m)\u001b[0m\u001b[0;34m\u001b[0m\u001b[0;34m\u001b[0m\u001b[0m\n\u001b[1;32m     42\u001b[0m \u001b[0;34m\u001b[0m\u001b[0m\n",
      "\u001b[0;31mNameError\u001b[0m: name 'sd_prior' is not defined"
     ]
    }
   ],
   "source": [
    "font = {'family' : 'normal',\n",
    "        'weight' : 'bold',\n",
    "        'size'   : 22}\n",
    "\n",
    "plt.rc('font', **font)\n",
    "\n",
    "#plt.plot(np.arange(1,sequence_length+1), np.mean(model_LT, axis = 0).squeeze(), 'k*', markersize = 20)\n",
    "\n",
    "#plt.xlabel(\"stim index\")\n",
    "#plt.ylabel(\"model samples\")\n",
    "#plt.title(\"\")\n",
    "\n",
    "#plt.show()\n",
    "\n",
    "plt.plot(np.arange(1,total_samples+1),np.mean(stim_info, axis = 0)[0:total_samples].squeeze(), markersize = 20)\n",
    "\n",
    "plt.xlabel(\"sample index\")\n",
    "plt.ylabel(\"surprisal\")\n",
    "plt.title(\"\")\n",
    "plt.show()\n",
    "\n",
    "mean_prior = np.mean(prior, axis = 0)\n",
    "\n",
    "cov_prior = np.cov(np.transpose(prior))\n",
    "\n",
    "mean_posterior = np.mean(posterior, axis = 0)\n",
    "\n",
    "cov_posterior = np.cov(np.transpose(posterior))\n",
    "\n",
    "\n",
    "print('kl div:', kl_mvn(mean_posterior, cov_posterior, mean_prior, cov_prior))\n",
    "\n",
    "\n",
    "print(\"means\")\n",
    "\n",
    "print(mean_prior)\n",
    "print(mean_posterior)\n",
    "\n",
    "print(\"SD\")\n",
    "print(sd_prior)\n",
    "print(sd_posterior)\n",
    "\n",
    "print(\"data\")\n",
    "print(data['z'])\n",
    "print(data['exemplar_idx'])\n",
    "\n",
    "\n",
    "data['z']\n",
    "\n",
    "posterior.shape\n",
    "\n",
    "\n"
   ]
  },
  {
   "cell_type": "code",
   "execution_count": 54,
   "metadata": {},
   "outputs": [
    {
     "data": {
      "text/plain": [
       "(16000, 2)"
      ]
     },
     "execution_count": 54,
     "metadata": {},
     "output_type": "execute_result"
    }
   ],
   "source": [
    "posterior.shape"
   ]
  },
  {
   "cell_type": "code",
   "execution_count": 72,
   "metadata": {},
   "outputs": [
    {
     "data": {
      "text/plain": [
       "-3.7146721307353054"
      ]
     },
     "execution_count": 72,
     "metadata": {},
     "output_type": "execute_result"
    }
   ],
   "source": [
    "gmm_p = GaussianMixture(n_components=2, random_state=0).fit(posterior)\n",
    "gmm_q = GaussianMixture(n_components=2, random_state=0).fit(prior)\n",
    "\n",
    "X = gmm_p.sample(posterior.shape[0])\n",
    "\n",
    "log_p_X = gmm_p.score_samples(X[0])\n",
    "log_q_X, _ = gmm_q.score_samples(X[0])"
   ]
  },
  {
   "cell_type": "code",
   "execution_count": 50,
   "metadata": {},
   "outputs": [
    {
     "name": "stdout",
     "output_type": "stream",
     "text": [
      "means:  [[0.27129736]\n",
      " [0.87890242]]\n",
      "covariances:  [[[0.02682581]]\n",
      "\n",
      " [[0.22641521]]]\n",
      "precisions:  [[[37.27753524]]\n",
      "\n",
      " [[ 4.41666434]]]\n",
      "weights:  [0.70806028 0.29193972]\n"
     ]
    },
    {
     "data": {
      "text/plain": [
       "(0.0, 3500.0)"
      ]
     },
     "execution_count": 50,
     "metadata": {},
     "output_type": "execute_result"
    },
    {
     "data": {
      "image/png": "[encoded data removed]",
      "text/plain": [
       "<Figure size 1296x864 with 2 Axes>"
      ]
     },
     "metadata": {
      "needs_background": "light"
     },
     "output_type": "display_data"
    }
   ],
   "source": [
    "print('means: ', gm.means_)\n",
    "print('covariances: ', gm.covariances_)\n",
    "\n",
    "print('precisions: ', gm.precisions_)\n",
    "\n",
    "print('weights: ', gm.weights_)\n",
    "\n",
    "\n",
    "plt.subplot(1,2,1)\n",
    "plt.hist(posterior[:,1], bins = 40)\n",
    "plt.title('original posterior')\n",
    "plt.xlim([-1.5, 2])\n",
    "plt.ylim([0, 3500])\n",
    "\n",
    "plt.subplot(1,2,2)\n",
    "plt.hist(gm.sample(16000)[0], bins = 40)\n",
    "plt.title('resampled from gaussian mixture')\n",
    "plt.ylim([0, 3500])\n"
   ]
  },
  {
   "cell_type": "code",
   "execution_count": 42,
   "metadata": {},
   "outputs": [
    {
     "data": {
      "text/plain": [
       "(16000, 2)"
      ]
     },
     "execution_count": 42,
     "metadata": {},
     "output_type": "execute_result"
    }
   ],
   "source": [
    "posterior.shape"
   ]
  },
  {
   "cell_type": "code",
   "execution_count": 120,
   "metadata": {},
   "outputs": [
    {
     "data": {
      "text/plain": [
       "array([[2., 2., 2., 3., 0., 0.],\n",
       "       [2., 3., 4., 0., 0., 0.],\n",
       "       [4., 3., 2., 0., 0., 0.]])"
      ]
     },
     "execution_count": 120,
     "metadata": {},
     "output_type": "execute_result"
    }
   ],
   "source": [
    "model_LT"
   ]
  },
  {
   "cell_type": "code",
   "execution_count": 106,
   "metadata": {},
   "outputs": [
    {
     "data": {
      "text/plain": [
       "array([ 2.01619232,  0.00371586,  0.18321453,  0.19169076, -0.01187171,\n",
       "        0.30167573,  0.0515528 ,  0.14896336, -0.01617405,  0.23803791,\n",
       "               nan,         nan,         nan,         nan,         nan,\n",
       "               nan,         nan,         nan,         nan,         nan])"
      ]
     },
     "execution_count": 106,
     "metadata": {},
     "output_type": "execute_result"
    }
   ],
   "source": [
    "stim_info[1,0:20]"
   ]
  },
  {
   "cell_type": "code",
   "execution_count": 88,
   "metadata": {},
   "outputs": [
    {
     "data": {
      "text/plain": [
       "21"
      ]
     },
     "execution_count": 88,
     "metadata": {},
     "output_type": "execute_result"
    }
   ],
   "source": [
    "total_samples"
   ]
  },
  {
   "cell_type": "code",
   "execution_count": 107,
   "metadata": {},
   "outputs": [
    {
     "data": {
      "text/plain": [
       "array([ 1.,  1.,  1., ..., nan, nan, nan])"
      ]
     },
     "execution_count": 107,
     "metadata": {},
     "output_type": "execute_result"
    }
   ],
   "source": [
    "exemplar_num\n",
    "exemplar_labels"
   ]
  },
  {
   "cell_type": "code",
   "execution_count": 113,
   "metadata": {},
   "outputs": [
    {
     "data": {
      "text/plain": [
       "(3, 3000)"
      ]
     },
     "execution_count": 113,
     "metadata": {},
     "output_type": "execute_result"
    }
   ],
   "source": [
    "stim_info.shape"
   ]
  },
  {
   "cell_type": "code",
   "execution_count": 127,
   "metadata": {},
   "outputs": [
    {
     "data": {
      "image/png": "[encoded data removed]",
      "text/plain": [
       "<Figure size 432x288 with 1 Axes>"
      ]
     },
     "metadata": {
      "needs_background": "light"
     },
     "output_type": "display_data"
    }
   ],
   "source": [
    "plt.plot(fit['mu'][0:len(fit['mu']):thinning_factor], fit['sigma'][0:len(fit['mu']):thinning_factor], 'k*')\n",
    "plt.show()"
   ]
  },
  {
   "cell_type": "code",
   "execution_count": 129,
   "metadata": {},
   "outputs": [
    {
     "data": {
      "text/plain": [
       "(array([151., 418., 580., 683., 746., 822., 875., 918., 918., 878., 858.,\n",
       "        851., 764., 730., 696., 676., 641., 600., 563., 504., 453., 389.,\n",
       "        391., 322., 353., 293., 257., 244., 250., 211., 203., 171., 164.,\n",
       "        133., 135., 118., 109.,  96.,  77.,  73.,  79.,  66.,  64.,  45.,\n",
       "         44.,  36.,  35.,  37.,  32.,  34.,  24.,  17.,  28.,  11.,  19.,\n",
       "          9.,  12.,  10.,   9.,   8.,   1.,   7.,   4.,   7.,   4.,   4.,\n",
       "          4.,   3.,   2.,   3.,   1.,   3.,   4.,   2.,   2.,   1.,   1.,\n",
       "          0.,   0.,   1.,   3.,   0.,   0.,   0.,   0.,   3.,   0.,   0.,\n",
       "          0.,   1.,   0.,   0.,   1.,   1.,   1.,   0.,   1.,   1.,   0.,\n",
       "          1.]),\n",
       " array([1.60952816e-02, 2.73371299e-01, 5.30647317e-01, 7.87923335e-01,\n",
       "        1.04519935e+00, 1.30247537e+00, 1.55975139e+00, 1.81702741e+00,\n",
       "        2.07430342e+00, 2.33157944e+00, 2.58885546e+00, 2.84613148e+00,\n",
       "        3.10340750e+00, 3.36068351e+00, 3.61795953e+00, 3.87523555e+00,\n",
       "        4.13251157e+00, 4.38978759e+00, 4.64706360e+00, 4.90433962e+00,\n",
       "        5.16161564e+00, 5.41889166e+00, 5.67616768e+00, 5.93344369e+00,\n",
       "        6.19071971e+00, 6.44799573e+00, 6.70527175e+00, 6.96254776e+00,\n",
       "        7.21982378e+00, 7.47709980e+00, 7.73437582e+00, 7.99165184e+00,\n",
       "        8.24892785e+00, 8.50620387e+00, 8.76347989e+00, 9.02075591e+00,\n",
       "        9.27803193e+00, 9.53530794e+00, 9.79258396e+00, 1.00498600e+01,\n",
       "        1.03071360e+01, 1.05644120e+01, 1.08216880e+01, 1.10789641e+01,\n",
       "        1.13362401e+01, 1.15935161e+01, 1.18507921e+01, 1.21080681e+01,\n",
       "        1.23653441e+01, 1.26226202e+01, 1.28798962e+01, 1.31371722e+01,\n",
       "        1.33944482e+01, 1.36517242e+01, 1.39090002e+01, 1.41662763e+01,\n",
       "        1.44235523e+01, 1.46808283e+01, 1.49381043e+01, 1.51953803e+01,\n",
       "        1.54526564e+01, 1.57099324e+01, 1.59672084e+01, 1.62244844e+01,\n",
       "        1.64817604e+01, 1.67390364e+01, 1.69963125e+01, 1.72535885e+01,\n",
       "        1.75108645e+01, 1.77681405e+01, 1.80254165e+01, 1.82826926e+01,\n",
       "        1.85399686e+01, 1.87972446e+01, 1.90545206e+01, 1.93117966e+01,\n",
       "        1.95690726e+01, 1.98263487e+01, 2.00836247e+01, 2.03409007e+01,\n",
       "        2.05981767e+01, 2.08554527e+01, 2.11127287e+01, 2.13700048e+01,\n",
       "        2.16272808e+01, 2.18845568e+01, 2.21418328e+01, 2.23991088e+01,\n",
       "        2.26563849e+01, 2.29136609e+01, 2.31709369e+01, 2.34282129e+01,\n",
       "        2.36854889e+01, 2.39427649e+01, 2.42000410e+01, 2.44573170e+01,\n",
       "        2.47145930e+01, 2.49718690e+01, 2.52291450e+01, 2.54864211e+01,\n",
       "        2.57436971e+01]),\n",
       " <BarContainer object of 100 artists>)"
      ]
     },
     "execution_count": 129,
     "metadata": {},
     "output_type": "execute_result"
    },
    {
     "data": {
      "image/png": "[encoded data removed]",
      "text/plain": [
       "<Figure size 432x288 with 1 Axes>"
      ]
     },
     "metadata": {
      "needs_background": "light"
     },
     "output_type": "display_data"
    }
   ],
   "source": [
    "plt.hist(prior_sigma, bins = 100)"
   ]
  }
 ],
 "metadata": {
  "kernelspec": {
   "display_name": "Python 3 (ipykernel)",
   "language": "python",
   "name": "python3"
  },
  "language_info": {
   "codemirror_mode": {
    "name": "ipython",
    "version": 3
   },
   "file_extension": ".py",
   "mimetype": "text/x-python",
   "name": "python",
   "nbconvert_exporter": "python",
   "pygments_lexer": "ipython3",
   "version": "3.7.13"
  },
  "vscode": {
   "interpreter": {
    "hash": "27c5f53aa2a72cb83d695644322e5c228d48779d014791c7ecd15aee1ee6a87e"
   }
  }
 },
 "nbformat": 4,
 "nbformat_minor": 2
}
