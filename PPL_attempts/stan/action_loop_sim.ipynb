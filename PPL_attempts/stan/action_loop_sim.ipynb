{
 "cells": [
  {
   "cell_type": "markdown",
   "metadata": {},
   "source": [
    "Import libraries"
   ]
  },
  {
   "cell_type": "code",
   "execution_count": 2,
   "metadata": {},
   "outputs": [],
   "source": [
    "import pandas\n",
    "import pickle\n",
    "import os\n",
    "import numpy as np\n",
    "import seaborn as sns\n",
    "import matplotlib.pyplot as plt\n",
    "import arviz\n",
    "import pystan\n",
    "import random"
   ]
  },
  {
   "cell_type": "markdown",
   "metadata": {},
   "source": [
    "Get the model"
   ]
  },
  {
   "cell_type": "code",
   "execution_count": 42,
   "metadata": {},
   "outputs": [],
   "source": [
    "# whether to recompile the stan program\n",
    "DO_COMPILE = True\n",
    "\n",
    "# stan program path\n",
    "model_path = 'multi_feature.stan'\n",
    "\n",
    "def build_model(path, pkl_file=None, do_compile=True):\n",
    "    if do_compile:\n",
    "        sm = pystan.StanModel(file=path)\n",
    "        if pkl_file is not None:\n",
    "            with open(pkl_file, 'wb') as f:\n",
    "                pickle.dump(sm, f)\n",
    "\n",
    "    # if the program hasn't been complied, check that the file already exists\n",
    "    else: \n",
    "        if os.path.isfile(pkl_file):\n",
    "            sm = pickle.load(open(pkl_file, 'rb'))\n",
    "        else:\n",
    "            raise FileNotFoundError\n",
    "    return sm\n",
    "\n",
    "sm = build_model(path = model_path, pkl_file='model.pkl', do_compile=DO_COMPILE)"
   ]
  },
  {
   "cell_type": "markdown",
   "metadata": {},
   "source": [
    "Generate data "
   ]
  },
  {
   "cell_type": "code",
   "execution_count": 18,
   "metadata": {},
   "outputs": [],
   "source": [
    "# Simulate the data\n",
    "num_samples = 600\n",
    "sequence_length = 6\n",
    "num_features = 3\n",
    "exemplar_idx = np.repeat(np.arange(1, sequence_length+1), num_samples/sequence_length)\n",
    "\n",
    "random.seed(1)\n",
    "\n",
    "exemplar_means = np.random.randint(10, size = (sequence_length, num_features))\n",
    "\n",
    "sig = np.identity(num_features);\n",
    "\n",
    "sim_data = [np.random.multivariate_normal(exemplar_means[idx-1], sig) for idx in exemplar_idx] \n",
    "sim_data = np.asmatrix(sim_data)\n"
   ]
  },
  {
   "cell_type": "markdown",
   "metadata": {},
   "source": [
    "Model parameters"
   ]
  },
  {
   "cell_type": "code",
   "execution_count": 12,
   "metadata": {},
   "outputs": [],
   "source": [
    "# mu\n",
    "mu_mean = 0.5\n",
    "mu_sd = 1\n",
    "\n",
    "# sd\n",
    "sigma_alpha = 1\n",
    "sigma_beta = 1\n",
    "\n",
    "# noise SD\n",
    "noise = 0.5\n",
    "\n",
    "# environmental EIG\n",
    "EIG_env = 1\n",
    "\n",
    "# initialize data dict:\n",
    "data = {\"F\": num_features, \"mu_mean\":mu_mean , \"mu_sd\": mu_sd, \\\n",
    "\"sigma_alpha\": sigma_alpha, \"sigma_beta\": sigma_beta, \"noise\": noise}\n"
   ]
  },
  {
   "cell_type": "code",
   "execution_count": 65,
   "metadata": {},
   "outputs": [
    {
     "data": {
      "text/plain": [
       "{'F': 3,\n",
       " 'mu_mean': 0.5,\n",
       " 'mu_sd': 1,\n",
       " 'sigma_alpha': 1,\n",
       " 'sigma_beta': 1,\n",
       " 'noise': 0.5,\n",
       " 'M': 1,\n",
       " 'K': 1,\n",
       " 'Z': array([0.68054803, 9.11660374, 6.51538509]),\n",
       " 'exemplar_idx': [1],\n",
       " 'z': array([[0.34814784],\n",
       "        [8.63719603],\n",
       "        [3.48951179]])}"
      ]
     },
     "execution_count": 65,
     "metadata": {},
     "output_type": "execute_result"
    }
   ],
   "source": [
    "sample = True\n",
    "\n",
    "# Initialize data\n",
    "samples_from_current_stim = 1\n",
    "total_samples = 1\n",
    "exemplar_num = 1\n",
    "model_LT = np.zeros((1, sequence_length))\n",
    "\n",
    "sample_data = np.empty((num_samples,num_features))\n",
    "sample_data[:] = np.nan\n",
    "\n",
    "exemplar_labels = np.empty((num_samples,))\n",
    "exemplar_labels[:] = np.nan\n",
    "\n",
    "data[\"M\"] = total_samples\n",
    "\n",
    "# exemplar number \n",
    "data[\"K\"] = exemplar_num\n",
    "\n",
    "# add sim data\n",
    "sample_data[total_samples-1] = sim_data[exemplar_idx == exemplar_num][samples_from_current_stim-1]\n",
    "data[\"z\"] = np.transpose(sample_data[0:total_samples,:])\n",
    "\n",
    "# add exemplar for each id\n",
    "exemplar_labels[total_samples-1] = int(exemplar_num)\n",
    "data[\"exemplar_idx\"] = [int(x) for x in exemplar_labels[~np.isnan(exemplar_labels)]]\n",
    "\n",
    "data"
   ]
  },
  {
   "cell_type": "markdown",
   "metadata": {},
   "source": [
    "Action loop"
   ]
  },
  {
   "cell_type": "code",
   "execution_count": null,
   "metadata": {},
   "outputs": [
    {
     "ename": "RuntimeError",
     "evalue": "Exception: variable does not exist; processing stage=data initialization; variable name=z; base type=matrix_d  (in 'multi_feature.stan' at line 5)\n",
     "output_type": "error",
     "traceback": [
      "\u001b[0;31m---------------------------------------------------------------------------\u001b[0m",
      "\u001b[0;31mRuntimeError\u001b[0m                              Traceback (most recent call last)",
      "\u001b[0;32m/var/folders/ll/vmwcshdn1xd84d7z8myb9w7m0000gp/T/ipykernel_32915/3806280118.py\u001b[0m in \u001b[0;36m<module>\u001b[0;34m\u001b[0m\n\u001b[1;32m     36\u001b[0m         \u001b[0;31m# compute_KL(post, pre)\u001b[0m\u001b[0;34m\u001b[0m\u001b[0;34m\u001b[0m\u001b[0;34m\u001b[0m\u001b[0m\n\u001b[1;32m     37\u001b[0m \u001b[0;34m\u001b[0m\u001b[0m\n\u001b[0;32m---> 38\u001b[0;31m     \u001b[0mfit\u001b[0m \u001b[0;34m=\u001b[0m \u001b[0msm\u001b[0m\u001b[0;34m.\u001b[0m\u001b[0msampling\u001b[0m\u001b[0;34m(\u001b[0m\u001b[0mdata\u001b[0m\u001b[0;34m=\u001b[0m\u001b[0mdata\u001b[0m\u001b[0;34m,\u001b[0m \u001b[0miter\u001b[0m\u001b[0;34m=\u001b[0m\u001b[0;36m10000\u001b[0m\u001b[0;34m,\u001b[0m \u001b[0mchains\u001b[0m\u001b[0;34m=\u001b[0m\u001b[0;36m1\u001b[0m\u001b[0;34m)\u001b[0m\u001b[0;34m\u001b[0m\u001b[0;34m\u001b[0m\u001b[0m\n\u001b[0m\u001b[1;32m     39\u001b[0m \u001b[0;34m\u001b[0m\u001b[0m\n\u001b[1;32m     40\u001b[0m     \u001b[0;31m# get EIG\u001b[0m\u001b[0;34m\u001b[0m\u001b[0;34m\u001b[0m\u001b[0;34m\u001b[0m\u001b[0m\n",
      "\u001b[0;32m~/opt/miniconda3/envs/stan_env/lib/python3.7/site-packages/pystan/model.py\u001b[0m in \u001b[0;36msampling\u001b[0;34m(self, data, pars, chains, iter, warmup, thin, seed, init, sample_file, diagnostic_file, verbose, algorithm, control, n_jobs, **kwargs)\u001b[0m\n\u001b[1;32m    756\u001b[0m                 \u001b[0;32mraise\u001b[0m \u001b[0mValueError\u001b[0m\u001b[0;34m(\u001b[0m\u001b[0;34m\"Warmup samples must be greater than 0 when adaptation is enabled (`adapt_engaged=True`)\"\u001b[0m\u001b[0;34m)\u001b[0m\u001b[0;34m\u001b[0m\u001b[0;34m\u001b[0m\u001b[0m\n\u001b[1;32m    757\u001b[0m         \u001b[0mseed\u001b[0m \u001b[0;34m=\u001b[0m \u001b[0mpystan\u001b[0m\u001b[0;34m.\u001b[0m\u001b[0mmisc\u001b[0m\u001b[0;34m.\u001b[0m\u001b[0m_check_seed\u001b[0m\u001b[0;34m(\u001b[0m\u001b[0mseed\u001b[0m\u001b[0;34m)\u001b[0m\u001b[0;34m\u001b[0m\u001b[0;34m\u001b[0m\u001b[0m\n\u001b[0;32m--> 758\u001b[0;31m         \u001b[0mfit\u001b[0m \u001b[0;34m=\u001b[0m \u001b[0mself\u001b[0m\u001b[0;34m.\u001b[0m\u001b[0mfit_class\u001b[0m\u001b[0;34m(\u001b[0m\u001b[0mdata\u001b[0m\u001b[0;34m,\u001b[0m \u001b[0mseed\u001b[0m\u001b[0;34m)\u001b[0m\u001b[0;34m\u001b[0m\u001b[0;34m\u001b[0m\u001b[0m\n\u001b[0m\u001b[1;32m    759\u001b[0m \u001b[0;34m\u001b[0m\u001b[0m\n\u001b[1;32m    760\u001b[0m         \u001b[0mm_pars\u001b[0m \u001b[0;34m=\u001b[0m \u001b[0mfit\u001b[0m\u001b[0;34m.\u001b[0m\u001b[0m_get_param_names\u001b[0m\u001b[0;34m(\u001b[0m\u001b[0;34m)\u001b[0m\u001b[0;34m\u001b[0m\u001b[0;34m\u001b[0m\u001b[0m\n",
      "\u001b[0;32mstanfit4anon_model_309116a944507e050776ef62ac88a28e_507913401332540592.pyx\u001b[0m in \u001b[0;36mstanfit4anon_model_309116a944507e050776ef62ac88a28e_507913401332540592.StanFit4Model.__cinit__\u001b[0;34m()\u001b[0m\n",
      "\u001b[0;31mRuntimeError\u001b[0m: Exception: variable does not exist; processing stage=data initialization; variable name=z; base type=matrix_d  (in 'multi_feature.stan' at line 5)\n"
     ]
    }
   ],
   "source": [
    "sample = True\n",
    "\n",
    "# Initialize data\n",
    "samples_from_current_stim = 1\n",
    "total_samples = 1\n",
    "exemplar_num = 1\n",
    "model_LT = np.zeros((1, sequence_length))\n",
    "\n",
    "sample_data = np.empty((num_samples,num_features))\n",
    "sample_data[:] = np.nan\n",
    "\n",
    "exemplar_labels = np.empty((1,num_samples))\n",
    "exemplar_labels[:] = np.nan\n",
    "\n",
    "\n",
    "while sample:\n",
    "    \n",
    "    # sample number\n",
    "    data[\"M\"] = total_samples\n",
    "\n",
    "    # exemplar number \n",
    "    data[\"K\"] = exemplar_num\n",
    "\n",
    "    # add sim data\n",
    "    sample_data[total_samples-1] = sim_data[exemplar_idx == exemplar_num,:][samples_from_current_stim-1]\n",
    "    data[\"Z\"] = sample_data[~np.isnan(sample_data)]\n",
    "\n",
    "    # add exemplar for each id\n",
    "    exemplar_labels[total_samples-1] = exemplar_num\n",
    "    data[\"exemplar_idx\"] = exemplar_labels[~np.isnan(exemplar_labels)]\n",
    "\n",
    "    # get posterior samples\n",
    "\n",
    "    # generate hypothetical next obs\n",
    "\n",
    "\n",
    "    # get posterior predictive for each next obs\n",
    "    post_preds = 1\n",
    "\n",
    "    # compute KL for each hypothetical next obs\n",
    "        # compute_KL(post, pre)\n",
    "\n",
    "    fit = sm.sampling(data=data, iter=10000, chains=1)\n",
    "\n",
    "    # get EIG\n",
    "    EIG_stim = KLs * post_preds\n",
    "\n",
    "    # decision rule\n",
    "    if EIG_stim < EIG_env:\n",
    "        sample = False\n",
    "        model_LT[exemplar_num-1] = samples_from_current_stim\n",
    "\n",
    "        # reset/increment counters\n",
    "        samples_from_current_stim = 1\n",
    "        exemplar_num =+ 1\n",
    "    else:\n",
    "        samples_from_current_stim =+ 1 \n",
    "    \n",
    "    total_samples =+1\n",
    "\n"
   ]
  }
 ],
 "metadata": {
  "interpreter": {
   "hash": "27c5f53aa2a72cb83d695644322e5c228d48779d014791c7ecd15aee1ee6a87e"
  },
  "kernelspec": {
   "display_name": "Python 3.7.13 ('stan_env')",
   "language": "python",
   "name": "python3"
  },
  "language_info": {
   "codemirror_mode": {
    "name": "ipython",
    "version": 3
   },
   "file_extension": ".py",
   "mimetype": "text/x-python",
   "name": "python",
   "nbconvert_exporter": "python",
   "pygments_lexer": "ipython3",
   "version": "3.7.13"
  },
  "orig_nbformat": 4
 },
 "nbformat": 4,
 "nbformat_minor": 2
}
