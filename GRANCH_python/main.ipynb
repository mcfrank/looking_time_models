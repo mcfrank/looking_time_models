{
 "cells": [
  {
   "cell_type": "code",
   "execution_count": 33,
   "metadata": {},
   "outputs": [
    {
     "data": {
      "text/plain": [
       "<module 'init_params' from '/Users/caoanjie/Desktop/projects/model/model/GRANCH_python/init_params.py'>"
      ]
     },
     "execution_count": 33,
     "metadata": {},
     "output_type": "execute_result"
    }
   ],
   "source": [
    "\n",
    "from scipy.stats import norm \n",
    "import scipy.stats as sts \n",
    "import numpy as np\n",
    "import torch \n",
    "import importlib \n",
    "from torch.distributions import Normal  \n",
    "\n",
    "import compute_prob\n",
    "import init_params\n",
    "import helper \n",
    "\n",
    "importlib.reload(helper)\n",
    "importlib.reload(compute_prob)\n",
    "importlib.reload(init_params)"
   ]
  },
  {
   "cell_type": "code",
   "execution_count": 36,
   "metadata": {},
   "outputs": [
    {
     "name": "stdout",
     "output_type": "stream",
     "text": [
      "tensor([-138.4110, -138.4110, -138.4110,  ...,   -1.9340,   -1.9340,\n",
      "          -1.9340], dtype=torch.float64)\n",
      "torch.Size([14641])\n",
      "tensor([ 3.6862,  3.6862,  3.6862,  ..., -0.9289, -0.9289, -0.9289])\n",
      "torch.Size([14641])\n",
      "tensor([ 3.6862e+00, -4.6314e+01, -1.9631e+02,  ..., -3.1963e+03,\n",
      "        -4.0463e+03, -4.9963e+03])\n",
      "torch.Size([14641])\n"
     ]
    }
   ],
   "source": [
    "a = init_params.granch_params(\n",
    "    grid_mu_theta = torch.arange(0.01, 1.1, 0.1), \n",
    "    grid_sig_sq = torch.arange(0.01, 1.1, 0.1), \n",
    "    grid_y = torch.arange(0.01, 1.1, 0.1), \n",
    "    grid_epsilon = torch.arange(0.01, 1.1, 0.1), \n",
    "    hypothetical_obs_grid_n = 2, \n",
    "    mu_prior = 1,\n",
    "    V_prior = 1, \n",
    "    alpha_prior = 1, \n",
    "    beta_prior = 1, \n",
    "    epsilons  = 0.01, \n",
    "    mu_epsilon = torch.tensor([0.01]), \n",
    "    sd_epsilon = torch.tensor([0.01]), \n",
    "    world_EIGs = 0.01,\n",
    "    max_observation = 500\n",
    ")\n",
    "\n",
    "\n",
    "# set up the prior dfs \n",
    "a.add_meshed_grid()\n",
    "a.add_lp_mu_sig_sq()\n",
    "a.add_y_given_mu_sig_sq()\n",
    "a.add_lp_epsilon()\n",
    "\n",
    "\n",
    "print(a.lp_mu_sig_sq)\n",
    "print(a.lp_mu_sig_sq.size())\n",
    "print(a.y_given_mu_sig_sq)\n",
    "print(a.y_given_mu_sig_sq.size())\n",
    "print(a.lp_epsilon)\n",
    "print(a.lp_epsilon.size())\n",
    "\n"
   ]
  },
  {
   "cell_type": "code",
   "execution_count": null,
   "metadata": {},
   "outputs": [],
   "source": []
  },
  {
   "cell_type": "code",
   "execution_count": null,
   "metadata": {},
   "outputs": [],
   "source": []
  },
  {
   "cell_type": "markdown",
   "metadata": {},
   "source": []
  }
 ],
 "metadata": {
  "kernelspec": {
   "display_name": "Python 3.10.5 64-bit",
   "language": "python",
   "name": "python3"
  },
  "language_info": {
   "codemirror_mode": {
    "name": "ipython",
    "version": 3
   },
   "file_extension": ".py",
   "mimetype": "text/x-python",
   "name": "python",
   "nbconvert_exporter": "python",
   "pygments_lexer": "ipython3",
   "version": "3.10.5"
  },
  "orig_nbformat": 4,
  "vscode": {
   "interpreter": {
    "hash": "7e1998ff7f8aa20ada591c520b972326324e5ea05489af9e422744c7c09f6dad"
   }
  }
 },
 "nbformat": 4,
 "nbformat_minor": 2
}
