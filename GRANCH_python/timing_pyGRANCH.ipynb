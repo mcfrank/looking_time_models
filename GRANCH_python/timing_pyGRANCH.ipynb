{
 "cells": [
  {
   "cell_type": "code",
   "execution_count": 206,
   "metadata": {},
   "outputs": [
    {
     "data": {
      "text/plain": [
       "<module 'params_search' from '/Users/caoanjie/Desktop/projects/model/model/GRANCH_python/params_search.py'>"
      ]
     },
     "execution_count": 206,
     "metadata": {},
     "output_type": "execute_result"
    }
   ],
   "source": [
    "import numpy as np\n",
    "import torch \n",
    "import pandas as pd\n",
    "import itertools\n",
    "import init_params\n",
    "import compute_prob\n",
    "import init_model\n",
    "import time\n",
    "import helper\n",
    "import main_sim\n",
    "import importlib \n",
    "import params_search as ps\n",
    "import seaborn as sns\n",
    "\n",
    "import cProfile as profile\n",
    "import pstats\n",
    "\n",
    "\n",
    "\n",
    "\n",
    "importlib.reload(helper)\n",
    "importlib.reload(compute_prob)\n",
    "importlib.reload(init_params)\n",
    "importlib.reload(init_model)\n",
    "importlib.reload(main_sim)\n",
    "importlib.reload(ps)\n"
   ]
  },
  {
   "cell_type": "code",
   "execution_count": 183,
   "metadata": {},
   "outputs": [
    {
     "name": "stdout",
     "output_type": "stream",
     "text": [
      "b\n"
     ]
    },
    {
     "data": {
      "text/plain": [
       "{0: tensor([-2.5911], dtype=torch.float64),\n",
       " 1: tensor([-2.5911], dtype=torch.float64),\n",
       " 2: tensor([-2.5911], dtype=torch.float64),\n",
       " 3: tensor([-2.5911], dtype=torch.float64),\n",
       " 4: tensor([-2.5911], dtype=torch.float64),\n",
       " 5: tensor([3.4376], dtype=torch.float64)}"
      ]
     },
     "execution_count": 183,
     "metadata": {},
     "output_type": "execute_result"
    }
   ],
   "source": [
    "stimuli = init_model.granch_stimuli(1, \"BBBBBD\")\n",
    "stimuli.get_stimuli_sequence(\"embedding_PCA.csv\")\n",
    "stimuli.stimuli_sequence"
   ]
  },
  {
   "cell_type": "code",
   "execution_count": 184,
   "metadata": {},
   "outputs": [],
   "source": [
    "\n",
    "grid_params = ps.set_granch_grid_parameter(grid_mu_theta_starts = [-5],grid_mu_theta_ends = [5],grid_mu_theta_steps=[10],\n",
    "                                grid_sig_sq_starts=[0.001],grid_sig_sq_ends=[1.8],grid_sig_sq_steps=[10],\n",
    "                                grid_y_starts=[-5],grid_y_ends=[5],grid_y_steps=[10],\n",
    "                                grid_epsilon_starts=[0.001],grid_epsilon_ends=[1.8],grid_epsilon_steps=[10])\n",
    "\n",
    "priors = ps.set_granch_priors(mu_priors = [0.001], V_priors = [0.001], alpha_priors = [1], beta_priors = [1], epsilons = [0.000001], \n",
    "mu_epsilons = [0.001], sd_epsilons = [4], eigs = [0.0001])\n",
    "params_search_space = ps.set_parameter_search(grid_params, priors)\n",
    "\n",
    "\n",
    "\n",
    "#print(all_ps_res)"
   ]
  },
  {
   "cell_type": "code",
   "execution_count": 207,
   "metadata": {},
   "outputs": [
    {
     "name": "stdout",
     "output_type": "stream",
     "text": [
      "2\n",
      "tensor([[-5.0000e+00,  1.0000e-03,  1.0000e-03],\n",
      "        [-5.0000e+00,  1.0000e-03,  1.8000e+00],\n",
      "        [-5.0000e+00,  1.0000e-03,  1.0000e-03],\n",
      "        [-5.0000e+00,  1.0000e-03,  1.8000e+00],\n",
      "        [-5.0000e+00,  1.8000e+00,  1.0000e-03],\n",
      "        [-5.0000e+00,  1.8000e+00,  1.8000e+00],\n",
      "        [-5.0000e+00,  1.8000e+00,  1.0000e-03],\n",
      "        [-5.0000e+00,  1.8000e+00,  1.8000e+00],\n",
      "        [ 5.0000e+00,  1.0000e-03,  1.0000e-03],\n",
      "        [ 5.0000e+00,  1.0000e-03,  1.8000e+00],\n",
      "        [ 5.0000e+00,  1.0000e-03,  1.0000e-03],\n",
      "        [ 5.0000e+00,  1.0000e-03,  1.8000e+00],\n",
      "        [ 5.0000e+00,  1.8000e+00,  1.0000e-03],\n",
      "        [ 5.0000e+00,  1.8000e+00,  1.8000e+00],\n",
      "        [ 5.0000e+00,  1.8000e+00,  1.0000e-03],\n",
      "        [ 5.0000e+00,  1.8000e+00,  1.8000e+00]])\n",
      "tensor([-5.8029e+06,  1.1843e+00, -1.0762e+08, -5.0000e+07, -5.8029e+06,\n",
      "        -6.3112e+00, -5.7624e+07, -3.7738e+01, -5.5803e+07, -5.0000e+07,\n",
      "        -5.7624e+07, -1.4810e+01, -5.8029e+06, -2.1743e+01, -5.7624e+07,\n",
      "        -2.2306e+01], dtype=torch.float64)\n",
      "tensor([-5.8029e+06,  1.1843e+00, -5.8029e+06, -6.3112e+00, -5.5803e+07,\n",
      "        -1.4810e+01, -5.8029e+06, -2.1292e+01])\n",
      "tensor([    -inf,   1.1843,     -inf,  -6.3112,     -inf, -14.8100,     -inf,\n",
      "        -21.2923])\n",
      "tensor([[-5.0000e+00,  1.0000e-03,  1.0000e-03],\n",
      "        [-5.0000e+00,  1.0000e-03,  1.8000e+00],\n",
      "        [-5.0000e+00,  1.0000e-03,  1.0000e-03],\n",
      "        [-5.0000e+00,  1.0000e-03,  1.8000e+00],\n",
      "        [-5.0000e+00,  1.8000e+00,  1.0000e-03],\n",
      "        [-5.0000e+00,  1.8000e+00,  1.8000e+00],\n",
      "        [-5.0000e+00,  1.8000e+00,  1.0000e-03],\n",
      "        [-5.0000e+00,  1.8000e+00,  1.8000e+00],\n",
      "        [ 5.0000e+00,  1.0000e-03,  1.0000e-03],\n",
      "        [ 5.0000e+00,  1.0000e-03,  1.8000e+00],\n",
      "        [ 5.0000e+00,  1.0000e-03,  1.0000e-03],\n",
      "        [ 5.0000e+00,  1.0000e-03,  1.8000e+00],\n",
      "        [ 5.0000e+00,  1.8000e+00,  1.0000e-03],\n",
      "        [ 5.0000e+00,  1.8000e+00,  1.8000e+00],\n",
      "        [ 5.0000e+00,  1.8000e+00,  1.0000e-03],\n",
      "        [ 5.0000e+00,  1.8000e+00,  1.8000e+00]])\n",
      "tensor([-5.8029e+06,  1.1843e+00, -1.0762e+08, -5.0000e+07, -5.8029e+06,\n",
      "        -6.3112e+00, -5.7624e+07, -3.7738e+01, -5.5803e+07, -5.0000e+07,\n",
      "        -5.7624e+07, -1.4810e+01, -5.8029e+06, -2.1743e+01, -5.7624e+07,\n",
      "        -2.2306e+01], dtype=torch.float64)\n",
      "tensor([-5.8029e+06,  1.1843e+00, -5.8029e+06, -6.3112e+00, -5.5803e+07,\n",
      "        -1.4810e+01, -5.8029e+06, -2.1292e+01])\n",
      "tensor([    -inf,   1.1843,     -inf,  -6.3112,     -inf, -14.8100,     -inf,\n",
      "        -21.2923])\n",
      "tensor([[-5.0000e+00,  1.0000e-03,  1.0000e-03],\n",
      "        [-5.0000e+00,  1.0000e-03,  1.8000e+00],\n",
      "        [-5.0000e+00,  1.0000e-03,  1.0000e-03],\n",
      "        [-5.0000e+00,  1.0000e-03,  1.8000e+00],\n",
      "        [-5.0000e+00,  1.8000e+00,  1.0000e-03],\n",
      "        [-5.0000e+00,  1.8000e+00,  1.8000e+00],\n",
      "        [-5.0000e+00,  1.8000e+00,  1.0000e-03],\n",
      "        [-5.0000e+00,  1.8000e+00,  1.8000e+00],\n",
      "        [ 5.0000e+00,  1.0000e-03,  1.0000e-03],\n",
      "        [ 5.0000e+00,  1.0000e-03,  1.8000e+00],\n",
      "        [ 5.0000e+00,  1.0000e-03,  1.0000e-03],\n",
      "        [ 5.0000e+00,  1.0000e-03,  1.8000e+00],\n",
      "        [ 5.0000e+00,  1.8000e+00,  1.0000e-03],\n",
      "        [ 5.0000e+00,  1.8000e+00,  1.8000e+00],\n",
      "        [ 5.0000e+00,  1.8000e+00,  1.0000e-03],\n",
      "        [ 5.0000e+00,  1.8000e+00,  1.8000e+00]])\n",
      "tensor([-5.8029e+06,  1.1843e+00, -1.0762e+08, -5.0000e+07, -5.8029e+06,\n",
      "        -6.3112e+00, -5.7624e+07, -3.7738e+01, -5.5803e+07, -5.0000e+07,\n",
      "        -5.7624e+07, -1.4810e+01, -5.8029e+06, -2.1743e+01, -5.7624e+07,\n",
      "        -2.2306e+01], dtype=torch.float64)\n",
      "tensor([-5.8029e+06,  1.1843e+00, -5.8029e+06, -6.3112e+00, -5.5803e+07,\n",
      "        -1.4810e+01, -5.8029e+06, -2.1292e+01])\n",
      "tensor([    -inf,   1.1843,     -inf,  -6.3112,     -inf, -14.8100,     -inf,\n",
      "        -21.2923])\n",
      "tensor([[-5.0000e+00,  1.0000e-03,  1.0000e-03],\n",
      "        [-5.0000e+00,  1.0000e-03,  1.8000e+00],\n",
      "        [-5.0000e+00,  1.0000e-03,  1.0000e-03],\n",
      "        [-5.0000e+00,  1.0000e-03,  1.8000e+00],\n",
      "        [-5.0000e+00,  1.8000e+00,  1.0000e-03],\n",
      "        [-5.0000e+00,  1.8000e+00,  1.8000e+00],\n",
      "        [-5.0000e+00,  1.8000e+00,  1.0000e-03],\n",
      "        [-5.0000e+00,  1.8000e+00,  1.8000e+00],\n",
      "        [ 5.0000e+00,  1.0000e-03,  1.0000e-03],\n",
      "        [ 5.0000e+00,  1.0000e-03,  1.8000e+00],\n",
      "        [ 5.0000e+00,  1.0000e-03,  1.0000e-03],\n",
      "        [ 5.0000e+00,  1.0000e-03,  1.8000e+00],\n",
      "        [ 5.0000e+00,  1.8000e+00,  1.0000e-03],\n",
      "        [ 5.0000e+00,  1.8000e+00,  1.8000e+00],\n",
      "        [ 5.0000e+00,  1.8000e+00,  1.0000e-03],\n",
      "        [ 5.0000e+00,  1.8000e+00,  1.8000e+00]])\n",
      "tensor([-5.8029e+06,  1.1843e+00, -1.0762e+08, -5.0000e+07, -5.8029e+06,\n",
      "        -6.3112e+00, -5.7624e+07, -3.7738e+01, -5.5803e+07, -5.0000e+07,\n",
      "        -5.7624e+07, -1.4810e+01, -5.8029e+06, -2.1743e+01, -5.7624e+07,\n",
      "        -2.2306e+01], dtype=torch.float64)\n",
      "tensor([-5.8029e+06,  1.1843e+00, -5.8029e+06, -6.3112e+00, -5.5803e+07,\n",
      "        -1.4810e+01, -5.8029e+06, -2.1292e+01])\n",
      "tensor([    -inf,   1.1843,     -inf,  -6.3112,     -inf, -14.8100,     -inf,\n",
      "        -21.2923])\n",
      "tensor([[-5.0000e+00,  1.0000e-03,  1.0000e-03],\n",
      "        [-5.0000e+00,  1.0000e-03,  1.8000e+00],\n",
      "        [-5.0000e+00,  1.0000e-03,  1.0000e-03],\n",
      "        [-5.0000e+00,  1.0000e-03,  1.8000e+00],\n",
      "        [-5.0000e+00,  1.8000e+00,  1.0000e-03],\n",
      "        [-5.0000e+00,  1.8000e+00,  1.8000e+00],\n",
      "        [-5.0000e+00,  1.8000e+00,  1.0000e-03],\n",
      "        [-5.0000e+00,  1.8000e+00,  1.8000e+00],\n",
      "        [ 5.0000e+00,  1.0000e-03,  1.0000e-03],\n",
      "        [ 5.0000e+00,  1.0000e-03,  1.8000e+00],\n",
      "        [ 5.0000e+00,  1.0000e-03,  1.0000e-03],\n",
      "        [ 5.0000e+00,  1.0000e-03,  1.8000e+00],\n",
      "        [ 5.0000e+00,  1.8000e+00,  1.0000e-03],\n",
      "        [ 5.0000e+00,  1.8000e+00,  1.8000e+00],\n",
      "        [ 5.0000e+00,  1.8000e+00,  1.0000e-03],\n",
      "        [ 5.0000e+00,  1.8000e+00,  1.8000e+00]])\n",
      "tensor([-5.8029e+06,  1.1843e+00, -1.0762e+08, -5.0000e+07, -5.8029e+06,\n",
      "        -6.3112e+00, -5.7624e+07, -3.7738e+01, -5.5803e+07, -5.0000e+07,\n",
      "        -5.7624e+07, -1.4810e+01, -5.8029e+06, -2.1743e+01, -5.7624e+07,\n",
      "        -2.2306e+01], dtype=torch.float64)\n",
      "tensor([-5.8029e+06,  1.1843e+00, -5.8029e+06, -6.3112e+00, -5.5803e+07,\n",
      "        -1.4810e+01, -5.8029e+06, -2.1292e+01])\n",
      "tensor([    -inf,   1.1843,     -inf,  -6.3112,     -inf, -14.8100,     -inf,\n",
      "        -21.2923])\n",
      "tensor([[-5.0000e+00,  1.0000e-03,  1.0000e-03],\n",
      "        [-5.0000e+00,  1.0000e-03,  1.8000e+00],\n",
      "        [-5.0000e+00,  1.0000e-03,  1.0000e-03],\n",
      "        [-5.0000e+00,  1.0000e-03,  1.8000e+00],\n",
      "        [-5.0000e+00,  1.8000e+00,  1.0000e-03],\n",
      "        [-5.0000e+00,  1.8000e+00,  1.8000e+00],\n",
      "        [-5.0000e+00,  1.8000e+00,  1.0000e-03],\n",
      "        [-5.0000e+00,  1.8000e+00,  1.8000e+00],\n",
      "        [ 5.0000e+00,  1.0000e-03,  1.0000e-03],\n",
      "        [ 5.0000e+00,  1.0000e-03,  1.8000e+00],\n",
      "        [ 5.0000e+00,  1.0000e-03,  1.0000e-03],\n",
      "        [ 5.0000e+00,  1.0000e-03,  1.8000e+00],\n",
      "        [ 5.0000e+00,  1.8000e+00,  1.0000e-03],\n",
      "        [ 5.0000e+00,  1.8000e+00,  1.8000e+00],\n",
      "        [ 5.0000e+00,  1.8000e+00,  1.0000e-03],\n",
      "        [ 5.0000e+00,  1.8000e+00,  1.8000e+00]])\n",
      "tensor([-5.8029e+06,  1.1843e+00, -1.0762e+08, -5.0000e+07, -5.8029e+06,\n",
      "        -6.3112e+00, -5.7624e+07, -3.7738e+01, -5.5803e+07, -5.0000e+07,\n",
      "        -5.7624e+07, -1.4810e+01, -5.8029e+06, -2.1743e+01, -5.7624e+07,\n",
      "        -2.2306e+01], dtype=torch.float64)\n",
      "tensor([-5.8029e+06,  1.1843e+00, -5.8029e+06, -6.3112e+00, -5.5803e+07,\n",
      "        -1.4810e+01, -5.8029e+06, -2.1292e+01])\n",
      "tensor([    -inf,   1.1843,     -inf,  -6.3112,     -inf, -14.8100,     -inf,\n",
      "        -21.2923])\n"
     ]
    },
    {
     "name": "stderr",
     "output_type": "stream",
     "text": [
      "/Users/caoanjie/Desktop/projects/model/model/GRANCH_python/compute_prob.py:162: RuntimeWarning: divide by zero encountered in log\n"
     ]
    }
   ],
   "source": [
    "def timing_ps(run = 3): \n",
    "    all_times = {}\n",
    "    for i in range(2, run): \n",
    "       print(i)\n",
    "       start_time = time.perf_counter()\n",
    "       grid_params = ps.set_granch_grid_parameter(grid_mu_theta_starts = [-5],grid_mu_theta_ends = [5],grid_mu_theta_steps=[i],\n",
    "                                grid_sig_sq_starts=[0.001],grid_sig_sq_ends=[1.8],grid_sig_sq_steps=[i],\n",
    "                                grid_y_starts=[-5],grid_y_ends=[5],grid_y_steps=[i],\n",
    "                                grid_epsilon_starts=[0.001],grid_epsilon_ends=[1.8],grid_epsilon_steps=[i])\n",
    "       priors = ps.set_granch_priors(mu_priors = [0.001], V_priors = [0.001], alpha_priors = [1], beta_priors = [1], epsilons = [0.000001], mu_epsilons = [0.001], sd_epsilons = [4], eigs = [0.0001])\n",
    "       params_search_space = ps.set_parameter_search(grid_params, priors)\n",
    "       all_ps_res = ps.run_parameter_search(params_search_space, stimuli)\n",
    "       end_time = time.perf_counter()\n",
    "       all_times[i] = (end_time - start_time)\n",
    "    return all_times\n",
    "\n",
    "\n",
    "improved_timing = timing_ps(3)\n"
   ]
  },
  {
   "cell_type": "code",
   "execution_count": 89,
   "metadata": {},
   "outputs": [
    {
     "name": "stdout",
     "output_type": "stream",
     "text": [
      "{2: 0.03837212300277315, 3: 0.006573303995537572, 4: 0.009412598999915645, 5: 0.007304232000024058, 6: 0.007445088995154947, 7: 0.012469053006498143, 8: 0.013875720993382856}\n"
     ]
    }
   ],
   "source": []
  },
  {
   "cell_type": "code",
   "execution_count": 90,
   "metadata": {},
   "outputs": [
    {
     "name": "stderr",
     "output_type": "stream",
     "text": [
      "/Users/caoanjie/Desktop/projects/model/model/GRANCH_python/compute_prob.py:152: RuntimeWarning: divide by zero encountered in log\n",
      "  \n",
      "/Users/caoanjie/Desktop/projects/model/model/GRANCH_python/compute_prob.py:152: RuntimeWarning: divide by zero encountered in log\n",
      "  \n",
      "/Users/caoanjie/Desktop/projects/model/model/GRANCH_python/compute_prob.py:152: RuntimeWarning: divide by zero encountered in log\n",
      "  \n",
      "/Users/caoanjie/Desktop/projects/model/model/GRANCH_python/compute_prob.py:152: RuntimeWarning: divide by zero encountered in log\n",
      "  \n",
      "/Users/caoanjie/Desktop/projects/model/model/GRANCH_python/compute_prob.py:152: RuntimeWarning: divide by zero encountered in log\n",
      "  \n"
     ]
    },
    {
     "name": "stdout",
     "output_type": "stream",
     "text": [
      "??\n",
      "??\n",
      "??\n",
      "??\n",
      "??\n",
      "??\n"
     ]
    },
    {
     "name": "stderr",
     "output_type": "stream",
     "text": [
      "/Users/caoanjie/Desktop/projects/model/model/GRANCH_python/compute_prob.py:152: RuntimeWarning: divide by zero encountered in log\n",
      "  \n"
     ]
    }
   ],
   "source": [
    "improved_timing = timing_ps(8)\n"
   ]
  },
  {
   "cell_type": "code",
   "execution_count": null,
   "metadata": {},
   "outputs": [],
   "source": []
  },
  {
   "cell_type": "code",
   "execution_count": 152,
   "metadata": {},
   "outputs": [
    {
     "name": "stdout",
     "output_type": "stream",
     "text": [
      "{2: [[0.06572134401358198]], 3: [[0.1047258909966331]], 4: [[4.112841604990535]], 5: [[17.15497194600175]], 6: [[35.44621212199854]], 7: [[38.20980644100928]], 8: [[100.7750528750039]], 9: [[216.15652060198772]], 10: [[313.9627694750088]], 11: [[450.1318304059969]]}\n",
      "{2: [0.06141555099748075], 3: [0.07876502300496213], 4: [8.392592474003322], 5: [9.98885952901037], 6: [17.58159386899206], 7: [32.07952056299837], 8: [59.86218607999035], 9: [108.06429452900193], 10: [166.485814544998], 11: [253.18549823699868]}\n"
     ]
    }
   ],
   "source": [
    "print(original_timing)\n",
    "print(improved_timing)\n",
    "\n",
    "for key in original_timing: \n",
    "    original_timing[key] = original_timing[key][0]\n",
    "    #improved_timing[key] = [improved_timing[key]]\n"
   ]
  },
  {
   "cell_type": "code",
   "execution_count": 165,
   "metadata": {},
   "outputs": [
    {
     "name": "stderr",
     "output_type": "stream",
     "text": [
      "/var/folders/1y/l17j6svd6jq5_j5s7s92yh8m0000gn/T/ipykernel_8943/847355892.py:9: FutureWarning: The frame.append method is deprecated and will be removed from pandas in a future version. Use pandas.concat instead.\n",
      "  cb_df = o_df.append(n_df)\n"
     ]
    },
    {
     "data": {
      "text/plain": [
       "<AxesSubplot:xlabel='grid_step', ylabel='t'>"
      ]
     },
     "execution_count": 165,
     "metadata": {},
     "output_type": "execute_result"
    },
    {
     "data": {
      "image/png": "[encoded data removed]",
      "text/plain": [
       "<Figure size 432x288 with 1 Axes>"
      ]
     },
     "metadata": {
      "needs_background": "light"
     },
     "output_type": "display_data"
    }
   ],
   "source": [
    "o_df = pd.DataFrame.from_dict(original_timing, orient = \"index\")\n",
    "o_df[\"t\"] = o_df[0]\n",
    "o_df[\"type\"] = \"original_function\"\n",
    "\n",
    "n_df = pd.DataFrame.from_dict(improved_timing, orient = \"index\")\n",
    "n_df[\"t\"] = n_df[0]\n",
    "n_df[\"type\"] = \"improved_function\"\n",
    "\n",
    "cb_df = o_df.append(n_df)\n",
    "cb_df.index.name = 'grid_step'\n",
    "cb_df.reset_index(inplace=True)\n",
    "cb_df\n",
    "#pd.DataFrame(improved_timing)\n",
    "\n",
    "sns.lineplot(x='grid_step', y='t', hue='type', \n",
    "             data=cb_df)"
   ]
  },
  {
   "cell_type": "code",
   "execution_count": 92,
   "metadata": {},
   "outputs": [
    {
     "name": "stdout",
     "output_type": "stream",
     "text": [
      "??\n",
      "         2384 function calls (2361 primitive calls) in 0.035 seconds\n",
      "\n",
      "   Ordered by: cumulative time\n",
      "\n",
      "   ncalls  tottime  percall  cumtime  percall filename:lineno(function)\n",
      "        2    0.000    0.000    0.035    0.018 interactiveshell.py:3362(run_code)\n",
      "        2    0.000    0.000    0.035    0.018 {built-in method builtins.exec}\n",
      "        1    0.000    0.000    0.035    0.035 1070387720.py:1(<cell line: 4>)\n",
      "        1    0.000    0.000    0.035    0.035 params_search.py:13(run_parameter_search)\n",
      "        1    0.000    0.000    0.034    0.034 params_search.py:16(run_model_with_parameter)\n",
      "        1    0.000    0.000    0.026    0.026 init_params.py:114(add_priors)\n",
      "      2/1    0.000    0.000    0.026    0.026 _jit_internal.py:413(fn)\n",
      "        1    0.000    0.000    0.026    0.026 functional.py:845(_return_output)\n",
      "        1    0.000    0.000    0.026    0.026 functional.py:688(_unique_impl)\n",
      "        1    0.026    0.026    0.026    0.026 {built-in method unique_dim}\n",
      "        1    0.000    0.000    0.003    0.003 init_params.py:86(add_lp_mu_sig_sq)\n",
      "        1    0.000    0.000    0.003    0.003 compute_prob.py:142(score_mu_sig_sq)\n",
      "        2    0.001    0.000    0.002    0.001 _distn_infrastructure.py:2060(pdf)\n",
      "        1    0.000    0.000    0.002    0.002 init_model.py:57(__init__)\n",
      "        2    0.000    0.000    0.002    0.001 frame.py:587(__init__)\n",
      "        1    0.000    0.000    0.002    0.002 construction.py:425(dict_to_mgr)\n",
      "        1    0.000    0.000    0.002    0.002 init_params.py:51(add_meshed_grid)\n",
      "        1    0.000    0.000    0.001    0.001 init_params.py:100(add_y_given_mu_sig_sq)\n",
      "        1    0.000    0.000    0.001    0.001 compute_prob.py:119(score_y_given_mu_sigma_sq)\n",
      "        2    0.000    0.000    0.001    0.000 normal.py:48(__init__)\n",
      "      3/2    0.000    0.000    0.001    0.000 series.py:323(__init__)\n",
      "       11    0.000    0.000    0.001    0.000 base.py:6987(ensure_index)\n",
      "        5    0.000    0.000    0.001    0.000 base.py:672(_with_infer)\n",
      "        2    0.000    0.000    0.001    0.000 distribution.py:34(__init__)\n",
      "       19    0.000    0.000    0.001    0.000 {built-in method numpy.core._multiarray_umath.implement_array_function}\n",
      "        2    0.001    0.000    0.001    0.000 {built-in method torch.cat}\n",
      "        2    0.000    0.000    0.001    0.000 normal.py:75(log_prob)\n",
      "        4    0.000    0.000    0.000    0.000 {built-in method torch.reshape}\n",
      "      7/5    0.000    0.000    0.000    0.000 base.py:397(__new__)\n",
      "        1    0.000    0.000    0.000    0.000 {built-in method torch.stack}\n",
      "        1    0.000    0.000    0.000    0.000 init_params.py:107(add_lp_epsilon)\n",
      "        1    0.000    0.000    0.000    0.000 compute_prob.py:154(score_epsilon)\n",
      "        1    0.000    0.000    0.000    0.000 _continuous_distns.py:3982(_pdf)\n",
      "        4    0.000    0.000    0.000    0.000 constraints.py:307(check)\n",
      "        1    0.000    0.000    0.000    0.000 _continuous_distns.py:3986(_logpdf)\n",
      "        3    0.000    0.000    0.000    0.000 iostream.py:518(write)\n",
      "        2    0.000    0.000    0.000    0.000 _distn_infrastructure.py:535(argsreduce)\n",
      "        1    0.000    0.000    0.000    0.000 series.py:463(_init_dict)\n",
      "        3    0.000    0.000    0.000    0.000 iostream.py:448(_schedule_flush)\n",
      "        2    0.000    0.000    0.000    0.000 iostream.py:202(schedule)\n",
      "        1    0.000    0.000    0.000    0.000 construction.py:825(create_series_with_explicit_dtype)\n",
      "        1    0.000    0.000    0.000    0.000 indexing.py:705(__setitem__)\n",
      "        6    0.000    0.000    0.000    0.000 {method 'gather' of 'torch._C._TensorBase' objects}\n",
      "        2    0.000    0.000    0.000    0.000 utils.py:11(broadcast_all)\n",
      "        1    0.000    0.000    0.000    0.000 warnings.py:96(_showwarnmsg)\n",
      "        1    0.000    0.000    0.000    0.000 warnings.py:20(_showwarnmsg_impl)\n",
      "        2    0.000    0.000    0.000    0.000 socket.py:543(send)\n",
      "        2    0.000    0.000    0.000    0.000 series.py:4435(_reduce)\n",
      "        2    0.000    0.000    0.000    0.000 <__array_function__ internals>:177(place)\n",
      "      503    0.000    0.000    0.000    0.000 {built-in method builtins.isinstance}\n",
      "        2    0.000    0.000    0.000    0.000 <__array_function__ internals>:177(broadcast_arrays)\n",
      "        2    0.000    0.000    0.000    0.000 stride_tricks.py:480(broadcast_arrays)\n",
      "        7    0.000    0.000    0.000    0.000 construction.py:470(sanitize_array)\n",
      "        1    0.000    0.000    0.000    0.000 main_sim.py:45(granch_main_simulation)\n",
      "        1    0.000    0.000    0.000    0.000 construction.py:102(arrays_to_mgr)\n",
      "        1    0.000    0.000    0.000    0.000 {built-in method builtins.print}\n",
      "        1    0.000    0.000    0.000    0.000 indexing.py:1553(_setitem_with_indexer)\n",
      "        2    0.000    0.000    0.000    0.000 function_base.py:1912(place)\n",
      "        1    0.000    0.000    0.000    0.000 indexing.py:1897(_setitem_single_block)\n",
      "        2    0.000    0.000    0.000    0.000 {built-in method numpy.core._multiarray_umath._insert}\n",
      "        1    0.000    0.000    0.000    0.000 series.py:5276(isna)\n",
      "        1    0.000    0.000    0.000    0.000 generic.py:7230(isna)\n",
      "        1    0.000    0.000    0.000    0.000 indexing.py:638(_get_setitem_indexer)\n",
      "        1    0.000    0.000    0.000    0.000 generic.py:10875(any)\n",
      "        1    0.000    0.000    0.000    0.000 generic.py:10453(any)\n",
      "        1    0.000    0.000    0.000    0.000 generic.py:11049(sum)\n",
      "        1    0.000    0.000    0.000    0.000 stride_tricks.py:546(<listcomp>)\n",
      "        1    0.000    0.000    0.000    0.000 generic.py:10780(sum)\n",
      "        1    0.000    0.000    0.000    0.000 indexing.py:1223(_convert_to_indexer)\n",
      "        1    0.000    0.000    0.000    0.000 generic.py:10395(_logical_func)\n",
      "        1    0.000    0.000    0.000    0.000 generic.py:10731(_min_count_stat_function)\n",
      "        4    0.000    0.000    0.000    0.000 stride_tricks.py:340(_broadcast_to)\n",
      "       12    0.000    0.000    0.000    0.000 {built-in method builtins.all}\n",
      "        4    0.000    0.000    0.000    0.000 {pandas._libs.lib.maybe_convert_objects}\n",
      "        1    0.000    0.000    0.000    0.000 _continuous_distns.py:327(_pdf)\n",
      "        1    0.000    0.000    0.000    0.000 missing.py:67(isna)\n",
      "        1    0.000    0.000    0.000    0.000 _continuous_distns.py:266(_norm_pdf)\n",
      "        1    0.000    0.000    0.000    0.000 missing.py:150(_isna)\n",
      "        2    0.000    0.000    0.000    0.000 distribution.py:255(_validate_sample)\n",
      "        1    0.000    0.000    0.000    0.000 managers.py:331(setitem)\n",
      "        1    0.000    0.000    0.000    0.000 managers.py:253(apply)\n",
      "        1    0.000    0.000    0.000    0.000 functional.py:370(meshgrid)\n",
      "        1    0.000    0.000    0.000    0.000 functional.py:466(_meshgrid)\n",
      "        2    0.000    0.000    0.000    0.000 numerictypes.py:597(find_common_type)\n",
      "        2    0.000    0.000    0.000    0.000 base.py:7106(_maybe_cast_data_without_dtype)\n",
      "        4    0.000    0.000    0.000    0.000 _tensor.py:26(wrapped)\n",
      "        2    0.000    0.000    0.000    0.000 <__array_function__ internals>:177(any)\n",
      "       10    0.000    0.000    0.000    0.000 _ufunc_config.py:32(seterr)\n",
      "        1    0.000    0.000    0.000    0.000 construction.py:596(_homogenize)\n",
      "        1    0.000    0.000    0.000    0.000 nanops.py:83(_f)\n",
      "        4    0.000    0.000    0.000    0.000 fromnumeric.py:69(_wrapreduction)\n",
      "        2    0.000    0.000    0.000    0.000 helper.py:25(get_ith_column)\n",
      "        1    0.000    0.000    0.000    0.000 _distn_infrastructure.py:991(_open_support_mask)\n",
      "        1    0.000    0.000    0.000    0.000 blocks.py:898(setitem)\n",
      "        6    0.000    0.000    0.000    0.000 {method 'all' of 'torch._C._TensorBase' objects}\n",
      "        6    0.000    0.000    0.000    0.000 {method 'reduce' of 'numpy.ufunc' objects}\n",
      "        4    0.000    0.000    0.000    0.000 numerictypes.py:573(_can_coerce_all)\n",
      "        2    0.000    0.000    0.000    0.000 functional.py:44(broadcast_tensors)\n",
      "        5    0.000    0.000    0.000    0.000 warnings.py:130(filterwarnings)\n",
      "        5    0.000    0.000    0.000    0.000 _ufunc_config.py:429(__enter__)\n",
      "        2    0.000    0.000    0.000    0.000 codeop.py:117(__call__)\n",
      "        4    0.000    0.000    0.000    0.000 config.py:255(__call__)\n",
      "        1    0.000    0.000    0.000    0.000 {built-in method torch.meshgrid}\n",
      "        4    0.000    0.000    0.000    0.000 {built-in method torch.tensor}\n",
      "        2    0.000    0.000    0.000    0.000 fromnumeric.py:2307(any)\n",
      "        2    0.000    0.000    0.000    0.000 constraints.py:319(check)\n",
      "        1    0.000    0.000    0.000    0.000 managers.py:1937(create_block_manager_from_column_arrays)\n",
      "        5    0.000    0.000    0.000    0.000 base.py:554(_dtype_to_subclass)\n",
      "        1    0.000    0.000    0.000    0.000 _distn_infrastructure.py:986(_support_mask)\n",
      "        2    0.000    0.000    0.000    0.000 {built-in method builtins.compile}\n",
      "        4    0.000    0.000    0.000    0.000 config.py:127(_get_option)\n",
      "        6    0.000    0.000    0.000    0.000 construction.py:698(_try_cast)\n",
      "        1    0.000    0.000    0.000    0.000 nanops.py:395(new_func)\n",
      "        1    0.000    0.000    0.000    0.000 nanops.py:488(nanany)\n",
      "        1    0.000    0.000    0.000    0.000 utils.py:37(<listcomp>)\n",
      "        4    0.000    0.000    0.000    0.000 {method 'pow' of 'torch._C._TensorBase' objects}\n",
      "        1    0.000    0.000    0.000    0.000 indexing.py:2352(check_bool_indexer)\n",
      "        1    0.000    0.000    0.000    0.000 managers.py:2008(_form_blocks)\n",
      "        2    0.000    0.000    0.000    0.000 managers.py:1731(from_array)\n",
      "        6    0.000    0.000    0.000    0.000 utils.py:27(<genexpr>)\n",
      "        1    0.000    0.000    0.000    0.000 nanops.py:461(newfunc)\n",
      "       29    0.000    0.000    0.000    0.000 common.py:1587(_is_dtype_type)\n",
      "        1    0.000    0.000    0.000    0.000 nanops.py:580(nansum)\n",
      "       14    0.000    0.000    0.000    0.000 {method 'unsqueeze' of 'torch._C._TensorBase' objects}\n",
      "        5    0.000    0.000    0.000    0.000 numeric.py:289(full)\n",
      "    16/15    0.000    0.000    0.000    0.000 {built-in method numpy.asarray}\n",
      "        1    0.000    0.000    0.000    0.000 {built-in method torch.zeros}\n",
      "        1    0.000    0.000    0.000    0.000 construction.py:274(ndarray_to_mgr)\n",
      "        2    0.000    0.000    0.000    0.000 <__array_function__ internals>:177(putmask)\n",
      "        2    0.000    0.000    0.000    0.000 nanops.py:257(_get_values)\n",
      "        2    0.000    0.000    0.000    0.000 inference.py:262(is_dict_like)\n",
      "        2    0.000    0.000    0.000    0.000 {pandas._libs.lib.infer_dtype}\n",
      "        2    0.000    0.000    0.000    0.000 {method 'log' of 'torch._C._TensorBase' objects}\n",
      "        4    0.000    0.000    0.000    0.000 {built-in method torch.full}\n",
      "        2    0.000    0.000    0.000    0.000 blocks.py:2043(new_block)\n",
      "       78    0.000    0.000    0.000    0.000 generic.py:43(_check)\n",
      "  126/108    0.000    0.000    0.000    0.000 {built-in method builtins.len}\n",
      "        4    0.000    0.000    0.000    0.000 common.py:229(asarray_tuplesafe)\n",
      "        9    0.000    0.000    0.000    0.000 overrides.py:1697(is_tensor_like)\n",
      "        2    0.000    0.000    0.000    0.000 <__array_function__ internals>:177(atleast_1d)\n",
      "        2    0.000    0.000    0.000    0.000 _distn_infrastructure.py:579(<listcomp>)\n",
      "        4    0.000    0.000    0.000    0.000 generic.py:5577(__setattr__)\n",
      "        2    0.000    0.000    0.000    0.000 <__array_function__ internals>:177(all)\n",
      "        3    0.000    0.000    0.000    0.000 cast.py:1466(maybe_infer_to_datetimelike)\n",
      "       10    0.000    0.000    0.000    0.000 _ufunc_config.py:131(geterr)\n",
      "        1    0.000    0.000    0.000    0.000 putmask.py:180(setitem_datetimelike_compat)\n",
      "        5    0.000    0.000    0.000    0.000 _ufunc_config.py:434(__exit__)\n",
      "        4    0.000    0.000    0.000    0.000 config.py:109(_get_single_key)\n",
      "       10    0.000    0.000    0.000    0.000 base.py:7082(maybe_extract_name)\n",
      "       10    0.000    0.000    0.000    0.000 construction.py:379(extract_array)\n",
      "        2    0.000    0.000    0.000    0.000 {built-in method torch.broadcast_tensors}\n",
      "        9    0.000    0.000    0.000    0.000 common.py:1240(is_float_dtype)\n",
      "        8    0.000    0.000    0.000    0.000 abc.py:117(__instancecheck__)\n",
      "        1    0.000    0.000    0.000    0.000 cast.py:674(infer_dtype_from)\n",
      "        1    0.000    0.000    0.000    0.000 warnings.py:117(_formatwarnmsg)\n",
      "        2    0.000    0.000    0.000    0.000 shape_base.py:23(atleast_1d)\n",
      "        1    0.000    0.000    0.000    0.000 utils.py:457(check_array_indexer)\n",
      "        1    0.000    0.000    0.000    0.000 warnings.py:35(_formatwarnmsg_impl)\n",
      "        2    0.000    0.000    0.000    0.000 fromnumeric.py:2406(all)\n",
      "        1    0.000    0.000    0.000    0.000 cast.py:798(infer_dtype_from_array)\n",
      "        1    0.000    0.000    0.000    0.000 base.py:2308(is_integer)\n",
      "      113    0.000    0.000    0.000    0.000 {built-in method builtins.getattr}\n",
      "        2    0.000    0.000    0.000    0.000 cast.py:1873(construct_1d_arraylike_from_scalar)\n",
      "        7    0.000    0.000    0.000    0.000 common.py:1274(is_bool_dtype)\n",
      "        3    0.000    0.000    0.000    0.000 series.py:542(_set_axis)\n",
      "        1    0.000    0.000    0.000    0.000 generic.py:5517(__finalize__)\n",
      "       10    0.000    0.000    0.000    0.000 {method 'size' of 'torch._C._TensorBase' objects}\n",
      "        5    0.000    0.000    0.000    0.000 generic.py:239(__init__)\n",
      "        5    0.000    0.000    0.000    0.000 <__array_function__ internals>:177(copyto)\n",
      "        2    0.000    0.000    0.000    0.000 stride_tricks.py:416(_broadcast_shape)\n",
      "        1    0.000    0.000    0.000    0.000 base.py:2596(inferred_type)\n",
      "        1    0.000    0.000    0.000    0.000 {built-in method torch.from_numpy}\n",
      "        3    0.000    0.000    0.000    0.000 numeric.py:139(_ensure_array)\n",
      "        5    0.000    0.000    0.000    0.000 warnings.py:181(_add_filter)\n",
      "        2    0.000    0.000    0.000    0.000 threading.py:1169(is_alive)\n",
      "        2    0.000    0.000    0.000    0.000 interactiveshell.py:3215(_update_code_co_name)\n",
      "        1    0.000    0.000    0.000    0.000 {built-in method torch.ones}\n",
      "        1    0.000    0.000    0.000    0.000 base.py:2603(_is_all_dates)\n",
      "        5    0.000    0.000    0.000    0.000 re.py:249(compile)\n",
      "        2    0.000    0.000    0.000    0.000 _distn_infrastructure.py:952(_argcheck)\n",
      "        5    0.000    0.000    0.000    0.000 base.py:654(_simple_new)\n",
      "        3    0.000    0.000    0.000    0.000 cast.py:1962(construct_1d_object_array_from_listlike)\n",
      "       11    0.000    0.000    0.000    0.000 {built-in method numpy.empty}\n",
      "        1    0.000    0.000    0.000    0.000 missing.py:572(na_value_for_dtype)\n",
      "        8    0.000    0.000    0.000    0.000 <frozen importlib._bootstrap>:1053(_handle_fromlist)\n",
      "        1    0.000    0.000    0.000    0.000 {method 'any' of 'numpy.ndarray' objects}\n",
      "        5    0.000    0.000    0.000    0.000 {method 'ravel' of 'numpy.ndarray' objects}\n",
      "        2    0.000    0.000    0.000    0.000 <__array_function__ internals>:177(shape)\n",
      "        5    0.000    0.000    0.000    0.000 re.py:288(_compile)\n",
      "        8    0.000    0.000    0.000    0.000 {built-in method _abc._abc_instancecheck}\n",
      "       28    0.000    0.000    0.000    0.000 numerictypes.py:582(<listcomp>)\n",
      "        6    0.000    0.000    0.000    0.000 {method 'squeeze' of 'torch._C._TensorBase' objects}\n",
      "        4    0.000    0.000    0.000    0.000 series.py:640(name)\n",
      "        6    0.000    0.000    0.000    0.000 common.py:680(is_integer_dtype)\n",
      "       35    0.000    0.000    0.000    0.000 {built-in method builtins.hasattr}\n",
      "        4    0.000    0.000    0.000    0.000 common.py:161(is_object_dtype)\n",
      "        3    0.000    0.000    0.000    0.000 {pandas._libs.lib.infer_datetimelike_array}\n",
      "        1    0.000    0.000    0.000    0.000 _methods.py:54(_any)\n",
      "        3    0.000    0.000    0.000    0.000 {built-in method numpy.arange}\n",
      "        2    0.000    0.000    0.000    0.000 threading.py:1102(_wait_for_tstate_lock)\n",
      "        1    0.000    0.000    0.000    0.000 managers.py:2060(_stack_arrays)\n",
      "       23    0.000    0.000    0.000    0.000 {pandas._libs.lib.is_list_like}\n",
      "       14    0.000    0.000    0.000    0.000 common.py:1483(is_ea_or_datetimelike_dtype)\n",
      "        7    0.000    0.000    0.000    0.000 common.py:1747(pandas_dtype)\n",
      "        1    0.000    0.000    0.000    0.000 missing.py:227(_isna_array)\n",
      "        6    0.000    0.000    0.000    0.000 {built-in method builtins.next}\n",
      "        1    0.000    0.000    0.000    0.000 common.py:105(is_bool_indexer)\n",
      "        5    0.000    0.000    0.000    0.000 warnings.py:458(__enter__)\n",
      "        4    0.000    0.000    0.000    0.000 config.py:589(_get_root)\n",
      "        1    0.000    0.000    0.000    0.000 _asarray.py:22(require)\n",
      "        5    0.000    0.000    0.000    0.000 common.py:732(is_signed_integer_dtype)\n",
      "        4    0.000    0.000    0.000    0.000 constraints.py:142(is_dependent)\n",
      "        5    0.000    0.000    0.000    0.000 {built-in method builtins.any}\n",
      "        7    0.000    0.000    0.000    0.000 series.py:687(_values)\n",
      "        5    0.000    0.000    0.000    0.000 common.py:786(is_unsigned_integer_dtype)\n",
      "        4    0.000    0.000    0.000    0.000 common.py:1721(validate_all_hashable)\n",
      "        4    0.000    0.000    0.000    0.000 _VF.py:25(__getattr__)\n",
      "        1    0.000    0.000    0.000    0.000 missing.py:268(_isna_string_dtype)\n",
      "        1    0.000    0.000    0.000    0.000 {method 'sum' of 'numpy.ndarray' objects}\n",
      "       10    0.000    0.000    0.000    0.000 {built-in method numpy.seterrobj}\n",
      "        1    0.000    0.000    0.000    0.000 cast.py:1844(construct_2d_arraylike_from_scalar)\n",
      "        2    0.000    0.000    0.000    0.000 generic.py:441(_validate_dtype)\n",
      "       15    0.000    0.000    0.000    0.000 inference.py:321(is_hashable)\n",
      "       18    0.000    0.000    0.000    0.000 {built-in method numpy.array}\n",
      "        4    0.000    0.000    0.000    0.000 common.py:581(is_dtype_equal)\n",
      "        1    0.000    0.000    0.000    0.000 init_params.py:9(__init__)\n",
      "        4    0.000    0.000    0.000    0.000 blocks.py:1991(get_block_type)\n",
      "        4    0.000    0.000    0.000    0.000 config.py:642(_warn_if_deprecated)\n",
      "        5    0.000    0.000    0.000    0.000 series.py:590(name)\n",
      "        4    0.000    0.000    0.000    0.000 common.py:1429(is_extension_array_dtype)\n",
      "        4    0.000    0.000    0.000    0.000 construction.py:805(is_empty_data)\n",
      "        1    0.000    0.000    0.000    0.000 _methods.py:46(_sum)\n",
      "        1    0.000    0.000    0.000    0.000 flags.py:83(allows_duplicate_labels)\n",
      "       16    0.000    0.000    0.000    0.000 common.py:155(<lambda>)\n",
      "        6    0.000    0.000    0.000    0.000 construction.py:630(_sanitize_ndim)\n",
      "       15    0.000    0.000    0.000    0.000 common.py:1552(get_dtype)\n",
      "        7    0.000    0.000    0.000    0.000 series.py:575(dtype)\n",
      "        1    0.000    0.000    0.000    0.000 series.py:1249(_check_is_chained_assignment_possible)\n",
      "        2    0.000    0.000    0.000    0.000 {built-in method numpy.zeros}\n",
      "        2    0.000    0.000    0.000    0.000 _dtype.py:344(_name_get)\n",
      "        2    0.000    0.000    0.000    0.000 {method 'acquire' of '_thread.lock' objects}\n",
      "        5    0.000    0.000    0.000    0.000 warnings.py:477(__exit__)\n",
      "        8    0.000    0.000    0.000    0.000 config.py:603(_get_deprecated_option)\n",
      "        1    0.000    0.000    0.000    0.000 base.py:5178(equals)\n",
      "       67    0.000    0.000    0.000    0.000 {built-in method builtins.issubclass}\n",
      "        2    0.000    0.000    0.000    0.000 stride_tricks.py:538(<listcomp>)\n",
      "        7    0.000    0.000    0.000    0.000 managers.py:1848(internal_values)\n",
      "       17    0.000    0.000    0.000    0.000 base.py:884(__len__)\n",
      "        2    0.000    0.000    0.000    0.000 contextlib.py:279(helper)\n",
      "        1    0.000    0.000    0.000    0.000 {built-in method pandas._libs.missing.isnaobj}\n",
      "        1    0.000    0.000    0.000    0.000 series.py:1260(_maybe_update_cacher)\n",
      "        3    0.000    0.000    0.000    0.000 blocks.py:1962(maybe_coerce_values)\n",
      "        2    0.000    0.000    0.000    0.000 nanops.py:213(_maybe_get_mask)\n",
      "        1    0.000    0.000    0.000    0.000 common.py:287(maybe_iterable_to_list)\n",
      "        2    0.000    0.000    0.000    0.000 contextlib.py:130(__enter__)\n",
      "        2    0.000    0.000    0.000    0.000 numerictypes.py:649(<listcomp>)\n",
      "        1    0.000    0.000    0.000    0.000 base.py:744(__iter__)\n",
      "        1    0.000    0.000    0.000    0.000 blocks.py:606(_can_hold_element)\n",
      "        1    0.000    0.000    0.000    0.000 {built-in method pandas._libs.lib.is_datetime_array}\n",
      "        5    0.000    0.000    0.000    0.000 {method 'remove' of 'list' objects}\n",
      "        4    0.000    0.000    0.000    0.000 function_base.py:346(iterable)\n",
      "        3    0.000    0.000    0.000    0.000 iostream.py:429(_is_master_process)\n",
      "        5    0.000    0.000    0.000    0.000 types.py:176(__get__)\n",
      "        2    0.000    0.000    0.000    0.000 managers.py:1683(_consolidate_inplace)\n",
      "        4    0.000    0.000    0.000    0.000 dis.py:453(findlinestarts)\n",
      "        6    0.000    0.000    0.000    0.000 generic.py:5561(__getattr__)\n",
      "       20    0.000    0.000    0.000    0.000 {built-in method numpy.geterrobj}\n",
      "        4    0.000    0.000    0.000    0.000 common.py:552(require_length_match)\n",
      "        1    0.000    0.000    0.000    0.000 cast.py:691(infer_dtype_from_scalar)\n",
      "        7    0.000    0.000    0.000    0.000 construction.py:438(ensure_wrapped_if_datetimelike)\n",
      "        2    0.000    0.000    0.000    0.000 blocks.py:2057(check_ndim)\n",
      "        5    0.000    0.000    0.000    0.000 warnings.py:437(__init__)\n",
      "       13    0.000    0.000    0.000    0.000 common.py:147(<lambda>)\n",
      "        1    0.000    0.000    0.000    0.000 linecache.py:26(getline)\n",
      "        5    0.000    0.000    0.000    0.000 flags.py:47(__init__)\n",
      "        1    0.000    0.000    0.000    0.000 1070387720.py:1(<cell line: 5>)\n",
      "        1    0.000    0.000    0.000    0.000 blocks.py:2032(new_block_2d)\n",
      "        4    0.000    0.000    0.000    0.000 nanops.py:86(<genexpr>)\n",
      "        2    0.000    0.000    0.000    0.000 {method 'numpy' of 'torch._C._TensorBase' objects}\n",
      "        2    0.000    0.000    0.000    0.000 traitlets.py:675(__get__)\n",
      "        5    0.000    0.000    0.000    0.000 common.py:1148(needs_i8_conversion)\n",
      "        2    0.000    0.000    0.000    0.000 contextlib.py:139(__exit__)\n",
      "        7    0.000    0.000    0.000    0.000 {built-in method torch._C._has_torch_function}\n",
      "        5    0.000    0.000    0.000    0.000 _ufunc_config.py:425(__init__)\n",
      "        4    0.000    0.000    0.000    0.000 compilerop.py:174(extra_flags)\n",
      "        7    0.000    0.000    0.000    0.000 managers.py:1837(dtype)\n",
      "        8    0.000    0.000    0.000    0.000 common.py:1740(<genexpr>)\n",
      "        2    0.000    0.000    0.000    0.000 managers.py:1665(is_consolidated)\n",
      "        1    0.000    0.000    0.000    0.000 managers.py:1911(create_block_manager_from_blocks)\n",
      "       13    0.000    0.000    0.000    0.000 common.py:145(classes)\n",
      "        2    0.000    0.000    0.000    0.000 inference.py:184(is_array_like)\n",
      "        2    0.000    0.000    0.000    0.000 contextlib.py:102(__init__)\n",
      "        4    0.000    0.000    0.000    0.000 fromnumeric.py:70(<dictcomp>)\n",
      "        3    0.000    0.000    0.000    0.000 managers.py:1992(_grouping_func)\n",
      "        7    0.000    0.000    0.000    0.000 stride_tricks.py:542(<genexpr>)\n",
      "        1    0.000    0.000    0.000    0.000 generic.py:4120(_is_view)\n",
      "        5    0.000    0.000    0.000    0.000 utils.py:31(<genexpr>)\n",
      "        3    0.000    0.000    0.000    0.000 managers.py:1700(__init__)\n",
      "        3    0.000    0.000    0.000    0.000 base.py:465(find)\n",
      "        3    0.000    0.000    0.000    0.000 generic.py:560(_get_axis)\n",
      "        1    0.000    0.000    0.000    0.000 series.py:743(__len__)\n",
      "        2    0.000    0.000    0.000    0.000 {method 'fill' of 'numpy.ndarray' objects}\n",
      "        2    0.000    0.000    0.000    0.000 iostream.py:90(_event_pipe)\n",
      "        6    0.000    0.000    0.000    0.000 construction.py:667(_sanitize_str_dtypes)\n",
      "        1    0.000    0.000    0.000    0.000 warnings.py:403(__init__)\n",
      "        6    0.000    0.000    0.000    0.000 inference.py:288(<genexpr>)\n",
      "       16    0.000    0.000    0.000    0.000 common.py:150(classes_and_not_datetimelike)\n",
      "        1    0.000    0.000    0.000    0.000 linecache.py:36(getlines)\n",
      "        4    0.000    0.000    0.000    0.000 config.py:630(_translate_key)\n",
      "        1    0.000    0.000    0.000    0.000 managers.py:484(is_view)\n",
      "        1    0.000    0.000    0.000    0.000 managers.py:1722(from_blocks)\n",
      "        2    0.000    0.000    0.000    0.000 traitlets.py:643(get)\n",
      "        1    0.000    0.000    0.000    0.000 _asarray.py:109(<setcomp>)\n",
      "        1    0.000    0.000    0.000    0.000 construction.py:494(<listcomp>)\n",
      "        4    0.000    0.000    0.000    0.000 config.py:571(_select_options)\n",
      "        6    0.000    0.000    0.000    0.000 construction.py:687(_maybe_repeat)\n",
      "        2    0.000    0.000    0.000    0.000 nanops.py:346(_na_ok_dtype)\n",
      "        1    0.000    0.000    0.000    0.000 cast.py:2149(can_hold_element)\n",
      "        7    0.000    0.000    0.000    0.000 common.py:1416(is_1d_only_ea_dtype)\n",
      "        1    0.000    0.000    0.000    0.000 utils.py:133(check_setitem_lengths)\n",
      "        1    0.000    0.000    0.000    0.000 generic.py:3579(_maybe_update_cacher)\n",
      "        1    0.000    0.000    0.000    0.000 base.py:45(__len__)\n",
      "        2    0.000    0.000    0.000    0.000 {built-in method math.log}\n",
      "        2    0.000    0.000    0.000    0.000 {method 'reshape' of 'numpy.ndarray' objects}\n",
      "        2    0.000    0.000    0.000    0.000 base.py:2624(_is_multi)\n",
      "        2    0.000    0.000    0.000    0.000 managers.py:1673(_consolidate_check)\n",
      "        1    0.000    0.000    0.000    0.000 indexing.py:2481(check_deprecated_indexers)\n",
      "        1    0.000    0.000    0.000    0.000 utils.py:69(is_list_like_indexer)\n",
      "        1    0.000    0.000    0.000    0.000 construction.py:407(_check_values_indices_shape_match)\n",
      "        5    0.000    0.000    0.000    0.000 base.py:834(_reset_identity)\n",
      "        3    0.000    0.000    0.000    0.000 nanops.py:79(check)\n",
      "        2    0.000    0.000    0.000    0.000 {built-in method math.sqrt}\n",
      "        2    0.000    0.000    0.000    0.000 fromnumeric.py:1965(shape)\n",
      "        1    0.000    0.000    0.000    0.000 blocks.py:2121(extend_blocks)\n",
      "        2    0.000    0.000    0.000    0.000 _distn_infrastructure.py:964(_get_support)\n",
      "        5    0.000    0.000    0.000    0.000 generic.py:546(_get_axis_number)\n",
      "       15    0.000    0.000    0.000    0.000 {built-in method _warnings._filters_mutated}\n",
      "        2    0.000    0.000    0.000    0.000 _validators.py:218(validate_bool_kwarg)\n",
      "       15    0.000    0.000    0.000    0.000 {built-in method builtins.hash}\n",
      "        1    0.000    0.000    0.000    0.000 construction.py:549(_prep_ndarray)\n",
      "        4    0.000    0.000    0.000    0.000 stride_tricks.py:25(_maybe_view_as_subclass)\n",
      "        1    0.000    0.000    0.000    0.000 common.py:346(apply_if_callable)\n",
      "        6    0.000    0.000    0.000    0.000 {method 'items' of 'dict' objects}\n",
      "        1    0.000    0.000    0.000    0.000 series.py:825(__array__)\n",
      "        8    0.000    0.000    0.000    0.000 stride_tricks.py:345(<genexpr>)\n",
      "        4    0.000    0.000    0.000    0.000 {method 'split' of 'str' objects}\n",
      "       10    0.000    0.000    0.000    0.000 {method 'append' of 'list' objects}\n",
      "        2    0.000    0.000    0.000    0.000 {pandas._libs.lib.is_all_arraylike}\n",
      "       13    0.000    0.000    0.000    0.000 typing.py:1736(cast)\n",
      "        2    0.000    0.000    0.000    0.000 interactiveshell.py:3313(compare)\n",
      "        5    0.000    0.000    0.000    0.000 {built-in method __new__ of type object at 0x1099c3300}\n",
      "        6    0.000    0.000    0.000    0.000 {pandas._libs.lib.is_scalar}\n",
      "        5    0.000    0.000    0.000    0.000 enum.py:801(value)\n",
      "        1    0.000    0.000    0.000    0.000 construction.py:747(_get_axes)\n",
      "        3    0.000    0.000    0.000    0.000 {method 'write' of '_io.StringIO' objects}\n",
      "        1    0.000    0.000    0.000    0.000 {method 'nonzero' of 'numpy.ndarray' objects}\n",
      "        1    0.000    0.000    0.000    0.000 {built-in method torch.get_default_dtype}\n",
      "        2    0.000    0.000    0.000    0.000 {method 'replace' of 'code' objects}\n",
      "        5    0.000    0.000    0.000    0.000 base.py:937(dtype)\n",
      "        2    0.000    0.000    0.000    0.000 construction.py:233(mgr_to_mgr)\n",
      "        1    0.000    0.000    0.000    0.000 blocks.py:171(is_view)\n",
      "        1    0.000    0.000    0.000    0.000 indexing.py:267(loc)\n",
      "        4    0.000    0.000    0.000    0.000 {method '__exit__' of 'numpy.nditer' objects}\n",
      "        1    0.000    0.000    0.000    0.000 nanops.py:1445(_maybe_null_out)\n",
      "        6    0.000    0.000    0.000    0.000 {pandas._libs.lib.is_iterator}\n",
      "        5    0.000    0.000    0.000    0.000 {method 'insert' of 'list' objects}\n",
      "        5    0.000    0.000    0.000    0.000 {built-in method numpy.asanyarray}\n",
      "        1    0.000    0.000    0.000    0.000 indexing.py:668(_ensure_listlike_indexer)\n",
      "        1    0.000    0.000    0.000    0.000 utils.py:107(is_empty_indexer)\n",
      "       12    0.000    0.000    0.000    0.000 base.py:326(ndim)\n",
      "        2    0.000    0.000    0.000    0.000 {method 'astype' of 'numpy.ndarray' objects}\n",
      "        2    0.000    0.000    0.000    0.000 interactiveshell.py:1192(user_global_ns)\n",
      "        2    0.000    0.000    0.000    0.000 _dtype.py:330(_name_includes_bit_suffix)\n",
      "        2    0.000    0.000    0.000    0.000 _dtype.py:24(_kind_name)\n",
      "        2    0.000    0.000    0.000    0.000 multiarray.py:1106(putmask)\n",
      "        1    0.000    0.000    0.000    0.000 cast.py:1711(sanitize_to_nanoseconds)\n",
      "        1    0.000    0.000    0.000    0.000 utils.py:85(is_scalar_indexer)\n",
      "        1    0.000    0.000    0.000    0.000 indexing.py:2437(is_nested_tuple)\n",
      "        5    0.000    0.000    0.000    0.000 base.py:229(disallow_kwargs)\n",
      "        3    0.000    0.000    0.000    0.000 managers.py:1792(_block)\n",
      "        5    0.000    0.000    0.000    0.000 multiarray.py:1071(copyto)\n",
      "        2    0.000    0.000    0.000    0.000 {built-in method torch._C._has_torch_function_unary}\n",
      "        3    0.000    0.000    0.000    0.000 {built-in method posix.getpid}\n",
      "        4    0.000    0.000    0.000    0.000 base.py:4820(_values)\n",
      "        3    0.000    0.000    0.000    0.000 numeric.py:199(_ensure_dtype)\n",
      "        3    0.000    0.000    0.000    0.000 {method '__exit__' of '_thread.RLock' objects}\n",
      "        3    0.000    0.000    0.000    0.000 numeric.py:188(_validate_dtype)\n",
      "        4    0.000    0.000    0.000    0.000 {pandas._libs.algos.ensure_object}\n",
      "        2    0.000    0.000    0.000    0.000 function.py:49(__call__)\n",
      "        2    0.000    0.000    0.000    0.000 function_base.py:1908(_place_dispatcher)\n",
      "        2    0.000    0.000    0.000    0.000 threading.py:553(is_set)\n",
      "        1    0.000    0.000    0.000    0.000 common.py:389(is_timedelta64_dtype)\n",
      "        1    0.000    0.000    0.000    0.000 cast.py:2187(np_can_hold_element)\n",
      "        1    0.000    0.000    0.000    0.000 indexing.py:130(iloc)\n",
      "        3    0.000    0.000    0.000    0.000 {pandas._libs.lib.is_integer}\n",
      "        2    0.000    0.000    0.000    0.000 shape_base.py:19(_atleast_1d_dispatcher)\n",
      "        1    0.000    0.000    0.000    0.000 common.py:533(is_string_or_object_np_dtype)\n",
      "        2    0.000    0.000    0.000    0.000 fromnumeric.py:1961(_shape_dispatcher)\n",
      "        2    0.000    0.000    0.000    0.000 base.py:540(_ensure_array)\n",
      "        2    0.000    0.000    0.000    0.000 managers.py:919(__init__)\n",
      "        1    0.000    0.000    0.000    0.000 indexing.py:2399(convert_missing_indexer)\n",
      "        4    0.000    0.000    0.000    0.000 {built-in method builtins.iter}\n",
      "        2    0.000    0.000    0.000    0.000 {method 'co_lines' of 'code' objects}\n",
      "        2    0.000    0.000    0.000    0.000 {built-in method time.perf_counter}\n",
      "        2    0.000    0.000    0.000    0.000 nanops.py:191(_get_fill_value)\n",
      "        2    0.000    0.000    0.000    0.000 fromnumeric.py:2302(_any_dispatcher)\n",
      "        1    0.000    0.000    0.000    0.000 blocks.py:354(dtype)\n",
      "        1    0.000    0.000    0.000    0.000 {method 'strip' of 'str' objects}\n",
      "        2    0.000    0.000    0.000    0.000 {method 'append' of 'collections.deque' objects}\n",
      "        3    0.000    0.000    0.000    0.000 {pandas._libs.lib.is_bool}\n",
      "        1    0.000    0.000    0.000    0.000 generic.py:3933(_check_is_chained_assignment_possible)\n",
      "        2    0.000    0.000    0.000    0.000 fromnumeric.py:2401(_all_dispatcher)\n",
      "        1    0.000    0.000    0.000    0.000 generic.py:328(attrs)\n",
      "        1    0.000    0.000    0.000    0.000 indexing.py:1020(_has_valid_setitem_indexer)\n",
      "        1    0.000    0.000    0.000    0.000 <string>:2(_parse_args)\n",
      "        1    0.000    0.000    0.000    0.000 generic.py:3948(_check_setitem_copy)\n",
      "        2    0.000    0.000    0.000    0.000 stride_tricks.py:476(_broadcast_arrays_dispatcher)\n",
      "        2    0.000    0.000    0.000    0.000 numerictypes.py:650(<listcomp>)\n",
      "        2    0.000    0.000    0.000    0.000 {built-in method builtins.callable}\n",
      "        2    0.000    0.000    0.000    0.000 generic.py:349(flags)\n",
      "        1    0.000    0.000    0.000    0.000 {method 'disable' of '_lsprof.Profiler' objects}\n",
      "        1    0.000    0.000    0.000    0.000 series.py:523(_constructor)\n",
      "        1    0.000    0.000    0.000    0.000 flags.py:51(allows_duplicate_labels)\n",
      "        1    0.000    0.000    0.000    0.000 {method 'values' of 'dict' objects}\n",
      "        1    0.000    0.000    0.000    0.000 {method 'upper' of 'str' objects}\n",
      "        1    0.000    0.000    0.000    0.000 managers.py:282(<dictcomp>)\n",
      "        1    0.000    0.000    0.000    0.000 nanops.py:1484(check_below_min_count)\n",
      "        1    0.000    0.000    0.000    0.000 series.py:1245(_clear_item_cache)\n",
      "        1    0.000    0.000    0.000    0.000 managers.py:222(items)\n",
      "        1    0.000    0.000    0.000    0.000 base.py:803(is_)\n",
      "\n",
      "\n"
     ]
    },
    {
     "name": "stderr",
     "output_type": "stream",
     "text": [
      "/Users/caoanjie/Desktop/projects/model/model/GRANCH_python/compute_prob.py:152: RuntimeWarning: divide by zero encountered in log\n",
      "  \n"
     ]
    },
    {
     "data": {
      "text/plain": [
       "<pstats.Stats at 0x13186bf40>"
      ]
     },
     "execution_count": 92,
     "metadata": {},
     "output_type": "execute_result"
    }
   ],
   "source": [
    "\n",
    "prof = profile.Profile()\n",
    "prof.enable()\n",
    "\n",
    "all_ps_res = ps.run_parameter_search(params_search_space, stimuli)\n",
    "prof.disable()\n",
    "\n",
    "stats = pstats.Stats(prof).strip_dirs().sort_stats(\"cumtime\")\n",
    "stats.print_stats() # top 10 rows"
   ]
  },
  {
   "cell_type": "code",
   "execution_count": 93,
   "metadata": {},
   "outputs": [
    {
     "data": {
      "text/plain": [
       "<AxesSubplot:xlabel='stimulus_id'>"
      ]
     },
     "execution_count": 93,
     "metadata": {},
     "output_type": "execute_result"
    },
    {
     "data": {
      "image/png": "[encoded data removed]",
      "text/plain": [
       "<Figure size 432x288 with 1 Axes>"
      ]
     },
     "metadata": {
      "needs_background": "light"
     },
     "output_type": "display_data"
    }
   ],
   "source": [
    "\n",
    "\n",
    "sample_df = all_ps_res[0][0].groupby(['stimulus_id'], as_index=False).count()\n",
    "sample_df[\"stimulus_id\"] = sample_df[\"stimulus_id\"]+1\n",
    "sample_df[\"n\"] = sample_df[\"EIG\"]\n",
    "\n",
    "sample_df.plot.line(x = \"stimulus_id\", y = \"n\")\n"
   ]
  },
  {
   "cell_type": "code",
   "execution_count": 178,
   "metadata": {},
   "outputs": [
    {
     "name": "stdout",
     "output_type": "stream",
     "text": [
      "2\n",
      "3\n",
      "4\n"
     ]
    },
    {
     "name": "stderr",
     "output_type": "stream",
     "text": [
      "/Users/caoanjie/Desktop/projects/model/model/GRANCH_python/compute_prob.py:152: RuntimeWarning: divide by zero encountered in log\n",
      "  \n",
      "/var/folders/1y/l17j6svd6jq5_j5s7s92yh8m0000gn/T/ipykernel_8943/2600719051.py:14: FutureWarning: The frame.append method is deprecated and will be removed from pandas in a future version. Use pandas.concat instead.\n",
      "  all_sims_res = all_sims_res.append(ps_res)\n",
      "/Users/caoanjie/Desktop/projects/model/model/GRANCH_python/compute_prob.py:152: RuntimeWarning: divide by zero encountered in log\n",
      "  \n",
      "/var/folders/1y/l17j6svd6jq5_j5s7s92yh8m0000gn/T/ipykernel_8943/2600719051.py:14: FutureWarning: The frame.append method is deprecated and will be removed from pandas in a future version. Use pandas.concat instead.\n",
      "  all_sims_res = all_sims_res.append(ps_res)\n",
      "/Users/caoanjie/Desktop/projects/model/model/GRANCH_python/compute_prob.py:152: RuntimeWarning: divide by zero encountered in log\n",
      "  \n",
      "/var/folders/1y/l17j6svd6jq5_j5s7s92yh8m0000gn/T/ipykernel_8943/2600719051.py:14: FutureWarning: The frame.append method is deprecated and will be removed from pandas in a future version. Use pandas.concat instead.\n",
      "  all_sims_res = all_sims_res.append(ps_res)\n",
      "/Users/caoanjie/Desktop/projects/model/model/GRANCH_python/compute_prob.py:152: RuntimeWarning: divide by zero encountered in log\n",
      "  \n"
     ]
    },
    {
     "name": "stdout",
     "output_type": "stream",
     "text": [
      "5\n"
     ]
    },
    {
     "name": "stderr",
     "output_type": "stream",
     "text": [
      "/var/folders/1y/l17j6svd6jq5_j5s7s92yh8m0000gn/T/ipykernel_8943/2600719051.py:14: FutureWarning: The frame.append method is deprecated and will be removed from pandas in a future version. Use pandas.concat instead.\n",
      "  all_sims_res = all_sims_res.append(ps_res)\n",
      "/Users/caoanjie/Desktop/projects/model/model/GRANCH_python/compute_prob.py:152: RuntimeWarning: divide by zero encountered in log\n",
      "  \n"
     ]
    },
    {
     "name": "stdout",
     "output_type": "stream",
     "text": [
      "6\n"
     ]
    },
    {
     "name": "stderr",
     "output_type": "stream",
     "text": [
      "/var/folders/1y/l17j6svd6jq5_j5s7s92yh8m0000gn/T/ipykernel_8943/2600719051.py:14: FutureWarning: The frame.append method is deprecated and will be removed from pandas in a future version. Use pandas.concat instead.\n",
      "  all_sims_res = all_sims_res.append(ps_res)\n",
      "/Users/caoanjie/Desktop/projects/model/model/GRANCH_python/compute_prob.py:152: RuntimeWarning: divide by zero encountered in log\n",
      "  \n"
     ]
    },
    {
     "name": "stdout",
     "output_type": "stream",
     "text": [
      "7\n"
     ]
    },
    {
     "name": "stderr",
     "output_type": "stream",
     "text": [
      "/var/folders/1y/l17j6svd6jq5_j5s7s92yh8m0000gn/T/ipykernel_8943/2600719051.py:14: FutureWarning: The frame.append method is deprecated and will be removed from pandas in a future version. Use pandas.concat instead.\n",
      "  all_sims_res = all_sims_res.append(ps_res)\n"
     ]
    }
   ],
   "source": [
    "def timing_ps(run = 3): \n",
    "    all_sims_res = pd.DataFrame()\n",
    "    for i in range(2, run): \n",
    "       print(i)\n",
    "       grid_params = ps.set_granch_grid_parameter(grid_mu_theta_starts = [-5],grid_mu_theta_ends = [5],grid_mu_theta_steps=[i],\n",
    "                                grid_sig_sq_starts=[0.001],grid_sig_sq_ends=[1.8],grid_sig_sq_steps=[i],\n",
    "                                grid_y_starts=[-5],grid_y_ends=[5],grid_y_steps=[i],\n",
    "                                grid_epsilon_starts=[0.001],grid_epsilon_ends=[1.8],grid_epsilon_steps=[i])\n",
    "       priors = ps.set_granch_priors(mu_priors = [0.001], V_priors = [0.001], alpha_priors = [1], beta_priors = [1], epsilons = [0.000001], mu_epsilons = [0.001], sd_epsilons = [4], eigs = [0.0001])\n",
    "       params_search_space = ps.set_parameter_search(grid_params, priors)\n",
    "       all_ps_res = ps.run_parameter_search(params_search_space, stimuli)\n",
    "       ps_res = all_ps_res[0][0]\n",
    "       ps_res[\"grid_step\"] = i \n",
    "       all_sims_res = all_sims_res.append(ps_res)\n",
    "    return all_sims_res\n",
    "\n",
    "\n",
    "\n",
    "\n",
    "improved_timing = timing_ps(8)\n",
    "improved_timing.index.name = 't'\n",
    "improved_timing.reset_index(inplace=True)\n"
   ]
  },
  {
   "cell_type": "code",
   "execution_count": 97,
   "metadata": {},
   "outputs": [
    {
     "ename": "ValueError",
     "evalue": "All arrays must be of the same length",
     "output_type": "error",
     "traceback": [
      "\u001b[0;31m---------------------------------------------------------------------------\u001b[0m",
      "\u001b[0;31mValueError\u001b[0m                                Traceback (most recent call last)",
      "\u001b[1;32m/Users/caoanjie/Desktop/projects/model/model/GRANCH_python/timing_pyGRANCH.ipynb Cell 14\u001b[0m in \u001b[0;36m<cell line: 4>\u001b[0;34m()\u001b[0m\n\u001b[1;32m      <a href='vscode-notebook-cell:/Users/caoanjie/Desktop/projects/model/model/GRANCH_python/timing_pyGRANCH.ipynb#W6sZmlsZQ%3D%3D?line=0'>1</a>\u001b[0m grid_mu_steps \u001b[39m=\u001b[39m [\u001b[39m2\u001b[39m,\u001b[39m5\u001b[39m,\u001b[39m11\u001b[39m,\u001b[39m20\u001b[39m,\u001b[39m50\u001b[39m,\u001b[39m100\u001b[39m]\n\u001b[1;32m      <a href='vscode-notebook-cell:/Users/caoanjie/Desktop/projects/model/model/GRANCH_python/timing_pyGRANCH.ipynb#W6sZmlsZQ%3D%3D?line=1'>2</a>\u001b[0m time \u001b[39m=\u001b[39m \u001b[39mlist\u001b[39m(\u001b[39mmap\u001b[39m(\u001b[39mlambda\u001b[39;00m x: x[\u001b[39m1\u001b[39m], all_ps_res))\n\u001b[0;32m----> <a href='vscode-notebook-cell:/Users/caoanjie/Desktop/projects/model/model/GRANCH_python/timing_pyGRANCH.ipynb#W6sZmlsZQ%3D%3D?line=3'>4</a>\u001b[0m res \u001b[39m=\u001b[39m pd\u001b[39m.\u001b[39;49mDataFrame({\n\u001b[1;32m      <a href='vscode-notebook-cell:/Users/caoanjie/Desktop/projects/model/model/GRANCH_python/timing_pyGRANCH.ipynb#W6sZmlsZQ%3D%3D?line=4'>5</a>\u001b[0m     \u001b[39m\"\u001b[39;49m\u001b[39mgrid_mu_step\u001b[39;49m\u001b[39m\"\u001b[39;49m: grid_mu_steps,\n\u001b[1;32m      <a href='vscode-notebook-cell:/Users/caoanjie/Desktop/projects/model/model/GRANCH_python/timing_pyGRANCH.ipynb#W6sZmlsZQ%3D%3D?line=5'>6</a>\u001b[0m     \u001b[39m\"\u001b[39;49m\u001b[39mtime\u001b[39;49m\u001b[39m\"\u001b[39;49m: time\n\u001b[1;32m      <a href='vscode-notebook-cell:/Users/caoanjie/Desktop/projects/model/model/GRANCH_python/timing_pyGRANCH.ipynb#W6sZmlsZQ%3D%3D?line=6'>7</a>\u001b[0m })\n\u001b[1;32m      <a href='vscode-notebook-cell:/Users/caoanjie/Desktop/projects/model/model/GRANCH_python/timing_pyGRANCH.ipynb#W6sZmlsZQ%3D%3D?line=8'>9</a>\u001b[0m res\u001b[39m.\u001b[39mplot\u001b[39m.\u001b[39mline(x \u001b[39m=\u001b[39m \u001b[39m\"\u001b[39m\u001b[39mgrid_mu_step\u001b[39m\u001b[39m\"\u001b[39m, y \u001b[39m=\u001b[39m \u001b[39m\"\u001b[39m\u001b[39mtime\u001b[39m\u001b[39m\"\u001b[39m)\n",
      "File \u001b[0;32m/Library/Frameworks/Python.framework/Versions/3.10/lib/python3.10/site-packages/pandas/core/frame.py:636\u001b[0m, in \u001b[0;36mDataFrame.__init__\u001b[0;34m(self, data, index, columns, dtype, copy)\u001b[0m\n\u001b[1;32m    630\u001b[0m     mgr \u001b[39m=\u001b[39m \u001b[39mself\u001b[39m\u001b[39m.\u001b[39m_init_mgr(\n\u001b[1;32m    631\u001b[0m         data, axes\u001b[39m=\u001b[39m{\u001b[39m\"\u001b[39m\u001b[39mindex\u001b[39m\u001b[39m\"\u001b[39m: index, \u001b[39m\"\u001b[39m\u001b[39mcolumns\u001b[39m\u001b[39m\"\u001b[39m: columns}, dtype\u001b[39m=\u001b[39mdtype, copy\u001b[39m=\u001b[39mcopy\n\u001b[1;32m    632\u001b[0m     )\n\u001b[1;32m    634\u001b[0m \u001b[39melif\u001b[39;00m \u001b[39misinstance\u001b[39m(data, \u001b[39mdict\u001b[39m):\n\u001b[1;32m    635\u001b[0m     \u001b[39m# GH#38939 de facto copy defaults to False only in non-dict cases\u001b[39;00m\n\u001b[0;32m--> 636\u001b[0m     mgr \u001b[39m=\u001b[39m dict_to_mgr(data, index, columns, dtype\u001b[39m=\u001b[39;49mdtype, copy\u001b[39m=\u001b[39;49mcopy, typ\u001b[39m=\u001b[39;49mmanager)\n\u001b[1;32m    637\u001b[0m \u001b[39melif\u001b[39;00m \u001b[39misinstance\u001b[39m(data, ma\u001b[39m.\u001b[39mMaskedArray):\n\u001b[1;32m    638\u001b[0m     \u001b[39mimport\u001b[39;00m \u001b[39mnumpy\u001b[39;00m\u001b[39m.\u001b[39;00m\u001b[39mma\u001b[39;00m\u001b[39m.\u001b[39;00m\u001b[39mmrecords\u001b[39;00m \u001b[39mas\u001b[39;00m \u001b[39mmrecords\u001b[39;00m\n",
      "File \u001b[0;32m/Library/Frameworks/Python.framework/Versions/3.10/lib/python3.10/site-packages/pandas/core/internals/construction.py:502\u001b[0m, in \u001b[0;36mdict_to_mgr\u001b[0;34m(data, index, columns, dtype, typ, copy)\u001b[0m\n\u001b[1;32m    494\u001b[0m     arrays \u001b[39m=\u001b[39m [\n\u001b[1;32m    495\u001b[0m         x\n\u001b[1;32m    496\u001b[0m         \u001b[39mif\u001b[39;00m \u001b[39mnot\u001b[39;00m \u001b[39mhasattr\u001b[39m(x, \u001b[39m\"\u001b[39m\u001b[39mdtype\u001b[39m\u001b[39m\"\u001b[39m) \u001b[39mor\u001b[39;00m \u001b[39mnot\u001b[39;00m \u001b[39misinstance\u001b[39m(x\u001b[39m.\u001b[39mdtype, ExtensionDtype)\n\u001b[1;32m    497\u001b[0m         \u001b[39melse\u001b[39;00m x\u001b[39m.\u001b[39mcopy()\n\u001b[1;32m    498\u001b[0m         \u001b[39mfor\u001b[39;00m x \u001b[39min\u001b[39;00m arrays\n\u001b[1;32m    499\u001b[0m     ]\n\u001b[1;32m    500\u001b[0m     \u001b[39m# TODO: can we get rid of the dt64tz special case above?\u001b[39;00m\n\u001b[0;32m--> 502\u001b[0m \u001b[39mreturn\u001b[39;00m arrays_to_mgr(arrays, columns, index, dtype\u001b[39m=\u001b[39;49mdtype, typ\u001b[39m=\u001b[39;49mtyp, consolidate\u001b[39m=\u001b[39;49mcopy)\n",
      "File \u001b[0;32m/Library/Frameworks/Python.framework/Versions/3.10/lib/python3.10/site-packages/pandas/core/internals/construction.py:120\u001b[0m, in \u001b[0;36marrays_to_mgr\u001b[0;34m(arrays, columns, index, dtype, verify_integrity, typ, consolidate)\u001b[0m\n\u001b[1;32m    117\u001b[0m \u001b[39mif\u001b[39;00m verify_integrity:\n\u001b[1;32m    118\u001b[0m     \u001b[39m# figure out the index, if necessary\u001b[39;00m\n\u001b[1;32m    119\u001b[0m     \u001b[39mif\u001b[39;00m index \u001b[39mis\u001b[39;00m \u001b[39mNone\u001b[39;00m:\n\u001b[0;32m--> 120\u001b[0m         index \u001b[39m=\u001b[39m _extract_index(arrays)\n\u001b[1;32m    121\u001b[0m     \u001b[39melse\u001b[39;00m:\n\u001b[1;32m    122\u001b[0m         index \u001b[39m=\u001b[39m ensure_index(index)\n",
      "File \u001b[0;32m/Library/Frameworks/Python.framework/Versions/3.10/lib/python3.10/site-packages/pandas/core/internals/construction.py:674\u001b[0m, in \u001b[0;36m_extract_index\u001b[0;34m(data)\u001b[0m\n\u001b[1;32m    672\u001b[0m lengths \u001b[39m=\u001b[39m \u001b[39mlist\u001b[39m(\u001b[39mset\u001b[39m(raw_lengths))\n\u001b[1;32m    673\u001b[0m \u001b[39mif\u001b[39;00m \u001b[39mlen\u001b[39m(lengths) \u001b[39m>\u001b[39m \u001b[39m1\u001b[39m:\n\u001b[0;32m--> 674\u001b[0m     \u001b[39mraise\u001b[39;00m \u001b[39mValueError\u001b[39;00m(\u001b[39m\"\u001b[39m\u001b[39mAll arrays must be of the same length\u001b[39m\u001b[39m\"\u001b[39m)\n\u001b[1;32m    676\u001b[0m \u001b[39mif\u001b[39;00m have_dicts:\n\u001b[1;32m    677\u001b[0m     \u001b[39mraise\u001b[39;00m \u001b[39mValueError\u001b[39;00m(\n\u001b[1;32m    678\u001b[0m         \u001b[39m\"\u001b[39m\u001b[39mMixing dicts with non-Series may lead to ambiguous ordering.\u001b[39m\u001b[39m\"\u001b[39m\n\u001b[1;32m    679\u001b[0m     )\n",
      "\u001b[0;31mValueError\u001b[0m: All arrays must be of the same length"
     ]
    }
   ],
   "source": [
    "\n",
    "grid_mu_steps = [2,5,11,20,50,100]\n",
    "time = list(map(lambda x: x[1], all_ps_res))\n",
    "\n",
    "res = pd.DataFrame({\n",
    "    \"grid_mu_step\": grid_mu_steps,\n",
    "    \"time\": time\n",
    "})\n",
    "\n",
    "res.plot.line(x = \"grid_mu_step\", y = \"time\")\n"
   ]
  },
  {
   "cell_type": "code",
   "execution_count": 179,
   "metadata": {},
   "outputs": [
    {
     "data": {
      "text/plain": [
       "<AxesSubplot:xlabel='t', ylabel='EIG'>"
      ]
     },
     "execution_count": 179,
     "metadata": {},
     "output_type": "execute_result"
    },
    {
     "data": {
      "image/png": "[encoded data removed]",
      "text/plain": [
       "<Figure size 432x288 with 1 Axes>"
      ]
     },
     "metadata": {
      "needs_background": "light"
     },
     "output_type": "display_data"
    }
   ],
   "source": [
    "sns.lineplot(x='t', y='EIG', hue='grid_step', \n",
    "             data=improved_timing)"
   ]
  },
  {
   "cell_type": "code",
   "execution_count": null,
   "metadata": {},
   "outputs": [
    {
     "name": "stderr",
     "output_type": "stream",
     "text": [
      "/Users/caoanjie/Desktop/projects/model/model/GRANCH_python/compute_prob.py:151: RuntimeWarning: divide by zero encountered in log\n",
      "  return np.log(res) if log else res\n",
      "/Users/caoanjie/Desktop/projects/model/model/GRANCH_python/compute_prob.py:151: RuntimeWarning: divide by zero encountered in log\n",
      "  return np.log(res) if log else res\n"
     ]
    },
    {
     "name": "stdout",
     "output_type": "stream",
     "text": [
      "Unexpected exception formatting exception. Falling back to standard exception\n"
     ]
    },
    {
     "name": "stderr",
     "output_type": "stream",
     "text": [
      "Traceback (most recent call last):\n",
      "  File \"/Library/Frameworks/Python.framework/Versions/3.10/lib/python3.10/site-packages/IPython/core/interactiveshell.py\", line 3398, in run_code\n",
      "    exec(code_obj, self.user_global_ns, self.user_ns)\n",
      "  File \"/var/folders/1y/l17j6svd6jq5_j5s7s92yh8m0000gn/T/ipykernel_83870/1363847840.py\", line 33, in <cell line: 32>\n",
      "    t = run_everything()\n",
      "  File \"/var/folders/1y/l17j6svd6jq5_j5s7s92yh8m0000gn/T/ipykernel_83870/1363847840.py\", line 25, in run_everything\n",
      "    res = main_sim.granch_main_simulation(p, m, s)\n",
      "  File \"/Users/caoanjie/Desktop/projects/model/model/GRANCH_python/main_sim.py\", line 83, in granch_main_simulation\n",
      "    model.ps_likelihood = compute_prob.score_likelihood(model, params, hypothetical_obs=True)\n",
      "  File \"/Users/caoanjie/Desktop/projects/model/model/GRANCH_python/compute_prob.py\", line 107, in score_likelihood\n",
      "    likelihood = helper.group_by_logsumexp(grouping_base, lp_z_given_mu_sig_sq_for_y)\n",
      "  File \"/Users/caoanjie/Desktop/projects/model/model/GRANCH_python/helper.py\", line 56, in group_by_logsumexp\n",
      "    (unique_index, unique_index_position) = (idx == idx.unique().unsqueeze(1)).nonzero(as_tuple = True)\n",
      "KeyboardInterrupt\n",
      "\n",
      "During handling of the above exception, another exception occurred:\n",
      "\n",
      "Traceback (most recent call last):\n",
      "  File \"/Library/Frameworks/Python.framework/Versions/3.10/lib/python3.10/site-packages/IPython/core/interactiveshell.py\", line 1993, in showtraceback\n",
      "    stb = self.InteractiveTB.structured_traceback(\n",
      "  File \"/Library/Frameworks/Python.framework/Versions/3.10/lib/python3.10/site-packages/IPython/core/ultratb.py\", line 1118, in structured_traceback\n",
      "    return FormattedTB.structured_traceback(\n",
      "  File \"/Library/Frameworks/Python.framework/Versions/3.10/lib/python3.10/site-packages/IPython/core/ultratb.py\", line 1012, in structured_traceback\n",
      "    return VerboseTB.structured_traceback(\n",
      "  File \"/Library/Frameworks/Python.framework/Versions/3.10/lib/python3.10/site-packages/IPython/core/ultratb.py\", line 865, in structured_traceback\n",
      "    formatted_exception = self.format_exception_as_a_whole(etype, evalue, etb, number_of_lines_of_context,\n",
      "  File \"/Library/Frameworks/Python.framework/Versions/3.10/lib/python3.10/site-packages/IPython/core/ultratb.py\", line 818, in format_exception_as_a_whole\n",
      "    frames.append(self.format_record(r))\n",
      "  File \"/Library/Frameworks/Python.framework/Versions/3.10/lib/python3.10/site-packages/IPython/core/ultratb.py\", line 736, in format_record\n",
      "    result += ''.join(_format_traceback_lines(frame_info.lines, Colors, self.has_colors, lvals))\n",
      "  File \"/Library/Frameworks/Python.framework/Versions/3.10/lib/python3.10/site-packages/stack_data/utils.py\", line 145, in cached_property_wrapper\n",
      "    value = obj.__dict__[self.func.__name__] = self.func(obj)\n",
      "  File \"/Library/Frameworks/Python.framework/Versions/3.10/lib/python3.10/site-packages/stack_data/core.py\", line 698, in lines\n",
      "    pieces = self.included_pieces\n",
      "  File \"/Library/Frameworks/Python.framework/Versions/3.10/lib/python3.10/site-packages/stack_data/utils.py\", line 145, in cached_property_wrapper\n",
      "    value = obj.__dict__[self.func.__name__] = self.func(obj)\n",
      "  File \"/Library/Frameworks/Python.framework/Versions/3.10/lib/python3.10/site-packages/stack_data/core.py\", line 649, in included_pieces\n",
      "    pos = scope_pieces.index(self.executing_piece)\n",
      "  File \"/Library/Frameworks/Python.framework/Versions/3.10/lib/python3.10/site-packages/stack_data/utils.py\", line 145, in cached_property_wrapper\n",
      "    value = obj.__dict__[self.func.__name__] = self.func(obj)\n",
      "  File \"/Library/Frameworks/Python.framework/Versions/3.10/lib/python3.10/site-packages/stack_data/core.py\", line 628, in executing_piece\n",
      "    return only(\n",
      "  File \"/Library/Frameworks/Python.framework/Versions/3.10/lib/python3.10/site-packages/executing/executing.py\", line 164, in only\n",
      "    raise NotOneValueFound('Expected one value, found 0')\n",
      "executing.executing.NotOneValueFound: Expected one value, found 0\n"
     ]
    }
   ],
   "source": [
    "def run_everything():\n",
    "  start_time = time.perf_counter()\n",
    "  p = init_params.granch_params(\n",
    "      grid_mu_theta = torch.linspace(start = -1, end = 1, steps = 11),\n",
    "      grid_sig_sq = torch.linspace(start = 0.001, end = 1.8, steps = 10), \n",
    "      grid_y = torch.linspace(start = -1, end = 1, steps = 11), \n",
    "      grid_epsilon =  torch.linspace(start = 0.001, end = 1.8, steps = 10), \n",
    "      hypothetical_obs_grid_n = 3, \n",
    "      mu_prior = 0.001,\n",
    "      V_prior = 0.001, \n",
    "      alpha_prior = 1, \n",
    "      beta_prior = 1,\n",
    "      epsilon  = 0.000001, \n",
    "      mu_epsilon = torch.tensor([0.001]), \n",
    "      sd_epsilon = torch.tensor([4]), \n",
    "      world_EIGs = 0.0001,\n",
    "      max_observation = 500)\n",
    "  p.add_meshed_grid()\n",
    "  p.add_lp_mu_sig_sq()\n",
    "  p.add_y_given_mu_sig_sq()\n",
    "  p.add_lp_epsilon()\n",
    "  p.add_priors()\n",
    "  s = init_model.granch_stimuli(1, 'BBBBBB')\n",
    "  m = init_model.granch_model(500, s)\n",
    "  res = main_sim.granch_main_simulation(p, m, s)\n",
    "  end_time = time.perf_counter()\n",
    "  return(end_time - start_time)\n",
    "\n",
    "\n",
    "\n",
    "timing = [] \n",
    "for x in range(50):\n",
    "  t = run_everything()\n",
    "  timing.append(t)\n",
    "\n"
   ]
  },
  {
   "cell_type": "code",
   "execution_count": null,
   "metadata": {},
   "outputs": [
    {
     "data": {
      "text/plain": [
       "<AxesSubplot:xlabel='sim_id'>"
      ]
     },
     "execution_count": 16,
     "metadata": {},
     "output_type": "execute_result"
    },
    {
     "data": {
      "image/png": "[encoded data removed]",
      "text/plain": [
       "<Figure size 432x288 with 1 Axes>"
      ]
     },
     "metadata": {
      "needs_background": "light"
     },
     "output_type": "display_data"
    }
   ],
   "source": [
    "t_df = pd.DataFrame({\"timing\": timing})\n",
    "t_df.index.name = 'sim_id'\n",
    "t_df.reset_index(inplace=True)\n",
    "\n",
    "t_df.plot.line(x = \"sim_id\", y = \"timing\")"
   ]
  },
  {
   "cell_type": "code",
   "execution_count": null,
   "metadata": {},
   "outputs": [],
   "source": []
  }
 ],
 "metadata": {
  "kernelspec": {
   "display_name": "Python 3.10.5 64-bit",
   "language": "python",
   "name": "python3"
  },
  "language_info": {
   "codemirror_mode": {
    "name": "ipython",
    "version": 3
   },
   "file_extension": ".py",
   "mimetype": "text/x-python",
   "name": "python",
   "nbconvert_exporter": "python",
   "pygments_lexer": "ipython3",
   "version": "3.10.5"
  },
  "orig_nbformat": 4,
  "vscode": {
   "interpreter": {
    "hash": "7e1998ff7f8aa20ada591c520b972326324e5ea05489af9e422744c7c09f6dad"
   }
  }
 },
 "nbformat": 4,
 "nbformat_minor": 2
}
