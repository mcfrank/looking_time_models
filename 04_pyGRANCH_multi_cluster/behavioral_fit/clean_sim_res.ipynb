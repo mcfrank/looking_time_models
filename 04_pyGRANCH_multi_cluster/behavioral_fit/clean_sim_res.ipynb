{
 "cells": [
  {
   "cell_type": "code",
   "execution_count": 8,
   "metadata": {},
   "outputs": [],
   "source": [
    "import os\n",
    "import pickle\n",
    "import pandas as pd\n"
   ]
  },
  {
   "cell_type": "code",
   "execution_count": 20,
   "metadata": {},
   "outputs": [
    {
     "name": "stdout",
     "output_type": "stream",
     "text": [
      "['10-06-17:00:30.427-spore-adult.pickle', '10-06-16:54:12.107-spore-adult.pickle', '10-06-16:57:01.404-spore-adult.pickle', '10-06-17:02:10.463-spore-adult.pickle', '10-06-17:06:05.902-spore-adult.pickle', '10-06-17:07:47.915-spore-adult.pickle', '10-06-17:01:32.802-spore-adult.pickle', '10-06-17:01:09.812-spore-adult.pickle', '10-06-17:02:57.692-spore-adult.pickle', '10-06-16:53:31.311-spore-adult.pickle', '10-06-17:05:33.945-spore-adult.pickle', '10-06-16:50:28.533-spore-adult.pickle', '10-06-16:55:52.435-spore-adult.pickle', '10-06-16:54:19.484-spore-adult.pickle', '10-06-17:05:25.538-spore-adult.pickle', '10-06-16:58:50.707-spore-adult.pickle', '10-06-16:50:57.661-spore-adult.pickle', '10-06-16:53:24.052-spore-adult.pickle', '10-06-16:59:50.469-spore-adult.pickle', '10-06-16:58:36.047-spore-adult.pickle', '10-06-16:55:16.829-spore-adult.pickle', '10-06-16:59:12.273-spore-adult.pickle', '10-06-16:57:07.616-spore-adult.pickle', '10-06-16:50:22.282-spore-adult.pickle', '10-06-16:58:43.723-spore-adult.pickle', '10-06-17:05:13.344-spore-adult.pickle', '10-06-17:00:36.968-spore-adult.pickle', '10-06-16:48:52.533-spore-adult.pickle', '10-06-17:03:22.798-spore-adult.pickle', '10-06-16:51:21.323-spore-adult.pickle', '10-06-17:03:48.929-spore-adult.pickle', '10-06-16:57:29.231-spore-adult.pickle', '10-06-16:56:23.009-spore-adult.pickle', '10-06-16:49:49.662-spore-adult.pickle', '10-06-16:50:42.225-spore-adult.pickle', '10-06-17:05:06.579-spore-adult.pickle', '10-06-16:53:16.290-spore-adult.pickle', '10-06-16:57:56.035-spore-adult.pickle', '10-06-16:50:10.178-spore-adult.pickle', '10-06-17:05:42.017-spore-adult.pickle', '10-06-17:01:50.395-spore-adult.pickle', '10-06-16:54:02.304-spore-adult.pickle', '10-06-17:07:41.266-spore-adult.pickle', '10-06-17:02:30.210-spore-adult.pickle', '10-06-16:51:28.280-spore-adult.pickle', '10-06-17:00:53.013-spore-adult.pickle', '10-06-16:56:44.914-spore-adult.pickle', '10-06-16:56:29.591-spore-adult.pickle', '10-06-16:48:43.756-spore-adult.pickle', '10-06-17:00:22.281-spore-adult.pickle', '10-06-16:58:19.694-spore-adult.pickle', '10-06-17:07:34.306-spore-adult.pickle', '10-06-16:57:20.438-spore-adult.pickle', '10-06-16:52:20.907-spore-adult.pickle', '10-06-17:07:05.037-spore-adult.pickle', '10-06-17:01:02.546-spore-adult.pickle', '10-06-16:59:43.819-spore-adult.pickle', '10-06-16:55:37.835-spore-adult.pickle', '10-06-17:06:39.317-spore-adult.pickle', '10-06-16:55:59.175-spore-adult.pickle', '10-06-17:05:00.537-spore-adult.pickle', '10-06-16:51:04.503-spore-adult.pickle', '10-06-16:49:06.020-spore-adult.pickle', '10-06-16:52:48.522-spore-adult.pickle', '10-06-16:53:49.130-spore-adult.pickle', '10-06-17:02:24.556-spore-adult.pickle', '10-06-17:03:40.812-spore-adult.pickle', '10-06-16:48:37.276-spore-adult.pickle', '10-06-17:02:36.908-spore-adult.pickle', '10-06-16:52:42.293-spore-adult.pickle', '10-06-17:02:16.959-spore-adult.pickle', '10-06-16:48:29.702-spore-adult.pickle', '10-06-17:06:28.935-spore-adult.pickle', '10-06-17:00:03.477-spore-adult.pickle', '10-06-17:04:37.475-spore-adult.pickle', '10-06-16:51:13.189-spore-adult.pickle', '10-06-17:04:22.940-spore-adult.pickle', '10-06-16:58:04.404-spore-adult.pickle', '10-06-17:05:49.452-spore-adult.pickle', '10-06-17:00:45.376-spore-adult.pickle', '10-06-16:54:27.870-spore-adult.pickle', '10-06-17:06:47.116-spore-adult.pickle', '10-06-16:52:26.817-spore-adult.pickle', '10-06-16:52:55.842-spore-adult.pickle', '10-06-17:01:57.885-spore-adult.pickle', '10-06-16:49:55.626-spore-adult.pickle', '10-06-17:07:26.339-spore-adult.pickle', '10-06-17:03:56.213-spore-adult.pickle', '10-06-16:54:41.611-spore-adult.pickle', '10-06-16:50:34.713-spore-adult.pickle', '10-06-16:48:22.427-spore-adult.pickle', '10-06-16:51:43.883-spore-adult.pickle', '10-06-16:56:08.489-spore-adult.pickle', '10-06-17:01:24.465-spore-adult.pickle', '10-06-17:01:17.038-spore-adult.pickle', '10-06-16:59:04.996-spore-adult.pickle', '10-06-16:49:43.564-spore-adult.pickle', '10-06-16:55:02.596-spore-adult.pickle', '10-06-16:51:35.479-spore-adult.pickle', '10-06-16:56:37.605-spore-adult.pickle', '10-06-17:04:44.250-spore-adult.pickle', '10-06-16:58:11.623-spore-adult.pickle', '10-06-16:54:35.034-spore-adult.pickle', '10-06-16:57:14.253-spore-adult.pickle', '10-06-17:02:04.160-spore-adult.pickle', '10-06-16:57:43.533-spore-adult.pickle', '10-06-16:55:29.983-spore-adult.pickle', '10-06-16:48:59.745-spore-adult.pickle', '10-06-17:00:09.754-spore-adult.pickle', '10-06-17:03:14.912-spore-adult.pickle', '10-06-17:04:31.213-spore-adult.pickle', '10-06-16:59:57.887-spore-adult.pickle', '10-06-16:58:27.333-spore-adult.pickle', '10-06-17:06:14.120-spore-adult.pickle', '10-06-17:03:32.850-spore-adult.pickle', '10-06-16:59:37.497-spore-adult.pickle', '10-06-16:49:36.049-spore-adult.pickle', '10-06-17:08:01.954-spore-adult.pickle', '10-06-17:00:15.746-spore-adult.pickle', '10-06-17:04:51.847-spore-adult.pickle', '10-06-16:51:59.932-spore-adult.pickle', '10-06-16:55:44.563-spore-adult.pickle', '10-06-17:05:56.766-spore-adult.pickle', '10-06-16:52:35.588-spore-adult.pickle', '10-06-16:55:23.995-spore-adult.pickle', '10-06-16:51:51.170-spore-adult.pickle', '10-06-16:49:12.020-spore-adult.pickle', '10-06-16:55:09.274-spore-adult.pickle', '10-06-16:50:02.136-spore-adult.pickle', '10-06-17:02:45.080-spore-adult.pickle', '10-06-16:49:19.832-spore-adult.pickle', '10-06-17:04:12.962-spore-adult.pickle', '10-06-16:52:14.925-spore-adult.pickle', '10-06-17:05:20.041-spore-adult.pickle', '10-06-16:59:21.465-spore-adult.pickle', '10-06-17:06:21.428-spore-adult.pickle', '10-06-16:54:48.054-spore-adult.pickle', '10-06-16:59:29.607-spore-adult.pickle', '10-06-16:58:57.323-spore-adult.pickle', '10-06-16:49:27.921-spore-adult.pickle', '10-06-17:02:49.747-spore-adult.pickle', '10-06-17:06:55.334-spore-adult.pickle', '10-06-17:01:41.353-spore-adult.pickle', '10-06-16:57:35.711-spore-adult.pickle', '10-06-16:57:50.467-spore-adult.pickle', '10-06-17:07:11.184-spore-adult.pickle', '10-06-16:50:15.976-spore-adult.pickle', '10-06-16:52:07.734-spore-adult.pickle', '10-06-16:50:49.038-spore-adult.pickle', '10-06-17:04:04.167-spore-adult.pickle', '10-06-16:56:15.797-spore-adult.pickle', '10-06-17:03:05.591-spore-adult.pickle', '10-06-16:53:01.402-spore-adult.pickle', '10-06-17:07:55.905-spore-adult.pickle', '10-06-17:07:18.432-spore-adult.pickle', '10-06-16:53:41.184-spore-adult.pickle', '10-06-16:54:54.349-spore-adult.pickle', '10-06-16:53:55.779-spore-adult.pickle', '10-06-16:56:53.932-spore-adult.pickle', '10-06-16:53:09.313-spore-adult.pickle']\n"
     ]
    }
   ],
   "source": [
    "\n",
    "\n",
    "def load_and_concatenate_pickles(directory):\n",
    "    # List all files in the directory\n",
    "    files = [f for f in os.listdir(directory) if f.endswith('.pickle')]\n",
    "    print(files)\n",
    "    # Load and append each pickle file's content\n",
    "    data_list = []\n",
    "    for file in files:\n",
    "        with open(os.path.join(directory, file), 'rb') as f:\n",
    "            #data = pickle.load(f)\n",
    "            data = pd.read_pickle(f)\n",
    "            data['file_id'] = file\n",
    "            data_list.append(data)\n",
    "\n",
    "    # Concatenate all data (assuming they are pandas DataFrames)\n",
    "    concatenated_data = pd.concat(data_list, ignore_index=True)\n",
    "\n",
    "    return concatenated_data\n",
    "\n",
    "directory = 'cache_results/'\n",
    "result = load_and_concatenate_pickles(directory)\n"
   ]
  },
  {
   "cell_type": "code",
   "execution_count": 33,
   "metadata": {},
   "outputs": [],
   "source": [
    "# drop rows that cnontain empty values \n",
    "result_clean = result.dropna(subset=['EIG'])\n",
    "#result_clean\n",
    "summarize_res = result_clean.groupby([\"j_i\", \"file_id\", \"stim_squence\", \"stimulus_id\", \"b_val\", \"d_val\", \"complexity_type\"]).size().reset_index(name='n')\n",
    "\n",
    "summarize_res.to_csv(\"multifeature_test.csv\")"
   ]
  },
  {
   "cell_type": "code",
   "execution_count": null,
   "metadata": {},
   "outputs": [],
   "source": []
  }
 ],
 "metadata": {
  "kernelspec": {
   "display_name": "Python 3",
   "language": "python",
   "name": "python3"
  },
  "language_info": {
   "codemirror_mode": {
    "name": "ipython",
    "version": 3
   },
   "file_extension": ".py",
   "mimetype": "text/x-python",
   "name": "python",
   "nbconvert_exporter": "python",
   "pygments_lexer": "ipython3",
   "version": "3.10.5"
  },
  "orig_nbformat": 4
 },
 "nbformat": 4,
 "nbformat_minor": 2
}
