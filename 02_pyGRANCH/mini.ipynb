{
 "cells": [
  {
   "cell_type": "code",
   "execution_count": 10,
   "metadata": {},
   "outputs": [
    {
     "data": {
      "text/plain": [
       "<module 'granch_utils.main_sim_tensor' from '/Users/caoanjie/Desktop/projects/looking_time_models/02_pyGRANCH/granch_utils/main_sim_tensor.py'>"
      ]
     },
     "execution_count": 10,
     "metadata": {},
     "output_type": "execute_result"
    }
   ],
   "source": [
    "import numpy as np\n",
    "import torch \n",
    "import pyro\n",
    "import re\n",
    "import pandas as pd\n",
    "\n",
    "import importlib\n",
    "import time\n",
    "import pickle\n",
    "\n",
    "from granch_utils import init_model_tensor, main_sim_tensor, compute_prob_tensor, init_params_tensor, num_stab_help\n",
    "#importlib.reload(granch_utils)\n",
    "importlib.reload(num_stab_help)\n",
    "importlib.reload(init_model_tensor)\n",
    "importlib.reload(main_sim_tensor)"
   ]
  },
  {
   "cell_type": "code",
   "execution_count": 11,
   "metadata": {},
   "outputs": [
    {
     "name": "stdout",
     "output_type": "stream",
     "text": [
      "[<granch_utils.init_model_tensor.granch_stimuli object at 0x1047e9f90>, <granch_utils.init_model_tensor.granch_stimuli object at 0x1047e9d20>, <granch_utils.init_model_tensor.granch_stimuli object at 0x1045799f0>, <granch_utils.init_model_tensor.granch_stimuli object at 0x17f1728c0>, <granch_utils.init_model_tensor.granch_stimuli object at 0x17f394880>, <granch_utils.init_model_tensor.granch_stimuli object at 0x17f397520>, <granch_utils.init_model_tensor.granch_stimuli object at 0x17f395210>, <granch_utils.init_model_tensor.granch_stimuli object at 0x17f171870>]\n"
     ]
    },
    {
     "name": "stderr",
     "output_type": "stream",
     "text": [
      "/Users/caoanjie/Desktop/projects/looking_time_models/02_pyGRANCH/granch_utils/init_model_tensor.py:279: FutureWarning: Setting an item of incompatible dtype is deprecated and will raise in a future error of pandas. Value '0.1445058360791159' has dtype incompatible with int64, please explicitly cast to a compatible dtype first.\n",
      "  self.all_observations.loc[self.current_t]  = Normal(current_stimulus, noise_epsilon).sample().tolist()\n"
     ]
    },
    {
     "name": "stdout",
     "output_type": "stream",
     "text": [
      "    stimulus_id       EIG Look_away\n",
      "0             0  3.186637     False\n",
      "1             0  1.410029     False\n",
      "2             0  0.412187      True\n",
      "3             1  0.488702     False\n",
      "4             1  0.143867     False\n",
      "..          ...       ...       ...\n",
      "495         NaN       NaN       NaN\n",
      "496         NaN       NaN       NaN\n",
      "497         NaN       NaN       NaN\n",
      "498         NaN       NaN       NaN\n",
      "499         NaN       NaN       NaN\n",
      "\n",
      "[500 rows x 3 columns]\n"
     ]
    }
   ],
   "source": [
    "importlib.reload(main_sim_tensor)\n",
    "device = 'cuda' if torch.cuda.is_available() else 'cpu'\n",
    "\n",
    "BATCH_INFO = {\n",
    "    \"jitter_n\": 1, \n",
    "    \"total_batch_n\": 1, \n",
    "    \"jitter_mode\": \"sampling\"\n",
    "}\n",
    "\n",
    "GRID_INFO = {\n",
    "    \"grid_mu_start\": -4, \"grid_mu_end\": 4, \"grid_mu_step\": 20, \n",
    "    \"grid_sigma_start\": 0.001, \"grid_sigma_end\": 1.8, \"grid_sigma_step\": 20, \n",
    "    \"grid_y_start\": -4, \"grid_y_end\": 4, \"grid_y_step\": 20, \n",
    "    \"grid_epsilon_start\": 0.001, \"grid_epsilon_end\": 1.8, \"grid_epsilon_step\": 20, \n",
    "    \"hypothetical_obs_grid_n\": 10\n",
    "}\n",
    "\n",
    "\n",
    "BATCH_GRID_INFO = num_stab_help.get_batch_grid(BATCH_INFO, GRID_INFO)\n",
    "\n",
    "PRIOR_INFO = {\n",
    "    \"mu_prior\": 0,  \n",
    "    \"V_prior\": 3, \n",
    "    \"alpha_prior\": 1, \n",
    "    \"beta_prior\": 2, \n",
    "    \"epsilon\": 0.001, \"mu_epsilon\": 0.001, \"sd_epsilon\": 4, \n",
    "    \"hypothetical_obs_grid_n\": 10, \n",
    "    \"world_EIGs\": 0.0001, \"max_observation\": 500\n",
    "}\n",
    "\n",
    "tensor_stimuli = num_stab_help.sample_spore_experiment(1)\n",
    "\n",
    "tensor_model =  init_model_tensor.granch_model(PRIOR_INFO['max_observation'], tensor_stimuli[0])\n",
    "\n",
    "print(tensor_stimuli)\n",
    "params = init_params_tensor.granch_params(\n",
    "                grid_mu =  BATCH_GRID_INFO[\"grid_mus\"][0].to(device),\n",
    "                grid_sigma = BATCH_GRID_INFO[\"grid_sigmas\"][0].to(device),\n",
    "                grid_y = BATCH_GRID_INFO[\"grid_ys\"][0].to(device),\n",
    "                grid_epsilon = BATCH_GRID_INFO[\"grid_epsilons\"][0].to(device),\n",
    "                hypothetical_obs_grid_n = PRIOR_INFO[\"hypothetical_obs_grid_n\"], \n",
    "                mu_prior = PRIOR_INFO[\"mu_prior\"],\n",
    "                V_prior = PRIOR_INFO[\"V_prior\"], \n",
    "                alpha_prior = PRIOR_INFO[\"alpha_prior\"], \n",
    "                beta_prior = PRIOR_INFO[\"beta_prior\"],\n",
    "                epsilon  = PRIOR_INFO[\"epsilon\"], \n",
    "                mu_epsilon = PRIOR_INFO[\"mu_epsilon\"], \n",
    "                sd_epsilon = PRIOR_INFO[\"sd_epsilon\"], \n",
    "                world_EIGs = PRIOR_INFO[\"world_EIGs\"],\n",
    "                max_observation = PRIOR_INFO[\"max_observation\"], \n",
    "                forced_exposure_max= 3)\n",
    "        \n",
    "            # add the various different cached bits\n",
    "params.add_meshed_grid()\n",
    "params.add_lp_mu_sigma()\n",
    "params.add_y_given_mu_sigma()\n",
    "params.add_lp_epsilon()\n",
    "params.add_priors()\n",
    "\n",
    "res = main_sim_tensor.granch_main_simulation(params, tensor_model, tensor_stimuli[0])\n",
    "print(res.behavior)\n",
    "#main_sim_tensor.granch_main_simulation(PRIOR_INFO, tensor_model, tensor_stimuli)\n"
   ]
  }
 ],
 "metadata": {
  "kernelspec": {
   "display_name": "Python 3",
   "language": "python",
   "name": "python3"
  },
  "language_info": {
   "codemirror_mode": {
    "name": "ipython",
    "version": 3
   },
   "file_extension": ".py",
   "mimetype": "text/x-python",
   "name": "python",
   "nbconvert_exporter": "python",
   "pygments_lexer": "ipython3",
   "version": "3.10.5"
  },
  "orig_nbformat": 4
 },
 "nbformat": 4,
 "nbformat_minor": 2
}
