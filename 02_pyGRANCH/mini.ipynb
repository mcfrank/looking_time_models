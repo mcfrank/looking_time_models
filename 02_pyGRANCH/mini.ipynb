{
 "cells": [
  {
   "cell_type": "code",
   "execution_count": 1,
   "metadata": {},
   "outputs": [
    {
     "data": {
      "text/plain": [
       "<module 'granch_utils.main_sim_tensor' from '/Users/caoanjie/Desktop/projects/looking_time_models/02_pyGRANCH/granch_utils/main_sim_tensor.py'>"
      ]
     },
     "execution_count": 1,
     "metadata": {},
     "output_type": "execute_result"
    }
   ],
   "source": [
    "import numpy as np\n",
    "import torch \n",
    "import pyro\n",
    "import re\n",
    "import pandas as pd\n",
    "\n",
    "import seaborn as sns\n",
    "import importlib\n",
    "from plotnine import *\n",
    "import time\n",
    "import pickle\n",
    "\n",
    "from granch_utils import init_model_tensor, main_sim_tensor, compute_prob_tensor, init_params_tensor, num_stab_help\n",
    "#importlib.reload(granch_utils)\n",
    "importlib.reload(num_stab_help)\n",
    "importlib.reload(init_model_tensor)\n",
    "importlib.reload(main_sim_tensor)"
   ]
  },
  {
   "cell_type": "code",
   "execution_count": 2,
   "metadata": {},
   "outputs": [
    {
     "name": "stdout",
     "output_type": "stream",
     "text": [
      "{'total_batch_n': 1, 'jitter_n': 1, 'grid_mus': [tensor([-3.2303,  0.3490, -0.2922,  3.0763,  2.3303,  0.1790, -2.5570, -3.0810,\n",
      "         0.2531, -0.9656, -0.6828,  3.4679, -1.5345, -2.6278,  2.6447,  0.4291,\n",
      "        -2.6224,  0.9389,  2.7351, -0.9118])], 'grid_sigmas': [tensor([1.2718, 0.0663, 1.3698, 1.5920, 1.5505, 1.4414, 0.5247, 0.2465, 1.3000,\n",
      "        0.5274, 0.8754, 0.4979, 1.4275, 0.3750, 1.3072, 0.0271, 1.4195, 0.3924,\n",
      "        1.7746, 1.4666])], 'grid_ys': [tensor([ 1.0516, -3.9189, -0.2796,  1.6123, -3.8732, -1.4046, -2.8330,  0.4901,\n",
      "         0.5528,  1.7594,  1.2130,  3.0808,  0.7425,  3.3384, -3.6554, -2.9351,\n",
      "         2.1430,  3.9805,  0.2280, -2.6467])], 'grid_epsilons': [tensor([1.7119, 1.7640, 1.7517, 0.4069, 1.2638, 1.5843, 0.1613, 0.6149, 0.8493,\n",
      "        0.7823, 1.1638, 0.3095, 1.6392, 1.1876, 1.2245, 1.7107, 0.4989, 0.3608,\n",
      "        0.4227, 0.9957])]}\n",
      "t 0\n"
     ]
    },
    {
     "name": "stderr",
     "output_type": "stream",
     "text": [
      "/Library/Frameworks/Python.framework/Versions/3.10/lib/python3.10/site-packages/torch/functional.py:478: UserWarning: torch.meshgrid: in an upcoming release, it will be required to pass the indexing argument. (Triggered internally at  /Users/runner/work/pytorch/pytorch/pytorch/aten/src/ATen/native/TensorShape.cpp:2895.)\n"
     ]
    },
    {
     "name": "stdout",
     "output_type": "stream",
     "text": [
      "t 1\n",
      "t 2\n",
      "t 3\n",
      "t 4\n",
      "t 5\n",
      "t 6\n",
      "t 7\n",
      "t 8\n",
      "t 9\n",
      "t 10\n",
      "t 11\n",
      "t 12\n",
      "t 13\n",
      "t 14\n",
      "t 15\n",
      "t 16\n",
      "t 17\n",
      "t 18\n",
      "t 19\n",
      "t 20\n",
      "t 21\n",
      "t 22\n",
      "t 23\n",
      "t 24\n",
      "t 25\n",
      "    stimulus_id       EIG Look_away\n",
      "0             0  1.532124     False\n",
      "1             0  1.837647     False\n",
      "2             0  1.181162     False\n",
      "3             0  0.539963     False\n",
      "4             0  0.228852     False\n",
      "..          ...       ...       ...\n",
      "495         NaN       NaN       NaN\n",
      "496         NaN       NaN       NaN\n",
      "497         NaN       NaN       NaN\n",
      "498         NaN       NaN       NaN\n",
      "499         NaN       NaN       NaN\n",
      "\n",
      "[500 rows x 3 columns]\n"
     ]
    }
   ],
   "source": [
    "importlib.reload(main_sim_tensor)\n",
    "device = 'cuda' if torch.cuda.is_available() else 'cpu'\n",
    "\n",
    "BATCH_INFO = {\n",
    "    \"jitter_n\": 1, \n",
    "    \"total_batch_n\": 1, \n",
    "    \"jitter_mode\": \"sampling\"\n",
    "}\n",
    "\n",
    "GRID_INFO = {\n",
    "    \"grid_mu_start\": -4, \"grid_mu_end\": 4, \"grid_mu_step\": 20, \n",
    "    \"grid_sigma_start\": 0.001, \"grid_sigma_end\": 1.8, \"grid_sigma_step\": 20, \n",
    "    \"grid_y_start\": -4, \"grid_y_end\": 4, \"grid_y_step\": 20, \n",
    "    \"grid_epsilon_start\": 0.001, \"grid_epsilon_end\": 1.8, \"grid_epsilon_step\": 20, \n",
    "    \"hypothetical_obs_grid_n\": 10\n",
    "}\n",
    "\n",
    "\n",
    "BATCH_GRID_INFO = num_stab_help.get_batch_grid(BATCH_INFO, GRID_INFO)\n",
    "\n",
    "PRIOR_INFO = {\n",
    "    \"mu_prior\": 0,  \n",
    "    \"V_prior\": 3, \n",
    "    \"alpha_prior\": 1, \n",
    "    \"beta_prior\": 2, \n",
    "    \"epsilon\": 0.001, \"mu_epsilon\": 0.001, \"sd_epsilon\": 4, \n",
    "    \"hypothetical_obs_grid_n\": 10, \n",
    "    \"world_EIGs\": 0.0001, \"max_observation\": 500\n",
    "}\n",
    "\n",
    "tensor_stimuli = num_stab_help.sample_spore_experiment(1)\n",
    "\n",
    "tensor_model =  init_model_tensor.granch_model(PRIOR_INFO['max_observation'], tensor_stimuli[0])\n",
    "\n",
    "\n",
    "params = init_params_tensor.granch_params(\n",
    "                grid_mu =  BATCH_GRID_INFO[\"grid_mus\"][0].to(device),\n",
    "                grid_sigma = BATCH_GRID_INFO[\"grid_sigmas\"][0].to(device),\n",
    "                grid_y = BATCH_GRID_INFO[\"grid_ys\"][0].to(device),\n",
    "                grid_epsilon = BATCH_GRID_INFO[\"grid_epsilons\"][0].to(device),\n",
    "                hypothetical_obs_grid_n = PRIOR_INFO[\"hypothetical_obs_grid_n\"], \n",
    "                mu_prior = PRIOR_INFO[\"mu_prior\"],\n",
    "                V_prior = PRIOR_INFO[\"V_prior\"], \n",
    "                alpha_prior = PRIOR_INFO[\"alpha_prior\"], \n",
    "                beta_prior = PRIOR_INFO[\"beta_prior\"],\n",
    "                epsilon  = PRIOR_INFO[\"epsilon\"], \n",
    "                mu_epsilon = PRIOR_INFO[\"mu_epsilon\"], \n",
    "                sd_epsilon = PRIOR_INFO[\"sd_epsilon\"], \n",
    "                world_EIGs = PRIOR_INFO[\"world_EIGs\"],\n",
    "                max_observation = PRIOR_INFO[\"max_observation\"])\n",
    "        \n",
    "            # add the various different cached bits\n",
    "params.add_meshed_grid()\n",
    "params.add_lp_mu_sigma()\n",
    "params.add_y_given_mu_sigma()\n",
    "params.add_lp_epsilon()\n",
    "params.add_priors()\n",
    "\n",
    "res = main_sim_tensor.granch_main_simulation(params, tensor_model, tensor_stimuli[0])\n",
    "print(res.behavior)\n",
    "#main_sim_tensor.granch_main_simulation(PRIOR_INFO, tensor_model, tensor_stimuli)\n"
   ]
  }
 ],
 "metadata": {
  "kernelspec": {
   "display_name": "Python 3",
   "language": "python",
   "name": "python3"
  },
  "language_info": {
   "codemirror_mode": {
    "name": "ipython",
    "version": 3
   },
   "file_extension": ".py",
   "mimetype": "text/x-python",
   "name": "python",
   "nbconvert_exporter": "python",
   "pygments_lexer": "ipython3",
   "version": "3.10.5"
  },
  "orig_nbformat": 4
 },
 "nbformat": 4,
 "nbformat_minor": 2
}
