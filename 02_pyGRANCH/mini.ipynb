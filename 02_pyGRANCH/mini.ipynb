{
 "cells": [
  {
   "cell_type": "code",
   "execution_count": 55,
   "metadata": {},
   "outputs": [
    {
     "data": {
      "text/plain": [
       "<module 'granch_utils.lesioned_sim' from '/Users/caoanjie/Desktop/projects/looking_time_models/02_pyGRANCH/granch_utils/lesioned_sim.py'>"
      ]
     },
     "execution_count": 55,
     "metadata": {},
     "output_type": "execute_result"
    }
   ],
   "source": [
    "import numpy as np\n",
    "import torch \n",
    "import pyro\n",
    "import re\n",
    "import pandas as pd\n",
    "\n",
    "import importlib\n",
    "import time\n",
    "import pickle\n",
    "\n",
    "from granch_utils import init_model_tensor, main_sim_tensor, lesioned_sim, compute_prob_tensor, init_params_tensor, num_stab_help\n",
    "#importlib.reload(granch_utils)\n",
    "importlib.reload(num_stab_help)\n",
    "importlib.reload(init_model_tensor)\n",
    "importlib.reload(main_sim_tensor)\n",
    "importlib.reload(lesioned_sim)"
   ]
  },
  {
   "cell_type": "code",
   "execution_count": 112,
   "metadata": {},
   "outputs": [
    {
     "ename": "AttributeError",
     "evalue": "'granch_params' object has no attribute 'lp_epsilon'",
     "output_type": "error",
     "traceback": [
      "\u001b[0;31m---------------------------------------------------------------------------\u001b[0m",
      "\u001b[0;31mAttributeError\u001b[0m                            Traceback (most recent call last)",
      "\u001b[1;32m/Users/caoanjie/Desktop/projects/looking_time_models/02_pyGRANCH/mini.ipynb Cell 2\u001b[0m line \u001b[0;36m5\n\u001b[1;32m     <a href='vscode-notebook-cell:/Users/caoanjie/Desktop/projects/looking_time_models/02_pyGRANCH/mini.ipynb#W1sZmlsZQ%3D%3D?line=56'>57</a>\u001b[0m params\u001b[39m.\u001b[39madd_y_given_mu_sigma()\n\u001b[1;32m     <a href='vscode-notebook-cell:/Users/caoanjie/Desktop/projects/looking_time_models/02_pyGRANCH/mini.ipynb#W1sZmlsZQ%3D%3D?line=57'>58</a>\u001b[0m \u001b[39m#params.add_lp_epsilon()\u001b[39;00m\n\u001b[0;32m---> <a href='vscode-notebook-cell:/Users/caoanjie/Desktop/projects/looking_time_models/02_pyGRANCH/mini.ipynb#W1sZmlsZQ%3D%3D?line=58'>59</a>\u001b[0m params\u001b[39m.\u001b[39;49madd_priors()\n\u001b[1;32m     <a href='vscode-notebook-cell:/Users/caoanjie/Desktop/projects/looking_time_models/02_pyGRANCH/mini.ipynb#W1sZmlsZQ%3D%3D?line=60'>61</a>\u001b[0m \u001b[39m#res = main_sim_tensor.granch_main_simulation(params, tensor_model, tensor_stimuli[0])\u001b[39;00m\n\u001b[1;32m     <a href='vscode-notebook-cell:/Users/caoanjie/Desktop/projects/looking_time_models/02_pyGRANCH/mini.ipynb#W1sZmlsZQ%3D%3D?line=61'>62</a>\u001b[0m \u001b[39m#res = lesioned_sim.granch_no_learning_simulation(params, tensor_model, tensor_stimuli[0])\u001b[39;00m\n\u001b[1;32m     <a href='vscode-notebook-cell:/Users/caoanjie/Desktop/projects/looking_time_models/02_pyGRANCH/mini.ipynb#W1sZmlsZQ%3D%3D?line=62'>63</a>\u001b[0m res \u001b[39m=\u001b[39m lesioned_sim\u001b[39m.\u001b[39mgranch_no_noise_simulation(params, tensor_model, tensor_stimuli[\u001b[39m0\u001b[39m])\n",
      "File \u001b[0;32m~/Desktop/projects/looking_time_models/02_pyGRANCH/granch_utils/init_params_tensor.py:101\u001b[0m, in \u001b[0;36mgranch_params.add_priors\u001b[0;34m(self)\u001b[0m\n\u001b[1;32m     97\u001b[0m \u001b[39mdef\u001b[39;00m \u001b[39madd_priors\u001b[39m(\u001b[39mself\u001b[39m):\n\u001b[1;32m     98\u001b[0m     \u001b[39m# not the most efficient \u001b[39;00m\n\u001b[1;32m     99\u001b[0m     \u001b[39m# but currently do so to avoid misalignment between prior and likelihood\u001b[39;00m\n\u001b[0;32m--> 101\u001b[0m    \u001b[39mself\u001b[39m\u001b[39m.\u001b[39mprior \u001b[39m=\u001b[39m \u001b[39mself\u001b[39m\u001b[39m.\u001b[39mlp_mu_sigma \u001b[39m+\u001b[39m \u001b[39mself\u001b[39;49m\u001b[39m.\u001b[39;49mlp_epsilon\n",
      "\u001b[0;31mAttributeError\u001b[0m: 'granch_params' object has no attribute 'lp_epsilon'"
     ]
    }
   ],
   "source": [
    "importlib.reload(main_sim_tensor)\n",
    "importlib.reload(lesioned_sim)\n",
    "\n",
    "device = 'cuda' if torch.cuda.is_available() else 'cpu'\n",
    "\n",
    "BATCH_INFO = {\n",
    "    \"jitter_n\": 1, \n",
    "    \"total_batch_n\": 1, \n",
    "    \"jitter_mode\": \"sampling\"\n",
    "}\n",
    "\n",
    "GRID_INFO = {\n",
    "    \"grid_mu_start\": -4, \"grid_mu_end\": 4, \"grid_mu_step\": 20, \n",
    "    \"grid_sigma_start\": 0.001, \"grid_sigma_end\": 1.8, \"grid_sigma_step\": 20, \n",
    "    \"grid_y_start\": -4, \"grid_y_end\": 4, \"grid_y_step\": 20, \n",
    "    \"grid_epsilon_start\": 0.001, \"grid_epsilon_end\": 1.8, \"grid_epsilon_step\": 20, \n",
    "    \"hypothetical_obs_grid_n\": 10\n",
    "}\n",
    "\n",
    "\n",
    "BATCH_GRID_INFO = num_stab_help.get_batch_grid(BATCH_INFO, GRID_INFO)\n",
    "\n",
    "PRIOR_INFO = {\n",
    "    \"mu_prior\": 0,  \n",
    "    \"V_prior\": 1, \n",
    "    \"alpha_prior\": 1, \n",
    "    \"beta_prior\": 1, \n",
    "    \"epsilon\": 0.0000000000000000000000000000001, \"mu_epsilon\":0.0000000000000000000000000000001, \"sd_epsilon\": 0.00001, \n",
    "    \"hypothetical_obs_grid_n\": 10, \n",
    "    \"world_EIGs\": 0.0001, \"max_observation\": 500\n",
    "}\n",
    "\n",
    "tensor_stimuli = num_stab_help.sample_spore_experiment(1)\n",
    "\n",
    "tensor_model =  init_model_tensor.granch_model(PRIOR_INFO['max_observation'], tensor_stimuli[0])\n",
    "\n",
    "params = init_params_tensor.granch_params(\n",
    "                grid_mu =  BATCH_GRID_INFO[\"grid_mus\"][0].to(device),\n",
    "                grid_sigma = BATCH_GRID_INFO[\"grid_sigmas\"][0].to(device),\n",
    "                grid_y = BATCH_GRID_INFO[\"grid_ys\"][0].to(device),\n",
    "                grid_epsilon = BATCH_GRID_INFO[\"grid_epsilons\"][0].to(device),\n",
    "                hypothetical_obs_grid_n = PRIOR_INFO[\"hypothetical_obs_grid_n\"], \n",
    "                mu_prior = PRIOR_INFO[\"mu_prior\"],\n",
    "                V_prior = PRIOR_INFO[\"V_prior\"], \n",
    "                alpha_prior = PRIOR_INFO[\"alpha_prior\"], \n",
    "                beta_prior = PRIOR_INFO[\"beta_prior\"],\n",
    "                epsilon  = PRIOR_INFO[\"epsilon\"], \n",
    "                mu_epsilon = PRIOR_INFO[\"mu_epsilon\"], \n",
    "                sd_epsilon = PRIOR_INFO[\"sd_epsilon\"], \n",
    "                world_EIGs = PRIOR_INFO[\"world_EIGs\"],\n",
    "                max_observation = PRIOR_INFO[\"max_observation\"], \n",
    "                forced_exposure_max= np.nan)\n",
    "        \n",
    "            # add the various different cached bits\n",
    "params.add_meshed_grid()\n",
    "params.add_lp_mu_sigma()\n",
    "params.add_y_given_mu_sigma()\n",
    "params.add_lp_epsilon()\n",
    "params.add_priors()\n",
    "\n",
    "#res = main_sim_tensor.granch_main_simulation(params, tensor_model, tensor_stimuli[0])\n",
    "#res = lesioned_sim.granch_no_learning_simulation(params, tensor_model, tensor_stimuli[0])\n",
    "res = lesioned_sim.granch_no_noise_simulation(params, tensor_model, tensor_stimuli[0])\n",
    "\n",
    "print(res.behavior)\n",
    "#main_sim_tensor.granch_main_simulation(PRIOR_INFO, tensor_model, tensor_stimuli)\n"
   ]
  }
 ],
 "metadata": {
  "kernelspec": {
   "display_name": "Python 3",
   "language": "python",
   "name": "python3"
  },
  "language_info": {
   "codemirror_mode": {
    "name": "ipython",
    "version": 3
   },
   "file_extension": ".py",
   "mimetype": "text/x-python",
   "name": "python",
   "nbconvert_exporter": "python",
   "pygments_lexer": "ipython3",
   "version": "3.10.5"
  },
  "orig_nbformat": 4
 },
 "nbformat": 4,
 "nbformat_minor": 2
}
